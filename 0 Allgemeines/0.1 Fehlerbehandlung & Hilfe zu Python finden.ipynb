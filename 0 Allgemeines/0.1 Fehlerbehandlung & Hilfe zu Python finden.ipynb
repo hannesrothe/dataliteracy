{
 "cells": [
  {
   "cell_type": "markdown",
   "metadata": {},
   "source": [
    "# 0.1 Fehlerbehandlung und Hilfe zu Python finden\n",
    "\n",
    "Im Anschluss dieser Übungseinheit kannst du ...\n",
    "+ Fehlermeldungen verstehen\n",
    "+ verschiedene Arten von Fehlermeldungen einordnen\n",
    "+ verschiedene Vorgehensweisen zur Behebung von Fehlermeldungen anwenden\n",
    "+ Hilfe zu Python finden"
   ]
  },
  {
   "cell_type": "markdown",
   "metadata": {},
   "source": [
    "## 1. Aufbau von Fehlermeldungen\n",
    "\n",
    "Fehlermeldungen (Englisch: error messages) helfen dir, deinen Code zu korrigieren. Selbst die erfahrensten Menschen, die beruflich coden, verbringen den größten Teil ihrer Programmierzeit damit, den Fehler-Hinweisen zu folgen und somit ihren Code gemäß der jeweiligen Programmiersprache zu schreiben. Deshalb ist es beim Programmieren wichtig, Fehlermeldungen in erster Linie als Hilfe zu verstehen und sie lesen zu können.  \n",
    "<br>\n",
    "### 1.1 Beispiel 1\n",
    "An einem Beispiel aus der Arithmetik siehst du nun den allgemeinen Aufbau einer Fehlermeldung:"
   ]
  },
  {
   "cell_type": "code",
   "execution_count": 1,
   "metadata": {},
   "outputs": [
    {
     "ename": "ZeroDivisionError",
     "evalue": "division by zero",
     "output_type": "error",
     "traceback": [
      "\u001b[1;31m---------------------------------------------------------------------------\u001b[0m",
      "\u001b[1;31mZeroDivisionError\u001b[0m                         Traceback (most recent call last)",
      "\u001b[1;32m<ipython-input-1-7c9d3862969c>\u001b[0m in \u001b[0;36m<module>\u001b[1;34m\u001b[0m\n\u001b[0;32m      1\u001b[0m \u001b[0ma\u001b[0m \u001b[1;33m=\u001b[0m \u001b[1;36m0\u001b[0m\u001b[1;33m\u001b[0m\u001b[1;33m\u001b[0m\u001b[0m\n\u001b[0;32m      2\u001b[0m \u001b[1;33m\u001b[0m\u001b[0m\n\u001b[1;32m----> 3\u001b[1;33m \u001b[0mprint\u001b[0m\u001b[1;33m(\u001b[0m\u001b[1;36m5\u001b[0m\u001b[1;33m/\u001b[0m\u001b[0ma\u001b[0m\u001b[1;33m)\u001b[0m\u001b[1;33m\u001b[0m\u001b[1;33m\u001b[0m\u001b[0m\n\u001b[0m",
      "\u001b[1;31mZeroDivisionError\u001b[0m: division by zero"
     ]
    }
   ],
   "source": [
    "a = 0\n",
    "\n",
    "print(5/a)"
   ]
  },
  {
   "cell_type": "markdown",
   "metadata": {},
   "source": [
    "<b><font color = darkred, font size = \"3\">Screencast (zusätzlich)</font></b>\n",
    "\n",
    "\n",
    "<b><font color = darkred>ZeroDivisionError</font></b>  \n",
    "Eine Fehlermeldung erscheint in roter Schrift. Diese hier besagt eindeutig, dass es sich bei <font color = darkred>ZeroDivisionError</font> um einen Fehler wegen der Division durch 0 handelt. Es gibt aber auch Fehlermeldungen, die nicht ganz so präzise sind.  \n",
    "<br>\n",
    "<b><font color = slategrey>Traceback (most recent call last)</font></b>  \n",
    "Das heißt: Der Fehler wird bis zu seinem Ursprung verfolgt. Wo dessen Wurzel liegt, erscheint in der Fehlermeldung in den Zeilen darunter. Diese Zeilen (1, 2, 3) beginnen bei der Ursache und enden beim Auslöser. Daran kannst du erkennen, dass es zum Nachvollziehen der Fehlerursache besser ist, Fehlermeldungen von oben nach unten zu lesen.  \n",
    "<br>\n",
    "<b><font color = darkgreen>Rückverfolgung mit Zeilenangabe</font></b>  \n",
    "<font color = darkseagreen>1</font> a = <font color = dodgerblue><b>0</b></font> =>\n",
    "In unserem Fall beginnt der Fehler bei Zeile 1, in welcher die Variable, die zur Fehlermeldung führt, deklariert (benannt) und ihr ein Wert zugewiesen wurde. Der grüne Pfeil <b><font color = darkgreen>----></font></b> zeigt auf den Programmteil, der schließlich den Fehler ausgelöst hat. Bei größeren Programmen kann es mehrere Ursachen und mehrere Auslöser geben.  \n",
    "<br>\n",
    "<b><font color = darkgreen>ipython-input-1-7c9d3862969c></font></font></b> in <font color = SKYBLUE>$<module>$</font>     \n",
    "Diese, über den Zeilenangaben stehende Zeile ist eher bei komplexeren Programmen wichtig zu verstehen, in denen mit Modulen gearbeitet wird. Ansonsten kannst du sie erst einmal ignorieren. Aufgeschlüsselt bedeuten die Angaben:  \n",
    "<br>\n",
    "* <b><font color = darkgreen>ipython-input-1-7c9d3862969c></font></font></b>  \n",
    "    * ipython: ist das Kernel (der Betriebssystemkern), mit welchem Jupyter Notebooks laufen\n",
    "    * input-1-: Zeigt Nummer der Eingabe- bzw. Code-Zelle, in welcher der Fehler aufgetreten ist\n",
    "    * 7c9d3862969c: ist die individuelle Adresse/Referenz des Fehlers (eher irrelevant für die Fehlerbehebung)  \n",
    "<br>\n",
    "* in <font color = SKYBLUE>$<module>$</font>\n",
    "    * bezeichnet das Python-Modul, in welchem der Fehler aufgetreten ist\n",
    "    * da wir hier kein Modul verwenden, erscheint keine namentliche Bezeichnung eines Moduls  \n",
    "    \n",
    "<br>\n",
    "<b><font color = darkred>ZeroDivisionError:</font></b><b><font color = slategrey> division by zero</font></b>  \n",
    "<br>\n",
    "Abschließend wird noch einmal die Art des Fehlers genannt und eine etwas genauere Beschreibung zu dem aufgetrenen Fehler erfolgt. \n",
    "\n",
    "\n",
    "\n",
    "\n",
    "**Doch wie werden wir diese Fehlermeldung jetzt los?**  \n",
    "<br>\n",
    "In der oberen Code-Zelle sollte eine Division mit einer Variablen durchgeführt werden, die leider zu einem Fehler geführt hat. Womöglich hat man sich bei der Eingabe der Zahlen vertippt.  \n",
    "\n",
    "<div class=\"alert alert-block alert-warning\">\n",
    "<font size=\"3\"><b>Übung:</b></font> Schreib den Code so um, dass eine Division ohne die Fehlermeldung (zur Division durch null) ausgeführt werden kann.\n",
    "</div>"
   ]
  },
  {
   "cell_type": "code",
   "execution_count": 2,
   "metadata": {},
   "outputs": [
    {
     "ename": "ZeroDivisionError",
     "evalue": "division by zero",
     "output_type": "error",
     "traceback": [
      "\u001b[1;31m---------------------------------------------------------------------------\u001b[0m",
      "\u001b[1;31mZeroDivisionError\u001b[0m                         Traceback (most recent call last)",
      "\u001b[1;32m<ipython-input-2-7c9d3862969c>\u001b[0m in \u001b[0;36m<module>\u001b[1;34m\u001b[0m\n\u001b[0;32m      1\u001b[0m \u001b[0ma\u001b[0m \u001b[1;33m=\u001b[0m \u001b[1;36m0\u001b[0m\u001b[1;33m\u001b[0m\u001b[1;33m\u001b[0m\u001b[0m\n\u001b[0;32m      2\u001b[0m \u001b[1;33m\u001b[0m\u001b[0m\n\u001b[1;32m----> 3\u001b[1;33m \u001b[0mprint\u001b[0m\u001b[1;33m(\u001b[0m\u001b[1;36m5\u001b[0m\u001b[1;33m/\u001b[0m\u001b[0ma\u001b[0m\u001b[1;33m)\u001b[0m\u001b[1;33m\u001b[0m\u001b[1;33m\u001b[0m\u001b[0m\n\u001b[0m",
      "\u001b[1;31mZeroDivisionError\u001b[0m: division by zero"
     ]
    }
   ],
   "source": [
    "a = 0\n",
    "\n",
    "print(5/a)"
   ]
  },
  {
   "cell_type": "markdown",
   "metadata": {},
   "source": [
    "<br>\n",
    "<div class=\"alert alert-block alert-info\">\n",
    "<font size=\"3\"><b>Tipp:</b></font> Im Zusammenhang mit Fehlermeldungen wirst du im Web oft die englische Phrase \"throws an error\" finden. Sie wird verwendet, wenn Code einen Fehler auslöst, also \"code xy throws an error\".  Übersetzt wird das mit: \"Code XY wirft einen Fehler.\"  \n",
    "Auch, wenn das im Deutschen ungewöhnlich klingt, wird es im Fachjargon so genannt.\n",
    "</div>  \n",
    "<br>\n",
    "\n",
    "### 1.2 Beispiel 2\n",
    "Das nächste Beispiel wirft einen Syntaxfehler. Das ist ein Fehler, der aufgrund fehlender oder falsch gesetzter Zeichen entsteht:"
   ]
  },
  {
   "cell_type": "code",
   "execution_count": 3,
   "metadata": {},
   "outputs": [
    {
     "ename": "SyntaxError",
     "evalue": "unexpected EOF while parsing (<ipython-input-3-56ada56225c1>, line 1)",
     "output_type": "error",
     "traceback": [
      "\u001b[1;36m  File \u001b[1;32m\"<ipython-input-3-56ada56225c1>\"\u001b[1;36m, line \u001b[1;32m1\u001b[0m\n\u001b[1;33m    print(5\u001b[0m\n\u001b[1;37m           ^\u001b[0m\n\u001b[1;31mSyntaxError\u001b[0m\u001b[1;31m:\u001b[0m unexpected EOF while parsing\n"
     ]
    }
   ],
   "source": [
    "print(5"
   ]
  },
  {
   "cell_type": "markdown",
   "metadata": {},
   "source": [
    "<b><font color = darkred, font size = \"3\">Screencast (zusätzlich)</font></b>\n",
    "\n",
    "**Gehen wir den Aufbau dieser Fehlermeldung durch:**  \n",
    "<br>\n",
    "<font color = dodgerblue><b>File </font></b><b><font color = darkgreen>ipython-input-3-56ada56225c1</font></b>  <font color = dodgerblue>, line</font><b><font color = darkgreen> 1</font></b> \n",
    "* File heißt auf Deutsch Datei\n",
    "* ipython: ist (wie in vorheriger Fehlermeldung) das Kernel (der Betriebssystemkern), mit welchem Jupyter Notebooks laufen\n",
    "* input-3-: zeigt (wie in vorheriger Fehlermeldung) die Nummer der Eingabe- bzw. Code-Zelle, in welcher der Fehler aufgetreten ist\n",
    "* 56ada56225c1: ist die individuelle Adresse/Referenz des Fehlers (eher irrelevant für die Fehlerbehebung)\n",
    "* line 1: in Zeile 1 der Code-Zelle ist der Fehler aufgetreten\n",
    "\n",
    "<b><font color = darkgoldenrod>print(5</font></b> - und Aufwärtspfeil - </b><b><font color = slategrey>^</font></b>  \n",
    "Das ist die Abbildung der fehlerbehafteten Zeile.Der Aufwärtspfeil zeigt auf die Stelle, welche die Fehlermeldung auslöst. **Achtung:** Bei mehreren Syntax-Fehlern wird meistens nur einer angezeigt und der Aufwärtspfeil muss dann nicht unbedingt an einer der fehlerhaften Stellen stehen.  \n",
    "<br>\n",
    "<b><font color = darkred>SyntaxError</font></b>  \n",
    "Das ist die Bezeichnung des Fehlers. An dieser Stelle könnten auch andere Arten von Fehlern stehen, wie z.B. <b><font color = darkred>FileError</font></b>. Syntaxfehler sind, wie oben kurz erwähnt, Fehler, die durch falsche oder fehlende Zeicheneingaben hervorgerufen werden. Zu den Zeichen zählen Buchstaben, Zahlen, Kommas usw. Alles, was du auf deiner Tastatur findest und das Zeichen auf dem Bildschirm abbildet, gehört zu ihnen. Sie sind die wohl am häufigsten auftretenden Fehler, die oft simpler Schusseligkeit geschuldet sind.     \n",
    "<br>\n",
    "<b><font color = slategrey>unexpected EOF while parsing</font></b>  \n",
    "**EOF** heißt: <b>E</b>nd <b>O</b>f <b>F</b>ile, das Ende der Datei (des ausgeführten Code-Blocks,hier: der Code-Zelle) wurde erreicht. Komplett übersetzt lautet die Zeile: \"Unerwartes Ende des Code-Blocks, während er durchlaufen wurde\". Das Ende deines Codes wurde erreicht, bevor der Code erfolgreich ausgeführt werden konnte.    \n",
    "<br>\n",
    "\n",
    "**Was bedeutet das nun alles zusammen?**  \n",
    "<br>\n",
    "Offenbar befindet sich innerhalb des Codes ein Syntaxfehler - und zwar an der Stelle nach der <b><font color = darkgoldenrod>5</font></b>. Sollte dir das Print-Statement nicht bereits aus vorherigen Lektionen bekannt sein, kannst du trotzdem darauf kommen, welches Zeichen fehlt, um eine korrekte Ausgabe zu erhalten. Überlege, was zu jeder sich öffnenden Klammer gehört, sowohl in der geschriebenen Sprache als auch in der Mathematik in Gleichungen.  \n",
    "\n",
    "<div class=\"alert alert-block alert-warning\">\n",
    "<font size=\"3\"><b>Übung:</b></font> Korrigiere den Code, sodass der Fehler verschwindet.\n",
    "</div>"
   ]
  },
  {
   "cell_type": "code",
   "execution_count": 4,
   "metadata": {},
   "outputs": [
    {
     "ename": "SyntaxError",
     "evalue": "unexpected EOF while parsing (<ipython-input-4-56ada56225c1>, line 1)",
     "output_type": "error",
     "traceback": [
      "\u001b[1;36m  File \u001b[1;32m\"<ipython-input-4-56ada56225c1>\"\u001b[1;36m, line \u001b[1;32m1\u001b[0m\n\u001b[1;33m    print(5\u001b[0m\n\u001b[1;37m           ^\u001b[0m\n\u001b[1;31mSyntaxError\u001b[0m\u001b[1;31m:\u001b[0m unexpected EOF while parsing\n"
     ]
    }
   ],
   "source": [
    "print(5"
   ]
  },
  {
   "cell_type": "markdown",
   "metadata": {},
   "source": [
    "### 1.3 Beispiel 3\n",
    "Das nächste Beispiel löst einen Typfehler aus. Dieser entsteht, wenn Typen von Daten im Code miteinander kalkuliert werden, die nicht zusammenpassen. Ein anderes Beispiel hierfür wäre, würde man Buchstaben durch Zahlen teilen. Schaue dir ein weiteres Beispiel unten an:"
   ]
  },
  {
   "cell_type": "code",
   "execution_count": 5,
   "metadata": {},
   "outputs": [
    {
     "ename": "TypeError",
     "evalue": "unsupported operand type(s) for -: 'tuple' and 'float'",
     "output_type": "error",
     "traceback": [
      "\u001b[1;31m---------------------------------------------------------------------------\u001b[0m",
      "\u001b[1;31mTypeError\u001b[0m                                 Traceback (most recent call last)",
      "\u001b[1;32m<ipython-input-5-95172627003a>\u001b[0m in \u001b[0;36m<module>\u001b[1;34m\u001b[0m\n\u001b[0;32m      3\u001b[0m \u001b[0mb\u001b[0m \u001b[1;33m=\u001b[0m \u001b[1;36m1.5\u001b[0m\u001b[1;33m\u001b[0m\u001b[1;33m\u001b[0m\u001b[0m\n\u001b[0;32m      4\u001b[0m \u001b[1;33m\u001b[0m\u001b[0m\n\u001b[1;32m----> 5\u001b[1;33m \u001b[0ma\u001b[0m\u001b[1;33m-\u001b[0m\u001b[0mb\u001b[0m\u001b[1;33m\u001b[0m\u001b[1;33m\u001b[0m\u001b[0m\n\u001b[0m",
      "\u001b[1;31mTypeError\u001b[0m: unsupported operand type(s) for -: 'tuple' and 'float'"
     ]
    }
   ],
   "source": [
    "a = 2,3\n",
    "\n",
    "b = 1.5\n",
    "\n",
    "a-b"
   ]
  },
  {
   "cell_type": "markdown",
   "metadata": {},
   "source": [
    "<b><font color = darkred, font size = \"3\">Screencast (zusätzlich)</font></b>\n",
    "\n",
    "**Der Aufbau dieser Fehlermeldung ähnelt der aus Beispiel 1:**  \n",
    "<br>\n",
    "<b><font color = darkred>TypeError</font></b>  \n",
    "Es liegt ein Fehler bezüglich verschiedener Datentypen vor.  \n",
    "<br>\n",
    "<b><font color = slategrey>Traceback (most recent call last)</font></b>  \n",
    "Der Fehler wird wieder bis zu seinem Ursprung verfolgt. Das kannst du in den darunter folgenden Zeilen genauer nachlesen.  \n",
    "<br>\n",
    "<b><font color = darkgreen>Rückverfolgung mit Zeilenangabe</font></b>  \n",
    "<font color = darkseagreen>3</font> b = <font color = dodgerblue><b>1.5</b></font> =>\n",
    "In unserem Fall beginnt der Fehler bei Zeile 3, bei der Variable **b** bzw. ihres Wertes. Der grüne Pfeil <b><font color = darkgreen>----></font></b> zeigt wieder auf den Programmteil, der schließlich den Fehler ausgelöst hat:  \n",
    "<br>\n",
    "a <b><font color = darkgoldenrod>- </font></b>b  \n",
    "<br>\n",
    "Bei genauerem Hinsehen in der Fehlermeldung erkennst du, dass das Minuszeichen in einer speziellen Farbe dargestellt ist, um dich darauf hinzuweisen, dass es bei dieser mathematischen Operation zu dem Fehler kam.  \n",
    "<br>\n",
    "\n",
    "<b><font color = darkgreen>ipython-input-5-7c9d3862969c></font></font></b> in <font color = SKYBLUE>$<module>$</font>     \n",
    "Dieser Teil ist analog zu den vorherigen Beispielen. Die Zahl nach \"input\" ist die Nummer der fehlerhaften Code-Zelle.  \n",
    "<br>\n",
    "\n",
    "<b><font color = darkred>TypeError:</font></b><b><font color = slategrey> unsupported operand type(s) for -: 'tuple' and 'float'</font></b>  \n",
    "Abschließend wird noch einmal die Art des Fehlers genannt und eine etwas genauere Beschreibung zu dem aufgetrenen Fehler erfolgt. Auf Deutsch übersetzt lautet sie: \"Nicht unterstützte Datentypen für '-': 'Tuple' und 'Float'\". Hier konnte der Datentyp Tuple nicht mit dem Datentyp Float subtrahiert werden. Was sind diese Datentypen?\n",
    "* <b><font color = slategrey>Tuple</font></b>\n",
    "    * eine Anreihung von geordneten Werten, die nicht mehr veränderbar ist\n",
    "    * Beispiel 1: reihe_1 = (\"Affe\", \"Bison\", \"Chamäleon\")\n",
    "    * diese Werte sind alphabetisch geordnet und werden im weiteren Programmverlauf nicht mehr geändert\n",
    "    * Beispiel 2: reihe_2 = (11, 22, 103, 477)\n",
    "    * diese Werte sind numerisch geordnet\n",
    "    * die Werte der Reihen sind stets eingeklammert und mit einem Komma getrennt  \n",
    "<br>\n",
    "* <b><font color = slategrey>Float</font></b>\n",
    "    * \"Float\" steht für Fließkommazahlen\n",
    "    * das sind Zahlen, die Nachkommastellen enthalten, wie: 1,23 und 1688,01234\n",
    "    * sie sind das Gegenstück zu Ganzzahlen, wie: 1 und 1688\n",
    "    * **Achtung:** Im Englischen werden Fließkommazahlen mit einem Punkt geschrieben, wie: 1.23 und 1688.01234  \n",
    "    \n",
    "<br>\n",
    "\n",
    "\n",
    "**Langsam kommen wir der Sache näher! Welches davon ist nun Variable a, welches Variable b?**  \n",
    "<br>\n",
    "Um diese Frage zu beantworten, können wir uns strikt an die Reihenfolge der Nennung der Datentypen in der Fehlermeldung halten. Dort erscheint zuerst <b><font color = slategrey>'Tuple'</font></b>, dann <b><font color = slategrey>'Float'</font></b>. Also muss Variable <b>a</b> als Tuple erkannt worden sein und Variable <b>b</b> als Float. Außerdem weißt du jetzt bereits, dass Floats die Zahlen sein müssen, deren Nachkommastellen mit einem Punkt von der ganzen Zahl getrennt sind. Demzufolge kann nur <b>b</b> ein Float sein.  \n",
    "<br>\n",
    "\n",
    "**Kommst du auf des Rätsels Lösung?**  \n",
    "<br>\n",
    "Weil die Werte von Variable <b>a</b> mit einem Komma getrennt sind und sie eine geordnete Reihe darstellen, muss Python sie als Tuple erkannt haben. Die Klammern waren hierfür nicht nötig. Weil Python <b>a</b> als Tuple erkannt hat, war bis dahin alles in Ordnung für Python, denn der Datentyp Tuple existiert ja und ist zulässig. Schwierig wurde es erst in Zeile 3, als der Datentyp Float auftauchte. Schließlich sollte eine Reihe mit einer Fließkommazahl verrechnet werden. Genauer gesagt, eine Reihe, bestehend aus 2 und 3 sollte minus 1,5 gerrechnet werden.  \n",
    "<br>\n",
    "<div class=\"alert alert-block alert-info\">\n",
    "<font size=\"3\"><b>Tipp:</b></font> Daran merkst du, dass man Fehlermeldungen genau von Anfang bis Ende lesen sollte. Denn auf den ersten Blick sah es so aus, als würde der Fehler bei Variable <b>b</b> in Zeile 3 liegen. Erst der Hinweis ganz unten hat offenbart, dass die Verrechnung von Tuple mit Float für Python unmöglich ist.\n",
    "</div>  \n",
    "<br>\n",
    "\n",
    "Möchtest du mehr über Datentypen wissen, findest du detailliertere Informationen dazu in Kapitel \"3.1 Python als Taschenrechner\". \n",
    "\n",
    "<div class=\"alert alert-block alert-warning\">\n",
    "<font size=\"3\"><b>Übung:</b></font> Schreib den Code so um, dass die Berechnung fehlerfrei ausgeführt wird.\n",
    "</div>"
   ]
  },
  {
   "cell_type": "code",
   "execution_count": 6,
   "metadata": {},
   "outputs": [
    {
     "ename": "TypeError",
     "evalue": "unsupported operand type(s) for -: 'tuple' and 'float'",
     "output_type": "error",
     "traceback": [
      "\u001b[1;31m---------------------------------------------------------------------------\u001b[0m",
      "\u001b[1;31mTypeError\u001b[0m                                 Traceback (most recent call last)",
      "\u001b[1;32m<ipython-input-6-95172627003a>\u001b[0m in \u001b[0;36m<module>\u001b[1;34m\u001b[0m\n\u001b[0;32m      3\u001b[0m \u001b[0mb\u001b[0m \u001b[1;33m=\u001b[0m \u001b[1;36m1.5\u001b[0m\u001b[1;33m\u001b[0m\u001b[1;33m\u001b[0m\u001b[0m\n\u001b[0;32m      4\u001b[0m \u001b[1;33m\u001b[0m\u001b[0m\n\u001b[1;32m----> 5\u001b[1;33m \u001b[0ma\u001b[0m\u001b[1;33m-\u001b[0m\u001b[0mb\u001b[0m\u001b[1;33m\u001b[0m\u001b[1;33m\u001b[0m\u001b[0m\n\u001b[0m",
      "\u001b[1;31mTypeError\u001b[0m: unsupported operand type(s) for -: 'tuple' and 'float'"
     ]
    }
   ],
   "source": [
    "a = 2,3\n",
    "\n",
    "b = 1.5\n",
    "\n",
    "a-b"
   ]
  },
  {
   "cell_type": "markdown",
   "metadata": {},
   "source": [
    "Nun kennst du den allgemeinen Aufbau jeder Fehlermeldung. Du kannst dich an diesem Wissen immer wieder orientieren und diesen Warnhinweisen damit ihre kryptische vermeintliche Bedrohung nehmen.  Anhand dieses logischen Aufbaus kannst du erkennen, dass sie in erster Linie dazu da sind, dich beim Programmieren zu unterstützen.  \n",
    "<br>\n",
    "\n",
    "## 2. Hilfe finden\n",
    "Wenn man neu im Feld des Programmierens ist, erscheinen einige Fehlermeldungen nicht gerade selbsterklärend. Doch es gibt Hilfe! Die bestmöglichen Quellen für Hilfe - neben menschlicher Hilfe und Google im Allgemeinen - sind ...  \n",
    "<br>\n",
    "#### 2. a) Stackoverflow\n",
    "Besonders beliebt bei Menschen, die sich mit Programmieren befassen, ist die Seite [https://stackoverflow.com/](Hidden_landing_URL). Dort helfen diese sich untereinander und du kannst oftmals wertvolle Tipps erhalten, welche auf anderen Seiten nicht zu finden sind. Auf stackoverflow sagen zum Beispiel andere Folgendes zu der Fehlermeldung <b><font color = darkred>ZeroDivisionError</font></b>  :\n",
    "[https://stackoverflow.com/questions/29836964/error-python-zerodivisionerror-division-by-zero](Hidden_landing_URL)\n",
    "\n",
    "Eine Anmeldung brauchst du für stackoverflow nur, wenn du selbst eine Frage stellen möchtest. Für die gängigsten Fragen wird das nicht nötig sein.  \n",
    "<br>\n",
    "#### 2. b) Python-Dokumentation\n",
    "Auch die Python-Dokumentation ist eine gute Anlaufstelle, wenn du mal nicht weißt, wie du etwas umsetzen und/oder mit einer Aufgabenstellung weiterkommen kannst: [https://www.python.org/doc/](Hidden_landing_URL)  \n",
    "<br>\n",
    "#### 2. c) Interne Hilfe\n",
    "Nicht zu vergessen, in einem Jupyter Notebook oder einer anderen IDE (siehe folgenden Tipp) kannst du immer mit einem Fragezeichen hinter einer Variable, Funktion und ähnlichem nähere Informationen zu ihr erhalten. Dies am Beispiel einer Funktion:\n",
    "``type?``\n",
    "\n",
    "\n",
    "<div class=\"alert alert-block alert-info\">\n",
    "<font size=\"3\"><b>Tipp:</b></font> Eine IDE (Integrated Development Environment) ist eine integrierte Entwicklungsumgebung zum Coden. Sie bietet einem verschiedene Werkzeuge und zusätzliche Hilfsmittel, die das Programmieren erleichtern. Bekannte Beispiele sind PyCharm, Eclipse und Visual Studio Code. Diese unterscheiden sich von Jupyter Notebook besonders darin, dass sie nicht im Browser laufen und Programme nicht auf einzelne Zellen verteilt sind.\n",
    "<br>\n",
    "    \n",
    "Sie stehen kostenlos zur Verfügung. Bei Interesse kannst du sie also selbst ausprobieren. PyCharm ist die gängigste IDE für Python.\n",
    "</div>\n",
    "<br>\n",
    "\n",
    "<div class=\"alert alert-block alert-warning\">\n",
    "<font size=\"3\"><b>Übung:</b></font> Probier das am besten mal selbst aus. Merke dir dabei, dass Funktionen, wie .z.B. <b>type()</b>, ohne die runden Klammern geschrieben werden, wenn für sie die interne Hilfe aufgerufen werden soll.\n",
    "</div>"
   ]
  },
  {
   "cell_type": "code",
   "execution_count": null,
   "metadata": {},
   "outputs": [],
   "source": []
  },
  {
   "cell_type": "markdown",
   "metadata": {},
   "source": [
    "<div class=\"alert alert-block alert-success\">\n",
    "<b>Klasse!</b> Jetzt weißt du, dass eine Fehlermeldung wissenswerte und hilfreiche Informationen enthält, mit denen du Code-Hürden überwinden kannst.  \n",
    "<br>\n",
    "\n",
    "Welche Arten es davon gibt, darum geht es im folgenden Teil:"
   ]
  },
  {
   "cell_type": "markdown",
   "metadata": {},
   "source": [
    "## 3. Arten von Fehlermeldungen\n",
    "\n",
    "Wie du wahrscheinlich bereits festgestellt hast, gibt es viele verschiedene Arten von Fehlermeldungen. Wir gehen nur die für dich im Moment wichtigsten durch, denn mit den Fehlern, die für den späteren Kursverlauf relevant sind, wirst du dann auch besser zurechtkommen.\n",
    "\n",
    "Die häufigsten Fehlermeldungen sind - einen davon hast du schon kennengelernt:\n",
    "* SyntaxError = Zeichenfehler (vergessene Klammer, fehlende Anführungszeichen sowie Gedankenstriche (bei Text/Strings) etc.\n",
    "* NameError = falsch eingegebener oder nicht existenter Variablenname  \n",
    "<br>\n",
    "\n",
    "### 3.1  Syntaxfehler\n",
    "\n",
    "In der unteren Code-Zelle siehst du einen Syntaxfehler. Wenn du bereits das Kapitel \"3.3 Namenskonventionen, Strings und Characters\" durchgegangen bist, wirst du wahrscheinlich sofort wissen, was hier zu tun ist. Jegliche Art von Text, das ist der Datentyp <b>String</b>, wird innerhalb von Python in Anführungsstriche gesetzt, bevorzugt in einfache Anführungsstriche. Kannst du mit diesem Wissen die Fehlermeldung verschwinden lassen?\n",
    "\n",
    "<div class=\"alert alert-block alert-warning\">\n",
    "<font size=\"3\"><b>Übung:</b></font> Kopiere die Code aus der hier darunterliegenden Zelle in die nächste und korrigiere ihn dort.\n",
    "</div>"
   ]
  },
  {
   "cell_type": "code",
   "execution_count": 5,
   "metadata": {},
   "outputs": [
    {
     "ename": "SyntaxError",
     "evalue": "invalid syntax (<ipython-input-5-7ce623f17da8>, line 1)",
     "output_type": "error",
     "traceback": [
      "\u001b[1;36m  File \u001b[1;32m\"<ipython-input-5-7ce623f17da8>\"\u001b[1;36m, line \u001b[1;32m1\u001b[0m\n\u001b[1;33m    print(Ich kann Fehlermeldungen beheben.)\u001b[0m\n\u001b[1;37m                 ^\u001b[0m\n\u001b[1;31mSyntaxError\u001b[0m\u001b[1;31m:\u001b[0m invalid syntax\n"
     ]
    }
   ],
   "source": [
    "print(Ich kann Fehlermeldungen beheben.)"
   ]
  },
  {
   "cell_type": "code",
   "execution_count": null,
   "metadata": {},
   "outputs": [],
   "source": []
  },
  {
   "cell_type": "markdown",
   "metadata": {},
   "source": [
    "### 3.2  Namensfehler\n",
    "\n",
    "Namensfehler bzw. NameErrors können verschiedene Ursachen haben:\n",
    "* ein Variablenname wurde nicht definiert. Die Variable xistiert somit nicht, da sie nicht deklariert (= benannt) wurde\n",
    "* der Variablenname wurde falsch geschrieben. Dazu zählt nicht nur, wenn ein Buchstabe vergessen oder falsch geschrieben wurde, sondern auch, falls er nicht genau so mit Klein- und Großbuchstaben geschrieben wurde, wie bei der Deklaration (= Benennung) der Variable. Python ist \"case-sensitive\" -  die Groß- und Kleinschreibung muss beachtet werden.\n",
    "\n",
    "<div class=\"alert alert-block alert-warning\">\n",
    "<font size=\"3\"><b>Übung:</b></font> Kopiere die Codes aus den hier darunterliegenden Zellen und korrigiere sie in der jeweils nächsten Zelle.\n",
    "</div>"
   ]
  },
  {
   "cell_type": "code",
   "execution_count": 3,
   "metadata": {},
   "outputs": [
    {
     "ename": "NameError",
     "evalue": "name 'j' is not defined",
     "output_type": "error",
     "traceback": [
      "\u001b[1;31m---------------------------------------------------------------------------\u001b[0m",
      "\u001b[1;31mNameError\u001b[0m                                 Traceback (most recent call last)",
      "\u001b[1;32m<ipython-input-3-f89633c325b2>\u001b[0m in \u001b[0;36m<module>\u001b[1;34m\u001b[0m\n\u001b[0;32m      2\u001b[0m \u001b[1;31m# Mit welchem Wert es existiert, spielt dabei keine Rolle.\u001b[0m\u001b[1;33m\u001b[0m\u001b[1;33m\u001b[0m\u001b[1;33m\u001b[0m\u001b[0m\n\u001b[0;32m      3\u001b[0m \u001b[1;33m\u001b[0m\u001b[0m\n\u001b[1;32m----> 4\u001b[1;33m \u001b[0mprint\u001b[0m\u001b[1;33m(\u001b[0m\u001b[0mj\u001b[0m\u001b[1;33m)\u001b[0m\u001b[1;33m\u001b[0m\u001b[1;33m\u001b[0m\u001b[0m\n\u001b[0m",
      "\u001b[1;31mNameError\u001b[0m: name 'j' is not defined"
     ]
    }
   ],
   "source": [
    "# Tipp zu dieser fehlerhaften Zelle: Es kann nicht ausgegeben werden, das nicht existiert.\n",
    "# Mit welchem Wert es existiert, spielt dabei keine Rolle.\n",
    "\n",
    "print(j)"
   ]
  },
  {
   "cell_type": "code",
   "execution_count": null,
   "metadata": {},
   "outputs": [],
   "source": []
  },
  {
   "cell_type": "code",
   "execution_count": 8,
   "metadata": {},
   "outputs": [
    {
     "ename": "NameError",
     "evalue": "name 'god' is not defined",
     "output_type": "error",
     "traceback": [
      "\u001b[1;31m---------------------------------------------------------------------------\u001b[0m",
      "\u001b[1;31mNameError\u001b[0m                                 Traceback (most recent call last)",
      "\u001b[1;32m<ipython-input-8-3c213490f686>\u001b[0m in \u001b[0;36m<module>\u001b[1;34m\u001b[0m\n\u001b[0;32m      1\u001b[0m \u001b[0mdog\u001b[0m \u001b[1;33m=\u001b[0m \u001b[1;34m'Bello'\u001b[0m\u001b[1;33m\u001b[0m\u001b[1;33m\u001b[0m\u001b[0m\n\u001b[1;32m----> 2\u001b[1;33m \u001b[0mprint\u001b[0m\u001b[1;33m(\u001b[0m\u001b[0mgod\u001b[0m\u001b[1;33m)\u001b[0m\u001b[1;33m\u001b[0m\u001b[1;33m\u001b[0m\u001b[0m\n\u001b[0m",
      "\u001b[1;31mNameError\u001b[0m: name 'god' is not defined"
     ]
    }
   ],
   "source": [
    "dog = 'Bello'\n",
    "print(god)"
   ]
  },
  {
   "cell_type": "code",
   "execution_count": null,
   "metadata": {},
   "outputs": [],
   "source": []
  },
  {
   "cell_type": "markdown",
   "metadata": {},
   "source": [
    "<div class=\"alert alert-block alert-info\">\n",
    "<h3>Tipp zur Anwendung von Variablennamen:</h3>\n",
    "\n",
    "Wenn du mit vielen Variablen arbeitest, kannst du die **Tabulator-Taste** zur Auto-Vervollständigung von Variablen nutzen.\n",
    "* Klicke dazu, zum Beispiel in den Klammern eines Print-Befehls, die Tabulator-Taste.\n",
    "* Daraufhin öffnet sich ein Drop-Down-Menü, das du mit den Pfeiltasten oder dem Mausrad durchblättern kannst. Dort sind alle verfügbaren Variablennamen gespeichert.\n",
    "* Je mehr richtige Anfangsbuchstaben du von deiner Variable eingibst, desto mehr verringert sich die Auswahl dieses Menüs und desto eher wird dein Variablenname weiter oben in der Liste auftauchen.\n",
    "</div>\n",
    "\n",
    "<div class=\"alert alert-block alert-warning\">\n",
    "<font size=\"3\"><b>Übung:</b></font> Probier das am besten selbst mit verschiedenen Längen eines Variablennamens aus. Fang am besten an mit <b>print(p)</b> und dann <b>print(py)</b>. Du kannst die untere Zelle dafür nutzen.\n",
    "</div>"
   ]
  },
  {
   "cell_type": "code",
   "execution_count": 11,
   "metadata": {},
   "outputs": [
    {
     "name": "stdout",
     "output_type": "stream",
     "text": [
      "\n"
     ]
    }
   ],
   "source": [
    "snake = 'Python'\n",
    "print()"
   ]
  },
  {
   "cell_type": "markdown",
   "metadata": {},
   "source": [
    "## 4. Semantische Fehler\n",
    "\n",
    "Nicht immer weist eine Fehlermeldung dich auf Fehler in deinem Programm hin. Semantische Fehler sind solche, die einem logischen Denkfehler zugrunde liegen. Ein Beispiel hierfür sind falsche Berechnungen.\n",
    "Python kann nur Fehler erkennen, die innerhalb der Programmiersprache liegen. Darüber hinaus ist deine Aufmerksamkeit gefragt.  \n",
    "<br>\n",
    "**Wie kannst du semantische Fehler vermeiden?**  \n",
    "* Geh die dir gestellte Aufgabe systematisch durch, Punkt für Punkt.\n",
    "* Grundsätzlich ist es immer eine gute Idee, Papier und Stift zur Hand zu nehmen und die Herangehensweise zu ihrer Lösung in logisch aneinandergereihten Schritten aufzuschreiben.\n",
    "* Skizziere dir die Abläufe, insbesondere, wenn einzelne Aufgabenpunkte sich überschneiden.\n",
    "* Fang erst an, den Code zu schreiben, nachdem du dir über den Ablauf zur Erfüllung der Aufgabe im Klaren bist.\n",
    "* Solltest du während des Programmierens auf Hürden stoßen, geh einen oder mehrere Schritte zurück, um dir klarzumachen, was die Aufgabe fordert und was du wie bisher davon umgesetzt hast (auch das wird auf Papier meistens übersichtlicher).\n",
    "* Frag dich während des Programmierens:\n",
    "    * Habe ich an alles gedacht?\n",
    "    * Stimmt die Reihenfolge meines Programms?\n",
    "    * Habe ich mich zuvor ausreichend über die theoretischen Hintergründe meiner Programmelemente informiert (Fachwissen)?\n",
    "    * Habe ich die richtigen Elemente, Funktionen, Formeln und Datenstrukturen (das sind sozusagen Sammlungen von Variablen) verwendet?\n",
    "    * Ergeben die Resultate Sinn?\n",
    "* Teste dein Programm! \n",
    "    * Hierzu bieten größere IDEs einen Debug-Modus. Du kannst auch ohne Debug-Modus dein Programm testen, indem du verschiedene Werte in den Variablen ausprobierst. Das hilft dir, zu erkennen, ob dein Programm zu logischen Ergebnissen führt.\n",
    "    * Lass dir auch Zwischenergebnisse anzeigen, denn Fehler in ihnen führen zu Fehlern im finalen Ergebnis.\n",
    "* Zeig dein Programm jemand anderem. Vier Augen sehen mehr als zwei.\n",
    "<br>\n",
    "\n",
    "\n",
    "**Schau dir die folgende Rechnung zur Berechnung des ROI an (Return on Investment):**\n",
    "\n",
    "<div class=\"alert alert-block alert-info\">\n",
    "<font size=\"3\"><b>Tipp:</b></font> ROI gibt an, wie hoch die Einnahmen im Vergleich zu den Ausgaben waren (in Prozent).\n",
    "</div>\n",
    "<br>\n"
   ]
  },
  {
   "cell_type": "code",
   "execution_count": 2,
   "metadata": {},
   "outputs": [
    {
     "data": {
      "text/plain": [
       "0.8506"
      ]
     },
     "execution_count": 2,
     "metadata": {},
     "output_type": "execute_result"
    }
   ],
   "source": [
    "total_revenue = 5000\n",
    "total_cost = 747\n",
    "\n",
    "roi = (total_revenue - total_cost) / total_revenue\n",
    "\n",
    "roi"
   ]
  },
  {
   "cell_type": "markdown",
   "metadata": {},
   "source": [
    "\"total_revenue\" bezeichnet die Gesamteinnahmen, \"total_cost\" die Gesamtausgaben.\n",
    "Die Einnahmen betrugen also 85,06% der Ausgaben. Sie sollen also angeblich die Ausgaben nicht einmal zu 100% gedeckt haben. Macht das Sinn?  \n",
    "<br>\n",
    "<div class=\"alert alert-block alert-info\">\n",
    "<font size=\"3\"><b>Tipp:</b></font> In Jupyter Notebooks sind abgespeicherte Werte, wie z.B. total_cost = 747, fest abgespeichert, sobald die Code-Zelle ausgeführt wurde, in der sie hinterlegt wurden. Möchtest du mit dieser Variablen in einer anderen Code-Zelle darunter weiterarbeiten, brauchst du sie nicht erneut in der weiteren Code-Zelle anlegen. Einmal ausgeführt, ist sie für alle darunterliegenden Code-Zellen als z.B. total_cost verfügbar.\n",
    "</div>\n",
    "<br>\n",
    "\n",
    "\n",
    "<div class=\"alert alert-block alert-warning\">\n",
    "<font size=\"3\"><b>Übung:</b></font> Was ist an dieser Berechnung falsch? Korrigiere es, indem du die fehlerhafte Berechnung in der darunterliegenden, leeren Code-Zelle korrigierst. Solltest du nicht weiter wissen - das gilt für fast alle Schwierigkeiten - such im Internet nach der Herangehensweise anderer, in diesem Fall zur Berechnung des ROIs.\n",
    "</div>"
   ]
  },
  {
   "cell_type": "code",
   "execution_count": 5,
   "metadata": {},
   "outputs": [
    {
     "data": {
      "text/plain": [
       "0.8506"
      ]
     },
     "execution_count": 5,
     "metadata": {},
     "output_type": "execute_result"
    }
   ],
   "source": [
    "total_revenue = 5000\n",
    "total_cost = 747\n",
    "\n",
    "roi = (total_revenue - total_cost) / total_revenue\n",
    "\n",
    "roi"
   ]
  },
  {
   "cell_type": "code",
   "execution_count": null,
   "metadata": {},
   "outputs": [],
   "source": []
  },
  {
   "cell_type": "markdown",
   "metadata": {},
   "source": [
    "<div class=\"alert alert-block alert-success\">\n",
    "<b>Prima!</b> Die gängigsten Fehlermeldungen sind dir nun vertraut und auch, wie du sie beheben kannst.  \n",
    "<br>\n",
    "    \n",
    "Es gibt noch eine andere Möglichkeit, Code zu debuggen (mit \"debuggen\" wird der Vorgang bezeichnet, in welchem man den Code fehlerfrei macht):"
   ]
  },
  {
   "cell_type": "markdown",
   "metadata": {},
   "source": [
    "## 5. Fehler über Kommentare ausklammern\n",
    "\n",
    "Es kann vorkommen, dass Code größtenteils korrekt ist, aber eine einzige Zeile darin nicht. Woher sollst du wissen, ob es nicht mehrere Fehler, auch im restlichen Code gibt?  \n",
    "<br>\n",
    "Dafür gibt es einen Trick, den du eigentlich schon kennst: Setze Kommentare ein!  \n",
    "<br>\n",
    "<b>Einzeilige</b> Kommentare beginnen mit: ``# Kommentar``  \n",
    "<br>\n",
    "<b>Mehrzeilige</b> Kommentare werden geschrieben innerhalb von: ``\"\"\" Kommentar\"\"\"``  \n",
    "<br>\n",
    "Mit ihnen kannst du einzelne oder mehrere Zeilen ausblenden. Gesetzt den Fall, dass der restliche Code unabhängig von der Ausblendung funktioniert, weißt du dann, dass der Fehler in den Kommentarzeilen liegen muss.\n",
    "<br>\n",
    "<div class=\"alert alert-block alert-warning\">\n",
    "<font size=\"3\"><b>Übung:</b></font> Hier darunter siehst du ein Beispiel, in dem eine Code-Zeile den ordnungsgemäßen Programmablauf verhindert. Kommentiere die fehlerhafte Zeile aus, sodass die Fehlermeldung verschwindet.\n",
    "</div>\n",
    "\n",
    "<div class=\"alert alert-block alert-info\">\n",
    "<font size=\"3\"><b>Tipp:</b></font> Wie du es an den Beispielen in \"3.2.1 Aufbau von Fehlermeldungen\" gelernt hast, ist es am hilfreichsten, die Fehlermeldung von Anfang bis Ende durchzulesen. In der letzten Zeile wird bei den meisten Fehlermeldungen die Variable genannt, die Probleme verursacht. Auch mehrere Variablen können dort aufgelistet sein.\n",
    "</div>\n",
    "<br>\n"
   ]
  },
  {
   "cell_type": "code",
   "execution_count": 4,
   "metadata": {},
   "outputs": [
    {
     "ename": "NameError",
     "evalue": "name 'prit' is not defined",
     "output_type": "error",
     "traceback": [
      "\u001b[1;31m---------------------------------------------------------------------------\u001b[0m",
      "\u001b[1;31mNameError\u001b[0m                                 Traceback (most recent call last)",
      "\u001b[1;32m<ipython-input-4-2668db031353>\u001b[0m in \u001b[0;36m<module>\u001b[1;34m\u001b[0m\n\u001b[0;32m      2\u001b[0m \u001b[0mradius_circle1\u001b[0m \u001b[1;33m=\u001b[0m \u001b[1;36m1.3\u001b[0m\u001b[1;33m\u001b[0m\u001b[1;33m\u001b[0m\u001b[0m\n\u001b[0;32m      3\u001b[0m \u001b[0marea_circle1\u001b[0m \u001b[1;33m=\u001b[0m \u001b[0mPI\u001b[0m \u001b[1;33m*\u001b[0m \u001b[0mradius_circle1\u001b[0m \u001b[1;33m*\u001b[0m \u001b[0mradius_circle1\u001b[0m\u001b[1;33m\u001b[0m\u001b[1;33m\u001b[0m\u001b[0m\n\u001b[1;32m----> 4\u001b[1;33m \u001b[0mprit\u001b[0m\u001b[1;33m(\u001b[0m\u001b[0marea_circle1\u001b[0m\u001b[1;33m)\u001b[0m\u001b[1;33m\u001b[0m\u001b[1;33m\u001b[0m\u001b[0m\n\u001b[0m\u001b[0;32m      5\u001b[0m \u001b[0mradius_circle2\u001b[0m \u001b[1;33m=\u001b[0m \u001b[1;36m8.44\u001b[0m\u001b[1;33m\u001b[0m\u001b[1;33m\u001b[0m\u001b[0m\n\u001b[0;32m      6\u001b[0m \u001b[0marea_circle2\u001b[0m \u001b[1;33m=\u001b[0m \u001b[0mPI\u001b[0m \u001b[1;33m*\u001b[0m \u001b[0mradius_circle2\u001b[0m \u001b[1;33m*\u001b[0m \u001b[0mradius_circle2\u001b[0m\u001b[1;33m\u001b[0m\u001b[1;33m\u001b[0m\u001b[0m\n",
      "\u001b[1;31mNameError\u001b[0m: name 'prit' is not defined"
     ]
    }
   ],
   "source": [
    "PI = 3.14\n",
    "radius_circle1 = 1.3\n",
    "area_circle1 = PI * radius_circle1 * radius_circle1\n",
    "prit(area_circle1)\n",
    "radius_circle2 = 8.44\n",
    "area_circle2 = PI * radius_circle2 * radius_circle2\n",
    "print(area_circle2)"
   ]
  },
  {
   "cell_type": "code",
   "execution_count": 4,
   "metadata": {},
   "outputs": [
    {
     "ename": "NameError",
     "evalue": "name 'prit' is not defined",
     "output_type": "error",
     "traceback": [
      "\u001b[1;31m---------------------------------------------------------------------------\u001b[0m",
      "\u001b[1;31mNameError\u001b[0m                                 Traceback (most recent call last)",
      "\u001b[1;32m<ipython-input-4-2668db031353>\u001b[0m in \u001b[0;36m<module>\u001b[1;34m\u001b[0m\n\u001b[0;32m      2\u001b[0m \u001b[0mradius_circle1\u001b[0m \u001b[1;33m=\u001b[0m \u001b[1;36m1.3\u001b[0m\u001b[1;33m\u001b[0m\u001b[1;33m\u001b[0m\u001b[0m\n\u001b[0;32m      3\u001b[0m \u001b[0marea_circle1\u001b[0m \u001b[1;33m=\u001b[0m \u001b[0mPI\u001b[0m \u001b[1;33m*\u001b[0m \u001b[0mradius_circle1\u001b[0m \u001b[1;33m*\u001b[0m \u001b[0mradius_circle1\u001b[0m\u001b[1;33m\u001b[0m\u001b[1;33m\u001b[0m\u001b[0m\n\u001b[1;32m----> 4\u001b[1;33m \u001b[0mprit\u001b[0m\u001b[1;33m(\u001b[0m\u001b[0marea_circle1\u001b[0m\u001b[1;33m)\u001b[0m\u001b[1;33m\u001b[0m\u001b[1;33m\u001b[0m\u001b[0m\n\u001b[0m\u001b[0;32m      5\u001b[0m \u001b[0mradius_circle2\u001b[0m \u001b[1;33m=\u001b[0m \u001b[1;36m8.44\u001b[0m\u001b[1;33m\u001b[0m\u001b[1;33m\u001b[0m\u001b[0m\n\u001b[0;32m      6\u001b[0m \u001b[0marea_circle2\u001b[0m \u001b[1;33m=\u001b[0m \u001b[0mPI\u001b[0m \u001b[1;33m*\u001b[0m \u001b[0mradius_circle2\u001b[0m \u001b[1;33m*\u001b[0m \u001b[0mradius_circle2\u001b[0m\u001b[1;33m\u001b[0m\u001b[1;33m\u001b[0m\u001b[0m\n",
      "\u001b[1;31mNameError\u001b[0m: name 'prit' is not defined"
     ]
    }
   ],
   "source": [
    "PI = 3.14\n",
    "radius_circle1 = 1.3\n",
    "area_circle1 = PI * radius_circle1 * radius_circle1\n",
    "prit(area_circle1)\n",
    "radius_circle2 = 8.44\n",
    "area_circle2 = PI * radius_circle2 * radius_circle2\n",
    "print(area_circle2)"
   ]
  },
  {
   "cell_type": "markdown",
   "metadata": {},
   "source": [
    "## 6. Den Kernel stoppen\n",
    "\n",
    "Wenn du das allererste Kapitel 3.0 zur Pausen-Erinnerung durchgegangen bist, ist das Folgende eine kleine Wiederholung für dich. Wenn nicht, ist das nun ein wichtiger Hinweis für dich, wie du Programmabstürzen entkommen kannst.  \n",
    "<br>\n",
    "Wie du vielleicht gesehen hast, ist oben links neben der Version \"Python 3\" ein Kreis zu sehen, der entweder gefüllt oder nicht gefüllt ist. Ist er nicht gefüllt, bedeutet das, der Kernel, auch Betriebskern genannt, arbeitet gerade nicht. Er arbeitet immer dann, wenn gerade Code ausgeführt wird und erscheint dann gefüllt. Gibt es einen unüberwindbaren Fehler im Code, bleibt der Kernel gefüllt und du kannst keine einzige Zelle im Jupyter Notebook mehr ausführen. Wie kommst du da wieder raus? Es gibt mehrere Möglichkeiten, den Kernel zu stoppen:\n",
    "* du klickst oben in der Symbolleiste auf das quadratische **Stopp-Symbol**\n",
    "* Du klickst auf den Reiter **Kernel** und dann auf **Shutdown**\n",
    "* Alternativ kannst du unter **Kernel** auch **Interrupt** oder **Restart** auswählen, jedoch hat beides bei schweren Programmfehlern eine geringe Erfolgsquote.\n",
    "* Du **speicherst** dein Jupyter Notebook, indem du auf das Diskettensymbol klickst und **schließt dann den Tab** im Browser. \n",
    "    * Dann gehst du zu der vorhergehenden Seite von Jupyter Notebook, auf welcher du alle Python-Dateien im Überblick siehst.\n",
    "    * Links neben den Dateinamen siehst du ein Buch, das entweder grau gefärbt ist (Datei läuft gerade nicht) oder grün (Datei läuft gerade).\n",
    "    * Die abgestürzte Datei läuft immer noch und hat deshalb ein grünes Buch-Icon.\n",
    "    * Wähle sie über das Kästchen links daneben aus und klicke dann ganz oben auf das gelb hinterlegte \"Shutdown\".\n",
    "    * Das kann ein paar wenige Sekunden dauern, aber **funktioniert immer**. \n",
    "    * Anschließend kannst du die Datei wieder öffnen und bearbeiten.  \n",
    "<br>\n",
    "\n",
    "<div class=\"alert alert-block alert-warning\">\n",
    "<font size=\"3\"><b>Übung:</b></font> Auch zu diesem Subkapitel gibt es eine Übung für dich. Du findest sie in dem Jupyter Notebook \"0.1.1 Fehlerbehandlung und Hilfe zu Python finden - Den Kernel stoppen - Lösungen\".\n",
    "</div>"
   ]
  },
  {
   "cell_type": "markdown",
   "metadata": {},
   "source": [
    "<div class=\"alert alert-block alert-success\">\n",
    "<b>Glückwunsch! </b> Du kannst jetzt Fehlermeldungen lesen und konstruktiv mit ihnen umgehen.  \n",
    "<br>\n",
    " \n",
    "Die wichtigsten Punkte dieses Kapitels findest du in der untenstehenden Zusammenfassung:\n",
    "</div>"
   ]
  },
  {
   "cell_type": "markdown",
   "metadata": {},
   "source": [
    "<div class=\"alert alert-block alert-info\">\n",
    "<h3>Das kannst du dir aus dieser Übung mitnehmen:</h3>\n",
    "\n",
    "* Fehlermeldungen sind ausschließlich zu deiner **Unterstützung** da. Sie enthalten wertvolle Hinweise, die dir helfen, ein funktionierendes Programm zu schreiben.  \n",
    "<br>\n",
    "* Fehlermeldungen haben einen **logischen Aufbau** und sollten von Anfang bis Ende gelsen werden.  \n",
    "<br>\n",
    "* Du bist meistens **nicht allein** mit deiner Fehlermeldung; viele andere vor dir haben sie auch schon erhalten. Nutze das Wissen der anderen über:\n",
    "    * stackoverflow: [https://stackoverflow.com/](Hidden_landing_URL)\n",
    "    * die Python-Dokumentation: [https://www.python.org/doc/](Hidden_landing_URL)\n",
    "    * die Hilfe innerhalb von Python über das Fragezeichen,z.B.: ``type?``\n",
    "    * allgemeines Googlen deiner Fehlermeldung\n",
    "    * oder frag Leute, die darüber vielleicht Bescheid wissen (am besten aber erst, nachdem du selbst schon alle anderen Möglichkeiten ausgeschöpft hast)  \n",
    "<br>\n",
    "* Es gibt verschiedene **Arten von Fehlermeldungen**, wie z.B.:  \n",
    "    * SyntaxError = Zeichenfehler (vergessene Klammer, Anführungszeichen, Gedankenstriche etc.)\n",
    "    * NameError = falsch eingegebener oder nicht existenter Variablenname \n",
    "    * Semantische Fehler (logische Fehler, die du mit Aufmerksamkeit finden und beheben kannst)\n",
    "    * weitere werden wir noch im Laufe des Kurses behandeln   \n",
    "<br>\n",
    "* Du kannst **Fehler über die Verwendung von Kommentaren (``#``) aus dem restlichen Code ausklammern**, um herauszufinden, welche Teile fehlerhaft sind und welche nicht.  \n",
    "<br>\n",
    "* Bleibt der **Kernel** hängen, kannst du ihn über das Stopp-Symbol ganz oben oder über \"Kernel\" > \"Shutdown\" innerhalb des Notebooks **stoppen**. Du kannst ihn auch anhalten über \"Shutdown\" in der Dateiübersicht von Jupyter Notebook."
   ]
  }
 ],
 "metadata": {
  "kernelspec": {
   "display_name": "Python 3",
   "language": "python",
   "name": "python3"
  },
  "language_info": {
   "codemirror_mode": {
    "name": "ipython",
    "version": 3
   },
   "file_extension": ".py",
   "mimetype": "text/x-python",
   "name": "python",
   "nbconvert_exporter": "python",
   "pygments_lexer": "ipython3",
   "version": "3.7.3"
  }
 },
 "nbformat": 4,
 "nbformat_minor": 2
}
