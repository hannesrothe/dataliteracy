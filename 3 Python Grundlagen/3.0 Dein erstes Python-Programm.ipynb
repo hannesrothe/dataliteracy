{
 "cells": [
  {
   "cell_type": "markdown",
   "metadata": {},
   "source": [
    "# 3.0 Dein erstes Python-Programm\n",
    "\n",
    "In dieser Übung programmierst du gleich ein komplettes Programm mit. Anhand dessen bekommst du einen ersten Eindruck davon, was man alles mit Python und bereits ein paar Zeilen Code verwirklichen kann.  \n",
    "<br>\n",
    "Du kannst dich damit über eingespielte Videos an Pausen vom Computer erinnern lassen und die Dauer deiner Übungszeit festlegen. Die Dauer gibst du in dem Programm an, z.B. 45 Minuten, danach spielt dir dein Programm ein zufällig ausgewähltes Video aus einer von dir angelegten Weblink-Sammlung ab.  \n",
    "<br>\n",
    "Das Programm kannst du natürlich auch bei allen anderen Aktivitäten an deinem Computer laufen und dich somit an regelmäßige Pausen vom Bildschirm erinnern lassen :-)  \n",
    "<br>\n",
    "Die Einzelschritte zur Erstellung des Programms werden dir in diesem Jupyter Notebook genau aufgeschlüsselt.  \n",
    "<div class=\"alert alert-block alert-info\">\n",
    "<font size=\"3\"><b>Tipp:</b></font> Probier die Code-Zellen von Anfang bis Ende in ihrer gegebenen Reihenfolge aus. Da sie ein zusammenhängendes Programm darstellen, wirst du Fehlermeldungen erhalten, wenn du z.B. die 3. Code-Zelle vor der 1. Code-Zelle laufen lässt. Der Grund hierfür ist der generelle Aufbau eines Programms, der wie beim Hausbau erst bei der Basis beginnt und dann mit dem schönen Ausblick vom Dach aus endet.\n",
    "</div>\n",
    "<br>\n",
    "\n",
    "In der folgenden Code-Zelle siehst du das komplette Programm. Wenige Zeilen Code reichen schon aus, um die Funktionalitäten umzusetzen, die du für deine Pausen-Erinnerungen brauchst. Betrachte die Video-Links nur als Beispiele, die du durch eigens ausgewählte Links ersetzen darfst.  \n",
    "<br>\n",
    "<div class=\"alert alert-block alert-warning\">\n",
    "<font size=\"3\"><b>Übung:</b></font> Starte die untere Code-Zelle, indem du in sie hinein und dann auf <b>Run</b> (oben im Jupyter Notebook) klickst. In der Ausgabe unter der Programm-Code-Zelle wird ausgegeben, zu welcher Zeit das Pausen-Programm gestartet ist. Nach einer Stunde beginnt die erste Pause.\n",
    "</div>"
   ]
  },
  {
   "cell_type": "code",
   "execution_count": null,
   "metadata": {},
   "outputs": [
    {
     "name": "stdout",
     "output_type": "stream",
     "text": [
      "Ab \"Wed Dec 11 15:54:21 2019\" läuft deine Übungszeit :)\n"
     ]
    }
   ],
   "source": [
    "import time  \n",
    "import webbrowser  \n",
    "import random                  \n",
    "\n",
    "\n",
    "print('Ab \"' + time.ctime() + '\" läuft deine Übungszeit :-)')\n",
    "\n",
    "videos =  ('https://www.youtube.com/watch?v=mzmpaXFbMnk',\n",
    "          'https://www.youtube.com/watch?v=mcZm2oJ7DKE',\n",
    "          'https://www.youtube.com/watch?v=xTczn5RUgnk',\n",
    "          'https://www.youtube.com/watch?v=EkrCJb0I8Z0')\n",
    "\n",
    "anzahl_pausen = 4\n",
    "pausen_countdown = 0\n",
    "\n",
    "while(pausen_countdown < anzahl_pausen):\n",
    "    time.sleep(60*60)  # für 2 Stunden: 2*60*60; für 10 Sekunden: 10\n",
    "    webbrowser.open(random.choice(videos))\n",
    "    pausen_countdown = pausen_countdown+1"
   ]
  },
  {
   "cell_type": "markdown",
   "metadata": {},
   "source": [
    "## 1. Zusätzliche Funktionen mit Modulen importieren\n",
    "\n",
    "Module machen mit ihren vorgefertigten Funktionen das Coden leichter. Nutzen wir also ein paar passende für unser Programm.  \n",
    "* mit ``import`` werden Module importiert\n",
    "* nach dem Importieren kannst du auf die zusätzlichen Funktionen zugreifen, die Module bieten\n",
    "* time: Modul mit Funktionen zu Datum und Zeit  \n",
    "<br>\n",
    "\n",
    "<div class=\"alert alert-block alert-warning\">\n",
    "<font size=\"3\"><b>Übung:</b></font> Klicke <b>Strg</b> plus <b>Enter</b>, um die untenstehende Code-Zelle auszuführen und auch, um  die gleiche Zelle wiederholt auszuführen (für Mac: <b>Control</b> plus <b>Return</b>). Starte im weiteren Verlauf alle Code-Zellen mit den dir nun bekannten 2 Möglichkeiten.\n",
    "</div>"
   ]
  },
  {
   "cell_type": "code",
   "execution_count": null,
   "metadata": {},
   "outputs": [],
   "source": [
    "import time"
   ]
  },
  {
   "cell_type": "markdown",
   "metadata": {},
   "source": [
    "* webbrowser: Modul mit Funktionen zur Webanbindung\n",
    "* random: Modul mit Funktionen rund um Zufallszahlen und zufällige Auswahlen  "
   ]
  },
  {
   "cell_type": "code",
   "execution_count": null,
   "metadata": {},
   "outputs": [],
   "source": [
    "import webbrowser  \n",
    "import random"
   ]
  },
  {
   "cell_type": "markdown",
   "metadata": {},
   "source": [
    "## 2. Ausgeben lassen, wann unser Programm startet\n",
    "\n",
    "..., damit wir im Zweifelsfall nachsehen können, ob es startet und wie viel Zeit noch bis zum Ablauf verbleibt.\n",
    "\n",
    "* über ``print()`` werden Daten formatiert ausgegeben bzw. gedruckt, sozusagen in Fließtext statt Code\n",
    "* alles, was in den Klammern von ``print()`` steht, wird dabei von der Code-Zelle zur Ausgabe darunter formatiert\n",
    "* Text wird stets in einfache oder doppelte Anführungsstriche gesetzt (hier und generell besser in einfache Anführungsstriche setzen)\n",
    "* mit ``+`` verbindet man Text- und Code-Bausteine, wie hier Text mit der Funktion ``time.ctime()`` (sie zeigt die aktuelle Zeit an, bzw. die Zeit bei Programmstart)"
   ]
  },
  {
   "cell_type": "code",
   "execution_count": null,
   "metadata": {},
   "outputs": [],
   "source": [
    "print('Ab \"' + time.ctime() + '\" läuft deine Übungszeit :-)')"
   ]
  },
  {
   "cell_type": "markdown",
   "metadata": {},
   "source": [
    "<div class=\"alert alert-block alert-info\">\n",
    "<font size=\"3\"><b>Tipp:</b></font> Wie du bereits weißt, verfügt jedes Modul über eine Vielzahl zusätzlicher Funktionen. Diese Funktionen werden über den Punkt-Operator, auch Punkt-Operand genannt, angewählt. Das ist ein einfacher Punkt, der nach dem Namen des Moduls gesetzt wird, wie hier nach dem Modul time: <font color = green>time<b>.</b>funktion_von_time()\n",
    "</div>\n",
    "<br>\n",
    "    \n",
    "Mit ``time.ctime()`` haben wir die Funktion ``ctime()`` angewählt. Möchtest du wissen, über welche Funktionen ein Modul verfügt, schreibe: ``time.`` und drücke dann die <font color = green>Tab-Taste</font>. Es öffnet sich ein Dropdown-Menü und mit den Cursor-Tasten kannst du alle Funktionen durchblättern.  \n",
    "\n",
    "\n",
    "<div class=\"alert alert-block alert-warning\">\n",
    "<font size=\"3\"><b>Übung:</b></font> Probier das aus und lass dir die Funktionen von <b>time</b> anzeigen.    \n",
    "<br>\n",
    "    \n",
    "<b>Achtung!</b> Zusatzinfos zu Modulen erscheinen nur, nachdem sie importiert wurden. Ohne Import kann Python keine Informationen zu ihnen abrufen.\n",
    "</div>"
   ]
  },
  {
   "cell_type": "code",
   "execution_count": null,
   "metadata": {},
   "outputs": [],
   "source": [
    "time."
   ]
  },
  {
   "cell_type": "markdown",
   "metadata": {},
   "source": [
    "<div class=\"alert alert-block alert-info\">\n",
    "<font size=\"3\"><b>Tipp:</b></font> Wenn du durch die Funktionen eines Moduls blätterst, sagen ihre Namen nicht unbedingt aus, was sie bewirken. Möchtest du nähere Informationen zu einer Funktion haben, schreibe sie in eine Code-Zelle und setze ein Fragezeichen hinter sie. Dieser Hilfsaufruf über das Fragezeichen gilt für alle Python-Funktionen und einzelnen Python-Module.  \n",
    "</div>\n",
    "<br>\n",
    "\n",
    "<b>Wichtig:</b> Die Klammern der Funktion müssen dabei weggelassen werden. Das Schema zur Hilfe ist wie folgt: \n",
    "``modulname.funktion?``.\n",
    "<div class=\"alert alert-block alert-warning\">\n",
    "<font size=\"3\"><b>Übung:</b></font> Probier es gleich aus mit <b>time.ctime?</b> oder einer anderen Funktion/einem anderen Modul deiner Wahl in der leeren Code-Zelle.\n",
    "</div>"
   ]
  },
  {
   "cell_type": "code",
   "execution_count": null,
   "metadata": {},
   "outputs": [],
   "source": [
    "time.ctime?"
   ]
  },
  {
   "cell_type": "code",
   "execution_count": null,
   "metadata": {},
   "outputs": [],
   "source": []
  },
  {
   "cell_type": "markdown",
   "metadata": {},
   "source": [
    "<div class=\"alert alert-block alert-info\">\n",
    "<font size=\"3\"><b>Tipp:</b></font> Falls du eine neue Code-Zelle für deinen eigenen Code anlegen möchtest, klicke <b>Alt</b>   plus <b>Enter</b> für das Ausführen der aktuellen Zelle und das Öffnen einer neuen Zelle (Mac: <b>Shift</b> plus <b>Return</b>). Alternativ kannst du ganz oben im Jupyter Notebook auf <b>+</b> für eine neue Code-Zelle klicken und mit dem Aufwärts-/Abwärtspfeil diese Zelle verschieben.\n",
    "</div>\n",
    "<br>\n",
    "\n",
    "Du kannst dir auch ohne Fragezeichen mit <font color = green>Shift</font> und <font color = green>Tab</font> schnell eine kürzere Variante der gleichen internen Python-Dokumentation anzeigen lassen. Das klappt sogar mit den Funktionsklammern, wie in unserem nächsten Beispiel mit ``time.ctime()``.\n",
    "\n",
    "<div class=\"alert alert-block alert-warning\">\n",
    "<font size=\"3\"><b>Übung:</b></font> Wende diese Tastenkombination in der folgenden Code-Zelle an. Teste gerne weitere Module und Funktionen in der leeren Code-Zelle.\n",
    "</div>"
   ]
  },
  {
   "cell_type": "code",
   "execution_count": null,
   "metadata": {},
   "outputs": [],
   "source": [
    "time.ctime()"
   ]
  },
  {
   "cell_type": "code",
   "execution_count": null,
   "metadata": {},
   "outputs": [],
   "source": []
  },
  {
   "cell_type": "markdown",
   "metadata": {},
   "source": [
    "## 3. Deine Video-Auswahl festlegen\n",
    "\n",
    "Jetzt bist du an der Reihe, zu bestimmen, was gespielt wird! Du kannst dir beliebige Video-Links von jeder Internetseite und beliebig viele Videos aussuchen. Dabei brauchst du nur das folgende Schema zu beachten:\n",
    "\n",
    "* der Variable ``videos`` werden mit ``=`` Werte zugewiesen\n",
    "* die Werte stehen immer auf der rechten Seite des Gleichheitszeichens\n",
    "* Links werden von Python als <b>Strings</b> (das sind Wörter/Texte) gelesen, deshalb stehen sie jeweils in Anführungsstrichen\n",
    "* die Sammlung der Werte (der Links) wird in runden Klammern geschrieben, Werte (die Links) werden mit Komma getrennt"
   ]
  },
  {
   "cell_type": "code",
   "execution_count": null,
   "metadata": {},
   "outputs": [],
   "source": [
    "videos =  ('https://www.youtube.com/watch?v=mzmpaXFbMnk',\n",
    "          'https://www.youtube.com/watch?v=mcZm2oJ7DKE',\n",
    "          'https://www.youtube.com/watch?v=xTczn5RUgnk',\n",
    "          'https://www.youtube.com/watch?v=EkrCJb0I8Z0')\n"
   ]
  },
  {
   "cell_type": "markdown",
   "metadata": {},
   "source": [
    "<div class=\"alert alert-block alert-warning\">\n",
    "<font size=\"3\"><b>Übung:</b></font> Such dir ein paar Video-Links aus dem Netz aus und weise sie der Variable <b>videos</b> nach dem obigen Schema zu.  \n",
    "<br>\n",
    "    \n",
    "Die Variable <b>videos</b> von oben wird überschrieben mit deinen neuen Video-Links - aber nur, wenn du die Code-Zelle auch ausführst.\n",
    "</div>"
   ]
  },
  {
   "cell_type": "code",
   "execution_count": null,
   "metadata": {},
   "outputs": [],
   "source": [
    "videos = "
   ]
  },
  {
   "cell_type": "markdown",
   "metadata": {},
   "source": [
    "## 4. Bestimme die Anzahl deiner Pausen\n",
    "\n",
    "Wie viele Pausen möchtest du insgesamt machen? Das kannst du dir überlegen und diesen Wert der Variable ``anzahl_pausen`` zuweisen.  \n",
    "\n",
    "<div class=\"alert alert-block alert-warning\">\n",
    "<font size=\"3\"><b>Übung:</b></font> Trage die Anzahl deiner Pausen statt der 4 ein.  \n",
    "<br>\n",
    "    \n",
    "Bist du mit 4 Pausen (nach 4 Übungseinheiten) zufrieden, brauchst du nichts am Code verändern.\n",
    "</div>"
   ]
  },
  {
   "cell_type": "code",
   "execution_count": null,
   "metadata": {},
   "outputs": [],
   "source": [
    "anzahl_pausen = 4"
   ]
  },
  {
   "cell_type": "markdown",
   "metadata": {},
   "source": [
    "## 5. Wir brauchen einen Countdown für einen Loop\n",
    "\n",
    "Statt Countdown könnte man auch Counter oder Zähler sagen: eine Zahl, die mitzählt.  \n",
    "<br>\n",
    "Ein Loop ist ein schleifenartiger Durchlauf von sich immer wiederholenden, gleichen Code-Arbeitsschritten. Unser Programm soll so lange laufen, bis all unsere Übungszeit am Computer und alle Pausen geschafft sind. Die Pausen sollten nicht zu schwer zu schaffen sein ;-)\n",
    "\n",
    "* ``pausen_countdown`` beginnt bei 0, denn zu Beginn haben wir noch keine Pause gemacht\n",
    "* im Loop, das wird dir gleich noch klarer werden, wird ``pausen_countdown`` dann mitzählen, wie viele Pausen wir schon gemacht haben"
   ]
  },
  {
   "cell_type": "code",
   "execution_count": null,
   "metadata": {},
   "outputs": [],
   "source": [
    "pausen_countdown = 0"
   ]
  },
  {
   "cell_type": "markdown",
   "metadata": {},
   "source": [
    "## 6. Der While-Loop wiederholt Übungszeit und Pausenvideos\n",
    "\n",
    "Nun kommt der Loop, der While-Loop genauer gesagt. Dies ist ein schleifenartiger Durchlauf von Arbeitsschritten, mit einer Abbruchbedingung.  \n",
    "<br>\n",
    "Das Prinzip: \"Wiederhole diese Schritte, bis diese Abbruchbedingung erfüllt ist.\"  \n",
    "<br>\n",
    "Oder auch: \"Während (= while) die Bedingung geprüft wird, wiederhole folgende Schritte, bis die Bedingung erfüllt ist.\"\n",
    "\n",
    "* die Abbruchbedingung für den While-Loop wird in dessen Klammer geschrieben: <font color = green>while(abbruchbedingung):</font>\n",
    "* Abbruchbedingung: ``(pausen_countdown < anzahl_pausen)`` => solange ``pausen_countdown`` (unser \"Mitzähler\"!) die ``anzahl_pausen`` noch nicht erreicht hat\n",
    "* nach dem Doppelpunkt angegebene Arbeitsschritte werden solange ausgeführt, bis die Bedingung eintritt: bis ``pausen_countdown`` nicht mehr kleiner als ``anzahl_pausen`` ist. "
   ]
  },
  {
   "cell_type": "code",
   "execution_count": null,
   "metadata": {},
   "outputs": [],
   "source": [
    "while(pausen_countdown < anzahl_pausen):\n",
    "    time.sleep(60*60)  # für 2 Stunden 2*60*60, für 10 Sekunden 10\n",
    "    webbrowser.open(random.choice(videos))\n",
    "    pausen_countdown = pausen_countdown+1"
   ]
  },
  {
   "cell_type": "markdown",
   "metadata": {},
   "source": [
    "Alle nach dem Doppelpunkt folgenden Code-Arbeitsschritte müssen mit einem Abstand von 4 Leerzeichen nach dem Doppelpunkt auf einer jeweils neuen Zeile eingerückt werden (alternativ ginge auch ein Tab-Tastenabstand, doch 4 Leerzeichen sind eher Python-konform) .\n",
    "Das ist wichtig, damit Python versteht, dass die nachfolgenden Schritte dem While-Loop untergeordnet sind, bzw. dass sie zu ihm gehören.  \n",
    "<br>\n",
    "\n",
    "### Schritt 1:\n",
    "\n",
    "``time.sleep(60*60)`` \n",
    "\n",
    "* der blaue Abschnitt hinter der Funktion: <font color = steelblue># für 2 Stunden ...</font>, ist ein Kommentar, der das Programm nicht beeinflusst und der zusätzlichen Information dient. Ein einzeiliger Kommentar beginnt stets mit dem Rautenzeichen: <font color = green> #</font>\n",
    "* die Funktion ``time.sleep()`` lässt die nachfolgenden Arbeitsschritte pausieren, in unserem Fall das Abspielen der Videos\n",
    "* die Länge der Pause wird in Sekunden angegeben und in die Klammer von ``time.sleep()`` geschrieben\n",
    "* die Pause beträgt hier 60 Sekunden * 60 (für die Minuten) und damit insgesamt 1 Stunde  \n",
    "<br>\n",
    "<br>\n",
    "\n",
    "### Schritt 2:\n",
    "In dieser nächsten Zeile werden zwei Funktionen aus den Modulen ``webbrowser`` und ``random`` miteinander verbunden:  \n",
    "<br>\n",
    "``webbrowser.open(random.choice(videos))`` \n",
    "<br>\n",
    "Funktionen von Modulen werden über den Punkt-Operator nach dem Modulnamen aufgerufen, genauer gesagt:\n",
    "* die Funktion ``open()`` von ``webbrowser.open(webseite)`` öffnet die in Klammern angegebene Webseite\n",
    "* die Funktion ``choice()`` von ``random.choice(sammlung)`` wählt zufällig einen Wert aus der angegebenen Sammlung aus\n",
    "\n",
    "Um sie miteinander zu kombinieren, wird die zweite Funktion in die Klammer der ersten Funktion gesetzt.  \n",
    "<br>\n",
    "**Was führen beide Funktionen folglich in Kombination miteinander aus?**  \n",
    "<br>\n",
    "Richtig! Sie öffnen einen zufällig ausgewählten Link aus deiner Sammlung :-)  \n",
    "<br>\n",
    "\n",
    "**Hier ist noch einmal der While-Loop im Überblick:**  \n",
    "\n",
    "``while(pausen_countdown < anzahl_pausen):\n",
    "    time.sleep(60*60)  # für 2 Stunden 2*60*60, für 10 Sekunden 10\n",
    "    webbrowser.open(random.choice(videos))\n",
    "    pausen_countdown = pausen_countdown+1``  \n",
    "<br>\n",
    "\n",
    "### Schritt 3:\n",
    "Was fehlt noch, um unseren While-Loop zu komplettieren? Was ist das Wichtigste, damit er wie gewollt die Arbeitsschritte so lange ausführt, wie wir es wünschen? Die Erfüllung der Abbruchbedingung! Bis dahin sollen die Schritte ausgeführt werden.Ohne diese nächste und letzte Code-Zeile unseres Programms würde die Abbruchbedingung niemals eintreten und unser Loop würde <b>endlos</b> weiterlaufen:  \n",
    "<br>\n",
    "``pausen_countdown = pausen_countdown+1``  \n",
    "<br>\n",
    "Was passiert hier? Wie du dich erinnerst, ist ``pausen_countdown`` unser \"Mitzähler\". Er beginnt bei 0 und muss, soll er mitzählen, mit jedem Schleifendurchlauf um 1 erhöht werden. Hierfür wird ihm auf der rechten Seite von ``=`` mit jedem Durchlauf ein neuer Wert zugewiesen. Dieser Wert ist der aktuelle ``pausen_countdown`` um 1 erhöht: ``+1``.  \n",
    "<br>\n",
    "Würde ``pausen_countdown`` nicht innerhalb des Loops erhöht werden, würde er für immer auf 0 stehenbleiben und wir müssten in einem endlosen Wechsel aus Übungszeit und Pausen den Rest unseres Lebens am Computer verbringen! Nicht aber mit dem Counter :-) Um dir das zu verdeutlichen, ist hier der Programmablauf detailliert dargestellt:\n",
    "\n",
    "<b>Programmstart/1. Schleifendurchlauf:</b>\n",
    "* ``anzahl_pausen = 4``\n",
    "* ``pausen_countdown = 0``\n",
    "* Prüfung der Abbruchbedingung: ``while(pausen_countdown < anzahl_pausen): [...]``\n",
    "    * in Zahlen: while(0 < 4)\n",
    "    * Ergebnis: 0 ist kleiner 4, das ist <b>wahr</b>, folglich werden die Arbeitsschritte in der Schleife ausgeführt:\n",
    "        * ein Video wird nach Ablauf der Zeit abgespielt\n",
    "        * ``pausen_countdown = pausen_countdown+1``\n",
    "            * in Zahlen: 0 = 0+1 => damit wird 0 auf der linken Seite zu 1 für den nächsten Schleifendurchlauf, bzw. <font color = green>pausen_countdown = 1</font>  \n",
    "            \n",
    "<br>\n",
    "\n",
    "<b>2. Schleifendurchlauf:</b>\n",
    "* <font color = green>pausen_countdown = 1</font>\n",
    "* Prüfung der Abbruchbedingung: ``while(pausen_countdown < anzahl_pausen): [...]``\n",
    "    * in Zahlen: while(1 < 4)\n",
    "    * Ergebnis: 1 ist kleiner 4, das ist <b>wahr</b>, folglich werden die Arbeitsschritte in der Schleife ausgeführt:\n",
    "        * ein Video wird nach Ablauf der Zeit abgespielt\n",
    "        * ``pausen_countdown = pausen_countdown+1``\n",
    "            * in Zahlen: 1 = 1+1 => damit wird 1 auf der linken Seite zu 2 für den nächsten Schleifendurchlauf, bzw. <font color = green>pausen_countdown = 2</font>  \n",
    "            \n",
    "<br>\n",
    "\n",
    "<b>3. Schleifendurchlauf:</b>\n",
    "* <font color = green>pausen_countdown = 2</font>\n",
    "* Prüfung der Abbruchbedingung: ``while(pausen_countdown < anzahl_pausen): [...]``\n",
    "    * in Zahlen: while(2 < 4)\n",
    "    * Ergebnis: 2 ist kleiner 4, das ist <b>wahr</b>, folglich werden die Arbeitsschritte in der Schleife ausgeführt:\n",
    "        * ein Video wird nach Ablauf der Zeit abgespielt\n",
    "        * ``pausen_countdown = pausen_countdown+1``\n",
    "            * in Zahlen: 2 = 2+1 => damit wird 2 auf der linken Seite zu 3 für den nächsten Schleifendurchlauf, bzw. <font color = green>pausen_countdown = 3</font>\n",
    "             \n",
    "<br>\n",
    "\n",
    "<b>4. Schleifendurchlauf:</b>\n",
    "* <font color = green>pausen_countdown = 3</font>\n",
    "* Prüfung der Abbruchbedingung: ``while(pausen_countdown < anzahl_pausen): [...]``\n",
    "    * in Zahlen: while(3 < 4)\n",
    "    * Ergebnis: 3 ist kleiner 4, das ist <b>wahr</b>, folglich werden die Arbeitsschritte in der Schleife ausgeführt:\n",
    "        * ein Video wird nach Ablauf der Zeit abgespielt\n",
    "        * ``pausen_countdown = pausen_countdown+1``\n",
    "            * in Zahlen: 3 = 3+1 => damit wird 3 auf der linken Seite zu 4 für den nächsten Schleifendurchlauf, bzw. <font color = green>pausen_countdown = 4</font>\n",
    "             \n",
    "<br>\n",
    "\n",
    "<b>Die Abbruchbedingung ist erfüllt</b>\n",
    "* <font color = green>pausen_countdown = 4</font>\n",
    "* Prüfung der Abbruchbedingung: ``while(pausen_countdown < anzahl_pausen): [...]``\n",
    "    * in Zahlen: while(4 < 4)\n",
    "    * Ergebnis: 4 ist kleiner 4, das ist <b>falsch</b>, folglich werden die Arbeitsschritte in der Schleife <b>nicht mehr</b> ausgeführt und das Programm endet.  \n",
    "\n",
    "<br>\n",
    "\n",
    "<div class=\"alert alert-block alert-info\">\n",
    "<font size=\"3\"><b>Tipp 1:</b></font> An diesem Beispiel kannst du sehen, dass Variablen durchaus mit sich selbst überschrieben werden können, wie:  \n",
    "<br>\n",
    "    \n",
    "``pausen_countdown = pausen_countdown+1``  \n",
    "<br>\n",
    "\n",
    "``pausen_countdown`` könnte durchaus mit einer anderen/weiteren Variable überschrieben werden, z.B.:  \n",
    "<br>\n",
    "\n",
    "``pausen_countdown = kaffeeklatschzeit+1``. Die Variable ``kaffeeklatschzeit`` wäre dann ein zusätzlicher Zähler mit einem Zahlenwert.  \n",
    "<br>\n",
    "\n",
    "* Es ginge auch: ``pausen_countdown = kaffeeklatschzeit+pausen_countdown``\n",
    "</div>\n",
    "<br>\n",
    "\n",
    "<div class=\"alert alert-block alert-info\">\n",
    "<font size=\"3\"><b>Tipp 2:</b></font> Falls es dich verwirrt hat, dass die 4. Pause in der Abbruchbedingung nicht erreicht wurde, da die 4 nicht kleiner als die 4 war: \n",
    "\n",
    "Festgelegt wurde: ``anzahl_pausen = 4`` Erinnere dich, dass ``pausen_countdown`` bei ``0`` beginnt und die 0 deshalb mitzählt. Es werden 0, 1, 2, 3 Pausen gemacht, damit insgesamt 4. In Python und anderen Programmiersprachen wird es dir öfter begegnen, dass die angegebene Zahl, wie hier die 4, nicht mitzählt, da das Zählen bei 0 beginnt.\n",
    "</div>"
   ]
  },
  {
   "cell_type": "markdown",
   "metadata": {},
   "source": [
    "<div class=\"alert alert-block alert-success\">\n",
    "<b>Herzlichen Glückwunsch!</b> Du hast soeben dein erstes Python-Programm mitprogrammiert! Und du hast bereits sehr, sehr viel über das Anlegen von Variablen, und eines While-Loops gelernt. Du weißt auch, dass man für einen logischen Programmaufbau zuerst die Variablen anlegt und sie dann weiterverarbeitet, wie hier in unserem Loop.\n",
    "<br>\n",
    "    \n",
    "Das komplette Programm findest du in der unteren Code-Zelle in kompakter Form:"
   ]
  },
  {
   "cell_type": "code",
   "execution_count": null,
   "metadata": {},
   "outputs": [
    {
     "name": "stdout",
     "output_type": "stream",
     "text": [
      "Ab \"Wed Nov 27 14:23:16 2019\" läuft deine Übungszeit :)\n"
     ]
    }
   ],
   "source": [
    "import time  \n",
    "import webbrowser  \n",
    "import random                  \n",
    "\n",
    "\n",
    "print('Ab \"' + time.ctime() + '\" läuft deine Übungszeit :)')\n",
    "\n",
    "videos =  ('https://www.youtube.com/watch?v=mzmpaXFbMnk',\n",
    "          'https://www.youtube.com/watch?v=mcZm2oJ7DKE',\n",
    "          'https://www.youtube.com/watch?v=xTczn5RUgnk',\n",
    "          'https://www.youtube.com/watch?v=EkrCJb0I8Z0')\n",
    "\n",
    "anzahl_pausen = 4\n",
    "pausen_countdown = 0\n",
    "\n",
    "while(pausen_countdown < anzahl_pausen):\n",
    "    time.sleep(60*60)  # für 2 Stunden: 2*60*60; für 10 Sekunden: 10\n",
    "    webbrowser.open(random.choice(videos))\n",
    "    pausen_countdown = pausen_countdown+1"
   ]
  },
  {
   "cell_type": "markdown",
   "metadata": {},
   "source": [
    "<div class=\"alert alert-block alert-info\">\n",
    "<h3>Du kannst aus dieser Übung mitnehmen, dass ...</h3>\n",
    "\n",
    "* Python **Module** hat, die über viele weitere Funktionen verfügen und uns das Programmieren erleichtern und man ...\n",
    "    * importiert Module mit:  ``import modulname``\n",
    "    * ruft deren Funktionen über den Punkt-Operator (einfacher Punkt) auf: ``modulname.funktion()``\n",
    "    * führt ihre Funktionen aus über: ``modulname.funktion(das wird der Funktion übergeben)``\n",
    "    * du Funktionen von Modulen über den Punkt-Operator und die Tab-Taste sehen kannst, z.B.: ``modulname.`` plus <font color = green>Tab</font> (mit Cursor-Tasten durchblättern)  \n",
    "<br>\n",
    "* du innerhalb von Python mit dem Fragezeichen die **Hilfe** zu einem Thema aufrufen kannst, z.B.: ``webbrowser.open?``  \n",
    "<br>\n",
    "* man sich über die Print-Funktion etwas ausgeben lassen kann, z.B.: ``print('Hallo')`` gibt aus: Hallo\n",
    "<br>\n",
    "\n",
    "* wie man **Variablen anlegt** und ihnen **Werte zuweist**, z.B.: ``videos = 'xyz'`` und deren Werte überschreibt, z.B.: ``x = x + 1``, erhöht x um 1.  \n",
    "<br>\n",
    "* man Text **String** nennt und diesen in Anführungsstriche setzt, z.B.: ``'String'`` (Python-konform) oder ``\"String\"``  \n",
    "<br>\n",
    "* **sich wiederholende Programmabläufe mit Schleifen umgesetzt werden** und ...\n",
    "    * diese heißen **Loops**\n",
    "    * diese **benötigen Bedingungen**, damit sie nicht endlos laufen, z.B.: ``while(0 < 3):``\n",
    "    * danach folgt der Programmablauf. Dieser wird **mit 4 Leerzeichen eingerückt**, damit Python weiß, welcher Programmteil welchem anderen untergeordnet ist.\n",
    "    * der Programmablauf im Loop sollte einen \"Mitzähler\" (**Counter**) enthalten, damit der Loop nicht endlos läuft  "
   ]
  }
 ],
 "metadata": {
  "kernelspec": {
   "display_name": "Python 3",
   "language": "python",
   "name": "python3"
  },
  "language_info": {
   "codemirror_mode": {
    "name": "ipython",
    "version": 3
   },
   "file_extension": ".py",
   "mimetype": "text/x-python",
   "name": "python",
   "nbconvert_exporter": "python",
   "pygments_lexer": "ipython3",
   "version": "3.7.3"
  }
 },
 "nbformat": 4,
 "nbformat_minor": 2
}
