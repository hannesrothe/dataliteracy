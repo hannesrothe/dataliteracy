{
 "cells": [
  {
   "cell_type": "markdown",
   "metadata": {},
   "source": [
    "# 3.1 Python als Taschenrechner\n",
    "\n",
    "## 3.1.3 Reihenfolge der Rechenschritte\n",
    "\n",
    "Im Anschluss dieser Übungseinheit kannst du ...\n",
    "+ genau bestimmen, was in Rechnungen zuerst ausgeführt wird\n",
    "+ mit diesem Wissen Rechenfehler vermeiden\n",
    "<br>"
   ]
  },
  {
   "cell_type": "markdown",
   "metadata": {},
   "source": [
    "Bei komplexeren Rechnungen mit vielen Klammern und Operatoren ist es wichtig, den Überblick darüber zu behalten, was zuerst verrechnet wird. Nehmen wir zum Beispiel: 5 + 2 * 3  \n",
    "<br>\n",
    "Das Ergebnis ist **11**. Python rechnet von **links nach rechts** und wendet automatisch die Regel **Punkt- vor Strichrechnung** an, sonst wäre das Ergebnis 21.  \n",
    "<br>\n",
    "Mit Klammern kannst du die Berechnung visuell eindeutiger gestalten, z.B.: 5 + (2 * 3).  \n",
    "<br>\n",
    "Darüber hinaus werden **Klammern** generell verwendet, um sicherzustellen, dass die eingeklammerten Teiloperationen vor allen anderen, nicht eingeklammerten Operationen ausgeführt werden. Sie haben die höchste Priorität. **Innere Klammerausdrücke werden vor den äußeren berechnet (von innen nach außen).**  \n",
    "<br>\n",
    "Damit du den Überblick darüber behältst, welcher Rechenschritt zuerst kommt, kannst du dich an dieser Tabelle orientieren:  \n",
    "<br>\n",
    "\n",
    "| Name | Operator | Priorität |\n",
    "|----------|-------|---------------|\n",
    "| Klammern | () | 1 |\n",
    "| Potenz| ** | 2 |\n",
    "| Wurzel| **(1/n) | 2 |\n",
    "| Multiplikation | * | 3 |\n",
    "| Floor | // | 3 |\n",
    "| Rest | % | 3 |\n",
    "| Division | / | 3 |\n",
    "| Addition | + | 4 |\n",
    "| Subtraktion | - | 4 |"
   ]
  },
  {
   "cell_type": "markdown",
   "metadata": {},
   "source": [
    "<div class=\"alert alert-block alert-warning\">\n",
    "<font size=\"3\"><b>Übungen:</b></font> Die folgenden Aufgaben bestehen aus dem gleichen Grundschema:  \n",
    "   \n",
    "1) Du schreibst die Nummer der Aufgabe in einen einzeiligen Kommentar über deine Lösung.  \n",
    "<br>\n",
    "2) Du weist das errechnete Ergebnis dem in der Aufgabe genannten Variablennamen zu.  \n",
    "<br>\n",
    "3) Du gibst die Rechenschritte in Worten und mit den einzelnen Zwischenergebnissen in der in der Aufgabe genannten Form wieder.  \n",
    "<br>\n",
    "2) und 3) kannst du tauschen, wenn du mit der getauschten Reihenfolge besser arbeiten kannst.  \n",
    "<br>\n",
    "<b>Achte bei den Zwischenergebnissen auf deren Datentypen.</b>\n",
    "</div>\n",
    "<br>\n",
    "\n",
    "<div class=\"alert alert-block alert-warning\">\n",
    "<font size=\"3\"><b>Beispielaufgabe:</b></font> Nummeriere deine Lösung, erstelle eine Variable namens <b>result</b> und weise dieser das Ergebnis folgender Rechnung zu:  \n",
    "<br>\n",
    "\n",
    "9 - 4 * 20 - 3 * ((4 + 3) ** 2) / 7  \n",
    "<br>\n",
    "\n",
    "Numeriere die einzelnen Rechenschritte in einem mehrzeiligen Kommentar, inklusive der Zwischenrechnungen und -ergebnisse.  \n",
    "<br>\n",
    "Die Beispiellösung findest du in der folgenden Code-Zelle:\n",
    "</div>\n",
    "<br>"
   ]
  },
  {
   "cell_type": "code",
   "execution_count": 1,
   "metadata": {},
   "outputs": [],
   "source": [
    "# Beispiellösung\n",
    "\n",
    "\"\"\"\n",
    "1. Berechnung des innersten Klammerausdrucks. Zwischenergebnis: (4 + 3) = 7\n",
    "2. Berechnung des äußeren Klammerausdrucks und dessen Potenzierung bzw. Quadrierung. Zwischenergebnis: (7**2) = 49\n",
    "3. Multiplikation und Division von links nach rechts. Zwischenergebnis: 4 * 20 = 80 und 3 * 49 = 147 / 7 = 21.0\n",
    "4. Addition und Subtraktion von links nach rechts. Endergebnis: 9 - 80 = -71 - 21.0 = -92.0\n",
    "\"\"\"\n",
    "\n",
    "result = -92.0"
   ]
  },
  {
   "cell_type": "markdown",
   "metadata": {},
   "source": [
    "<div class=\"alert alert-block alert-warning\">\n",
    "<font size=\"3\"><b>Übung a):</b></font> Numeriere deine Lösung, erstelle eine Variable namens <b>result</b> und weise dieser das Ergebnis folgender Rechnung zu:  \n",
    "<br>\n",
    "\n",
    "((4 * (2 + 3)²) + 21))**0.5  \n",
    "<br>\n",
    "\n",
    "Gib die Rechenschritte in der richtigen Reihenfolge und mit ihren Zwischenergebnissen in einzeiligen Kommentaren an.\n",
    "    \n",
    "Achte bei den Zwischenergebnissen auf deren Datentypen. Solltest du dir unsicher sein, überprüfe die Ergebnisse in den zusätzlich für dich angelegten Code-Zellen. Leg dir bei Bedarf mehr Code-Zellen mit <b>+</b> an.\n",
    "</div>"
   ]
  },
  {
   "cell_type": "code",
   "execution_count": null,
   "metadata": {},
   "outputs": [],
   "source": []
  },
  {
   "cell_type": "code",
   "execution_count": null,
   "metadata": {},
   "outputs": [],
   "source": []
  },
  {
   "cell_type": "code",
   "execution_count": null,
   "metadata": {},
   "outputs": [],
   "source": []
  },
  {
   "cell_type": "code",
   "execution_count": null,
   "metadata": {},
   "outputs": [],
   "source": []
  },
  {
   "cell_type": "markdown",
   "metadata": {},
   "source": [
    "<div class=\"alert alert-block alert-warning\">\n",
    "    <font size=\"3\"><b>Übung b):</b></font> Erstelle eine Variable namens <b>value</b> und weise dieser das Ergebnis folgender Rechnung zu:\n",
    "<br>\n",
    "\n",
    "7 + (5 + 6) * 3 % 5 - 2 / 3 // 4  \n",
    "<br>\n",
    "\n",
    "Gib die Rechenschritte in der richtigen Reihenfolge und mit ihren Zwischenergebnissen in einem mehrzeiligen Kommentar an.\n",
    "</div>"
   ]
  },
  {
   "cell_type": "code",
   "execution_count": null,
   "metadata": {},
   "outputs": [],
   "source": []
  },
  {
   "cell_type": "code",
   "execution_count": 100,
   "metadata": {},
   "outputs": [],
   "source": []
  },
  {
   "cell_type": "code",
   "execution_count": null,
   "metadata": {},
   "outputs": [],
   "source": []
  },
  {
   "cell_type": "code",
   "execution_count": null,
   "metadata": {},
   "outputs": [],
   "source": []
  },
  {
   "cell_type": "markdown",
   "metadata": {},
   "source": [
    "Welche der Formatierungsmöglichkeiten findest du am anschaulichsten?"
   ]
  },
  {
   "cell_type": "markdown",
   "metadata": {},
   "source": [
    "<div class=\"alert alert-block alert-success\">\n",
    "<b>Super! </b> Nun hast du anhand von Beispielen gefestigt, wie Python rechnet. In Zukunft wird dich das vor Programmierfehlern bewahren.  \n",
    "<br>\n",
    " \n",
    "Die folgenden Einheiten zum Kapitel \"3.1 Python als Taschenrechner\" beinhalten Übungen zur praktischen Anwendung des bisher Gelernten.\n",
    "</div>"
   ]
  },
  {
   "cell_type": "markdown",
   "metadata": {},
   "source": [
    "<div class=\"alert alert-block alert-info\">\n",
    "<h3>Das kannst du dir aus dieser Übung mitnehmen:</h3>\n",
    "\n",
    "* **Python rechnet ...**\n",
    "    * von links nach rechts\n",
    "    * beachtet Punkt- vor Strichrechnung\n",
    "    * priorisiert Klammern von innen nach außen, dann Potenzen, dann Punkt- vor Strichrechnung"
   ]
  }
 ],
 "metadata": {
  "kernelspec": {
   "display_name": "Python 3",
   "language": "python",
   "name": "python3"
  },
  "language_info": {
   "codemirror_mode": {
    "name": "ipython",
    "version": 3
   },
   "file_extension": ".py",
   "mimetype": "text/x-python",
   "name": "python",
   "nbconvert_exporter": "python",
   "pygments_lexer": "ipython3",
   "version": "3.7.3"
  }
 },
 "nbformat": 4,
 "nbformat_minor": 2
}
