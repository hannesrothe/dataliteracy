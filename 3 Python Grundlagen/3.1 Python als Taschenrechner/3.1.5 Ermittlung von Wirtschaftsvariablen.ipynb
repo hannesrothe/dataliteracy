{
 "cells": [
  {
   "cell_type": "markdown",
   "metadata": {},
   "source": [
    "# 3.1 Python als Taschenrechner\n",
    "\n",
    "## 3.1.5 Ermittlung von Wirtschaftsvariablen\n",
    "\n",
    "In diesem abschließenden Subkapitel von \"Python als Taschenrechner\" gehen wir wichtige Fachbegriffe aus dem Wirtschaftsbereich durch, die du eventuell bereits aus deinem Studium kennst. Anschließend bist du in einer Übung an der Reihe, einige der vorgestellten Kennzahlen selbst rechnerisch zu ermitteln.\n",
    "<br>\n",
    "\n",
    "Im Anschluss daran sind die wichtigsten Punkte zu \"Python als Taschenrechner\" in einer kompletten Zusammenfassung für dich aufgelistet."
   ]
  },
  {
   "cell_type": "markdown",
   "metadata": {},
   "source": [
    "#  Begrifflichkeiten  \n",
    "<br>\n",
    "\n",
    "**Slack/Surplus\t(Überschuss)**\n",
    "* Differenz\tzwischen verfügbarer und\tgenutzter Kapazität (Activity)\n",
    "* **Bsp.:\t2*A\t+ 3*B <= 100**\n",
    "    * angenommen, im Optimum gelte:\tA =\t30\tund\tB =\t10\n",
    "    * dann\tist: 2*30 +\t3*10 = 90 <= 100\n",
    "    * Restkapazität: 100– 90 = 10 (= Slack der Restriktion)  \n",
    "<br>\n",
    "<br>\n",
    "\n",
    "**Right Hand Side (RHS)\tvs.\tLeft Hand Side (LHS)**  \n",
    "* = rechte (bzw. linke) Seite der (Un-)Gleichungen\n",
    "* **Bsp. (wie oben): 2*A + 3*B <= 100**\n",
    "    * 100 ist die RHS  \n",
    "<br>\n",
    "<br>\n",
    "\n",
    "**Bounds (Begrenzungen)**\n",
    "* x\t>= 0: Lower Bound (LB)\t\n",
    "* x\t<= 10: Upper Bound (UB  \n",
    "<br>\n",
    "<br>\n",
    "\n",
    "**Schattenpreise (Dual Prices)**\t\n",
    "* „gehört“\tzu einer Restriktion **innerhalb einer zulässigen Lösung**\n",
    "* gibt\tan,\tum\twie\tviel sich der Zielfunktionswert ändert,\twenn sich die entsprechende Produktionskapazität um\teine marginale Einheit ändert\t\n",
    "* das\theißt nicht zwangsläufig, dass es für 1\tganze Einheit gilt!\n",
    "* Maximierung bei Zeitbegrenzung: „Könnte man 1h länger arbeiten, wäre der optimale Deckungsbeitrag um XXX€ höher“\n",
    "* Minimierung\tbei\tMindestproduktionsmenge: „Dürfte man 1kg weniger produzieren, wären die optimalen Kosten um\tXXX€ geringer“\n",
    "* Grenzpreis der Begrenzung des Lösungsraumes durch diese Restriktion\n",
    "* der Schattenpreis ist\tnull, solange die entsprechende Activity nicht an die Grenze der\tRight Hand Side\t(RHS) stößt  (aka. ausgelastet wird)\n",
    "* d.h.,\twenn Slack existiert, ist der Schattenpreis dieser Restriktion 0  \n",
    "<br>\n",
    "<br>\n",
    "\n",
    "**Reduzierte Kosten\t(Reduced Costs)**\n",
    "* werden für eine Variable angegeben\n",
    "* gibt\tan, wie\tsich der\tZielfunktionswert ändert, wenn die Untergrenze der Variable\terreicht ist und um\t1 erhöht (Obergrenze ->\tum 1 verringert) wird\n",
    "* durch\t„Nicht-Produktion“ vermiedener Verlust; Grenzkosten\n",
    "* sowohl Schattenpreise, als auch reduzierte\tKosten\tsind quantitativ nur für die\tnächste\tEinheit interpretierbar\t-> für\tweitere\tEinheiten nur die Richtung"
   ]
  },
  {
   "cell_type": "markdown",
   "metadata": {},
   "source": [
    "<div class=\"alert alert-block alert-warning\">\n",
    "<font size=\"3\"><b>Beispielaufgabe:</b></font> Nutze Python als Taschenrechner und löse die folgenden Aufgaben anhand des weiter unten gegebenen Modells und Reports. Achte auf die gleiche Farbgebung in der Aufgabenstellung und im Report.  \n",
    "<br>\n",
    "<img src=\"3-1-5-ErmittlungWirtschaftsvariablen.png\">   \n",
    "<br>\n",
    "a) Berechne die Variable a und gib sie aus.  \n",
    "<br>\n",
    "<font color = blue>b) Wie lautet der unter 1) gesuchte Zielfunktionswert (ZFW, Objective Function Value)? Belege die Variablen zu seiner Errechnung mit den entsprechenden Werten und gib den ZFW aus.</font>  \n",
    "<br>\n",
    "<font color = darkorange>c) Welche Variablenwerte und Vergleichsoperatoren sind unter Res2) einzutragen? Belege die Variablen mit ihren entsprechenden Werten und ermittle das Ergebnis der Gleichung über die Ausgabe mittels print(). Gib zusätzlich die aufgelöste Gleichung mit den richtigen Vergleichsoperatoren in einem Kommentar an.</font> \n",
    "<br>  \n",
    "Liste deine Antworten in einzelnen Codezellen mit einer eindeutigen Zuweisung (a), b), c)) auf.  \n",
    "<br>\n",
    "Eine Lösung könnte zum Beispiel so ähnlich aussehen:\n",
    "</div>"
   ]
  },
  {
   "cell_type": "code",
   "execution_count": null,
   "metadata": {},
   "outputs": [],
   "source": [
    "# a)\n",
    "\n",
    "# geg.: Res1) 2a <= 30\n",
    "# Da der Slack von Res1) 0 beträgt: 2a <= 30 - 0 = 2a <= 30\n",
    "\n",
    "a = 30/2\n",
    "\n",
    "print(a)"
   ]
  },
  {
   "cell_type": "code",
   "execution_count": null,
   "metadata": {},
   "outputs": [],
   "source": [
    "# b)\n",
    "\n",
    "# geg.: ZF: 4a + 3b + 3c\n",
    "# a = 15.0, b =1.0, c = 32.0\n",
    "\n",
    "a = 15.0\n",
    "b = 1.0\n",
    "c = 32.0\n",
    "\n",
    "zfw = 4*a + 3*b + 3*c\n",
    "\n",
    "print(zfw)"
   ]
  },
  {
   "cell_type": "code",
   "execution_count": null,
   "metadata": {},
   "outputs": [],
   "source": [
    "# c)\n",
    "\n",
    "# geg.: Res2) a + b + 2c ??? 100\n",
    "\n",
    "a = 15.0\n",
    "b = 1.0\n",
    "c = 32.0\n",
    "\n",
    "solution = a + b + 2*c\n",
    "\n",
    "print(solution)\n",
    "\n",
    "# 80 <= 100"
   ]
  },
  {
   "cell_type": "markdown",
   "metadata": {},
   "source": [
    "<div class=\"alert alert-block alert-warning\">\n",
    "<font size=\"3\"><b>Übung:</b></font> Nutze Python als Taschenrechner und löse die folgenden Aufgaben anhand des weiter unten gegebenen Modells und Reports. Liste deine Antworten in einzelnen Codezellen mit einer eindeutigen Zuweisung (a), b), c)) auf. \n",
    "<br>\n",
    "<img src=\"3-1-5-Ue-ErmittlungWirtschaftsvariablen.png\">   \n",
    "<br>\n",
    "a) Berechne die Variable z und gib sie aus.  \n",
    "<br>\n",
    "b) Wie lautet der unter 1) gesuchte Zielfunktionswert (ZFW, Objective Function Value)? Belege die Variablen zu seiner Errechnung mit den entsprechenden Werten und gib den ZFW aus.\n",
    "<br>\n",
    "c) Welche Variablenwerte und Vergleichsoperatoren sind unter Res5) einzutragen? Belege die Variablen mit ihren entsprechenden Werten und ermittle das Ergebnis der Gleichung über die Ausgabe mittels print(). Gib zusätzlich die aufgelöste Gleichung mit den richtigen Vergleichsoperatoren in einem Kommentar an. \n",
    "</div>"
   ]
  },
  {
   "cell_type": "code",
   "execution_count": null,
   "metadata": {},
   "outputs": [],
   "source": []
  },
  {
   "cell_type": "code",
   "execution_count": null,
   "metadata": {},
   "outputs": [],
   "source": []
  },
  {
   "cell_type": "code",
   "execution_count": null,
   "metadata": {},
   "outputs": [],
   "source": []
  },
  {
   "cell_type": "code",
   "execution_count": null,
   "metadata": {},
   "outputs": [],
   "source": []
  },
  {
   "cell_type": "code",
   "execution_count": null,
   "metadata": {},
   "outputs": [],
   "source": []
  },
  {
   "cell_type": "markdown",
   "metadata": {},
   "source": [
    "<div class=\"alert alert-block alert-success\">\n",
    "<b>Du hast es geschafft, Gratulation!</b> Du hast soeben das erste Kapitel zu den Python-Grundlagen durchgearbeit und sehr viel gelernt. Damit du das Wichtigste gut im Kopf behalten kannst, sind hier die Kernpunkte für dich zusammengefasst:\n"
   ]
  },
  {
   "cell_type": "markdown",
   "metadata": {},
   "source": [
    "<div class=\"alert alert-block alert-info\">\n",
    "<h3>Das kannst du aus dem Kapitel \"3.1 Python als Taschenrechner\" mitnehmen:</h3>\n",
    "\n",
    "* **mit ``=`` weist du Variablen Werte zu**, z.B.: ``x = 3``\n",
    "* Variablen können wiederum anderen Variablen zugewiesen werden, z.B.: ``result = x * x``\n",
    "* ein und dieselbe Variable kann mit neuen Werten überschrieben werden, z.B.: ``x = x +1`` (erhöht x um 1)\n",
    "* um einen numerischen Wert zu erhöhen/senken, kann der Operator genausogut vor das ``=``  geschrieben werden, z.B.:  ``x /= 2``  (teilt x durch 2)  \n",
    "<br>\n",
    "\n",
    "* **Ergebnisse erhältst du im Jupyter Notebook, indem du ...**\n",
    "    * zunächst eine neue Zelle mit <font color = green>+</font> anlegst.\n",
    "    * ganz oben auf <font color = green>Run</font> klickst: die Zelle wird ausgeführt.\n",
    "    * auf <font color = green>Strg</font> plus <font color = green>Enter</font> klickst: die Zelle wird ausgeführt (Mac: <font color = green>Command Key</font> plus <font color = green>Enter</font>).\n",
    "    * auf <font color = green>Alt</font> plus <font color = green>Enter</font> klickst: Die Zelle wird ausgeführt und automatisch eine neue Zelle darunter erstellt (Mac: <font color = green>Option</font> plus <font color = green>Enter</font>) .\n",
    "    * ``print()`` nutzt, z.B.: ``print(result)``\n",
    "    * direkt z.B. ``result`` eingibst. Damit erhältst du ein unformatiertes Ergebnis.  \n",
    "<br>\n",
    "* die **Grundrechenarten** werden mit folgenden Operatoren durchgeführt:\n",
    "    * Multiplikation: ``*``\n",
    "    * Division (ergibt **immer** Fließkommazahl): ``/``\n",
    "    * Addition: ``+``\n",
    "    * Subtraktion: ``-``  \n",
    "<br>    \n",
    "* es gibt **weitere Operatoren** für komplexere Berechnungen:\n",
    "    * Potenz (Exponent): ``**``\n",
    "    * Wurzelziehen (über Potenzierung, Ergebnistyp ist stets Float): ``x**(1/n)``\n",
    "    * Rest (Rest nach Division zweier ganzer Zahlen): ``%``\n",
    "    * Floor-Division (Ergebnistyp ist eine ganze Zahl als Float oder Integer dargestellt): ``//``  \n",
    "<br>    \n",
    "* **Ganzzahlen können zu Fließkommazahlen konvertiert werden und umgekehrt:**\n",
    "    * Eine Rechnung, in der mindestens ein Float vorkommt, ergibt immer einen Float, sonst Integer\n",
    "    * Ganzzahl zu Fließkommazahl: ``float(2)`` => 2.0\n",
    "    * Fließkommazahl zu Ganzzahl: ``int(2.0)`` => 2\n",
    "    * kennst du den Datentyp nicht, frage ihn ab mit ``type()``, z.B.: ``type(x)``  \n",
    "<br>\n",
    "* **Python rechnet ...**\n",
    "    * von links nach rechts\n",
    "    * beachtet Punkt- vor Strichrechnung\n",
    "    * priorisiert Klammern von innen nach außen, dann Potenzen, dann Punkt- vor Strichrechnung  \n",
    "<br>    \n",
    "* **Kommentare** sind in Python ...\n",
    "    * wichtig, um den Code für dich und andere verständlich zu halten\n",
    "    * einzeilig(mit 2 Leerzeichen Abstand zu nebenstehendem Code): ``  # Kommentar``\n",
    "    * mehrzeilig: ``\"\"\" Kommentar \"\"\"``  "
   ]
  }
 ],
 "metadata": {
  "kernelspec": {
   "display_name": "Python 3",
   "language": "python",
   "name": "python3"
  },
  "language_info": {
   "codemirror_mode": {
    "name": "ipython",
    "version": 3
   },
   "file_extension": ".py",
   "mimetype": "text/x-python",
   "name": "python",
   "nbconvert_exporter": "python",
   "pygments_lexer": "ipython3",
   "version": "3.7.3"
  }
 },
 "nbformat": 4,
 "nbformat_minor": 2
}
