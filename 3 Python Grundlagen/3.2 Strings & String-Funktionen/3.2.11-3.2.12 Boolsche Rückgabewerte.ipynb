{
 "cells": [
  {
   "cell_type": "markdown",
   "metadata": {},
   "source": [
    "#  3.2 Strings & String-Funktionen\n",
    "\n",
    "## 3.2.11-3.2.12 Boolsche Rückgabewerte\n",
    "\n",
    "Im Anschluss dieser Übungseinheit kannst du ...\n",
    "+ boolsche Rückgabwerte interpretieren\n",
    "+ Booleans auch in ihrer Nützlichkeit verstehen\n",
    "\n",
    "Darüber hinaus gewinnst du erste Einblicke in die Objektorientierung. Möchtest du einmal komplexere Programme schreiben, ist dies die Basis dafür."
   ]
  },
  {
   "cell_type": "markdown",
   "metadata": {},
   "source": [
    "## 3.2.11 Die wichtigsten String-Funktionen mit boolschen Rückgabewerten\n",
    "\n",
    "Bei dieser Überschrift fragst du dich vielleicht: 'Boolsche Rückgabewerte? Was soll das sein?'  \n",
    "<br>\n",
    "Die Antwort besteht aus nur zwei Teilen: Der Rückgabewert ist entweder True (wahr) oder False (falsch), je nachdem, was die zugehörige Funktion abfragt. Es gibt niemals mehr und die Antwort auf eine boolsche Abfrage ist immer **entweder <font color = green>True</font> oder <font color = darkred>False</font>**.  \n",
    "<br>\n",
    "Diese beiden Rückgabewerte werden **Booleans** genannt und innerhalb von Python **bool** (äquivalent zu int, float, str).  \n",
    "<br>\n",
    "Sie erweisen sich als besonders nützlich in Programmen, in welchen bestimmte Funktionen nur ausgeführt werden sollen, wenn etwas True oder False ist. Zum Beispiel soll die Adresse eines Kunden erst in die Datenbank aufgenommen werden, wenn sich dessen Adresse als valide herausstellt (True oder nicht False), also beispielsweise keine Hausnummer mit einer negativen Zahl enthält. Wegen derartiger Anwendungsfälle sind Booleans unverzichtbar beim Programmieren.  \n",
    "<br>\n",
    "### 3.2.11 a)  Zeichenüberprüfung am Stringanfang und -ende\n",
    "\n",
    "#### startswith()\n",
    "\n",
    "... überprüft, ob ein Character/String sich am Anfang des abzusuchenden Strings befindet. Wie bei einigen bisher kennengelernten Funktionen gibt es auch hier die optionale Möglichkeit, einen Start- sowie auch Endindex festzulegen, innerhalb derer gesucht werden soll. Beispiel:  "
   ]
  },
  {
   "cell_type": "code",
   "execution_count": null,
   "metadata": {},
   "outputs": [],
   "source": [
    "question = 'Hallo Harry, hast du dich am 6. Index versteckt?'  \n",
    "\n",
    "found = question.startswith('Harry', 6, 25)  \n",
    "\n",
    "print(found)  "
   ]
  },
  {
   "cell_type": "markdown",
   "metadata": {},
   "source": [
    "<div class=\"alert alert-block alert-info\">\n",
    "<font size=\"3\"><b>Tipp:</b></font> In diesem Beispiel wurde das Ergebnis der Abfrage mit <b>startswith()</b> in der extra Variablen <b>found</b> gespeichert. So vorzugehen ist wichtig, wenn du Rückgabewerte weiterverarbeiten möchtest. Ansonsten ist die Abfrage mit einer Funktion nur temporär in einem Programmteil gespeichert und du kannst nicht für andere Zwecke auf sie zugreifen. <b>found</b> könnte so nun Teil einer weiteren Abfrage oder einer Funktion werden. \n",
    "</div>\n",
    "<br>\n",
    "\n",
    "####  endswith()\n",
    "\n",
    "Analog zu ``startswith()`` sucht ``endswith()`` das Ende eines Strings nach einem gewählten Wert ab. Beispiel:  "
   ]
  },
  {
   "cell_type": "code",
   "execution_count": null,
   "metadata": {},
   "outputs": [],
   "source": [
    "question = 'Hast du dich etwa weiter hinten versteckt, Harry?'  \n",
    "\n",
    "# Vorherige Abfrage der Länge des Strings mit len()\n",
    "\n",
    "len(question)  "
   ]
  },
  {
   "cell_type": "raw",
   "metadata": {},
   "source": [
    "found = question.endswith('Harry', 0, 48)  \n",
    "\n",
    "print(found)  "
   ]
  },
  {
   "cell_type": "markdown",
   "metadata": {},
   "source": [
    "Natürlich hätte man hier auch ohne Argumente für den Start- und Endindex direkt nach **Harry?** suchen können. Allerdings hätte man Harry dann mit dem Fragezeichen suchen müssen. \n",
    "<br>\n",
    "### 3.2.11 b)  is...() - Vergleichsfunktionen/Comparison Functions\n",
    "Es gibt viele boolsche Abfragen in Python, die mit **is...** beginnen. Ein paar davon sind:\n",
    "<br>\n",
    "\n",
    "#### isdigit()\n",
    "... gibt True oder False zurück, je nachdem, ob ein String **ausschließlich** aus Zahlen besteht oder nicht. Beispiel:  "
   ]
  },
  {
   "cell_type": "code",
   "execution_count": null,
   "metadata": {},
   "outputs": [],
   "source": [
    "numbers = '123'  \n",
    "\n",
    "numbers.isdigit()"
   ]
  },
  {
   "cell_type": "markdown",
   "metadata": {},
   "source": [
    "Würde der String aus einem Float bestehen (z.B. 1.23) wäre der Output False, ebenso wenn auch nur ein anderes Zeichen als eine Zahl in ihm enthalten wäre. Beispiel:"
   ]
  },
  {
   "cell_type": "code",
   "execution_count": null,
   "metadata": {},
   "outputs": [],
   "source": [
    "numbers = '1.23'  \n",
    "\n",
    "numbers.isdigit()"
   ]
  },
  {
   "cell_type": "markdown",
   "metadata": {},
   "source": [
    "#### isalnum()\n",
    "... gibt True oder False zurück, je nachdem, ob ein String alphanumerisch ist oder nicht. **Alphanumerisch** bedeutet bei dieser Funktion, dass der String entweder nur aus Buchstaben oder nur aus Zahlen besteht.  \n",
    "<br>\n",
    "Beispiel für einen nicht alphanumerischen String:"
   ]
  },
  {
   "cell_type": "code",
   "execution_count": null,
   "metadata": {},
   "outputs": [],
   "source": [
    "language = 'Python 3'   \n",
    "\n",
    "language.isalnum()"
   ]
  },
  {
   "cell_type": "markdown",
   "metadata": {},
   "source": [
    "Beispiel für einen nicht alphanumerischen String (da ein Leerzeichen im String vorhanden ist): "
   ]
  },
  {
   "cell_type": "code",
   "execution_count": null,
   "metadata": {},
   "outputs": [],
   "source": [
    "language = 'Python '   \n",
    "\n",
    "language.isalnum()"
   ]
  },
  {
   "cell_type": "markdown",
   "metadata": {},
   "source": [
    "Beispiel für einen alphanumerischen String, bestehend nur aus Buchstaben:"
   ]
  },
  {
   "cell_type": "code",
   "execution_count": null,
   "metadata": {},
   "outputs": [],
   "source": [
    "language = 'Python'   \n",
    "\n",
    "language.isalnum()"
   ]
  },
  {
   "cell_type": "markdown",
   "metadata": {},
   "source": [
    "Beispiel für einen alphanumerischen String, bestehend nur aus Zahlen:"
   ]
  },
  {
   "cell_type": "code",
   "execution_count": null,
   "metadata": {},
   "outputs": [],
   "source": [
    "threes = '333'   \n",
    "\n",
    "threes.isalnum()"
   ]
  },
  {
   "cell_type": "markdown",
   "metadata": {},
   "source": [
    "Beispiel für einen nicht alphanumerischen String, da ein Punkt keine Zahl ist (Floats sind also nicht alphanumerisch):"
   ]
  },
  {
   "cell_type": "code",
   "execution_count": null,
   "metadata": {},
   "outputs": [],
   "source": [
    "threes = '3.33'   \n",
    "\n",
    "threes.isalnum()"
   ]
  },
  {
   "cell_type": "markdown",
   "metadata": {},
   "source": [
    "#### isalpha()\n",
    "... gibt True oder False zurück, je nachdem, ob ein String **ausschließlich** aus Buchstaben besteht oder nicht. Beispiel:"
   ]
  },
  {
   "cell_type": "code",
   "execution_count": null,
   "metadata": {},
   "outputs": [],
   "source": [
    "letters = 'abcdefghij'\n",
    "\n",
    "letters.isalpha()"
   ]
  },
  {
   "cell_type": "markdown",
   "metadata": {},
   "source": [
    "#### isspace()\n",
    "... gibt True oder False zurück, je nachdem, ob ein String **ausschließlich** aus Leerzeichen besteht oder nicht. Beispiel:"
   ]
  },
  {
   "cell_type": "code",
   "execution_count": null,
   "metadata": {},
   "outputs": [],
   "source": [
    "blank = '      '   \n",
    "\n",
    "blank.isspace()"
   ]
  },
  {
   "cell_type": "markdown",
   "metadata": {},
   "source": [
    "#### isupper()\n",
    "... gibt True oder False zurück, je nachdem, ob ein String **ausschließlich** aus Großbuchstaben besteht oder nicht. Beispiel:"
   ]
  },
  {
   "cell_type": "code",
   "execution_count": null,
   "metadata": {},
   "outputs": [],
   "source": [
    "hungry = 'HUNGER'    \n",
    "\n",
    "hungry.isupper()  "
   ]
  },
  {
   "cell_type": "markdown",
   "metadata": {},
   "source": [
    "Analog dazu gibt es noch ``islower()``, ``istitle()``, ``isnumeric()`` und mehr.  \n",
    "\n",
    "#### ISFLOAT()?!\n",
    "\n",
    "Es gibt in Python keine built-in Funktion, die checkt, ob eine Zahl ein Float ist. Aber es gibt einen Trick, das herauszufinden! Du kennst jetzt sogar die Funktionen, die man in Kombination einsetzen kann, um das herauszufinden. Es handelt sich um ``count()``, ``replace()`` und ``isdigit()``.  \n",
    "\n",
    "In einem Float kommt auf jeden Fall ein Punkt vor:"
   ]
  },
  {
   "cell_type": "code",
   "execution_count": 9,
   "metadata": {},
   "outputs": [
    {
     "data": {
      "text/plain": [
       "1"
      ]
     },
     "execution_count": 9,
     "metadata": {},
     "output_type": "execute_result"
    }
   ],
   "source": [
    "num = '1.23'\n",
    "\n",
    "num.count('.')"
   ]
  },
  {
   "cell_type": "markdown",
   "metadata": {},
   "source": [
    "Wenn wir wissen, dass der String einen Punkt enthält und wir einen Zahlenwert erwartet haben (wir tun ja so, als würden wir die Zahl nicht sehen können), können wir den Punkt ersetzen:"
   ]
  },
  {
   "cell_type": "code",
   "execution_count": 10,
   "metadata": {},
   "outputs": [
    {
     "data": {
      "text/plain": [
       "'123'"
      ]
     },
     "execution_count": 10,
     "metadata": {},
     "output_type": "execute_result"
    }
   ],
   "source": [
    "num.replace('.','',1)"
   ]
  },
  {
   "cell_type": "markdown",
   "metadata": {},
   "source": [
    "Und da <b>num</b> damit noch nicht abgespeichert ist, speichern wir es jetzt:"
   ]
  },
  {
   "cell_type": "code",
   "execution_count": 16,
   "metadata": {},
   "outputs": [],
   "source": [
    "num_int = num.replace('.','',1)"
   ]
  },
  {
   "cell_type": "markdown",
   "metadata": {},
   "source": [
    "<b>num_int</b> können wir jetzt darauf prüfen, ob sie eine Zahl ist:"
   ]
  },
  {
   "cell_type": "code",
   "execution_count": 13,
   "metadata": {},
   "outputs": [
    {
     "data": {
      "text/plain": [
       "True"
      ]
     },
     "execution_count": 13,
     "metadata": {},
     "output_type": "execute_result"
    }
   ],
   "source": [
    "num_int.isdigit()"
   ]
  },
  {
   "cell_type": "markdown",
   "metadata": {},
   "source": [
    "Wenn wir wissen, dass ein erwarteter Zahlenwert genau einen Punkt enthält, können wir auch die beiden letzten Funktionen kombinieren:"
   ]
  },
  {
   "cell_type": "code",
   "execution_count": 15,
   "metadata": {},
   "outputs": [
    {
     "data": {
      "text/plain": [
       "True"
      ]
     },
     "execution_count": 15,
     "metadata": {},
     "output_type": "execute_result"
    }
   ],
   "source": [
    "num = '1.23'\n",
    "\n",
    "num.replace('.','',1).isdigit()"
   ]
  },
  {
   "cell_type": "markdown",
   "metadata": {},
   "source": [
    "Die Kombination ergibt auch True, wenn <b>num</b> ein Integer ist. Deshalb ist der vorherige Check auf genau einen Punkt mit ``count()`` wichtig.  \n",
    "\n",
    "Im Kapitel \"3.3 Conditions - Bedingungen\" lernst du, wie du eine kombinierte Abfrage mit allen drei Funktionen durchführen kannst.  \n",
    "<br>\n",
    "<div class=\"alert alert-block alert-warning\">\n",
    "    <font size=\"3\"><b>Übung:</b></font>  \n",
    "<br>\n",
    "    \n",
    "Dein Kunde Tom hat seinen vollständigen Namen in deiner Datenbank hinterlegt. Hat er auch ein Leerzeichen Abstand zwischen seinem Vor- und Zunamen eingehalten?  \n",
    "<br>\n",
    "    \n",
    "Speichere das Ergebnis der boolschen Abfrage in einer extra Variable und gib diese anschließend aus.\n",
    "<br>\n",
    "\n",
    "Einen Tipp zur Lösung dieser Aufgabe findest du weiter unten.\n",
    "</div>"
   ]
  },
  {
   "cell_type": "code",
   "execution_count": null,
   "metadata": {},
   "outputs": [],
   "source": [
    "customer_748 = 'Tom Reckord'\n",
    "\n"
   ]
  },
  {
   "cell_type": "markdown",
   "metadata": {},
   "source": [
    "<div class=\"alert alert-block alert-warning\">\n",
    "    <font size=\"3\"><b>Tipp zur Lösung der Aufgabe:</b></font> Wie kannst du einen Character an einem <b>bestimmten Index</b> checken? Nutze die Möglichkeit der Indexauswahl.\n",
    "</div>"
   ]
  },
  {
   "cell_type": "markdown",
   "metadata": {},
   "source": [
    "## 3.2.12  in, not in, is, is not (Membership & Identity Operators)\n",
    "Membership Operators und Identity Operators sind keine Funktionen und können auch für andere Datentypen wie Listen angewendet werden. Sie alle liefern boolsche Rückgabewerte.\n",
    "<br>\n",
    "\n",
    "### 3.2.12 a)  Membership Operators\n",
    "... fragen danach, ob ein Wert Teil einer Variablen ist, die zum Beispiel einen String oder eine Liste enthält, kurz: ob der Wert in einem anderen Wert enthalten ist/zu ihm gehört. Daher stammt der Name \"Membership\" - ist der Wert ein Mitglied des anderen?\n",
    "<br>\n",
    "\n",
    "#### in\n",
    "... gibt True oder False zurück, je nachdem, ob ein ein Wert in einem anderen enthalten ist oder nicht. Beispiele:  "
   ]
  },
  {
   "cell_type": "code",
   "execution_count": null,
   "metadata": {},
   "outputs": [],
   "source": [
    "'uni' in 'university'"
   ]
  },
  {
   "cell_type": "code",
   "execution_count": null,
   "metadata": {},
   "outputs": [],
   "source": [
    "'student' in 'university'"
   ]
  },
  {
   "cell_type": "code",
   "execution_count": null,
   "metadata": {},
   "outputs": [],
   "source": [
    "'Uni' in 'university'"
   ]
  },
  {
   "cell_type": "markdown",
   "metadata": {},
   "source": [
    "Der Output ist <b>False</b> denn Python ist case-sensitive (es unterscheidet zwischen Groß- und Kleinschreibung).   \n",
    "<br>\n",
    "\n",
    "##### not in\n",
    "... gibt True oder False zurück, je nachdem, ob ein Wert **nicht** in einem anderen enthalten ist oder doch. Beispiele:"
   ]
  },
  {
   "cell_type": "code",
   "execution_count": null,
   "metadata": {},
   "outputs": [],
   "source": [
    "'uni' not in 'university'"
   ]
  },
  {
   "cell_type": "code",
   "execution_count": null,
   "metadata": {},
   "outputs": [],
   "source": [
    "'student' not in 'university'"
   ]
  },
  {
   "cell_type": "code",
   "execution_count": null,
   "metadata": {},
   "outputs": [],
   "source": [
    "'Uni' not in 'university'"
   ]
  },
  {
   "cell_type": "markdown",
   "metadata": {},
   "source": [
    "### 3.2.12 b)  Identity Operators\n",
    "... fragen danach, ob ein Wert zu einem bestimmten Datentyp oder einer Klasse gehört oder einem weiteren Wert gleicht, also zum Beispiel, ob Variable x ein Integer ist oder nicht.\n",
    "<br>\n",
    "\n",
    "#### is\n",
    "... gibt True oder False zurück, je nachdem, ob ein ein Wert einem bestimmten Typ gleicht oder nicht. Beispiele:  "
   ]
  },
  {
   "cell_type": "code",
   "execution_count": null,
   "metadata": {},
   "outputs": [],
   "source": [
    "'Beispiel' is  'Beispiel'"
   ]
  },
  {
   "cell_type": "code",
   "execution_count": null,
   "metadata": {},
   "outputs": [],
   "source": [
    "type('string') is str"
   ]
  },
  {
   "cell_type": "markdown",
   "metadata": {},
   "source": [
    "<font color = \"darkred\">Schlechtes Beispiel:</font>"
   ]
  },
  {
   "cell_type": "code",
   "execution_count": null,
   "metadata": {},
   "outputs": [],
   "source": [
    "type(2.2) is type(int)"
   ]
  },
  {
   "cell_type": "markdown",
   "metadata": {},
   "source": [
    "Achtung: Der Output hier ist nur deshalb False, weil ``type(int)`` selbst zum Datentyp **type** gehört. Der Datentyp **float** ist aber nicht der Datentyp **type**. Man könnte bei dem oberen Beispiel denken, dass Python bestätigt, dass ein Float kein Integer ist. In Wahrheit findet hier aber der Vergleich mit dem Datentyp **type** statt. Das liegt daran, dass in der Abfrage **type(xy)** mit einem weiteren **type(xz)** gleichgesetzt wurde (2x ``type()``), bzw. dass ``is type(int)`` stets zu einem Vergleich mit dem Datentyp **type** führt.  \n",
    "\n",
    "<font color = \"darkred\">Dazu ein genaueres schlechtes Beispiel:</font>"
   ]
  },
  {
   "cell_type": "code",
   "execution_count": null,
   "metadata": {},
   "outputs": [],
   "source": [
    "2 is type(int)"
   ]
  },
  {
   "cell_type": "markdown",
   "metadata": {},
   "source": [
    "Auf diese Art der Abfrage ist aus den oben genannten Gründen kein Verlass!  \n",
    "\n",
    "Es steckt noch mehr dahinter, wie du dem Tipp weiter unten entnehmen kannst.  \n",
    "\n",
    "<font color = \"darkgreen\">Zu einem wirklich richtigen Ergebnis kommst du nur auf diese Weise</font>:"
   ]
  },
  {
   "cell_type": "code",
   "execution_count": null,
   "metadata": {},
   "outputs": [],
   "source": [
    "type(2.2) is int"
   ]
  },
  {
   "cell_type": "code",
   "execution_count": null,
   "metadata": {},
   "outputs": [],
   "source": [
    "type(2) is int"
   ]
  },
  {
   "cell_type": "markdown",
   "metadata": {},
   "source": [
    "#### is not\n",
    "... gibt True oder False zurück, je nachdem, ob ein Wert **nicht** einem anderen gleicht oder doch. Beispiele:  "
   ]
  },
  {
   "cell_type": "code",
   "execution_count": null,
   "metadata": {},
   "outputs": [],
   "source": [
    "True is not False"
   ]
  },
  {
   "cell_type": "code",
   "execution_count": null,
   "metadata": {},
   "outputs": [],
   "source": [
    "type(2.2) is not int"
   ]
  },
  {
   "cell_type": "code",
   "execution_count": null,
   "metadata": {},
   "outputs": [],
   "source": [
    "type('Blau') is not str"
   ]
  },
  {
   "cell_type": "markdown",
   "metadata": {},
   "source": [
    "<div class=\"alert alert-block alert-info\">\n",
    "<font size=\"3\"><b>Tipp:</b></font> In Python wie auch in anderen Programmiersprachen haben alle Objekte bestimmte Adressen/Referenzen, unter denen sie auf dem Computerspeicher hinterlegt sind.  \n",
    "\n",
    "Jede Variable, die du angelegt hast, ist ein Objekt.  \n",
    "\n",
    "Der Wert, den du diesem Objekt zugewiesen hast, hat seine eigene Adresse. Über die Adresse des Objekts wird lediglich das Objekt gefunden, das wiederum den Wert enthält.  \n",
    "\n",
    "Eine Objekt-Adresse sieht ungefähr so aus: 140454723286976  \n",
    "Du kannst sie jederzeit mit der Funktion <b>id(dein_objekt)</b> abfragen.\n",
    "</div>\n",
    "<br>\n",
    "\n",
    "**is** und **is not vergleichen beide** nicht die Werte, sondern **die Adressen der Werte/Objekte**. Ein Beispiel macht dir das deutlich:"
   ]
  },
  {
   "cell_type": "code",
   "execution_count": null,
   "metadata": {},
   "outputs": [],
   "source": [
    "station = 'Freie Universität'  \n",
    "\n",
    "station is 'Freie Universität'"
   ]
  },
  {
   "cell_type": "markdown",
   "metadata": {},
   "source": [
    "Das scheint paradox, sind station und 'Freie Universität' doch ein und dasselbe!? Nicht wirklich, denn <b>station</b> hat lediglich den Wert <b>'Freie Universität'</b>; er ist in ihr hinterlegt. Doch ihre Adressen sind nicht gleich, wie du soeben in dem Tipp gelesen hast. Um der Sache auf den Grund zu gehen, lass uns die IDs/Adressen checken:"
   ]
  },
  {
   "cell_type": "code",
   "execution_count": null,
   "metadata": {},
   "outputs": [],
   "source": [
    "station = 'Freie Universität'\n",
    "\n",
    "print(id(station))\n",
    "print(id('Freie Universität'))"
   ]
  },
  {
   "cell_type": "markdown",
   "metadata": {},
   "source": [
    "Wenn du die obere Code-Zelle mehrmals ausführst (<font color = \"green\">Strg</font> plus <font color = \"green\">Enter</font> bzw. Mac: <font color = \"green\">Cmd</font> plus <font color = \"green\">Enter</font>), kannst du sehen, dass sich die Adressen mit jeder Ausführung ändern. Bei jedem neuen Programmstart bekommen beide einen anderen Platz im Speicher.  \n",
    "<br>\n",
    "Stellst du also Vergleiche mit ``is`` und ``is not`` an, achte dabei darauf, dass der Vergleich über ``type()`` nur den Datentyp vergleicht und die Adressen der Objekte sich von den Adressen der Werte unterscheiden. \n",
    "<br>\n",
    "<div class=\"alert alert-block alert-warning\">\n",
    "    <font size=\"3\"><b>Übung:</b></font>  Jetzt kannst du dein neues Wissen selbst anwenden.  \n",
    "\n",
    "Weise <b>Garystraße 21</b> einer Variablen zu, überprüfe, ob ein Leerzeichen in der Straße enthalten ist und ob sie zum Datentyp String gehört (beides mit boolschen Abfragen).  \n",
    "\n",
    "Speichere auch hier wieder die Ergebnisse deiner Abfragen in extra Variablen und gib diese anschließend aus.\n",
    "</div>"
   ]
  },
  {
   "cell_type": "code",
   "execution_count": null,
   "metadata": {},
   "outputs": [],
   "source": []
  },
  {
   "cell_type": "markdown",
   "metadata": {},
   "source": [
    "<div class=\"alert alert-block alert-success\">\n",
    "<b>Fantastisch!</b> Jetzt kennst du die super wichtigen Booleans und wichtige Funktionen mit boolschen Rückgabewerten. Du hast sogar schon etwas zur Objektorientierung in Python gelernt, nämlich das jedes Objekt eine eigene Speicheradresse hat.  \n",
    "<br>\n",
    "    \n",
    "In ein paar abschließenden Aufgaben dieses Kapitels kannst du nun vieles von dem, was du bisher gelernt hast, anwenden.\n",
    "</div>"
   ]
  },
  {
   "cell_type": "markdown",
   "metadata": {},
   "source": [
    "<div class=\"alert alert-block alert-info\">\n",
    "<h3>Das kannst du dir aus dieser Übung mitnehmen:</h3>\n",
    "\n",
    "* **Booleans**\n",
    "    * ... sind entweder True (wahr) **oder** False (falsch)\n",
    "    * ... sind nützlich, wenn du einen Programmteil erst unter der Bedingung true/nicht false oder false/nicht true ausführen lassen möchtest (dazu mehr im nächsten Kapitel (3.3 Conditionals)\n",
    "    * ... gehören zum Datentyp **bool**  \n",
    "<br>\n",
    "* **Boolsche Abfragen**\n",
    "    * ``startswith()``, überprüft mit den boolschen Rückgabewerten True **oder** False, ob ein Character/String sich am Anfang des abzusuchenden Strings befindet - Syntax: <font color = green>str.startswith('Index von Zeichen in String finden', optionaler Startindex, bis vor optionalen Endindex)</font>\n",
    "    * ``endswith()``, überprüft mit den boolschen Rückgabewerten True oder False, ob ein Character/String sich am Ende des abzusuchenden Strings befindet - Syntax: <font color = green>str.endswith('Index von Zeichen in String finden', optionaler Startindex, bis vor optionalen Endindex)</font>\n",
    "    * ``isdigit()``, überprüft mit den boolschen Rückgabewerten True oder False, ob ein String ausschließlich aus Zahlen besteht - Syntax: <font color = green>str.isdigit()</font>\n",
    "    * ``isalnum()``, überprüft mit den boolschen Rückgabewerten True oder False, ob ein String aus mindestens einer Zahl besteht - Syntax: <font color = green>str.isalnum()</font>\n",
    "       * ``isalpha()``, überprüft mit den boolschen Rückgabewerten True oder False, ob ein String ausschließlich aus Buchstaben besteht - Syntax: <font color = green>str.isalpha()</font>\n",
    "    * ``isspace()``, überprüft mit den boolschen Rückgabewerten True oder False, ob ein String nur aus Leerzeichen besteht - Syntax: <font color = green>str.isspace()</font>\n",
    "    * ``isupper()``, überprüft mit den boolschen Rückgabewerten True oder False, ob ein String nur aus Großbuchstaben besteht - Syntax: <font color = green>str.isupper()</font>\n",
    "    * äquivalent zu den letztgenannten: ``islower()``, ``istitle()``, ``isnumeric()`` und mehr\n",
    "    * **Membership Operators**\n",
    "        * ``in`` und ``not in``, überprüfen mit den boolschen Rückgabewerten True oder False, ob ein String/Wert in einem anderen String/Wert enthalten ist oder nicht - Beispiel: ``x in y`` sowie ``x not in y``\n",
    "    * **Identity Operators**\n",
    "        * ``is`` und ``is not``, überprüfen mit den boolschen Rückgabewerten True oder False, ob die Speicheradresse eines Wertes der Speicheradresse eines anderen Wertes gleicht\n",
    "            * Beispiele: ``x is y`` sowie ``x is not y``\n",
    "            * Beispiel in Kombination mit ``type()``: ``type(3) is int`` (vergleicht den Datentyp von 3 mit Integer. Der Output ist True, da ein und derselbe Datentyp intern unter der gleichen Adresse zu finden ist.)\n",
    "</div>"
   ]
  }
 ],
 "metadata": {
  "kernelspec": {
   "display_name": "Python 3",
   "language": "python",
   "name": "python3"
  },
  "language_info": {
   "codemirror_mode": {
    "name": "ipython",
    "version": 3
   },
   "file_extension": ".py",
   "mimetype": "text/x-python",
   "name": "python",
   "nbconvert_exporter": "python",
   "pygments_lexer": "ipython3",
   "version": "3.7.3"
  }
 },
 "nbformat": 4,
 "nbformat_minor": 2
}
