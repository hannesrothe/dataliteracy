{
 "cells": [
  {
   "cell_type": "markdown",
   "metadata": {},
   "source": [
    "#  3.2 Strings & String-Funktionen\n",
    "\n",
    "## 3.2.13 Abschließende Aufgaben zu Strings\n",
    "\n",
    "In der letzten Einheit dieses Kapitels wendest du du verschiedene Funktionen an praktischen Beispielen an.  \n",
    "\n",
    "Du erfährst außerdem, wie du an umfangreichere Aufgaben herangehen kannst."
   ]
  },
  {
   "cell_type": "markdown",
   "metadata": {},
   "source": [
    "<div class=\"alert alert-block alert-warning\">\n",
    "    <font size=\"3\"><b>1. Begrüßung mit Initialen und Abschlussjahr-Berechnung:</b></font>  \n",
    "<br>    \n",
    "    \n",
    "Schreibe ein Programm, das den User erst nach seinem Vornamen sowie Nachnamen fragt und anschließend den User mit seinen Initialen begrüßt (jeweils der erste Buchstabe des Vor- und Nachnamens).  \n",
    "<br>\n",
    "Das Programm fragt den User dann, in welchem Jahr er/sie mit seinem Bachelor begonnen hat. Daraufhin gibt das Programm dem User aus, wann dieser voraussichtlich seinen Abschluss geschafft hat (3 Jahre später).  \n",
    "<br>\n",
    "    \n",
    "Solltest du Schwierigkeiten bei der Herangehensweise an diese Aufgabe haben, findest du weiter unten 8 Tipps zur Lösung. Je weiter nach unten du scrollst, desto weiterführendere Tipps findest du. Probier aber auch selbst aus, wie die Lösung aussehen könnte, denn so lernst du am besten. Wirst du alle 8 Tipps brauchen?  \n",
    "<br>\n",
    "**Die Ausgabe sollte ungefähr so aussehen:**  \n",
    "<br>\n",
    "Hallo, wie lautet dein Vorname?  \n",
    "Alexander  \n",
    "Wie lautet dein Nachname?  \n",
    "Platz  \n",
    "Hallo A.P., schön, dich zu treffen!  \n",
    "In welchem Jahr hast du mit dem Bachelor begonnen?  \n",
    "2020  \n",
    "Toll, du bist voraussichtlich 2023 fertig :-)\n",
    "</div>"
   ]
  },
  {
   "cell_type": "code",
   "execution_count": null,
   "metadata": {},
   "outputs": [],
   "source": []
  },
  {
   "cell_type": "markdown",
   "metadata": {},
   "source": [
    "<div class=\"alert alert-block alert-warning\">\n",
    "<font size=\"3\"><b>Tipp 1 zur Lösung der Aufgabe:</b></font> Bei größeren Aufgabenstellungen hilft es grundsätzlich, sich auf einem Blatt Papier die Reihenfolge der Schritte zu ihrer Lösung aufzuschreiben. Was brauchst du als Erstes? Was soll damit geschehen? Erinnere dich an den beschriebenen Ablauf zum Coden mit User-Input, nutze ihn als Vorlage und passe ihn entsprechend an die Aufgabe an. Halte erst einmal nur als Text fest, was geschehen soll, danach erst als Code.  \n",
    "<br>\n",
    "    \n",
    "Warum nicht gleich im Notebook arbeiten?  \n",
    "Ein Blatt Papier kann dich nicht durch Fehlermeldungen irritieren und aufhalten, während du noch am Überlegen bist!\n",
    "</div>"
   ]
  },
  {
   "cell_type": "markdown",
   "metadata": {},
   "source": [
    "<div class=\"alert alert-block alert-warning\">\n",
    "<font size=\"3\"><b>Tipp 2 zur Lösung der Aufgabe:</b></font> Stell dem/der UserIn die Fragen nach ihrem Vor- und Nachnamen. Speichere nach jeder Frage den jeweiligen Input in einer passend benamten Variable.\n",
    "</div>"
   ]
  },
  {
   "cell_type": "markdown",
   "metadata": {},
   "source": [
    "<div class=\"alert alert-block alert-warning\">\n",
    "<font size=\"3\"><b>Tipp 3 zur Lösung der Aufgabe:</b></font> Erinnere dich an das Splitten/Slicing von Strings. Welchen Index brauchst du, um an die Initialen (Anfangsbuchstaben) zu kommen?\n",
    "</div>"
   ]
  },
  {
   "cell_type": "markdown",
   "metadata": {},
   "source": [
    "<div class=\"alert alert-block alert-warning\">\n",
    "<font size=\"3\"><b>Tipp 4 zur Lösung der Aufgabe:</b></font> Du kannst entweder den Input direkt slicen, indem du ihm die Slice-Operation (eckige Klammern) anhängst (an die Input-Funktion) - oder du definierst 2 neue Variablen und weist ihnen jeweils die geslicten Input-Variablen zu.\n",
    "</div>"
   ]
  },
  {
   "cell_type": "markdown",
   "metadata": {},
   "source": [
    "<div class=\"alert alert-block alert-warning\">\n",
    "<font size=\"3\"><b>Tipp 5 zur Lösung der Aufgabe:</b></font> Du gibst dem/der UserIn in einem F-String die Begrüßung mit seinen Initialen aus. In den F-String setzt du die gesliceten Input-Variablen. Danach kannst du in der gleichen Print-Funktion die Frage stellen, wann er/sie mit dem Bachelor begonnen hat. Hierbei könnte eine bestimmte Sequenz den Output verschönern ... \n",
    "</div>"
   ]
  },
  {
   "cell_type": "markdown",
   "metadata": {},
   "source": [
    "<div class=\"alert alert-block alert-warning\">\n",
    "<font size=\"3\"><b>Tipp 6 zur Lösung der Aufgabe:</b></font> Das von dem/der UserIn eingegebene Jahr speicherst du wieder in einer passend benamten Variable. Vergiss nicht, diese für die folgende Berechnung zu Integer zu konvertieren.\n",
    "</div>"
   ]
  },
  {
   "cell_type": "markdown",
   "metadata": {},
   "source": [
    "<div class=\"alert alert-block alert-warning\">\n",
    "<font size=\"3\"><b>Tipp 7 zur Lösung der Aufgabe:</b></font> Der Bachelor-Abschluss wird wahrscheinlich 3 Jahre nach dem angegebenen Jahr erreicht. Also rechnest du den User-Input plus 3. Das kannst du direkt an die Input-Funktion anhängen (wenn du den Input direkt konvertierst!) - oder du speicherst diese Rechnung in einer von dir neu angelegten Variable.  \n",
    "</div>"
   ]
  },
  {
   "cell_type": "markdown",
   "metadata": {},
   "source": [
    "<div class=\"alert alert-block alert-warning\">\n",
    "<font size=\"3\"><b>Tipp 8 zur Lösung der Aufgabe:</b></font> Die letzte Ausgabe an den/die UserIn erfolgt äquivalent zur vorherigen mit F-Strings. Dort setzt du nun die Variable mit dem errechneten Abschlussjahr ein und schreibst einen kleinen Text drumherum.  \n",
    "<br>\n",
    "Wenn du den Input direkt konvertiert hast, kannst du auch innerhalb des F-Strings die Input-Variable + 3 rechnen.\n",
    "</div>"
   ]
  },
  {
   "cell_type": "markdown",
   "metadata": {},
   "source": [
    "______________________________________________________________________________________________________________________"
   ]
  },
  {
   "cell_type": "markdown",
   "metadata": {},
   "source": [
    "<div class=\"alert alert-block alert-warning\">\n",
    "    <font size=\"3\"><b>2. URL-Korrektur:</b></font>\n",
    "\n",
    "Für eine Marktanalyse deiner Konkurrenz wurden die Besucherzahlen der Unterseiten ihrer Webseiten geprüft. Um zusammenfassen zu können, wie viele Besucher insgesamt auf ihren Webseiten waren, sollen die URLs der Unterseiten formatiert werden.  \n",
    "<br>\n",
    "Formatiere unter der Anwendung mindestens einer String-Funktion exemplarisch die folgende URL zu der URL ihrer Hauptseite <b>https://www.cactusking.com</b> um. Du kannst dir dafür neue Variablen anlegen, du kannst auch ``print()`` verwenden, doch beides ist kein Muss.  \n",
    "<br>\n",
    "Zu dieser Aufgabe findest du 5 Tipps weiter unten. Versuch aber erst, selbst auf die Lösung zu kommen. Wenn du die vorherigen Einheiten durchgegangen bist, steckt das Wissen zur Lösung dieser Aufgabe in dir.\n",
    "</div>"
   ]
  },
  {
   "cell_type": "code",
   "execution_count": null,
   "metadata": {},
   "outputs": [],
   "source": [
    "url = 'https://www.cactusking.com/sharp-spikes/juice'\n",
    "\n"
   ]
  },
  {
   "cell_type": "markdown",
   "metadata": {},
   "source": [
    "<div class=\"alert alert-block alert-warning\">\n",
    "<font size=\"3\"><b>Tipp 1 zur Lösung der Aufgabe:</b></font> Zur Lösung wendest du (unter anderem) eine Funktion an. \n",
    "</div>"
   ]
  },
  {
   "cell_type": "markdown",
   "metadata": {},
   "source": [
    "<div class=\"alert alert-block alert-warning\">\n",
    "<font size=\"3\"><b>Tipp 2 zur Lösung der Aufgabe:</b></font> Außerdem wählst du einen bestimmten Teil der URL aus, damit nur dieser dargestellt wird.\n",
    "</div>"
   ]
  },
  {
   "cell_type": "markdown",
   "metadata": {},
   "source": [
    "<div class=\"alert alert-block alert-warning\">\n",
    "<font size=\"3\"><b>Tipp 3 zur Lösung der Aufgabe:</b></font> Mit welcher Funktion kannst du Strings trennen?\n",
    "</div>"
   ]
  },
  {
   "cell_type": "markdown",
   "metadata": {},
   "source": [
    " <div class=\"alert alert-block alert-warning\">\n",
    "<font size=\"3\"><b>Tipp 4 zur Lösung der Aufgabe:</b></font> Von wo aus und bis wohin sollte der String getrennt werden?\n",
    "</div>"
   ]
  },
  {
   "cell_type": "markdown",
   "metadata": {},
   "source": [
    "<div class=\"alert alert-block alert-warning\">\n",
    "<font size=\"3\"><b>Tipp 5 zur Lösung der Aufgabe:</b></font> Mit welcher Methode kannst du bestimmte Teile eines Strings zur Darstellung auswählen? Welchen Teil brauchst du hier, damit nur der vordere Teil der URL nach der Trennung ausgegeben wird?\n",
    "</div>"
   ]
  },
  {
   "cell_type": "markdown",
   "metadata": {},
   "source": [
    "______________________________________________________________________________________________________________________"
   ]
  },
  {
   "cell_type": "markdown",
   "metadata": {},
   "source": [
    "<div class=\"alert alert-block alert-warning\">\n",
    "<font size=\"3\"><b>3. Preis-Berechnung und -ausgabe:</b></font>  \n",
    "<br>\n",
    "    \n",
    "Wie müsste der untenstehende Code mit den gegebenen Variablen ergänzt werden, um den folgenden Output zu erhalten?</font>  \n",
    "<br>\n",
    "Falls du nicht weiter weißt, scroll nach unten, um bis zu 5 Tipps zur Lösung der Aufgabe zu lesen. Probier aber auf jeden Fall aus, wie weit du ohne sie mit der Lösung kommst. Durch eigenes Ausprobieren merkst du dir Sachverhalte viel besser.  \n",
    "<br>\n",
    "\n",
    "**Gewünschter Output:**\n",
    "\n",
    "Bier: 3.5 Euro  \n",
    "Discount: 30%  \n",
    "Gesamtpreis: 2.45 Euro\n",
    "</div>"
   ]
  },
  {
   "cell_type": "code",
   "execution_count": null,
   "metadata": {},
   "outputs": [],
   "source": [
    "drink = 'Bier'\n",
    "price_beer = 3.5\n",
    "beer_discount = 0.3\n",
    "total_price = \n",
    "\n",
    "bill = f''\n",
    "\n",
    "print(bill)"
   ]
  },
  {
   "cell_type": "markdown",
   "metadata": {},
   "source": [
    "<div class=\"alert alert-block alert-warning\">\n",
    "<font size=\"3\"><b>Tipp 1 zur Lösung der Aufgabe:</b></font> Als kleine Hilfestellung sei dir gesagt, dass du bei <b>bill</b> die Variablennamen (wie unter \"3.2.5 b) Formatierung mit F-Strings\" gelernt) in den F-String einsetzen solltest.\n",
    "</div>"
   ]
  },
  {
   "cell_type": "markdown",
   "metadata": {},
   "source": [
    "<div class=\"alert alert-block alert-warning\">\n",
    "    <font size=\"3\"><b>Tipp 2 zur Lösung der Aufgabe:</b></font> In die Variable <b>total_price</b> gehört die Berechnung, wie viel das Bier mit dem Discount kostet.\n",
    "</div>"
   ]
  },
  {
   "cell_type": "markdown",
   "metadata": {},
   "source": [
    "<div class=\"alert alert-block alert-warning\">\n",
    "<font size=\"3\"><b>Tipp 3 zur Lösung der Aufgabe:</b></font> Nach den Variablennamen schreibst du den entsprechenden Text des Outputs in den F-String.\n",
    "</div>"
   ]
  },
  {
   "cell_type": "markdown",
   "metadata": {},
   "source": [
    "<div class=\"alert alert-block alert-warning\">\n",
    "<font size=\"3\"><b>Tipp 3 zur Lösung der Aufgabe:</b></font> Den im gewünschten Output gezeigten Prozentwert kannst du innerhalb des F-Strings berechnen.\n",
    "</div>"
   ]
  },
  {
   "cell_type": "markdown",
   "metadata": {},
   "source": [
    " <div class=\"alert alert-block alert-warning\">\n",
    "<font size=\"3\"><b>Tipp 5 zur Lösung der Aufgabe:</b></font> Die Zeilenabstände kannst du mit einer Escape-Sequenz setzen.\n",
    "</div>"
   ]
  },
  {
   "cell_type": "markdown",
   "metadata": {},
   "source": [
    "______________________________________________________________________________________________________________________"
   ]
  },
  {
   "cell_type": "markdown",
   "metadata": {},
   "source": [
    "<div class=\"alert alert-block alert-warning\">\n",
    "    <font size=\"3\"><b>4. Frucht-Korrektur:</b></font>\n",
    "\n",
    "Deine internationale Frucht-Firma \"Fruity Duty\" verfügt zwar über ein breites Sortiment, doch kürzlich sind euch die Ananas ausgegangen. Das ist kein großer Verlust, denn durch einen neuen Handelspartner könnt ihr stattdessen Bananen verkaufen.  \n",
    "\n",
    "a) Wandle die in der Variable <b>fruit_23</b> hinterlegte <b>'Ananas'</b> in <b>'Banana'</b> um. Die Umwandlung sollte in einer Code-Zeile stattfinden. Weise sie einer neuen Variable zu und gib diese anschließend aus.  \n",
    "\n",
    "b) Nach neuen Verhandlungen könnt ihr doch wieder Ananas in euer Sortiment aufnehmen. Es gibt dann zwar keine Bananen mehr, aber Ananas lassen sich sowieso teurer verkaufen. Wandle das in <b>fruit_100</b> gespeicherte <b>'Banana'</b> in <b>'Ananas'</b> um. Die Umwandlung sollte in einer Code-Zeile stattfinden. Weise sie einer neuen Variable zu und gib diese anschließend aus.  \n",
    "\n",
    "3 Tipps zur Lösung der Aufgabe findest du weiter unten. Wie weit kommst du ohne sie?\n",
    "\n",
    "</div>"
   ]
  },
  {
   "cell_type": "code",
   "execution_count": null,
   "metadata": {},
   "outputs": [],
   "source": [
    "fruit_23 = 'Ananas'\n",
    "\n"
   ]
  },
  {
   "cell_type": "code",
   "execution_count": null,
   "metadata": {},
   "outputs": [],
   "source": [
    "fruit_100 = 'Banana'\n",
    "\n"
   ]
  },
  {
   "cell_type": "markdown",
   "metadata": {},
   "source": [
    "<div class=\"alert alert-block alert-warning\">\n",
    "<font size=\"3\"><b>Tipp 1 zur Lösung der Aufgabe:</b></font> Du kannst in Python nicht einfach einen Character/Substring durch Slicen austauschen. Du benötigst noch eine weitere Operation.\n",
    "</div>"
   ]
  },
  {
   "cell_type": "markdown",
   "metadata": {},
   "source": [
    "<div class=\"alert alert-block alert-warning\">\n",
    "<font size=\"3\"><b>Tipp 2 zur Lösung der Aufgabe:</b></font> Welche Möglichkeiten gibt es, Strings zu verbinden?\n",
    "</div>"
   ]
  },
  {
   "cell_type": "markdown",
   "metadata": {},
   "source": [
    "<div class=\"alert alert-block alert-warning\">\n",
    "    <font size=\"3\"><b>Tipp 3 zur Lösung der Aufgabe:</b></font> Die Umwandlung in Aufgabe <b>b)</b> kannst du nur dann in einer Code-Zeile lösen, wenn du einen Teil der Umwandlung in Klammern setzt und darauf eine Funktion anwendest. Das ist wie beim Rechnen: Das, was in der Klammer steht, wird zuerst ausgeführt.\n",
    "</div>"
   ]
  },
  {
   "cell_type": "markdown",
   "metadata": {},
   "source": [
    "______________________________________________________________________________________________________________________"
   ]
  },
  {
   "cell_type": "markdown",
   "metadata": {},
   "source": [
    "<div class=\"alert alert-block alert-success\">\n",
    "In diesem Kapitel hast du das Wichtigste zu Variablennamenskonventionen, Strings, built-in Functions, Booleans und sogar schon etwas über Objekte gelernt. <b>Herzlichen Glückwunsch dazu!</b>  \n",
    "<br>\n",
    "    \n",
    "Das Wichtigste aus dem gesamten Kapitel 3.2 über Strings ist in der folgenden Übersicht zusammengefasst:"
   ]
  },
  {
   "cell_type": "markdown",
   "metadata": {},
   "source": [
    "<div class=\"alert alert-block alert-info\">\n",
    "<h3>Das kannst du dir aus dem Kapitel \"3.2 Strings und String-Funktionen\" mitnehmen:</h3>\n",
    "\n",
    "* **Python-Namenskonventionen für Variablen**\n",
    "    * eindeutige, leicht zuzuordnende Bezeichnung\n",
    "    * auf Englisch\n",
    "    * in Kleinbuchstaben\n",
    "    * Großschreibung nur bei Konstanten (unveränderliche Variablen), z.B.: ``PI = 3.14``\n",
    "    * bei mehr als einem Namen in der Bezeichnung Trennung mit Unterstrich (genannt Snake Case), z.B.: <font color = green>zwei_namen</font> oder: <font color = green>sogar_drei_namen</font>\n",
    "    * zu lange Namen vermeiden\n",
    "    * keine Verwendung von Sonderzeichen wie <font color = green>@</font>, nur Buchstaben und Zahlen\n",
    "    * in sich konsistente Namen entsprechend bereits benannter Variablen, z.B. <font color = green>firstname</font> passend zu <font color = green>lastname</font> (nicht last_name)\n",
    "    * Vermeidung von Fehlermeldungen bei ...\n",
    "        * keiner Verwendung von Zahlen sowie Sonderzeichen am Variablenanfang, z.B.: <font color = darkred>1customer = 'Evelyn'</font>\n",
    "        * keiner Verwendung von bereits von Python reservierten Namen wie str, int, float, type usw.  \n",
    "<br>\n",
    "* **Strings**\n",
    "    * ... sind Zeichenketten, die aus allen möglichen Zeichen bestehen können, auch Zahlen, doch sie werden trotzdem immer als Text/Strings von Python interpretiert\n",
    "    * ... ihre Datentyp-Bezeichnung innerhalb von Python ist **str**\n",
    "    * die einzelnen Zeichen eines Strings werden als **Characters** bezeichnet, sie stellen jedoch jedoch keinen eigenen Datentyp dar. Einzelzeichen, wie 'z', sind stets auch Strings  \n",
    "<br>\n",
    "* **Strings werden in Anführungsstrichen angelegt**\n",
    "    * entweder in einfachen **oder** doppelten (nicht mixen), so: <font color = green>'String'</font> (empfohlen) oder so: <font color = green>\"String\"</font>\n",
    "    * verwendest du Anführungsstriche innerhalb von Strings, wählst du dafür die genau anderen: <font color = green>\"Film: 'Strings'\"</font> oder <font color = green>'Film: \"Strings\"'</font>\n",
    "    * möchtest du die gleichen Anführungszeichen außer- wie innerhalb des Strings verwenden, nutze den Escape-Character **\\**, z.B. so angelegen: ``movie = \"Film: \\\\\"Escape\\\\\"\"`` => Output mit ``print(movie)``: Film: \"Escape\"  \n",
    "<br>\n",
    "* **Strings können konvertiert werden**\n",
    "    * eine Zahl wird in einen String konvertiert mit: ``str(123)`` oder auch ``str(1.0234)``\n",
    "    * ein String wird in einen Float konvertiert mit: ``float('12.3')``\n",
    "    * Ein String wird in einen Integer konvertiert mit: ``int('123')``  \n",
    "<br>\n",
    "* **Strings können verbunden werden**\n",
    "    * ... über **<font color = green>+</font>** : ``print('String' + 'nächster String')``  => Output: Stringnächster String\n",
    "    * Kommas, Leerzeichen und weitere Zeichen sind zusätzlich einzuzufügen, z.B.: ``print('String' + ',  ' + 'nächster String')`` => Output: String, nächster String\n",
    "    * vervielfacht mit **<font color = green>*</font>**: ``a = 'Aha!'`` => ``print(a*3)`` => Output: Aha!Aha!Aha!  \n",
    "<br>\n",
    "* **Characters können über join() verbunden werden**\n",
    "    * als Strings gespeicherte Listeneinträge können auch über ``join()`` verbunden werden\n",
    "    * Syntax: <font color = green>'Zeichen, mit dem/denen verbunden werden soll'.join(String/Liste)</font>  \n",
    "<br>\n",
    "* **Strings können formatiert werden**\n",
    "    * ... mit der <font color = green>.format-Methode</font> (veraltet, aber im Netz noch öfter zu sehen) - Syntax: <font color = green>'Hallo {}! Ich krieg' noch {} Euro von dir'.format('Patsy', schulden)</font>\n",
    "    * ... mit <font color = green>F-Strings</font> - Syntax: <font color = green>f'Hä? {schulden} Euro? Für was, {'Patsy'}?!'</font>\n",
    "    * 'Patsy' ist hier exemplarisch nicht als Variable eingesetzt, mit z.B. ``friend = 'Patsy'``, um dir zu verdeutlichen, dass du Werte direkt in <b>F-Strings</b> (sowie in <b>.format()</b>) einsetzen kannst, z.B.:  <font color = green>f'Hä? {schulden} Euro? Für was, {friend}?!'</font>  \n",
    "<br>\n",
    "* **Escape-Sequenzen**\n",
    "    * ... werden zur Formatierung innerhalb von Strings und Markdown-Zellen verwendet\n",
    "    * möchtest du ein bereits reserviertes Zeichen wie \\ im Markdown verwenden, setze den Escape-Character **<font color = green>\\\\</font>** davor, z.B.: **<font color = green>\\\\\\\\</font>** => Output: <font color = green>\\\\</font>\n",
    "    * **<font color = green>\\n</font>** innerhalb eines Strings setzt den Teil danach auf eine neue Zeile\n",
    "    * **<font color = green>\\t</font>** innerhalb eines Strings setzt einen Tabulator-Abstand\n",
    "    * mehr dazu hier: https://docs.python.org/3.3/reference/lexical_analysis.html#string-and-bytes-literals  \n",
    "<br>\n",
    "* **Strings können gesplittet werden**\n",
    "    * ... denn Strings sind indexiert\n",
    "    * Indize beginnen stets bei 0, 0 ist das erste Zeichen => ('0123')\n",
    "    * ... mit **[:]**, genauer: <font color = green>string[ab diesem Index:bis vor diesen Index]</font>\n",
    "    * Anwendung:\n",
    "        * ``'string'[:]`` => bildet den kompletten String ab\n",
    "        * ``'string[0]`` => bildet nur den Character an Index 0 ab: 's'\n",
    "        * ``'string'[0:3]`` => splittet vom ersten bis inklusive des zweiten Zeichens: 'str'\n",
    "        * ``'string'[-4:-1]`` => splittet den String vom Ende an nach links: 'rin'  \n",
    "<br>\n",
    "* **User-Input über input()**\n",
    "    * mit ``input()`` kannst du Nutzer-Daten eingeben lassen\n",
    "    * weise ``input()`` immer einer Variablen zu, mit der du dann weiter arbeiten kannst, z.B.: ``age = input()``\n",
    "    * alles, was du über ``input()`` erhältst, egal, ob Zahlen oder Text oder andere Zeichen, alles gehört zum Datentyp String. Konvertiere den String in einen anderen Typen, wenn du keinen String brauchst, z.B.: ``age = int(input())``\n",
    "    * konvertiere nicht direkt den Input, wenn du den Input in mehreren Datentypen benötigst\n",
    "    * um Fehler zu vermeiden, weise den/die UserIn darauf hin, welche Art von Zeichen einzugeben sind  \n",
    "<br>\n",
    "* **Die wichtigsten built-in Functions für Strings zusammengefasst:**\n",
    "    * Buchstaben-Umwandlungen\n",
    "        * ``capitalize()``, verwandelt den ersten Buchstaben eines Strings in einen Großbuchstaben - Syntax: <font color = green>str.capitalize()</font>\n",
    "        * ``title()``, wandelt alle Anfangsbuchstaben einzelner Wörter in Großbuchstaben um - Syntax: <font color = green>str.title()</font>\n",
    "        * ``upper()``, wandelt alle Buchstaben in Großbuchstaben um - Syntax: <font color = green>str.upper()</font>\n",
    "        * ``lower()``, wandelt alle Buchstaben in Kleinbuchstaben um - Syntax: <font color = green>str.lower()</font>\n",
    "        * ``swapcase()``, vertauscht alle Großbuchstaben in Kleinbuchstaben und umgekehrt - Syntax: <font color = green>``str.swapcase()``</font>  \n",
    "<br>\n",
    "    * Ersetzen, Teilen, Verbinden von Buchstaben\n",
    "        * ``replace()``, ersetzt einen Character/String mit einem anderen Character/String - Syntax: <font color = green>str.replace('wird ersetzt', 'kommt stattdessen hin')</font>\n",
    "        * ``strip()``, entfernt Leerzeichen oder andere Zeichen, wenn zusätzlich angegeben - Syntax: <font color = green>strip('optionales Zeichen', optionaler Startindex, bis vor optionalen Endindex)</font>\n",
    "        * ``str.split()``, splittet alle Zeichen in einzelne Einträge einer Liste, kann mit Wertangabe und maximalem Index, bis vor den gesplittet werden soll, erweitert werden - Syntax: <font color = green>str.split('optionales Zeichen', bis vor optionalen Endindex)</font>\n",
    "            * ``rsplit()`` splittet von rechts an\n",
    "            * ``lsplit()`` splittet von links an\n",
    "        * ``join()``, verbindet/unterbricht Strings/Characters mit einem gewählten Zeichen - Syntax: <font color = green>'Zeichen'.join(String/Liste)</font>\n",
    "            * Characters joinen, z.B. so: ``numbers = '123'`` => ``', '.join(numbers)`` => Output: '1, 2, 3' \n",
    "            * Listeneinträge in Form von Strings joinen, z.B. so:\n",
    "                * ``string_list = ['a', 'b', 'c']``\n",
    "                * ``string_list_joined = (', ').join(string_list)`` => Output: 'a, b, c'  \n",
    "<br>\n",
    "    * Zählen von Characters und Strings\n",
    "        * ``len()``, zählt alle Zeichen eines Strings - Syntax: <font color = green>len(str)</font>\n",
    "        * ``count()``, zählt die als Wert festgelegten Zeichen - Syntax: <font color = green>str.count('Zeichen', optionaler Startindex, bis vor optionalen Endindex)</font>  \n",
    "<br>\n",
    "    * Indexe von Zeichen finden\n",
    "        * ``find()``, findet den Startindex von Characters/Zeichen in einem String. Rückgabewert bei nicht findbarem Wert ist **-1** - Syntax: <font color = green>str.find('Index von Zeichen in String finden', optionaler Startindex, bis vor optionalen Endindex)</font>    \n",
    "        * ``index()``, findet den Startindex von Characters/Zeichen in einem String. Rückgabewert bei nicht findbarem Wert ist **ValueError** - Syntax: <font color = green>str.index('Index von Zeichen in String finden', optionaler Startindex, bis vor optionalen Endindex)</font>  \n",
    "<br>\n",
    "* **Booleans**\n",
    "    * ... sind entweder True (wahr) **oder** False (falsch)\n",
    "    * ... sind nützlich, wenn du einen Programmteil erst unter der Bedingung wahr/valide oder falsch/nicht valide ausführen lassen möchtest (dazu mehr im nächsten Kapitel (3.3 Conditionals)\n",
    "    * ... gehören zum Datentyp **bool**  \n",
    "<br>\n",
    "* **Boolsche Abfragen**\n",
    "    * ``startswith()``, überprüft mit den boolschen Rückgabewerten True **oder** False, ob ein Character/String sich am Anfang des abzusuchenden Strings befindet - Syntax: <font color = green>str.startswith('Index von Zeichen in String finden', optionaler Startindex, bis vor optionalen Endindex)</font>\n",
    "    * ``endswith()``, überprüft mit den boolschen Rückgabewerten True oder False, ob ein Character/String sich am Ende des abzusuchenden Strings befindet - Syntax: <font color = green>str.endswith('Index von Zeichen in String finden', optionaler Startindex, bis vor optionalen Endindex)</font>\n",
    "    * ``isdigit()``, überprüft mit den boolschen Rückgabewerten True oder False, ob ein String ausschließlich aus Zahlen besteht - Syntax: <font color = green>str.isdigit()</font>\n",
    "    * ``isalnum()``, überprüft mit den boolschen Rückgabewerten True oder False, ob ein String aus mindestens einer Zahl besteht - Syntax: <font color = green>str.isalnum()</font>\n",
    "    * ``isalpha()``, überprüft mit den boolschen Rückgabewerten True oder False, ob ein String ausschließlich aus Buchstaben besteht - Syntax: <font color = green>str.isalpha()</font>\n",
    "    * ``isspace()``, überprüft mit den boolschen Rückgabewerten True oder False, ob ein String nur aus Leerzeichen besteht - Syntax: <font color = green>str.isspace()</font>\n",
    "    * ``isupper()``, überprüft mit den boolschen Rückgabewerten True oder False, ob ein String nur aus Großbuchstaben besteht - Syntax: <font color = green>str.isupper()</font>\n",
    "    * äquivalent zu den letztgenannten: ``islower()``, ``istitle()``, ``isnumeric()`` und mehr\n",
    "    * **Membership Operators**\n",
    "        * ``in`` und ``not in``, überprüfen mit den boolschen Rückgabewerten True oder False, ob ein String/Wert in einem anderen String/Wert enthalten ist oder nicht - Beispiel: ``x in y`` sowie ``x not in y``\n",
    "    * **Identity Operators**\n",
    "        * ``is`` und ``is not``, überprüfen mit den boolschen Rückgabewerten True oder False, ob die Speicheradresse eines Wertes der Speicheradresse eines anderen Wertes gleicht\n",
    "            * Beispiele: ``x is y`` sowie ``x is not y``\n",
    "            * Beispiel in Kombination mit ``type()``: ``type(3) is int`` (vergleicht den Datentyp von 3 mit Integer. Der Output ist True, da ein und derselbe Datentyp intern unter der gleichen Adresse zu finden ist.)  \n",
    "<br>\n",
    "* **Funktionen kann man verketten**\n",
    "    * so können mehrere Funktionen gleichzeitig angewendet werden\n",
    "    * Syntax: <font color = green>string.funktion1().funktion2().funktion3()...funktionX()</font>\n",
    "    * das funktioniert nicht nur mit Strings\n",
    "    * Vorteil: Funktionsergebnisse können direkt weiteren Funktionen übergeben werden\n",
    "    * Nachteil: Einzelne Funktionsergebnisse sind nicht extra abgespeichert und können somit nicht mehr einzeln weiterverwendet werden\n",
    "</div>\n",
    "</div>"
   ]
  }
 ],
 "metadata": {
  "kernelspec": {
   "display_name": "Python 3",
   "language": "python",
   "name": "python3"
  },
  "language_info": {
   "codemirror_mode": {
    "name": "ipython",
    "version": 3
   },
   "file_extension": ".py",
   "mimetype": "text/x-python",
   "name": "python",
   "nbconvert_exporter": "python",
   "pygments_lexer": "ipython3",
   "version": "3.7.3"
  }
 },
 "nbformat": 4,
 "nbformat_minor": 2
}
