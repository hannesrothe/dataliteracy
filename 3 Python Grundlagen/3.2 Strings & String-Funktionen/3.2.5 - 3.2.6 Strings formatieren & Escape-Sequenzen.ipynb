{
 "cells": [
  {
   "cell_type": "markdown",
   "metadata": {},
   "source": [
    "#  3.2 Strings & String-Funktionen\n",
    "\n",
    "## 3.2.5 - 3.2.6 Strings formatieren & Escape-Sequenzen\n",
    "\n",
    "Im Anschluss dieser Übungseinheit kannst du ...\n",
    "+ Strings auf verschiedene Weisen visuell ansprechend formatieren\n",
    "+ die Funktion von Escape-Sequenzen verstehen\n",
    "+ Escape-Sequenzen zur Formatierung einsetzen"
   ]
  },
  {
   "cell_type": "markdown",
   "metadata": {},
   "source": [
    "## 3.2.5 Strings formatieren\n",
    "\n",
    "Eine praktische Möglichkeit, Strings zu formatieren und mit Zahlen zu kombinieren, bietet Python mit der sogenannten **Interpolation**. Davon gibt es zwei Varianten:\n",
    "\n",
    "* .format-Methode (Python-Version 2-3.5)\n",
    "* F-Strings (ab Python-Version 3.6)  \n",
    "<br>\n",
    "\n",
    "### 3.2.5 a) Die .format-Methode\n",
    "Da wir mit der aktuellsten Python-Version arbeiten, wird die .format-Methode hier nur kurz an einem Beispiel angerissen:"
   ]
  },
  {
   "cell_type": "code",
   "execution_count": null,
   "metadata": {},
   "outputs": [],
   "source": [
    "firstname = 'Paul'\n",
    "price = 3.65\n",
    "article = 'pizza'\n",
    "\n",
    "greeting = 'Hello {}, this {} costs {} euros.'.format(firstname, article, price)\n",
    "\n",
    "print(greeting)"
   ]
  },
  {
   "cell_type": "markdown",
   "metadata": {},
   "source": [
    "Wie du siehst, setzt Python alles, was bei ``.format()`` in den runden Klammern steht, in derselben Reihenfolge in die geschweiften Klammern ein. Es ist ebenso möglich, Strings und Zahlen direkt in ``.format()`` zu schreiben:"
   ]
  },
  {
   "cell_type": "code",
   "execution_count": null,
   "metadata": {},
   "outputs": [],
   "source": [
    "greeting = 'Hello {}, this {} costs {} euros.'.format('Paul', 'pizza', 3.65)\n",
    "\n",
    "print(greeting)"
   ]
  },
  {
   "cell_type": "markdown",
   "metadata": {},
   "source": [
    "### 3.2.5 b) Formatierung mit F-Strings\n",
    "<br>\n",
    "Die modernere Version mit F-Strings funktioniert ähnlich und ist darüber hinaus noch leichter zu lesen:  \n",
    "<br>\n"
   ]
  },
  {
   "cell_type": "code",
   "execution_count": null,
   "metadata": {},
   "outputs": [],
   "source": [
    "firstname = 'Paul'  \n",
    "price = 3.65  \n",
    "article = 'pizza'  \n",
    "\n",
    "greeting = f'Hi {firstname}, this {article} costs {price} euros.'\n",
    "\n",
    "print(greeting) "
   ]
  },
  {
   "cell_type": "markdown",
   "metadata": {},
   "source": [
    "Bei Anwendung dieser Methode brauchst du nur ein <b>f</b>  vor den String schreiben und die Variablennamen direkt in den Satz in geschweiften Klammern einbetten.  \n",
    "<br>\n",
    "Wenn es zum Beispiel einen Rabatt von 20% auf Pizzen gibt, könntest du dies auch direkt in F-Strings einkalkulieren:  \n",
    "<br>\n"
   ]
  },
  {
   "cell_type": "code",
   "execution_count": null,
   "metadata": {},
   "outputs": [],
   "source": [
    "greeting = f'Hi {firstname}, this {article} costs {price * 0.2} euros less.'  \n",
    "\n",
    "print(greeting)"
   ]
  },
  {
   "cell_type": "markdown",
   "metadata": {},
   "source": [
    " Aufwändigere Berechnungen sollten der Übersichtlichkeit halber aber besser außerhalb von F-Strings stattfinden, wie das folgende Beispiel zeigt:"
   ]
  },
  {
   "cell_type": "code",
   "execution_count": null,
   "metadata": {},
   "outputs": [],
   "source": [
    "greeting = f'Hi {firstname}, this {article} costs {(price - (price * 0.2)) * 0.5} euros.'  \n",
    "\n",
    "print(greeting)"
   ]
  },
  {
   "cell_type": "markdown",
   "metadata": {},
   "source": [
    "Die Berechnung funktioniert. Aber ist für dich ersichtlich, was warum dort wie berechnet wurde?  \n",
    "<br>\n",
    "Werden die Zahlenwerte stattdessen verständlichen Variablen zugeordnet, gewinnt man schon mehr Durchblick:"
   ]
  },
  {
   "cell_type": "code",
   "execution_count": null,
   "metadata": {},
   "outputs": [],
   "source": [
    "firstname = 'Paul'  \n",
    "price = 3.65  \n",
    "article = 'pizza'\n",
    "pizza_discount = 0.2\n",
    "customer_discount = 0.5\n",
    "\n",
    "greeting = f'Hi {firstname}, this {article} costs {(price - (price * pizza_discount)) * customer_discount} euros.'  \n",
    "\n",
    "print(greeting)"
   ]
  },
  {
   "cell_type": "markdown",
   "metadata": {},
   "source": [
    "Und wenn nun noch die Rechnung ausgelagert und in kleinere Teile zerlegt wird und sogar noch kommentiert wird, ist der Code für alle ihn Lesenden viel leichter nachvollziehbar:"
   ]
  },
  {
   "cell_type": "code",
   "execution_count": null,
   "metadata": {},
   "outputs": [],
   "source": [
    "firstname = 'Paul'  \n",
    "pizza_price = 3.65  # bessere Benennung von dem zu allgemeinen \"price\" zu \"pizza_price\"\n",
    "article = 'pizza'\n",
    "pizza_discount = 0.2\n",
    "customer1000_discount = 0.5  # Rabatt für 1000sten Kunden\n",
    "current_pizza_price = pizza_price - (pizza_price * pizza_discount)  # aktueller Pizza-Preis\n",
    "customer1000 = current_pizza_price - (current_pizza_price * customer1000_discount)  # 1000ste/r KundeIn bestellt Pizza\n",
    "\n",
    "\n",
    "greeting = f'Hi {firstname}, this {article} costs {customer1000} euros.'  \n",
    "\n",
    "print(greeting)"
   ]
  },
  {
   "cell_type": "markdown",
   "metadata": {},
   "source": [
    "Es gibt also einen Rabatt von 20% auf Pizzen - und der/die 1000ste KundeIn bekommt auch noch einen Rabatt von 50% auf den Einkauf.\n",
    "\n",
    "> Der KundInnen-Rabatt bei <b>customer1000</b> ist in der Rechnung auf Pizzen beschränkt. In einem folgenden Kapitel lernst du, wie du eine solche Rechnung flexibler gestalten kannst. Über Bedingungen/Konditionen könntest du Rabatte auf jeden beliebigen Artikelkauf des Kunden anwenden.\n",
    "\n",
    "<br>\n",
    "Dieses Beispiel veranschaulicht dir in erster Linie den gewaltigen Unterschied zwischen einem zu kompakten Code und einem ausführlicheren und damit nachhaltig viel lesbarerem Code.\n",
    "\n",
    "<div class=\"alert alert-block alert-info\">\n",
    "    <font size=\"3\"><b>Tipp:</b></font> Frag dich selbst beim Coden: Verstehe ich auch noch in Monaten, was ich da geschrieben habe? Könnte ein/e KommilitoneIn/KollegeIn/TutorIn nachvollziehen, was ich wie an welcher Stelle und warum so umgesetzt habe?  \n",
    "<br>\n",
    "Du wirst dir selbst dankbar sein, wenn du diese Fragen mit Ja beantworten kannst.\n",
    "</div>"
   ]
  },
  {
   "cell_type": "markdown",
   "metadata": {},
   "source": [
    "\n",
    "<br>\n",
    "\n",
    "## 3.2.6 Escape-Sequenzen\n",
    "\n",
    "Aus dem Kapitel 3.1, \"Python als Taschenrechner\", ist dir vielleicht noch diese Zeichenfolge in Erinnerung geblieben: <font color = green>/n</font>. Es handelt sich dabei um eine sogenannte **Escape-Sequenz**, mit welcher du alles Nachfolgende auf die nächste Zeile setzt.  \n",
    "<br>\n",
    "Diese Escape-Sequenz funktioniert in Python (und anderen Programmiersprachen wie Java). Sie ist unabhängig von den in Kapitel 0.2 behandelten Escape-Sequenzen in HTML bzw. Markdown und fünktioniert in beiden nicht. Gemeinsam haben sie jedoch, dass sie bei Ausführung des Codes nicht dargestellt werden und Escape-Sequenzen generell, je nach ihrer Art, bestimmte Funktionen erfüllen.  \n",
    "\n",
    "Der **Escape-Character** selbst, \"<font color = green>\\\\</font>\", kann jedoch im Markdown eingesetzt werden, um andere Zeichen nicht als HTML-Code interpretierbar und stattdessen sichtbar zu machen (das wird weiter unten näher beschrieben).  \n",
    "<br>\n",
    "\"<font color = green>\\\\</font>\" wird auf der Tastatur Backslash genannt und ist über <font color = green>Alt Gr</font>(rechts neben der Leertaste) plus <font color = green>ß</font> zu erreichen (Mac: <font color = green>Alt</font> plus <font color = green>Shift</font> plus <font color = green>7</font>). Die einzelnen Buchstaben, die nach ihm folgen, erfüllen bestimmte Aufgaben. Zum Beispiel und wie bereits genannt, wird alles nach <font color = green>/n</font> auf eine neue Zeile gesetzt oder <font color = green>\\t</font> fügt einen Tabulator-Abstand ein. Es gibt noch viele mehr, über die du unter folgendem Link nachlesen kannst: https://docs.python.org/3.3/reference/lexical_analysis.html#string-and-bytes-literals  \n",
    "<br>\n",
    "<div class=\"alert alert-block alert-warning\">\n",
    "<font size=\"3\"><b>Übung:</b></font> Nun bist du an der Reihe. Wie müsste der untenstehende Code mit den gegebenen Variablen ergänzt werden, um den folgenden Output zu erhalten?</font>  \n",
    "<br>\n",
    "\n",
    "**Gewünschter Output:**\n",
    "\n",
    "Hallo Jakub!  \n",
    "Schön, dich kennenzulernen.  \n",
    "Du studierst also Wirtschaftswissenschaft.  \n",
    "Viel Erfolg!\n",
    "</div>"
   ]
  },
  {
   "cell_type": "code",
   "execution_count": null,
   "metadata": {},
   "outputs": [],
   "source": [
    "name = 'Jakub'\n",
    "studies = 'Wirtschaftswissenschaft'\n",
    "\n",
    "output = \n",
    "\n",
    "print(output)"
   ]
  },
  {
   "cell_type": "markdown",
   "metadata": {},
   "source": [
    "#### Der Escape-Character \"\\\\\" zur Zeichendarstellung in Python\n",
    "\n",
    "In dem Beispiel zur Anwendung von Anführungsstrichen innerhalb eines Strings in der Einheit 3.2.2 war es nicht möglich, dieselben Anführungsstriche innerhalb des Strings zu verwenden, mit welchen der String definiert wurde. Dieses Beispiel wirft einen Fehler:"
   ]
  },
  {
   "cell_type": "code",
   "execution_count": null,
   "metadata": {},
   "outputs": [],
   "source": [
    "sentence = \"Peter sagt: \"Pizza ist lecker!\"\""
   ]
  },
  {
   "cell_type": "markdown",
   "metadata": {},
   "source": [
    "Verwendest du jedoch den Escape-Character <font color = green>\\\\</font> vor den jeweiligen Anführungsstrichen, werden die Anführungsstriche als gewöhnliche Zeichen innerhalb von Strings erkannt:"
   ]
  },
  {
   "cell_type": "code",
   "execution_count": null,
   "metadata": {},
   "outputs": [],
   "source": [
    "sentence = \"Peter sagt: \\\"Pizza ist lecker!\\\"\"\n",
    "\n",
    "print(sentence)"
   ]
  },
  {
   "cell_type": "markdown",
   "metadata": {},
   "source": [
    "<div class=\"alert alert-block alert-warning\">\n",
    "<font size=\"3\"><b>Übung:</b></font> Wie müssten die untenstehenden Strings korrigiert werden, um keine Fehler zu erzeugen? Korrigiere sie in der darunterliegenden Code-Zelle.\n",
    "</div>\n"
   ]
  },
  {
   "cell_type": "code",
   "execution_count": null,
   "metadata": {},
   "outputs": [],
   "source": [
    "instruction_message1 = 'Die Tutorin hat gesagt: \"Sei vorsichtig, wenn du \" und ' in Strings verwendest.\"'\n",
    "instruction_message2 = 'Außerdem hat sie 'Escape-Sequenzen' erwähnt, mit denen man Formatierungsproblemen entkommen kann.'\n",
    "print(instruction_message1)\n",
    "print(instruction_message2)"
   ]
  },
  {
   "cell_type": "code",
   "execution_count": null,
   "metadata": {},
   "outputs": [],
   "source": []
  },
  {
   "cell_type": "markdown",
   "metadata": {},
   "source": [
    "<div class=\"alert alert-block alert-success\">\n",
    "<b>Super!</b> Eine Ausgabe unter Verwendung verschiedener Anführungsstriche ist nun kein Problem mehr für dich. Du kannst sogar numerische Daten und Strings zusammen professionell ausgeben lassen. Außerdem hast du Escape-Sequenzen kennengelernt, die dir beim Programmieren noch öfter über den Weg laufen werden.  \n",
    "<br>\n",
    "    \n",
    "Als nächstes lernst du, wie Strings intern aufgebaut sind, wie sie zu splitten sind und wie du von Usern Input einlesen und für dein Programm verwenden kannst.\n",
    "</div>"
   ]
  },
  {
   "cell_type": "markdown",
   "metadata": {},
   "source": [
    "<div class=\"alert alert-block alert-info\">\n",
    "<h3>Das kannst du dir aus dieser Übung mitnehmen:</h3>\n",
    "\n",
    "* **Strings können formatiert werden**\n",
    "    * ... mit der <b>.format-Methode</b> (veraltet, aber im Netz noch öfter zu sehen) - Syntax: <font color = green>'Hallo {}! Ich krieg' noch {} Euro von dir'.format('Patsy', schulden)</font>\n",
    "    * ... mit <b>F-Strings</b> - Syntax: <font color = green>f'Hä? {schulden} Euro? Für was, {'Patsy'}?!'</font>\n",
    "        * 'Patsy' ist hier exemplarisch nicht als Variable eingesetzt, mit z.B. ``friend = 'Patsy'``, um dir zu verdeutlichen, dass du Werte direkt in <b>F-Strings</b> (sowie in <b>.format()</b>) einsetzen kannst, z.B.:  <font color = green>f'Hä? {schulden} Euro? Für was, {friend}?!'</font>  \n",
    "<br>\n",
    "* **Escape-Sequenzen**\n",
    "    * ... werden zur Formatierung innerhalb von Strings und Markdown-Zellen verwendet\n",
    "    * möchtest du ein bereits reserviertes Zeichen, wie z.B. den Escape-Character \\\\, im Markdown verwenden, setze den Escape-Character **<font color = green>\\\\</font>** davor, z.B.: **<font color = green>\\\\\\\\</font>** => nach Ausführung der Markdown-Zelle: <font color = green>\\\\</font>\n",
    "        * weiterer Anwendungsfall für reservierte Zeichen: gleiche Anführungszeichen außer- wie innerhalb eines Strings sind möglich mit dem Escape-Character, z.B. so anlegen: ``movie = \"Film: \\\"Escape\\\"\"`` => Output mit ``print(movie)``: Film: \"Escape\"  \n",
    "    * **<font color = green>\\n</font>** innerhalb eines Strings setzt den Teil danach auf eine neue Zeile\n",
    "    * **<font color = green>\\t</font>** innerhalb eines Strings setzt einen Tabulator-Abstand\n",
    "    * mehr dazu hier: https://docs.python.org/3.3/reference/lexical_analysis.html#string-and-bytes-literals\n",
    "</div>"
   ]
  }
 ],
 "metadata": {
  "kernelspec": {
   "display_name": "Python 3",
   "language": "python",
   "name": "python3"
  },
  "language_info": {
   "codemirror_mode": {
    "name": "ipython",
    "version": 3
   },
   "file_extension": ".py",
   "mimetype": "text/x-python",
   "name": "python",
   "nbconvert_exporter": "python",
   "pygments_lexer": "ipython3",
   "version": "3.7.3"
  }
 },
 "nbformat": 4,
 "nbformat_minor": 2
}
