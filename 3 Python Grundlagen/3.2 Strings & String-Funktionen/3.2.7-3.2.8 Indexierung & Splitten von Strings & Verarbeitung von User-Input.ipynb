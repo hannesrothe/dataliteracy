{
 "cells": [
  {
   "cell_type": "markdown",
   "metadata": {},
   "source": [
    "#  3.2 Strings & String-Funktionen\n",
    "\n",
    "## 3.2.7-3.2.8 Indexierung & Splitten von Strings & Verarbeitung von User-Input\n",
    "\n",
    "Im Anschluss dieser Übungseinheit kannst du ...\n",
    "+ Strings anhand ihrer positiven und negativen Indize trennen\n",
    "+ User-Input aufnehmen und für Berechnungen und Ausgaben weiterverarbeiten"
   ]
  },
  {
   "cell_type": "markdown",
   "metadata": {},
   "source": [
    "## 3.2.7 Indexierung und Splitten von Strings\n",
    "\n",
    "Für die Datenaufbereitung bzw. -reinigung (auch \"Data Wrangling\" genannt), ist es essentiell wichtig, die Indexierung von Strings und Listen sowie weiteren Datenstrukturen zu beherrschen. Das, was dir hier anhand von Strings gezeigt wird, funktioniert äquivalent zu Datenstrukturen. Indem du Strings und z.B. Listen über die Anwahl von Indizen trennst, kannst du sie mithilfe von Funktionen zu neuen Strings und Listen zusammensetzen - je nachdem, was deine Analyse gerade fordert.  \n",
    "<br>\n",
    "Strings sind indexiert, das heißt, jeder einzelne Character hat einen Index. **Indize beginnen stets bei 0.** Das gilt für alle Programmiersprachen und Datenstrukturen. Die Characters des Strings 'ABC' haben deshalb folgende Indize:  \n",
    "<br>\n",
    "A: 0  \n",
    "B: 1  \n",
    "C: 2  \n",
    "<br>\n",
    "Über die Indize können Strings gesplittet/getrennt werden (im Englischen wird das auch \"slicen\" genannt). Verwendet wird hierfür: <font color = green>[:]</font> \n",
    "<br>\n",
    "Alles, was vor dem Doppelpunkt steht, betrifft die Splittung ab inklusive des gewählten Indexes. Alles, was nach dem Doppelpunkt steht, betrifft die Splittung bis exklusive des gewählten Indexes. Das wird nun an ein paar Beispielen verdeutlicht:\n",
    "\n",
    "### Abbildung aller Zeichen mit [:]\n",
    "\n",
    "Mit **[:]** werden alle Zeichen von Anfang bis Ende abgebildet."
   ]
  },
  {
   "cell_type": "code",
   "execution_count": null,
   "metadata": {},
   "outputs": [],
   "source": [
    "name = 'Bruno'\n",
    "\n",
    "name[:]"
   ]
  },
  {
   "cell_type": "markdown",
   "metadata": {},
   "source": [
    "### [Index] Abbildung des Zeichens mit dem gewählten Index\n",
    "\n",
    "Mit **[Index]** wird genau das Zeichen gewählt, dessen Index du in den eckigen Klammern angibst. Mit der Ziffer 0 wird also der erste Character ausgewählt."
   ]
  },
  {
   "cell_type": "raw",
   "metadata": {},
   "source": [
    "name = 'Bruno'\n",
    "\n",
    "name[0]"
   ]
  },
  {
   "cell_type": "markdown",
   "metadata": {},
   "source": [
    "### [Index:] Abbildung aller Zeichen ab inklusive des gewählten Indexes \n",
    "\n",
    "Mit **[Index:]** werden alle Zeichen ab inklusive des von dir gewählten Indexes abgebildet. Ohne einen angegebenen Index nach dem Doppelpunkt wird der String von dort bis zu seinem Ende dargestellt. In dem Beispiel wird alles ab inklusive des 3. Buchstabens ausgewählt."
   ]
  },
  {
   "cell_type": "code",
   "execution_count": null,
   "metadata": {},
   "outputs": [],
   "source": [
    "name = 'Bruno'\n",
    "\n",
    "name[2:]"
   ]
  },
  {
   "cell_type": "markdown",
   "metadata": {},
   "source": [
    "###  [:Index] Abbildung aller Zeichen vom Anfang bis exklusive des gewählten Indexes\n",
    "\n",
    "Mit **[:Index]** werden alle Zeichen von Index 0 bis exklusive des gewählten Indexes abgebildet. Das Beispiel zeigt die Splittung von Index 0 bis Index 1, da Index 2 (nach dem Doppelpunkt) exklusiv ist. Alles ab genau Index 2 wird nicht mehr abgebildet."
   ]
  },
  {
   "cell_type": "code",
   "execution_count": null,
   "metadata": {},
   "outputs": [],
   "source": [
    "name = 'Bruno'\n",
    "\n",
    "name[:2]"
   ]
  },
  {
   "cell_type": "markdown",
   "metadata": {},
   "source": [
    "### [Index:Index] Abbildung aller Zeichen vom Anfang bis exklusive des gewählten Indexes\n",
    "\n",
    "Mit **[Index:Index]** werden alle Zeichen ab inklusive des Indexes vor dem Doppelpunkt und bis exklusive des Indexes nach dem Doppelpunkt abgebildet. [1:4] splittet ab inklusive des 1. Characters: **[1:] -> 'runo'**, bis zu den Characters exklusive des 4.: **[:4] -> 'Brun'**. Heraus kommt die Mischung aus beiden Splittungen: von Index 1 an bis Index 3, also <b>'run'</b>."
   ]
  },
  {
   "cell_type": "code",
   "execution_count": null,
   "metadata": {},
   "outputs": [],
   "source": [
    "name = 'Bruno'\n",
    "\n",
    "name[1:4]"
   ]
  },
  {
   "cell_type": "markdown",
   "metadata": {},
   "source": [
    "<div class=\"alert alert-block alert-info\">\n",
    "    <font size=\"3\"><b>Merke:</b></font>  <b>[inklusive ab hier:exklusive von hier an]</b>\n",
    "<br>\n",
    "    \n",
    "* alles **vor** dem Doppelpunkt ist **inklusive**\n",
    "    \n",
    "* alles **nach** dem Doppelpunkt ist **exklusive**\n",
    "</div>\n",
    "<br>\n",
    "\n",
    "<div class=\"alert alert-block alert-warning\">\n",
    "<font size=\"3\"><b>Übung:</b></font> Wie müsste der folgende Name gesplittet werden, um <b>'Stall'</b> zu erhalten? Trag deine Splittung in die untere Codezelle ein.  \n",
    "<br>\n",
    "    \n",
    "**Beachte, dass ein Leerzeichen auch als ein Character zählt.**\n",
    "</div>"
   ]
  },
  {
   "cell_type": "code",
   "execution_count": null,
   "metadata": {},
   "outputs": [],
   "source": [
    "name = 'Sylvester Stallone'\n",
    "\n"
   ]
  },
  {
   "cell_type": "markdown",
   "metadata": {},
   "source": [
    "### Splitten/Slicen mit negativen Zahlen\n",
    "\n",
    "Das Splitten mit negativen Zahlen folgt dem gleichen Muster wie oben. Der Unterschied liegt darin, dass mit den negativen Zahlen rückwärts gegangen wird.\n",
    "\n",
    "#### [-Index:] inklusive, rückwärts über Index 0\n",
    "\n",
    "Du kannst dir das Rechnen mit negativen Indizes so vorstellen, als ob du von 0 an rückwärts, links im Kreis herum, vom Wortende an weiterzählst:  \n",
    "\n",
    "0 - angegebener Index   \n",
    "<br>\n",
    ".. und damit kommst du an einem Index zum Ende des Strings an. Wie beim Splitting mit positiven Zahlen, wird alles ab diesem Index abgebildet.  \n",
    "<br>\n",
    "Abbildung von allen Zeichen ab dem letzten Index: **0 - 1** -> es wird folglich nur der letzte Index abgebildet:"
   ]
  },
  {
   "cell_type": "code",
   "execution_count": null,
   "metadata": {},
   "outputs": [],
   "source": [
    "name = 'Bruno'\n",
    "\n",
    "name[-1:]"
   ]
  },
  {
   "cell_type": "markdown",
   "metadata": {},
   "source": [
    "Abbildung von allen Zeichen ab dem vorletzten/zweitletzten Index: **0 - 2** -> es werden folglich die letzten beiden Indize abgebildet:"
   ]
  },
  {
   "cell_type": "code",
   "execution_count": null,
   "metadata": {},
   "outputs": [],
   "source": [
    "name = 'Bruno'\n",
    "\n",
    "name[-2:]"
   ]
  },
  {
   "cell_type": "markdown",
   "metadata": {},
   "source": [
    "#### Überblick zur positiven und negativen Indexierung\n",
    "\n",
    "Die Tabelle zeigt die positiven und negativen Indize des Strings 'ABCDE':\n",
    "\n",
    "\n",
    "| 'A | B | C | D | E'\n",
    "|---|---|---|---|---|\n",
    "| 0 | 1 | 2 | 3 | 4\n",
    "| -5| -4 | -3 | -2 | -1 "
   ]
  },
  {
   "cell_type": "markdown",
   "metadata": {},
   "source": [
    "#### [:-Index] exklusive dieses Indizes\n",
    "\n",
    "Du rechnest: 0 - angegebener Index oder alternativ direkt vom Wortende an bei -1 beginnend, in beiden Fällen nach links  \n",
    "<br>\n",
    "Wenn du vom letzten Index als Index mit dem Wert -1 ausgehst, kommst du so wieder bei exklusive des angegebenen Indexes an. So ist es auch beim Splitting mit positiven Zahlen.\n",
    "<br>\n",
    "\n",
    "Abbildung aller Zeichen lrechts, außer des gewählten letzten Indizes: - 1 -> du rechnest: **minus o [-1]**. Alles, was übrig bleibt, erscheint in der Ausgabe:"
   ]
  },
  {
   "cell_type": "code",
   "execution_count": null,
   "metadata": {},
   "outputs": [],
   "source": [
    "name = 'Bruno'\n",
    "\n",
    "name[:-1]"
   ]
  },
  {
   "cell_type": "markdown",
   "metadata": {},
   "source": [
    "Abbildung von allen Zeichen rechts des exklusiven Indexes nach dem Doppelpunkt: **-1 bis - 3** -> du rechnest **-o [-1]** - **n [-2]** - **u [-3].** Alles, was übrig bleibt, erscheint in der Ausgabe:\n"
   ]
  },
  {
   "cell_type": "raw",
   "metadata": {},
   "source": [
    "name = 'Bruno'\n",
    "\n",
    "name[:-3]"
   ]
  },
  {
   "cell_type": "markdown",
   "metadata": {},
   "source": [
    "Und was passiert, wenn du mit **-5** genau die Anzahl aller Indizes angibst?  \n",
    "Du erhältst einen leeren String. Diesen erhältst du auch, wenn du eine Zahl angibst, die höher als die verfügbaren Indize ist. Es erscheint also keine Fehlermeldung, sondern Python zieht einfach eine Zahl in beliebiger Höhe von den vorhandenen Indizes ab:\n"
   ]
  },
  {
   "cell_type": "code",
   "execution_count": null,
   "metadata": {},
   "outputs": [],
   "source": [
    "name = 'Bruno'\n",
    "\n",
    "name[:-8]"
   ]
  },
  {
   "cell_type": "markdown",
   "metadata": {},
   "source": [
    "#### [-Index:-Index] läuft rückwärts vom letzten Index an bis zu allem, was links des Indexes nach dem Doppelpunkt steht\n",
    "\n",
    "Du rechnest: - Index (vom Wortende an) - angegebener Index (vom Wortende an) -> der Schnitt beider wird abgebildet \n",
    "<br>\n",
    "Das erscheint tricky, doch bleib fest bei dem, was du bisher gelernt hast und du kannst es durchschauen.  \n",
    "<br>\n",
    "Betrachte das Beispiel in der unteren Code-Zelle.  \n",
    "<br>\n",
    "**Ablauf:**  \n",
    "Wir beginnen bei **[-3:]**: -o - n - u -> alles ab dem <b>u</b> bzw. Index **-3** wird abgebildet ('uno'), da **alles vor dem Doppelpunkt inklusive ist**.  \n",
    "<br>\n",
    "\n",
    "Weiter geht es mit **[:-1]**: -o -> alles ab dem <b>o</b> bzw. Index **-1** wird **nicht** abgebildet ('Brun'), da **alles nach dem Doppelpunkt exklusive ist**.  \n",
    "<br>\n",
    "Welche Buchstaben haben 'uno' und 'Brun' gemeinsam? Diese werden abgebildet."
   ]
  },
  {
   "cell_type": "raw",
   "metadata": {},
   "source": [
    "name = 'Bruno'\n",
    "\n",
    "name[-3:-1]"
   ]
  },
  {
   "cell_type": "markdown",
   "metadata": {},
   "source": [
    "Bevor du die folgende Code-Zelle ausführst, überleg bzw. zähl nach, welche Ausgabe diese Splittung bewirkt:"
   ]
  },
  {
   "cell_type": "code",
   "execution_count": null,
   "metadata": {},
   "outputs": [],
   "source": [
    "name = 'Bruno'\n",
    "\n",
    "name[-4:-2]"
   ]
  },
  {
   "cell_type": "markdown",
   "metadata": {},
   "source": [
    "Wenn du dir diese Ausgabe nicht erklären kannst, befolge den Ablauf wie im zuvor erklärten Beispiel. Der Ablauf bleibt immer gleich und hilft dir gegen Verwirrungen.  \n",
    "\n",
    "<div class=\"alert alert-block alert-info\">\n",
    "    <font size=\"3\"><b>Merke:</b></font>  <b>[(-)inklusive links von hier:(-)exklusive ab hier]</b>\n",
    "<br>\n",
    "    \n",
    "* alles **vor** dem Doppelpunkt ist **inklusive** -> alles vom Stringende an ab dem gewählten Index\n",
    "    \n",
    "* alles **nach** dem Doppelpunkt ist **exklusive** -> alles vom Stringende an ab dem gewählten Index \n",
    "______________________________________________________________________________________________________________________\n",
    "\n",
    "**Es ist logisch, dass der Index nach dem Doppelpunkt stets rechts des Indexes vor dem Doppelpunkt liegt** (wie bei ``name[-4:-2]``, da andersherum kein Schnitt mit Inhalt entstehen könnte. Weil sich die ausgewählten Indize \"gegenseitig ausstechen\", ergibt ``name[-2:-4]`` eine leere Menge bzw. einen leeren String => Output: '&nbsp;'  \n",
    "<br>\n",
    "Dabei verhält sich die Richtung \"rechts\" <b>nicht</b> wie für Zahlen auf einem Zahlenstrahl von beispielsweise -10 bis +10, sondern <b>die Orientierung erfolgt anhand der Indexierung</b>:  \n",
    "\n",
    "| 'A | B | C | D | E'\n",
    "|---|---|---|---|---|\n",
    "| 0 | 1 | 2 | 3 | 4\n",
    "| -5| -4 | -3 | -2 | -1 \n",
    "\n",
    "-1 liegt rechts von 2, deshalb ist mit [2:-1] eine Splittung, die zu einem Wert mit Inhalt führt, möglich!\n",
    "</div>\n",
    "<br>\n",
    "\n",
    "<div class=\"alert alert-block alert-warning\">\n",
    "<font size=\"3\"><b>Übung:</b></font> Wie müsste der folgende Name mit negativen Zahlen gesplittet werden, um <b>'Stall'</b> zu erhalten? Trag deine Splittung in die untere Codezelle ein.\n",
    "</div>"
   ]
  },
  {
   "cell_type": "code",
   "execution_count": null,
   "metadata": {},
   "outputs": [],
   "source": [
    "name = 'Sylvester Stallone'\n"
   ]
  },
  {
   "cell_type": "markdown",
   "metadata": {},
   "source": [
    "#### [+Index:-Index] splittet von inklusive des Indexes vor dem Doppelpunkt bis exklusive des Indexes vom Stringende an\n",
    "\n",
    "Das wird dir direkt an einem Beispiel in der folgenden Code-Zelle mit dem bereits vorgestellten Ablauf veranschaulicht.  \n",
    "<br>\n",
    "**Ablauf:**  \n",
    "Wir beginnen bei **[2:]**: u [2] -> alles ab dem <b>u</b> bzw. Index <b>2</b> wird abgebildet, da **alles vor dem Doppelpunkt inklusive ist**.  \n",
    "<br>\n",
    "\n",
    "Weiter geht es mit **[:-2]**:  -o - n [-2] -> alles ab dem <b>n</b> bzw. Index **-2** wird **nicht** abgebildet, da **alles nach dem Doppelpunkt exklusive ist**."
   ]
  },
  {
   "cell_type": "code",
   "execution_count": null,
   "metadata": {},
   "outputs": [],
   "source": [
    "name = 'Bruno'\n",
    "\n",
    "name[2:-2]"
   ]
  },
  {
   "cell_type": "markdown",
   "metadata": {},
   "source": [
    "#### [-Index:+Index] splittet von inklusive des Indexes vor dem Doppelpunkt (nach links) bis exklusive ab des Indexes nach dem Doppelpunkt\n",
    "\n",
    "Auch dies wird dir direkt an einem Beispiel, zu sehen in der folgenden Code-Zelle, mit dem bereits vorgestellten Ablauf veranschaulicht.  \n",
    "<br>\n",
    "**Ablauf:**  \n",
    "Wir beginnen bei **[-4:]**: -o - n - u - r -> alles ab dem <b>r</b> bzw. Index <b>-4</b> wird abgebildet, da **alles vor dem Doppelpunkt inklusive ist**.  \n",
    "<br>\n",
    "\n",
    "Weiter geht es mit **[:3]**:  n [3] -> alles ab dem <b>n</b> bzw. Index **3** wird <b>nicht</b> abgebildet, da <b>alles nach dem Doppelpunkt exklusive ist</b>."
   ]
  },
  {
   "cell_type": "code",
   "execution_count": null,
   "metadata": {},
   "outputs": [],
   "source": [
    "name = 'Bruno'\n",
    "\n",
    "name[-4:3]"
   ]
  },
  {
   "cell_type": "markdown",
   "metadata": {},
   "source": [
    "<div class=\"alert alert-block alert-warning\">\n",
    "    <font size=\"3\"><b>Übung:</b></font> Wie müsste der folgende Name mit positiven <b>und</b> begativen Indizes gesplittet werden, um <b>'Stall'</b> zu erhalten? Trag deine Splittung in die untere Codezelle ein. Probier das einmal mit dem negativen Index vor dem Doppelpunkt und einmal nach ihm aus.\n",
    "</div>"
   ]
  },
  {
   "cell_type": "code",
   "execution_count": null,
   "metadata": {},
   "outputs": [],
   "source": [
    "# negativer Index vor dem Doppelpunkt\n",
    "\n",
    "name = 'Sylvester Stallone'\n",
    "\n"
   ]
  },
  {
   "cell_type": "code",
   "execution_count": null,
   "metadata": {},
   "outputs": [],
   "source": [
    "# negativer Index nach dem Doppelpunkt\n",
    "\n",
    "name = 'Sylvester Stallone'\n",
    "\n"
   ]
  },
  {
   "cell_type": "markdown",
   "metadata": {},
   "source": [
    "<div class=\"alert alert-block alert-success\">\n",
    "<b>Klasse!</b> Wenn du alle Übungen meistern konntest, bist du jetzt fit im Splitten von Strings.  \n",
    "<br>\n",
    "Solltest du dir noch unsicher bei diesem Thema sein, dann ist das auch in Ordnung. Das ist ein Thema, das sich bei wiederholtem Üben richtig festigt. Und wenn du das Splitten von Strings immer wieder mal durchgehst und übst, wird dir das auch beim Splitten von Listen und anderen Datenstrukturen in späteren Kapiteln behilflich sein.  \n",
    "<br>\n",
    "    \n",
    "Im letzten Teil dieser Einheit lernst du noch, wie du Input von Usern in Code einbauen und weiterverarbeiten kannst."
   ]
  },
  {
   "cell_type": "markdown",
   "metadata": {},
   "source": [
    "## 3.2.8 User-Input verarbeiten\n",
    "\n",
    "User-Input kannst du mit der Funktion ``input()`` aufnehmen. Das Beste ist, du speicherst diesen sogleich in einer Variablen ab.  \n",
    "<br>\n",
    "Der untenstehende Code fragt den User nach seinem Vornamen und gibt diesen anschließend in einer persönlichen Begrüßung wieder. Probier es aus!"
   ]
  },
  {
   "cell_type": "code",
   "execution_count": null,
   "metadata": {},
   "outputs": [],
   "source": [
    "print(\"Wie lautet dein Vorname?\")\n",
    "firstname = input()\n",
    "print(f'Hallo {firstname}. Schön, dich zu treffen!')\n",
    "\n",
    "type(firstname)"
   ]
  },
  {
   "cell_type": "markdown",
   "metadata": {},
   "source": [
    "<div class=\"alert alert-block alert-info\">\n",
    "    <font size=\"3\"><b>Tipp:</b></font> Wichtig zu beachten bei User-Input ist, dass dieser generell zum Datentyp String gehört. Möchtest du also über User-Input eingelesene Zahlen weiterverarbeiten, funktioniert das nicht ohne Konvertierung.\n",
    "</div>\n",
    "\n",
    "In dem folgenden Beispiel wird der/die UserIn gefragt, wie viel er/sie für einen Apfel bezahlen will.  Weil wir feilschen wollen, bitten wir den/die UserIn anschließend um 50 Cent mehr. Der String-Input wird zu Float konvertiert:"
   ]
  },
  {
   "cell_type": "code",
   "execution_count": null,
   "metadata": {},
   "outputs": [],
   "source": [
    "print('Wie viel Euro bist du bereit, für diesen leckeren Apfel zu bezahlen?\\nGib einen Zahlenwert ein und verwende\\\n",
    "einen Punkt für die Angabe von Nachkommastellen.')\n",
    "price = input()\n",
    "my_price = float(price) + 0.5\n",
    "\n",
    "print(f'Okay, würdest du mir auch {my_price} Euro für diesen ganz besonders leckeren Apfel geben?')"
   ]
  },
  {
   "cell_type": "markdown",
   "metadata": {},
   "source": [
    "Du kannst, wie in dem Beispiel oben, die Konvertierung in einer Folgevariablen (<b>my_price</b>) vornehmen. Du kannst den Input aber auch direkt zu dem gewünschten Datentyp konvertieren: "
   ]
  },
  {
   "cell_type": "code",
   "execution_count": null,
   "metadata": {},
   "outputs": [],
   "source": [
    "print('Wie viel Euro bist du bereit, für diesen leckeren Apfel zu bezahlen?\\nGib einen Zahlenwert ein und verwende\\\n",
    "einen Punkt für die Angabe von Nachkommastellen.')\n",
    "price = float(input())\n",
    "my_price = price + 0.5\n",
    "\n",
    "print(f'Okay, würdest du mir auch {my_price} Euro für diesen ganz besonders leckeren Apfel geben?')"
   ]
  },
  {
   "cell_type": "markdown",
   "metadata": {},
   "source": [
    "Es ist dann sinnvoll, nicht den Input direkt zu konvertieren, wenn du den gleichen Input in verschiedenen Datentypen benötigst, z.B. einmal als Float und dann als Integer. Denn mit der direkten Konvertierung zu Integer hättest du für Float Nachkommastellen verloren.\n",
    "\n",
    "<div class=\"alert alert-block alert-info\">\n",
    "    <font size=\"3\"><b>Merke:</b></font> Hol dir den User-Input immer so, dass dem/der UserIn klar ist, welchen Datentyp er/sie einzugeben hat. Du kannst den/die UserIn explizit darauf hinweisen, welche Zeichen er/sie verwenden darf.  \n",
    "<br>\n",
    "Sei dir selbst auch im Klaren darüber, welchen Datentyp du für die Weiterverarbeitung des Inputs brauchst, damit du ihn entsprechend und an richtiger Stelle konvertieren kannst.\n",
    "</div>\n",
    "<br>\n",
    "\n",
    "### Ablauf zum Coden mit User-Input\n",
    "\n",
    "1. Bitte den/die UserIn in einer Print-Funktion um die Eingabe bestimmter Daten\n",
    "    * Formuliere die Bitte so, dass die Art der Daten (Zeichen) zur Eingabe eindeutig ist\n",
    "    * z.B.: ``print('Gib eine ganze Zahl ein.')``\n",
    "2. Leg eine passend zu den Eingabedaten benamte Variable an und weise dieser die Input-Funktion zu\n",
    "    * z.B.: ``number = input()``\n",
    "3. Hast du einen Zahlenwert als Input und möchtest du mit diesem Berechnungen anstellen, musst du ihn konvertieren,\n",
    "    * denn User-Input gehört immer zum Datentyp String\n",
    "    * z.B.: ``number = int(input())  # direkte Konvertierung des Inputs``\n",
    "    * oder: ``int_number = int(number)  # Konvertierung einer Folgevariablen``\n",
    "4. Hast du einmal den Input in einer Variablen und in einem  passenden Datentyp gespeichert, kannst du diese wie jede andere Variable für Berechnungen und Funktionen verwenden und wie jede andere Variable an den/die UserIn ausgeben\n",
    "    * z.B.:\n",
    "        * ``lucky_number = int_number * 8``\n",
    "        * ``print(f'Your lucky number is {lucky_number}!')``  \n",
    "\n",
    "<div class=\"alert alert-block alert-info\">\n",
    "    <font size=\"3\"><b>Tipp:</b></font> Alternativ kannst du die Eingabeaufforderung an den/die UserIn direkt in die Input-Funktion schreiben:  \n",
    "<br>\n",
    "    \n",
    "<b>name = input('Wie heißt du?')</b>  \n",
    "<br>\n",
    "Das kann übersichtlicher sein oder auch nicht, es ist eine reine Ansichtssache.\n",
    "</div>\n",
    "<br>\n",
    "\n",
    "\n",
    "<div class=\"alert alert-block alert-warning\">\n",
    "    <font size=\"3\"><b>Übung:</b></font> Frag den/die UserIn nach seinem/ihrem Alter. Berechne anschließend sein/ihr Geburtsjahr und gib dieses aus.\n",
    "<br>\n",
    "    \n",
    "**Die Ausgabe sollte ungefähr so aussehen:**  \n",
    "<br>\n",
    "Hallo, wie alt bist/wirst du im Jahr 2020?  \n",
    "Dann bist du ``(errechnetes Jahr)`` geboren.\n",
    "</div>\n"
   ]
  },
  {
   "cell_type": "code",
   "execution_count": null,
   "metadata": {},
   "outputs": [],
   "source": []
  },
  {
   "cell_type": "markdown",
   "metadata": {},
   "source": [
    "<div class=\"alert alert-block alert-success\">\n",
    "<b>Toll!</b> Du kannst nun die UserInnen deines Programms nach beliebigen Informationen fragen und dann diese Infos in dein Programm einbauen.  \n",
    "<br>\n",
    "    \n",
    "Solltest du Schwierigkeiten mit der Aufgabe haben, geh in kleinen Schritten an sie heran. Leg dir jeweils neue Code-Zellen für die Teilschritte an und lass dir die Teilergebnisse jeweils ausgeben. Sieh dir auch die bereits behandelten Beispiele an und orientiere dich an diesen.\n",
    "<br>\n",
    "\n",
    "Strings bieten eine Fülle an Möglichkeiten, aufgrund der vielen Funktionen, die es für sie gibt. Diese lernst du in den folgenden Einheiten kennen.\n",
    "</div>"
   ]
  },
  {
   "cell_type": "markdown",
   "metadata": {},
   "source": [
    "<div class=\"alert alert-block alert-info\">\n",
    "<h3>Das kannst du dir aus dieser Übung mitnehmen:</h3>\n",
    "\n",
    "* **Strings können gesplittet werden**\n",
    "    * ... denn Strings sind indexiert\n",
    "    * Indize beginnen stets bei 0, 0 ist das erste Zeichen => ('0123')\n",
    "    * ... mit **[:]**, genauer: <font color = green>string[ab diesem Index:bis vor diesen Index]</font>\n",
    "    * Anwendung:\n",
    "        * ``'string'[:]`` => bildet den kompletten String ab\n",
    "        * ``'string'[0]`` => bildet nur den Character an Index 0 ab: 's'\n",
    "        * ``'string'[0:3]`` => splittet vom ersten bis inklusive des zweiten Zeichens: 'str'\n",
    "        * ``'string'[-4:-1]`` => splittet den String vom Ende an nach links: 'rin'  \n",
    "<br>\n",
    "* **User-Input über input()**\n",
    "    * mit ``input()`` kannst du Nutzer-Daten eingeben lassen\n",
    "    * weise ``input()`` immer einer Variablen zu, mit der du dann weiter arbeiten kannst, z.B.: ``age = input()``\n",
    "    * alles, was du über ``input()`` erhältst, egal, ob Zahlen oder Text oder andere Zeichen, alles gehört zum Datentyp String. Konvertiere den String in einen anderen Typen, wenn du keinen String brauchst, z.B.: ``age = int(input())``\n",
    "    * konvertiere nicht direkt den Input, wenn du den Input in mehreren Datentypen benötigst\n",
    "    * um Fehler zu vermeiden, weise den/die UserIn darauf hin, welche Art von Zeichen einzugeben sind\n",
    "</div>"
   ]
  }
 ],
 "metadata": {
  "kernelspec": {
   "display_name": "Python 3",
   "language": "python",
   "name": "python3"
  },
  "language_info": {
   "codemirror_mode": {
    "name": "ipython",
    "version": 3
   },
   "file_extension": ".py",
   "mimetype": "text/x-python",
   "name": "python",
   "nbconvert_exporter": "python",
   "pygments_lexer": "ipython3",
   "version": "3.7.3"
  }
 },
 "nbformat": 4,
 "nbformat_minor": 2
}
