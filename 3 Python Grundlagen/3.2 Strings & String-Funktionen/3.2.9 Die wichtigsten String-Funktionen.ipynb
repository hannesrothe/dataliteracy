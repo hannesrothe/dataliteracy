{
 "cells": [
  {
   "cell_type": "markdown",
   "metadata": {},
   "source": [
    "#  3.2 Strings & String-Funktionen\n",
    "\n",
    "## 3.2.9 Die wichtigsten String-Funktionen\n",
    "\n",
    "Im Anschluss dieser Übungseinheit kannst du ...\n",
    "+ auf dein Wissen über die Indexierung von Strings aufbauen und Funktionen auf Teile von Strings anwenden\n",
    "+ Buchstaben in Strings beliebig in Groß- und Kleinbuchstaben umwandeln\n",
    "+ nach einem bestimmten String in einem String suchen und diesen zählen sowie ersetzen\n",
    "+ Strings an gewissen Zeichen trennen und sie damit zu Listeneinträgen transformieren\n",
    "+ Strings an gewissen Zeichen verbinden und sie damit von Listeneinträgen zu einem String zu transformieren\n",
    "+ Funktionen miteinander verketten"
   ]
  },
  {
   "cell_type": "markdown",
   "metadata": {},
   "source": [
    "Python bietet zu Strings viele built-in Funktionen. **Built-in Functions** sind Funktionen, die wir nicht selbst schreiben müssen, sondern die intern in Python hinterlegt sind. Du hast schon einige kennengelernt, wie die Konvertierungsfunktionen (z.B. ``str()``) sowie ``print()``, ``type()``, ``input()`` usw.  \n",
    "<br>\n",
    "Diese Funktionen zu kennen und zu beherrschen, ist sehr wichtig für die Datenaufbereitung, zum Beispiel von Kundendaten. Diese liegen meistens als Strings vor. Selbst Telefonnummern sind als Strings gespeichert, da mit ihnen nichts berechnet wird. Für eine saubere und konsistente Datenhaltung ist deshalb eine einheitliche Formatierung der hinterlegten Kundendaten unerlässlich.  \n",
    "<br>\n",
    "<div class=\"alert alert-block alert-info\">\n",
    "<font size=\"3\"><b>Tipp:</b></font> Alle Aufgaben in den Einheiten zu String-Funktionen behandeln kleine Ausschnitte aus einem größeren Kontext. So werden zumeist einzelne Strings über built-in Functions manipuliert. In der Praxis wirst du viel eher eigene Funktionen schreiben, die gleich mehrere Strings auf die gleiche Weise manipulieren, sodass du sie nicht einzeln zu bearbeiten brauchst.  \n",
    "\n",
    "Wenn Strings in Datenstrukturen wie Listen und Dictionaries (siehe folgende Kapitel) gespeichert sind, kannst du noch viel mehr automatisiert mit ihnen anstellen.  \n",
    "\n",
    "Die hier aufgeführten Beispiele geben dir einen Einblick in diese Möglichkeiten und bereiten dich auf die Anwendung von String-Funktionen in \"automatisierteren\" Formen vor.\n",
    "</div>\n",
    "<br>\n",
    "\n",
    "### 3.2.9 a) Umwandlung in Groß- und Kleinbuchstaben mit capitalize(), title(), upper() und lower()\n",
    "\n",
    "#### capitalize()\n",
    "\n",
    "Diese Funktion wandelt den ersten Buchstaben eines Strings in einen Großbuchstaben um. Beispiel:  "
   ]
  },
  {
   "cell_type": "code",
   "execution_count": null,
   "metadata": {},
   "outputs": [],
   "source": [
    "fruit = 'kirsche'  \n",
    "\n",
    "fruit.capitalize()  "
   ]
  },
  {
   "cell_type": "markdown",
   "metadata": {},
   "source": [
    "#### title()\n",
    "\n",
    "Diese Funktion wandelt den ersten Buchstaben eines jeden Wortes innerhalb eines Strings in einen Großbuchstaben um. Beispiel:"
   ]
  },
  {
   "cell_type": "code",
   "execution_count": null,
   "metadata": {},
   "outputs": [],
   "source": [
    "town = 'new york'  \n",
    "\n",
    "town.title()  "
   ]
  },
  {
   "cell_type": "markdown",
   "metadata": {},
   "source": [
    "#### upper()\n",
    "\n",
    "... wandelt alle Buchstaben eines Strings in Großbuchstaben um. Beispiel:"
   ]
  },
  {
   "cell_type": "code",
   "execution_count": null,
   "metadata": {},
   "outputs": [],
   "source": [
    "route = 'highway 77'  \n",
    "\n",
    "route.upper()  "
   ]
  },
  {
   "cell_type": "markdown",
   "metadata": {},
   "source": [
    "#### lower()\n",
    "\n",
    "... wandelt alle Buchstaben eines Strings in Kleinbuchstaben um. Beispiel:  "
   ]
  },
  {
   "cell_type": "code",
   "execution_count": null,
   "metadata": {},
   "outputs": [],
   "source": [
    "small = 'KLeiN'  \n",
    "\n",
    "small.lower()  "
   ]
  },
  {
   "cell_type": "markdown",
   "metadata": {},
   "source": [
    "<div class=\"alert alert-block alert-info\">\n",
    "    <font size=\"3\"><b>Allgemeiner Tipp:</b></font> Wenn dir der Browserbildschirm zu groß erscheint und du oft herumscrollen musst ... \n",
    "    \n",
    "* verkleinere ihn mit: <font color = green>Strg</font> plus <font color = green>-</font> (Mac: <font color = green>Cmd</font> plus <font color = green>-</font>)\n",
    "* vergrößern kannst du ihn mit: <font color = green>Strg</font> plus <font color = green>+</font> (Mac: <font color = green>Cmd</font> plus <font color = green>+</font>)\n",
    "</div>\n",
    "<br>\n",
    "\n",
    "### 3.2.9 b) count('Zeichen')\n",
    "\n",
    "``count()`` zählt, wie oft ein bestimmtes oder mehrere Zeichen in einem String vorkommen. Das zu zählende Zeichen muss deshalb, als Teil des Strings, immer in Anführungsstriche gesetzt werden.  \n",
    "<br>\n",
    "Im folgenden Beispiel wird nur der Buchstabe **a** gezählt:"
   ]
  },
  {
   "cell_type": "code",
   "execution_count": null,
   "metadata": {},
   "outputs": [],
   "source": [
    "letters = 'abaa'\n",
    "\n",
    "letters.count('a')  "
   ]
  },
  {
   "cell_type": "markdown",
   "metadata": {},
   "source": [
    "Hier werden mehrere Zeichen gezählt, nämlich <b>a</b> und <b>b</b>:"
   ]
  },
  {
   "cell_type": "code",
   "execution_count": null,
   "metadata": {},
   "outputs": [],
   "source": [
    "letters = 'abcaabc'\n",
    "\n",
    "letters.count('ab')  "
   ]
  },
  {
   "cell_type": "markdown",
   "metadata": {},
   "source": [
    "Es werden immer nur zusammenhängende Zeichen gezählt. Obwohl <b>a</b> und <b>c</b> zusammengezählt 5 Mal vorkommen, treten sie kein einziges Mal zusammen auf:"
   ]
  },
  {
   "cell_type": "code",
   "execution_count": null,
   "metadata": {},
   "outputs": [],
   "source": [
    "letters = 'abcaabc'  \n",
    "\n",
    "letters.count('ac')"
   ]
  },
  {
   "cell_type": "markdown",
   "metadata": {},
   "source": [
    "Die Funktion ``count()`` ist **case-sensitive**. Das bedeutet, sie unterscheidet zwischen Groß- und Kleinschreibung.  \n",
    "<br>\n",
    "Folgende Suche bleibt ohne Treffer, da die Großbuchstaben nicht als Teil des Strings erkannt werden:"
   ]
  },
  {
   "cell_type": "code",
   "execution_count": null,
   "metadata": {},
   "outputs": [],
   "source": [
    "letters = 'abcaabc'  \n",
    "\n",
    "letters.count('AB')  "
   ]
  },
  {
   "cell_type": "markdown",
   "metadata": {},
   "source": [
    "#### Wie oft kommt ein Zeichen oder eine Zeichenfolge innerhalb eines bestimmten Teils des Strings vor?\n",
    "\n",
    "Es ist möglich, den Start- und Endindex innerhalb derer gezählt werden soll, über ``count()`` festzulegen. Der Startindex zählt dabei inklusive, der Endindex zählt exklusive, wird also selbst nicht mitgezählt.  \n",
    "Das ist wie beim Splitten von Strings: <b>Alles ab dem ersten angegebenen Index ist inklusive, alles ab dem zweiten Index ist exklusive.</b>  \n",
    "<br>\n",
    "<b> Es wird immer von 0 an gezählt.</b>  \n",
    "<br>\n",
    "Die Syntax der Funktion hierfür sieht so aus: <font color = green>str.count(value, start, end)</font>  \n",
    "Es ist möglich, nur den Startindex anzugeben.  \n",
    "<br>\n",
    "Angewendet wird sie zum Beispiel so:"
   ]
  },
  {
   "cell_type": "code",
   "execution_count": null,
   "metadata": {},
   "outputs": [],
   "source": [
    "letters = 'bbbaba'  \n",
    "\n",
    "letters.count('a', 3,5)"
   ]
  },
  {
   "cell_type": "markdown",
   "metadata": {},
   "source": [
    "Weil bei 0 mit dem Zählen begonnen wird, ist der Buchstabe mit Index 3 <b>a</b>, danach wird bis Index 4 gezählt, da Index 5 exklusive ist. In diesem Abschnitt kommt <b>a</b> nur 1 Mal vor.\n",
    "\n",
    "Python sucht den String bis zum Ende ohne Fehlermeldung ab, wenn der Endindex die Länge des Gesamtstrings abdeckt.  \n",
    "Auch das ist wie beim Splitten von Strings: <b>Gibst du eine Zahl an, die größer ist als die vorhandenen Indize, gibt es keine Fehlermeldung.</b>  \n",
    "<br>\n",
    "Beispiel:"
   ]
  },
  {
   "cell_type": "code",
   "execution_count": null,
   "metadata": {},
   "outputs": [],
   "source": [
    "letters = 'bbbaba'  \n",
    "\n",
    "letters.count('a', 3,5000)"
   ]
  },
  {
   "cell_type": "markdown",
   "metadata": {},
   "source": [
    "Weil hier bis zum Stringende gezählt wurde, wurde das letzte <b>a</b> mitgezählt. Somit kommt es in diesem Stringabschnitt 2 Mal vor.\n",
    "\n",
    "<div class=\"alert alert-block alert-warning\">\n",
    "    <font size=\"3\"><b>Übung zu den bisherigen String-Funktionen:</b></font>  \n",
    "<br>\n",
    "    \n",
    "Wie oft kommt die Zeichenfolge <b>einfach</b> in dem Gedicht (in der Variable <b>easy</b>) vor? Zähle alle \"Einfachs\", sowohl die groß- als auch kleingeschriebenen. Trage deine Lösung in die Code-Zelle darunter ein.  \n",
    "<br>\n",
    "Zu dieser Aufgabe findest du 5 Tipps weiter unten, solltest du nicht weiter wissen. Je weiter du scrollst, desto weiterführendere Tipps findest du. Überleg aber vorher, was du bisher in dieser Einheit gelernt hast und was dir davon für die Lösung dieser Aufgabe nützlich sein könnte.\n",
    "</div>\n",
    "<br>\n",
    "<div class=\"alert alert-block alert-info\">\n",
    "<font size=\"3\"><b>Tipp:</b></font> Du kannst Funktionen nacheinander in einer einzigen Code-Zeile anwenden.  \n",
    "    \n",
    "Beispielsyntax bei Anwendung auf einen String: <font color=green>string.funktion1().funktion2()</font>\n",
    "\n",
    "Damit wird auf den String erst die funktion1() angewandt und auf den umgewandelten String dann funktion2().\n",
    "</div>"
   ]
  },
  {
   "cell_type": "code",
   "execution_count": null,
   "metadata": {},
   "outputs": [],
   "source": [
    "easy = 'Vielfach wünscht ich einfach,\\ndass das Einfache auch einfach wär.\\nDoch das Einfache ist mehrfach\\neinfach in sich einfach sehr mannigfach.\\nUnd einfach vielfach\\nist das Einfache noch mehr.\\nEs ist einfach mehrfach um das\\nTausendfache einfacher.\\n(Matthias Trommler)'\n",
    "\n",
    "print(easy)"
   ]
  },
  {
   "cell_type": "code",
   "execution_count": null,
   "metadata": {},
   "outputs": [],
   "source": []
  },
  {
   "cell_type": "markdown",
   "metadata": {},
   "source": [
    "<div class=\"alert alert-block alert-warning\">\n",
    "    <font size=\"3\"><b>Tipp 1 zur Lösung der Aufgabe:</b></font> Die Funktion <b>count()</b> ist case-sensitive, sie zählt Groß- und Kleinbuchstaben getrennt. Da alle \"Einfachs\" gezählt werden sollen, brauchst du alle Buchstaben des Gedichts entweder als Groß- oder Kleinbuchstaben (es sei denn, du willst alle Buchstabenvarianten extra zählen und dann zusammen addieren - umständlich). Welche Funktionen hast du hierzu für die Umwandlung kennengelernt?\n",
    "</div>"
   ]
  },
  {
   "cell_type": "markdown",
   "metadata": {},
   "source": [
    "<div class=\"alert alert-block alert-warning\">\n",
    "<font size=\"3\"><b>Tipp 2 zur Lösung der Aufgabe:</b></font> Du kannst eine der beiden Funktionen zur Umwandlung in Groß- oder Kleinbuchstaben auf den Text angewenden, indem du entweder den umgewandelten Text in einer neuen Variable speicherst oder du die Umwandlung direkt am Text (<b>easy</b>) ausführst.\n",
    "</div>"
   ]
  },
  {
   "cell_type": "markdown",
   "metadata": {},
   "source": [
    "<div class=\"alert alert-block alert-warning\">\n",
    "<font size=\"3\"><b>Tipp 3 zur Lösung der Aufgabe:</b></font> Davon ausgehend, dass du den umgewandelten Text einer neuen Variable zugewiesen hast: Wende nun auf diese Variable die Count-Funktion an. Achte darauf, die Zeichenfolge <b>'einfach'</b> entsprechend deines umgewandelten Textes auch in Klein- oder Großbuchstaben zu suchen.\n",
    "</div>"
   ]
  },
  {
   "cell_type": "markdown",
   "metadata": {},
   "source": [
    "<div class=\"alert alert-block alert-warning\">\n",
    "<font size=\"3\"><b>Tipp 4 zur Lösung der Aufgabe:</b></font> Hast du die Umwandlung des Textes zu Klein- oder Großbuchstaben direkt mit der Variable <b>easy</b> durchgeführt, sieh dir noch einmal den Tipp (in blau) unter der Aufgabenstellung an. Wie könntest du nun darauf die Count-Funktion anwenden?\n",
    "</div>"
   ]
  },
  {
   "cell_type": "markdown",
   "metadata": {},
   "source": [
    "<div class=\"alert alert-block alert-warning\">\n",
    "<font size=\"3\"><b>Tipp 5 zur Lösung der Aufgabe:</b></font> Gemäß dem Tipp in blau (oben) kannst du an die erste Funktion zur Umwandlung in Klein- oder Großbuchstaben direkt bzw. über den Punkt-Operator verbunden die Funktion <b>count()</b> mit der gesuchten Zeichenfolge anhängen. Damit hast du die Aufgabe in einer Code-Zeile gelöst!\n",
    "</div>"
   ]
  },
  {
   "cell_type": "markdown",
   "metadata": {},
   "source": [
    "<div class=\"alert alert-block alert-info\">\n",
    "<font size=\"3\"><b>Tipp:</b></font> Dir ist wahrscheinlich aufgefallen, dass das Gedicht in der Code-Zelle unter der Aufgabenstellung nur dann komplett lesbar ist, wenn man die Code-Zelle nach rechts scrollt.  \n",
    "\n",
    "Es ist mit einem Backslash (<b>\\\\</b>) möglich, Code auf mehrere Zeilen zu verteilen, sodass er auf einen Blick lesbar ist. Auf diese Weise erhältst du auch keine Fehlermeldung, wenn du Code über mehrere Zeilen schreibst.  \n",
    "\n",
    "Im folgenden Beispiel siehst du einen Backslash an den Zeilenenden:\n",
    "</div>"
   ]
  },
  {
   "cell_type": "code",
   "execution_count": null,
   "metadata": {},
   "outputs": [],
   "source": [
    "easy = 'Vielfach wünscht ich einfach,\\ndass das Einfache auch einfach wär.\\nDoch das Einfache ist mehrfach\\neinfach\\\n",
    "in sich einfach sehr mannigfach.\\nUnd einfach vielfach\\nist das Einfache noch mehr.\\nEs ist einfach mehrfach um\\\n",
    "das\\nTausendfache einfacher.\\n(Matthias Trommler)'\n",
    "\n",
    "print(easy)"
   ]
  },
  {
   "cell_type": "markdown",
   "metadata": {},
   "source": [
    "### 3.2.9. c) strip()\n",
    "\n",
    "Mit ``strip()`` kannst du Strings von bestimmten Zeichen befreien. Das ist nützlich, wenn du zum Beispiel einen String ohne Leerzeichen und/oder andere Satzzeichen abbilden möchtest. Es gibt verschiedene Varianten von ``strip()``, die dir nun vorgestellt werden.  \n",
    "<br>\n",
    "#### strip()\n",
    "Das \"reine\" ``strip()`` entfernt ein und mehr Leerzeichen am Anfang sowie Ende des Strings. Beispiel:   "
   ]
  },
  {
   "cell_type": "code",
   "execution_count": null,
   "metadata": {},
   "outputs": [],
   "source": [
    "phone_number = '   0157 12345678   '      \n",
    "\n",
    "phone_number.strip()  "
   ]
  },
  {
   "cell_type": "markdown",
   "metadata": {},
   "source": [
    "#### lstrip()\n",
    "``lstrip()`` entfernt ein und mehr Leerzeichen am Anfang des Strings. Das **l** steht dabei für links. Beispiel:  "
   ]
  },
  {
   "cell_type": "code",
   "execution_count": null,
   "metadata": {},
   "outputs": [],
   "source": [
    "phone_number = '   0157 12345678   '      \n",
    "\n",
    "phone_number.lstrip()"
   ]
  },
  {
   "cell_type": "markdown",
   "metadata": {},
   "source": [
    "#### rstrip()\n",
    "``rstrip()`` entfernt ein und mehr Leerzeichen am Ende des Strings. Das **r** steht für rechts. Beispiel:  "
   ]
  },
  {
   "cell_type": "code",
   "execution_count": null,
   "metadata": {},
   "outputs": [],
   "source": [
    "phone_number = '   0157 12345678   '      \n",
    "\n",
    "phone_number.rstrip()  "
   ]
  },
  {
   "cell_type": "code",
   "execution_count": null,
   "metadata": {},
   "outputs": [],
   "source": []
  },
  {
   "cell_type": "raw",
   "metadata": {},
   "source": []
  },
  {
   "cell_type": "markdown",
   "metadata": {},
   "source": [
    "#### strip('mit Zeichen')\n",
    "Fügst du in ``strip()`` Argumente ein, das heißt, Zeichen, die du wegstrippen möchtest, werden genau diese vom Anfang und Ende des Strings entfernt. Python stoppt mit dem Strippen, wenn es auf ein Zeichen im String trifft, das nicht im Parameter \"value\" (innerhalb der Funktionsklammern) gelistet ist.  \n",
    "\n",
    "Syntax: <font color = \"green\">str.strip('value',start,end)</font>\n",
    "<br>\n",
    "\n",
    "Die Werte werden hintereinander ohne Trennzeichen geschrieben. Zu entfernende Leerzeichen müssen explizit angegeben werden.  \n",
    "<br>\n",
    "Beispiel:"
   ]
  },
  {
   "cell_type": "code",
   "execution_count": null,
   "metadata": {},
   "outputs": [],
   "source": [
    "chapter = '1.2 How to Win the Lottery?'    \n",
    "\n",
    "chapter.strip('1.2 ?')"
   ]
  },
  {
   "cell_type": "markdown",
   "metadata": {},
   "source": [
    "Beachte dabei, dass das Leerzeichen nach <b>2</b> explizit in den zu entfernenden Zeichen (Funktionsargumenten) angegegeben und somit entfernt wurde.  \n",
    "<br>\n",
    "**Verkettung von Funktionen - Beispiel:**  \n",
    "\n",
    "Du kannst ``strip()`` auch **mit anderen String-Funktionen kombinieren**, z.B so:"
   ]
  },
  {
   "cell_type": "code",
   "execution_count": null,
   "metadata": {},
   "outputs": [],
   "source": [
    "chapter.strip('1.2 ?').upper()"
   ]
  },
  {
   "cell_type": "markdown",
   "metadata": {},
   "source": [
    "<div class=\"alert alert-block alert-info\">\n",
    "<font size=\"3\"><b>Tipp:</b></font> Wenn du eine Funktion auf einen String anwendest (wie oben <b>strip()</b>), ohne diese Anwendung in einer neuen Variable zu speichern, bleibt die Anwendung auf den String auch nicht gespeichert (<b>chapter</b> bleibt unverändert). Wenn du also mit einem umgewandelten Strings weiterarbeiten möchtest, speichere ihn in einer neuen Variable oder wähle die verkettete Anwendung von Funktionen (mehrere hintereinander).  \n",
    "</div>"
   ]
  },
  {
   "cell_type": "code",
   "execution_count": null,
   "metadata": {},
   "outputs": [],
   "source": [
    "# chapter bleibt unverändert\n",
    "\n",
    "print(chapter)"
   ]
  },
  {
   "cell_type": "code",
   "execution_count": null,
   "metadata": {},
   "outputs": [],
   "source": [
    "# das umgewandelte chapter wird einer neuen Variable zugewiesen\n",
    "\n",
    "chapter_transformed = chapter.strip('1.2 ?').upper()\n",
    "\n",
    "print(chapter_transformed)"
   ]
  },
  {
   "cell_type": "markdown",
   "metadata": {},
   "source": [
    "<div class=\"alert alert-block alert-info\">\n",
    "<font size=\"3\"><b>Tipp:</b></font> Du kannst auch die Variable <b>chapter</b> mit sich selbst überschreiben:\n",
    "    \n",
    "chapter = chapter.strip('1.2 ?').upper()\n",
    "<br>\n",
    "\n",
    "<b>Doch Achtung:</b> Du hast sie dann die Originalvariable verändert! Was passiert, wenn du mit der veränderten \n",
    "Originalvariable neue Analysen anstellen willst? Wirst du dann noch die richtigen Ergebnisse erhalten, \n",
    "wenn du mit einer Verfälschung arbeitest?  \n",
    "\n",
    "Lege lieber neue Variablen an, damit die Originale erhalten bleiben.\n",
    "</div>"
   ]
  },
  {
   "cell_type": "markdown",
   "metadata": {},
   "source": [
    "<b>strip()</b> entfernt <b>ausschließlich</b> Zeichen am String-Anfang und -Ende. Du kannst also nicht \"How to win?\" aus der Zeichenfolge erhalten, denn <b>the Lottery</b> befindet sich nicht an ihrem Ende:"
   ]
  },
  {
   "cell_type": "code",
   "execution_count": null,
   "metadata": {},
   "outputs": [],
   "source": [
    "chapter = '1.2 How to Win the Lottery?'    \n",
    "\n",
    "chapter.strip('1.2 the Lottery')"
   ]
  },
  {
   "cell_type": "markdown",
   "metadata": {},
   "source": [
    "Du kannst dir das so merken, dass sozusagen von den Schuhen und vom Hut an zur Mitte hin gestrippt wird, aber von irgendwo zwischendrin an nicht.\n",
    "\n",
    "<b>strip()</b> entfernt außerdem alle gleichartigen Zeichen, wie hier alle Fragezeichen. Du musst sie nicht alle als Funktionsargument angeben:"
   ]
  },
  {
   "cell_type": "code",
   "execution_count": null,
   "metadata": {},
   "outputs": [],
   "source": [
    "chapter = '1.2 How to Win the Lottery???'    \n",
    "\n",
    "chapter.strip('1.2 ?')"
   ]
  },
  {
   "cell_type": "markdown",
   "metadata": {},
   "source": [
    "<div class=\"alert alert-block alert-warning\">\n",
    "    <font size=\"3\"><b>Übung zu den bisherigen String-Funktionen:</b></font>  \n",
    "<br>\n",
    "    \n",
    "Nachdem ein User zum tausendsten Mal von einem Programm nach seinem Vornamen gefragt wurde, gibt er den Namen so ein: <b>!!!!RÜDIGER#%##%#!!!!</b> Kannst du den Namen zurück zu <b>'Rüdiger'</b> formatieren?  \n",
    "Schaffst du das auch in einer Code-Zeile?\n",
    "</div>"
   ]
  },
  {
   "cell_type": "code",
   "execution_count": null,
   "metadata": {},
   "outputs": [],
   "source": [
    "name = '!!!!RÜDIGER#%##%#!!!!'\n"
   ]
  },
  {
   "cell_type": "markdown",
   "metadata": {},
   "source": [
    "### 3.2.9 d) split()\n",
    "\n",
    "``split()`` splittet einen String an seinen Leerzeichen und entfernt diese gleichzeitig. Der Rückgabewert gehört zum Datentyp **List** (Liste), zu dem wir im übernächsten Kapitel kommen. Auch ``split()`` kann man in mehreren Variationen anwenden.  \n",
    "<br>\n",
    "#### split()\n",
    "``split()`` wendest du, wie die bisherigen String-Funktionen, mit dem Punkt-Operator nach dem Variablennamen an. Beispiel:  "
   ]
  },
  {
   "cell_type": "code",
   "execution_count": null,
   "metadata": {},
   "outputs": [],
   "source": [
    "letters = 'a b c d e'      \n",
    "\n",
    "letters.split()  "
   ]
  },
  {
   "cell_type": "markdown",
   "metadata": {},
   "source": [
    "Jeder Buchstabe ist jetzt ein einzelner Eintrag in der Liste. Du erkennst das daran, dass die einzelnen Strings durch ein Komma getrennt sind.  \n",
    "\n",
    "Listen wie im obigen Output erkennst du an ihren eckigen Klammern: ``string_list = ['index0', 'index1', 'index2']``\n",
    "<br>\n",
    "#### split('Zeichen')\n",
    "Fügst du ein oder mehrere Zeichen in ``split()`` ein, wird der String entsprechend an diesen Zeichen gesplittet. \n",
    "Das ist besonders nützlich, wenn du beispielsweise einen String mit Namen hast, die jeweils mit Komma und Leerzeichen verbunden sind. Die einzelnen Namen können somit extrahiert werden. Beispiel:"
   ]
  },
  {
   "cell_type": "code",
   "execution_count": null,
   "metadata": {},
   "outputs": [],
   "source": [
    "customers = 'Rosa Schwein, Bernhard Diener, Jim Panse, Ute Russ'        \n",
    "\n",
    "customers.split(', ')"
   ]
  },
  {
   "cell_type": "markdown",
   "metadata": {},
   "source": [
    "**Jeder gesplittete Teil des Strings wird zu einem Eintrag in einer Liste.**    \n",
    "Die Strings landen in derselben Reihenfolge in der Liste, in der sie auch im String stehen.  \n",
    "<br>\n",
    "Möchtest du dir nun beispielsweise den ersten Listeneintrag ansehen, funktioniert das über die Anwahl des richtigen Indizes - und das kennst du bereits :)"
   ]
  },
  {
   "cell_type": "code",
   "execution_count": null,
   "metadata": {},
   "outputs": [],
   "source": [
    "customers_lst[0]"
   ]
  },
  {
   "cell_type": "markdown",
   "metadata": {},
   "source": [
    "Der Output liefert uns einen String, keine Liste. Denn über den Index wird der Wert abgefragt, der an der Indexposition hinterlegt ist. In der Liste ist der Wert an Index 0 ein String.  \n",
    "<br>\n",
    "\n",
    "#### join() als das Gegenstück zu split()\n",
    "Wie kannst du diese getrennten Listeneinträge wieder zu einem String verbinden?  \n",
    "Du kennst bereits die Funktion, die das ermöglicht: ``('zeichen').join(string_list)``  \n",
    "\n",
    "Von Vorteil ist die Verbindung, wenn du zum Beispiel bestimmte Listeneinträge im Textformat mit Komma getrennt abspeichern möchtest.\n",
    "\n",
    "Beispiel:"
   ]
  },
  {
   "cell_type": "code",
   "execution_count": null,
   "metadata": {},
   "outputs": [],
   "source": [
    "customers_joined = (', ').join(customers_lst)\n",
    "\n",
    "customers_joined"
   ]
  },
  {
   "cell_type": "markdown",
   "metadata": {},
   "source": [
    "Listen sind die in Python am häufigsten verwendete Datenstruktur. Für die Datenhaltung und -analyse werden sie, aufgrund der Fülle ihrer Möglichkeiten, für dich unerlässlich werden.\n",
    "\n",
    "#### split('Zeichen', maxsplit)\n",
    "Optional neben einem Argument kannst du auch den maximalen Index angeben, bis wohin der String gesplittet werden soll. Der maximale Index ist (wie beim Splitten von Strings und ``count()``)nicht inklusive, das heißt, der String wird bis vor diesen gesplittet. Beispiel:"
   ]
  },
  {
   "cell_type": "code",
   "execution_count": null,
   "metadata": {},
   "outputs": [],
   "source": [
    "customers = 'Rosa Schwein, Bernhard Diener, Jim Panse, Ute Russ'        \n",
    "\n",
    "customers.split(', ',2)"
   ]
  },
  {
   "cell_type": "markdown",
   "metadata": {},
   "source": [
    "Wie du siehst, sind 'Jim Panse, Ute Russ' nicht getrennt, sondern als ein String in der Liste gespeichert, denn sie stehen innerhalb der Anführungsstriche eines Strings. 'Rosa Schwein' und 'Bernhard Diener' sind als einzelne Einträge gespeichert, denn sie stehen in einzelnen Strings. Die Kommas nach 'Rosa Schwein' und 'Bernhard Diener' sind die Trennzeichen für die Listeneinträge.\n",
    "<br>\n",
    "<div class=\"alert alert-block alert-warning\">\n",
    "    <font size=\"3\"><b>Übung:</b></font>  \n",
    "<br>\n",
    "Ein Mitarbeiter hat die Namen deiner Klienten in einen String mit merkwürdigen Trennzeichen aufgenommen. Kannst du die Namen in eine Liste extrahieren? Klara Fall und Knut Schfleck sind eigentlich Zwillinge und beauftragen dich sowieso immer zusammen, weshalb sie nicht getrennt gelistet werden müssen.  \n",
    "<br>\n",
    "Mach dir noch keine Gedanken darüber, wie du die unschönen Zeichen zwischen den Zwillingen entfernen kannst. Das wird dir bei der folgenden Funktion gezeigt.\n",
    "</div>"
   ]
  },
  {
   "cell_type": "code",
   "execution_count": null,
   "metadata": {},
   "outputs": [],
   "source": [
    "clients = 'Roman Ticker+#Polly Zist+#Rob Otter+#Klara Fall+#Knut Schfleck' \n",
    "\n"
   ]
  },
  {
   "cell_type": "markdown",
   "metadata": {},
   "source": [
    "### 3.2.9 e) replace()\n",
    "Mit ``replace()`` kannst du Zeichen durch andere Zeichen ersetzen. Die Syntax ist wie folgt:  \n",
    "<br>\n",
    "<font color = green>replace('das soll ersetzt werden','das soll stattdessen hin')</font>  \n",
    "<br>\n",
    "Beispiel:  "
   ]
  },
  {
   "cell_type": "code",
   "execution_count": null,
   "metadata": {},
   "outputs": [],
   "source": [
    "phrase = 'Schule ist doof!'  \n",
    "\n",
    "phrase.replace('doof','toll')  "
   ]
  },
  {
   "cell_type": "markdown",
   "metadata": {},
   "source": [
    "Es gibt noch einen dritten, optionalen Parameter in ``replace()``, mit welchem du festlegst, wie oft, von Beginn des Strings an gezählt, eine Zeichenkette ersetzt werden soll. Per default, in der Grundeinstellung, werden alle angegebenen Wörter ersetzt:  "
   ]
  },
  {
   "cell_type": "code",
   "execution_count": null,
   "metadata": {},
   "outputs": [],
   "source": [
    "phrase = 'Schule ist doof, doof, doof!'    \n",
    "\n",
    "phrase.replace('doof','toll') "
   ]
  },
  {
   "cell_type": "markdown",
   "metadata": {},
   "source": [
    "Mit dem dritten Parameter, \"count\", legst du stattdessen fest, **wie oft** ein Character/String ersetzt werden soll.  \n",
    "<br>\n",
    "Syntax: <font color = green>replace('das soll ersetzt werden','das soll stattdessen hin', count)</font>  \n",
    "<br>\n",
    "Beispiel:"
   ]
  },
  {
   "cell_type": "code",
   "execution_count": null,
   "metadata": {},
   "outputs": [],
   "source": [
    "phrase = 'Schule ist doof, doof, doof!'    \n",
    "\n",
    "phrase.replace('doof','toll',2)  "
   ]
  },
  {
   "cell_type": "markdown",
   "metadata": {},
   "source": [
    "Die Zahl **2** für <b>wie oft</b> zählt dabei ganz normal von 1 bis 2. Sie hat also nichts mit der Indexierung zu tun.\n",
    "\n",
    "<div class=\"alert alert-block alert-warning\">\n",
    "    <font size=\"3\"><b>Übung:</b></font> Mit diesem Wissen kannst du nun die Ausgabe der vorhergehenden Aufgabe perfektionieren und das <b>+#</b> zwischen <b>'Klara Fall+#Knut Schfleck'</b> entfernen. Kannst du die Zwillinge stattdessen mit einem Komma und Leerzeichen trennen?\n",
    "</div>"
   ]
  },
  {
   "cell_type": "code",
   "execution_count": null,
   "metadata": {},
   "outputs": [],
   "source": [
    "clients = 'Klara Fall+#Knut Schfleck'\n",
    "\n"
   ]
  },
  {
   "cell_type": "markdown",
   "metadata": {},
   "source": [
    "<div class=\"alert alert-block alert-success\">\n",
    "<b>Bravo!</b> Du kennst nun schon ziemlich viele String-Funktionen im Detail.  Sie werden dir sehr nützlich sein, wenn du mit echten Textdaten arbeitest.  \n",
    "<br>\n",
    "    \n",
    "Noch weitere nützliche String-Funktionen lernst du in der folgenden Einheit kennen.\n",
    "</div>"
   ]
  },
  {
   "cell_type": "markdown",
   "metadata": {},
   "source": [
    "<div class=\"alert alert-block alert-info\">\n",
    "<h3>Das kannst du dir aus dieser Übung mitnehmen:</h3>\n",
    "\n",
    "* **Die wichtigsten built-in Functions für Strings zusammengefasst:**\n",
    "    * Buchstaben-Umwandlungen\n",
    "        * ``capitalize()``, verwandelt den ersten Buchstaben eines Strings in einen Großbuchstaben - Syntax: <font color = green>str.capitalize()</font>\n",
    "        * ``title()``, wandelt alle Anfangsbuchstaben einzelner Wörter in Großbuchstaben um - Syntax: <font color = green>str.title()</font>\n",
    "        * ``upper()``, wandelt alle Buchstaben in Großbuchstaben um - Syntax: <font color = green>str.upper()</font>\n",
    "        * ``lower()``, wandelt alle Buchstaben in Kleinbuchstaben um - Syntax: <font color = green>str.lower()</font>  \n",
    "<br>\n",
    "    * Ersetzen, Teilen, Verbinden von Buchstaben\n",
    "        * ``replace()``, ersetzt einen Character/String mit einem anderen Character/String - Syntax: <font color = green>str.replace('wird ersetzt', 'kommt stattdessen hin')</font>\n",
    "            * optional kannst du mit dem 3. Parameter <b>count</b> festlegen, <b>wie oft</b> Zeichen ersetzt werden sollen - Syntax: <font color = green>str.replace('wird ersetzt', 'kommt stattdessen hin', count)</font>\n",
    "        * ``strip()``, entfernt Leerzeichen (oder andere Zeichen wenn zusätzlich angegeben) vom Stringanfang und -ende (Indexangabe ist optional),  - Syntax: <font color = green>strip('optionales Zeichen', ab Startindex, bis vor Endindex)</font>\n",
    "            * ``lstrip()`` entfernt Leer- oder andere Zeichen von links an\n",
    "            * ``rstrip()`` entfernt Leer- oder andere Zeichen von rechts an\n",
    "        * ``str.split()``, splittet alle Zeichen in einzelne Einträge einer Liste; kann mit Wertangabe und maximalem Index, bis vor den gesplittet werden soll, erweitert werden - Syntax: <font color = green>str.split('optionales Zeichen', bis vor optionalen Endindex)</font>\n",
    "        * ``join()``, verbindet/unterbricht Strings/Characters mit einem gewählten Zeichen - Syntax: <font color = green>'Zeichen'.join(String/Liste)</font>\n",
    "            * Klammern können optional um das zu verbindende Zeichen gesetzt werden\n",
    "            * Characters joinen, z.B. so: ``numbers = '123'`` => ``', '.join(numbers)`` => Output: '1, 2, 3' \n",
    "            * Listeneinträge in Form von Strings joinen, z.B. so:\n",
    "                * ``string_list = ['a', 'b', 'c']``\n",
    "                * ``string_list_joined = (', ').join(string_list)`` => Output: 'a, b, c'  \n",
    "<br>\n",
    "    * Zählen von Characters und Strings\n",
    "        * ``count()``, zählt die als Wert festgelegten Zeichen, die Indexangabe ist optional - Syntax: <font color = green>str.count('Zeichen', Startindex, Endindex)</font>  \n",
    "<br>\n",
    "* **Funktionen kann man verketten**\n",
    "    * so können mehrere Funktionen gleichzeitig angewendet werden\n",
    "    * Syntax: <font color = green>string.funktion1().funktion2().funktion3()...funktionX()</font>\n",
    "    * das funktioniert nicht nur mit Strings\n",
    "    * Vorteil: Funktionsergebnisse können direkt weiteren Funktionen übergeben werden\n",
    "    * Nachteil: Einzelne Funktionsergebnisse sind nicht extra abgespeichert und können somit nicht mehr einzeln weiterverwendet werden\n",
    "</div>"
   ]
  }
 ],
 "metadata": {
  "kernelspec": {
   "display_name": "Python 3",
   "language": "python",
   "name": "python3"
  },
  "language_info": {
   "codemirror_mode": {
    "name": "ipython",
    "version": 3
   },
   "file_extension": ".py",
   "mimetype": "text/x-python",
   "name": "python",
   "nbconvert_exporter": "python",
   "pygments_lexer": "ipython3",
   "version": "3.7.3"
  }
 },
 "nbformat": 4,
 "nbformat_minor": 2
}
