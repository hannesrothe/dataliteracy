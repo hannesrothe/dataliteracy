{
 "cells": [
  {
   "cell_type": "markdown",
   "metadata": {},
   "source": [
    "#  3.3 Conditions - Bedingungen\n",
    "\n",
    "## 3.3.1 - 3.3.3 If, Vergleichsoperatoren & Flow-Charts\n",
    "\n",
    "Im Anschluss dieser Übungseinheit kannst du ...\n",
    "+ Programmverzweigungen mit einem If-Statement umsetzen\n",
    "+ Vergleichsoperatoren einsetzen\n",
    "+ Flow-Charts lesen\n",
    "+ auf der Grundlage eines einfach verzweigten Flow-Charts ein Programm mit einem If-Statement erstellen"
   ]
  },
  {
   "cell_type": "markdown",
   "metadata": {},
   "source": [
    "## 3.3.1 If - Wenn\n",
    "\n",
    "'Was wäre, wenn ...?', hast du dich bestimmt auch schon mal gefragt. Anders als im Alltag, in dem man meistens nicht herausfinden kann, wohin die andere Entscheidung führt, kannst du beim Programmieren verschiedene Möglichkeiten durchlaufen. Erinnere dich an die Pizzabestellung aus dem letzten Kapitel. Mit ``if`` (= wenn) könntest du deinen KundInnen auch einen anderen Artikel als Pizza anbieten.  \n",
    "<br>\n",
    "Beginnen wir zunächst mit einem einfach verzweigten Beispiel zu ``if``. Wenn du die folgende Code-Zelle ausführst und <b>Pizza</b> eingibst, wird die Ausgabe nach dem <b>If-Statement</b> aktiviert. Gibst du irgendetwas anderes ein, kommt es zu keiner weiteren Ausgabe über ``print()``:"
   ]
  },
  {
   "cell_type": "code",
   "execution_count": null,
   "metadata": {},
   "outputs": [],
   "source": [
    "choice = input('Was möchtest du gern essen?\\n')\n",
    "pizza_price = 6.5\n",
    "\n",
    "if choice == 'Pizza':\n",
    "    print(f'Eine ausgezeichnete Wahl. Das macht {pizza_price} bitte.')"
   ]
  },
  {
   "cell_type": "markdown",
   "metadata": {},
   "source": [
    "### Wie funktioniert das?  \n",
    "<br>\n",
    "\n",
    "Ganz wichtig ist dieser <b>Vergleichsoperator</b>: ``==``  \n",
    "<br>\n",
    "Stimmt <b>choice</b> mit dem überein, was nach ``==`` steht, wird das Print-Statement ausgeführt.  \n",
    "<br>\n",
    "Syntax: <font color = green>if dies == das:</font>  \n",
    "\n",
    "Zu beachten ist der **Doppelpunkt** am Ende des If-Statements.  \n",
    "\n",
    "Weiterhin wichtig ist die sogenannte <b>Indentation</b> - die Einrückung mit 4 Leerzeichen von dem, was nach dem If-Statement folgt - wie im Beispiel ``print(f'[...]')``. Alternativ kannst du auch einen Tabulator-Abstand setzen. Mixe möglichst beide Varianten nicht in einer Code-Zelle, denn das könnte zu Fehlermeldungen führen.  \n",
    "Python-konform ist die Indentation mit 4 Leerzeichen. In Jupyter Notebooks wird automatisch ein Tabulator-Abstand gesetzt; in anderen IDEs nicht. Deshalb findest du in diesen Notebooks vorrangig die Indentation mit einem Tabulator-Abstand.  \n",
    "\n",
    "**Mit Indentations sagst du Python, das der eingerückte Teil dem vorherigen Code untergeordnet ist.**  \n",
    "\n",
    "Ohne Indetations kommt es zu falschen Ausgaben oder sogar zu Syntax Errors.  \n",
    "\n",
    ">Indentations sind essentiell wichtig in Python. Während in anderen  Programmiersprachen durch Zeichen wie geschweifte Klammern bestimmt wird, welcher Programmteil welchem anderen untergeordnet ist, hat man sich in Python von solchen Zeichen befreit. Das erspart Fehler bei der Zeichensetzung und bringt mehr Übersichtlichkeit beim Lesen des Codes.\n",
    "\n",
    "**Alternativ** kannst du bei weniger textlastigen If-Statements das If-Satement und das ihm folgende Statement in einer Codezeile schreiben. Das funktioniert nur, wenn du nicht mehr als eine auszuführende Codezeile nach dem If-Statement hast:    \n",
    "\n",
    "Beispiel:"
   ]
  },
  {
   "cell_type": "code",
   "execution_count": null,
   "metadata": {},
   "outputs": [],
   "source": [
    "x = 100\n",
    "y = 10\n",
    "\n",
    "if x > y: print('x ist größer als y')"
   ]
  },
  {
   "cell_type": "markdown",
   "metadata": {},
   "source": [
    "Du kannst in If-Statements bzw. Bedingungen auch rechnen und das Rechenergebnis als Bedingung setzen. In diesem Beispiel wird ein fiktives Produkt nur gekauft, wenn auf dem Konto (engl.: <b>deposit</b>) genug Geld vorhanden ist:"
   ]
  },
  {
   "cell_type": "code",
   "execution_count": null,
   "metadata": {},
   "outputs": [],
   "source": [
    "price = 50\n",
    "deposit = 100\n",
    "\n",
    "if deposit - price > 0:\n",
    "    print(\"Kauf das fiktive Produkt\")"
   ]
  },
  {
   "cell_type": "markdown",
   "metadata": {},
   "source": [
    "## 3.3.2 Vergleichsoperatoren\n",
    "\n",
    "Vergleichsoperatoren (engl.: comparison operators) vergleichen zwei Werte miteinander. Das Ergebnis des Vergleichs ist ein <b>Boolean</b>. Das bedeutet, das Ergebnis ist **entweder <font color = green>True</font> oder <font color = darkred>False</font>**. Ist es **<font color = green>True</font>, ist die Bedingung für das If-Statement erfüllt** und der nachfolgende, eingerückte Teil wird ausgeführt.  \n",
    "<br>\n",
    "\n",
    "### 3.3.2 ) Gleich\n",
    "\n",
    "Mit dem Vergleichsoperator ``==`` wird geprüft, ob der Wert bzw. der Wert der Variable links dem Wert bzw. dem Wert der Variable rechts gleicht.\n",
    "\n",
    "Beispiele:"
   ]
  },
  {
   "cell_type": "code",
   "execution_count": null,
   "metadata": {},
   "outputs": [],
   "source": [
    "'Hallo' == 'Hallo'"
   ]
  },
  {
   "cell_type": "code",
   "execution_count": null,
   "metadata": {},
   "outputs": [],
   "source": [
    "fruit_list1 = ['Apfel','Birne']\n",
    "fruit_list2 = ['Apfel','Birne']\n",
    "\n",
    "fruit_list1 == fruit_list2"
   ]
  },
  {
   "cell_type": "markdown",
   "metadata": {},
   "source": [
    "#### == im Vergleich mit is\n",
    "\n",
    "Im Zusammenhang mit Conditions können auch Identiy und Membership Operators eingesetzt werden (siehe \"3.2.12  in, not in, is, is not (Membership & Identity Operators)\").\n",
    "\n",
    "Du könntest Vergleiche auch mit ``is`` anstellen, doch erinnere dich an die genannte Einheit:  \n",
    "\n",
    "``is`` vergleicht nicht die Werte, sondern die Referenzen (Adressen im Speicher).  \n",
    "\n",
    "Beispiele:"
   ]
  },
  {
   "cell_type": "code",
   "execution_count": null,
   "metadata": {},
   "outputs": [],
   "source": [
    "'Hallo' is 'Hallo'"
   ]
  },
  {
   "cell_type": "code",
   "execution_count": null,
   "metadata": {},
   "outputs": [],
   "source": [
    "print(id('Hallo'))"
   ]
  },
  {
   "cell_type": "markdown",
   "metadata": {},
   "source": [
    "Da die Werte nicht in einer Variable abgespeichert sind, haben sie keine verschiedenen Referenzen. Deshalb gibt es nur eine Referenz des Wertes. Wird er verglichen, führt das zu einem True.  "
   ]
  },
  {
   "cell_type": "code",
   "execution_count": null,
   "metadata": {},
   "outputs": [],
   "source": [
    "fruit_list1 = ['Apfel','Birne']\n",
    "fruit_list2 = ['Apfel','Birne']\n",
    "\n",
    "fruit_list1 is fruit_list2"
   ]
  },
  {
   "cell_type": "markdown",
   "metadata": {},
   "source": [
    " Im oberen Beispiel findet auch kein Inhaltsvergleich statt, sondern ein Referenzvergleich der abgespeicherten Werte. ``is`` ist deshalb nur dann einzusetzen, wenn du überprüfen möchtest, ob zwei Objekte ein und dasselbe mit entsprechend gleichem Inhalt sind. In allen anderen Fällen verwende ``==``.\n",
    "\n",
    "### 3.3.2 b) Nicht gleich bzw. ungleich\n",
    "\n",
    "``!=`` überprüft darauf, ob etwas nicht dem anderen entspricht.  \n",
    "\n",
    "Beispiel:"
   ]
  },
  {
   "cell_type": "code",
   "execution_count": null,
   "metadata": {},
   "outputs": [],
   "source": [
    "choice = input('Was möchten Sie gern essen?')\n",
    "pizza_price = 6.5\n",
    "\n",
    "if choice != 'Pizza':\n",
    "    print(f'Sind Sie sicher? Wir machen die beste echte italienische Pizza!')"
   ]
  },
  {
   "cell_type": "markdown",
   "metadata": {},
   "source": [
    "Anstelle von ``!=`` könntest du auch ``is not`` einsetzen, doch auch für dieses gilt: Es vergleicht die Referenzen. Setze es für derartige Vergleiche nur ein, wenn du einzelne Werte vorliegen hast oder tatsächlich überprüfen möchtest, ob es sich um zwei gleiche Objekte handelt. Nützlich ist das, wenn du zwei Texte oder Zahlenreihen auf genau gleichen Inhalt mit ``is`` bzw. ungleichen Inhalt mit ``is not`` überprüfen möchtest.  \n",
    "\n",
    "### 3.3.2 c) Größer/kleiner als\n",
    "\n",
    "Mit ``>`` wird überprüft, ob der linke Teil größer als der rechte ist.  \n",
    "\n",
    "Mit ``<`` wird überprüft, ob der linke Teil kleiner als der rechte ist.  \n",
    "\n",
    "Beispiel:"
   ]
  },
  {
   "cell_type": "code",
   "execution_count": null,
   "metadata": {},
   "outputs": [],
   "source": [
    "pizza_price = 6.5\n",
    "spaghetti_price = 7\n",
    "\n",
    "if pizza_price < spaghetti_price:\n",
    "    print('Pizza ist billiger.')"
   ]
  },
  {
   "cell_type": "markdown",
   "metadata": {},
   "source": [
    "Wäre die Pizza teurer als die Spaghettis, würde das Print-Statement nicht ausgelöst werden. Genauso wenig würde es ausgelöst werden, wenn du den Vergleichsoperator durch ``>`` austauschst. Teste es!"
   ]
  },
  {
   "cell_type": "markdown",
   "metadata": {},
   "source": [
    "### 3.3.2 d) Größer gleich/kleiner gleich\n",
    "\n",
    "Mit ``<=`` wird überprüft, ob der linke Teil kleiner als der rechte ist oder ihm gleicht.  \n",
    "\n",
    "Mit ``>=`` wird überprüft, ob der linke Teil größer als der rechte ist oder ihm gleicht.  \n",
    "\n",
    "Beispiel:"
   ]
  },
  {
   "cell_type": "code",
   "execution_count": null,
   "metadata": {},
   "outputs": [],
   "source": [
    "pizza_price = 7\n",
    "spaghetti_price = 7\n",
    "\n",
    "if pizza_price <= spaghetti_price:\n",
    "    print('Pizza ist billiger oder kostet genauso viel wie Spaghettis.')"
   ]
  },
  {
   "cell_type": "markdown",
   "metadata": {},
   "source": [
    "### Übersicht zu den Vergleichsoperatoren:  \n",
    "<br>\n",
    "\n",
    "| Zeichen | <p align=\"left\">Vergleich | <p align=\"left\">Beispiel |\n",
    "|----------|-------|---------------|\n",
    "| <p align=\"left\">== | <p align=\"left\">Gleicht die linke Seite der rechten? | x == x => True |\n",
    "| <p align=\"left\">!= | <p align=\"left\">Gleicht die linke Seite nicht der rechten? | x != x => False |\n",
    "| <p align=\"left\">< | <p align=\"left\">Ist die linke Seite kleiner als die rechte? | 2 < 3 => True |\n",
    "| <p align=\"left\">> | <p align=\"left\">Ist die linke Seite größer als die rechte? | 2 > 3 => False |\n",
    "| <p align=\"left\"><= | <p align=\"left\">Ist die linke Seite kleiner als die rechte oder gleich der rechten? | 3 <= 3 => True |\n",
    "| <p align=\"left\">>= | <p align=\"left\">Ist die linke Seite kleiner als die rechte oder gleich der rechten? | 2 >= 3 => False |"
   ]
  },
  {
   "cell_type": "markdown",
   "metadata": {},
   "source": [
    " \n",
    "<br>\n",
    "<div class=\"alert alert-block alert-warning\">\n",
    "    <font size=\"3\"><b>Übung zu If:</b></font> Du möchtest eine Anwendung nur einem/r bestimmten UserIn zugänglich machen.  \n",
    "    \n",
    "Weise der Variable <b>first_name</b> einen beliebigen Vornamen zu. Lass anschließend den/die UserIn seinen/ihren Vornamen eingeben. Stimmt der eingegebene Vorname mit dem gestzten Vornamen überein, soll ein Output erfolgen.  \n",
    "<br>\n",
    "\n",
    "<b> Gewünschter Output:</b>    \n",
    "\n",
    "Hallo ``(gesetzter Vorname)``, willkommen in deinem Bereich.\n",
    "</div>"
   ]
  },
  {
   "cell_type": "code",
   "execution_count": null,
   "metadata": {},
   "outputs": [],
   "source": [
    "first_name = \n",
    "\n",
    "\n"
   ]
  },
  {
   "cell_type": "markdown",
   "metadata": {},
   "source": [
    "## 3.3.3 Flow-Charts\n",
    "\n",
    "<b>Flow-Charts</b> helfen dir, Programmabläufe zu visualisieren.  \n",
    "\n",
    "Betrachte das folgende Beispiel zu Ausgaben (engl.: <b>expenses</b>), Einnahmen (engl.: <b>revenues</b>) sowie einem If-Statement:"
   ]
  },
  {
   "cell_type": "code",
   "execution_count": null,
   "metadata": {},
   "outputs": [],
   "source": [
    "expenses = 4000\n",
    "revenues = 5000\n",
    "\n",
    "if expenses >= revenues:\n",
    "    print('Du hast keinen Gewinn erzielt')\n",
    "    \n",
    "print('Du hast einen Gewinn erzielt.')"
   ]
  },
  {
   "cell_type": "markdown",
   "metadata": {},
   "source": [
    "Weil in diesem Beispiel die <b>revenues</b> die <b>expenses</b> übersteigen, führt der Vergleich zu einem <font color = darkred>False</font> und das If-Statement wird nicht ausgeführt. Python überspringt das If-Statement und fährt mit der Ausführung des nachfolgenden Codes fort. Da der nachfolgende Code nicht eingerückt ist, ordnet Python diesen nicht dem If-Statement zu.  \n",
    "\n",
    "**Allgemeines Flow-Chart zu If:**\n",
    "\n",
    "<img src=\"files/If.jpg\">  \n",
    "\n",
    "Mit Flow-Charts, auch Flussdiagramme genannt, kannst du dir zum besseren Verständnis noch vor dem Coden Programmabläufe verdeutlichen. Man bezeichnet das auch als Abbildung des <b>Control-Flows</b> bzw. Programmablaufplan. **Kreise** werden dabei für **Start** und **Ende** des Programms verwendet. **Verzeigungen** werden mit einem **Rhombus**/einer **Raute** dargestellt und **Programminhalte** mit **Rechtecken**.  \n",
    "<br>\n",
    "<div class=\"alert alert-block alert-warning\">\n",
    "    <font size=\"3\"><b>Übung zum Control-Flow mit if:</b></font> Erstelle ein Programm anhand des folgenden Flow-Charts. Wichtig ist nicht der genaue Wortlaut der Ausgabe, sondern die prinzipielle Umsetzung der Vorgabe. Dieses Flow-Chart zeigt dir auch, dass <b>Inputs</b> mit einem <b>Parallelogramm</b> visualisiert werden.  \n",
    "<br>\n",
    "<img src=\"files/If-Age.jpg\">     \n",
    "</div>"
   ]
  },
  {
   "cell_type": "code",
   "execution_count": null,
   "metadata": {},
   "outputs": [],
   "source": []
  },
  {
   "cell_type": "markdown",
   "metadata": {},
   "source": [
    "<div class=\"alert alert-block alert-success\">\n",
    "<b>Fantastisch!</b> Mit diesem Wissen zu If-Statements, Vergleichsoperatoren und Flow-Charts hast du einen weiteren großen Schritt vollbracht.  \n",
    "    \n",
    "In der folgenden Einheit lernst du, wie du noch mehr Verzweigungen in deinen Code einbauen und damit dein Programm noch weitere verschiedene Wege laufen lassen kannst.\n",
    "</div>"
   ]
  },
  {
   "cell_type": "markdown",
   "metadata": {},
   "source": [
    "<div class=\"alert alert-block alert-info\">\n",
    "<h3>Das kannst du dir aus dieser Übung mitnehmen:</h3>\n",
    "\n",
    "* **If-Statements**\n",
    "    * beginnen mit ``if`` und enden mit ``:``\n",
    "    * dazwischen findet ein Vergleich mit boolschem Rückgabewert statt\n",
    "    * die boolschen Rückgabewerte sind das Resultat logischer Operatoren, wie Vergleichsoperatoren\n",
    "    * Syntax: <font color = green>if x \"logischer Operator bzw. Vergleichsoperator\" y:</font>\n",
    "    \n",
    "        * bei dem Ergebnis <font color = green>True</font> wird der nach ihnen eingerückte Codeblock ausgeführt\n",
    "        * bei dem Ergebnis <font color = darkred>False</font> wird der nach ihnen **nicht** eingerückte Codeblock ausgeführt  \n",
    "        * Einrückungen/Indentations erfolgen mit 4 Leerzeichen (Python-konform) oder einem Tabulator-Abstand\n",
    "    * alternative Syntax: <font color = green>if x \"logischer Operator bzw. Vergleichsoperator\" y: führ das aus</font>  \n",
    "<br>\n",
    "* **Vergleichsoperatoren**\n",
    "    * liefern einen boolschen Rückgabewert (True oder False)\n",
    "    * ``==``: prüft auf Gleichheit von Werten/Inhalten von Objekten\n",
    "    * ``!=``: prüft Ungleichheit von Werten/Inhalten von Objekten\n",
    "    * ``<``: prüft, ob der linke Wert kleiner als der rechte ist\n",
    "    * ``>``: prüft, ob der linke Wert größer als der rechte ist\n",
    "    * ``<=``: prüft, ob der linke Wert kleiner als der rechte ist oder gleich dem rechten\n",
    "    * ``>=``: prüft, ob der linke Wert größer als der rechte ist oder gleich dem rechten  \n",
    "<br>\n",
    "* **Flow-Charts**\n",
    "    * visualisieren den Ablauf eines Programms (<b>Control-Flow</b> oder Programmablaufplan)\n",
    "    * man nennt sie auch Flussdiagramme\n",
    "    * Kreise: Start und Ende/Stop des Programms\n",
    "    * Rhomben/Rauten: Verzweigungen\n",
    "    * Rechtecke: Programminhalte\n",
    "    * Parallelogramme: Inputs\n",
    "</div>"
   ]
  }
 ],
 "metadata": {
  "kernelspec": {
   "display_name": "Python 3",
   "language": "python",
   "name": "python3"
  },
  "language_info": {
   "codemirror_mode": {
    "name": "ipython",
    "version": 3
   },
   "file_extension": ".py",
   "mimetype": "text/x-python",
   "name": "python",
   "nbconvert_exporter": "python",
   "pygments_lexer": "ipython3",
   "version": "3.7.3"
  }
 },
 "nbformat": 4,
 "nbformat_minor": 2
}
