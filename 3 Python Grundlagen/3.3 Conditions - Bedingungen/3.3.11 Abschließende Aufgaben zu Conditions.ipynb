{
 "cells": [
  {
   "cell_type": "markdown",
   "metadata": {},
   "source": [
    "#  3.3 Conditions - Bedingungen\n",
    "\n",
    "## 3.3.11 Abschließende Aufgaben zu Conditions\n",
    "\n",
    "Die zu lösenden Aufgaben haben von 1. bis 5. einen ansteigenden Schwierigkeitsgrad. Weil sie sich in ihrer Herangehensweise nicht komplett unterscheiden, ist es empfohlen, sie in der Reihenfolge von 1. bis 5. zu lösen.  \n",
    "\n",
    "Die Bearbeitung der Aufgaben wird voraussichtlich mindestens 1 Stunde dauern. Teile dir die Bearbeitung also gegebenenfalls zeitlich auf."
   ]
  },
  {
   "cell_type": "markdown",
   "metadata": {},
   "source": [
    "<div class=\"alert alert-block alert-warning\">\n",
    "    <font size=\"3\"><b>1. Ist die Zahl ein Float?</b></font>\n",
    "\n",
    "Erinnere dich an die Einheit \"3.2.11-3.2.12 Boolsche Rückgabewerte\" bzw. auch an die anderen Einheiten zu String-Funktionen. In der erstgenannten Einheit haben wir genau über diese Fragestellung gesprochen. Deshalb sind die 5 untenstehenden Tipps nur kleine Denkanstöße.  \n",
    "<br>    \n",
    "**a)** Schreibe eine Abfrage, die ausgibt, ob eine eingegebene Zahl ein Float ist.  \n",
    "\n",
    "**b)** Wandle die Zahl in ein Float um, wenn sie ein Float ist.\n",
    "\n",
    "Du brauchst dafür verschiedene built-in Funktionen in Kombination.  \n",
    "\n",
    "Hinweis: Die Aufgabe kann auf verschiedenen Wegen gelöst werden. Wichtig ist das richtige Ergebnis.\n",
    "</div>"
   ]
  },
  {
   "cell_type": "code",
   "execution_count": null,
   "metadata": {},
   "outputs": [],
   "source": []
  },
  {
   "cell_type": "markdown",
   "metadata": {},
   "source": [
    "<div class=\"alert alert-block alert-warning\">\n",
    "    <font size=\"3\"><b>Tipp 1 zur Aufgabe:</b></font> Was qualifiziert eine Zahl dazu, ein Float zu sein?  \n",
    "</div>"
   ]
  },
  {
   "cell_type": "markdown",
   "metadata": {},
   "source": [
    "<div class=\"alert alert-block alert-warning\">\n",
    "    <font size=\"3\"><b>Tipp 2 zur Aufgabe:</b></font> Was enthält jedes Float in der englischen Schreibweise? Mit welcher Funktion kannst du testen, wie oft ein Zeichen in einem String enthalten ist?\n",
    "</div>"
   ]
  },
  {
   "cell_type": "markdown",
   "metadata": {},
   "source": [
    "<div class=\"alert alert-block alert-warning\">\n",
    "    <font size=\"3\"><b>Tipp 3 zur Aufgabe:</b></font> Woraus besteht ein Float noch?  \n",
    "    \n",
    "Aus Zahlen. Du musst den String also auch darauf testen.\n",
    "</div>"
   ]
  },
  {
   "cell_type": "markdown",
   "metadata": {},
   "source": [
    "<div class=\"alert alert-block alert-warning\">\n",
    "    <font size=\"3\"><b>Tipp 4 zur Aufgabe:</b></font> Wenn du den String auf Zahlen prüfst, vergiss nicht, dass die Funktion, die das prüft, keine anderen Zeichen mag. Du musst dieses Zeichen für den Test also loswerden oder durch \"nichts\" <b>ersetzen</b>.\n",
    "</div>"
   ]
  },
  {
   "cell_type": "markdown",
   "metadata": {},
   "source": [
    "<div class=\"alert alert-block alert-warning\">\n",
    "    <font size=\"3\"><b>Tipp 5 zur Aufgabe:</b></font> Wenn der String das enthält, was alle Floats genau 1x enthalten und er ohne dies nur aus Zahlen besteht, muss er ein Float sein.\n",
    "</div>"
   ]
  },
  {
   "cell_type": "markdown",
   "metadata": {},
   "source": [
    "<div class=\"alert alert-block alert-warning\">\n",
    "    <font size=\"3\"><b>2. Zu spät?!</b></font>  \n",
    "<br>\n",
    "\n",
    "Bevor du weiter nach unten scrollst: Für diese Aufgabe gibt es 7 Tipps. Hab trotzdem Vertrauen darin, das bereits Gelernte schon selbstständig anwenden zu können. Sieh sie dir nur an, wenn du gar nicht weiter weißt.    \n",
    "<br>\n",
    "\n",
    "    \n",
    "Wenn du die vorhergehende Einheit durchgegangen bist, kennst du diese Aufgabe schon. Teil a) hast du wahrscheinlich gelöst und kannst diesen einfach in die untere Code-Zelle kopieren. Löse nun noch Teil b)!\n",
    "\n",
    "Hast du die Aufgabe noch nicht gelöst, löse Teil a) und b), das ist auch auf einmal möglich:  \n",
    "\n",
    "Es ist unangenehm, aber wer ist nicht schon mal zu spät gekommen?  \n",
    "    \n",
    "**a)** Bestimme den Schweregrad deines Zuspätkommens zur Uni, indem du je nach Minutenanzahl in Bedingungen festlegst, ob du viel oder wenig von der Vorlesung verpasst hast. **So sollten sich die Outputs nach der Minutenanzahl richten:**  \n",
    "+ 0 Minuten: Du bist pünktlich  \n",
    "+ bis zu 15 Minuten: Du bist noch im akademischen Viertel  \n",
    "+ bis zu 30 Minuten: Noch zur ersten halben Stunde geschafft  \n",
    "+ bis zu 100 Minuten: Viel, aber nicht alles verpasst  \n",
    "+ bis zu 129 Minuten: Fast alles verpasst  \n",
    "+ 130 Minuten oder mehr: Alles verpasst  \n",
    "\n",
    "Erzeuge für die Minuten eine Zufallsinteger zwischen 0-200.  \n",
    "<br>\n",
    "\n",
    "**b)** Zusätzlich kann es passieren, dass der/die ProfessorIn nicht zur Vorlesung erscheint. Lege dafür eine Variable an. Die Variable soll eine Liste mit den Werten <b>True</b> und <b>False</b> enthalten. Aus dieser Liste soll einer der Werte mit <b>choice()</b> zufällig ausgewählt werden. **Ergänze deine Bedingungen um folgende:**  \n",
    "+ Der/die ProfessorIn kommt nicht und du bist pünktlich: Du hast dich umsonst beeilt  \n",
    "+ Der/die ProfessorIn kommt und du bist pünktlich: Du hast es geschafft  \n",
    "+ Der/die ProfessorIn kommt nicht und du bist zu spät: Du hast nichts verpasst, aber bist umsonst gekommen   \n",
    "\n",
    "Für diese Übung gibt es keine eindeutige Lösung. Wichtig ist, dass die Bedingungen richtig definiert werden. Lass dir die zufällig gewählten Werte ausgeben, um deine Definitionen zu überprüfen.\n",
    "</div>"
   ]
  },
  {
   "cell_type": "code",
   "execution_count": null,
   "metadata": {},
   "outputs": [],
   "source": []
  },
  {
   "cell_type": "markdown",
   "metadata": {},
   "source": [
    "<div class=\"alert alert-block alert-warning\">\n",
    "    <font size=\"3\"><b>Tipp 1 zur Aufgabe:</b></font> Zu Teil a): Schreib dir zuerst extra auf, von wann bis wann welche Bedingung laufen soll. Nutze gegebenenfalls <b>pass</b>, um Bedingen erst einmal nur zu definieren, bevor du sie mit Inhalt füllst.\n",
    "</div>"
   ]
  },
  {
   "cell_type": "markdown",
   "metadata": {},
   "source": [
    "<div class=\"alert alert-block alert-warning\">\n",
    "    <font size=\"3\"><b>Tipp 2 zur Aufgabe:</b></font> Zu Teil a): Halte dich an das Schema: \"if, elif1, elif2, elif3, ..., elifk, else\", um die Bedingungen zu strukturieren. Zeichne dir den Control-Flow auf, wenn du nicht weiter weißt.\n",
    "</div>"
   ]
  },
  {
   "cell_type": "markdown",
   "metadata": {},
   "source": [
    "<div class=\"alert alert-block alert-warning\">\n",
    "    <font size=\"3\"><b>Tipp 3 zur Aufgabe:</b></font> Zu Teil a): Probieren geht über Studieren! Lass dir immer \"unsichtbar\" generierte Werte ausgeben, damit du nicht ins Blaue hinein programmierst.  \n",
    "    \n",
    "Es kommt zu falschen Ausgaben wegen falsch gesetzter Bedingungen? Was soll's! Du kannst sie doch jederzeit überprüfen und korrigieren, wenn du dir nur die einzelnen Werte ausgeben lässt und die Bedingungen, die ungewollte Vorgänge auslösen, anpasst.  \n",
    "\n",
    "Probier herum und bleib am Ball, um den Dreh herauszubekommen.\n",
    "</div>"
   ]
  },
  {
   "cell_type": "markdown",
   "metadata": {},
   "source": [
    "<div class=\"alert alert-block alert-warning\">\n",
    "    <font size=\"3\"><b>Tipp 4 zur Aufgabe:</b></font> Zu Teil b): Auch hierfür gilt: Zeichne dir den Control-Flow auf, wenn du nicht weiter weißt.  \n",
    "\n",
    "Für den Ausgang jeder Bedingung spielt es eine Rolle, ob der/die Professorin nicht zur Vorlesung erschienen ist.\n",
    "</div>"
   ]
  },
  {
   "cell_type": "markdown",
   "metadata": {},
   "source": [
    "<div class=\"alert alert-block alert-warning\">\n",
    "    <font size=\"3\"><b>Tipp 5 zur Aufgabe:</b></font> Zu Teil b): Setze einen der dir bekannten logischen Operatoren ein, um zu verknüpfen, ob der/die ProfessorIn nicht erscheint und wie hoch Minutenanzahl deines Zuspätkommens ist. Je nach dem Ergebnis des Abgleichs der Werte trifft dann eine der oben genannten Bedingungen zu.\n",
    "</div>"
   ]
  },
  {
   "cell_type": "markdown",
   "metadata": {},
   "source": [
    "<div class=\"alert alert-block alert-warning\">\n",
    "    <font size=\"3\"><b>Tipp 6 zur Aufgabe:</b></font> Zu Teil b): Der/die Professorin darf für fast alle unter 1) genannten Bedingungen nicht nicht erschienen sein. \n",
    "</div>"
   ]
  },
  {
   "cell_type": "markdown",
   "metadata": {},
   "source": [
    "<div class=\"alert alert-block alert-warning\">\n",
    "    <font size=\"3\"><b>Tipp 7 zur Aufgabe:</b></font> Zu Teil b): Die unter b) genannten Bedingungen können teilweise in den unter a) genannten Bedingungen untergebracht werden. Zum Beispiel gab es unter a) den Fall, dass du pünktlich bist und unter b) gibt es diesen auch. Nur - jetzt gibt es für diesen Fall eine Unterscheidung in zwei Fälle - aha!\n",
    "</div>"
   ]
  },
  {
   "cell_type": "markdown",
   "metadata": {},
   "source": [
    "<div class=\"alert alert-block alert-warning\">\n",
    "    <font size=\"3\"><b>3. Boni für Kundenakquise</b> \n",
    "    \n",
    "Auch für diese Aufgabe gibt es Tipps. Schaffst du sie ohne?\n",
    "    \n",
    "Deine fleißigen Angestellten akquirieren am laufenden Band neue Kunden. Obwohl du dich um den Papierkram kümmern musst, kommen sie ständig zu dir, um dir von ihren an Land gezogenen Fischen zu erzählen. Du freust dich natürlich über die frohen Botschaften und möchtest ein automatisiertes Belohnungssystem für deine akquirierenden Angestellten einrichten.  \n",
    "\n",
    "Das System soll einen Bonus auf ein Bonuskonto transferieren, abhängig von der Anzahl der akquirierten Kunden. Es handelt sich um ein Punktesystem, durch welches die Angestellten zu gegebener Zeit angemessen entlohnt werden.  \n",
    "\n",
    "**Die Boni gemäß der Kundenanzahl sind wie folgt zu setzen:**\n",
    "+ 0 Kunden: Bonuskonto bleibt auf 0\n",
    "+ 1-9 Kunden: 50 Punkte  \n",
    "+ 10-19 Kunden: 100 Punkte\n",
    "+ 20-29: 150 Punkte\n",
    "+ 30 und mehr: 200 Punkte  \n",
    "\n",
    "Lass dir für die Kundenanzahl eine Zufallsinteger zwischen 0-40 generieren.  \n",
    "<br>\n",
    "\n",
    "\n",
    "**Gewünschte Ausgabe bei 1-40 akquirierten Kunden:**  \n",
    "\n",
    "Sie haben ``Zufallszahl`` Kunden aquiriert.Mit dem Bonus von <b><em>siehe Boni</em></b> steht Ihr Bonuskonto nun auf ``Anzeige Bonuskonto`` Punkten.  \n",
    "\n",
    "**Gewünschte Ausgabe bei 0 akquirierten Kunden:**  \n",
    "\n",
    "Sie haben <b><em>0</em></b> Kunden aquiriert. Ihr Bonuskonto bleibt auf ``Anzeige Bonuskonto`` stehen.  \n",
    "\n",
    "</div>"
   ]
  },
  {
   "cell_type": "code",
   "execution_count": null,
   "metadata": {},
   "outputs": [],
   "source": []
  },
  {
   "cell_type": "markdown",
   "metadata": {},
   "source": [
    "<div class=\"alert alert-block alert-warning\">\n",
    "    <font size=\"3\"><b>Tipp 1 zur Aufgabe:</b></font> Überleg dir, welche Variablen du für die Lösung der Aufgabe brauchst. Was müsste alles in je einer Variable gespeichert werden?\n",
    "</div>"
   ]
  },
  {
   "cell_type": "markdown",
   "metadata": {},
   "source": [
    "<div class=\"alert alert-block alert-warning\">\n",
    "    <font size=\"3\"><b>Tipp 2 zur Aufgabe:</b></font> Für die generierte Zufallsinteger brauchst du auf jeden Fall eine Variable, denn du willst sie ja wiederverwenden.  \n",
    "    \n",
    "Der anzuzeigende Kontostand wird auch immer wieder verwendet ...  \n",
    "<br>\n",
    "Auch für die Zahlenbereiche könntest du Variablen deklarieren, z.B für 10 Kunden, für 20 Kunden usw.\n",
    "</div>"
   ]
  },
  {
   "cell_type": "markdown",
   "metadata": {},
   "source": [
    "<div class=\"alert alert-block alert-warning\">\n",
    "    <font size=\"3\"><b>Tipp 3 zur Aufgabe:</b></font> Je nach Bedingung wird der Kontostand um eine gewisse Punktzahl erhöht (oder nicht).  \n",
    "    \n",
    "Die Rechnung ist also abhängig von der Bedingung, sie ist ihr untergeordnet&nbsp; ...\n",
    "</div>"
   ]
  },
  {
   "cell_type": "markdown",
   "metadata": {},
   "source": [
    "<div class=\"alert alert-block alert-warning\">\n",
    "    <font size=\"3\"><b>Tipp 4 zur Aufgabe:</b></font> Du kannst nicht mit einer Variable in den Bedingungen rechnen, ohne sie vorher mit Python bekannt gemacht zu haben.  \n",
    "\n",
    "Du musst sie also vor den Rechnungen initialisieren. Da du sie für alle Bedingungen brauchst, macht es Sinn, sie vor ihnen zu deklarieren und mit einem Startwert zu belegen.\n",
    "</div>"
   ]
  },
  {
   "cell_type": "markdown",
   "metadata": {},
   "source": [
    "<div class=\"alert alert-block alert-warning\">\n",
    "    <font size=\"3\"><b>Tipp 5 zur Aufgabe:</b></font> Die Ausgabe kannst du wieder mit F-Strings formatieren. Zuvor muss die Berechnung ausgeführt werden, die auf eine zuvor festgelegte Bedingung zutrifft.  \n",
    "    \n",
    "Überprüfe bei Indentation Errors den korrekten Abstand von vier Leerzeichen oder einem Tabulator, je nach Einrückungsstufe.\n",
    "</div>"
   ]
  },
  {
   "cell_type": "markdown",
   "metadata": {},
   "source": [
    "<div class=\"alert alert-block alert-warning\">\n",
    "    <font size=\"3\"><b>4. Kopfrechenratespiel</b></font>\n",
    "\n",
    "10 Tipps zur Lösung dieser Aufgabe gibt es weiter unten. Solltest du dir unsicher sein, bleib ruhig und bedenke, dass du das Wissen zur Lösung dieser Aufgabe bereits in dir trägst. Nutze die Tipps nur, wenn du trotz Zeichnen des Control-Flows und Ausprobierens nicht weiter kommst.  \n",
    "<br>    \n",
    "**Wie fit bist du im Kopfrechnen?**  \n",
    "\n",
    "Lege dir 2 Variablen für 2 Zufallsintegers zwischen 0 und 100 an.\n",
    "\n",
    "Lege dir eine Variable an, die aus den Operatoren \"+\" und \"-\" zufällig auswählt.\n",
    "\n",
    "Frag den/die UserIn nach der Lösung für die Rechnung mit den beiden Zufallszahlen und dem Operator.  \n",
    "<br>\n",
    "**Ist sie richtig oder falsch?**  \n",
    "Zeig das richtige Ergebnis bei einem \"Falsch\" an (lass es dir auch beim Bearbeiten der Aufgabe anzeigen).  \n",
    "\n",
    "Optional: Füge noch Multiplikation als zusätzliche Rechenart ein.\n",
    "</div>"
   ]
  },
  {
   "cell_type": "code",
   "execution_count": null,
   "metadata": {},
   "outputs": [],
   "source": []
  },
  {
   "cell_type": "markdown",
   "metadata": {},
   "source": [
    "<div class=\"alert alert-block alert-warning\">\n",
    "    <font size=\"3\"><b>Tipp 1 zur Aufgabe:</b></font> Du brauchst wieder die zwei dir bekannten Submodule des Moduls <b>random</b>.\n",
    "</div>"
   ]
  },
  {
   "cell_type": "markdown",
   "metadata": {},
   "source": [
    "<div class=\"alert alert-block alert-warning\">\n",
    "    <font size=\"3\"><b>Tipp 2 zur Aufgabe:</b></font> Vorausgesetzt, du hast dem Import der Module geschafft und die Variablen entsprechend der Vorgaben gesetzt (wenn nicht, sieh dir Beispiele aus vorhergehenden Kapiteln oder die Zusammenfassung ganz unten an): Überleg dir, für was du noch Variablen brauchst.  \n",
    "    \n",
    "Welche Werte werden mehrmals verwendet?\n",
    "</div>"
   ]
  },
  {
   "cell_type": "markdown",
   "metadata": {},
   "source": [
    "<div class=\"alert alert-block alert-warning\">\n",
    "    <font size=\"3\"><b>Tipp 3 zur Aufgabe:</b></font> Zum einen muss das Ergebnis der Rechnung von Python berechnet und abgespeichert werden, damit es mit der User-Eingabe abgeglichen werden kann. Du brauchst erst einmal lediglich die Variable, die Rechnung kommt später. \n",
    "    \n",
    "Zum anderen muss dann auch der User-Input abgespeichert sein, um einen Vergleich zu ermöglichen.\n",
    "</div>"
   ]
  },
  {
   "cell_type": "markdown",
   "metadata": {},
   "source": [
    "<div class=\"alert alert-block alert-warning\">\n",
    "    <font size=\"3\"><b>Tipp 4 zur Aufgabe:</b></font> Damit der User eine passende Antwort eingeben kann, muss ihm die Rechnung, inklusive Operator, präsentiert werden (am besten in F-Strings).  \n",
    "    \n",
    "Setze wie gewohnt die Variablen in den F-String ein.\n",
    "</div>"
   ]
  },
  {
   "cell_type": "markdown",
   "metadata": {},
   "source": [
    "<div class=\"alert alert-block alert-warning\">\n",
    "    <font size=\"3\"><b>Tipp 5 zur Aufgabe:</b></font> Okay, wir haben alle Variablen, nun kommen wir zur Rechnung:  \n",
    "    \n",
    "Wie bringst du Python dazu, mit einem String wie '+' zu rechnen?!  \n",
    "\n",
    "Gar nicht. Du brauchst diesen String nur für den Abgleich in einer Bedingung, die entscheidet, welche Rechnung ausgeführt werden soll.\n",
    "</div>"
   ]
  },
  {
   "cell_type": "markdown",
   "metadata": {},
   "source": [
    "<div class=\"alert alert-block alert-warning\">\n",
    "    <font size=\"3\"><b>Tipp 5 zur Aufgabe:</b></font> Ist der Operator ein '-', werden also die beiden Zufallszahlen voneinander subtrahiert.\n",
    "</div>"
   ]
  },
  {
   "cell_type": "markdown",
   "metadata": {},
   "source": [
    "<div class=\"alert alert-block alert-warning\">\n",
    "    <font size=\"3\"><b>Tipp 6 zur Aufgabe:</b></font> Dieser Punkt ist auch der Einsatzpunkt für die Variable, die die von Python errechneten Ergebnisse speichern soll.\n",
    "</div>"
   ]
  },
  {
   "cell_type": "markdown",
   "metadata": {},
   "source": [
    "<div class=\"alert alert-block alert-warning\">\n",
    "    <font size=\"3\"><b>Tipp 7 zur Aufgabe:</b></font> Vergiss nicht, dass User-Input grundsätzlich zum Datentyp String gehört. Damit kann Python nicht rechnen. Mit zu Integer konvertierten Strings schon (Integer bietet sich für diese Rechenarten an, es wird nie ein Float herauskommen).\n",
    "</div>"
   ]
  },
  {
   "cell_type": "markdown",
   "metadata": {},
   "source": [
    "<div class=\"alert alert-block alert-warning\">\n",
    "    <font size=\"3\"><b>Tipp 8 zur Aufgabe:</b></font> Da es nur zwei Rechenarten gibt, arbeite sie mit einem <b>if</b> und <b>else</b> ab. Damit hast du das richtige Ergebnis von Python gespeichert! Das musst du nur noch mit dem User-Input abgleichen, ob es richtig oder falsch ist.\n",
    "</div>"
   ]
  },
  {
   "cell_type": "markdown",
   "metadata": {},
   "source": [
    "<div class=\"alert alert-block alert-warning\">\n",
    "    <font size=\"3\"><b>Tipp 9 zur Aufgabe:</b></font> Für den Abgleich mit dem User-Input empfiehlt es sich, mit einem neuen If-Statement zu beginnen. \n",
    "    \n",
    "Würdest du alles in nested Abfragen packen, müsstest du für die Berechnungen doppelt abfragen, ob für sie der User-Input richtig oder falsch ist - und das wäre ineffizient.\n",
    "</div>"
   ]
  },
  {
   "cell_type": "markdown",
   "metadata": {},
   "source": [
    "<div class=\"alert alert-block alert-warning\">\n",
    "    <font size=\"3\"><b>Tipp 10 zur Aufgabe:</b></font> Auch der User-Input ist ein String.  \n",
    "    \n",
    "Und was passiert, wenn der User keine Zahl oder gar nichts eingibt? Funktioniert dein Kopfrechenquiz dann noch oder stürzt es mit einer Fehlermeldung ab?\n",
    "\n",
    "Überprüfe vor der Überprüfung des richtigen Ergebnisses, ob der eingebene String truthy und eine Zahl ist.  \n",
    "\n",
    "Erst dann lohnt sich auch die Konvertierung.\n",
    "</div>"
   ]
  },
  {
   "cell_type": "markdown",
   "metadata": {},
   "source": [
    "<div class=\"alert alert-block alert-warning\">\n",
    "    <font size=\"3\"><b>5. Umsatzrentabilität</b></font>\n",
    "\n",
    "Zu dieser Aufgabe gibt es 12 Tipps. Wenn du in kleinen Schritten an sie herangehst und nicht versuchst, alles auf einmal zu lösen, brauchst du sie wahrscheinlich nicht. Überleg dir Stück für Stück, was du für dein Programm brauchst und was in welcher Reihenfolge geschehen soll. Setze das schrittweise/aufgeteilt um.    \n",
    "<br>\n",
    "\n",
    "**Gib dem/der UserIn aus, bei welchem Wert die Umsatzrentabilität seines/ihres Unternehmens liegt - mit einer Beurteilung**  \n",
    "\n",
    "Die Umsatzrentabilität (= Umsatzrendite, engl.: return on sales) zeigt den wirtschaftlichen Erfolg eines Unternehmens an. Deine Kunden möchten diese gern automatisch ausgewertet bekommen.  \n",
    "\n",
    "* Die **Umsatzrentabilität** wird so errechnet: Jahresüberschuss / Gesamtumsatz * 100  \n",
    "    * diese Kennzahl gibt in Prozent an, wie viel Gewinn vom Umsatz übrig bleibt\n",
    "* Der Umsatz ist nicht der Gewinn, sondern das, was ohne erforderliche Abzüge wie Einkauf, Miete und Löhne übrig bleibt.\n",
    "* Der **Jahresüberschuss** (engl.: annual surplus) ist der Nettogewinn eines Unternehmens für ein Geschäftsjahr - zu zahlende Steuern sind in ihm nicht mehr enthalten. Er ist positiv, wenn die Erträge (engl.: yields) höher als die Ausgaben (engl.: expenses) sind.\n",
    "    * er wird folglich so berechnet: Erträge - Ausgaben\n",
    "\n",
    "* Der **Gesamtumsatz** (engl.: total sales) enthält die Erlöse aus dem Verkauf oder der Vermietung von Gütern, abzüglich der Umsatzsteuer und eventueller Rabatte.\n",
    "\n",
    "**a)** Lass den/die UserIn zuerst die Summe der Erträge und die Summe der Ausgaben eingeben, um seinen/ihren Jahresüberschuss zu berechnen. Die Eingaben beschränken sich zunächst auf Integers.  \n",
    "\n",
    "Der/die UserIn soll anschließend noch seinen/ihren Gesamtumsatz (als Integer) eingeben können.  \n",
    "\n",
    "Berechne die Umsatzrentabilität anhand der eingegebenen und berechneten Werte.  \n",
    "<br>\n",
    "**Die Beurteilung der Umsatzrentabilität richtet sich nach Folgendem:**  \n",
    "* Umsatzrentabilität < 5%: schlechtes Ergebnis\n",
    "* 5% ≤ Umsatzrentabilität < 10%: zufriedenstellendes Ergebnis\n",
    "* Umsatzrentabilität ≥ 10%: hervorragendes Ergebnis\n",
    "\n",
    "Gib dem/der UserIn das Ergebnis und die errechneten Zahlen aus.  \n",
    "<br>\n",
    "**Gewünschter Output:**  \n",
    "\n",
    "Ihr Jahresüberschuss liegt bei ``errechneter Jahresüberschuss`` €. Ihre Umsatzrentabilität beträgt ``errechnete Umsatzrentabilität`` %. Das ist ein <b><em>siehe Vorgabe</em></b> Ergebnis.  \n",
    "<br>\n",
    "Achte darauf, fehlerhafte User-Inputs abzufangen.  Auch darf der Gesamtumsatz nicht mit einer negativen Zahl eingegeben werden.  \n",
    "<br>\n",
    "**b)** Baue deine Lösung aus Aufgabe 1) ein, damit der/die UserIn neben Integers auch Floats für die Berechnungen eingeben kann.  \n",
    "<br>\n",
    "Empfehlung: Verwende englische Variablennamen, nicht nur, um Python-konform zu schreiben, sondern auch, um deine Lösung besser mit der angebotenen Lösung vergleichen zu können.\n",
    "</div>"
   ]
  },
  {
   "cell_type": "code",
   "execution_count": null,
   "metadata": {},
   "outputs": [],
   "source": []
  },
  {
   "cell_type": "markdown",
   "metadata": {},
   "source": [
    "<div class=\"alert alert-block alert-warning\">\n",
    "    <font size=\"3\"><b>Tipp 1 zur Aufgabe:</b></font> Überleg dir anhand der Fragestellung erst einmal, welche Werte  im Programm zu verarbeiten sind. Speichere diese in Variablen.\n",
    "</div>"
   ]
  },
  {
   "cell_type": "markdown",
   "metadata": {},
   "source": [
    "<div class=\"alert alert-block alert-warning\">\n",
    "    <font size=\"3\"><b>Tipp 2 zur Aufgabe:</b></font> Hast du einmal die benötigten Variablen festgelegt, kannst du dir das Flow-Chart zum Ablauf des Programms aufzeichnen.  "
   ]
  },
  {
   "cell_type": "markdown",
   "metadata": {},
   "source": [
    "<div class=\"alert alert-block alert-warning\">\n",
    "    <font size=\"4\"><b>Tipp 3 zur Aufgabe:</b></font> Auf jeden Fall müssen die User-Eingaben gespeichert werden.  \n",
    "    \n",
    " Da der Jahresüberschuss berechnet werden muss, sollte er auch in einer Variable gespeichert werden.  \n",
    " \n",
    " Und das, was für die Bewertung berechnet werden muss, sollte auch besser vorher schon \"festgehalten\" werden.\n",
    " </div>"
   ]
  },
  {
   "cell_type": "markdown",
   "metadata": {},
   "source": [
    "<div class=\"alert alert-block alert-warning\">\n",
    "    <font size=\"4\"><b>Tipp 4 zur Aufgabe:</b></font> Mit Buchstaben kann nicht gerechnet werden. Was muss mit dem User-Input geschehen?\n",
    "</div>"
   ]
  },
  {
   "cell_type": "markdown",
   "metadata": {},
   "source": [
    "<div class=\"alert alert-block alert-warning\">\n",
    "    <font size=\"4\"><b>Tipp 5 zur Aufgabe:</b></font> Weil mit Buchstaben nicht gerechnet werden kann, solltest du vor der Konvertierung checken, ob der/die UserIn etwas Sinnvolles eingegeben hat, das umgewandelt werden kann.\n",
    "</div>"
   ]
  },
  {
   "cell_type": "markdown",
   "metadata": {},
   "source": [
    "<div class=\"alert alert-block alert-warning\">\n",
    "    <font size=\"4\"><b>Tipp 6 zur Aufgabe:</b></font> In den Berechnungen kommt auch die Division vor. Achte also darauf, in was du die eingegebenen Zahlen konvertierst.\n",
    "</div>"
   ]
  },
  {
   "cell_type": "markdown",
   "metadata": {},
   "source": [
    "<div class=\"alert alert-block alert-warning\">\n",
    "    <font size=\"4\"><b>Tipp 7 zur Aufgabe:</b></font> Integers zeigen keine Nachkommastellen an. Bei der Konvertierung zum falschen numerischen Datentypen könnten also Ergebnisse verfälscht werden, wenn die Division Nachkommastellen erzeugt.\n",
    "</div>"
   ]
  },
  {
   "cell_type": "markdown",
   "metadata": {},
   "source": [
    "<div class=\"alert alert-block alert-warning\">\n",
    "    <font size=\"4\"><b>Tipp 8 zur Aufgabe:</b></font> Wenn es dir zu unübersichtlich erscheint, alles in einen verschachtelten If-Elif-Else-Block zu schreiben: Fang klein an. Führe die Überprüfung der Eingaben und die Berechnungen separat zu der Bewertung aus. Wenn diese funktionieren, kannst du später alles verschachtelt zusammenfügen.\n",
    "</div>"
   ]
  },
  {
   "cell_type": "markdown",
   "metadata": {},
   "source": [
    "<div class=\"alert alert-block alert-warning\">\n",
    "    <font size=\"4\"><b>Tipp 9 zur Aufgabe:</b></font> Die Überprüfung und Berechnung der User-Eingaben zu Einnahmen und Ausgaben <b>kannst</b> du in einem Block kombinieren (nicht zwingend). Denn bei beiden sollte eine Integer eingegeben werden (bei Teil a) der Aufgabe).\n",
    "</div>"
   ]
  },
  {
   "cell_type": "markdown",
   "metadata": {},
   "source": [
    "<div class=\"alert alert-block alert-warning\">\n",
    "    <font size=\"4\"><b>Tipp 10 zur Aufgabe:</b></font> Wenn die 3 einzelnen Abfragen funktionieren (Überprüfung der User-Inputs und Berechnungen auf deren Grundlage sowie die Bewertung), füge sie verschachtelt/nested zusammen.  \n",
    "    \n",
    "Denn: Da sie nicht voneinander abhängig sind, wird die Bewertung trotz fehlerhafter Eingaben trotzdem ausgeführt werden. Es wird also zu einer fehlerhaften Ausgabe kommen.  \n",
    "\n",
    "Achte auf die richtigen Einrückungsstufen. Nimm dir den Control-Flow zur Hand. Und teste und verbessere. So machen es auch  berufliche ProgrammschreiberInnen.\n",
    "</div>"
   ]
  },
  {
   "cell_type": "markdown",
   "metadata": {},
   "source": [
    "<div class=\"alert alert-block alert-warning\">\n",
    "    <font size=\"4\"><b>Tipp 11 zur Aufgabe:</b></font> Zu Teil b): Füge die Abfrage aus Aufgabe 1) mit der Verknüpfung durch einen logischen Operator ein.  \n",
    "    \n",
    "Welche Eingaben sind zum Rechnen erwünscht?\n",
    "\n",
    "Integers oder Floats.\n",
    "</div>"
   ]
  },
  {
   "cell_type": "markdown",
   "metadata": {},
   "source": [
    "<div class=\"alert alert-block alert-warning\">\n",
    "    <font size=\"4\"><b>Tipp 12 zur Aufgabe:</b></font> Solltest du trotzdem nicht auf die Lösung gekommen sein, sieh dir die Lösung zu diesem Kapitel an. Dort wird dir gezeigt, an der Reihenfolge der Tipps orientiert, wie du die einzelnen Code-Blöcke nach und nach zu einem funktionierenden großen zusammenbauen kannst.  \n",
    "    \n",
    "Wenn du schon vorher nicht mehr weiter wusstest, kannst du dir auch die erste (oder zweite, ..., je nachdem, wie weit du gekommen bist) vorgestellte Lösung kopieren und selbst versuchen, sie nach und nach zusammenzubauen.\n",
    "</div>"
   ]
  },
  {
   "cell_type": "markdown",
   "metadata": {},
   "source": [
    "<div class=\"alert alert-block alert-success\">\n",
    "    <b>Herzlichen Glückwunsch!</b> Mit der Bearbeitung der 5 Aufgaben hast du das Kapitel \"3.3 Conditions - Bedingungen\" abgeschlossen!  \n",
    "<br>\n",
    "    \n",
    "Damit bist du in der Lage, Programmcode nur ausführen zu lassen, wenn zuvor gesetzte Bedingungen erfüllt sind.  \n",
    "<br>\n",
    "    \n",
    "Falls du nicht alle Aufgaben lösen konntest, geh die Lösungen zu den vorhergehenden und diesem Kapitel durch. Das wird dir helfen.    \n",
    "<br>\n",
    "\n",
    " Im kommenden Kapitel kommen wir endlich ausführlich zu Pythons wichtigster Datenstruktur: List. Außerdem lernst du For-Loops kennen, mit denen du ein Programm so lange laufen lassen kannst, bis gewisse Bedingungen erfüllt sind (nicht nur für einmalige Eingaben und Wertübergaben). Mit For-Loops kannst du außerdem mehrere Einträge/Werte in Listen gleichzeitig bearbeiten.  \n",
    "<br>\n",
    "\n",
    "Wie immer ist zum Schluss das Wichtigste für dich zusammengefasst.\n",
    "</div>"
   ]
  },
  {
   "cell_type": "markdown",
   "metadata": {},
   "source": [
    "<div class=\"alert alert-block alert-info\">\n",
    "<h3>Das kannst du dir aus dieser Übung mitnehmen:</h3>\n",
    "\n",
    "* **If-Statements**\n",
    "    * beginnen mit ``if`` und enden mit ``:``\n",
    "    * dazwischen findet ein Vergleich mit boolschem Rückgabewert statt\n",
    "    * die boolschen Rückgabewerte sind das Resultat logischer Operatoren, wie Vergleichsoperatoren\n",
    "    * Syntax: <font color = green>if x \"logischer Operator bzw. Vergleichsoperator\" y:</font>\n",
    "    \n",
    "        * bei dem Ergebnis <font color = green>True</font> wird der nach ihnen eingerückte Codeblock ausgeführt\n",
    "        * bei dem Ergebnis <font color = darkred>False</font> wird der nach ihnen **nicht** eingerückte Codeblock ausgeführt  \n",
    "        * Einrückungen/Indentations erfolgen mit 4 Leerzeichen (Python-konform) oder einem Tabulator-Abstand\n",
    "    * alternative Syntax: <font color = green>if x \"logischer Operator bzw. Vergleichsoperator\" y: führ das aus</font>  \n",
    "<br>\n",
    "* **Nested If-Statements**\n",
    "    * dienen der Verknüpfung von voneinander abhängigen Bedingungen\n",
    "    * werden einen Indentation-Level weiter eingerückt: jeweils 4 Leerzeichen/einen Tabulator-Abstand weiter\n",
    "    * können zum Abfangen von falsy sowie unerwünschten Werten verwendet werden  \n",
    "<br>\n",
    "* **Elif**\n",
    "    * = sonst wenn\n",
    "    * folgt bei mehr als einer Bedingung **nicht eingerückt** dem If-Statement\n",
    "    * wird mit einer Bedingung verknüpft, Beispiel: ``elif x > y:``\n",
    "    * Syntax: <font color = green>elif \"Bedingung True\":</font>\n",
    "    * bei einem True auszuführender Code wird mit 4 Leerzeichen eingerückt  \n",
    "<br>\n",
    "* **Multiple Elifs**\n",
    "    * stehen immer **nach** ``if`` und **vor** ``else``\n",
    "    * werden gecheckt, wenn die Vorbedingungen **nicht** zutreffen\n",
    "    * ``if`` wird immer gecheckt\n",
    "    * Grundsatz: Bedingungen müssen sich gegenseitig ausschließen und sollten alle Möglichkeiten abdecken  \n",
    "<br>\n",
    "* **Else**\n",
    "    * = sonst, der Alternativweg zu ``if``\n",
    "    * folgt **nicht eingerückt** dem vorangegangenen If-Statement\n",
    "    * folgt bei zwei oder mehr als zwei Bedingungen mit ``if`` und ``elif`` dem Elif-Statement\n",
    "    * Syntax: <font color = green>else:</font>\n",
    "    * alternative Syntax: <font color = green>\"mach das\" <b>if</b> \"Bedingung True\" <b>else</b> \"mach das\"</font>\n",
    "    * der sonst (wenn das If-Statement False ist) auszuführende Code wird mit 4 Leerzeichen eingerückt  \n",
    "<br>\n",
    "* **Pass**\n",
    "    * mit ``pass`` können Bedingungen und Funktionen übersprungen werden\n",
    "    * zu platzieren korrekt eingerückt unterhalb der Bedingung/Funktion  \n",
    "<br>\n",
    "* **Vergleichsoperatoren**\n",
    "    * liefern einen boolschen Rückgabewert (True oder False)\n",
    "    * ``==``: prüft auf Gleichheit von Werten/Inhalten von Objekten\n",
    "    * ``!=``: prüft Ungleichheit von Werten/Inhalten von Objekten\n",
    "    * ``<``: prüft, ob der linke Wert kleiner als der rechte ist\n",
    "    * ``>``: prüft, ob der linke Wert größer als der rechte ist\n",
    "    * ``<=``: prüft, ob der linke Wert kleiner als der rechte ist oder gleich dem rechten\n",
    "    * ``>=``: prüft, ob der linke Wert größer als der rechte ist oder gleich dem rechten  \n",
    "<br>\n",
    "* **Flow-Charts**\n",
    "    * visualisieren den Ablauf eines Programms (<b>Control-Flow</b> oder Programmablaufplan)\n",
    "    * man nennt sie auch Flussdiagramme\n",
    "    * Kreise: Start und Ende/Stop des Programms\n",
    "    * Rhomben/Rauten: Verzweigungen\n",
    "    * Rechtecke: Programminhalte\n",
    "    * Parallelogramme: Inputs  \n",
    "<br>\n",
    "* **True und False versus truthy und falsy**\n",
    "    * Bedingungen können True oder False sein\n",
    "    * Werte, die zu einem True führen, sind truthy\n",
    "    * Werte, die zu einem False führen, sind falsy\n",
    "    * falsy Werte:\n",
    "        * die 0 jedes numerischen Datentyps: 0, 0.0, 0j\n",
    "        * ein leerer String: '&nbsp;' und \"&nbsp;\"\n",
    "        * die Konstanten False und None\n",
    "        * leere Collections, wie eine leere Liste: [&nbsp;]\n",
    "        * eine leere Sequenz: range(0)  \n",
    "<br>\n",
    "* **logische Operatoren**\n",
    "    * liefern ein True oder False\n",
    "    * **and:**\n",
    "        * verknüpft 2 Werte/2 Werte zweier Variablen/2 Bedingungen\n",
    "        * prüft ob **beide True** sind, z.B.: ``if x < 2 and x > 4:``\n",
    "    * **not:**\n",
    "        * prüft, ob eine Bedingung nicht zutrifft/ein Wert **nicht True** ist, z.B.: ``x = 0`` => ``x not True`` => Output: True\n",
    "        * kann eine zuvor gesetzte Beding komplett negieren, z.B.: ``if not (x < 2 and x > 4):``\n",
    "        * 2 nots heben sich auf, z.B.: ``not not True`` => Output: True\n",
    "    * **or:**\n",
    "        * verknüpft 2 Werte/2 Werte zweier Variablen/2 Bedingungen\n",
    "        * prüft ob **mindestens einer der Werte True** ist, z.B.: ``True or False`` => Output: True\n",
    "        * sind beide Werte True, ist das Ergebnis True, sind beide False, ist das Ergebnis False   \n",
    "<br>\n",
    "* **Modul random**\n",
    "    * enthält das Submodul <b>randint</b> zum Erzeugen zufälliger Integers\n",
    "        * Import über: ``from random import randint``\n",
    "        * Zuweisung der Zufallszahl zu einer Variable: ``random_int = randint(1,10)``\n",
    "        * der in Klammern angegebene Bereich ist inklusive beider Zahlen, wie im oberen Beispiel **inklusive** 1 bis **inklusive** 10\n",
    "    * enthält das Submodul <b>choice</b> zur zufälligen Auswahl eines Elements aus einer Liste\n",
    "        * Import über: ``from random import choice``\n",
    "        * über die Funktion ``choice()`` wird ein Listenelement ausgewählt\n",
    "        * Anwendung auf eine Liste: ``random_choice = choice(['A','B','C'])``\n",
    "    * import mehrerer Submodule eines Moduls, indem diese mit Komma getrennt werden, z.B.: ``from random import randint,choice``\n",
    "</div>"
   ]
  }
 ],
 "metadata": {
  "kernelspec": {
   "display_name": "Python 3",
   "language": "python",
   "name": "python3"
  },
  "language_info": {
   "codemirror_mode": {
    "name": "ipython",
    "version": 3
   },
   "file_extension": ".py",
   "mimetype": "text/x-python",
   "name": "python",
   "nbconvert_exporter": "python",
   "pygments_lexer": "ipython3",
   "version": "3.7.3"
  }
 },
 "nbformat": 4,
 "nbformat_minor": 2
}
