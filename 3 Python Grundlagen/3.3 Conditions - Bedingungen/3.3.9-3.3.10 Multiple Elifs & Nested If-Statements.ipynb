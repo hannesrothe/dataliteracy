{
 "cells": [
  {
   "cell_type": "markdown",
   "metadata": {},
   "source": [
    "#  3.3 Conditions - Bedingungen\n",
    "\n",
    "## 3.3.9-3.3.10 Multiple Elifs & Nested If-Statements\n",
    "\n",
    "Im Anschluss dieser Übungseinheit kannst du ...\n",
    "+ weitere Bedingungen mit mehreren Elifs definieren\n",
    "+ unterscheiden, wann du ``if`` und wann ``elif`` einsetzen solltest\n",
    "+ If-Statements verschachteln\n",
    "+ mit nested (= verschachtelten) If-Statements Fehler abfangen\n",
    "+ mehrere Submodule auf einmal importieren und einsetzen"
   ]
  },
  {
   "cell_type": "markdown",
   "metadata": {},
   "source": [
    "## 3.3.9 Multiple Elifs\n",
    "\n",
    "Bisher hast du If-Statements mit einem ``elif`` kennengelernt. Es ist auch möglich, If-Statements mit mehreren Elifs festzulegen. \n",
    "\n",
    "**Wichtig ist hierbei: Die einzelnen Bedingungen müssen sich untereinander ausschließen (dürfen sich nicht überschneiden) und sollten alle Möglichkeiten der Fragestellung abdecken.**  \n",
    "\n",
    "Beispiel:"
   ]
  },
  {
   "cell_type": "code",
   "execution_count": null,
   "metadata": {},
   "outputs": [],
   "source": [
    "from random import randint\n",
    "\n",
    "points = randint(1,50)\n",
    "\n",
    "print(f'Punkte: {points}')\n",
    "\n",
    "if points == 50:\n",
    "    print('Note 1 mit Sternchen')\n",
    "elif points >= 46 and points != 50:\n",
    "    print('Note 1')\n",
    "elif points < 46 and points >= 40:\n",
    "    print('Note 2')\n",
    "elif points < 40 and points >= 32:\n",
    "    print('Note 3')\n",
    "elif points < 32 and points >= 25:\n",
    "    print('Note 4')\n",
    "else:\n",
    "    print('Nicht bestanden')"
   ]
  },
  {
   "cell_type": "markdown",
   "metadata": {},
   "source": [
    "Das zuletzt gesetzte ``else`` könnte theoretisch auch durch eine Bedingung mit ``elif`` ersetzt werden. If-Statements brauchen nicht unbedingt ein ``else``. Allerdings ist es gut einsetzbar, um alle anderen Bedingungen abzudecken, die mit den Ifs und Elifs nicht aufgefangen werden.  \n",
    "\n",
    "Die dir bekannte Syntax bleibt bestehen: ``elif`` wird immer **nach** ``if`` und **vor** ``else`` platziert.  \n",
    "\n",
    "Theoretisch könntest du statt mehreren Elifs auch mehrere Ifs verwenden:"
   ]
  },
  {
   "cell_type": "code",
   "execution_count": null,
   "metadata": {},
   "outputs": [],
   "source": [
    "points = randint(1,50)\n",
    "\n",
    "print(f'Punkte: {points}')\n",
    "\n",
    "if points == 50:\n",
    "    print('Note 1 mit Sternchen')\n",
    "if points >= 46 and points != 50:\n",
    "    print('Note 1')\n",
    "if points < 46 and points >= 40:\n",
    "    print('Note 2')\n",
    "if points < 40 and points >= 32:\n",
    "    print('Note 3')\n",
    "if points < 32 and points >= 25:\n",
    "    print('Note 4')\n",
    "else:\n",
    "    print('Nicht bestanden')"
   ]
  },
  {
   "cell_type": "markdown",
   "metadata": {},
   "source": [
    "**Findest du den Fehler, den dieser Aufbau verursacht?**\n",
    "\n",
    "Wenn du ihn findest, hast du zugleich den wesentlichen Unterschied zwischen ``if`` und ``elif`` gefunden.  \n",
    "\n",
    "Ein <b>If</b> steht immer an erster Stelle. Mit ihm wird die erste, entscheidende Bedingung definiert. **Es wird immer gecheckt**.\n",
    "\n",
    "<b>Elif</b> bedeutet \"else if\" bzw. \"**ansonsten** wenn\". **Es wird nur dann gecheckt, wenn die Vorbedingungen (mit If und/oder anderen Elifs definiert) nicht zutreffen.**\n",
    "\n",
    "**Folglich wird jedes If-Statement gecheckt, aber nicht jedes Elif-Statement. Das gilt für If-Statements auf gleicher Einrückungsstufe bzw. gleichem Indentation-Level.**\n",
    "\n",
    "Weil das letzte If-Statement nicht zutrifft, kommt es zur Ausgabe des Else-Blocks, was falsch ist.\n",
    "\n",
    "<div class=\"alert alert-block alert-info\">\n",
    "    <font size=\"3\"><b>Tipp:</b></font> Setze <b>elif</b> ein, um Abhängigkeiten zwischen Bedingungen herzustellen.\n",
    "</div>\n",
    "<br>\n",
    "\n",
    "\n",
    "<div class=\"alert alert-block alert-warning\">\n",
    "    <font size=\"3\"><b>Übung zu multiplen Elifs:</b></font> Es ist unangenehm, aber wer ist nicht schon mal zu spät gekommen?  \n",
    "    \n",
    "Bestimme den Schweregrad deines Zuspätkommens zur Uni, indem du je nach Minutenanzahl in Bedingungen festlegst, ob du viel oder wenig von der Vorlesung verpasst hast. **So sollten sich die Outputs nach der Minutenanzahl richten:**  \n",
    "+ 0 Minuten: Du bist pünktlich  \n",
    "+ bis zu 15 Minuten: Du bist noch im akademischen Viertel  \n",
    "+ bis zu 30 Minuten: Noch zur ersten halben Stunde geschafft  \n",
    "+ bis zu 100 Minuten: Viel, aber nicht alles verpasst  \n",
    "+ bis zu 129 Minuten: Fast alles verpasst  \n",
    "+ 130 Minuten oder mehr: Alles verpasst  \n",
    "\n",
    "Erzeuge für die Minuten eine Zufallsinteger zwischen 0-200.  \n",
    "\n",
    "Für diese Übung gibt es keine eindeutige Lösung. Wichtig ist, dass die Bedingungen richtig definiert werden. Lass dir den zufällig erzeugten Wert ausgeben, um deine Definitionen zu überprüfen.  \n",
    "</div>"
   ]
  },
  {
   "cell_type": "code",
   "execution_count": null,
   "metadata": {},
   "outputs": [],
   "source": [
    "\n",
    "\n",
    "\n"
   ]
  },
  {
   "cell_type": "markdown",
   "metadata": {},
   "source": [
    "## 3.3.10 Verschachtelte/nested If-Statements\n",
    "\n",
    "Du kannst nicht nur mehrere Elifs verwenden, sondern auch mehrere Ifs. Allerdings ist das am Sinnvollsten, wenn diese verschachtelt (engl.: nested) sind. \"Nested\" bedeutet, dass sie anderen Statements untergeordnet sein müssen - und zwar mittels Indentation.  \n",
    "\n",
    "Das hat den Vorteil, dass du somit an eine Bedingung noch eine weitere knüpfen kannst. Zum Beispiel: \"**Wenn** ich ein Guthaben von mindestens 10 € auf meiner Mensa-Karte habe und **wenn** ich dann Hunger haben sollte,  will ich das teuerste Mensa-Angebot nehmen.\"  \n",
    "\n",
    "Du könntest sogar noch die Bedingung anknüpfen: \"Und **wenn** dann auch noch das teuerste Mensa-Angebot lecker klingt.\"  \n",
    "\n",
    "### Beispiel 1\n",
    "\n",
    "Eine Zufallszahl soll darauf gecheckt werden, ob sie positiv oder negativ ist. **Wenn** sie negativ ist, soll ein Output erfolgen und **wenn** sie zusätzlich durch 5 teilbar ist, ein weiterer:"
   ]
  },
  {
   "cell_type": "code",
   "execution_count": null,
   "metadata": {},
   "outputs": [],
   "source": [
    "from random import randint\n",
    "\n",
    "number = randint(-10,10)\n",
    "\n",
    "print(f'Zahl: {number}')\n",
    "\n",
    "if number < 0:\n",
    "    print('Die Zahl ist negativ')\n",
    "    if number % 5 == 0:\n",
    "        print('Außerdem ist sie durch 5 teilbar')\n",
    "else:\n",
    "    if number != 0:\n",
    "        print('Die Zahl ist positiv')"
   ]
  },
  {
   "cell_type": "markdown",
   "metadata": {},
   "source": [
    "Es wird zuerst gecheckt, ob die Zufallsinteger kleiner 0 ist. **Wenn** sie es ist, erfolgt ein Output und es wird weiterhin gecheckt, ob sie durch 5 teilbar ist. **Wenn** sie es ist, erfolgt ein zweiter Output. Der zweite Output erfolgt aber nur, wenn **beide** genannten **Bedingungen zutreffen** - er ist **von beiden abhängig**.  \n",
    "\n",
    "Im Else-Block wird dann nur noch gecheckt, ob die Zahl ungleich null ist. Ist sie es, erfolgt ein Output.  \n",
    "\n",
    "<div class=\"alert alert-block alert-info\">\n",
    "<font size=\"3\"><b>Tipp:</b></font> Pro Indentation-Level bzw. pro Stufe der Unterordnung unter vorhergehenden Bedingungen beträgt die Indentation 4 Leerzeichen oder einen Tabulatorabstand.  \n",
    "    \n",
    "Für eine zweifache Unterordnung sind also 8 Leerzeichen bzw. 2 Tabulator-Abstände zu setzen.\n",
    "</div>\n",
    "<br>\n",
    "\n",
    "Wie du siehst, können also auch im Else-Block weitere Bedingungen untergebracht werden. Das obere Beispiel kann noch durch ein letztes Else verfeinert werden, um den Spezialfall \"0\" zu behandeln:"
   ]
  },
  {
   "cell_type": "code",
   "execution_count": null,
   "metadata": {},
   "outputs": [],
   "source": [
    "number = randint(-10,10)\n",
    "\n",
    "print(f'Zahl: {number}')\n",
    "\n",
    "if number < 0:\n",
    "    print('Die Zahl ist negativ')\n",
    "    if number % 5 == 0:\n",
    "        print('Außerdem ist sie durch 5 teilbar')\n",
    "else:\n",
    "    if number != 0:\n",
    "        print('Die Zahl ist positiv')\n",
    "    else:\n",
    "        print('0 ist je nach Definition positiv und/oder negativ oder keines von beiden.')"
   ]
  },
  {
   "cell_type": "markdown",
   "metadata": {},
   "source": [
    "#### Control-Flow zum oberen Beispiel:\n",
    "\n",
    "<img src=\"Nested If Example1.jpg\">  \n",
    "\n",
    "Das obere Beispiel könnte auch anders geschrieben werden."
   ]
  },
  {
   "cell_type": "code",
   "execution_count": null,
   "metadata": {},
   "outputs": [],
   "source": [
    "# gleiches Beispiel von oben\n",
    "\n",
    "number = randint(-10,10)\n",
    "\n",
    "print(f'Zahl: {number}')\n",
    "\n",
    "if number < 0:\n",
    "    print('Die Zahl ist negativ')\n",
    "    if number % 5 == 0:\n",
    "        print('Außerdem ist sie durch 5 teilbar')\n",
    "else:\n",
    "    if number != 0:\n",
    "        print('Die Zahl ist positiv')\n",
    "    else:\n",
    "        print('0 ist je nach Definition positiv und/oder negativ oder keines von beiden.')"
   ]
  },
  {
   "cell_type": "code",
   "execution_count": null,
   "metadata": {},
   "outputs": [],
   "source": [
    "# falsch umgeschrieben, ohne Verschachtelung\n",
    "\n",
    "number = randint(-10,10)\n",
    "\n",
    "print(f'Zahl: {number}')\n",
    "\n",
    "if number < 0 and number % 5 == 0:\n",
    "    print('Die Zahl ist negativ und durch 5 teilbar')\n",
    "elif number > 0:\n",
    "    print('Die Zahl ist positiv')\n",
    "else:\n",
    "    print('0 ist je nach Definition positiv und/oder negativ oder keines von beiden.')"
   ]
  },
  {
   "cell_type": "markdown",
   "metadata": {},
   "source": [
    "**Findest du die Fehler, wenn du dieses Beispiel testest?** \n",
    "\n",
    "Es wird für den ersten Output nicht mehr unterschieden, ob eine Zahl negativ ist und zusätzlich durch 5 teilbar, denn beide Bedingungen sind durch ``and`` verknüpft.  \n",
    "Weil durch die If-Bedingung nur die negativen und gleichzeitig durch 5 teilbaren Zahlen aufgefangen werden, rutschen die übrig gebliebenen negativen Zahlen in das Else-Statement, das eigentlich nur für die Zahl 0 gedacht ist.  \n",
    "\n",
    "In dem folgenden Beispiel wurden die restlichen negativen Zahlen durch eine Verschachtelung in ``else`` aufgefangen und der Spezialfall \"0\" behandelt:"
   ]
  },
  {
   "cell_type": "code",
   "execution_count": null,
   "metadata": {},
   "outputs": [],
   "source": [
    "number = randint(-10,10)\n",
    "\n",
    "print(f'Zahl: {number}')\n",
    "\n",
    "if number < 0 and number % 5 == 0:\n",
    "    print('Die Zahl ist negativ und durch 5 teilbar')\n",
    "elif number > 0:\n",
    "    print('Die Zahl ist positiv')\n",
    "else:\n",
    "    if number < 0:\n",
    "        print('Die Zahl ist negativ')\n",
    "    else:\n",
    "        print('0 ist je nach Definition positiv und/oder negativ oder keines von beiden.')"
   ]
  },
  {
   "cell_type": "markdown",
   "metadata": {},
   "source": [
    "Auch die obere Lösung und die zuerst vorgestellte sind nicht die einzigen. Eine weitere Verschachtelung hätte statt in ``else`` auch in ``elif`` stattfinden können, wenn ``elif`` nicht die positiven Zahlen auffangen würde:"
   ]
  },
  {
   "cell_type": "code",
   "execution_count": null,
   "metadata": {},
   "outputs": [],
   "source": [
    "number = randint(-10,10)\n",
    "\n",
    "print(f'Zahl: {number}')\n",
    "\n",
    "if number < 0 and number % 5 == 0:\n",
    "    print('Die Zahl ist negativ und durch 5 teilbar')\n",
    "elif number <= 0:\n",
    "    if number == 0:\n",
    "        print('0 ist je nach Definition positiv und/oder negativ oder keines von beiden.')\n",
    "    else: \n",
    "        print('Die Zahl ist negativ')\n",
    "else:\n",
    "    print('Die Zahl ist positiv')"
   ]
  },
  {
   "cell_type": "markdown",
   "metadata": {},
   "source": [
    "Es gibt auch noch weitere Varianten.  \n",
    "\n",
    "<div class=\"alert alert-block alert-info\">\n",
    "<font size=\"3\"><b>Tipp:</b></font> Wichtig ist, wie in den Übungen zum Kapitel \"Conditions - Bedingungen\", dass die Bedingungen sich nicht überschneiden und alle Möglichkeiten abdecken. Verschiedene Varianten sind richtig, wenn nur dieses Grundprinzip eingehalten wird.  \n",
    "\n",
    "Bei richtigen Varianten spielt es nur noch eine Rolle, wie effizient sie sind. Wenn mehrere Bedingungen durch eine einzige abgedeckt werden könnten, wäre das ineffizient. Wenn du zum Beispiel in einer Fragestellung ausschließlich alle Altersgruppen ab 18 Jahren abdecken willst, wäre es Quatsch, diese noch nach \"über 20\", \"über 30\" usw. zu unterscheiden.\n",
    "</div>\n",
    "<br>\n",
    "\n",
    "Man kann die Fragestellung auch nicht verschachtelt umsetzen:"
   ]
  },
  {
   "cell_type": "code",
   "execution_count": null,
   "metadata": {},
   "outputs": [],
   "source": [
    "number = randint(-10,10)\n",
    "\n",
    "print(f'Zahl: {number}')\n",
    "\n",
    "if number < 0 and number % 5 == 0:\n",
    "    print('Die Zahl ist negativ und durch 5 teilbar')\n",
    "elif number > 0:\n",
    "    print('Die Zahl ist positiv')\n",
    "elif number < 0:\n",
    "    print('Die Zahl ist negativ')\n",
    "else:\n",
    "    print('0 ist je nach Definition positiv und/oder negativ oder keines von beiden.')"
   ]
  },
  {
   "cell_type": "markdown",
   "metadata": {},
   "source": [
    "**Erkennst du den Vorteil, den das zuerst vorgestellte Beispiel gegenüber allen anderen richtigen Varianten hat, auch der nicht verschachtelten?**\n",
    "\n",
    "Die Überprüfung, ob eine Zahl negativ bzw. kleiner 0 ist, musste im ersten Beispiel nur einmal durchgeführt werden, weil die \"durch 5 teilbar\"-Bedingung abhängig daran verknüpft ist! Das erste Beispiel ist deshalb am besten lesbar.  "
   ]
  },
  {
   "cell_type": "code",
   "execution_count": null,
   "metadata": {},
   "outputs": [],
   "source": [
    "# das zuerst vorgestellte Beispiel\n",
    "\n",
    "number = randint(-10,10)\n",
    "\n",
    "print(f'Zahl: {number}')\n",
    "\n",
    "if number < 0:\n",
    "    print('Die Zahl ist negativ')\n",
    "    if number % 5 == 0:\n",
    "        print('Außerdem ist sie durch 5 teilbar')\n",
    "else:\n",
    "    if number != 0:\n",
    "        print('Die Zahl ist positiv')\n",
    "    else:\n",
    "        print('0 ist je nach Definition positiv und/oder negativ oder keines von beiden.')"
   ]
  },
  {
   "cell_type": "markdown",
   "metadata": {},
   "source": [
    "<div class=\"alert alert-block alert-warning\">\n",
    "    <font size=\"3\"><b>Übung zu nested If-Statements:</b></font> Die neuen Zahlen deiner Firma liegen vor. Was wirst du unternehmen?  \n",
    "    \n",
    "Deine Ausgaben schwanken von 10000 bis 30000 Euro. Lege hierfür eine Variable an, die Zufallsintegers in diesem Bereich zugewiesen bekommt.  \n",
    "\n",
    "Deine Gewinne schwanken von 0 bis 50000 Euro. Lege hierfür auch eine Variable an, die Zufallsintegers in diesem Bereich speichert.  \n",
    "\n",
    "Brauchst du einen neuen Mitarbeiter? Lege eine Variable an und weise ihr die Funktion <b>choice()</b> zu, die eine Liste, bestehend aus den Werten True und False, enthält. Sieh dir im vorherigen Kapitel die Übung zu <b>or</b> an, wenn du nicht mehr weißt, wie man schreibt.\n",
    "\n",
    "Um zu entscheiden, wie du dich verhältst, muss das Ergebnis von Einnahmen und Ausgaben berechnet werden. Weil du es für die folgenden Bedingungen mehrmals brauchst, berechne es einmalig und nicht in jeder Bedingung erneut. Speichere das Ergebnis in einer Variable ab.  \n",
    "\n",
    "Lass dir die Zufallswerte ausgeben, um die Richtigkeit deiner gestellten Bedingungen zu überprüfen. Auch die Resultate der Bedingungen sind auszugeben.  \n",
    "<br>\n",
    "\n",
    "**Ob du etwas unternimmst und was genau, hängt von folgenden Bedingungen ab:**\n",
    "* das Ergebnis ist 0:\n",
    "    * du stehst bei 0\n",
    "* das Ergebnis liegt unter 0: \n",
    "    * du hast einen Verlust gemacht\n",
    "    * liegt es bei unter 20000:\n",
    "        * musst du einen Kredit aufnehmen\n",
    "* das Ergebnis liegt über 0: \n",
    "    * du hast einen Gewinn gemacht\n",
    "    * liegt er bei über 10000:\n",
    "        * kannst du eine neue Marketingkampagne starten\n",
    "    * liegt er bei über 20000 und wenn ein neuer Mitarbeiter gebraucht wird:\n",
    "        * stellst du auch noch jemanden ein\n",
    "    * wenn bei einem Gewinn von über 20000 kein neuer Mitarbeiter gebraucht wird:\n",
    "        * gibst du auch noch eine Firmenfeier  \n",
    "\n",
    "**Der vorgegebene Import zeigt dir, wie du 2 (oder mehr) Submodule auf einmal importieren kannst, indem du sie mit einem Komma trennst.**  \n",
    "</div>"
   ]
  },
  {
   "cell_type": "code",
   "execution_count": null,
   "metadata": {},
   "outputs": [],
   "source": [
    "from random import randint,choice\n"
   ]
  },
  {
   "cell_type": "markdown",
   "metadata": {},
   "source": [
    "### Beispiel 2 zu nested If-Statements\n",
    "\n",
    "**Nested If-Statements können verwendet werden, um Fehler abzufangen**\n",
    "\n",
    "Erinnere dich an falsy Werte. Liegt ein falsy Wert bei einer User-Eingabe oder anderweitigen Wertübergabe vor, kann er durch Verschachtelung abgefangen werden.  \n",
    "\n",
    "Beispiel ohne Abfangen des falsy Werts <b>leerer String</b> (wenn nur Enter gedrückt wird):"
   ]
  },
  {
   "cell_type": "code",
   "execution_count": null,
   "metadata": {},
   "outputs": [],
   "source": [
    "age = int(input('Gib bitte dein Alter ein: \\n'))\n",
    "\n",
    "\n",
    "if age >= 18:\n",
    "    print(f'Du bist zum Kauf berechtigt.')\n",
    "else:\n",
    "    print('Du bist nicht zum Kauf berechtigt.')"
   ]
  },
  {
   "cell_type": "markdown",
   "metadata": {},
   "source": [
    "Gibt in diesem Beispiel ein/e UserIn nichts ein, kommt es zu einem <font color = darkred>Value Error</font>. Python kann einen leeren String nicht zu einem Integer casten.  \n",
    "\n",
    "Auch, wenn dieses Beispiel einen String statt eines Integers behandeln würde, käme es bei der Eingabe eines leeren Strings zur fehlerhaften Ausführung des Else-Blocks. Denn wenn ``if`` eine konkrete Eingabe behandelt, bleibt für ``else`` automatisch alles andere übrig.  \n",
    "\n",
    "Das nächste Beispiel zeigt das Abfangen des falsy Werts, indem im ersten If-Statement gecheckt wird, ob <b>age</b> überhaupt truthy ist. Der Rest ist einen Indentation-Level weiter eingerückt:"
   ]
  },
  {
   "cell_type": "code",
   "execution_count": null,
   "metadata": {},
   "outputs": [],
   "source": [
    "age = int(input('Gib bitte dein Alter ein: \\n'))\n",
    "\n",
    "if age:\n",
    "    if age >= 18:\n",
    "        print(f'Du bist zum Kauf berechtigt.')\n",
    "    else:\n",
    "        print('Du bist nicht zum Kauf berechtigt.')\n",
    "else:\n",
    "    print(f'Gib bitte eine Zahl ein')"
   ]
  },
  {
   "cell_type": "markdown",
   "metadata": {},
   "source": [
    "**Warum gibt das immer noch einen Value Error?**\n",
    "\n",
    "Das Problem von vorhin bleibt bestehen. Python kann einen leeren String nicht zu Integer casten. Deshalb ist es clever, die Konvertierung erst durchzuführen, wenn der Wert positiv auf truthy getestet wurde:"
   ]
  },
  {
   "cell_type": "code",
   "execution_count": null,
   "metadata": {},
   "outputs": [],
   "source": [
    "age = input('Gib bitte dein Alter ein: \\n')\n",
    "\n",
    "if age:\n",
    "    age = int(age)\n",
    "    if age >= 18:\n",
    "        print(f'Du bist zum Kauf berechtigt.')\n",
    "    else:\n",
    "        print('Du bist nicht zum Kauf berechtigt.')\n",
    "else:\n",
    "    print(f'Gib bitte eine ganze Zahl ein')"
   ]
  },
  {
   "cell_type": "markdown",
   "metadata": {},
   "source": [
    "Das klappt! Nun haben wir leere Strings (keine Eingabe) abgefangen. Doch was ist, wenn der/die Userin etwas anderes als eine ganze Zahl eingibt?  \n",
    "\n",
    "Auch dafür gibt es eine Lösung, die du sogar schon kennst:  \n",
    "\n",
    "Wir checken die User-Eingabe mit der Funktion ``isdigit()``. Diese Funktion checkt, ob ein Wert nur aus Zahlen besteht:"
   ]
  },
  {
   "cell_type": "code",
   "execution_count": null,
   "metadata": {},
   "outputs": [],
   "source": [
    "age = input('Gib bitte dein Alter ein: \\n')\n",
    "\n",
    "if age and age.isdigit():\n",
    "    age = int(age)\n",
    "    if age >= 18:\n",
    "        print(f'Du bist zum Kauf berechtigt.')\n",
    "    else:\n",
    "        print('Du bist nicht zum Kauf berechtigt.')\n",
    "else:\n",
    "    print(f'Gib bitte eine ganze Zahl ein')"
   ]
  },
  {
   "cell_type": "markdown",
   "metadata": {},
   "source": [
    "Äquivalent zu dieser Lösung kannst du auch alle anderen Funktionen mit boolschen Rückgabewerten zur Überprüfung von Werten einsetzen.  \n",
    "\n",
    "<div class=\"alert alert-block alert-info\">\n",
    "<font size=\"3\"><b>Tipp:</b></font> Du kannst den/die UserIn auch vor der Eingabe dazu anhalten, nur bestimmte Zeichen einzugeben. Doch kannst du dich darauf verlassen, dass jeder deine Anweisungen liest?  \n",
    "\n",
    "Programme sollten nicht wegen unlesbarer Werte abstürzen, ob sie von UserInnen kommen oder anderweitig während des Programmablaufs generiert worden sind. Deshalb ist es wichtig, solche Werte abzufangen. Vorsicht ist gut, Kontrolle ist besser, zumindest beim Programmieren.\n",
    "</div>  \n",
    "<br>\n",
    "<div class=\"alert alert-block alert-warning\">\n",
    "    <font size=\"3\"><b>Übung zum Fehlerabfangen mit nested If-Statements:</b></font> Das untere Beispiel kennst du bereits.  \n",
    "    \n",
    "Schreibe es um, sodass keine Fehler auftreten können, wenn nichts eingeben wird oder etwas anderes als Buchstaben. Die Funktion dafür wurde dir im Kapitel zu boolschen Rückgabewerten vorgestellt. \n",
    "\n",
    "Was ist, wenn der/die UserIn etwas anderes als Spaghetti eingibt? Dann wird auch dafür der Else-Block ausgelöst. Finde ebenso eine Lösung dafür.  \n",
    "<br>\n",
    "\n",
    "\n",
    "**Gewünschte Ausgabe bei keiner Eingabe bzw. Eingabe, die nicht aus Buchstaben besteht:**  \n",
    "\n",
    "Gib bitte entweder \"Pizza\" oder \"Spaghetti\" ein.  \n",
    "\n",
    "**Gewünschte Ausgabe bei einer Eingabe, die nicht \"Pizza\" oder \"Spaghetti\" ist:**  \n",
    "\n",
    "Das haben wir leider nicht, nur \"Pizza\" oder \"Spaghetti\".\n",
    "\n",
    "</div>"
   ]
  },
  {
   "cell_type": "code",
   "execution_count": null,
   "metadata": {},
   "outputs": [],
   "source": [
    "choice = input('Was möchtest du bestellen? Pizza oder Spaghetti?\\n')\n",
    "pizza_price = 6.5\n",
    "\n",
    "if choice == 'Pizza':\n",
    "    print(f'Eine ausgezeichnete Wahl. Das macht {pizza_price} Euro bitte.')\n",
    "else:\n",
    "    print('Dann gibt es eine Portion Spaghetti für dich. Das macht 7 Euro bitte.')"
   ]
  },
  {
   "cell_type": "raw",
   "metadata": {},
   "source": []
  },
  {
   "cell_type": "markdown",
   "metadata": {},
   "source": [
    "<div class=\"alert alert-block alert-success\">\n",
    "<b>Klasse!</b> Du weißt jetzt, wie du Bedingungen vielfach erweitern sowie verschachteln kannst und sogar, wie man falsy und unerwünschte Werte abfängt.\n",
    "    \n",
    "Im letzten Teil des Kapitels \"Conditions - Bedingungen\" erwarten dich ein paar spannende Aufgaben zur Anwendung des Gelernten.\n",
    "</div>"
   ]
  },
  {
   "cell_type": "markdown",
   "metadata": {},
   "source": [
    "<div class=\"alert alert-block alert-info\">\n",
    "<h3>Das kannst du dir aus dieser Übung mitnehmen:</h3>\n",
    "\n",
    "* **Multiple Elifs**\n",
    "    * stehen immer **nach** ``if`` und **vor** ``else``\n",
    "    * werden gecheckt, wenn die Vorbedingungen **nicht** zutreffen\n",
    "    * ``if`` wird immer gecheckt\n",
    "    * Grundsatz: Bedingungen müssen sich gegenseitig ausschließen und sollten alle Möglichkeiten abdecken  \n",
    "<br>\n",
    "* **Nested If-Statements**\n",
    "    * dienen der Verknüpfung von voneinander abhängigen Bedingungen\n",
    "    * werden einen Indentation-Level weiter eingerückt: jeweils 4 Leerzeichen/einen Tabulator-Abstand weiter\n",
    "    * können zum Abfangen von falsy sowie unerwünschten Werten verwendet werden   \n",
    "<br>\n",
    "* **Modul random**\n",
    "    * enthält das Submodul <b>randint</b> zum Erzeugen zufälliger Integers\n",
    "        * Import über: ``from random import randint``\n",
    "        * Zuweisung der Zufallszahl zu einer Variable: ``random_int = randint(1,10)``\n",
    "        * der in Klammern angegebene Bereich ist inklusive beider Zahlen, wie im oberen Beispiel **inklusive** 1 bis **inklusive** 10\n",
    "    * enthält das Submodul <b>choice</b> zur zufälligen Auswahl eines Elements aus einer Liste\n",
    "        * Import über: ``from random import choice``\n",
    "        * über die Funktion ``choice()`` wird ein Listenelement ausgewählt\n",
    "        * Anwendung auf eine Liste: ``random_choice = choice(['A','B','C'])``\n",
    "    * import mehrerer Submodule eines Moduls, indem diese mit Komma getrennt werden, z.B.: ``from random import randint,choice``\n",
    "</div>"
   ]
  }
 ],
 "metadata": {
  "kernelspec": {
   "display_name": "Python 3",
   "language": "python",
   "name": "python3"
  },
  "language_info": {
   "codemirror_mode": {
    "name": "ipython",
    "version": 3
   },
   "file_extension": ".py",
   "mimetype": "text/x-python",
   "name": "python",
   "nbconvert_exporter": "python",
   "pygments_lexer": "ipython3",
   "version": "3.7.3"
  }
 },
 "nbformat": 4,
 "nbformat_minor": 2
}
