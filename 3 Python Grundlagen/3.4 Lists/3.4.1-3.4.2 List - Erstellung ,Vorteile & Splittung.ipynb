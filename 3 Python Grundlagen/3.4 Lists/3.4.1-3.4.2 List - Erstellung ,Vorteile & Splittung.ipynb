{
 "cells": [
  {
   "cell_type": "markdown",
   "metadata": {},
   "source": [
    "#  3.4 Lists\n",
    "\n",
    "## 3.4.1-3.4.2 List - Erstellung ,Vorteile & Splittung\n",
    "\n",
    "Im Anschluss dieser Übungseinheit kannst du ...\n",
    "+ eine leere Liste erstellen\n",
    "+ eine Liste erstellen und mit Werten befüllen\n",
    "+ die Vorteile von Listen benennen\n",
    "+ Listen anhand ihrer Indexierung splitten"
   ]
  },
  {
   "cell_type": "markdown",
   "metadata": {},
   "source": [
    "## 3.4.1 List - Erstellung & Vorteile\n",
    "\n",
    "<b>List</b> - Liste - ist die am häufigsten verwendete Datenstruktur in Python. Aufrund der vielen für sie verfügbaren built-in Functions ist sie auch die flexiblste. Im Bereich der Datenbearbeitung und -analyse ist sie deshalb unentbehrlich.  \n",
    "\n",
    "Wenn du die vorhergehenden Kapitel aufmerksam verfolgt hast, ist sie dir schon über den Weg gelaufen.  \n",
    "\n",
    "Listen sind grundsätzlich geordnet, das heißt, die Reihenfolge ihrer Elemente wird gespeichert. Darüber hinaus sind Listen grundsätzlich veränderbar (engl.: <b>mutable</b>). Das bedeutet, Werte in Listen können verändert werden. \n",
    "\n",
    "Eine Liste besteht aus indexierten Werten. Die Indexierung der Werte (= <b>Values</b>) beginnt bei 0, wie du der folgenden Abbildung entnehmen kannst.  \n",
    "\n",
    "### Aufbau einer Liste:  \n",
    "\n",
    "<img src=\"3-4-1-List.jpg\">     \n",
    "\n",
    "Eine leere Liste besteht aus zwei eckigen Klammern: ``[]``  \n",
    "\n",
    "Listen können Variablen zugewiesen werden, in denen sie somit gespeichert sind: ``variable = []``\n",
    "\n",
    "Werte in Listen bzw. Listeneinträge werden mit einem Komma (oder Komma plus Leerzeichen) getrennt: ``list_example = [entry0,entry1,entry2]``\n",
    "\n",
    "Eine Liste ist eine Sammlung/Kollektion von Werten. Sie gehört zu den <b>Collections</b> in Python, die noch aus anderen Datenstrukturen wie Dictionaries und Tuples bestehen.  \n",
    "\n",
    "Die Werte in Listen können zum Datentyp String, Integer, Float und allen anderen Datentypen gehören. Auch das trägt zu ihrer Flexibilität bei.  \n",
    "<br>\n",
    "\n",
    "### Vorteil 1 von Listen: Kompakte Speicherung von Daten\n",
    "\n",
    "In Python gibt es verschiedene Wege, Daten bzw. Werte abzuspeichern.  \n",
    "\n",
    "Lass uns am Beispiel von Supermarkt- bzw. im Speziellen Reinigungsprodukten beurteilen, welcher davon der praktischste ist.  \n",
    "\n",
    "#### Speicherung der Produkte in einzelnen Variablen"
   ]
  },
  {
   "cell_type": "code",
   "execution_count": null,
   "metadata": {},
   "outputs": [],
   "source": [
    "household_product1 = 'Waschpulver Arielle'\n",
    "household_product2 = 'Bad Totalreiniger Baff'\n",
    "household_product3 = 'Glasreiniger Forsch'"
   ]
  },
  {
   "cell_type": "markdown",
   "metadata": {},
   "source": [
    "Jedes Produkt ist extra in einer eigenen Variable abgespeichert. Damit ist jedes einzeln über seinen Variablennamen anwählbar. Sich alle gleichzeitig ausgeben zu lassen, ist nur über ``print()`` möglich. Ein gleichzeitiges Bearbeiten von ihnen ist nur sehr umständlich machbar.\n",
    "\n",
    "#### Speicherung der Produkte in einem String"
   ]
  },
  {
   "cell_type": "code",
   "execution_count": null,
   "metadata": {},
   "outputs": [],
   "source": [
    "household_products = 'Waschpulver Arielle, Bad Totalreiniger Baff, Glasreiniger Forsch'"
   ]
  },
  {
   "cell_type": "markdown",
   "metadata": {},
   "source": [
    "Alle Produkte sind in einem String vereint. Sie können nun alle gleichzeitig ausgegeben werden. Einzeln anwählbar sind sie nur über die Indexierung von Strings. Dazu müsste man vorher ihre Position abzählen oder über String-Funktionen ermitteln.  \n",
    "\n",
    "#### Speicherung der Produkte in einer Liste"
   ]
  },
  {
   "cell_type": "code",
   "execution_count": null,
   "metadata": {},
   "outputs": [],
   "source": [
    "household_productslist = ['Waschpulver Arielle','Bad Totalreiniger Baff','Glasreiniger Forsch']"
   ]
  },
  {
   "cell_type": "markdown",
   "metadata": {},
   "source": [
    "Durch die Vereinigung aller Produkte in einer Liste können sie zusammen ausgegeben werden:"
   ]
  },
  {
   "cell_type": "code",
   "execution_count": null,
   "metadata": {},
   "outputs": [],
   "source": [
    "household_productslist"
   ]
  },
  {
   "cell_type": "markdown",
   "metadata": {},
   "source": [
    "Und dadurch, dass Listen ebenso wie Strings indexiert sind, können einzelne Produkte über ihre Position in der Liste angewählt werden:"
   ]
  },
  {
   "cell_type": "code",
   "execution_count": null,
   "metadata": {},
   "outputs": [],
   "source": [
    "household_productslist[0]"
   ]
  },
  {
   "cell_type": "markdown",
   "metadata": {},
   "source": [
    "Damit ist kein umständliches Abzählen von Buchstaben an Indizes nötig. Die Produkte sind nicht mehr einzeln auf verschiedenen Speicherplätzen abgespeichert, sondern auf dem Speicherplatz der Liste, der die Adresse zu ihren Werten enthält. Man kann so alle Produkte in der Liste auf einmal bearbeiten und anwählen.  \n",
    "\n",
    "**Listen sind somit die praktischste Variante, mehrere Werte einer Kategorie abzuspeichern.**  \n",
    "<br>\n",
    "\n",
    "Innerhalb von Python wird dieser Datentyp so genannt: <b>list</b>"
   ]
  },
  {
   "cell_type": "code",
   "execution_count": null,
   "metadata": {},
   "outputs": [],
   "source": [
    "type(household_productslist)"
   ]
  },
  {
   "cell_type": "markdown",
   "metadata": {},
   "source": [
    "<b>list</b> ist ein reservierter Name. Wie alle reservierten Namen (int, float etc.) darf er nicht als Variablenname verwendet werden, denn das führt zu Fehlern.  \n",
    "<br>\n",
    "\n",
    "### Vorteil 2: Speicherung verschiedener Datentypen\n",
    "\n",
    "Jede Liste kann aus Werten eines bestimmten Datentyps bestehen.  \n",
    "\n",
    "Listen können aber auch aus verschiedenen Datentypen bestehen:"
   ]
  },
  {
   "cell_type": "code",
   "execution_count": null,
   "metadata": {},
   "outputs": [],
   "source": [
    "list_example = ['Otto Bonsai', '10115', 'Berlin', 8000, 1.0, False]"
   ]
  },
  {
   "cell_type": "markdown",
   "metadata": {},
   "source": [
    "In der oberen Liste sind drei Strings, ein Integer, ein Float und ein Boolean gespeichert.  Es ist sogar möglich, andere Datenstrukturen in Listen zu speichern, wie eine List in einer List. Das ergäbe eine verschachtelte/nested List, doch dazu kommen wir später genauer.  \n",
    "\n",
    "Die Werte in der oberen Liste könnten ein Kundenname, seine Postleitzahl, sein Bundesland, Guthaben sowie Zinssatz sein und ob er zum Beispiel ein Angestellter der Bank ist, bei der er dieses Konto hat.  \n",
    "\n",
    "<div class=\"alert alert-block alert-info\">\n",
    "    <font size=\"3\"><b>Tipp:</b></font> Die Speicherung verschiedener Datentypen innerhalb einer Liste ist grundsätzlich möglich und unter gewissen Anforderungen erforderlich.\n",
    "Eine solche Anforderung könnte zum Beispiel sein, dass man eine Zeile einer Tabelle, die in sich verschiedene Datentypen enthält, gesammelt als eine Subliste abgespeichert haben möchte, um diese leichter ausgeben zu können.\n",
    "<br>\n",
    "    \n",
    "Da verschiedene Werte in einer Liste zu verschiedenen Kategorien gehören, werden sie selten gemeinsam bearbeitet werden müssen. Es kann Probleme mit Funktionen geben, die nur bestimmte Datentypen oder nur einen Datentyp händeln können.  \n",
    "\n",
    "Die Belegung einer Liste mit Werten gleichen Datentyps ist deshalb häufiger in Gebrauch.\n",
    "</div>\n",
    "<br>\n",
    "\n",
    "Listen mit verschiedenen Datentypen werden als <b>heterogen</b>, Listen mit gleichen Datentypen als <b>homogen</b> bezeichnet.  \n",
    "\n",
    "**Die Flexibilät in den Verwendungsmöglichkeiten einer Liste ist ihre große Stärke**  \n",
    "<br>\n",
    "\n",
    "### Vorteil 3: Viele verfügbare Funktionen\n",
    "\n",
    "Es gibt unzählige Funktionen, die die Bearbeitung von Listen und anderen Datenstrukturen vereinfachen. In den darauffolgenden Einheiten werden dir die wichtigsten detailliert vorgestellt.  \n",
    "\n",
    "Damit du jetzt schon siehst, wie praktisch diese Funktionen sind, folgen hier zwei Beispiele.\n",
    "\n",
    "#### Beispiel 1: Ein Listenelement hinzufügen"
   ]
  },
  {
   "cell_type": "code",
   "execution_count": null,
   "metadata": {},
   "outputs": [],
   "source": [
    "household_productslist = ['Waschpulver Arielle','Bad Totalreiniger Baff','Glasreiniger Forsch']\n",
    "\n",
    "household_productslist.append('Bodenreiniger Der Feldmarschall')\n",
    "\n",
    "print(household_productslist)"
   ]
  },
  {
   "cell_type": "markdown",
   "metadata": {},
   "source": [
    "Zu der bestehenden Haushaltsprodukte-Liste wurde mit der Funktion ``append()`` der Bodenreiniger hinzugefügt. Beim Ausgeben der Liste erscheint er nun als letztes Element.  \n",
    "\n",
    "**Listen können beliebig verkleinert und erweitert werden. Das ist ein weiterer Punkt für ihre Flexibilität**  \n",
    "\n",
    "#### Beispiel 2: Eine Liste ordnen"
   ]
  },
  {
   "cell_type": "code",
   "execution_count": null,
   "metadata": {},
   "outputs": [],
   "source": [
    "household_productslist.sort()\n",
    "\n",
    "print(household_productslist)"
   ]
  },
  {
   "cell_type": "markdown",
   "metadata": {},
   "source": [
    "Hier wurde die Funktion ``sort()`` auf die Liste angewandt. Die Liste ist damit **endgültig** sortiert. Hier ist die Speicherung der sortierten Liste in einer neuen Variable für eine endgültige und zugreifbare Änderung nicht nötig (und wie du später sehen wirst sogar falsch). Deshalb ist bei Anwendung dieser Funktion besondere Vorsicht angebracht, wenn du die ursprüngliche Liste nicht permanent überschrieben haben willst.   \n",
    "\n",
    "Wäre die Liste mit Kundennamen gefüllt, hätte man die Kunden nun in alphabetischer Reihenfolge sortiert. Wäre die Liste mit Zahlen gefüllt, hätte man diese nun in aufsteigender Reinhenfolge sortiert. Ist das nicht praktisch?!  \n",
    "\n",
    "**Listen können durch verschiedenste Funktionen flexibel und einfach bearbeitet werden**  \n",
    "\n",
    "Listen haben noch viele weitere Vorteile, die du im weiteren Verlauf dieses Kurses entdecken wirst.  \n",
    "\n",
    "### Die wichtigsten Vorteile sind hier für dich zusammengefasst:  \n",
    "\n",
    "+ kompakte Speicherung von Daten\n",
    "+ Verwendung verschiedener Datentypen in einer Liste\n",
    "+ Verwendung aller Datentypen als Listeneinträge\n",
    "+ beliebige Verkürzung und Erweiterung möglich\n",
    "+ unzählige built-in Functions zur vereinfachten Bearbeitung von Listen verfügbar\n",
    "+ gleichzeitiges Bearbeiten aller Listeneinträge möglich\n",
    "+ Aufteilen von Listen zu Sublisten sowie die Vereinigung mehrerer Listen zu einer Liste über Indexierung/Slicing/Splitten realisierbar\n",
    "+ Erstellung einer Tabelle aus einer Liste möglich\n",
    "+ **Hauptvorteil: Listen sind flexibel**  \n",
    "\n",
    "<div class=\"alert alert-block alert-warning\">\n",
    "    <font size=\"3\"><b>Übung zu List:</b></font> Du hast in dieser Einheit an einigen Beispielen gesehen, was man mit Listen anstellen kann.  \n",
    "    \n",
    "**a)** Erstelle eine Liste, die folgende Einträge enthalten soll:  \n",
    "* Rinder Country Müsliriegel\n",
    "* Babysitter Hort Jamaica Rum\n",
    "* Bergkalt Kokos Flocken  \n",
    "\n",
    "**b)** Füge anschließend mit einer Funktion der Liste folgenden Eintrag hinzu:  \n",
    "* Hatschi Pfefferminztaler  \n",
    "\n",
    "**c)** Sortiere die Liste in alphabetischer Reihenfolge.  \n",
    "\n",
    "**d)** Lass dir die Liste ausgeben.\n",
    "\n",
    "**e)** Lass dir den zweiten Listeneintrag ausgeben. Dafür kannst du die zweite leere Code-Zelle verwenden.\n",
    "</div>"
   ]
  },
  {
   "cell_type": "code",
   "execution_count": null,
   "metadata": {},
   "outputs": [],
   "source": []
  },
  {
   "cell_type": "code",
   "execution_count": null,
   "metadata": {},
   "outputs": [],
   "source": []
  },
  {
   "cell_type": "markdown",
   "metadata": {},
   "source": [
    "## 3.4.2 Indexierung von Listen\n",
    "\n",
    "Genau wie Strings verfügen auch Listen über Indize.  \n",
    "\n",
    ">Weil die Indexierung sehr ähnlich zu der von Strings funktioniert, wird in dieser Einheit nicht so ausführlich darauf eingegangen wie in \"3.2.7-3.2.8 Indexierung & Splitten von Strings & Verarbeitung von User-Input\", einem Subkapitel von \"3.2 Strings & String-Funktionen\". Sollten dir nach dem Durchgehen des Folgenden noch Unklarheiten geblieben sein, empfehlen wir dir, dir diese Einheit noch einmal durchzulesen.  \n",
    "\n",
    "**Wie bei Strings beginnen auch bei Lists die Indize bei 0:**"
   ]
  },
  {
   "cell_type": "code",
   "execution_count": null,
   "metadata": {},
   "outputs": [],
   "source": [
    "ranks = [0,1,2,3,4,5,6,7,8,9]\n",
    "\n",
    "ranks[0]"
   ]
  },
  {
   "cell_type": "markdown",
   "metadata": {},
   "source": [
    "Der nullte Index von ranks enthält den Wert 0. Analog gilt das für die weiteren Indize.  \n",
    "\n",
    "Möchtest du dir den Wert von einem Index ausgeben lassen, der aber über die Anzahl der vorhandenen Indize hinausgeht, ergibt das einen <font color = darkred>IndexError</font>. \"list index out of range\" bedeutet, der angeforderte Index ist zu hoch für den vorhandenen Zahlenbereich. Beispiel:"
   ]
  },
  {
   "cell_type": "code",
   "execution_count": null,
   "metadata": {},
   "outputs": [],
   "source": [
    "ranks[11]"
   ]
  },
  {
   "cell_type": "markdown",
   "metadata": {},
   "source": [
    "Ebenso wie Strings, sind die Werte über Ihre Indexposition in eckigen Klammern anwählbar, wie du an den obigen Beispielen sehen kannst.  \n",
    "\n",
    "**[:] gibt alle Listeneinträge aus**  \n",
    "\n",
    "Beispiel:"
   ]
  },
  {
   "cell_type": "code",
   "execution_count": null,
   "metadata": {},
   "outputs": [],
   "source": [
    "ranks = [0,1,2,3,4,5,6,7,8,9]\n",
    "\n",
    "ranks[:]"
   ]
  },
  {
   "cell_type": "markdown",
   "metadata": {},
   "source": [
    "**Auch die sonstige Splittung erfolgt analog zur String-Splittung**\n",
    "\n",
    "Das Slicing hat die gleiche Syntax: <font color = green>list[ab inklusive hier slicen:bis exklusive hier slicen]</font>  \n",
    "\n",
    "Beispiel:"
   ]
  },
  {
   "cell_type": "code",
   "execution_count": null,
   "metadata": {},
   "outputs": [],
   "source": [
    "ranks = [0,1,2,3,4,5,6,7,8,9]\n",
    "\n",
    "ranks[2:8]"
   ]
  },
  {
   "cell_type": "markdown",
   "metadata": {},
   "source": [
    "Im oberen Beispiel wird die Liste von **inklusive Index 2** bis **exklusive Index 8**, also bis inlusive Index 7 mit dem Wert 7 gesplittet.  \n",
    "\n",
    "**[Index:] splittet vom angegebenen Index bis zum Ende der Liste**"
   ]
  },
  {
   "cell_type": "code",
   "execution_count": null,
   "metadata": {},
   "outputs": [],
   "source": [
    "ranks = [0,1,2,3,4,5,6,7,8,9]\n",
    "\n",
    "ranks[2:]"
   ]
  },
  {
   "cell_type": "markdown",
   "metadata": {},
   "source": [
    "**[:Index] splittet vom Anfang der Liste bis vor den angegeben Index**"
   ]
  },
  {
   "cell_type": "code",
   "execution_count": null,
   "metadata": {},
   "outputs": [],
   "source": [
    "ranks = [0,1,2,3,4,5,6,7,8,9]\n",
    "\n",
    "ranks[:8]"
   ]
  },
  {
   "cell_type": "markdown",
   "metadata": {},
   "source": [
    "**Ebenso funktioniert das Slicen mit negativen Indizes:**  \n",
    "\n",
    "Syntax (wie mit positiven Indizes): <font color = green>list[ab inklusive hier slicen:bis exklusive hier slicen]</font>  \n",
    "\n",
    "Beispiel:"
   ]
  },
  {
   "cell_type": "code",
   "execution_count": null,
   "metadata": {},
   "outputs": [],
   "source": [
    "ranks = [0,1,2,3,4,5,6,7,8,9]\n",
    "\n",
    "ranks[-4:-1]"
   ]
  },
  {
   "cell_type": "markdown",
   "metadata": {},
   "source": [
    "Die letzte Position einer Liste hat den Index -1.  \n",
    "\n",
    "Davon ausgehend, hat der vorletzte Listeneintrag den Index -2, der drittletzte den Index -3 usw.  \n",
    "\n",
    "Der Index -4 im Beispiel oben hat den Wert 6. Er ist also im Output enthalten und alles ab ihm in rechter Richtung.  \n",
    "\n",
    "Der Index -1 ist wieder nicht eingeschlossen. Also wird alles ab **inklusive Index -4** bis **inklusive Index -2** abgebildet.  \n",
    "\n",
    "Zum besseren Verständnis für dich ist hier eine Übersicht zur Indexierung von Listen (analog zu Stings!):\n",
    "\n",
    "###  Indextabelle zu List\n",
    "\n",
    "| Index | ['Wert 1', |'Wert 2', | 'Wert 3',  | 'Wert 4'] \n",
    "|---|---|---|---|---|\n",
    "| positiv | 0 | 1 | 2 | 3|\n",
    "| negativ| -4 | -3 | -2 | -1|\n",
    "\n",
    "<br>\n",
    "<br>\n",
    "\n",
    "<div class=\"alert alert-block alert-info\">\n",
    "    <font size=\"3\"><b>Tipp:</b></font> Für eine sinnvolle Splittung sollte der Index vor dem Doppelpunkt immer niedriger als der Index nach dem Doppelpunkt sein.  \n",
    "    \n",
    "Ist der Wert nach dem Doppelpunkt niedriger, als der vor ihm, erhältst du als Ergebnis eine leere Liste oder einen leeren String, da sich die Splittungsindize überschneiden.\n",
    "</div>  \n",
    "<br>\n",
    "<br>\n",
    "    \n",
    "###  Der dritte Parameter der Indexierung\n",
    "\n",
    "Die Indexierung hat noch einen dritten Parameter: <b>step</b>.    \n",
    "\n",
    "Mit ihm kann man die Schritte (engl.: steps) der Splittung angeben.  \n",
    "\n",
    "Syntax: <font color = green>list[ab inklusive hier slicen:bis exklusive hier slicen:Schritte]</font>  \n",
    "\n",
    "Syntax laut Python-Dokumentation: <font color = green>list[start:stop:step]</font>  \n",
    "\n",
    "Beispiel:"
   ]
  },
  {
   "cell_type": "code",
   "execution_count": null,
   "metadata": {},
   "outputs": [],
   "source": [
    "ranks = [0,1,2,3,4,5,6,7,8,9]\n",
    "\n",
    "ranks[2:8:2]"
   ]
  },
  {
   "cell_type": "markdown",
   "metadata": {},
   "source": [
    "Nun wurden die Indize 2-7 angewählt - und zwar in Zweierschritten.  \n",
    "\n",
    "Mit einem negativen Step wird die Liste rückwärts ausgegeben.  \n",
    "\n",
    "Mit dem Step -1 erscheint die gesamte Liste rückwärts:"
   ]
  },
  {
   "cell_type": "code",
   "execution_count": null,
   "metadata": {},
   "outputs": [],
   "source": [
    "ranks = [0,1,2,3,4,5,6,7,8,9]\n",
    "\n",
    "ranks[::-1]"
   ]
  },
  {
   "cell_type": "markdown",
   "metadata": {},
   "source": [
    "Mit dem Step -2 wird jedes zweite Element der Liste angewählt und rückwärts ausgegeben:"
   ]
  },
  {
   "cell_type": "code",
   "execution_count": null,
   "metadata": {},
   "outputs": [],
   "source": [
    "ranks = [0,1,2,3,4,5,6,7,8,9]\n",
    "\n",
    "ranks[::-2]"
   ]
  },
  {
   "cell_type": "markdown",
   "metadata": {},
   "source": [
    "**Die Umdrehung einer Liste hat den Vorteil, dass so Ränke, die aufsteigend geordnet sind, in absteigender Reihenfolge angezeigt und bearbeitet werden können.**  \n",
    "\n",
    "Zum Beispiel könnten bei einer Punkteliste die höchsten Punktzahlen zuerst angezeigt werden.  \n",
    "\n",
    "<div class=\"alert alert-block alert-info\">\n",
    "    <font size=\"3\"><b>Tipp:</b></font> Der Parameter <b>step</b> ist auch für Strings verfügbar.  \n",
    "    \n",
    "Weil es für Listen am ehesten gebraucht wird, wurde es dir zu diesem Zeitpunkt vorgestellt.  \n",
    "\n",
    "Für Strings ist es genauso anzuwenden, wie oben anhand einer Liste gezeigt.  \n",
    "</div>  \n",
    "<br>\n",
    "\n",
    "<div class=\"alert alert-block alert-warning\">\n",
    "    <font size=\"3\"><b>Übung zum Slicen von Lists:</b></font> Splitte die Liste auf die in den Codezellen vorgegebene Weise. Die Übungen sind teils auf mehreren Wegen lösbar. Solange du sie laut Aufgabenstellung löst, zählt das richtige Ergebnis.\n",
    "</div>"
   ]
  },
  {
   "cell_type": "code",
   "execution_count": null,
   "metadata": {},
   "outputs": [],
   "source": [
    "# Gib alle Listeneinträge ab Wert (nicht Index) 3 aus\n",
    "\n",
    "chocolate_productslist = ['Babysitter Hort Jamaica Rum', 'Bergkalt Kokos Flocken', 'Hatschi Pfefferminztaler',\\\n",
    "                          'Rinder Country Müsliriegel']\n",
    "\n"
   ]
  },
  {
   "cell_type": "code",
   "execution_count": null,
   "metadata": {},
   "outputs": [],
   "source": [
    "# Gib die Listeneinträge (Werte) 1-3 aus\n",
    "\n"
   ]
  },
  {
   "cell_type": "code",
   "execution_count": null,
   "metadata": {},
   "outputs": [],
   "source": [
    "# Gib alle Listeneinträge von Wert 1 bis exlusive Wert 3 aus, indem du negative Indexierung verwendest\n",
    "\n"
   ]
  },
  {
   "cell_type": "code",
   "execution_count": null,
   "metadata": {},
   "outputs": [],
   "source": [
    "# Gib die Listeneinträge von Wert 2 bis inklusive 3 aus, mit negativen Indizes\n",
    "\n"
   ]
  },
  {
   "cell_type": "code",
   "execution_count": null,
   "metadata": {},
   "outputs": [],
   "source": [
    "# Gib jeden zweiten Listeneintrag aus\n",
    "\n"
   ]
  },
  {
   "cell_type": "code",
   "execution_count": null,
   "metadata": {},
   "outputs": [],
   "source": [
    "# Gib die Liste rückwärts vom 3. Eintrag an aus (vom 3. Eintrag zum 1.)\n"
   ]
  },
  {
   "cell_type": "markdown",
   "metadata": {},
   "source": [
    "<div class=\"alert alert-block alert-success\">\n",
    "<b>Prima!</b> Du kennst nun die wichtigsten Vorteile von Listen und weißt, wie du selbst welche erstellen und sogar schon mit zwei Funktionen bearbeiten kannst. Außerdem hast du dein Wissen über Indexierung aufgefrischt.\n",
    "    \n",
    "In der nächsten Einheit lernst du die wichtigsten Funktionen für Listen kennen.\n",
    "</div>"
   ]
  },
  {
   "cell_type": "markdown",
   "metadata": {},
   "source": [
    "<div class=\"alert alert-block alert-info\">\n",
    "<h3>Das kannst du aus dieser Übung mitnehmen:</h3>\n",
    "\n",
    "* **List**\n",
    "    * gehört zu Pythons **Collections**\n",
    "    * ist eine übergeordnete Datenstruktur zum Speichern verschiedener Datentypen\n",
    "    * ist Python-intern der Datentyp **list**\n",
    "    * eine leere Liste besteht aus zwei eckigen Klammern: ``[]``\n",
    "    * kann einer Variable zugewiesen werden (und wird das für gewöhnlich auch): ``list example = []``\n",
    "    * Werte einer Liste werden mit einem Komma bzw. optional zusätzlich einem Leerzeichen getrennt \n",
    "        * so: ``list example = ['Nummer 0','Nummer 1','Nummer 2']``\n",
    "        * oder so: `list example = ['Nummer 0', 'Nummer 1', 'Nummer 2']``  \n",
    "<br>\n",
    "* **Vorteile von Listen**\n",
    "    * kompakte Speicherung von Daten\n",
    "    * Verwendung verschiedener Datentypen in einer Liste\n",
    "    * Verwendung aller Datentypen als Listeneinträge\n",
    "    * beliebige Verkürzung und Erweiterung möglich\n",
    "    * unzählige built-in Functions zur vereinfachten Bearbeitung von Listen verfügbar\n",
    "    * gleichzeitiges Bearbeiten aller Listeneinträge möglich\n",
    "    * Aufteilen von Listen zu Sublisten sowie die Vereinigung mehrerer Listen zu einer Liste über Indexierung/Slicing/Splitten realisierbar\n",
    "    * Erstellung einer Tabelle aus einer Liste möglich\n",
    "    * **Hauptvorteil: Listen sind flexibel**  \n",
    "<br>\n",
    "* **Indexierung von Listen**\n",
    "    * beginnt, analog zu Strings, bei Index 0\n",
    "    * endet, analog zu Strings mit dem Index -1\n",
    "    * Syntax: <font color = green>liste[ab inklusive hier slicen:bis exklusive hier slicen:Schritte]</font>\n",
    "    * Syntax laut Python-Dokumentation: <font color = green>liste[start:stop:step]</font> \n",
    "    * alle Listeneinträge ausgeben: ``lst[:]``\n",
    "    * Listeneinträge durch Angabe von Schritten überspringen:\n",
    "        * Beispiel: ``lst = [1,2,3,4,5,6,7,8,9]``\n",
    "        * ``lst[1:6:2]`` => Output: [2, 4, 6]\n",
    "        * denn im Beispiel wird jeder 2. Eintrag von Eintrag 2 bis Eintrag 6 ausgegeben (an Index 6 liegt der 7. Eintrag, der exklusive ist)\n",
    "    * eine komplette Liste rückwärts ausgeben: ``lst[::-1]``\n",
    "    * jeden 2. Listeneintrag aus einer umgedrehten Liste ausgeben: ``lst[::-2]``\n",
    "    * Achtung: <b>list</b> ist der Python-interne Name für Listen und gehört zu den reservierten Namen - verwende <b>list</b> deshalb **nie** zur Benennung einer Liste, denn das führt zu Fehlern\n",
    "    * für eine sinnvolle Splittung sollte der Indexwert vor dem Doppelpunkt stets kleiner als der nach dem Doppelpunkt sein, das Ergebnis ist sonst eine leere Liste (oder ein leerer String: <font color = green>liste[>:>:step]</font>  \n",
    "</div>"
   ]
  }
 ],
 "metadata": {
  "kernelspec": {
   "display_name": "Python 3",
   "language": "python",
   "name": "python3"
  },
  "language_info": {
   "codemirror_mode": {
    "name": "ipython",
    "version": 3
   },
   "file_extension": ".py",
   "mimetype": "text/x-python",
   "name": "python",
   "nbconvert_exporter": "python",
   "pygments_lexer": "ipython3",
   "version": "3.7.3"
  }
 },
 "nbformat": 4,
 "nbformat_minor": 2
}
