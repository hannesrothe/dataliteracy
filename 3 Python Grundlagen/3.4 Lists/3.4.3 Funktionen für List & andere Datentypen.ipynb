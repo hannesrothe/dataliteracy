{
 "cells": [
  {
   "cell_type": "markdown",
   "metadata": {},
   "source": [
    "#  3.4 Lists\n",
    "\n",
    "## 3.4.3 Funktionen für List & andere Datentypen\n",
    "\n",
    "Im Anschluss dieser Übungseinheit kannst du ...\n",
    "+ die wichtigsten built-in Functions für Datenstrukturen anwenden\n",
    "+ eine Liste in einen Iterator verwandeln und erklären, was ein iterierbares Objekt ist\n",
    "+ Listen und andere iterierbare Objekte sortieren\n",
    "+ Listen auf verschiedene Weisen sortieren\n",
    "+ den Unterschied zwischen stabilen und instabilen Sortieralgorithmen erklären\n",
    "+ erklären, was ein in-place Algorithmus ist\n",
    "+ iterierbare Objekte in Listen umwandeln\n"
   ]
  },
  {
   "cell_type": "markdown",
   "metadata": {},
   "source": [
    "## 3.4.3 Funktionen für List & andere Datentypen\n",
    "\n",
    "Die folgenden built-in Funktionen können auf verschiedene Objekte angewendet werden. Das schließt auch verschiedene Datenstrukturen ein.  \n",
    "<br>\n",
    "\n",
    "### a) len() zur Ermittlung der Länge\n",
    "\n",
    "``len()`` ist dir schon bei den String-Funktionen begegnet. Mit dieser Funktion wird die Länge eines Objekts, hier einer Liste, bestimmt. Das Ergebnis ist die Gesamtanzahl aller Einträge einer Liste. Beispiel:"
   ]
  },
  {
   "cell_type": "code",
   "execution_count": null,
   "metadata": {},
   "outputs": [],
   "source": [
    "lst = [0,1,2,3]\n",
    "\n",
    "len(lst)"
   ]
  },
  {
   "cell_type": "markdown",
   "metadata": {},
   "source": [
    "### b) min() zur Ermittlung des niedrigsten Wertes\n",
    "\n",
    ">Ein Iterable ist ein Objekt wie eine Datenstruktur, das aus einzelnen Werten besteht, die nacheinander durchlaufen werden können. Mehr zu Iterables/iterierbaren Objekten folgt weiter unten.  \n",
    "\n",
    "\n",
    "``min()`` ermittelt den niedrigsten Wert eines Iterables. Die Werte des Iterables müssen zum gleichen Datentyp gehören, um miteinander verglichen werden zu können. Sind sie es nicht, wirft Python einen <font color = darkred>TypeError</font>. Beispiel:"
   ]
  },
  {
   "cell_type": "code",
   "execution_count": null,
   "metadata": {},
   "outputs": [],
   "source": [
    "prices = ['eins',15.9,'drei']\n",
    "\n",
    "min(prices)"
   ]
  },
  {
   "cell_type": "markdown",
   "metadata": {},
   "source": [
    "Integers und Floats können miteinander verglichen werden:"
   ]
  },
  {
   "cell_type": "code",
   "execution_count": null,
   "metadata": {},
   "outputs": [],
   "source": [
    "prices = [1,15.9,3]\n",
    "\n",
    "min(prices)"
   ]
  },
  {
   "cell_type": "markdown",
   "metadata": {},
   "source": [
    "Für ``min()`` sind zusätzliche, optionale Parameter verfügbar. Für die Parameter gibt es zwei verschiedene Syntaxen, welche **nicht gemischt** verwendet werden sollten:   \n",
    "\n",
    "Syntax 1: <font color = green>min(iterable, default=object, key=None)</font>  \n",
    "\n",
    "Der Parameter **default**: Dieser steht für ein Objekt jeglicher Art, das aufgerufen wird, wenn das Iterable leer sein sollte. Ohne dieses Argument wird ein <font color = darkred>ValueError</font> geworfen, wenn das Iterable leer ist.  \n",
    "\n",
    "Der Parameter **key**: Hier wird eine Funktion eingetragen, auf deren Grundlage das Minimum bestimmt wird. Das kann eine built-in oder eine eigens definierte Funktion sein.  \n",
    "\n",
    "Beispiel 1 zu Syntax 1:"
   ]
  },
  {
   "cell_type": "code",
   "execution_count": null,
   "metadata": {},
   "outputs": [],
   "source": [
    "lst = []\n",
    "\n",
    "error_message = 'Die übergebene Liste ist leer'\n",
    "\n",
    "min(lst, default=error_message)"
   ]
  },
  {
   "cell_type": "markdown",
   "metadata": {},
   "source": [
    "Beispiel 2 zu Syntax 1:"
   ]
  },
  {
   "cell_type": "code",
   "execution_count": null,
   "metadata": {},
   "outputs": [],
   "source": [
    "letter_lst = ['z', 'b', 'G', 'C' ]\n",
    "\n",
    "min(letter_lst, key=str.upper)"
   ]
  },
  {
   "cell_type": "markdown",
   "metadata": {},
   "source": [
    "Alle Werte wurden in Großbuchstaben umgeandelt und erst danach verglichen. Beachte, dass **str.upper** ohne Funktionsklammern geschrieben wird.    \n",
    "\n",
    "Beispiel 2 zu Syntax 1 **ohne** die Umwandlung über <b>key</b>:"
   ]
  },
  {
   "cell_type": "code",
   "execution_count": null,
   "metadata": {},
   "outputs": [],
   "source": [
    "letter_lst = ['z', 'b', 'G', 'C']\n",
    "\n",
    "min(letter_lst)"
   ]
  },
  {
   "cell_type": "markdown",
   "metadata": {},
   "source": [
    "Syntax 2: <font color = green>min(arg1, arg2, *args,  key=None)</font>\n",
    "\n",
    "Die Parameter **arg/args**: <b>arg</b> ist die Kurzform für Argument, <b>args</b> die Kurzform für Argumente. Mit dieser Syntax kann man 2 oder beliebig viele Iterables auf ihr Minimum hin vergleichen. Der **Rückgabewert** ist das **gesamte Iterable**, in welchem das Minimum enthalten ist. \n",
    "\n",
    "Der Parameter **key**: Siehe die Beschreibung in Syntax 1.  \n",
    "\n",
    "Beispiel zu Syntax 2:"
   ]
  },
  {
   "cell_type": "code",
   "execution_count": null,
   "metadata": {},
   "outputs": [],
   "source": [
    "nums1 = [100, 20, 30, 40, 70]\n",
    "\n",
    "nums2 = [35, 25, 65, 75, 85]\n",
    "\n",
    "nums3 = [33, 53, 83, 93, 1]\n",
    "\n",
    "min(nums1, nums2, nums3)"
   ]
  },
  {
   "cell_type": "markdown",
   "metadata": {},
   "source": [
    "### c) max() zur Ermittlung des höchsten Wertes\n",
    "\n",
    "``max()`` ermittelt den höchsten Wert eines Iterables. Beispiel:"
   ]
  },
  {
   "cell_type": "code",
   "execution_count": null,
   "metadata": {},
   "outputs": [],
   "source": [
    "prices = [1.5,15.9,3.7]\n",
    "\n",
    "max(prices)"
   ]
  },
  {
   "cell_type": "markdown",
   "metadata": {},
   "source": [
    "Auch für ``max()`` sind 2 verschiedene Syntaxen mit zusätzlichen, optionalen Parametern verfügbar. ``max()`` verhält sich mit diesen Parametern analog zu ``min()``, wobei mit ``max()`` der größte Wert bzw. das gesamte Iterable mit dem größten Wert ausgegeben wird.  \n",
    "\n",
    "Syntax 1: <font color = green>max(iterable, default=object, key=None)</font>  \n",
    "\n",
    "Syntax 2: <font color = green>max(arg1, arg2, *args,  key=None)</font>"
   ]
  },
  {
   "cell_type": "markdown",
   "metadata": {},
   "source": [
    "### d) iter() zur Umwandlung in Iterator und next() zum Nacheinander-Ausgeben der Listeneinträge\n",
    "\n",
    "\"Object\" ist der übergeordnete Datentyp zu allen anderen Datentypen.\n",
    "``iter()`` verwandelt ein iterierbares Objekt in einen <b>Iterator</b>. Das ist ein Objekt, dessen Werte der Reihe nach durchlaufen werden können.  \n",
    "\n",
    "Die \"Object\" untergeordneten pythonischen Datenstrukturen (Collections) List, Dictionary, Set und Tuple verfügen alle über diese Funktion.  \n",
    "\n",
    "**Alle Datenstrukturen und Strings sind iterierbare Objekte.**\n",
    "\n",
    "Sie alle enthalten Werte, die vom ersten bis zum letzten durchgegangen werden können. Man sagt dazu: \"über diese Objekte kann iteriert werden\" bzw. allgemein: \"über Objekte iterieren\".  \n",
    "\n",
    "\n",
    "\n",
    "Wird ein iterierbares Objekt mit ``iter()`` in ein Iterator-Objekt umgewandelt, kann anschließend mit der Funktion ``next()`` ein Element nach dem anderen angewählt und ausgegeben werden. Beispiel:"
   ]
  },
  {
   "cell_type": "code",
   "execution_count": null,
   "metadata": {},
   "outputs": [],
   "source": [
    "pets = ['mouse', 'rabbit', 'dog', 'cat']\n",
    "\n",
    "# Umwandlung der Liste in einen Iterator\n",
    "pets_iterator = iter(pets)\n",
    "\n",
    "\n",
    "# Ausgabe des ersten Elements mit next()\n",
    "print(next(pets_iterator))\n",
    "\n",
    "# Ausgabe des zweiten Elements mit next()\n",
    "print(next(pets_iterator))\n",
    "\n",
    "# Ausgabe des dritten Elements mit next()\n",
    "print(next(pets_iterator))\n",
    "\n",
    "# Ausgabe des vierten Elements mit next()\n",
    "print(next(pets_iterator))"
   ]
  },
  {
   "cell_type": "markdown",
   "metadata": {},
   "source": [
    "Wie du siehst, muss an ``print(next(pets_iterator))`` nichts geändert werden, denn wenn man es mehrfach einsetzt, wählt es automatisch das nächste (= <b>next</b>) Listenelement aus.  \n",
    "\n",
    "Wenn du ein und dasselbe Statement in der gleichen Code-Zelle mehrfach hintereinander ausführst, werden dir alle Listeneinträge nacheinander ausgegeben. Um von vorne mit der Iteration zu beginnen, wird die Liste wieder in einen Iterator umgewandelt:"
   ]
  },
  {
   "cell_type": "code",
   "execution_count": null,
   "metadata": {},
   "outputs": [],
   "source": [
    "pets_iterator = iter(pets)"
   ]
  },
  {
   "cell_type": "markdown",
   "metadata": {},
   "source": [
    "Das ist hier zu Demonstrationszwecken notwendig, wie du gleich beim mehrmaligen Ausführen der unteren Code-Zelle (<font color = green>Strg</font> plus <font color = green>Enter</font> oder <font color = green>Cmd</font> plus <font color = green>Enter</font>) sehen wirst. Denn ist die Iteration am Ende der Liste angekommen, wie im ersten Beispiel dazu, läuft sie darüber hinaus nicht weiter und die Fehlermeldung <font color = darkred>StopIteration</font> erscheint: "
   ]
  },
  {
   "cell_type": "code",
   "execution_count": null,
   "metadata": {},
   "outputs": [],
   "source": [
    "print(next(pets_iterator))"
   ]
  },
  {
   "cell_type": "markdown",
   "metadata": {},
   "source": [
    "Diesen Fehler kann man sich zunutze machen, um das Iterieren über die Liste über ihr Ende hinaus zu stoppen (ohne Fehlermeldung und Programmstopp dadurch). Realisierbar ist das mit einer Schleife/einem Loop, doch dazu kommen wir im weiteren Kursverlauf.\n",
    "\n",
    "Wichtig zu beachten ist, dass der Iterator selbst nicht über ``print()`` ausgegeben werden kann. Es erscheint nur seine Speicheradresse:"
   ]
  },
  {
   "cell_type": "code",
   "execution_count": null,
   "metadata": {},
   "outputs": [],
   "source": [
    "print(pets_iterator)"
   ]
  },
  {
   "cell_type": "markdown",
   "metadata": {},
   "source": [
    "An dieser Ausgabe kannst du auch die Python-interne Bezeichnung für den Iterator sehen: <b>list_iterator</b>.  \n",
    "\n",
    "Weitere Ausgabe des Datentyps:"
   ]
  },
  {
   "cell_type": "code",
   "execution_count": null,
   "metadata": {},
   "outputs": [],
   "source": [
    "type(pets_iterator)"
   ]
  },
  {
   "cell_type": "markdown",
   "metadata": {},
   "source": [
    "<div class=\"alert alert-block alert-info\">\n",
    "    <font size=\"3\"><b>Datenstrukturen/Collections:</b></font> Nachdem  andere Datenstrukturen neben List nun schon öfter angesprochen wurden, fragst du dich vielleicht, was sich hinter ihnen verbirgt. Das Folgende soll dir einen kleinen Überblick geben. Eine ausführlichere Vorstellung dieser Collection-Typen findest du in kommenden Kapiteln.  \n",
    "<br>\n",
    "    \n",
    "* <b>Dictionary</b>\n",
    "    * Beispiel:\n",
    "        * ``dict_example = {'name': 'Ben Bender', 'Stadt': 'Berlin', 'Guthaben': 144.77}``         \n",
    "    * wie eine Liste kann ein Dictionary verschiedene Datentypen beinhalten\n",
    "    * wie eine Liste ist ein Dictionary beliebig kürz- und erweiterbar\n",
    "    * ein Dictionary hat keine festen Indize, die Keys übernehmen die Funktion der Indexierung \n",
    "    * es besteht aus Schlüssel-Wertepaaren - Key-Value-Paaren/Pairs\n",
    "    * der Schlüssel steht vor dem Doppelpunkt, der Wert danach\n",
    "    * z.B. ein Schlüssel ist 'Guthaben', sein Wert ist 144.77\n",
    "    * die Schlüssel/Keys sind unique: kein Schlüssel kommt doppelt vor\n",
    "    * damit kann man Kategorien (= die Schlüssel) anlegen und diese mit Werten befüllen\n",
    "    * die Key-Value-Paare werden mit einem Komma getrennt\n",
    "    * ein Dictionary wird mit geschweiften Klammern definiert, z.B. ein leeres Dictionary: ``di = {}``  \n",
    "<br>\n",
    "<br>\n",
    "\n",
    "* <b>Tuple</b>    \n",
    "    * Beispiele:\n",
    "        * ``tupl_example1 = (1, 2, 3)``\n",
    "        * ``tupl_example2 = ('Hi', 3.7, 8, 27)``           \n",
    "    * wie eine Liste und ein Dictionary, kann ein Tuple (deutsch: Tupel) verschiedene Datentypen beinhalten\n",
    "    * im Gegensatz zu List und Dictionary ist ein Tuple unveränderlich - Werte können nicht ausgetauscht werden\n",
    "    * auch ein Tuple ist indexiert\n",
    "    * es wird genutzt, um Daten zu gruppieren\n",
    "    * die Daten/Werte werden mit einem Komma getrennt\n",
    "    * definiert wird es mit zwei runden Klammern, z.B. ein leeres Tuple: ``tupl = ()``  \n",
    "    <br>\n",
    "    <br>\n",
    "    \n",
    "* <b>Set</b>    \n",
    "    * Beispiele:     \n",
    "        * ``set_example1 = {2, 1, 3}``\n",
    "        * ``set_example2 = {'Hi', (1, 2, 3), 'Ho', [True, False]}``     \n",
    "    * wie die anderen Datenstrukturen kann ein Set verschiedene Datentypen beinhalten\n",
    "    * die Beispiele enthalten Integers, Strings, ein Tuple und eine Liste - alle Datentypen könnten vorkommen\n",
    "    * im Gegensatz zu den anderen Datenstrukturen (außer Dictionary-Keys) sind all seine Werte unique - kein Wert darf doppelt enthalten sein\n",
    "    * in Sets angelegte doppelte Werte werden von Python bei der Verarbeitung nicht berücksichtigt bzw. miteinander überschrieben\n",
    "    * ein Set ist nicht indexiert\n",
    "    * es wird eingesetzt, wenn man unique Werte braucht, die nicht geordnet sein müssen\n",
    "    * bei der Weiterverarbeitung wird die Einhaltung der Reihenfolge der Set-Elemente nicht gewährleistet - sie wird nicht erhalten bleiben\n",
    "    * Werte in einem Set werden auch mit einem Komma getrennt\n",
    "    * definiert wird es mit zwei geschweiften Klammern\n",
    "    * ein leeres Set wird über die Funktion ``set()`` definiert, z.B.: ``s = set()``  \n",
    "<br>\n",
    "\n",
    "<b>Alle unter 3.4.3 genannten built-in Functions können auch auf die oben genannten Collection-Typen angewendet werden.</b>\n",
    "</div>\n",
    "<br>\n",
    "\n",
    "\n",
    "### e) list() zum Erstellen einer Liste aus einem iterierbaren Objekt\n",
    "\n",
    "Mit ``list()`` kann aus allen iterierbaren Objekten eine Liste erstellt werden. Das heißt, aus Dictionarys, Sets und Tuples kann damit eine Liste erstellt werden.  \n",
    "\n",
    "Möchtest du allerdings <b>pets_iterator</b> von oben zurück in eine Liste wandeln, bleiben die Werte des list_iterators nicht erhalten. Das Ergebnis gehört zwar zum Datentyp list, aber die Liste ist leer:"
   ]
  },
  {
   "cell_type": "code",
   "execution_count": null,
   "metadata": {},
   "outputs": [],
   "source": [
    "pets_list = list(pets_iterator)\n",
    "\n",
    "print(pets_list)\n",
    "type(pets_list)"
   ]
  },
  {
   "cell_type": "markdown",
   "metadata": {},
   "source": [
    "Auch ein String ist ein iterierbares Objekt. Somit kann jeder String in eine Liste umgewandelt werden. Beispiel:"
   ]
  },
  {
   "cell_type": "code",
   "execution_count": null,
   "metadata": {},
   "outputs": [],
   "source": [
    "alphabet = 'ABCDEFGHIJKLMNOPQRSTUVWXYZ'\n",
    "\n",
    "alpha_lst = list(alphabet)\n",
    "\n",
    "print(alpha_lst)"
   ]
  },
  {
   "cell_type": "markdown",
   "metadata": {},
   "source": [
    "Damit kannst du auf einen Schlag eine Liste mit dem Alphabet erstellen, die für Zwecke wie die alphabetische Kategorisierung deiner Kunden weiterverwenden könntest.  \n",
    "\n",
    "**Achtung: Bei der Umwandlung eines Strings mit numerischen Datentypen in eine Liste wird jede einzelne Zahl und jedes Zeichen in einen extra Listeneintrag umgewandelt. Als Grundlage für das Anlegen einer Liste mit numerischen Datentypen sollte besser ein anderes iterierbares Objekt wie z.B. ein Tuple verwendet werden.**  \n",
    "\n",
    "Schlechtes Beispiel mit einem String:"
   ]
  },
  {
   "cell_type": "code",
   "execution_count": null,
   "metadata": {},
   "outputs": [],
   "source": [
    "chances = '2.3, 6.7, 1.09, 4.22, 2.83'\n",
    "\n",
    "chances_lst = list(chances)\n",
    "\n",
    "print(chances_lst)"
   ]
  },
  {
   "cell_type": "markdown",
   "metadata": {},
   "source": [
    "Gutes Beispiel mit einem Tuple:"
   ]
  },
  {
   "cell_type": "code",
   "execution_count": null,
   "metadata": {},
   "outputs": [],
   "source": [
    "chances = (2.3, 6.7, 1.09, 4.22, 2.83)\n",
    "\n",
    "chances_lst = list(chances)\n",
    "\n",
    "print(chances_lst)"
   ]
  },
  {
   "cell_type": "markdown",
   "metadata": {},
   "source": [
    "<div class=\"alert alert-block alert-warning\">\n",
    "    <font size=\"3\"><b>Übung 1 zu den bisherigen built-in Funktions:</b></font>  \n",
    "<br>\n",
    "\n",
    "**a)** Erstelle eine Liste aus dem gegebenen Set.  \n",
    "\n",
    "**b)** Gib die Liste zur Überprüfung aus.  \n",
    "\n",
    "**c)** Wie viele Einträge hat die Liste?\n",
    "</div>"
   ]
  },
  {
   "cell_type": "code",
   "execution_count": null,
   "metadata": {},
   "outputs": [],
   "source": [
    "# a) und b)\n",
    "\n",
    "planets = {'Earth', 'Mars', 'Jupiter', 'Venus', 'Saturn', 'Neptune', 'Mercury', 'Uranus', 'Pluto not :('}\n",
    "\n"
   ]
  },
  {
   "cell_type": "code",
   "execution_count": null,
   "metadata": {},
   "outputs": [],
   "source": [
    "# c)\n",
    "\n"
   ]
  },
  {
   "cell_type": "markdown",
   "metadata": {},
   "source": [
    "### f) zip() zum Erstellen einer Liste aus mehreren iterierbaren Objekten\n",
    "\n",
    "Du kennst wahrscheinlich Zip-Archive/-Dateien. In ihnen werden Dateien komprimiert zusammengefasst.  \n",
    "Etwas Ähnliches macht die Funktion ``zip()``: Sie fasst mehrere Datenstrukturen in einer zusammen.  \n",
    "\n",
    "Syntax: <font color = green>zip(*iterables)</font>  \n",
    "\n",
    "Das Sternchen steht hier für beliebig viele iterierbare Objekte. Diese werden in den Funktionsklammern mit einem Komma getrennt. \n",
    "\n",
    "Der Rückgabewert von ``zip()`` ist ein <b>zip object</b>. Um dieses Zip-Objekt in eine List zu verwandeln, ist die Funktion ``list()`` einzusetzen. Beispiel:\n"
   ]
  },
  {
   "cell_type": "code",
   "execution_count": null,
   "metadata": {},
   "outputs": [],
   "source": [
    "lst1 = ['A', 'B', 'C']\n",
    "\n",
    "lst2 = ['D', 'E', 'F']\n",
    "\n",
    "combined = zip(lst1, lst2)\n",
    "\n",
    "\n",
    "print(combined)"
   ]
  },
  {
   "cell_type": "code",
   "execution_count": null,
   "metadata": {},
   "outputs": [],
   "source": [
    "lst_combined = list(combined)\n",
    "\n",
    "\n",
    "print(lst_combined)"
   ]
  },
  {
   "cell_type": "markdown",
   "metadata": {},
   "source": [
    "Beide Schritte in den jeweiligen oberen Code-Zellen können auch mit ``zip()`` und ``list()`` kombiniert werden:"
   ]
  },
  {
   "cell_type": "code",
   "execution_count": null,
   "metadata": {},
   "outputs": [],
   "source": [
    "lst1 = ['A', 'B', 'C']\n",
    "\n",
    "lst2 = ['D', 'E', 'F']\n",
    "\n",
    "lst_combined = list(zip(lst1, lst2))\n",
    "\n",
    "\n",
    "print(lst_combined)"
   ]
  },
  {
   "cell_type": "markdown",
   "metadata": {},
   "source": [
    "Dabei werden jeweils die ersten, dann die zweiten, dann die dritten Listeneinträge usw. als Tuple zusammengefasst. Diese Tuples bilden dann die einzelnen Listeneinträge.  \n",
    "\n",
    "Hättest du drei Listen über ``zip()`` zusammengefasst, hätte jedes Tuple drei Werte.  \n",
    "\n",
    "**Per default erstellt ``zip()`` aus mehreren Iterables zusammengefasst Tuples, die die einzelnen Einträge in der neuen Datenstruktur bilden. Wird ``zip()`` nur ein Argument übergeben, z.B. nur eine Liste, wird diese Liste als Liste mit einwertigen Tuples als Einträgen zusammengefasst.**  \n",
    "\n",
    "Beispiel:"
   ]
  },
  {
   "cell_type": "code",
   "execution_count": null,
   "metadata": {},
   "outputs": [],
   "source": [
    "nums = [1, 2, 3]\n",
    "\n",
    "new_numslst = list(zip(nums))\n",
    "\n",
    "\n",
    "print(new_numslst)"
   ]
  },
  {
   "cell_type": "markdown",
   "metadata": {},
   "source": [
    "Du kannst auch eine Liste Liste aus Tuples unzippen.  \n",
    "\n",
    "Syntax: <font color = green>zip(*iterable)</font>  \n",
    "\n",
    "Hier siehst du noch einmal, wie 2 Listen zu einer zusammengezipt werden:"
   ]
  },
  {
   "cell_type": "code",
   "execution_count": null,
   "metadata": {},
   "outputs": [],
   "source": [
    "lst1 = ['A', 'B', 'C']\n",
    "\n",
    "lst2 = ['D', 'E', 'F']\n",
    "\n",
    "lst_combined = list(zip(lst1, lst2))\n",
    "\n",
    "\n",
    "print(lst_combined)"
   ]
  },
  {
   "cell_type": "markdown",
   "metadata": {},
   "source": [
    "Mit einem Asterisk vor dem Iterable in den Funktionsklammern werden die Werte der kombinierten Listen wieder getrennt:"
   ]
  },
  {
   "cell_type": "code",
   "execution_count": null,
   "metadata": {},
   "outputs": [],
   "source": [
    "lst = [('A', 'D'), ('B', 'E'), ('C', 'F')]\n",
    "\n",
    "lst_unzipped = list(zip(*lst))\n",
    "\n",
    "print(lst_unzipped)"
   ]
  },
  {
   "cell_type": "markdown",
   "metadata": {},
   "source": [
    "Wichtig zu beachten ist, dass du auch wieder einen Datentyp für das Ergebnis des Unzip-Vorgangs angeben musst, wie mit ``list()``. Außerdem besteht das Ergebnis nicht aus zwei getrennten Listen, lediglich die Tuple sind getrennt in einer gemeinsamen Liste.  \n",
    "<br>\n",
    "\n",
    "### g) sorted() zum Sortieren\n",
    "\n",
    "Die Funktion ``sorted()`` <font color = red>ist nicht zu verwechseln mit der Funktion</font> ``.sort()``.  \n",
    "\n",
    "Beide Funktionen sortieren Objekte in alphabetischer und numerischer Reihenfolge.  \n",
    "\n",
    "Die default Einstellung (Voreinstellung) beider Funktionen sortiert in aufsteigender Reihenfolge (engl.: **ascending Order**), von niedrig zu hoch.\n",
    "\n",
    "Doch ``sorted()`` überschreibt nicht das zu sortierende Objekt:"
   ]
  },
  {
   "cell_type": "code",
   "execution_count": null,
   "metadata": {},
   "outputs": [],
   "source": [
    "ice_creamlst = ['Vanilla', 'Chocolate', 'Strawberry', 'Lime', 'Hazelnut']\n",
    "\n",
    "sorted(ice_creamlst)\n",
    "\n",
    "# beim Ausgeben erscheint nicht die sortierte Liste\n",
    "print(ice_creamlst)"
   ]
  },
  {
   "cell_type": "markdown",
   "metadata": {},
   "source": [
    "Wenn wir eine neue Variable für die sortierte Liste anlegen, ist das sortierte Ergebnis in ihr gespeichert, doch die **Original-Liste bleibt erhalten**:"
   ]
  },
  {
   "cell_type": "code",
   "execution_count": null,
   "metadata": {},
   "outputs": [],
   "source": [
    "icecreamlst_sorted = sorted(ice_creamlst)\n",
    "\n",
    "print(icecreamlst_sorted)"
   ]
  },
  {
   "cell_type": "code",
   "execution_count": null,
   "metadata": {},
   "outputs": [],
   "source": [
    "print(ice_creamlst)"
   ]
  },
  {
   "cell_type": "markdown",
   "metadata": {},
   "source": [
    "**``.sort()`` hingegen überschreibt das Original**. Man nennt das auch \"<b>in-place</b>\" - auf der Stelle. Die Objekte werden an Ort und Stelle überschrieben, womit ihre Speicheradresse gemeint ist. Die Überschreibung erfolgt auf dem gleichen Speicherplatz (sonst wäre es eine Neu-Speicherung/Neu-Schreibung). Das macht ``.sort()`` gleichzeitig etwas effizienter bei der Arbeit mit Listen, doch genau deshalb ist es auch mit Vorsicht zu genießen.  \n",
    "\n",
    "<div class=\"alert alert-block alert-info\">\n",
    "    <font size=\"3\"><b>Tipp:</b></font> Alles in Python, jede Variable, jede Funktion, einfach alles ist ein Objekt. Jedes Objekt hat eine Speicheradresse. Objekte auf der gleichen Speicheradresse sind abhängig voneinander und beeinflussen sich gegenseitig.\n",
    "</div>\n",
    "<br>\n",
    "\n",
    "\n",
    "\n",
    "Beispiel für die Überschreibung der Originallise durch ``.sort()``:"
   ]
  },
  {
   "cell_type": "code",
   "execution_count": null,
   "metadata": {},
   "outputs": [],
   "source": [
    "ice_creamlst = ['Vanilla', 'Chocolate', 'Strawberry', 'Lime', 'Hazelnut']\n",
    "\n",
    "ice_creamlst.sort()\n",
    "\n",
    "print(ice_creamlst)"
   ]
  },
  {
   "cell_type": "markdown",
   "metadata": {},
   "source": [
    "**Das Ergebnis von ``.sort()`` einer neuen Variable zuzuweisen, ändert nichts an der Überschreibung und ist sogar falsch:**"
   ]
  },
  {
   "cell_type": "code",
   "execution_count": null,
   "metadata": {},
   "outputs": [],
   "source": [
    "ice_creamlst = ['Vanilla', 'Chocolate', 'Strawberry', 'Lime', 'Hazelnut']\n",
    "\n",
    "icecreamlst_sort = ice_creamlst.sort()\n",
    "\n",
    "print(icecreamlst_sort)"
   ]
  },
  {
   "cell_type": "markdown",
   "metadata": {},
   "source": [
    "Der Output einer sortierten Liste mit ``.sort()`` wird immer <b>None</b> sein. Denn ``.sort()`` sortiert Listen in-place, es schreibt keine neuen Listen. Es gibt die abgespeicherte, sortierte Liste <b>icecreamlst_sort</b> nämlich nicht, nur die überschriebene <b>ice_creamlst</b>. Der Speicherplatz für <b>icecreamlst_sort</b> wurde mit der Deklaration zwar reserviert, aber weil die sortierte Liste woanders, an ihrer Originaladresse gespeichert ist, ist auf dem neuen Speicherplatz nichts - None - abgelegt.  \n",
    "\n",
    "Es gibt nur die sortierte Originalliste:"
   ]
  },
  {
   "cell_type": "code",
   "execution_count": null,
   "metadata": {},
   "outputs": [],
   "source": [
    "print(ice_creamlst)"
   ]
  },
  {
   "cell_type": "markdown",
   "metadata": {},
   "source": [
    "**Auch in der Syntax unterscheiden sich beide Funktionen voneinander:**\n",
    "\n",
    "Syntax von ``sorted()``: <font color = green>sorted(iterierbaresObjekt)</font>  \n",
    "\n",
    "Syntax von ``.sort()``: <font color = green>liste.sort()</font>  \n",
    "<br>\n",
    "Und das sind noch nicht alle Unterschiede. **``sorted()`` kann auf alle iterierbaren Objekte angewendet werden, ``.sort()`` hingegen nur auf Listen.**  \n",
    "\n",
    "**Mit ``sorted()`` ist der Rückgabewert stets eine Liste.**  \n",
    "\n",
    "``.sort()`` erzeugt keinen neuen Rückgabewert, sondern überschreibt die gegebene Liste.\n",
    "\n",
    "So wird mit ``sorted()`` aus einem Set eine sortierte Liste:"
   ]
  },
  {
   "cell_type": "code",
   "execution_count": null,
   "metadata": {},
   "outputs": [],
   "source": [
    "icecream_set = {'Vanilla', 'Chocolate', 'Strawberry', 'Lime', 'Hazelnut'}\n",
    "\n",
    "type(icecream_set)"
   ]
  },
  {
   "cell_type": "code",
   "execution_count": null,
   "metadata": {},
   "outputs": [],
   "source": [
    "icecream_set_tosortedlist = sorted(icecream_set)\n",
    "\n",
    "print(icecream_set_tosortedlist)"
   ]
  },
  {
   "cell_type": "code",
   "execution_count": null,
   "metadata": {},
   "outputs": [],
   "source": [
    "type(icecream_set_tosortedlist)"
   ]
  },
  {
   "cell_type": "markdown",
   "metadata": {},
   "source": [
    "Eine weitere **Gemeinsamkeit** liegt darin, dass beide Funktionen **Werte unterschiedlicher Datentypen nicht vergleichen und somit nicht sortieren** können. Floats und Integers können sie vergleichen:"
   ]
  },
  {
   "cell_type": "code",
   "execution_count": null,
   "metadata": {},
   "outputs": [],
   "source": [
    "lst = [3.5, 3, 7.9]\n",
    "\n",
    "print(sorted(lst))"
   ]
  },
  {
   "cell_type": "markdown",
   "metadata": {},
   "source": [
    "Doch sobald ein nicht numerischer Datentyp hinzukommt, kommt es zu einem Datentypfehler:"
   ]
  },
  {
   "cell_type": "code",
   "execution_count": null,
   "metadata": {},
   "outputs": [],
   "source": [
    "lst = [3.5, 3, 7.9, 'String']\n",
    "\n",
    "print(sorted(lst))"
   ]
  },
  {
   "cell_type": "markdown",
   "metadata": {},
   "source": [
    "Ein weiterer Unterschied ist, dass **``sorted()`` die ursprüngliche Anordnung gleicher Elemente beibehält**, während sie **bei ``.sort()`` möglicherweise geändert** wird.  \n",
    "\n",
    ">Wie Werte einer Reihe sortiert werden, wird von einem Algorithmus, einer schematischen Rechnung bestimmt. Die Werte werden miteinander in bestimmter Reihenfolge verglichen, ihre Plätze in der Reihe werden nach links oder rechts vertauscht, eventuell werden sie auch gruppiert und dann in Gruppen verglichen. Das alles wird von dem Algorithmus bestimmt.\n",
    "\n",
    "Einen Algorithmus, wie er ``sorted()`` zugrunde liegt, der eine stabile Ordnung gewährleistet, nennt man auch einen \"<b>stable sorting Algorithm</b>\". \n",
    "\n",
    "Mit ``.sort()`` kann die Reihenfolge gleicher Elemente erhalten bleiben, aber sie muss es nicht. Es gibt keine Garantie dafür. Deshalb liegt hinter ``.sort()`` ein \"<b>unstable sorting Algorithm</b>\" - ein instabiler Sortieralgorithmus.\n",
    "\n",
    "Erhaltene Reihenfolge gleicher Elemente mit ``sorted()``:"
   ]
  },
  {
   "cell_type": "code",
   "execution_count": null,
   "metadata": {},
   "outputs": [],
   "source": [
    "falsy_lst = [0, False, 0, False, 0, 0, False, 0, 0, 0, False, False]\n",
    "\n",
    "falsylst_sorted = sorted(falsy_lst)\n",
    "\n",
    "print(falsylst_sorted)"
   ]
  },
  {
   "cell_type": "markdown",
   "metadata": {},
   "source": [
    "All diese Werte sind falsy, ihr Vergleich bezüglich Rangordnung ergibt also in jedem Fall ein Unentschieden. Doch ihre Position verändert sich nicht.\n",
    "\n",
    "#### Die Problematik von instabilen Sortieralgorithmen\n",
    "\n",
    "Auf den ersten Blick scheint es, als machte es keinen Unterschied, ob die Reihenfolge gleicher Elemente erhalten bleibt oder nicht.  \n",
    "\n",
    "Doch folgendes Beispiel zeigt die Gefahr. Nehmen wir dieses Dictionary, bestehend aus BankkundInnennamen und deren Guthaben, das aufsteigend nach Guthaben sortiert werden soll:"
   ]
  },
  {
   "cell_type": "code",
   "execution_count": null,
   "metadata": {},
   "outputs": [],
   "source": [
    "cust_credit_dict = {'Tara Bell': 14999, 'Mohammed Yildiz': 14999, 'Olivia Amor': 14999}\n",
    "\n",
    "for val in sorted(cust_credit_dict, key=cust_credit_dict.get):\n",
    "    print(val, cust_credit_dict[val])"
   ]
  },
  {
   "cell_type": "markdown",
   "metadata": {},
   "source": [
    "Um den For-Loop soll es hier noch nicht gehen, aber wenn du genau hinsiehst, steht <b>val</b> für value, also die Werte des Dictionarys, nicht seine Schlüssel (die Namen). Nach denen wird es mit ``sorted()`` sortiert.  \n",
    "\n",
    "An der Ausgabe kannst du erkennen, dass die ursprüngliche Ordnung des Dictionarys erhalten geblieben ist, trotz gleicher Guthaben der KundInnen. Nun stell dir vor, man könnte sich darauf nicht verlassen! Dann würde mal eben ein Konto mit dem anderen getauscht werden. Bei Olivias nächster Einzahlung gingen ihre 1000 Euro dann auf eines der anderen Konten!  \n",
    "Und dieses Beispiel ist noch einigermaßen harmlos. Es sind schon tödliche Unfälle durch selbstfahrende Autos und wirtschaftliche Katastrophen wegen derartigem passiert.  \n",
    "\n",
    "**Unvorhersehbarer Code ist deshalb zu vermeiden!**  \n",
    "\n",
    "Das heißt aber nicht, dass ``.sort()`` keine Daseinsberechtigung hätte, besonders wegen seiner Effizienz. Es spart Zeit, keine neue Liste erschaffen zu müssen und die Liste an Ort und Stelle zu ersetzen. Man muss sich anhand der Anforderungen genau überlegen, ob es besser wäre ``sorted()`` oder ``.sort()`` einzusetzen.  \n",
    "\n",
    "<div class=\"alert alert-block alert-warning\">\n",
    "    <font size=\"3\"><b>Übung 2 zu den bisherigen built-in Funktions:</b></font>  \n",
    "<br>\n",
    "    \n",
    "Für Aufgabe b) gibt es 3 Tipps weiter unten.\n",
    "\n",
    "**a)** Ermittle den niedrigsten Wert der Liste mit einer in dieser Einheit vorgestellten Funktionen.  \n",
    "\n",
    "**b)** Welche Möglichkeit gibt es noch, den niedrigsten Wert der Liste zu ermitteln? Gib den niedrigsten Wert auf diese andere Weise aus.\n",
    "</div>"
   ]
  },
  {
   "cell_type": "code",
   "execution_count": null,
   "metadata": {},
   "outputs": [],
   "source": [
    "# a)\n",
    "\n",
    "nums = [55, 33, 88, 77]\n",
    "\n"
   ]
  },
  {
   "cell_type": "code",
   "execution_count": null,
   "metadata": {},
   "outputs": [],
   "source": [
    "# b)\n",
    "\n"
   ]
  },
  {
   "cell_type": "markdown",
   "metadata": {},
   "source": [
    "<div class=\"alert alert-block alert-warning\">\n",
    "    <font size=\"3\"><b>Tipp 1 zur Lösung der Aufgabe b):</b></font> Du brauchst dafür 2 Schritte.\n",
    "</div>"
   ]
  },
  {
   "cell_type": "markdown",
   "metadata": {},
   "source": [
    "<div class=\"alert alert-block alert-warning\">\n",
    "    <font size=\"3\"><b>Tipp 2 zur Lösung der Aufgabe b):</b></font> Wie wird eine Liste per default sortiert?\n",
    "</div>"
   ]
  },
  {
   "cell_type": "markdown",
   "metadata": {},
   "source": [
    "<div class=\"alert alert-block alert-warning\">\n",
    "    <font size=\"3\"><b>Tipp 3 zur Lösung der Aufgabe b):</b></font> An welcher Stelle befindet sich demzufolge der niedrigste Wert?\n",
    "</div>"
   ]
  },
  {
   "cell_type": "markdown",
   "metadata": {},
   "source": [
    "#### Innerhalb von ``sorted()`` können zusätzliche Funktionen an dem iterierbaren Objekt angegeben werden.  \n",
    "\n",
    "Im nächsten Beispiel, da ``sorted()`` sonst aus jedem einzelnen Zeichen jeweils einen einzelnen Listeneintrag kreieren würde, wird der String zuvor an den Trennzeichen der Namen (Komma und Leerzeichen) gesplittet:"
   ]
  },
  {
   "cell_type": "code",
   "execution_count": null,
   "metadata": {},
   "outputs": [],
   "source": [
    "pets = 'Kasimir Ratte, Freddy Fisch, Kathi Katze, Mehrdad Meerschwein, Bella Hund'\n",
    "\n",
    "pets_sorted = sorted(pets.split(', '))\n",
    "\n",
    "print(pets_sorted)"
   ]
  },
  {
   "cell_type": "markdown",
   "metadata": {},
   "source": [
    "Damit können aus Wörtern in Strings bereits sortierte Listeneinträge erstellt werden.  \n",
    "\n",
    "Mit ``.sort()`` funktioniert das nicht so, wie du in der kommenden Einheit sehen wirst.   \n",
    "\n",
    "Nun, da du die fundamentalen Unterschiede zwischen beiden Funktionen kennst, wenden wir uns den Feinheiten von ``sorted()`` zu. Auf ``.sort()`` gehen wir im Punkt \"3.4.4 Spezielle List-Funktionen\" detailliert ein. Vorgegriffen sei gesagt, dass die hier vorgestellten Feinheiten ebenso für ``.sort()`` gelten.\n",
    "\n",
    "#### Die zusätzlichen Parameter reverse und key\n",
    "\n",
    "Die dir bisher bekannte Syntax von ``sorted()`` kann um zwei Parameter erweitert werden.\n",
    "\n",
    "Default Syntax: <font color = green>sorted(iterierbaresObjekt, key=None, reverse=False)</font>  \n",
    "\n",
    "**key:** Hierunter kann man eine Funktion eintragen, nach der sortiert wird.  \n",
    "\n",
    "**reverse:** Mit dem Wert True wird das iterierbare Objekt in umgedrehter Reihenfolge sortiert (absteigend, engl.: **descending**). Per default (False) wird es in aufsteigender Reihenfolge sortiert.\n",
    "\n",
    "**Beispiele zu key**\n",
    "\n",
    "1) Sortierung von Strings nach Wortlänge:"
   ]
  },
  {
   "cell_type": "code",
   "execution_count": null,
   "metadata": {},
   "outputs": [],
   "source": [
    "icecream = ['Vanilla', 'Chocolate', 'Strawberry', 'Lime', 'Hazelnut']\n",
    "\n",
    "icecream_sortedbylength = sorted(icecream, key=len)\n",
    "\n",
    "print(icecream_sortedbylength)"
   ]
  },
  {
   "cell_type": "markdown",
   "metadata": {},
   "source": [
    "Beachte, dass die Funktionsklammern von ``len()`` nicht eingetragen werden. Die Funktion wird von Python anhand ihres reservierten Namens \"len\" erkannt.  \n",
    "\n",
    "2) Sortierung von Strings entsprechend ihrer Anfangsbuchstaben:"
   ]
  },
  {
   "cell_type": "code",
   "execution_count": null,
   "metadata": {},
   "outputs": [],
   "source": [
    "customers = ['Koscak kosmo', 'Schmidt Rocky', 'Jäckle Jacqueline ', 'kartoffel karl', 'sauer sarah ', 'jenke jenny']\n",
    "\n",
    "customers_sorted = sorted(customers, key=str.lower)\n",
    "\n",
    "print(customers_sorted)"
   ]
  },
  {
   "cell_type": "markdown",
   "metadata": {},
   "source": [
    "Die Kundennamen in <b>customers</b> sind nicht einheitlich hinterlegt. Sie beginnen mit Groß- oder Kleinbuchstaben. Mithilfe der Funktion ``lower()``, die hier mit <b>str.lower</b> eingetragen wird, werden alle Namen vor dem Vergleich in Kleinbuchstaben umgewandelt und die Sortierung kann ordnungsgemäß vonstatten gehen.  \n",
    "\n",
    "Für dich zum Vergleich die Sortierung ohne die zusätzliche Key- und Funktionsangabe:"
   ]
  },
  {
   "cell_type": "code",
   "execution_count": null,
   "metadata": {},
   "outputs": [],
   "source": [
    "customers = ['Koscak kosmo', 'Schmidt Rocky', 'Jäckle Jacqueline ', 'kartoffel karl', 'sauer sarah ', 'jenke jenny']\n",
    "\n",
    "customers_sorted = sorted(customers)\n",
    "\n",
    "print(customers_sorted)"
   ]
  },
  {
   "cell_type": "markdown",
   "metadata": {},
   "source": [
    "Die Werte wurden erst nach Großbuchstaben sortiert, dann nach Kleinbuchstaben. Alphabetisch ist die Sortierung schiefgelaufen.  \n",
    "\n",
    "<div class=\"alert alert-block alert-info\">\n",
    "    <font size=\"3\"><b>Tipp:</b></font> Diese Funktion kannst du gut nutzen, wenn z.B. UserInnen und/oder Kollegen Daten nicht einheitlich in Groß-/Kleinbuchstaben angegeben haben. Mit der oben gezeigten Umwandlung ist eine Sortierung ohne manuelles Umschreiben trotzdem möglich.\n",
    "</div>\n",
    "<br>\n",
    "\n",
    "Du kannst noch viele weitere Funktionen unter <b>key</b> eintragen, auch selbst definierte!  \n",
    "\n",
    "**Beispiele zu reverse**\n",
    "\n",
    "1) Umgedrehte Sortierung von Strings:"
   ]
  },
  {
   "cell_type": "code",
   "execution_count": null,
   "metadata": {},
   "outputs": [],
   "source": [
    "icecream = ['Vanilla', 'Chocolate', 'Strawberry', 'Lime', 'Hazelnut']\n",
    "\n",
    "icecream_sorted = sorted(icecream, reverse=True)\n",
    "\n",
    "print(icecream_sorted)"
   ]
  },
  {
   "cell_type": "markdown",
   "metadata": {},
   "source": [
    "Indem <b>reverse</b> auf <b>True</b> gesetzt wird, wird das iterierbare Objekt rückwärts (= reverse) sortiert.  \n",
    "\n",
    "<b>key</b> und <b>reverse</b> können zusammen und <b>in genau dieser Reihenfolge</b> angegeben werden.\n",
    "\n",
    "2) Umgedrehte Sortierung von Strings nach Wortlänge:"
   ]
  },
  {
   "cell_type": "code",
   "execution_count": null,
   "metadata": {},
   "outputs": [],
   "source": [
    "icecream = ['Vanilla', 'Chocolate', 'Strawberry', 'Lime', 'Hazelnut']\n",
    "\n",
    "icecream_sortedbylength = sorted(icecream, key=len, reverse=True)\n",
    "\n",
    "print(icecream_sortedbylength)"
   ]
  },
  {
   "cell_type": "markdown",
   "metadata": {},
   "source": [
    "Auch die Customer-Liste aus dem Beispiel 2) zu key kann mit <b>reverse=True</b> umgedreht werden:"
   ]
  },
  {
   "cell_type": "code",
   "execution_count": null,
   "metadata": {},
   "outputs": [],
   "source": [
    "customers = ['Koscak kosmo', 'Schmidt Rocky', 'Jacqueline Jäckle', 'karl kartoffel', 'sauer sarah', 'jenke jenny']\n",
    "\n",
    "customers_sorted = sorted(customers, key=str.lower, reverse=True)\n",
    "\n",
    "print(customers_sorted)"
   ]
  },
  {
   "cell_type": "markdown",
   "metadata": {},
   "source": [
    "**Erinnerst du dich an die Syntax zum Splitten von Strings und Listen?**  \n",
    "\n",
    "Wiederholung der Syntax: <font color = green>[start:stop:step]</font>   \n",
    "\n",
    "Mit einem Step von -1 wird die Liste/der String umgedreht.\n",
    "\n",
    "<b>reverse=True</b> ist äquivalent zu <b>example_list[::-1]</b>\n",
    "\n",
    "In Bezug auf Beispiel 2) sähe die Umdrehung mit <b>[::-1]</b> so aus:"
   ]
  },
  {
   "cell_type": "code",
   "execution_count": null,
   "metadata": {},
   "outputs": [],
   "source": [
    "customers = ['Koscak kosmo', 'Schmidt Rocky', 'Jacqueline Jäckle', 'karl kartoffel', 'sauer sarah', 'jenke jenny']\n",
    "\n",
    "customers_sorted = sorted(customers, key=str.lower)\n",
    "\n",
    "customers_sorted = customers_sorted[::-1]\n",
    "\n",
    "print(customers_sorted)"
   ]
  },
  {
   "cell_type": "markdown",
   "metadata": {},
   "source": [
    "Noch kompakter kann das so geschrieben werden:"
   ]
  },
  {
   "cell_type": "code",
   "execution_count": null,
   "metadata": {},
   "outputs": [],
   "source": [
    "customers = ['Koscak kosmo', 'Schmidt Rocky', 'Jacqueline Jäckle', 'karl kartoffel', 'sauer sarah', 'jenke jenny']\n",
    "\n",
    "customers_sorted = sorted(customers, key=str.lower)[::-1]\n",
    "\n",
    "print(customers_sorted)"
   ]
  },
  {
   "cell_type": "markdown",
   "metadata": {},
   "source": [
    "1) Zuerst wird auf die Liste **customers** die Funktion ``sorted()`` mit **key** angewendet.  \n",
    "2) Anschließend wird die sortierte Liste rückwärts gegliedert.  \n",
    "<br>\n",
    "\n",
    "**Wird die Slice-Notation direkt an die Liste geschrieben, wird sie zuerst auf die Liste angewendet, bevor die Funktion ``sorted()`` zum Einsatz kommt.**  \n",
    "\n",
    "Der Ablauf und folglich das Ergebnis ändern sich:\n",
    "\n",
    "1) Die Liste **customers** wird rückwärts gegliedert.  \n",
    "2) Diese rückwärts gegliederte Liste  wird mit ``sorted()`` und **key** aufsteigend sortiert (siehe die folgende Code-Zelle).  \n"
   ]
  },
  {
   "cell_type": "code",
   "execution_count": null,
   "metadata": {},
   "outputs": [],
   "source": [
    "customers = ['Koscak kosmo', 'Schmidt Rocky', 'Jacqueline Jäckle', 'karl kartoffel', 'sauer sarah', 'jenke jenny']\n",
    "\n",
    "customers_sorted = sorted(customers[::-1], key=str.lower)\n",
    "\n",
    "print(customers_sorted)"
   ]
  },
  {
   "cell_type": "markdown",
   "metadata": {},
   "source": [
    "Es gibt noch viele weitere built-in Functions, die für verschiedene Datentypen verwendet werden können.  \n",
    "\n",
    "Einen Überblick und nähere Erklärungen zu ihnen findest du hier in der Python-Dokumentation zu built-in Functions: https://docs.python.org/3/library/functions.html  \n",
    "\n",
    "Du kannst auch die **Python-interne Hilfe mit einem Fragezeichen aufrufen**, wenn du wissen möchtest, was eine Funktion alles kann und welche Parameter sie hat:"
   ]
  },
  {
   "cell_type": "code",
   "execution_count": null,
   "metadata": {},
   "outputs": [],
   "source": [
    "sorted?"
   ]
  },
  {
   "cell_type": "markdown",
   "metadata": {},
   "source": [
    "Wichtig ist dabei, die Funktion ohne Funktionsklammern zu schreiben.  \n",
    "\n",
    "Funktionen wie ``.sort()``, die Objekten angeängt werden, sind für den Aufruf der Hilfe anders zu schreiben (mit ihrer zugehörigen Datenstruktur):"
   ]
  },
  {
   "cell_type": "code",
   "execution_count": null,
   "metadata": {},
   "outputs": [],
   "source": [
    "list.sort?"
   ]
  },
  {
   "cell_type": "markdown",
   "metadata": {},
   "source": [
    "Eine andere Python-interne Hilfe kann so aufgerufen werden:"
   ]
  },
  {
   "cell_type": "code",
   "execution_count": null,
   "metadata": {},
   "outputs": [],
   "source": [
    "help(list.sort)"
   ]
  },
  {
   "cell_type": "markdown",
   "metadata": {},
   "source": [
    "Bei weiteren Fragen findest du gute Erklärungen in der offiziellen Python-Dokumentation: https://docs.python.org/3/  \n",
    "<br>\n",
    "\n",
    "### h) del (Statement) zum Löschen von Objekten\n",
    "\n",
    "``del`` ist keine Funktion, sondern ein Statement bzw. wird es auch als Keyword bezeichnet.  \n",
    "\n",
    " Mit ``del`` können zuvor deklarierte Objekte aller Art gelöscht werden. Die Objekte müssen in einer Variable gespeichert sein, welche dann gelöscht wird. Beispiel:"
   ]
  },
  {
   "cell_type": "code",
   "execution_count": null,
   "metadata": {},
   "outputs": [],
   "source": [
    "lst = [1,2,3,4,5,6,7]\n",
    "\n",
    "del lst\n",
    "\n",
    "print(lst)"
   ]
  },
  {
   "cell_type": "markdown",
   "metadata": {},
   "source": [
    "<b>lst</b> existiert nicht mehr und so kommt es zu diesem <font color = darkred>NameError</font> beim Versuch, <b>lst</b> auszugeben.  \n",
    "\n",
    "Mit ``del`` kannst du auch Listeneinträge über Indexanwahl löschen:"
   ]
  },
  {
   "cell_type": "code",
   "execution_count": null,
   "metadata": {},
   "outputs": [],
   "source": [
    "colors = ['Rot', 'Grün', 'Blau', 'Orange', 'Lila', 'Gelb']\n",
    "\n",
    "del colors[0]\n",
    "\n",
    "print(colors)"
   ]
  },
  {
   "cell_type": "markdown",
   "metadata": {},
   "source": [
    "<div class=\"alert alert-block alert-warning\">\n",
    "    <font size=\"3\"><b>Übung 3 zu den bisherigen built-in Funktions:</b></font>  \n",
    "<br>\n",
    "    \n",
    "Du möchtest die Namen deiner Klienten aus einem String extrahieren. Zur Weiterverarbeitung brauchst du die Klienten auf bestimmte Weise sortiert und ausgelesen. \n",
    "\n",
    "**a)** Erstelle eine sortierte Liste, die die einzelnen Namen enthält. Du brauchst dafür zusätzlich eine String-Funktion. Diese kam in der aktuellen Einheit vor. Gib die Liste aus.\n",
    "\n",
    "**b)** Sortiere die Liste in absteigender Reihenfolge. Hierfür gibt es mehrere Möglichkeiten. Die letzten zwei Einträge der Liste sollten nun 'Kauschlitz' und 'Gelhaar' sein.  \n",
    "\n",
    "**c)** Du hast die Liste nun vom niedrigsten zum höchsten Wert sortiert. Du möchtest nun eine extra Liste für die zwei letzten Namen von A-Z, also in aufsteigender Reihenfolge anlegen. Extrahiere hierfür die letzten zwei Namen der Liste aus b) und sortiere sie in aufsteigender Reihenfolge - in einer Code-Zeile.\n",
    "\n",
    "**d)** Wandle die Liste aus b) für eine textuelle Weiterverarbeitung zurück in einen String. Die Funktion, die du dafür brauchst, hast du in Kapitel \"3.2.9 Die wichtigsten String-Funktionen\" kennengelernt.  \n",
    "\n",
    "Lass dir das Ergebnis jeder Teilaufgabe ausgeben.\n",
    "</div>"
   ]
  },
  {
   "cell_type": "code",
   "execution_count": null,
   "metadata": {},
   "outputs": [],
   "source": [
    "# a)\n",
    "\n",
    "customers = 'Lammbein Gelhaar Zwiebel Sorgenfrei Kauschlitz'\n",
    "\n"
   ]
  },
  {
   "cell_type": "code",
   "execution_count": null,
   "metadata": {},
   "outputs": [],
   "source": [
    "# b) \n",
    "\n"
   ]
  },
  {
   "cell_type": "code",
   "execution_count": null,
   "metadata": {},
   "outputs": [],
   "source": [
    "# c)\n",
    "\n"
   ]
  },
  {
   "cell_type": "code",
   "execution_count": null,
   "metadata": {},
   "outputs": [],
   "source": [
    "# d)\n",
    "\n"
   ]
  },
  {
   "cell_type": "markdown",
   "metadata": {},
   "source": [
    "<div class=\"alert alert-block alert-success\">\n",
    "<b>Super!</b> Nun kennst du die wichtigsten built-in Functions für iterierbare Objekte.  \n",
    "\n",
    "Du hast gelernt, was iterierbare Objekte sind und bist sogar noch weiteren Collection-Typen begegnet.  \n",
    "\n",
    "Du weißt, was ein stabiler Algorithmus und \"in-place\" bedeuten.\n",
    "\n",
    "Mit diesem Wissen kannst du Listen, andere Collection-Typen und Strings sortieren.\n",
    "\n",
    "Solltest du Schwierigkeiten mit den Übungen gehabt haben, geh diese Einheit noch einmal genau durch. Sieh dir eventuell das Kapitel 3.2 zu String-Funktionen noch einmal an, wiederhole eventuell das Splitten von Listen aus dem vorherigen Kapitel. Es sind gleichartige Beispiele in den genannten Einheiten vorhanden.\n",
    "    \n",
    "In der nächsten Einheit gehen wir auf spezielle Listenfunktionen ein - Funktionen, die nur auf Listen anzuwenden sind.\n",
    "</div>"
   ]
  },
  {
   "cell_type": "markdown",
   "metadata": {},
   "source": [
    "<div class=\"alert alert-block alert-info\">\n",
    "<h3>Das kannst du aus dieser Übung mitnehmen:</h3>\n",
    "<br>\n",
    "    \n",
    "* **iterierbare Objekte**\n",
    "    * sind alle Objekte, deren Werte nacheinander durchlaufen werden können\n",
    "    * zu ihnen gehören Strings und alle Datenstrukturen/Collection-Typen  \n",
    "<br>\n",
    "* **Funktionen für iterierbare Objekte**\n",
    "    * ``len()`` zur Ermittlung der Anzahl aller Elemente, z.B.: ``len([3,2,1])`` => Output: 3\n",
    "    * ``min()`` zur Ermittlung des niedrigsten Wertes eines Iterables, z.B.: ``min([3,2,1])`` => Output: 1\n",
    "        * hat 2 verschiedene Syntaxen (nicht mischbar) mit zusätzlichen, optionalen Parametern:\n",
    "            * Syntax 1: <font color = green>min(iterable, default=object, key=None)</font>\n",
    "                * <b>default</b>: ruft ein Objekt auf, wenn die übergebene Liste leer ist - ohne default: <font color = darkred>ValueError</font>\n",
    "                * <b>key</b>: vergleicht die Werte auf ihr Minimum hin anhand der übergebenen Funktion\n",
    "            * Syntax 2: <font color = green>min(arg1, arg2, *args,  key=None)</font>\n",
    "                * <b>arg/args</b>: 2 oder beliebig viele Iterables werden auf ihr Minimum hin verglichen\n",
    "                * <b>key</b>: siehe die Beschreibung zu key in Syntax 1\n",
    "                * Rückgabewert ist das gesamte Iterable, welches das Minimum enthält\n",
    "    * ``max()`` zur Ermittlung des höchsten Wertes, z.B.: ``max([3,2,1])`` => Output: 3\n",
    "        * auch ``max()`` hat 2 verschiedene Syntaxen, welche analog zu den 2 Syntaxen von ``min()`` funktionieren, nur das auf das Maximum hin verglichen wird\n",
    "    * ``iter()`` zur Umwandlung in einen Iterator, z.B.: ``iter([3,2,1])``\n",
    "        * in Kombination mit ``next()`` zum Nacheinander-Anwählen der Objekte, z.B.: ``next(iterator)``\n",
    "    * ``list()`` zur Erstellung einer Liste, z.B.: ``list('string')``\n",
    "    * ``zip()`` zur Vereinigung mehrerer Listen (oder anderen Datenstrukturen) zu einer neuen\n",
    "        * Syntax: <font color = green>zip(\\*iterables)</font> => beliebig viele (\\*) Iterables werden mit einem Komma in den Funktionsklammern getrennt\n",
    "        * die Einträge der vereinten Ergebnisliste bestehen aus Tupeln, die jeweils die ersten, dann die zweiten, dritten usw. Listeneinträge der einzelnen Listen vereinen\n",
    "        * für die Umwandlung zu einer Liste aus dem durch ``zip()`` entstandenen Zip-Objekt ist ``list()`` erforderlich\n",
    "        * Beispiel:\n",
    "            * ``lst1 = ['A', 'B', 'C']``\n",
    "            * ``lst2 = ['D', 'E', 'F']``\n",
    "            * ``lst_combined = list(zip(lst1, lst2))``\n",
    "            * Output über ``print(lst_combined)`` => [('A', 'D'), ('B', 'E'), ('C', 'F')]\n",
    "        * Unzippe die Tuple aus einer gezippten Liste (innerhalb einer Liste) mit Angabe des Asterisks (Sternchens) ``list(zip(*tuplelist))``\n",
    "    * ``sorted()`` zum Sortieren, z.B.: ``sorted([3,2,1])`` => Output: [1,2,3]\n",
    "        * sortiert in aufsteigender Reihenfolge - in **ascending Order**\n",
    "        * sortiert Iterables\n",
    "        * Rückgabewert ist immer eine Liste\n",
    "        * Syntax: <font color = green>sorted(iterierbaresObjekt, key=None, reverse=False)</font>\n",
    "        * Anwendung einer Funktion in ``sorted()``, z.B.: ``sorted(str.split())`` => splittet den String an seinen Leerezeichen und sortiert die einzelnen Wörter\n",
    "        * Anwendung einer Funktion mittels **key**, z.B.: ``sorted(iterable, key=len)`` => sortiert die Strings in der übergebenen Liste nach Länge\n",
    "        * Sortierung in absteigender Reihenfolge - in **descending Order** -  mit **reverse**, z.B.: ``sorted(iterable, reverse=True)``\n",
    "        * reverse=True entspricht [::-1]\n",
    "        * Sortierung nach Stringlänge und rückwärts, z.B.: ``sorted(iterable, key=len, reverse=True)``\n",
    "        * ``sorted()`` ist ein stabiler Sortieralgorithmus, der **nicht** in-place sortiert\n",
    "        * Werte müssen gleichen Datenyps sein, sonst ist kein Vergleich zum Sortieren möglich, doch Floats und Integers werden verglichen\n",
    "        * nicht zu verwechseln mit ``.sort()``, welches ein instabiler Sortieralgorithmus ist, der in-place sortiert und nur Listen sortieren kann\n",
    "    * ``del`` ist ein Statement/Keyword - keine Funktion - zum Löschen von deklarierten Objekten jeglicher Art, z.B.: ``del x``\n",
    "        * zum Löschen von Listeneinträgen an einem bestimmten Index, z.B.: ``del lst[0]`` => löscht den Eintrag an Index 0  \n",
    "<br>\n",
    "* **über Algorithmen**\n",
    "    * ein stabiler Sortier-Algorithmus behält die Anordnung gleicher Elemente bei\n",
    "    * ein in-place Algorithmus überschreibt das übergebene Objekt, z.B. eine Originalliste wird überschrieben  \n",
    "<br>\n",
    "* **Collection-Typen/Datenstrukturen neben List**        \n",
    "    * <b>Dictionary</b>\n",
    "        * Beispiel:\n",
    "            * ``dict_example = {'name': 'Ben Bender', 'Stadt': 'Berlin', 'Guthaben': 144.77}``         \n",
    "        * wie eine Liste kann ein Dictionary verschiedene Datentypen beinhalten\n",
    "        * wie eine Liste ist ein Dictionary beliebig kürz- und erweiterbar\n",
    "        * ein Dictionary hat keine festen Indize, die Keys übernehmen die Funktion der Indexierung \n",
    "        * es besteht aus Schlüssel-Wertepaaren - Key-Value-Paaren/Pairs\n",
    "        * der Schlüssel steht vor dem Doppelpunkt, der Wert danach\n",
    "        * z.B. ein Schlüssel ist 'Guthaben', sein Wert ist 144.77\n",
    "        * die Schlüssel/Keys sind unique: kein Schlüssel kommt doppelt vor\n",
    "        * damit kann man Kategorien (= die Schlüssel) anlegen und diese mit Werten befüllen\n",
    "        * die Key-Value-Paare werden mit einem Komma getrennt\n",
    "        * ein Dictionary wird mit geschweiften Klammern definiert, z.B. ein leeres Dictionary: ``di = {}``  \n",
    "    * <b>Tuple</b>    \n",
    "        * Beispiele:\n",
    "            * ``tupl_example1 = (1, 2, 3)``\n",
    "            * ``tupl_example2 = ('Hi', 3.7, 8, 27)``           \n",
    "        * wie eine Liste und ein Dictionary, kann ein Tuple (deutsch: Tupel) verschiedene Datentypen beinhalten\n",
    "        * im Gegensatz zu List und Dictionary ist ein Tuple unveränderlich - Werte können nicht ausgetauscht werden\n",
    "        * auch ein Tuple ist indexiert\n",
    "        * es wird genutzt, um Daten zu gruppieren\n",
    "        * die Daten/Werte werden mit einem Komma getrennt\n",
    "        * definiert wird es mit zwei runden Klammern, z.B. ein leeres Tuple: ``tupl = ()``  \n",
    "    * <b>Set</b>    \n",
    "        * Beispiele:     \n",
    "            * ``set_example1 = {2, 1, 3}``\n",
    "            * ``set_example2 = {'Hi', (1, 2, 3), 'Ho', [True, False]}``     \n",
    "        * wie die anderen Datenstrukturen kann ein Set verschiedene Datentypen beinhalten\n",
    "        * die Beispiele enthalten Integers, Strings, ein Tuple und eine Liste - alle Datentypen könnten vorkommen\n",
    "        * im Gegensatz zu den anderen Datenstrukturen (außer Dictionary-Keys) sind all seine Werte unique - kein Wert darf doppelt enthalten sein\n",
    "        * in Sets angelegte doppelte Werte werden von Python bei der Verarbeitung nicht berücksichtigt bzw. miteinander überschrieben\n",
    "        * ein Set ist nicht indexiert\n",
    "        * es wird eingesetzt, wenn man unique Werte braucht, die nicht geordnet sein müssen\n",
    "        * bei der Weiterverarbeitung wird die Einhaltung der Reihenfolge der Set-Elemente nicht gewährleistet - sie wird nicht erhalten bleiben\n",
    "        * Werte in einem Set werden auch mit einem Komma getrennt\n",
    "        * definiert wird es mit zwei geschweiften Klammern\n",
    "        * ein leeres Set wird über die Funktion ``set()`` definiert, z.B.: ``s = set()``    \n",
    "<br>\n",
    "* **Python-Hilfe**\n",
    "    * Aufruf mit **Fragezeichen und ohne Funktionsklammern**, z.B.: ``sorted?``\n",
    "    * bei built-in Functions der Collection-Types mit der zugehörigen Datenstruktur, z.B.: ``list.sort?``\n",
    "    * weitere Hilfe über **help**, z.B.: ``help(sorted)``\n",
    "    * die **offizielle Python-Dokumentation**: https://docs.python.org/3/\n",
    "</div>"
   ]
  }
 ],
 "metadata": {
  "kernelspec": {
   "display_name": "Python 3",
   "language": "python",
   "name": "python3"
  },
  "language_info": {
   "codemirror_mode": {
    "name": "ipython",
    "version": 3
   },
   "file_extension": ".py",
   "mimetype": "text/x-python",
   "name": "python",
   "nbconvert_exporter": "python",
   "pygments_lexer": "ipython3",
   "version": "3.7.3"
  }
 },
 "nbformat": 4,
 "nbformat_minor": 2
}
