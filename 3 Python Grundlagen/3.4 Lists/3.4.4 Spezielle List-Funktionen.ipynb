{
 "cells": [
  {
   "cell_type": "markdown",
   "metadata": {},
   "source": [
    "#  3.4 Lists\n",
    "\n",
    "## 3.4.4 Spezielle List-Funktionen\n",
    "\n",
    "Im Anschluss dieser Übungseinheit kannst du ...\n",
    "+ die wichtigsten List-Funktionen verstehen und anwenden\n",
    "+ Listen beliebig erweitern und kürzen\n",
    "+ Listeneinträge zählen und ihren Index finden"
   ]
  },
  {
   "cell_type": "markdown",
   "metadata": {},
   "source": [
    "## 3.4.4 Spezielle List-Funktionen\n",
    "\n",
    "Die im Folgenden vorgestellten Funktionen sind fast ausschließlich auf Listen und teils auf Strings anzuwenden.  \n",
    "<br>\n",
    "\n",
    "### a) .append() zum Hinzufügen von Elementen - inkl. Iterables - ans Listenende\n",
    "\n",
    "``.append()`` wird zum Hinzufügen von Werten, so auch Iterables (iterierbaren Objekten), ans Listenende eingesetzt. Beispiel:"
   ]
  },
  {
   "cell_type": "code",
   "execution_count": null,
   "metadata": {},
   "outputs": [],
   "source": [
    "lst = [2,4,6,8]\n",
    "\n",
    "lst.append(10)\n",
    "\n",
    "print(lst)"
   ]
  },
  {
   "cell_type": "markdown",
   "metadata": {},
   "source": [
    "Wie bei ``.sort()`` wird mit ``.append()`` die Liste auf der Stelle verändert. Und was kannst du daraus schließen?  \n",
    "\n",
    "``.append()`` muss eine in-place Funktion sein bzw. hinter ihr steht ein in-place Algorithmus.  \n",
    "Wenn du deine Augen offenhältst, kannst du also eigenständig in-place Funktionen/Algorithmen identifizieren.  \n",
    "\n",
    "**Das gilt für fast alle Beispiele zu in-place Funktionen in dieser Einheit (außer ``.copy()``):**  \n",
    "Weil die geänderten Listen in-place verändert werden, bringt es nichts, sie einer neuen Variable (wie <b>lst_ap</b>) zuzuweisen. Auf diesem Speicherplatz befindet sich nichts (None), nur auf dem Originalspeicherplatz:"
   ]
  },
  {
   "cell_type": "code",
   "execution_count": null,
   "metadata": {},
   "outputs": [],
   "source": [
    "lst = [2,4,6,8]\n",
    "\n",
    "lst_ap = lst.append(10)\n",
    "\n",
    "print(f'lst: {lst}')\n",
    "print(f'lst_ap: {lst_ap}')"
   ]
  },
  {
   "cell_type": "markdown",
   "metadata": {},
   "source": [
    "**Scrolle nur Stück für Stück nach unten. Lass dir zuerst selbst etwas zur unteren Fragestellung einfallen.**   \n",
    "<br>\n",
    "<br>\n",
    "\n",
    "**Hast du eine Idee, wie du auf andere Weise als mit .append() etwas an das Ende einer Liste hinzufügen kannst?** \n",
    "\n",
    "Bevor wir zur Lösung kommen, siehst du hier, wie du über das Anwählen eines Indizes diesem einen Wert zuweisen kannst. Hier wird der ursprüngliche Wert an Index 2 mit dem Wert 9 überschrieben:"
   ]
  },
  {
   "cell_type": "code",
   "execution_count": null,
   "metadata": {},
   "outputs": [],
   "source": [
    "lst = [2,4,6,8]\n",
    "\n",
    "lst[2] = 9\n",
    "\n",
    "print(lst)"
   ]
  },
  {
   "cell_type": "markdown",
   "metadata": {},
   "source": [
    "Überlege zuerst, wie du das Ende einer Liste ermitteln kannst, die so lang ist, dass du unmöglich die Indize abzählen kannst.  \n",
    "<br>\n",
    "<br>\n",
    "<br>\n",
    "<br>\n",
    "<br>\n",
    "<br>\n",
    "\n",
    "Du brauchst die Gesamtlänge der Liste:"
   ]
  },
  {
   "cell_type": "code",
   "execution_count": null,
   "metadata": {},
   "outputs": [],
   "source": [
    "lst = [2,4,6,8]\n",
    "\n",
    "len(lst)"
   ]
  },
  {
   "cell_type": "markdown",
   "metadata": {},
   "source": [
    "``len()`` gibt die Gesamtanzahl der Listenelemente an. Weil die Indexierung bei 0 beginnt, sind die Einträge also auf Index 0 bis Index 3 verteilt.  \n",
    "<br>\n",
    "\n",
    "Theoretisch könntest du also auch mit dem dir bekannten letzten Index einen Wert so an das Listenende anfügen.  \n",
    "<br>\n",
    "\n",
    "Überlege vor dem Ausführen der unteren Code-Zelle, was das Ergebnis sein wird und warum."
   ]
  },
  {
   "cell_type": "code",
   "execution_count": null,
   "metadata": {},
   "outputs": [],
   "source": [
    "lst = [2,4,6,8]\n",
    "\n",
    "# weil der letzte Index 3 ist, fügen wir etwas an Index 4 hinzu:\n",
    "lst[4] = 10\n",
    "\n",
    "print(lst)"
   ]
  },
  {
   "cell_type": "markdown",
   "metadata": {},
   "source": [
    "<br>\n",
    "<br>\n",
    "<br>\n",
    "<br>\n",
    "\n",
    "Mmmh, theoretisch würde es so funktionieren, aber nicht praktisch!  \n",
    "\n",
    "Doch es gibt einen Trick!  \n",
    "\n",
    "Wie könnte man die Indexanwahl noch schreiben?  \n",
    "<br>\n",
    "<br>\n",
    "\n",
    "Nutzen wir die Notation der Indexierung. Wir wollen etwas ab einem Index hinzufügen. Ab: lst[Listenende:&nbsp;]  \n",
    "\n",
    "Und dort soll der Wert 10 hin: lst[Listenende:&nbsp;] = 10  \n",
    "<br>\n",
    "Was denkst du, wird beim Ausführen dieser Code-Zelle passieren?  "
   ]
  },
  {
   "cell_type": "code",
   "execution_count": null,
   "metadata": {},
   "outputs": [],
   "source": [
    "# lst[Listenende: ] = 10\n",
    "\n",
    "lst[4:] = 10\n",
    "\n",
    "print(lst)"
   ]
  },
  {
   "cell_type": "markdown",
   "metadata": {},
   "source": [
    "<br>\n",
    "<br>\n",
    "<br>\n",
    "<br>\n",
    "\n",
    "Dieser Datentypfehler sagt: \"Es kann nur ein Iterable - ein iterierbares Objekt - zugewiesen werden.\"  \n",
    "\n",
    "Das bedeutet, die Herangehensweise stimmt, doch ein Integer ist eben kein iterierbares Objekt, sondern ein <b>Eigenwert</b>.  \n",
    "\n",
    "Machen wir einfach eins daraus, indem wir die 10 als eine Liste mit nur einem Eintrag übergeben.  \n",
    "<br>\n",
    "Was wird nun bei der Ausführung geschehen?"
   ]
  },
  {
   "cell_type": "code",
   "execution_count": null,
   "metadata": {},
   "outputs": [],
   "source": [
    "lst[4:] = [10]\n",
    "\n",
    "print(lst)"
   ]
  },
  {
   "cell_type": "markdown",
   "metadata": {},
   "source": [
    "<br>\n",
    "<br>\n",
    "<br>\n",
    "<br>\n",
    "\n",
    "Das klappt! Der <font color = darkred>IndexError</font> wird nicht mehr ausgelöst.  \n",
    "<br>\n",
    "\n",
    "In der Einheit 3.2.7 über String-Splittung hatten wir ein paar Beispiele dazu, dass über die Slice-Notation <b>[&nbsp;:&nbsp;]</b> keine Fehler ausgelöst werden, wenn ein angegebener Index über den Bereich der vorhandenen hinausgeht.  Beispiel 1:"
   ]
  },
  {
   "cell_type": "code",
   "execution_count": null,
   "metadata": {},
   "outputs": [],
   "source": [
    "lst = [0,1,2,3,4]\n",
    "\n",
    "print(lst[:222])"
   ]
  },
  {
   "cell_type": "markdown",
   "metadata": {},
   "source": [
    "Die (vorhandenen) Werte bis zum 221. Index sollten ausgegeben werden. Das wurden sie auch im Prinzip.  \n",
    "\n",
    "Beispiel 2:"
   ]
  },
  {
   "cell_type": "code",
   "execution_count": null,
   "metadata": {},
   "outputs": [],
   "source": [
    "lst = [0,1,2,3,4]\n",
    "\n",
    "print(lst[222:])"
   ]
  },
  {
   "cell_type": "markdown",
   "metadata": {},
   "source": [
    "Hier sollten die Werte ab dem 222. Index ausgegeben werden. Das hat auch geklappt, nur dass dort nichts steht.  \n",
    "\n",
    "Eigentlich ist die Liste nicht so lang, doch da Listen beliebig kürz- und erweiterbar sind, existieren unter der Slice-Notation die nicht vorhandenen Einträge schon als leere Einträge.  \n",
    "\n",
    "Über ``len()`` haben wir das Listenende herausgefunden. ``len()`` hat den Wert 4 ausgegeben - das ist zwar die Gesamtanzahl der Elemente, doch gleichzeitig der Index, den es noch nicht gibt (da 0-3 Indize belegt sind):"
   ]
  },
  {
   "cell_type": "code",
   "execution_count": null,
   "metadata": {},
   "outputs": [],
   "source": [
    "lst = [2,4,6,8]\n",
    "\n",
    "len(lst)"
   ]
  },
  {
   "cell_type": "markdown",
   "metadata": {},
   "source": [
    "Könnte man das irgendwie mit dieser Slice-Notation verbinden: ``lst[4:] = [10]``?  \n",
    "<br>\n",
    "<br>\n",
    "<br>\n",
    "<br>\n",
    "\n",
    "\n",
    "``len()`` kann auch direkt in die Slice-Notation eingesetzt werden:"
   ]
  },
  {
   "cell_type": "code",
   "execution_count": null,
   "metadata": {},
   "outputs": [],
   "source": [
    "# [Listenende:] = [10]\n",
    "\n",
    "lst[len(lst):] = [10]\n",
    "\n",
    "print(lst)"
   ]
  },
  {
   "cell_type": "markdown",
   "metadata": {},
   "source": [
    "Das klappt doch wunderbar!\n",
    "\n",
    "**Merke: Über die Slice-Notation [&nbsp;:&nbsp;] werden keine IndexErrors ausgelöst.**  \n",
    "\n",
    "**Fügst du Einträge auf diese Weise ein (<font color = green>lst[len(lst):&nbsp;] = iterable</font>), musst du die Listenlänge auch nicht in einem extra Schritt ermitteln.**  \n",
    "<br>\n",
    "\n",
    "Diese kleine Tüftelei zu ``.append()``, mit dem das etwas eleganter funktioniert, hilft dir hoffentlich, die Zusammenhänge besser zu verstehen!  \n",
    "<br>\n",
    "**Beachte dabei, dass diese Schreibweise: <font color = green>lst[len(lst):&nbsp;] = einstelliges_iterable</font>\n",
    "äquivalent zu: <font color = green>lst.append(einzelner_wert_ohne_datenstruktur)</font> ist.**  \n",
    "\n",
    "Denn mit:"
   ]
  },
  {
   "cell_type": "code",
   "execution_count": null,
   "metadata": {},
   "outputs": [],
   "source": [
    "lst = [2,4,6,8]\n",
    "\n",
    "lst.append(10)\n",
    "\n",
    "print(lst)"
   ]
  },
  {
   "cell_type": "markdown",
   "metadata": {},
   "source": [
    "...&nbsp; sind wir auf das gleiche Ergebnis gekommen.\n",
    "\n",
    "\n",
    "Doch wird mit``.append()`` ein einzelner Wert, der sich in einer Datenstruktur befindet, angehängt, passiert das:"
   ]
  },
  {
   "cell_type": "code",
   "execution_count": null,
   "metadata": {},
   "outputs": [],
   "source": [
    "lst = [2,4,6,8]\n",
    "\n",
    "lst.append([10])\n",
    "\n",
    "print(lst)"
   ]
  },
  {
   "cell_type": "markdown",
   "metadata": {},
   "source": [
    "**Die [10] wurde als einstellige Subliste eingefügt.**  \n",
    "\n",
    "Ähnlich ist es mit einer mehrstelligen Datenstruktur:"
   ]
  },
  {
   "cell_type": "code",
   "execution_count": null,
   "metadata": {},
   "outputs": [],
   "source": [
    "lst = [2,4,6,8]\n",
    "\n",
    "lst.append([10,12])\n",
    "\n",
    "print(lst)"
   ]
  },
  {
   "cell_type": "markdown",
   "metadata": {},
   "source": [
    "Die zweistellige Liste wurde auf einen Index gesetzt, nicht auf zwei. Zu erkennen ist das daran, dass sie in eckigen Klammern eingetragen wurden.    \n",
    "\n",
    "**Über die Slice-Notation wird bei mehrstelligen Iterables keine Subliste gebildet:**"
   ]
  },
  {
   "cell_type": "code",
   "execution_count": null,
   "metadata": {},
   "outputs": [],
   "source": [
    "lst = [2,4,6,8]\n",
    "\n",
    "lst[len(lst):] = [10, 12]\n",
    "\n",
    "print(lst)"
   ]
  },
  {
   "cell_type": "markdown",
   "metadata": {},
   "source": [
    "### b) .insert() zum Hinzufügen eines Elements über Indexanwahl\n",
    "\n",
    "``.insert()`` hat 2 Parameter, die auch beide angegeben werden müssen.\n",
    "\n",
    "Syntax von ``.insert()``: <font color = green>liste.insert(Index,Element)</font>  \n",
    "\n",
    "Beispiel"
   ]
  },
  {
   "cell_type": "code",
   "execution_count": null,
   "metadata": {},
   "outputs": [],
   "source": [
    "lst = [2,4,6,8]\n",
    "\n",
    "lst.insert(0, 1)\n",
    "\n",
    "print(lst)"
   ]
  },
  {
   "cell_type": "markdown",
   "metadata": {},
   "source": [
    "Anders, als bei der direkten Anwahl über die Indexierung, wird das Listenelement am übergegebenen Index **nicht überschrieben**.  Zum Vergleich:"
   ]
  },
  {
   "cell_type": "code",
   "execution_count": null,
   "metadata": {},
   "outputs": [],
   "source": [
    "lst = [2,4,6,8]\n",
    "\n",
    "lst[0] = 1\n",
    "\n",
    "print(lst)"
   ]
  },
  {
   "cell_type": "markdown",
   "metadata": {},
   "source": [
    "Auch Iterables lassen sich über ``.insert()`` einfügen. Allerdings werden sie nicht als gleichstufige Listeneinträge eingefügt, sondern als Substruktur, wie in diesem Beispiel als Subliste in der ursprünglichen Liste. Die komplette Subliste liegt auf Index 1:"
   ]
  },
  {
   "cell_type": "code",
   "execution_count": null,
   "metadata": {},
   "outputs": [],
   "source": [
    "lst = [2,4,6,8]\n",
    "\n",
    "lst.insert(1,[1,2,3])\n",
    "\n",
    "print(lst)"
   ]
  },
  {
   "cell_type": "markdown",
   "metadata": {},
   "source": [
    "``.insert()`` verschiebt die Listeneinträge an dem angegebenen Index nach rechts und schafft so Platz auf diesem Index.  "
   ]
  },
  {
   "cell_type": "markdown",
   "metadata": {},
   "source": [
    "\n",
    "<br>\n",
    "\n",
    "### c) .extend() zum Einfügen iterierbarer Objekte\n",
    "\n",
    "Mit ``.extend()`` (engl.: erweitern) werden iterierbare Objekte eingefügt.  \n",
    "\n",
    "Anders als bei ``.insert()`` (engl.: einfügen), werden die Werte der Iterables als einzelne Listeneinträge gespeichert. Während mit ``.extend()`` die Liste um mehr Einträge erweitert wird, wird, wird das komplette übergebene Iterable mit ``.insert()`` an einer bestimmten Stelle eingefügt. ``.extend()`` erstellt **keine Subliste** innerhalb einer Liste. Beispiel:"
   ]
  },
  {
   "cell_type": "code",
   "execution_count": null,
   "metadata": {},
   "outputs": [],
   "source": [
    "colors = ['Rot','Grün', 'Blau']\n",
    "\n",
    "colors.extend(['Orange', 'Lila'])\n",
    "\n",
    "print(colors)"
   ]
  },
  {
   "cell_type": "markdown",
   "metadata": {},
   "source": [
    "Das funktioniert äquivalent zu der ausgetüftelten Variante mit der Indexierung, für die wir auch ein iterierbares Objekt brauchten: <font color = green>lst[len(lst):&nbsp;] = iterable</font>  \n",
    "\n",
    "Obwohl Strings auch iterierbare Objekte sind, wird ein String von ``.extend()`` in seine iterierbaren Einzelteile zerlegt. Das macht das Hinzufügen eines bloßen Strings, der in keiner Datenstruktur enthalten ist, nur bedingt einsetzbar:"
   ]
  },
  {
   "cell_type": "code",
   "execution_count": null,
   "metadata": {},
   "outputs": [],
   "source": [
    "colors.extend('Gelb')\n",
    "\n",
    "print(colors)"
   ]
  },
  {
   "cell_type": "markdown",
   "metadata": {},
   "source": [
    "### d) .remove() zum Entfernen von Listeneinträgen\n",
    "\n",
    "Kommen wir direkt zu einem Beispiel:"
   ]
  },
  {
   "cell_type": "code",
   "execution_count": null,
   "metadata": {},
   "outputs": [],
   "source": [
    "colors = ['Rot', 'Grün', 'Blau', 'Orange', 'Lila', 'Gelb']\n",
    "\n",
    "colors.remove('Rot')\n",
    "\n",
    "print(colors)"
   ]
  },
  {
   "cell_type": "markdown",
   "metadata": {},
   "source": [
    "``.remove()`` sucht den ihm übergebenen Wert in der Liste und entfernt ihn. Es sucht von links nach rechts. Der erste Wert, der dem übergebenen Wert entspricht, wird entfernt.  \n",
    "\n",
    "In diesem Beispiel gibt es <b>'Rot'</b> zwei Mal. Das erste gefundene wird entfernt:"
   ]
  },
  {
   "cell_type": "code",
   "execution_count": null,
   "metadata": {},
   "outputs": [],
   "source": [
    "colors = ['Rot', 'Grün', 'Blau', 'Rot', 'Orange', 'Lila', 'Gelb']\n",
    "\n",
    "colors.remove('Rot')\n",
    "\n",
    "print(colors)"
   ]
  },
  {
   "cell_type": "markdown",
   "metadata": {},
   "source": [
    "Existiert ein Wert nicht in der Liste, löst ``.remove()`` einen <font color = darkred>ValueError</font> aus:"
   ]
  },
  {
   "cell_type": "code",
   "execution_count": null,
   "metadata": {},
   "outputs": [],
   "source": [
    "colors = ['Rot', 'Grün', 'Blau', 'Orange', 'Lila', 'Gelb']\n",
    "\n",
    "colors.remove('Himmelssternweißbunt')\n",
    "\n",
    "print(colors)"
   ]
  },
  {
   "cell_type": "markdown",
   "metadata": {},
   "source": [
    "### e) .pop() zum Entfernen von Listeneinträgen am Ende der Liste (default)\n",
    "\n",
    "Per default entfernt ``.pop()`` Einträge vom Ende der Liste. Beispiel:"
   ]
  },
  {
   "cell_type": "code",
   "execution_count": null,
   "metadata": {},
   "outputs": [],
   "source": [
    "colors = ['Rot', 'Grün', 'Blau', 'Orange', 'Lila', 'Gelb']\n",
    "\n",
    "colors.pop()\n",
    "\n",
    "print(colors)"
   ]
  },
  {
   "cell_type": "markdown",
   "metadata": {},
   "source": [
    "Optional kann ein Index angegeben werden, dessen Wert dann gelöscht wird.  \n",
    "\n",
    "Syntax von ``.insert()``: <font color = green>liste.pop(Index)</font>  \n",
    "\n",
    "Beispiel:"
   ]
  },
  {
   "cell_type": "code",
   "execution_count": null,
   "metadata": {},
   "outputs": [],
   "source": [
    "colors = ['Rot', 'Grün', 'Blau', 'Orange', 'Lila', 'Gelb']\n",
    "\n",
    "colors.pop(1)\n",
    "\n",
    "print(colors)"
   ]
  },
  {
   "cell_type": "markdown",
   "metadata": {},
   "source": [
    "Die Besonderheit an ``.pop()`` ist, dass der zu entfernende Eintrag beim Löschvorgang noch einmal ausgegeben wird. So kann man überprüfen, ob man den richtigen Eintrag gelöscht hat:"
   ]
  },
  {
   "cell_type": "code",
   "execution_count": null,
   "metadata": {},
   "outputs": [],
   "source": [
    "colors = ['Rot', 'Grün', 'Blau', 'Orange', 'Lila', 'Gelb']\n",
    "\n",
    "colors.pop()"
   ]
  },
  {
   "cell_type": "markdown",
   "metadata": {},
   "source": [
    "Der gelöschte Eintrag erscheint aber im Jupyter Notebook nur in der Ausgabe, wenn nicht noch eine Print-Funktion folgt.  \n",
    "\n",
    "``del`` gibt den gelöschten Listeneintrag nicht noch einmal aus:"
   ]
  },
  {
   "cell_type": "code",
   "execution_count": null,
   "metadata": {},
   "outputs": [],
   "source": [
    "colors = ['Rot', 'Grün', 'Blau', 'Orange', 'Lila', 'Gelb']\n",
    "\n",
    "del colors[-1]"
   ]
  },
  {
   "cell_type": "code",
   "execution_count": null,
   "metadata": {},
   "outputs": [],
   "source": [
    "print(colors)"
   ]
  },
  {
   "cell_type": "markdown",
   "metadata": {},
   "source": [
    "### f) .clear() zum Leeren der gesamten Liste\n",
    "\n",
    "``.clear()`` entfernt alle Listeneinträge und hinterlässt somit eine leere Liste. Beispiel:"
   ]
  },
  {
   "cell_type": "code",
   "execution_count": null,
   "metadata": {},
   "outputs": [],
   "source": [
    "colors = ['Rot', 'Grün', 'Blau', 'Orange', 'Lila', 'Gelb']\n",
    "\n",
    "colors.clear()\n",
    "\n",
    "print(colors)"
   ]
  },
  {
   "cell_type": "markdown",
   "metadata": {},
   "source": [
    "Man könnte die Liste auch mit dem Statement/Keyword ``del`` leeren, aber nicht so:"
   ]
  },
  {
   "cell_type": "code",
   "execution_count": null,
   "metadata": {},
   "outputs": [],
   "source": [
    "colors = ['Rot', 'Grün', 'Blau', 'Orange', 'Lila', 'Gelb']\n",
    "\n",
    "del colors\n",
    "\n",
    "print(colors)"
   ]
  },
  {
   "cell_type": "markdown",
   "metadata": {},
   "source": [
    "Die Liste kann nicht mehr ausgegeben werden, weil sie komplett gelöscht wurde. Löst man das mit der Slice-Notation, wird der erste bis letzte Wert gelöscht und die Liste bleibt als leere Liste erhalten:"
   ]
  },
  {
   "cell_type": "code",
   "execution_count": null,
   "metadata": {},
   "outputs": [],
   "source": [
    "colors = ['Rot', 'Grün', 'Blau', 'Orange', 'Lila', 'Gelb']\n",
    "\n",
    "del colors[:]\n",
    "\n",
    "print(colors)"
   ]
  },
  {
   "cell_type": "markdown",
   "metadata": {},
   "source": [
    "<div class=\"alert alert-block alert-info\">\n",
    "    <font size=\"3\"><b>Zusatzwissen:</b></font> <b>Über Keywords, Compiler und Interpreter</b>  \n",
    "    \n",
    " Ein Keyword wird auch Statement genannt. Das ist eine Funktion, die dem Compiler bereits bekannt ist.      \n",
    "    \n",
    " Der Compiler ist das, was Quellcode (wie Python-Code) in Maschinensprache/Maschinencode übersetzt. Bei kompilierten Sprachen wird nach der Vorübersetzung in Maschinencode in Bytecode übersetzt.\n",
    " \n",
    " Nicht alle Programmiersprachen haben einen Compiler bzw. werden kompiliert. **Ein Compiler übersetzt die Sprache schon während der Entwicklungszeit und führt Optimierungen durch. Er übersetzt schon vor der Ausführung des Programms - vor der Laufzeit.**  \n",
    " \n",
    " Interpretierte Sprachen sind bereits vorkompiliert und werden direkt zur Laufzeit in Code übersetzt, den Maschinen lesen können, und ausgeführt. **Während bei kompilierten Sprachen der komplette Quellcode schon vorübersetzt wird, wird bei interpretierten Sprachen der Quellcode Zeile für Zeile während der Laufzeit übersetzt.**  \n",
    " \n",
    " Interpretersprachen sind deshalb schneller, doch logische Fehler machen sich bei ihnen erst zur Laufzeit bemerkbar.\n",
    "\n",
    "**Python ist sowohl eine Interpreter- als auch eine Compiler-Sprache.** Denn es übersetzt erst den Code in Maschinencode (ähnlich zu einem Kompilierer, jedoch während der Laufzeit) und führt ihn danach aus.\n",
    "</div>\n",
    "<br>\n",
    "\n",
    "``del`` ist also wie Maschinencode und braucht daher keine Funktionsklammern.  "
   ]
  },
  {
   "cell_type": "markdown",
   "metadata": {},
   "source": [
    "### g) .reverse() zum Umdrehen einer Liste\n",
    "\n",
    "Lass uns gleich ein Beispiel ansehen:"
   ]
  },
  {
   "cell_type": "code",
   "execution_count": null,
   "metadata": {},
   "outputs": [],
   "source": [
    "lst = [0,1,2,3]\n",
    "\n",
    "lst.reverse()\n",
    "\n",
    "print(lst)"
   ]
  },
  {
   "cell_type": "markdown",
   "metadata": {},
   "source": [
    "``.reverse()`` dreht die Liste in-place um und ist äquivalent zu lst[::-1]."
   ]
  },
  {
   "cell_type": "markdown",
   "metadata": {},
   "source": [
    "Die letzten drei vorgestellten Funktionen sind dir schon begegnet.  \n",
    "<br>\n",
    "\n",
    "### h) .count() zum Zählen von Werten in einer Liste\n",
    "\n",
    "``.count()`` kennst du von den String-Funktionen.  \n",
    "\n",
    "Für Strings gilt diese Syntax: <font color = green>lst.count('Zeichen', optionaler Startindex, bis vor optionalen Endindex)</font>\n",
    "\n",
    "\n",
    "Aber für Listen gilt diese: <font color = green>lst.count(value)</font>  \n",
    "\n",
    "Es kann nicht zusätzlich an bestimmten Indizen gesucht werden.\n",
    "\n",
    "Beispiel:"
   ]
  },
  {
   "cell_type": "code",
   "execution_count": null,
   "metadata": {},
   "outputs": [],
   "source": [
    "colors = ['Rot', 'Grün', 'Blau', 'Rot', 'Orange', 'Lila', 'Gelb']\n",
    "\n",
    "colors.count('Rot')"
   ]
  },
  {
   "cell_type": "markdown",
   "metadata": {},
   "source": [
    "Beispiel mit Integers in einer Liste:"
   ]
  },
  {
   "cell_type": "code",
   "execution_count": null,
   "metadata": {},
   "outputs": [],
   "source": [
    "nums = [1,2,2,2,3]\n",
    "\n",
    "nums.count(2)"
   ]
  },
  {
   "cell_type": "markdown",
   "metadata": {},
   "source": [
    "### i) .index() zum Zählen von Werten in einer Liste\n",
    "\n",
    "Auch ``.index()`` kennst du von den Funktionen für Strings.  \n",
    "\n",
    "Es gibt den Index für den erstgefundenen Wert, der dem ihm übergebenen Wert entspricht, aus. Es sucht von links nach rechts.  \n",
    "\n",
    "Die Syntax für Strings: Syntax: <font color = green>str.index('Index von diesem Zeichen in String finden',Start,Ende)</font>  \n",
    "\n",
    "Die Syntax für Listen: Syntax: <font color = green>lst.index(value,Start,Ende)</font>  \n",
    "\n",
    "Der <b>value</b> ist der Listeneintrag. Ist der gesuchte Eintrag ein String, ist dieser in Einführungszeichen zu setzen.  \n",
    "\n",
    "Du kannst ``.index()`` also auf dieselbe Weise für Strings und Listen verwenden. Beispiel ohne Indexangabe:"
   ]
  },
  {
   "cell_type": "code",
   "execution_count": null,
   "metadata": {},
   "outputs": [],
   "source": [
    "colors = ['Rot', 'Grün', 'Blau', 'Rot', 'Orange', 'Lila', 'Gelb']\n",
    "\n",
    "colors.index('Rot')"
   ]
  },
  {
   "cell_type": "markdown",
   "metadata": {},
   "source": [
    "Beispiel mit Indexangabe:"
   ]
  },
  {
   "cell_type": "code",
   "execution_count": null,
   "metadata": {},
   "outputs": [],
   "source": [
    "colors = ['Rot', 'Grün', 'Blau', 'Rot', 'Orange', 'Lila', 'Gelb']\n",
    "\n",
    "colors.index('Rot',1,4)"
   ]
  },
  {
   "cell_type": "markdown",
   "metadata": {},
   "source": [
    "Beispiel mit Zahlenwerten:"
   ]
  },
  {
   "cell_type": "code",
   "execution_count": null,
   "metadata": {},
   "outputs": [],
   "source": [
    "points = [2.2, 1.1, 3.88, 1.1, 5.47, 4.39, 1.1]\n",
    "\n",
    "points.index(1.1,2,6)"
   ]
  },
  {
   "cell_type": "markdown",
   "metadata": {},
   "source": [
    "<div class=\"alert alert-block alert-warning\">\n",
    "    <font size=\"3\"><b>Übung zu den bisherigen List-Funktionen:</b></font>  \n",
    "<br>\n",
    "    \n",
    "Du bearbeitest die Produktliste deines Online-Shops für Elektronikprodukte.\n",
    "\n",
    "**a)** Das letzte Produkt in der Liste hast du aus Versehen eingegeben, obwohl du es noch nicht zur Verfügung hast. Entferne es, ohne einen Index anzugeben.  \n",
    "\n",
    "**b)** Du hast den \"Epson Beamer\" neu auf Lager. Sortiere die Liste zuerst in aufsteigender Reihenfolge und füge dann dieses neue Produkt in der alphabetisch korrekten Position ein. Dafür kannst du 2 Code-Zellen verwenden, um dir die sortierte Liste erst einmal ausgeben zu lassen.  \n",
    "\n",
    "**c)** Letzte Woche gab es Discount auf ein paar Produkte. Da sie jetzt nicht mehr im Discount sind, füge sie der Liste der anderen Produkte hinzu. Es darf keine Subliste dabei entstehen. Sortiere die Liste erneut.  \n",
    "\n",
    "**d)** Ein Produkt ist nun doppelt vorhanden. Entferne den doppelten Eintrag anhand seines Wertes/seiner Bezeichnung.    \n",
    "\n",
    "Lass dir das Ergebnis jeder Teilaufgabe ausgeben.  \n",
    "Welche Sortier-Funktion du verwendest, ist irrelevant, solange das Ergebnis stimmt.\n",
    "</div>"
   ]
  },
  {
   "cell_type": "code",
   "execution_count": null,
   "metadata": {},
   "outputs": [],
   "source": [
    "# a)\n",
    "\n",
    "products = ['Samsung TV', 'Sony Speakers', 'Huawei Smartphone', 'Canon Digitalkamera', 'Hewlett Packard Drucker']\n",
    "\n"
   ]
  },
  {
   "cell_type": "code",
   "execution_count": null,
   "metadata": {},
   "outputs": [],
   "source": [
    "# b)\n",
    "\n"
   ]
  },
  {
   "cell_type": "code",
   "execution_count": null,
   "metadata": {},
   "outputs": [],
   "source": []
  },
  {
   "cell_type": "code",
   "execution_count": null,
   "metadata": {},
   "outputs": [],
   "source": [
    "# c)\n",
    "\n",
    "discount_products = ['Panasonic Headphones', 'Canon Digitalkamera', 'Auna Stereosystem']\n",
    "\n"
   ]
  },
  {
   "cell_type": "code",
   "execution_count": null,
   "metadata": {},
   "outputs": [],
   "source": [
    "# d)\n",
    "\n"
   ]
  },
  {
   "cell_type": "markdown",
   "metadata": {},
   "source": [
    "<div class=\"alert alert-block alert-success\">\n",
    "<b>Klasse!</b> Nun kennst du fast alle wichtigen Funktionen zu Listen.\n",
    "    \n",
    "In der folgenden Einheit lernst du, wie du Listen kopieren kannst. Dabei gilt es ein paar wichtige Punkte zu beachten.  \n",
    "Außerdem gibt es eine kleine Wiederholung zur Sortierung von Listen, im Speziellen diesmal mit der Funktion \".sort()\".\n",
    "</div>"
   ]
  },
  {
   "cell_type": "markdown",
   "metadata": {},
   "source": [
    "<div class=\"alert alert-block alert-info\">\n",
    "<h3>Das kannst du aus dieser Übung mitnehmen:</h3>\n",
    "\n",
    "* **Spezielle List-Funktionen**\n",
    "    * ``.append()`` hängt das übergebene Element/Iterable ans Listenende an, z.B.: ``lst.append('Z')``\n",
    "        * <font color = green>lst.append(wert_ohne_datenstruktur)</font> ist äquivalent zu: <font color = green>lst[len(lst):&nbsp;] = einstelliges_iterable(mit nur einem Wert)</font>\n",
    "        * hinzugefügte mehrstellige Iterables erscheinen mit ``.append()`` in der Liste als Substrukturen, z.B. als Subliste\n",
    "        * Beispiel:\n",
    "            * ``colors = ['Rot','Grün', 'Blau']``\n",
    "            * ``colors.append(['Orange', 'Lila'])`` => Output über ``print(colors)``: ['Rot', 'Grün', 'Blau', ['Orange', 'Lila']]\n",
    "    * **Überschreiben/Updaten** eines Listenelements an einem Index, z.B.: ``lst[0] = 1`` => überschreibt den Wert an Index 0 mit \"1\"\n",
    "    * ``.insert()`` zum Einfügen von Werten, inkl. Iterables, an einem bestimmten Index, z.B.: ``lst.insert(1,'Eins')`` => fügt an Index 1  \"Eins\"ein\n",
    "        * überschreibt **nicht** den vorherigen Wert am angegebenen Index\n",
    "        * Syntax: <font color = green>liste.insert(Index,Element)</font>\n",
    "        * die Angabe beider Parameter (Index und Element) ist ein Muss\n",
    "        * erzeugt Substrukturen der Iterables in der Liste\n",
    "        * Beispiel:\n",
    "            * ``colors = ['Rot','Grün', 'Blau']``\n",
    "            * ``colors.insert(2,['Orange', 'Lila'])`` => Output über ``print(colors)``: ['Rot', 'Grün', ['Orange', 'Lila'], 'Blau']\n",
    "    * ``.extend()`` zum Einfügen von Iterables\n",
    "        * fügt die Einträge der Iterables als gleichstufige Listeneinträge ein, ohne Substrukturen zu bilden\n",
    "        * Beispiel:\n",
    "            * ``colors = ['Rot','Grün', 'Blau']``\n",
    "            * ``colors.extend(['Orange', 'Lila'])`` => Output über ``print(colors)``: ['Rot','Grün', 'Blau', 'Orange', 'Lila']\n",
    "        * ist äquivalent zu: <font color = green>lst[len(lst):&nbsp;] = iterable</font>\n",
    "    * ``.remove()`` entfernt den ihm übergebenen Listeneintrag, z.B.: ``lst.remove(x)``\n",
    "        * entfernt den ersten auf den Übergabewert zutreffenden Listeneintrag und wirft bei nicht vorhandenen Einträgen einen <font color = darkred>ValueError</font>\n",
    "    * ``.pop()`` entfernt per default den letzten Listeneintrag, z.B.: ``lst.pop()`` \n",
    "        * entfernt zusätzlich bei angegebenem Index dessen Wert, z.B.: ``lst.pop(1)`` => entfernt den Wert an Index 1\n",
    "        * ist äquivalent zu: ``del lst[1]``\n",
    "        * doch ``pop()`` zeigt im Gegensatz zu ``del`` den gelöschten Eintrag in der Ausgabe an\n",
    "    * ``.clear()`` zum Leeren der kompletten Liste, z.B.: ``lst.clear()`` => Output über ``print(lst)``: [&nbsp;]\n",
    "        * ist äquivalent zu: ``del lst[:]``\n",
    "    * ``.reverse()`` zum Umdrehen einer Liste, z.B.: ``lst.rverse()`` => die Listeneinträge sind damit absteigend sortiert\n",
    "    * ``.count()`` zum Zählen eines übergebenen String-Wertes in der Liste, z.B.: ``lst.count('Rot')``\n",
    "        * die Häufigkeit von Werten an bestimmten Indizen zu suchen, ist mit Listen nicht möglich, nur mit Strings\n",
    "        * Syntax für Listen: <font color = green>lst.count(value)</font>\n",
    "    * ``.index()`` findet den Index des ihm übergebenen Wertes, z.B.: ``lst.index('Rot')``\n",
    "        * sucht von links nach rechts\n",
    "        * kommt der Wert mehrfach vor, zeigt ``.index()`` nur den zuerst gefundenen an\n",
    "        * optional kann man in einem bestimmten Bereich von Indizen suchen\n",
    "        * Syntax: <font color = green>lst.index(value,Start,Ende)</font>  \n",
    "<br>\n",
    "* **Python**\n",
    "    * Python ist sowohl eine Interpreter- als auch eine Compiler-Sprache\n",
    "        * denn es übersetzt erst den Code in Maschinencode (ähnlich zu einem Kompilierer, jedoch während der Laufzeit) und führt ihn danach aus\n",
    "        * beides geschieht zur Laufzeit - der Ausführungszeit des Programms\n",
    "    * alles in Python ist ein Objekt und hat eine Adresse/Referenz\n",
    "</div>"
   ]
  }
 ],
 "metadata": {
  "kernelspec": {
   "display_name": "Python 3",
   "language": "python",
   "name": "python3"
  },
  "language_info": {
   "codemirror_mode": {
    "name": "ipython",
    "version": 3
   },
   "file_extension": ".py",
   "mimetype": "text/x-python",
   "name": "python",
   "nbconvert_exporter": "python",
   "pygments_lexer": "ipython3",
   "version": "3.7.3"
  }
 },
 "nbformat": 4,
 "nbformat_minor": 2
}
