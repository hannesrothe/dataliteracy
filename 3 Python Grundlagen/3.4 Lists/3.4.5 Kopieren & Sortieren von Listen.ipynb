{
 "cells": [
  {
   "cell_type": "markdown",
   "metadata": {},
   "source": [
    "#  3.4 Lists\n",
    "\n",
    "## 3.4.5 Kopieren & Sortieren von Listen\n",
    "\n",
    "Im Anschluss dieser Übungseinheit kannst du ...\n",
    "+ Listen auf verschiedene Weisen kopieren\n",
    "+ erklären, was eine flache Kopie und was eine tiefe Kopie ist\n",
    "+ Listen in-place sortieren"
   ]
  },
  {
   "cell_type": "markdown",
   "metadata": {},
   "source": [
    "## 3.4.5 Kopieren & Sortieren von Listen\n",
    "\n",
    "\n",
    "### a) .copy() für die flache Kopie einer Liste\n",
    "\n",
    "Diese Funktion ist nicht nur speziell für Listen einsetzbar, auch für Dictionarys und Tuples, jedoch nicht für Sets und andere Iterables.\n",
    "\n",
    "Bevor dir gezeigt wird, wie du mit ``.copy()`` eine Liste kopieren kannst, kommen wir erst zur Beantwortung der Frage:  \n",
    "\n",
    "#### Was ist eine flache Kopie?\n",
    "\n",
    "Gibt es dann auch eine tiefe Kopie? Ja!  \n",
    "\n",
    "Und was eine flache Kopie ist, siehst du jetzt an ein paar Beispielen.  \n",
    "\n",
    "Eine Liste kann auch kopiert werden, indem sie einer anderen Liste zugewiesen wird:"
   ]
  },
  {
   "cell_type": "code",
   "execution_count": null,
   "metadata": {},
   "outputs": [],
   "source": [
    "pizza_toppings = ['Mozzarella', 'Sauce Hollandaise', 'Knoblauch', 'Paprika', 'Tomaten']\n",
    "\n",
    "pizzatoppings_copy = pizza_toppings\n",
    "\n",
    "print(f'pizza_toppings: {pizza_toppings}')\n",
    "print(f'pizzatoppings_copy: {pizzatoppings_copy}')"
   ]
  },
  {
   "cell_type": "code",
   "execution_count": null,
   "metadata": {},
   "outputs": [],
   "source": [
    "print(id(pizza_toppings), id(pizzatoppings_copy))"
   ]
  },
  {
   "cell_type": "markdown",
   "metadata": {},
   "source": [
    " <b>pizzatoppings_copy</b> hat die Liste <b>pizza_toppings</b> als Wert zugewiesen bekommen.  \n",
    "\n",
    "Beide Listen haben nun die gleichen Werte. Genauer gesagt: Ihre jeweiligen Speicherplätze verweisen auf die gleichen Adressen, auf der die einzelnen Werte gespeichert sind. Das kannst du an den IDs im Output erkennen. Man sagt dazu auch: \"Die Listen **zeigen** auf die gleichen Speicheradressen der einzelnen Werte.\" Denn das, was auf die Adresse zeigt, wird auch **Zeiger** bzw. im Englischen **Pointer** genannt. \n",
    "\n",
    "Denk dich hinein, wie die Speicherplätze auf dem Computer verbunden sind: Sowohl <b>pizzatoppings_copy</b>, als auch <b>pizza_toppings</b> haben ihre Werte nun auf den gleichen Adressen gespeichert, weil <b>pizza_toppings</b> über die Zuweisung mit <b>=</b> zu <b>pizzatoppings_copy</b> verwiesen wurde.  \n",
    "\n",
    "Stell es dir wie eine Pizzabestellung vor, für die du schon bezahlt hast. Die Pizza ist noch in der Pizzeria. \n",
    "\n",
    "Dir gehört die Pizza (sie ist dein gespeicherter Wert), doch du hast sie nicht zu Hause. Du hast nur die Adresse, an der sich ihre Zutaten befinden.  \n",
    "\n",
    "Wenn die Pizzeria etwas durcheinanderbringt und du und dein Bekannter beide als Besteller für die Pizza registriert seid, gehört sie euch beiden. Ihr beide - wie die Objekte <b>pizzatoppings_copy</b> und <b>pizza_toppings</b> - habt dann die Adressen der Zutaten zu exakt derselben Pizza.  \n",
    "\n",
    "**Das ist das Merkmal einer flachen Kopie (engl.: shallow Copy): Es wird ein neues Objekt erzeugt, dessen Werte von den Originalwerten abhängig sind und umgekehrt**.  \n",
    "<br>\n",
    "\n",
    "Dieses Bild veranschaulicht das: die Liste ist die Pizza, die Werte sind die Zutaten, die Original-Variable ist dein Bekannter, die Flache-Kopie-Variable bist du:  \n",
    "\n",
    "<img src=\"3-4-4-ShCopy.jpg\">     \n",
    "<br>\n",
    "Original und Kopie zeigen letztendlich auf die gleichen verschiedenen Zutaten.  \n",
    "<br>\n",
    "<br>\n",
    "**Weiter unten steht die Antwort auf die folgende Frage. Scroll erst nach unten, wenn du dir eine Antwort überlegt hast. Die Antwort steht unter der zweiten folgenden Code-Zelle.**\n",
    "<br>\n",
    "<br>\n",
    "<br>\n",
    "\n",
    "Was passiert, wenn du noch eine Zutat zu deiner flachen Pizza hinzufügst? Was denkst du?"
   ]
  },
  {
   "cell_type": "code",
   "execution_count": null,
   "metadata": {},
   "outputs": [],
   "source": [
    "pizzatoppings_copy.append('Chili')\n",
    "\n",
    "print(f'pizza_toppings: {pizza_toppings}')\n",
    "print(f'pizzatoppings_copy: {pizzatoppings_copy}')"
   ]
  },
  {
   "cell_type": "code",
   "execution_count": null,
   "metadata": {},
   "outputs": [],
   "source": [
    "print(id(pizza_toppings), id(pizzatoppings_copy))"
   ]
  },
  {
   "cell_type": "markdown",
   "metadata": {},
   "source": [
    "<br>\n",
    "<br>\n",
    "\n",
    "Weil es die exakt gleiche Pizza ist, wird auch \"die andere\" mit Chili belegt.  \n",
    "\n",
    "Und wenn dein Bekannter Chili nicht mag, weil \"scharf\" eigentlich kein echter Geschmack, sondern nur ein Schmerzgefühl ist? Pech!  \n",
    "\n",
    "**Eine flache Kopie hat ihre Werte an der gleichen Adresse hinterlegt wie das Original. Alle Änderungen an der Kopie finden folglich auch am Original statt.**\n",
    "\n",
    "**Es ist daher ratsam, außer, wenn genau diese Eigenschaft flacher Kopien benötigt wird, mit tiefen Kopien zu arbeiten.**  \n",
    "\n",
    "**Eine tiefe Kopie ist das Gegenteil einer flachen: Die Werte der tiefen Kopie sind unabhängig von dem Original.**  \n",
    "Doch mehr dazu gleich.  \n",
    "<br>\n",
    "Zwei voneinander unabhängige Listen kannst du auch nachträglich erschaffen, indem du der Kopie ein neues List-Objekt zuweist. Dann ändern sich die Speicheradressen von Kopie und Original:"
   ]
  },
  {
   "cell_type": "code",
   "execution_count": null,
   "metadata": {},
   "outputs": [],
   "source": [
    "pizzatoppings_copy = ['Knoblauch', 'Paprika', 'Tomaten', 'Chili']\n",
    "\n",
    "print(f'pizza_toppings: {pizza_toppings}')\n",
    "print(f'pizzatoppings_copy: {pizzatoppings_copy}')"
   ]
  },
  {
   "cell_type": "code",
   "execution_count": null,
   "metadata": {},
   "outputs": [],
   "source": [
    "print(id(pizza_toppings), id(pizzatoppings_copy))"
   ]
  },
  {
   "cell_type": "markdown",
   "metadata": {},
   "source": [
    "Das liegt daran, dass das List-Objekt **neu** ist. Das ist, als ob du eine komplett neue Liste erstellst, wie du es schon in der ersten Einheit zum Kapitel 3.4 gesehen hast: ``lst = []``  \n",
    "Wenn du dir noch einmal diese Abbildung ansiehst, siehst du, dass die Liste von den Variablen an einer Adresse gespeichert ist (gelbes Rechteck), die wiederum die Adressen zu den Werten enthält:\n",
    "\n",
    "<img src=\"3-4-4-ShCopy.jpg\">  \n",
    "<br>\n",
    "Wird nun in der Kopie die Liste komplett durch eine neue ausgetauscht, landet sie auf einer anderen Adresse als das Original:  \n",
    "\n",
    "<img src=\"3-4-4-CopyNewList.jpg\">  \n",
    "<br>\n",
    "**Die Flache-Kopie-Variable ist damit keine flache Kopie mehr, sondern ein eigenständiges Objekt.**  \n",
    "\n",
    "Wir ändern einen Eintrag an dem eigenständigen Objekt:"
   ]
  },
  {
   "cell_type": "code",
   "execution_count": null,
   "metadata": {},
   "outputs": [],
   "source": [
    "pizzatoppings_copy[0] = 'Mais'\n",
    "\n",
    "print(f'pizza_toppings: {pizza_toppings}')\n",
    "print(f'pizzatoppings_copy: {pizzatoppings_copy}')"
   ]
  },
  {
   "cell_type": "code",
   "execution_count": null,
   "metadata": {},
   "outputs": [],
   "source": [
    "print(id(pizza_toppings), id(pizzatoppings_copy))"
   ]
  },
  {
   "cell_type": "markdown",
   "metadata": {},
   "source": [
    "Änderungen an einer Liste betreffen nicht die andere Liste.\n",
    "\n",
    "**Merke: Die Listen sind unabhängig voneinander, wenn ihre IDs verschieden sind.**    \n",
    "\n",
    "Eine Liste, die keine Sublisten enthält, wird als **flache Liste** bezeichnet. Eine **von dem Original unabhängige Kopie** kannst du - **bei einer flachen Liste** - mit der Slice-Notation erzeugen:"
   ]
  },
  {
   "cell_type": "code",
   "execution_count": null,
   "metadata": {},
   "outputs": [],
   "source": [
    "pizza_toppings = ['Mozzarella', 'Sauce Hollandaise', 'Knoblauch', 'Paprika', 'Tomaten']\n",
    "\n",
    "pizzatoppings_copy = pizza_toppings[:]\n",
    "\n",
    "print(f'pizza_toppings: {pizza_toppings}')\n",
    "print(f'pizzatoppings_copy: {pizzatoppings_copy}')"
   ]
  },
  {
   "cell_type": "code",
   "execution_count": null,
   "metadata": {},
   "outputs": [],
   "source": [
    "print(id(pizza_toppings), id(pizzatoppings_copy))"
   ]
  },
  {
   "cell_type": "markdown",
   "metadata": {},
   "source": [
    "Laut ihrer ID sind die Listen unabhängig voneinander. Du kannst die IDs auch so vergleichen:"
   ]
  },
  {
   "cell_type": "code",
   "execution_count": null,
   "metadata": {},
   "outputs": [],
   "source": [
    "pizza_toppings is pizzatoppings_copy"
   ]
  },
  {
   "cell_type": "markdown",
   "metadata": {},
   "source": [
    "Einen Inhaltsvergleich der Listen bekommst du so:"
   ]
  },
  {
   "cell_type": "code",
   "execution_count": null,
   "metadata": {},
   "outputs": [],
   "source": [
    "pizza_toppings == pizzatoppings_copy"
   ]
  },
  {
   "cell_type": "markdown",
   "metadata": {},
   "source": [
    "Testen wir aus, ob Original und Kopie unabhängig voneinander sind, indem wir in der Kopie eine Zutat hinzufügen:"
   ]
  },
  {
   "cell_type": "code",
   "execution_count": null,
   "metadata": {},
   "outputs": [],
   "source": [
    "pizzatoppings_copy.append('Chili')\n",
    "\n",
    "print(f'pizza_toppings: {pizza_toppings}')\n",
    "print(f'pizzatoppings_copy: {pizzatoppings_copy}')"
   ]
  },
  {
   "cell_type": "markdown",
   "metadata": {},
   "source": [
    "Die Originalliste blieb von Änderungen an der Kopie unbeeinflusst. Die Listen sind nicht mehr inhaltsgleich:"
   ]
  },
  {
   "cell_type": "code",
   "execution_count": null,
   "metadata": {},
   "outputs": [],
   "source": [
    "pizza_toppings == pizzatoppings_copy"
   ]
  },
  {
   "cell_type": "markdown",
   "metadata": {},
   "source": [
    "Auch die Überschreibung eines Wertes in der Kopie würde die Werte am Original nicht verändern. Änderungen an den Werten vom Original aus ließen auch die Kopie unbeeinflusst.  \n",
    "\n",
    "**Aber: Das gilt nur für flache Listen!**  \n",
    "\n",
    "Die über das Slicing erstellte Kopie ist nicht wirklich tief.  \n",
    "\n",
    "**Sobald eine Liste mit einer Subliste über das Slicing kopiert wird, werden die Werte der Subliste nicht kopiert, sondern übergeben wird ihre Adresse, die wiederum die Adressen zu ihren Werten enthält.** Die Subliste enthält die Adressen, an der ihre Werte gespeichert sind. Die Adressen in der Subliste zeigen auf ihre Werte.  \n",
    "\n",
    "Die Adressen zu allen Werten sind in zwei Listen (gelbe Rechtecke) gespeichert:  \n",
    "\n",
    "<img src=\"3-4-4-ShCopySublist.jpg\">  \n",
    "<br>\n",
    "Was passiert also bei einer mit der Slice-Notation kopierten Liste, die eine Subliste enthält? Was passiert, wenn die Werte der Subliste geändert werden?  \n",
    "\n",
    "Nehmen wir an, die Pizzeria hat eine höhere Preisklasse für exquisite Zutaten, die in einer Subliste abgespeichert sind:  "
   ]
  },
  {
   "cell_type": "code",
   "execution_count": null,
   "metadata": {},
   "outputs": [],
   "source": [
    "pizza_toppings = [['Caviar', 'Pinienkerne'], 'Mozzarella', 'Sauce Hollandaise', 'Knoblauch', 'Paprika', 'Tomaten']\n",
    "\n",
    "pizzatoppings_copy = pizza_toppings[:]\n",
    "\n",
    "print(f'pizza_toppings: {pizza_toppings}')\n",
    "print(f'pizzatoppings_copy: {pizzatoppings_copy}')"
   ]
  },
  {
   "cell_type": "markdown",
   "metadata": {},
   "source": [
    "Nun ändern wir in der Kopie in der Subliste eine Zutat. Lass dich nicht von dieser Art der Slice-Notation irritieren. Wir kommen dazu in der nächsten Einheit. <font color = gray>(Aber falls du das nicht so lange aushältst: Die ersten eckigen Klammern stehen für den Index der \"Oberliste\", die zweiten für den Index in der Subliste.)</font>  \n",
    "\n",
    "Wird nur die Kopie verändert?"
   ]
  },
  {
   "cell_type": "code",
   "execution_count": null,
   "metadata": {},
   "outputs": [],
   "source": [
    "pizzatoppings_copy[0][1] = 'Trüffel'\n",
    "\n",
    "print(f'pizza_toppings: {pizza_toppings}')\n",
    "print(f'pizzatoppings_copy: {pizzatoppings_copy}')"
   ]
  },
  {
   "cell_type": "markdown",
   "metadata": {},
   "source": [
    "<img src=\"3-4-4-ShCopySublistAdress.jpg\">  \n",
    "<br>\n",
    "Weil beide Listen auf die gleiche Adresse der Subliste zeigen, wirken sich Änderungen an ihren Werten auf beide Listen aus. \n",
    "\n",
    "Stell dir das so vor, dass die exquisiten Zutaten für die Pizza von einem extra Lieferanten bezogen werden. Die Pizzeria lässt sich bei der Bestellung die exquisiten Zutaten auch liefern (der Lieferant ist gleich gegenüber). Sie hat die Zutaten noch nicht, nur ihre Adresse.  \n",
    "\n",
    "Wenn du und dein Bekannter beide als Besteller der Pizza hinterlegt seid und du eine andere exquisite Zutat möchtest, gibt die Pizzeria die Bestellung dieser einmalig an den Lieferanten auf. Es gibt dann **eine** exquisite Lieferung für euch **beide**. An der oberen Abbildung wird das repräsentiert durch den einzelnen Pfeil, der von der Adresse der Subliste auf die Werte zeigt.  \n",
    "\n",
    "Von den Variablen aus gibt es über die Listen den Zugriff auf ihre Werte. **Das ist anders als bei den Werten der Subliste, zu der es von den Variablen bzw. ihren Listen aus keinen direkten Zugriff gibt.**  \n",
    "Die beiden Listen enthalten ihre jeweiligen Adressen zu den Werten. Deshalb können Wertänderungen an den Werten (außerhalb der Subliste) von den Listen unabhängig voneinander ausgeführt werden, wie das folgende Beispiel demonstriert:"
   ]
  },
  {
   "cell_type": "code",
   "execution_count": null,
   "metadata": {},
   "outputs": [],
   "source": [
    "pizza_toppings = [['Caviar', 'Pinienkerne'], 'Mozzarella', 'Sauce Hollandaise', 'Knoblauch']\n",
    "\n",
    "pizzatoppings_copy = pizza_toppings[:]\n",
    "\n",
    "print(f'pizza_toppings: {pizza_toppings}')\n",
    "print(f'pizzatoppings_copy: {pizzatoppings_copy}')"
   ]
  },
  {
   "cell_type": "code",
   "execution_count": null,
   "metadata": {},
   "outputs": [],
   "source": [
    "pizzatoppings_copy[1] = 'Gouda'\n",
    "\n",
    "print(f'pizza_toppings: {pizza_toppings}')\n",
    "print(f'pizzatoppings_copy: {pizzatoppings_copy}')"
   ]
  },
  {
   "cell_type": "code",
   "execution_count": null,
   "metadata": {},
   "outputs": [],
   "source": [
    "pizza_toppings is pizzatoppings_copy"
   ]
  },
  {
   "cell_type": "markdown",
   "metadata": {},
   "source": [
    "Die Listen (nicht ihre Subliste) sind unabhängig voneinander. <b>'Gouda'</b> wurde nur in der Kopie geändert. Auch ein neuer Wert wird nur in der Kopie hinzugefügt:"
   ]
  },
  {
   "cell_type": "code",
   "execution_count": null,
   "metadata": {},
   "outputs": [],
   "source": [
    "pizzatoppings_copy.append('Chili')\n",
    "\n",
    "print(f'pizza_toppings: {pizza_toppings}')\n",
    "print(f'pizzatoppings_copy: {pizzatoppings_copy}')"
   ]
  },
  {
   "cell_type": "markdown",
   "metadata": {},
   "source": [
    "Verdeutlicht wird dir das durch die folgende Abbildung. Die Liste der Kopie enthält eine eigene, unabhängige Adresse zu <b>'Chili'</b>:  \n",
    "\n",
    "<img src=\"3-4-4-ShCopySublist-AddressAdd1.jpg\">  \n",
    "\n",
    ">In der Fachliteratur wirst du übrigens häufig das Wort \"Referenz\" statt \"Adresse\" lesen.  \n",
    "\n",
    "#### Flaches Kopieren mit copy()  \n",
    "\n",
    "Jetzt wird dir gezeigt, wie du mit ``.copy()`` eine Liste kopierst.  \n",
    "\n",
    "Weil ``.copy()`` tatsächlich einen neuen Speicherplatz für die Variable der kopierten Liste anlegt, weisen wir die Kopie einer neuen Variable zu:"
   ]
  },
  {
   "cell_type": "code",
   "execution_count": null,
   "metadata": {},
   "outputs": [],
   "source": [
    "pizza_toppings = ['Mozzarella', 'Sauce Holondaise', 'Knoblauch', 'Paprika', 'Tomaten', 'Brokkoli']\n",
    "\n",
    "pizzatoppings_copy = pizza_toppings.copy()\n",
    "\n",
    "print(f'pizza_toppings: {pizza_toppings}')\n",
    "print(f'pizzatoppings_copy: {pizzatoppings_copy}')"
   ]
  },
  {
   "cell_type": "markdown",
   "metadata": {},
   "source": [
    "Nun fügen wir der flachen Kopie einen Eintrag hinzu. Was denkst du, anhand dessen was du bis zu diesem Zeitpunkt gelesen hast, was wohl herauskommt? Werden beide Listen geändert?"
   ]
  },
  {
   "cell_type": "code",
   "execution_count": null,
   "metadata": {},
   "outputs": [],
   "source": [
    "pizzatoppings_copy.append('Chili')\n",
    "\n",
    "print(f'pizza_toppings: {pizza_toppings}')\n",
    "print(f'pizzatoppings_copy: {pizzatoppings_copy}')"
   ]
  },
  {
   "cell_type": "markdown",
   "metadata": {},
   "source": [
    "Von der flachen Kopie aus wurde eine neue Referenz zu <b>'Chili'</b> angelegt.  \n",
    "\n",
    "Sind die Listen abhängig voneinander?"
   ]
  },
  {
   "cell_type": "code",
   "execution_count": null,
   "metadata": {},
   "outputs": [],
   "source": [
    "pizza_toppings is pizzatoppings_copy"
   ]
  },
  {
   "cell_type": "markdown",
   "metadata": {},
   "source": [
    "Aber ``.copy`` erstellt doch eine flache Kopie, oder? Was sagt Python dazu?"
   ]
  },
  {
   "cell_type": "code",
   "execution_count": null,
   "metadata": {},
   "outputs": [],
   "source": [
    "list.copy?"
   ]
  },
  {
   "cell_type": "markdown",
   "metadata": {},
   "source": [
    "\"Return a shallow copy of the list.\" Das heißt, der Rückgabewert ist eine flache Kopie der Liste.\n",
    "\n",
    "Was passiert, wenn ein Wert geändert wird?"
   ]
  },
  {
   "cell_type": "code",
   "execution_count": null,
   "metadata": {},
   "outputs": [],
   "source": [
    "pizzatoppings_copy[0] = 'Gouda'\n",
    "\n",
    "print(f'pizza_toppings: {pizza_toppings}')\n",
    "print(f'pizzatoppings_copy: {pizzatoppings_copy}')"
   ]
  },
  {
   "cell_type": "markdown",
   "metadata": {},
   "source": [
    "Die Änderung wird nur in der Kopie umgesetzt. Vergegenwärtige dir noch einmal diese Abbildung:  \n",
    "\n",
    "<img src=\"3-4-4-ShCopySublistAdress.jpg\">  \n",
    "\n",
    "Die Listen können unabhängig voneinander die direkt zugreifbaren Werte ändern.  \n",
    "\n",
    "**Tiefe Listen sind verschachtelte Listen bzw. nested Lists bzw. Listen mit Sublisten.** \n",
    "\n",
    "Wie sieht das Verhalten von ``.copy()`` bei einer tiefen Liste aus?"
   ]
  },
  {
   "cell_type": "code",
   "execution_count": null,
   "metadata": {},
   "outputs": [],
   "source": [
    "pizza_toppings = [['Caviar', 'Pinienkerne'], 'Mozzarella', 'Sauce Hollandaise', 'Knoblauch']\n",
    "\n",
    "pizzatoppings_copy = pizza_toppings.copy()\n",
    "\n",
    "print(f'pizza_toppings: {pizza_toppings}')\n",
    "print(f'pizzatoppings_copy: {pizzatoppings_copy}')"
   ]
  },
  {
   "cell_type": "markdown",
   "metadata": {},
   "source": [
    "Kann ein Wert zu der Superliste (\"Oberliste\") unabhängig vom Original in der Kopie hinzugefügt werden?"
   ]
  },
  {
   "cell_type": "code",
   "execution_count": null,
   "metadata": {},
   "outputs": [],
   "source": [
    "pizzatoppings_copy.append('Chili')\n",
    "\n",
    "print(f'pizza_toppings: {pizza_toppings}')\n",
    "print(f'pizzatoppings_copy: {pizzatoppings_copy}')"
   ]
  },
  {
   "cell_type": "markdown",
   "metadata": {},
   "source": [
    "Kann ein Wert in der Subliste nur in der Kopie geändert werden?"
   ]
  },
  {
   "cell_type": "code",
   "execution_count": null,
   "metadata": {},
   "outputs": [],
   "source": [
    "pizzatoppings_copy[0][0] = 'Blattgold'\n",
    "\n",
    "print(f'pizza_toppings: {pizza_toppings}')\n",
    "print(f'pizzatoppings_copy: {pizzatoppings_copy}')"
   ]
  },
  {
   "cell_type": "markdown",
   "metadata": {},
   "source": [
    "Eine Kopie über ``.copy()`` erstellt ist flach. Bei einer flachen Liste erscheint sie tief, doch sie ist eigentlich nur \"pseudo-tief\", denn bei einer **tiefen Liste** - einer Liste mit mindestestens einer Subliste - ist sie faktisch flach. Überprüfen wir die **ID der Sublisten** beider Superlisten:"
   ]
  },
  {
   "cell_type": "code",
   "execution_count": null,
   "metadata": {},
   "outputs": [],
   "source": [
    "print(id(pizzatoppings_copy[0]),id(pizza_toppings[0]))"
   ]
  },
  {
   "cell_type": "markdown",
   "metadata": {},
   "source": [
    "Wir können sie auch so überprüfen, um sicher zu gehen:"
   ]
  },
  {
   "cell_type": "code",
   "execution_count": null,
   "metadata": {},
   "outputs": [],
   "source": [
    "id(pizzatoppings_copy[0]) == id(pizza_toppings[0])"
   ]
  },
  {
   "cell_type": "markdown",
   "metadata": {},
   "source": [
    "Beide Superlisten zeigen auf exakt die gleiche Subliste. Die Subliste kann damit **nicht** von beiden aus unabhängig geändert werden.    \n",
    "\n",
    "Das Keyword ``is`` wird hier nicht eingesetzt, da es Referenzen vergleicht. Die Adresse der einen ID mit der Adresse der anderen ID abzugleichen, wäre nicht sinnvoll. **Jedes Objekt in Python ist wie ein Container für seine Werte.** Uns interessiert hier der Abgleich der (Ergebnis-)Werte der ``id()``-Funktion, nicht der Abgleich der ID-Container. Der ID-Container hat eine andere Adresse, als sein Ergebniswert. Es findet hier ein **Inhaltsvergleich der ID-Objekt-Container** statt, nämlich ihrer numerischen Adresse.  \n",
    "\n",
    "Betrachte die Abbildung noch einmal unter diesen Gesichtspunkten:  \n",
    "* Die Variablen für die Listen sind die Container, die die Adressen zu den Listen enthalten.\n",
    "* Die Listen sind Container, die die Adressen zu ihren Werten - den Listeneinträgen - enthalten.\n",
    "* Die Subliste ist ein Container im Listen-Container. Sie ist eine in der Liste gespeicherte Adresse.\n",
    "* Die Subliste als Container enthält wiederum die Adressen zu ihren Werten.\n",
    "* Die Werte sind immer der Inhalt, der mit <b>==</b> verglichen wird.\n",
    "* Adressen/Referenzen werden mit <b>is</b> verglichen.  \n",
    "\n",
    "<img src=\"3-4-4-ShCopySublistAdress.jpg\">  \n",
    "\n",
    "Wie die Liste, die über das Slicing <b>[&nbsp;:&nbsp;]</b> kopiert wurde, wurde mit ``.copy()`` eine flache Kopie erstellt. Bei einer flachen Liste fällt das nicht auf. Doch Vorsicht ist geboten, wenn zu dieser Liste Sublisten hinzugefügt werden. Es kann dann zu schwerwiegenden Fehlern durch Überschreibungen kommen.  \n",
    "<br>\n",
    "<br>\n",
    "    \n",
    "### b) copy.deepcopy() für die tiefe Kopie einer Liste (Modul \"copy\")\n",
    "\n",
    "Über das Modul <b>copy</b> ist die Funktion ``copy.deepcopy()`` verfügbar, mit der eine tiefe Kopie erstellt wird.  \n",
    "\n",
    "Auch diese Funktion ist nicht nur speziell für Listen einsetzbar, auch für Dictionarys und Tuples, jedoch nicht für Sets und andere Iterables.\n",
    "\n",
    "``.deepcopy()`` muss über den Modulnamen angewählt werden, sonst wird es von Python nicht erkannt. Zuvor muss das Modul <b>copy</b> über ``import copy`` importiert werden. Beispiel:"
   ]
  },
  {
   "cell_type": "code",
   "execution_count": null,
   "metadata": {},
   "outputs": [],
   "source": [
    "import copy \n",
    "\n",
    "pizza_toppings = ['Mozzarella', 'Sauce Holondaise', 'Knoblauch', 'Paprika', 'Tomaten', 'Brokkoli']\n",
    "\n",
    "pizzatoppings_copy = copy.deepcopy(pizza_toppings)\n",
    "\n",
    "print(f'pizza_toppings: {pizza_toppings}')\n",
    "\n",
    "print(f'pizzatoppings_copy: {pizzatoppings_copy}')"
   ]
  },
  {
   "cell_type": "code",
   "execution_count": null,
   "metadata": {},
   "outputs": [],
   "source": [
    "pizzatoppings_copy.append('Chili')\n",
    "\n",
    "print(f'pizza_toppings: {pizza_toppings}')\n",
    "\n",
    "print(f'pizzatoppings_copy: {pizzatoppings_copy}')"
   ]
  },
  {
   "cell_type": "markdown",
   "metadata": {},
   "source": [
    "Die kopierte Liste konnte vom Original unabhängig bearbeitet werden. So weit, so gut!\n",
    "\n",
    "Wie sieht das mit einer nested List aus?"
   ]
  },
  {
   "cell_type": "code",
   "execution_count": null,
   "metadata": {},
   "outputs": [],
   "source": [
    "pizza_toppings = [['Caviar', 'Pinienkerne'], 'Mozzarella', 'Sauce Hollandaise', 'Knoblauch', 'Tomaten']\n",
    "\n",
    "pizzatoppings_copy = copy.deepcopy(pizza_toppings)\n",
    "\n",
    "print(f'pizza_toppings: {pizza_toppings}')\n",
    "print(f'pizzatoppings_copy: {pizzatoppings_copy}')"
   ]
  },
  {
   "cell_type": "code",
   "execution_count": null,
   "metadata": {},
   "outputs": [],
   "source": [
    "pizzatoppings_copy[0][0] = 'Blattgold'\n",
    "\n",
    "print(f'pizza_toppings: {pizza_toppings}')\n",
    "print(f'pizzatoppings_copy: {pizzatoppings_copy}')"
   ]
  },
  {
   "cell_type": "markdown",
   "metadata": {},
   "source": [
    "Aha! Diesmal wurde die Original-Subliste nicht von einer Änderung in der Kopie-Subliste beeinflusst!  \n",
    "\n",
    "Damit hast du garantiert endlich deine eigene Pizza!  \n",
    "\n",
    "Sehen wir uns die Struktur einer Deep Copy an einer Abbildung an:  \n",
    "\n",
    "<img src=\"3-4-4-DeepCopy.jpg\">  \n",
    "<br>\n",
    "Zum Vergleich die Struktur der Shallow Copy\n",
    "(Für einen besseren Überblick verkleinere den Bildschirm mit <font color = green>Strg</font> plus <font color = green>-</font> oder <font color = green>Cmd</font> plus <font color = green>-</font>. Rückgängig machst du das, indem du statt dem <font color = green>-</font> das <font color = green>+</font> klickst.):\n",
    "\n",
    "<img src=\"3-4-4-ShCopySublistAdress.jpg\">   \n",
    "<br>\n",
    "Siehst du den Unterschied? Hier ist noch einmal die gleiche Abbildung zur tiefen Kopie:\n",
    "<img src=\"3-4-4-DeepCopy.jpg\">  \n",
    "\n",
    "Diesmal wurden die Werte der Subliste kopiert. Die tiefe Kopie der Liste enthält eine Referenz zu der **nun auch kopierten Subliste**. Die Subliste der Kopie ist damit **unabhängig von der Subliste des Originals**.  \n",
    "Dass beide Listen auf die gleichen Werte der Superliste zeigen (großes lila Rechteck), liegt daran, dass die Werte nach dem Kopiervorgang gleich sind. Das heißt nicht, dass beide Listen sie nicht unabhängig voneinander ändern könnten. Für einen neu angelegten Wert würde eine neue Referenz angelegt werden, wie bei dem Beispiel mit 'Chili' zu der flachen Kopie.  \n",
    "\n",
    "Die tiefe Kopie kann auch so veranschaulicht werden:  \n",
    "\n",
    "<img src=\"3-4-4-DeepCopy2.jpg\">  \n",
    "\n",
    "Es handelt sich um zwei voneinander unabhängige Listen mit jeweils unabhängigen Sublisten.  \n",
    "\n",
    "<div class=\"alert alert-block alert-info\">\n",
    "<font size=\"3\"><b>Schlussfolgerungen zu tiefen und flachen Kopien:</b></font>\n",
    "    \n",
    "* ist und bleibt deine Liste eine **flache Liste**, kannst du mit ``.copy()`` eine tiefe Kopie von ihr erzeugen\n",
    "* für eine **tiefe Liste** (= verschachtelte/nested List) verwende für eine tiefe Kopie über ``import copy`` die Funktion ``lst.copy.deepcopy()``\n",
    "</div>"
   ]
  },
  {
   "cell_type": "markdown",
   "metadata": {},
   "source": [
    "<div class=\"alert alert-block alert-warning\">\n",
    "    <font size=\"3\"><b>Übung 1 zu den bisherigen List-Funktionen:</b></font>  \n",
    "<br>\n",
    "    \n",
    "Die Liste deiner Klienten brauchst du in verschiedenen Ausführungen.\n",
    "\n",
    "**a)** Erstelle zuerst eine Kopie der Originalliste. Da es sich um eine flache Liste handelt, der definitiv keine Subliste hinzugefügt wird, kannst du dir aussuchen, welche Funktion du zum Kopieren verwendest. Lass dir Original und Kopie ausgeben. Lass dir dabei über F-Strings anzeigen, welche Liste Original oder Kopie ist.     \n",
    "\n",
    "**b)** Sortiere die Kopie.  \n",
    "\n",
    "**c)** Für verschiedene Zugriffsvarianten möchtest du die Liste einmal in aufsteigender und einmal in absteigender Reihenfolge gespeichert haben. Erstelle noch eine Kopie der Kopie von a) und drehe deren Einträge um. Lass dir danach mit F-Strings beide Varianten anzeigen. Sie sollten verschieden sein.  \n",
    "\n",
    "Auch für diese Aufgabe gilt: Welche Sortier-Funktion du verwendest, ist irrelevant, solange das Ergebnis stimmt.\n",
    "</div>"
   ]
  },
  {
   "cell_type": "code",
   "execution_count": null,
   "metadata": {},
   "outputs": [],
   "source": [
    "# a)\n",
    "\n",
    "clients = ['Frisör Kahl', 'Fahrschule Schrott', 'Weinhandel Käsebier', 'Antiquitäten Staub', 'Wursthandel Hunger']\n",
    "\n"
   ]
  },
  {
   "cell_type": "code",
   "execution_count": null,
   "metadata": {},
   "outputs": [],
   "source": [
    "# b)\n",
    "\n"
   ]
  },
  {
   "cell_type": "code",
   "execution_count": null,
   "metadata": {},
   "outputs": [],
   "source": [
    "# c)\n",
    "\n"
   ]
  },
  {
   "cell_type": "markdown",
   "metadata": {},
   "source": [
    "### c) .sort() zum Sortieren einer Liste\n",
    "\n",
    "Über ``.sort()`` hast du schon viel in der vorletzten Einheit gehört. Es ist nicht zu verwechseln mit ``.sorted()``!\n",
    "\n",
    "``.sort()`` ist eine spezielle List-Funktion, da sie nur auf Listen anwendbar ist.  \n",
    "\n",
    "Als Erinnerung an die vorletzte Einheit ist hier ein kleiner Überblick.\n",
    "\n",
    "#### Überblick zu den Unterschieden zwischen sorted() und .sort():\n",
    "\n",
    "| <p align=\"left\">Eigenschaft | <p align=\"left\">sorted() | <p align=\"left\">.sort() |\n",
    "|----------|-------|---------------|\n",
    "| <p align=\"left\">in-place | <p align=\"left\">nein | <p align=\"left\">ja |\n",
    "| <p align=\"left\">stable| <p align=\"left\">ja | <p align=\"left\">nein |\n",
    "| <p align=\"left\">Argument| <p align=\"left\">Iterable | <p align=\"left\">List |  \n",
    "| <p align=\"left\">Rückgabewert| <p align=\"left\">List | <p align=\"left\">None, nur Veränderung der Originalliste | \n",
    "\n",
    "#### Gemeinsamkeiten von sorted() und .sort():\n",
    "* aufsteigende Sortierung per default\n",
    "* Werte müssen gleichen Datenyps sein, sonst kein Vergleich zum Sortieren möglich, doch Floats und Integers werden verglichen  \n",
    "* zusätzliche Parameter **key** und **reverse**  \n",
    "\n",
    "#### Der Vorteil von .sort()\n",
    "Effizientes Sortieren einer Liste, da keine Liste erstellt und Speicherplatz für sie reserviert werden muss.  \n",
    "\n",
    "Eine Liste wird mit ``.sort()`` in-place verändert - auf der gleichen Speicheradresse. Die ursprüngliche Liste wird überschrieben:"
   ]
  },
  {
   "cell_type": "code",
   "execution_count": null,
   "metadata": {},
   "outputs": [],
   "source": [
    "degrees = [15,8,22,35,18,27,43,24]\n",
    "\n",
    "degrees.sort()\n",
    "\n",
    "print(degrees)"
   ]
  },
  {
   "cell_type": "markdown",
   "metadata": {},
   "source": [
    "Die Zuweisung einer in-place sortierten Liste zu einer neuen Variable ist falsch und führt zu None bei der Ausgabe der neu gespeicherten Liste:"
   ]
  },
  {
   "cell_type": "code",
   "execution_count": null,
   "metadata": {},
   "outputs": [],
   "source": [
    "degrees = [15,8,22,35,18,27,43,24]\n",
    "\n",
    "degrees_sort = degrees.sort()\n",
    "\n",
    "print(degrees_sort)"
   ]
  },
  {
   "cell_type": "markdown",
   "metadata": {},
   "source": [
    "Es gibt keine Garantie für die Beibehaltung der Anordnung gleicher Elemente - es ist ein instabiler Sortieralgorithmus.  \n",
    "\n",
    "Das an einem Beispiel zu demonstrieren, ist etwas schwierig. Denn ``.sort()`` kann die Anordnung gleicher Elemente beibehalten, doch muss es nicht. Das heißt, 1000 Mal kann die Anordnung beibehalten werden, beim 1001. Mal kann sie plötzlich verändert sein.  \n",
    "\n",
    "**``.sort()`` ist deshalb bei Anforderungen, bei denen die Beibehaltung der Anordnung gleicher Elemente gewährleistet sein muss, nicht einzusetzen. Andernfalls könnten schwerwiegende Fehler auftreten (siehe Beispiel in der vorhergehenden Einheit zu vertauschten Bankkonten).**  \n",
    "<br>\n",
    "\n",
    "Wie du in der vorletzten Einheit gesehen hast, kann dem Iterable bei ``sorted()`` eine zusätzliche Funktion angehängt werden.  Die Bezeichnungen ìn dem String werden in diesem Beispiel in einzelne Listeneinträge konvertiert:"
   ]
  },
  {
   "cell_type": "code",
   "execution_count": null,
   "metadata": {},
   "outputs": [],
   "source": [
    "pets = 'Kasimir Ratte, Freddy Fisch, Kathi Katze, Mehrdad Meerschwein, Bella Hund'\n",
    "\n",
    "pets_sorted = sorted(pets.split(', '))\n",
    "\n",
    "print(pets_sorted)"
   ]
  },
  {
   "cell_type": "markdown",
   "metadata": {},
   "source": [
    "Mit ``.sort()`` funktioniert das nicht so, da ``.sort()`` in-place sortiert und eine Liste nicht auf dem gleichen Speicherplatz wie einen String überschreiben kann:"
   ]
  },
  {
   "cell_type": "code",
   "execution_count": null,
   "metadata": {},
   "outputs": [],
   "source": [
    "pets = 'Kasimir Ratte, Freddy Fisch, Kathi Katze, Mehrdad Meerschwein, Bella Hund'\n",
    "\n",
    "pets.split(', ').sort()\n",
    "\n",
    "print(pets)"
   ]
  },
  {
   "cell_type": "markdown",
   "metadata": {},
   "source": [
    "Der String wurde nicht sortiert. Und was passiert, wenn man den sortieren String ausgeben lässt? Überlege vorher ..."
   ]
  },
  {
   "cell_type": "code",
   "execution_count": null,
   "metadata": {},
   "outputs": [],
   "source": [
    "print(pets.split(', ').sort())"
   ]
  },
  {
   "cell_type": "markdown",
   "metadata": {},
   "source": [
    "``.split()`` überschreibt übrigens nicht die Ursprungsvariable, es ist keine in-place Funktion. Es speichert Zeichen eines Strings als Einträge einer neu erstellten Liste:"
   ]
  },
  {
   "cell_type": "code",
   "execution_count": null,
   "metadata": {},
   "outputs": [],
   "source": [
    "pets = 'Kasimir Ratte, Freddy Fisch, Kathi Katze, Mehrdad Meerschwein, Bella Hund'\n",
    "\n",
    "pets2 = pets.split(', ')\n",
    "\n",
    "print(f'pets: {pets}')\n",
    "print(f'pets2: {pets2}')"
   ]
  },
  {
   "cell_type": "markdown",
   "metadata": {},
   "source": [
    "**Auch ``.sort()`` verfügt über die zusätzlichen Parameter key und reverse.**\n",
    "\n",
    "Syntax: <font color = green>lst.sort(key=None, reverse=False)</font>  \n",
    "\n",
    "Es folgen nun ein paar Beispiele zu diesenParametern, analog zu den Beispielen zu ``sorted()``.\n",
    "\n",
    "**Beispiele zu key**\n",
    "\n",
    "Unter dem Parameter <b>key</b> kann eine Funktion als Argument übergeben werden.  \n",
    "\n",
    "1) Sortierung von Strings nach Wortlänge:"
   ]
  },
  {
   "cell_type": "code",
   "execution_count": null,
   "metadata": {},
   "outputs": [],
   "source": [
    "icecream = ['Vanilla', 'Chocolate', 'Strawberry', 'Lime', 'Hazelnut']\n",
    "\n",
    "icecream.sort(key=len)\n",
    "\n",
    "print(icecream)"
   ]
  },
  {
   "cell_type": "markdown",
   "metadata": {},
   "source": [
    "Beachte auch hier wieder, dass die Funktionsklammern von ``len()`` nicht eingetragen werden.\n",
    "\n",
    "2) Sortierung von Strings entsprechend ihrer Anfangsbuchstaben:"
   ]
  },
  {
   "cell_type": "code",
   "execution_count": null,
   "metadata": {},
   "outputs": [],
   "source": [
    "customers = ['Koscak kosmo', 'Schmidt Rocky', 'Jäckle Jacqueline ', 'kartoffel karl', 'sauer sarah ', 'jenke jenny']\n",
    "\n",
    "customers.sort(key=str.lower)\n",
    "\n",
    "print(customers)"
   ]
  },
  {
   "cell_type": "markdown",
   "metadata": {},
   "source": [
    "Um richtig sortiert zu werden, wurden die uneinheitlich geschriebenen Namen auf der Basis ihrer Kleinbuchstaben sortiert.\n",
    "\n",
    "Zum Vergleich die Sortierung ohne die zusätzliche Key- und Funktionsangabe:"
   ]
  },
  {
   "cell_type": "code",
   "execution_count": null,
   "metadata": {},
   "outputs": [],
   "source": [
    "customers = ['Koscak kosmo', 'Schmidt Rocky', 'Jäckle Jacqueline ', 'kartoffel karl', 'sauer sarah ', 'jenke jenny']\n",
    "\n",
    "customers.sort()\n",
    "\n",
    "print(customers)"
   ]
  },
  {
   "cell_type": "markdown",
   "metadata": {},
   "source": [
    "Auch bei ``.sort()`` kannst du noch viele weitere Funktionen unter <b>key</b> eintragen, ebenso selbst definierte!  \n",
    "\n",
    "**Beispiele zu reverse**\n",
    "\n",
    "Wird der Parameter <b>reverse</b> auf True gestellt, wird die Liste rückwärts sortiert, in absteigender Reihenfolge.  \n",
    "\n",
    "1) Umgedrehte Sortierung von einer Liste bestehend aus Stringeinträgen:"
   ]
  },
  {
   "cell_type": "code",
   "execution_count": null,
   "metadata": {},
   "outputs": [],
   "source": [
    "icecream = ['Chocolate', 'Vanilla', 'Strawberry', 'Lime', 'Hazelnut']\n",
    "\n",
    "icecream.sort(reverse=True)\n",
    "\n",
    "print(icecream)"
   ]
  },
  {
   "cell_type": "markdown",
   "metadata": {},
   "source": [
    "Die Parameter <b>key</b> und <b>reverse</b> werden immer in der Reihenfolge der Syntax angegeben, erst <b>key</b>, danach <b>reverse</b>.  \n",
    "\n",
    "2) Beide gleichzeitig - umgedrehte Sortierung von Strings nach Wortlänge:"
   ]
  },
  {
   "cell_type": "code",
   "execution_count": null,
   "metadata": {},
   "outputs": [],
   "source": [
    "icecream = ['Vanilla', 'Chocolate', 'Strawberry', 'Lime', 'Hazelnut']\n",
    "\n",
    "icecream.sort(key=len, reverse=True)\n",
    "\n",
    "print(icecream)"
   ]
  },
  {
   "cell_type": "markdown",
   "metadata": {},
   "source": [
    "**Scrolle möglichst nicht nach unten. Überlege zuerst, wie du die Frage beantworten würdest. Unter der Code-Zelle steht die Antwort.**  \n",
    "<br>\n",
    "<br>\n",
    "\n",
    "#### Wird die absteigende Sortierung über die Slice-Notation auch bei .sort() funktionieren?  \n",
    "<br>\n",
    "<br>\n",
    "\n",
    "Hängen wir die Slice-Notation doch einfach an, es ist doch dasselbe.  \n",
    "<br>\n",
    "<br>\n",
    "\n",
    "Denk darüber nach, bevor du die Code-Zelle ausführst.  \n",
    "<br>\n",
    "<br>\n"
   ]
  },
  {
   "cell_type": "code",
   "execution_count": null,
   "metadata": {},
   "outputs": [],
   "source": [
    "customers = ['Koscak kosmo', 'Schmidt Rocky', 'Jacqueline Jäckle', 'karl kartoffel', 'sauer sarah', 'jenke jenny']\n",
    "\n",
    "customers.sort(key=str.lower)[::-1]\n",
    "\n",
    "print(customers)"
   ]
  },
  {
   "cell_type": "markdown",
   "metadata": {},
   "source": [
    "<br>\n",
    "<br>\n",
    "<br>\n",
    "\n",
    "Mmmmh, was ist ein \"NoneType\"?  \n",
    "\n",
    "Kommt dir das irgendwie bekannt vor?  \n",
    "\n",
    "In welchem Zusammenhang hast du \"None\" zuletzt gehört?  \n",
    "\n",
    "Das war doch, als wir über Speicherplätze sprachen, die zwar reserviert sind, aber auf denen sich nichts befindet.  Da liegt der Zusammenhang mit dem \"NoneType\". Er ist der Datentyp von \"None\". \"None\" ist nicht nur ein falsy Wert und Counterpart von True und False (None ist weder noch), sondern - wie alles in Python - ein Objekt. Der \"NoneType\" ist ein Objekt, das nichts enthält, unter dem nichts gespeichert ist.  \n",
    "\n",
    "Diese Zeile ``customers.sort(key=str.lower)`` ist zwar auch ein Objekt, doch der Wert von <b>customers</b> bleibt in <b>customers</b> gespeichert.  Erinnere dich, wie eine neue Variable, der so eine Zeile mit ``.sort()`` zugewiesen wurde, nur als \"None\" in der Ausgabe erschien.  \n",
    "\n",
    "Das, worauf die Indexierung anzuwenden versucht wurde, hat keinen Wert. Die Adresse des Objekt-Containers gibt es, aber er zeigt auf keinen Wert, ist leer. Das Objekt existiert, aber dort ist nichts - None.  \n",
    "\n",
    "**Abschließend sei dir das offizielle Python-Tutorial ans Herz gelegt, das eine aktuelle und zuverlässige Referenz für alle Funktionen, Datentypen etc. garantiert:** https://docs.python.org/3/tutorial/datastructures.html  \n",
    "<br>\n",
    "\n",
    "<div class=\"alert alert-block alert-warning\">\n",
    "    <font size=\"3\"><b>Übung 2 zu den bisherigen List-Funktionen:</b></font>  \n",
    "<br>\n",
    "    \n",
    "Du kümmerst dich wieder um deinen Online-Elektronik-Shop. Ein Mitarbeiter hat auch an der Produktliste gearbeitet. Er erzählt dir, dass er eine Discount-Liste wieder zu den Produkten hinzugefügt hat sowie eine Liste von Produkten, die demnächst upgegradet werden sollten und es mittlerweile sind. Dich beschleicht das Gefühl, dass die \"Canon Digitalkamera\" nun wieder mehrfach in der Produktliste auftaucht.\n",
    "\n",
    "**a)**  Weil die Liste so groß ist (in unserer Fantasie), willst du einen mindestens doppelt vorhandenen Eintrag automatisiert entfernen. Schreibe ein If-Statement, das Folgendes ausführt: Ist der Eintrag \"Canon Digitalkamera\" mindestens doppelt vorhanden, soll er entfernt werden. (Lass dir zur Überprüfung die Liste ausgeben.) \n",
    "\n",
    "**b)** Um sicher zu gehen, dass \"Canon Digitalkamera\" nicht immer noch mehrfach vorhanden ist, lässt du die Häufigkeit dieses Eintrags abzählen. \n",
    "\n",
    "**c)** Lass dir den Index ausgeben, an dem der erste der doppelten Einträge auftaucht.  \n",
    "\n",
    "**d)** Lösche den Eintrag anhand seines Indizes. (Lass dir zur Überprüfung die Liste ausgeben.)   \n",
    "\n",
    "**e)** Nach den Angaben deines Mitarbeiters konnte in der von ihm hinterlassenen Liste \"Canon Digitalkamera\" höchstens drei Mal vorkommen. Schreibe mithilfe von Bedingungen Statements, die \"Canon Digitalkamera\" aus der Liste löschen, bis sie nur noch ein Mal vorhanden ist. Hierfür gibt es mehrere Lösungswege - doch das richtige Ergebnis zählt! Lass dir zum Testen und zur Überprüfung die Liste ausgeben.  \n",
    "<br>\n",
    "Diese Aufgabe ließe sich noch effizienter mit einem Loop lösen, doch dazu kommen wir noch ;-)\n",
    "</div>"
   ]
  },
  {
   "cell_type": "code",
   "execution_count": null,
   "metadata": {},
   "outputs": [],
   "source": [
    "# a)\n",
    "\n",
    "products = ['Auna Stereosystem', 'Canon Digitalkamera', 'Canon Digitalkamera', 'Canon Digitalkamera', 'Epson Beamer',\\\n",
    "'Huawei Smartphone', 'Panasonic Headphones', 'Samsung TV', 'Sony Speakers']\n",
    "\n"
   ]
  },
  {
   "cell_type": "code",
   "execution_count": null,
   "metadata": {},
   "outputs": [],
   "source": [
    "# b)\n",
    "\n"
   ]
  },
  {
   "cell_type": "code",
   "execution_count": null,
   "metadata": {},
   "outputs": [],
   "source": [
    "# c)\n",
    "\n"
   ]
  },
  {
   "cell_type": "code",
   "execution_count": null,
   "metadata": {},
   "outputs": [],
   "source": [
    "# d)\n",
    "\n"
   ]
  },
  {
   "cell_type": "code",
   "execution_count": null,
   "metadata": {},
   "outputs": [],
   "source": [
    "# e)\n",
    "\n",
    "products = ['Auna Stereosystem', 'Canon Digitalkamera', 'Canon Digitalkamera', 'Canon Digitalkamera', 'Epson Beamer',\\\n",
    "'Huawei Smartphone', 'Panasonic Headphones', 'Samsung TV', 'Sony Speakers']\n",
    "\n"
   ]
  },
  {
   "cell_type": "markdown",
   "metadata": {},
   "source": [
    "<div class=\"alert alert-block alert-success\">\n",
    "<b>Prima!</b> Nun kennst du alle wichtigen Funktionen zu Listen und hast auch jede Menge Hintergrundwissen zu diesen Funktionen angesammelt. \n",
    "    \n",
    "Du bist nun bereit, dich verschachtelten Listen zuzuwenden und wie du solche Listen splitten und neue aus ihnen erstellen kannst - in der kommenden Einheit.\n",
    "</div>"
   ]
  },
  {
   "cell_type": "markdown",
   "metadata": {},
   "source": [
    "<div class=\"alert alert-block alert-info\">\n",
    "<h3>Das kannst du aus dieser Übung und zu speziellen List-Funktionen mitnehmen:</h3>\n",
    "\n",
    "* **Spezielle List-Funktionen**\n",
    "    * ``.append()`` hängt das übergebene Element/Iterable ans Listenende an, z.B.: ``lst.append('Z')``\n",
    "        * <font color = green>lst.append(wert_ohne_datenstruktur)</font> ist äquivalent zu: <font color = green>lst[len(lst):&nbsp;] = einstelliges_iterable(mit nur einem Wert)</font>\n",
    "        * hinzugefügte mehrstellige Iterables erscheinen mit ``.append()`` in der Liste als Substrukturen, z.B. als Subliste\n",
    "        * Beispiel:\n",
    "            * ``colors = ['Rot','Grün', 'Blau']``\n",
    "            * ``colors.append(['Orange', 'Lila'])`` => Output über ``print(colors)``: ['Rot', 'Grün', 'Blau', ['Orange', 'Lila']]\n",
    "    * **Überschreiben/Updaten** eines Listenelements an einem Index, z.B.: ``lst[0] = 1`` => überschreibt den Wert an Index 0 mit \"1\"\n",
    "    * ``.insert()`` zum Einfügen von Werten, inkl. Iterables, an einem bestimmten Index, z.B.: ``lst.insert(1,'Eins')`` => fügt an Index 1  \"Eins\"ein\n",
    "        * überschreibt **nicht** den vorherigen Wert am angegebenen Index\n",
    "        * Syntax: <font color = green>liste.insert(Index,Element)</font>\n",
    "        * die Angabe beider Parameter (Index und Element) ist ein Muss\n",
    "        * erzeugt Substrukturen der Iterables in der Liste\n",
    "        * Beispiel:\n",
    "            * ``colors = ['Rot','Grün', 'Blau']``\n",
    "            * ``colors.insert(2,['Orange', 'Lila'])`` => Output über ``print(colors)``: ['Rot', 'Grün', ['Orange', 'Lila'], 'Blau']\n",
    "    * ``.extend()`` zum Einfügen von Iterables\n",
    "    * fügt die Einträge der Iterables als gleichstufige Listeneinträge ein, ohne Substrukturen zu bilden\n",
    "        * Beispiel:\n",
    "            * ``colors = ['Rot','Grün', 'Blau']``\n",
    "            * ``colors.extend(['Orange', 'Lila'])`` => Output über ``print(colors)``: ['Rot','Grün', 'Blau', 'Orange', 'Lila']\n",
    "        * ist äquivalent zu: <font color = green>lst[len(lst):&nbsp;] = iterable</font>\n",
    "    * ``.remove()`` entfernt den ihm übergebenen Listeneintrag, z.B.: ``lst.remove(x)``\n",
    "        * entfernt den ersten auf den Übergabewert zutreffenden Listeneintrag und wirft bei nicht vorhandenen Einträgen einen <font color = darkred>ValueError</font>\n",
    "    * ``.pop()`` entfernt per default den letzten Listeneintrag, z.B.: ``lst.pop()`` \n",
    "        * entfernt zusätzlich bei angegebenem Index dessen Wert, z.B.: ``lst.pop(1)`` => entfernt den Wert an Index 1\n",
    "        * ist äquivalent zu: ``del lst[1]``\n",
    "        * doch ``pop()`` zeigt im Gegensatz zu ``del`` den gelöschten Eintrag in der Ausgabe an\n",
    "    * ``.clear()`` zum Leeren der kompletten Liste, z.B.: ``lst.clear()`` => Output über ``print(lst)``: [&nbsp;]\n",
    "        * ist äquivalent zu: ``del lst[:]``\n",
    "    * ``.copy()`` zum Erstellen einer **flachen Kopie - shallow Copy -** der Liste, z.B.: ``lst_copy = lst.copy()``\n",
    "        * **anwendbar auch auf Dictionarys und Tuples, doch sonst auf keine weiteren Collection-Types und Iterables**\n",
    "        * eine flache Kopie beeinflusst das Original\n",
    "        * wird mit ``.copy()`` eine **flache Liste (ohne Subliste(n))** kopiert, ist das eine **tiefe Kopie**\n",
    "        * **aber** sobald eine **Liste Sublisten enthält (tiefe Liste)**, macht sich die grundsätzlich **flache Kopie** durch ``.copy()`` an den Sublisten-Werten bemerkbar\n",
    "        * Werte der Subliste werden **nicht** kopiert, lediglich die Adresse der Subliste wird stufengleich zu den Werten übergeben\n",
    "        * die **Sublisten** der Kopie sind damit **abhängig** von den Sublisten des Originals\n",
    "        * Äquivalent zu ``.copy()`` ist die Kopie mittels Slicing, z.B.: ``lst_copy = lst[:]``\n",
    "        * Erzeugung einer flachen Kopie auch über <b>=</b> möglich, z.B.: ``lst_copy = lst``\n",
    "            * die Listen liegen damit am gleichen Speicherort\n",
    "            * kopiert auch flache Listen flach\n",
    "            * Änderungen an Werten in Original und Kopie einer flachen Liste sind dann nicht unabhängig,  im Gegensatz zu ``lst_copy = lst[:]`` und ``lst_copy() = lst.copy()``    \n",
    "    * ``copy.deeplist()`` erstellt eine **tiefe Kopie - deep Copy**\n",
    "        * ist eine Funktion des Moduls <b>copy</b>, deshalb vorher: ``import copy``\n",
    "        * **anwendbar auch auf Dictionarys und Tuples, doch sonst auf keine weiteren Collection-Types und Iterables**\n",
    "        * Änderungen an einer tiefen Kopie bewirken **keine Änderungen** am Original, auch nicht bei einer **tiefen Liste**\n",
    "        * bei Sublisten werden auch ihre Werte kopiert\n",
    "    * ``.reverse()`` zum Umdrehen einer Liste, z.B.: ``lst.rverse()`` => die Listeneinträge sind damit absteigend sortiert\n",
    "    * ``.count()`` zum Zählen eines übergebenen String-Wertes in der Liste, z.B.: ``lst.count('Rot')``\n",
    "        * die Häufigkeit von Werten an bestimmten Indizen zu suchen, ist mit Listen nicht möglich, nur mit Strings\n",
    "        * Syntax für Listen: <font color = green>lst.count(value)</font>\n",
    "    * ``.index()`` findet den Index des ihm übergebenen Wertes, z.B.: ``lst.index('Rot')``\n",
    "        * sucht von links nach rechts\n",
    "        * kommt der Wert mehrfach vor, zeigt ``.index()`` nur den zuerst gefundenen an\n",
    "        * optional kann man in einem bestimmten Bereich von Indizen suchen\n",
    "        * Syntax: <font color = green>lst.index(value,Start,Ende)</font>\n",
    "    * ``.sort()`` zum Sortieren von Listen, z.B.: ``lst.sort()``\n",
    "        * nicht zu verwechseln mit ``sorted()`` - **Unterschiede**:\n",
    "            * ``.sort()`` ist ein in-place Sortieralgorithmus, die Liste wird auf dem gleichen Speicherplatz überschrieben\n",
    "            * ``.sort()`` ist ein instabiler Sortieralgorithmus, die Speicherplätze gleicher Werte werden möglicherweise vertauscht\n",
    "            * ``.sort()`` sortiert Listen, ``sorted()`` kann alle Iterables sortieren\n",
    "            * Rückgabewert von ``.sort()`` ist **None**, die übergebene Liste wird überschrieben - ``sorted()`` erzeugt immer eine Liste\n",
    "        * **Gemeinsamkeiten** von ``.sort()`` und ``sorted()``:\n",
    "            * sortieren in aufsteigender Reihenfolge - in <b>ascending Order</b>\n",
    "            * Werte müssen gleichen Datenyps sein, sonst kein Vergleich zum Sortieren möglich, doch Floats und Integers werden verglichen  \n",
    "            * haben die zusätzlichen Parameter **key** und **reverse**\n",
    "        * neben seinen Schwächen hat ``.sort()`` den **Vorteil**, dass es effizient ist, weil keine neue Liste erstellt und Speicherplatz für diese reserviert werden muss\n",
    "        * Syntax: <font color = green>lst.sort(key=None, reverse=False)</font>\n",
    "        * Anwendung einer Funktion mittels **key**, z.B.: ``lst.sort(key=len)`` => sortiert die Strings in der übergebenen Liste nach Länge\n",
    "        * Sortierung in absteigender Reihenfolge - in **descending Order** -  mit **reverse**, z.B.: ``lst.sort(reverse=True)``\n",
    "        * Sortierung nach Stringlänge und rückwärts, z.B.: ``lst.sort(liste, key=len, reverse=True)``  \n",
    "<br>\n",
    "* **Python**\n",
    "    * Python ist sowohl eine Interpreter- als auch eine Compiler-Sprache\n",
    "        * denn es übersetzt erst den Code in Maschinencode (ähnlich zu einem Kompilierer) und führt ihn danach aus\n",
    "        * beides geschieht zur Laufzeit - der Ausführungszeit des Programms\n",
    "    * alles in Python ist ein Objekt und hat eine Adresse/Referenz\n",
    "    * Objekte sind Container für Werte - sie enthalten aber nicht die Werte, sondern die Adressen zu den Werten\n",
    "    * Die Werte sind immer der Inhalt, der mit ``==`` verglichen wird\n",
    "    * Adressen/Referenzen werden mit ``is`` verglichen \n",
    "</div>"
   ]
  }
 ],
 "metadata": {
  "kernelspec": {
   "display_name": "Python 3",
   "language": "python",
   "name": "python3"
  },
  "language_info": {
   "codemirror_mode": {
    "name": "ipython",
    "version": 3
   },
   "file_extension": ".py",
   "mimetype": "text/x-python",
   "name": "python",
   "nbconvert_exporter": "python",
   "pygments_lexer": "ipython3",
   "version": "3.7.3"
  }
 },
 "nbformat": 4,
 "nbformat_minor": 2
}
