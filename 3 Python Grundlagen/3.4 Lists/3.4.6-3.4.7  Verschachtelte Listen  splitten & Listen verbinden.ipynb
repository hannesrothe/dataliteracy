{
 "cells": [
  {
   "cell_type": "markdown",
   "metadata": {},
   "source": [
    "#  3.4 Lists\n",
    "\n",
    "## 3.4.6-3.4.7  Verschachtelte Listen  splitten & Listen verbinden\n",
    "\n",
    "Im Anschluss dieser Übungseinheit kannst du ...\n",
    "+ tiefe Listen splitten, auch mehrfach verschachtelte\n",
    "+ neue Listen aus Teilen bestehender Listen erstellen\n",
    "+ mehrere Listen miteinander zu neuen Listen verbinden"
   ]
  },
  {
   "cell_type": "markdown",
   "metadata": {},
   "source": [
    "## 3.4.6 Verschachtelte Listen & verschachteltes Slicing\n",
    "\n",
    "Die Synonyme für verschachtelte Listen sind dir bereits geläufig: nested/tiefe Listen und Lists in Lists - Listen in Listen.  \n",
    "\n",
    "Sie eignen sich gut dafür, eine Liste hierarchisch zu gliedern. Die Superliste bildet die oberste Ebene, pro Subliste geht es dann eine Stufe in der Hierarchie nach unten.  \n",
    "\n",
    "Die Listeneinträge der obersten Ebene, der Superliste, können auch nur aus Sublisten bestehen. Die Superliste ist dann der übergeordnete Container der Sublisten. Beispiel mit Städten und Einwohnerzahlen in Millionen:"
   ]
  },
  {
   "cell_type": "code",
   "execution_count": null,
   "metadata": {},
   "outputs": [],
   "source": [
    "cities_population = [['Delhi', 27.28], ['Peking', 21.25], ['Tokio', 38.05]]"
   ]
  },
  {
   "cell_type": "markdown",
   "metadata": {},
   "source": [
    "Diese Sublisten wären als Dictionarys sogar noch besser geeignet, da sie klare Schlüssel-Werte-Paare bilden.  \n",
    "\n",
    "Ein paar verschachtelte/nested Lists hast du auch in der vorhergehenden Einheit gesehen. ``.append()`` und ``.insert()`` bilden Sublisten, wenn sie eine Liste mit mindestens einem Eintrag übergeben bekommen. Erinnerung:"
   ]
  },
  {
   "cell_type": "code",
   "execution_count": 1,
   "metadata": {},
   "outputs": [
    {
     "name": "stdout",
     "output_type": "stream",
     "text": [
      "[2, 4, 6, 8, [10]]\n"
     ]
    }
   ],
   "source": [
    "lst = [2,4,6,8]\n",
    "\n",
    "lst.append([10])\n",
    "\n",
    "print(lst)"
   ]
  },
  {
   "cell_type": "code",
   "execution_count": 3,
   "metadata": {},
   "outputs": [
    {
     "name": "stdout",
     "output_type": "stream",
     "text": [
      "[2, 4, 6, 8, [10]]\n"
     ]
    }
   ],
   "source": [
    "lst = [2,4,6,8]\n",
    "\n",
    "lst.insert(4, [10])\n",
    "\n",
    "print(lst)"
   ]
  },
  {
   "cell_type": "markdown",
   "metadata": {},
   "source": [
    "Eine Liste kann aus beliebig vielen, in sich verschachtelten Listen sowie anderen verschachtelten Datenstrukturen bestehen.  \n",
    "\n",
    "Beispiel zu einer Liste mit zwei Sublisten:"
   ]
  },
  {
   "cell_type": "code",
   "execution_count": null,
   "metadata": {},
   "outputs": [],
   "source": [
    "lst1 = [0, 1, [2,4,6,8], [3,5,9], 10]"
   ]
  },
  {
   "cell_type": "markdown",
   "metadata": {},
   "source": [
    "(Die mal gesetzten und in den Sublisten weggelassenen Leerzeichen nach den Kommas sollen dir nur für eine bessere Lesbarkeit behilflich sein.)\n",
    "\n",
    "Beispiel zu einer Liste mit zwei doppelt verschachtelten Sublisten:"
   ]
  },
  {
   "cell_type": "code",
   "execution_count": null,
   "metadata": {},
   "outputs": [],
   "source": [
    "lst2 = [0, 1, [2,4,6,8, [-2, -4, -8]], [3,5,9, [-3, -5, -9]], 10]"
   ]
  },
  {
   "cell_type": "markdown",
   "metadata": {},
   "source": [
    "Beispiel zu einer Liste bestehend aus Tupeln. Die Tuples enthalten Namen, Alter und Führerscheinklasse. <b>employees</b> bedeutet \"Angestellte\":"
   ]
  },
  {
   "cell_type": "code",
   "execution_count": null,
   "metadata": {},
   "outputs": [],
   "source": [
    "employees = [('Mustafa Mustang', 36, 'A'), ('Raphaella Racer', 28, 'B' ), ('Tom Trucker', 44, 'C')]"
   ]
  },
  {
   "cell_type": "markdown",
   "metadata": {},
   "source": [
    "### Verschachtelte Listen slicen\n",
    "\n",
    "Das Slicing verschachtelter Listen funktioniert ganz ähnlich zu dem Slicing flacher Listen.  \n",
    "Der Unterschied ist, dass die Sublisten bzw. allgemein die Substrukturen über zwei zusätzliche eckige Klammern angewählt werden.  \n",
    "\n",
    "Syntax zum Anwählen des zweiten Levels einer Liste: <font color = green>lst[Index][Index]</font>  \n",
    "Über die ersten eckigen Klammern werden - wie gewohnt - die Werte der Superliste angewählt. Über die zweiten eckigen Klammern werden die Werte der Substruktur angewählt.  \n",
    "\n",
    "Je mehr Substrukturen eine Liste hat, desto mehr eckige Klammern müssen zum Anwählen derer Werte hinzugefügt werden.  \n",
    "\n",
    "**Abbildung zum Zugriff auf Werte in Substrukturen einer Liste:**  \n",
    "\n",
    "<img src=\"3-4-5-NestedList.jpg\"> \n",
    "<br>\n",
    "<br>\n"
   ]
  },
  {
   "cell_type": "markdown",
   "metadata": {},
   "source": [
    "<div class=\"alert alert-block alert-warning\">\n",
    "    <font size=\"3\"><b>Hinweis zur Bearbeitung dieser Einheit:</b></font>  \n",
    "<br>\n",
    "    \n",
    "Du wirst im Laufe dieser Einheit immer wieder Fragen sowie kleine Aufgaben lesen. Du erkennst sie gleich an ihrer Farbgebung in orange. Überlege dir erst eine Antwort und probier sie aus, bevor du zu der weiter darunterliegenden Code-Zelle scrollst und die Beantwortung liest. Die Antwort ist stets mit einem grünen Block markiert.  \n",
    "\n",
    "**Wichtige Empfehlung: Auch, wenn das nun doppelt gesagt wird, probier dich bitte erst selbst an einer möglichen Lösung aus, bevor du dir die Auflösung ansiehst.**  \n",
    "\n",
    "**Wie alle praktischen Tätigkeiten kannst du Programmieren nur durch Übung lernen. Selbst, wenn du nicht auf die Lösung kommen solltest, allein das aktive Nachdenken über sie und das Eintippen von Wegen wird dich zu einem/r besseren ProgrammierIn machen ;-)**\n",
    "</div>\n",
    "\n",
    "### 3.4.6 a) Eine Liste mit einer Verschachtelung slicen  \n",
    "\n",
    "Schau dir diese Liste an:"
   ]
  },
  {
   "cell_type": "code",
   "execution_count": null,
   "metadata": {},
   "outputs": [],
   "source": [
    "lst1 = [0, 1, [2,4,6,8], [3,5,9], 10]"
   ]
  },
  {
   "cell_type": "markdown",
   "metadata": {},
   "source": [
    "<font color = #f57c00>**Zuerst: Wie kommen wir an die erste Subliste mit den Werten [2,4,6,8] ran? Probier es in der folgenden Code-Zelle aus, bevor du weiter scrollst.**</font>\n",
    "<br>\n",
    "<br>\n",
    "<br>\n"
   ]
  },
  {
   "cell_type": "code",
   "execution_count": null,
   "metadata": {},
   "outputs": [],
   "source": []
  },
  {
   "cell_type": "markdown",
   "metadata": {},
   "source": [
    "<div class=\"alert alert-block alert-success\">\n",
    "<br>  \n",
    "<br>  \n",
    "<br>  \n",
    "<br>  \n",
    "<br>  \n",
    "<br>  \n",
    "<br>  \n",
    "<br>  \n",
    "<br>  \n",
    "<br>  \n",
    "<br>  \n",
    "<br>  \n",
    "<br> \n",
    "<b>Antwort:</b>  \n",
    "<br>  \n",
    "<br>  \n",
    "<br>  \n",
    "<br>  \n",
    "<br>  \n",
    "</div>"
   ]
  },
  {
   "cell_type": "code",
   "execution_count": null,
   "metadata": {},
   "outputs": [],
   "source": [
    "lst1[2]"
   ]
  },
  {
   "cell_type": "markdown",
   "metadata": {},
   "source": [
    "Die Subliste liegt auf der gleichen Ebene wie die übrigen Werte der Liste. Sie ist also über [&nbsp;] anwählbar.  \n",
    "<br>\n",
    "<font color = #f57c00>**Wie gelangen wir an den Wert 8 aus der Subliste?**</font>  \n",
    "<br>\n",
    "<br>\n"
   ]
  },
  {
   "cell_type": "code",
   "execution_count": 4,
   "metadata": {},
   "outputs": [],
   "source": [
    "lst1 = [0, 1, [2,4,6,8], [3,5,9], 10]\n",
    "\n"
   ]
  },
  {
   "cell_type": "markdown",
   "metadata": {},
   "source": [
    "<div class=\"alert alert-block alert-success\">\n",
    "<br>  \n",
    "<br>  \n",
    "<br>  \n",
    "<br>  \n",
    "<br>  \n",
    "<br>  \n",
    "<br>  \n",
    "<br>  \n",
    "<br>  \n",
    "<br>  \n",
    "<br>  \n",
    "<br>  \n",
    "<br> \n",
    "<b>Antwort:</b>  \n",
    "<br>  \n",
    "<br>  \n",
    "<br>  \n",
    "<br>  \n",
    "<br>  \n",
    "</div>"
   ]
  },
  {
   "cell_type": "code",
   "execution_count": 10,
   "metadata": {},
   "outputs": [
    {
     "data": {
      "text/plain": [
       "8"
      ]
     },
     "execution_count": 10,
     "metadata": {},
     "output_type": "execute_result"
    }
   ],
   "source": [
    "lst1[2][3]"
   ]
  },
  {
   "cell_type": "markdown",
   "metadata": {},
   "source": [
    "Zuerst wird die Subliste auf dem Index 2 der Superliste angewählt. Dann wird Index 3 innerhalb der Subliste angewählt.  \n",
    "<br>\n",
    "<font color = #f57c00>**Gib die 5 aus der zweiten Subliste von \"lst1\" aus.**</font>  \n",
    "<br>\n",
    "<br>\n"
   ]
  },
  {
   "cell_type": "code",
   "execution_count": 11,
   "metadata": {},
   "outputs": [],
   "source": [
    "lst1 = [0, 1, [2,4,6,8], [3,5,9], 10]\n",
    "\n"
   ]
  },
  {
   "cell_type": "markdown",
   "metadata": {},
   "source": [
    "<div class=\"alert alert-block alert-success\">\n",
    "<br>  \n",
    "<br>  \n",
    "<br>  \n",
    "<br>  \n",
    "<br>  \n",
    "<br>  \n",
    "<br>  \n",
    "<br>  \n",
    "<br>  \n",
    "<br>  \n",
    "<br>  \n",
    "<br>  \n",
    "<br> \n",
    "<b>Antwort:</b>  \n",
    "<br>  \n",
    "<br>  \n",
    "<br>  \n",
    "<br>  \n",
    "<br>  \n",
    "</div>"
   ]
  },
  {
   "cell_type": "code",
   "execution_count": 7,
   "metadata": {},
   "outputs": [
    {
     "data": {
      "text/plain": [
       "5"
      ]
     },
     "execution_count": 7,
     "metadata": {},
     "output_type": "execute_result"
    }
   ],
   "source": [
    "lst1[3][1]"
   ]
  },
  {
   "cell_type": "markdown",
   "metadata": {},
   "source": [
    "Die zweite Subliste liegt auf Index 3 der Superliste. Die 5 liegt auf Index 1 der Subliste.  \n",
    "<br>\n",
    "<font color = #f57c00>**Wie alt ist Tom Trucker? Gib sein Alter aus.**</font>  \n",
    "<br>\n",
    "<br>\n"
   ]
  },
  {
   "cell_type": "code",
   "execution_count": 8,
   "metadata": {},
   "outputs": [],
   "source": [
    "employees = [('Mustafa Mustang', 36, 'A'), ('Raphaella Racer', 28, 'B' ), ('Tom Trucker', 44, 'C')]\n",
    "\n"
   ]
  },
  {
   "cell_type": "markdown",
   "metadata": {},
   "source": [
    "<div class=\"alert alert-block alert-success\">\n",
    "<br>  \n",
    "<br>  \n",
    "<br>  \n",
    "<br>  \n",
    "<br>  \n",
    "<br>  \n",
    "<br>  \n",
    "<br>  \n",
    "<br>  \n",
    "<br>  \n",
    "<br>  \n",
    "<br>  \n",
    "<br> \n",
    "<b>Antwort:</b>  \n",
    "<br>  \n",
    "<br>  \n",
    "<br>  \n",
    "<br>  \n",
    "<br>  \n",
    "</div>"
   ]
  },
  {
   "cell_type": "code",
   "execution_count": 9,
   "metadata": {},
   "outputs": [
    {
     "data": {
      "text/plain": [
       "44"
      ]
     },
     "execution_count": 9,
     "metadata": {},
     "output_type": "execute_result"
    }
   ],
   "source": [
    "employees[2][1]"
   ]
  },
  {
   "cell_type": "markdown",
   "metadata": {},
   "source": [
    "Das Tuple zu Tom Trucker liegt auf Index 2 der Superliste, sein Alter auf deren Index 1.  \n",
    "\n",
    "**Wie sieht das aus, wenn wir Sequenzen, also Teilabschnitte von Unterlisten ausgeben möchten?**\n",
    "\n",
    "Beginnen wir mit einem Beispiel, das du  schon kennst.  \n",
    "<br>\n",
    "<font color = #f57c00>**Wie gibst du die 0 und 1 der Superliste gleichzeitig aus?**</font>  \n",
    "<br>\n",
    "<br>"
   ]
  },
  {
   "cell_type": "code",
   "execution_count": null,
   "metadata": {},
   "outputs": [],
   "source": [
    "lst1 = [0, 1, [2,4,6,8], [3,5,9], 10]\n",
    "\n"
   ]
  },
  {
   "cell_type": "markdown",
   "metadata": {},
   "source": [
    "<div class=\"alert alert-block alert-success\">\n",
    "<br>  \n",
    "<br>  \n",
    "<br>  \n",
    "<br>  \n",
    "<br>  \n",
    "<br>  \n",
    "<br>  \n",
    "<br>  \n",
    "<br>  \n",
    "<br>  \n",
    "<br>  \n",
    "<br>  \n",
    "<br> \n",
    "<b>Antwort:</b>  \n",
    "<br>  \n",
    "<br>  \n",
    "<br>  \n",
    "<br>  \n",
    "<br>  \n",
    "</div>"
   ]
  },
  {
   "cell_type": "code",
   "execution_count": null,
   "metadata": {},
   "outputs": [],
   "source": [
    "lst1[0:2]"
   ]
  },
  {
   "cell_type": "markdown",
   "metadata": {},
   "source": [
    "Das ist das Slicing, das du schon kennst. Ab dem Index vor dem Doppelpunkt werden alle Werte abgebildet - bis exlusive des Indizes nach dem Doppelpunkt.  \n",
    "Das funktioniert ebenso mit Sublisten, nur, dass du zu den \"rein\" eckigen Klammern **[&nbsp;]** zur Anwahl der Liste bzw. Subliste(n) noch weitere eckige Klammern **[&nbsp;:&nbsp;]** für das Slicing brauchst.  \n",
    "  \n",
    "<br>\n",
    "<font color = #f57c00><b>Gib die 4,6,8 der ersten Subliste aus.</b></font>  \n",
    "<br>\n",
    "<br>"
   ]
  },
  {
   "cell_type": "code",
   "execution_count": null,
   "metadata": {},
   "outputs": [],
   "source": [
    "lst1 = [0, 1, [2,4,6,8], [3,5,9], 10]\n",
    "\n"
   ]
  },
  {
   "cell_type": "markdown",
   "metadata": {},
   "source": [
    "<div class=\"alert alert-block alert-success\">\n",
    "<br>  \n",
    "<br>  \n",
    "<br>  \n",
    "<br>  \n",
    "<br>  \n",
    "<br>  \n",
    "<br>  \n",
    "<br>  \n",
    "<br>  \n",
    "<br>  \n",
    "<br>  \n",
    "<br>  \n",
    "<br> \n",
    "<b>Antwort:</b>  \n",
    "<br>  \n",
    "<br>  \n",
    "<br>  \n",
    "<br>  \n",
    "<br>  \n",
    "</div>"
   ]
  },
  {
   "cell_type": "code",
   "execution_count": null,
   "metadata": {},
   "outputs": [],
   "source": [
    "lst1[2][1:4]"
   ]
  },
  {
   "cell_type": "markdown",
   "metadata": {},
   "source": [
    "Zuerst wird die Subliste auf Index 2 angewählt. Eine Ebene tiefer slicen wir die Subliste so, dass die Werte ihrer Indize 0-3 abgebildet werden.  \n",
    "\n",
    "Funktioniert das auch mit negativen Indizes?  \n",
    "\n",
    "Probier es gleich aus!  \n",
    "<br>\n",
    "<font color = #f57c00><b>Lass die 3,5 in der Ausgabe erscheinen, indem du nur negative Indize verwendest.</b></font>  \n",
    "<br>\n",
    "<br>"
   ]
  },
  {
   "cell_type": "code",
   "execution_count": null,
   "metadata": {},
   "outputs": [],
   "source": [
    "lst1 = [0, 1, [2,4,6,8], [3,5,9], 10]\n",
    "\n"
   ]
  },
  {
   "cell_type": "markdown",
   "metadata": {},
   "source": [
    "<div class=\"alert alert-block alert-success\">\n",
    "<br>  \n",
    "<br>  \n",
    "<br>  \n",
    "<br>  \n",
    "<br>  \n",
    "<br>  \n",
    "<br>  \n",
    "<br>  \n",
    "<br>  \n",
    "<br>  \n",
    "<br>  \n",
    "<br>  \n",
    "<br> \n",
    "<b>Antwort:</b>  \n",
    "<br>  \n",
    "<br>  \n",
    "<br>  \n",
    "<br>  \n",
    "<br>  \n",
    "</div>"
   ]
  },
  {
   "cell_type": "code",
   "execution_count": null,
   "metadata": {},
   "outputs": [],
   "source": [
    "lst1[-2][-3:-1]"
   ]
  },
  {
   "cell_type": "markdown",
   "metadata": {},
   "source": [
    "Zur Erinnerung:  \n",
    "\n",
    "###  Indextabelle zu List\n",
    "\n",
    "| Index | ['Wert 1', |'Wert 2', | 'Wert 3',  | 'Wert 4'] \n",
    "|---|---|---|---|---|\n",
    "| positiv | 0 | 1 | 2 | 3|\n",
    "| negativ| -4 | -3 | -2 | -1|  \n",
    "\n",
    "Die zweite Subliste liegt auf dem negativen Index -2 der Superliste. Die geforderten Werte liegen in der Subliste auf den Indizen -3 bis inklusive -2. Da ein Index nach dem Doppelpunkt nicht mitzählt, wurde -1 angegeben, um den Wert auf Index -2 abzubilden.  \n",
    "\n",
    "Praktisch ist die Verwendung negativer Indize bei sehr langen Listen. Wenn man an Werte herankommen möchte, die weiter am Ende liegen, muss nicht die ganze Liste bis zu ihnen hin durchiteriert (= durchlaufen) werden.  \n",
    "<br>\n",
    "<font color = #f57c00><b>Gib Alter und Führerscheinklasse von Raphaella Racer über negative Indexierung aus.</b></font>  \n",
    "<br>\n",
    "<br>\n"
   ]
  },
  {
   "cell_type": "code",
   "execution_count": 12,
   "metadata": {},
   "outputs": [],
   "source": [
    "employees = [('Mustafa Mustang', 36, 'A'), ('Raphaella Racer', 28, 'B' ), ('Tom Trucker', 44, 'C')]\n",
    "\n"
   ]
  },
  {
   "cell_type": "markdown",
   "metadata": {},
   "source": [
    "<div class=\"alert alert-block alert-success\">\n",
    "<br>  \n",
    "<br>  \n",
    "<br>  \n",
    "<br>  \n",
    "<br>  \n",
    "<br>  \n",
    "<br>  \n",
    "<br>  \n",
    "<br>  \n",
    "<br>  \n",
    "<br>  \n",
    "<br>  \n",
    "<br> \n",
    "<b>Antwort:</b>  \n",
    "<br>  \n",
    "<br>  \n",
    "<br>  \n",
    "<br>  \n",
    "<br>  "
   ]
  },
  {
   "cell_type": "code",
   "execution_count": 13,
   "metadata": {},
   "outputs": [
    {
     "data": {
      "text/plain": [
       "(28, 'B')"
      ]
     },
     "execution_count": 13,
     "metadata": {},
     "output_type": "execute_result"
    }
   ],
   "source": [
    "employees[-2][-2:]"
   ]
  },
  {
   "cell_type": "markdown",
   "metadata": {},
   "source": [
    "Weil die Subliste, wie jede Liste, an Index -1 endet, ist die Angabe eines Indizes nach dem Doppelpunkt nicht erforderlich. Denn ohne Angabe eines Indizes nach dem Doppelpunkt wird die jeweilige (Sub-)Liste sowieso bis zu ihrem Ende durchlaufen.    \n",
    "<br>\n",
    "<br>\n",
    "\n",
    "### 3.4.6 b) Eine Liste mit zwei Verschachtelungen slicen  \n",
    "\n",
    "Die Liste zu den Angestellten wurde in eine Arbeiterliste geändert. Sie besteht nun nur aus Sublisten, von denen die auf zweitem Level verschachtelten Sublisten die Löhne von Januar, Februar und März enthalten:"
   ]
  },
  {
   "cell_type": "code",
   "execution_count": 14,
   "metadata": {},
   "outputs": [],
   "source": [
    "workers = [['Mustafa Mustang', 36, 'A',[1800.0, 2200.0, 1600.0]],\\\n",
    "             ['Raphaella Racer', 28, 'B',[1900.0, 1500.0,2300.0] ],\\\n",
    "             ['Tom Trucker', 44, 'C', [1700.0, 2100.0, 200.0]]]"
   ]
  },
  {
   "cell_type": "markdown",
   "metadata": {},
   "source": [
    "<font color = #f57c00><b>Wie viel hat Mustafa Mustang in diesen drei Monaten verdient? Gib die entsprechende Subliste aus.</b></font>  \n",
    "<br>\n",
    "<br>\n"
   ]
  },
  {
   "cell_type": "code",
   "execution_count": null,
   "metadata": {},
   "outputs": [],
   "source": []
  },
  {
   "cell_type": "markdown",
   "metadata": {},
   "source": [
    "<div class=\"alert alert-block alert-success\">\n",
    "<br>  \n",
    "<br>  \n",
    "<br>  \n",
    "<br>  \n",
    "<br>  \n",
    "<br>  \n",
    "<br>  \n",
    "<br>  \n",
    "<br>  \n",
    "<br>  \n",
    "<br>  \n",
    "<br>  \n",
    "<br> \n",
    "<b>Antwort:</b>  \n",
    "<br>  \n",
    "<br>  \n",
    "<br>  \n",
    "<br>  \n",
    "<br>  \n",
    "</div>"
   ]
  },
  {
   "cell_type": "code",
   "execution_count": 15,
   "metadata": {},
   "outputs": [
    {
     "data": {
      "text/plain": [
       "[1800.0, 2200.0, 1600.0]"
      ]
     },
     "execution_count": 15,
     "metadata": {},
     "output_type": "execute_result"
    }
   ],
   "source": [
    "workers[0][3]"
   ]
  },
  {
   "cell_type": "markdown",
   "metadata": {},
   "source": [
    "Die Subliste zu Mustafa Mustang liegt auf Index 0. In dieser Subliste liegt die Lohnliste auf Index 3.  \n",
    "<br>\n",
    "<font color = #f57c00><b>Wie viel hat Tom Trucker in diesen drei Monaten verdient? Gib die entsprechende Subliste aus.</b></font>  \n",
    "Für alle Mini-Aufgaben gilt: Ob du negative oder positive Indize verwendest, spielt hier keine Rolle, solange du auf das richtige Ergebnis kommst.  \n",
    "<br>\n",
    "<br>\n"
   ]
  },
  {
   "cell_type": "code",
   "execution_count": 16,
   "metadata": {},
   "outputs": [],
   "source": [
    "workers = [['Mustafa Mustang', 36, 'A',[1800.0, 2200.0, 1600.0]],\\\n",
    "             ['Raphaella Racer', 28, 'B',[1900.0, 1500.0,2300.0] ],\\\n",
    "             ['Tom Trucker', 44, 'C', [1700.0, 2100.0, 200.0]]]\n",
    "\n"
   ]
  },
  {
   "cell_type": "markdown",
   "metadata": {},
   "source": [
    "<div class=\"alert alert-block alert-success\">\n",
    "<br>  \n",
    "<br>  \n",
    "<br>  \n",
    "<br>  \n",
    "<br>  \n",
    "<br>  \n",
    "<br>  \n",
    "<br>  \n",
    "<br>  \n",
    "<br>  \n",
    "<br>  \n",
    "<br>  \n",
    "<br> \n",
    "<b>Antwort:</b>  \n",
    "<br>  \n",
    "<br>  \n",
    "<br>  \n",
    "<br>  \n",
    "<br>  \n",
    "</div>"
   ]
  },
  {
   "cell_type": "code",
   "execution_count": 17,
   "metadata": {},
   "outputs": [
    {
     "data": {
      "text/plain": [
       "[1700.0, 2100.0, 200.0]"
      ]
     },
     "execution_count": 17,
     "metadata": {},
     "output_type": "execute_result"
    }
   ],
   "source": [
    "workers[-1][-1]"
   ]
  },
  {
   "cell_type": "markdown",
   "metadata": {},
   "source": [
    "Oder:"
   ]
  },
  {
   "cell_type": "code",
   "execution_count": 18,
   "metadata": {},
   "outputs": [
    {
     "data": {
      "text/plain": [
       "[1700.0, 2100.0, 200.0]"
      ]
     },
     "execution_count": 18,
     "metadata": {},
     "output_type": "execute_result"
    }
   ],
   "source": [
    "workers[2][3]"
   ]
  },
  {
   "cell_type": "markdown",
   "metadata": {},
   "source": [
    "Wenn du weißt, dass ein Wert ganz hinten in der Liste ist, kannst ihn leicht mit **-1** erreichen.  \n",
    "\n",
    "Nun wollen wir an die Werte der innersten Sublisten ran!\n",
    "\n",
    "<br>\n",
    "<font color = #f57c00><b>Wie viel hat Raphaella Racer im Februar verdient?</b></font>   \n",
    "<br>\n",
    "<br>\n"
   ]
  },
  {
   "cell_type": "code",
   "execution_count": null,
   "metadata": {},
   "outputs": [],
   "source": [
    "employees = [['Mustafa Mustang', 36, 'A',[1800.0, 2200.0, 1600.0]],\\\n",
    "             ['Raphaella Racer', 28, 'B',[1900.0, 1500.0,2300.0] ],\\\n",
    "             ['Tom Trucker', 44, 'C', [1700.0, 2100.0, 200.0]]]\n",
    "\n"
   ]
  },
  {
   "cell_type": "markdown",
   "metadata": {},
   "source": [
    "<div class=\"alert alert-block alert-success\">\n",
    "<br>  \n",
    "<br>  \n",
    "<br>  \n",
    "<br>  \n",
    "<br>  \n",
    "<br>  \n",
    "<br>  \n",
    "<br>  \n",
    "<br>  \n",
    "<br>  \n",
    "<br>  \n",
    "<br>  \n",
    "<br> \n",
    "<b>Antwort:</b>  \n",
    "<br>  \n",
    "<br>  \n",
    "<br>  \n",
    "<br>  \n",
    "<br>  \n",
    "</div>"
   ]
  },
  {
   "cell_type": "code",
   "execution_count": 19,
   "metadata": {},
   "outputs": [
    {
     "data": {
      "text/plain": [
       "1500.0"
      ]
     },
     "execution_count": 19,
     "metadata": {},
     "output_type": "execute_result"
    }
   ],
   "source": [
    "workers[1][3][1]"
   ]
  },
  {
   "cell_type": "markdown",
   "metadata": {},
   "source": [
    "Raphaella Racer liegt auf Index 1, Ihre Löhne in der Subliste auf Index 3, der von Februar in der Sub-Subliste auf Index 1.  \n",
    "\n",
    "<br>\n",
    "<font color = #f57c00><b>Wie viel Tom Trucker im Januar und Februar verdient?</b></font>   \n",
    "<br>\n",
    "<br>\n"
   ]
  },
  {
   "cell_type": "code",
   "execution_count": null,
   "metadata": {},
   "outputs": [],
   "source": [
    "workers = [['Mustafa Mustang', 36, 'A',[1800.0, 2200.0, 1600.0]],\\\n",
    "             ['Raphaella Racer', 28, 'B',[1900.0, 1500.0,2300.0] ],\\\n",
    "             ['Tom Trucker', 44, 'C', [1700.0, 2100.0, 200.0]]]\n",
    "\n"
   ]
  },
  {
   "cell_type": "markdown",
   "metadata": {},
   "source": [
    "<div class=\"alert alert-block alert-success\">\n",
    "<br>  \n",
    "<br>  \n",
    "<br>  \n",
    "<br>  \n",
    "<br>  \n",
    "<br>  \n",
    "<br>  \n",
    "<br>  \n",
    "<br>  \n",
    "<br>  \n",
    "<br>  \n",
    "<br>  \n",
    "<br> \n",
    "<b>Antwort:</b>  \n",
    "<br>  \n",
    "<br>  \n",
    "<br>  \n",
    "<br>  \n",
    "<br>  \n",
    "</div>"
   ]
  },
  {
   "cell_type": "code",
   "execution_count": 20,
   "metadata": {},
   "outputs": [
    {
     "data": {
      "text/plain": [
       "[1700.0, 2100.0]"
      ]
     },
     "execution_count": 20,
     "metadata": {},
     "output_type": "execute_result"
    }
   ],
   "source": [
    "workers[-1][3][0:2]"
   ]
  },
  {
   "cell_type": "markdown",
   "metadata": {},
   "source": [
    "Tom Truckers Subliste liegt auf Index 2 bzw. -1, die Subliste zu seinen Löhnen auf Index 3 bzw. -1, dort liegen sein Januar- und Februarlohn auf Index 0 bis Index 1. Um Index 1 abzubilden, muss nach dem Doppelpunkt Index 2 angegeben werden.  \n",
    "<br>\n",
    "<font color = #f57c00><b>Wie viel Mustafa Mustang im Februar und März verdient?</b></font>   \n",
    "<br>\n",
    "<br>\n"
   ]
  },
  {
   "cell_type": "code",
   "execution_count": null,
   "metadata": {},
   "outputs": [],
   "source": [
    "workers = [['Mustafa Mustang', 36, 'A',[1800.0, 2200.0, 1600.0]],\\\n",
    "             ['Raphaella Racer', 28, 'B',[1900.0, 1500.0,2300.0] ],\\\n",
    "             ['Tom Trucker', 44, 'C', [1700.0, 2100.0, 200.0]]]\n",
    "\n"
   ]
  },
  {
   "cell_type": "markdown",
   "metadata": {},
   "source": [
    "<div class=\"alert alert-block alert-success\">\n",
    "<br>  \n",
    "<br>  \n",
    "<br>  \n",
    "<br>  \n",
    "<br>  \n",
    "<br>  \n",
    "<br>  \n",
    "<br>  \n",
    "<br>  \n",
    "<br>  \n",
    "<br>  \n",
    "<br>  \n",
    "<br> \n",
    "<b>Antwort:</b>  \n",
    "<br>  \n",
    "<br>  \n",
    "<br>  \n",
    "<br>  \n",
    "<br>  \n",
    "</div>"
   ]
  },
  {
   "cell_type": "code",
   "execution_count": 21,
   "metadata": {},
   "outputs": [
    {
     "data": {
      "text/plain": [
       "[2200.0, 1600.0]"
      ]
     },
     "execution_count": 21,
     "metadata": {},
     "output_type": "execute_result"
    }
   ],
   "source": [
    "workers[0][3][1:]"
   ]
  },
  {
   "cell_type": "markdown",
   "metadata": {},
   "source": [
    "Auch hier musste der Index nach dem Doppelpunkt für den Zugriff auf die Lohnliste nicht angegeben werden, da die Werte bis zum Listenende gefragt waren.  \n",
    "<br>\n",
    "<br>\n",
    "\n",
    "### 3.4.6 c) Eine Liste mit mehr als zwei Verschachtelungen slicen   \n",
    "\n",
    "Die Arbeiterliste wurde um eine weitere Subliste verschachtelt. Diese Subliste enthält die angesammelten Überstunden der Monate Januar bis März, die früher oder später verrechnet werden sollen.  \n",
    "\n",
    "In der Praxis wird eine zu tiefe Verschachtelung vermieden. Für gewöhnlich haben Listen kaum mehr als höchstens 4 Verschachtelungsstufen.  \n",
    "\n",
    "Wenn du die letzten Fragen zu diesem Thema beantworten kannst, bist du richtig fit im Slicen verschachtelter Listen!  \n",
    "\n",
    "Man nennt das auch \"<b>Subsetting von Listen</b>\", weil dabei Sublisten extrahiert werden.  \n",
    "<br>\n",
    "<font color = #f57c00><b>Wie viele Überstunden hat Tom Trucker von Januar bis März angesammelt? Gib die entsprechende Subliste aus.</b></font>   \n",
    "<br>\n",
    "<br>\n"
   ]
  },
  {
   "cell_type": "code",
   "execution_count": 22,
   "metadata": {},
   "outputs": [],
   "source": [
    "workers = [['Mustafa Mustang', 36, 'A',[1800.0, 2200.0, 1600.0, [10, 12, 5]]],\\\n",
    "             ['Raphaella Racer', 28, 'B',[1900.0, 1500.0,2300.0, [8, 3, 11]] ],\\\n",
    "             ['Tom Trucker', 44, 'C', [1700.0, 2100.0, 200.0, [14, 7, 2]]]]\n",
    "\n"
   ]
  },
  {
   "cell_type": "markdown",
   "metadata": {},
   "source": [
    "<div class=\"alert alert-block alert-success\">\n",
    "<br>  \n",
    "<br>  \n",
    "<br>  \n",
    "<br>  \n",
    "<br>  \n",
    "<br>  \n",
    "<br>  \n",
    "<br>  \n",
    "<br>  \n",
    "<br>  \n",
    "<br>  \n",
    "<br>  \n",
    "<br> \n",
    "<b>Antwort:</b>  \n",
    "<br>  \n",
    "<br>  \n",
    "<br>  \n",
    "<br>  \n",
    "<br>  \n",
    "</div>"
   ]
  },
  {
   "cell_type": "code",
   "execution_count": 23,
   "metadata": {},
   "outputs": [
    {
     "data": {
      "text/plain": [
       "[14, 7, 2]"
      ]
     },
     "execution_count": 23,
     "metadata": {},
     "output_type": "execute_result"
    }
   ],
   "source": [
    "workers[-1][-1][-1]"
   ]
  },
  {
   "cell_type": "markdown",
   "metadata": {},
   "source": [
    "Oder:"
   ]
  },
  {
   "cell_type": "code",
   "execution_count": 24,
   "metadata": {},
   "outputs": [
    {
     "data": {
      "text/plain": [
       "[14, 7, 2]"
      ]
     },
     "execution_count": 24,
     "metadata": {},
     "output_type": "execute_result"
    }
   ],
   "source": [
    "workers[2][3][3]"
   ]
  },
  {
   "cell_type": "markdown",
   "metadata": {},
   "source": [
    "Toms Liste liegt auf Index -1 bzw. 2 der Superliste. Die Lohnliste liegt dort auf Index -1 bzw. Index 3. Dort liegt die Überstundenliste auf Index -1 bzw. Index 3.  \n",
    "<br>\n",
    "<font color = #f57c00><b>Wie viele Überstunden hat Raphaella Racer im März angehäuft?</b></font>   \n",
    "<br>\n",
    "<br>\n"
   ]
  },
  {
   "cell_type": "code",
   "execution_count": null,
   "metadata": {},
   "outputs": [],
   "source": [
    "workers = [['Mustafa Mustang', 36, 'A',[1800.0, 2200.0, 1600.0, [10, 12, 5]]],\\\n",
    "             ['Raphaella Racer', 28, 'B',[1900.0, 1500.0,2300.0, [8, 3, 11]] ],\\\n",
    "             ['Tom Trucker', 44, 'C', [1700.0, 2100.0, 200.0, [14, 7, 2]]]]\n",
    "\n"
   ]
  },
  {
   "cell_type": "markdown",
   "metadata": {},
   "source": [
    "<div class=\"alert alert-block alert-success\">\n",
    "<br>  \n",
    "<br>  \n",
    "<br>  \n",
    "<br>  \n",
    "<br>  \n",
    "<br>  \n",
    "<br>  \n",
    "<br>  \n",
    "<br>  \n",
    "<br>  \n",
    "<br>  \n",
    "<br>  \n",
    "<br> \n",
    "<b>Antwort:</b>  \n",
    "<br>  \n",
    "<br>  \n",
    "<br>  \n",
    "<br>  \n",
    "<br>  \n",
    "</div>"
   ]
  },
  {
   "cell_type": "code",
   "execution_count": 25,
   "metadata": {},
   "outputs": [
    {
     "data": {
      "text/plain": [
       "11"
      ]
     },
     "execution_count": 25,
     "metadata": {},
     "output_type": "execute_result"
    }
   ],
   "source": [
    "workers[1][3][3][-1]"
   ]
  },
  {
   "cell_type": "markdown",
   "metadata": {},
   "source": [
    "Die Lohnliste wird mit <b>[1][3]</b> (oder **[-2][-1]**) angewählt. Die Überstundenliste ist dann auf <b>[3]</b> (oder **[-1])** in der Lohnliste. Dort liegen die März-Überstunden auf <b>[2]</b> bzw. <b>[-1]</b>.  \n",
    "<br>\n",
    "<font color = #f57c00><b>Wie viele Überstunden hat Mustafa Mustang im Januar und Februar geleistet?</b></font>   \n",
    "<br>\n",
    "<br>\n"
   ]
  },
  {
   "cell_type": "code",
   "execution_count": null,
   "metadata": {},
   "outputs": [],
   "source": [
    "workers = [['Mustafa Mustang', 36, 'A',[1800.0, 2200.0, 1600.0, [10, 12, 5]]],\\\n",
    "             ['Raphaella Racer', 28, 'B',[1900.0, 1500.0,2300.0, [8, 3, 11]] ],\\\n",
    "             ['Tom Trucker', 44, 'C', [1700.0, 2100.0, 200.0, [14, 7, 2]]]]\n",
    "\n"
   ]
  },
  {
   "cell_type": "markdown",
   "metadata": {},
   "source": [
    "<div class=\"alert alert-block alert-success\">\n",
    "<br>  \n",
    "<br>  \n",
    "<br>  \n",
    "<br>  \n",
    "<br>  \n",
    "<br>  \n",
    "<br>  \n",
    "<br>  \n",
    "<br>  \n",
    "<br>  \n",
    "<br>  \n",
    "<br>  \n",
    "<br> \n",
    "<b>Antwort:</b>  \n",
    "<br>  \n",
    "<br>  \n",
    "<br>  \n",
    "<br>  \n",
    "<br>  \n",
    "</div>"
   ]
  },
  {
   "cell_type": "code",
   "execution_count": 26,
   "metadata": {},
   "outputs": [
    {
     "data": {
      "text/plain": [
       "[10, 12]"
      ]
     },
     "execution_count": 26,
     "metadata": {},
     "output_type": "execute_result"
    }
   ],
   "source": [
    "workers[0][3][3][:2]"
   ]
  },
  {
   "cell_type": "markdown",
   "metadata": {},
   "source": [
    "Von Mustafa Mustangs Subliste wird die Lohnliste auf Index 3 angewählt, danach die Überstundenliste auf Index 3. Da die gefragten Überstunden vom Anfang an bis vor Index 2 laufen, muss vor dem Doppelpunkt kein Index angegeben werden.  \n",
    "\n",
    "Zu guter Letzt:  \n",
    "<br>\n",
    "<br>\n",
    "<font color = #f57c00><b>Wie viele Überstunden hat Tom Trucker im Januar und Februar geleistet?</b></font>   \n",
    "<br>\n",
    "<br>\n"
   ]
  },
  {
   "cell_type": "code",
   "execution_count": null,
   "metadata": {},
   "outputs": [],
   "source": [
    "workers = [['Mustafa Mustang', 36, 'A',[1800.0, 2200.0, 1600.0, [10, 12, 5]]],\\\n",
    "             ['Raphaella Racer', 28, 'B',[1900.0, 1500.0,2300.0, [8, 3, 11]] ],\\\n",
    "             ['Tom Trucker', 44, 'C', [1700.0, 2100.0, 200.0, [14, 7, 2]]]]\n",
    "\n"
   ]
  },
  {
   "cell_type": "markdown",
   "metadata": {},
   "source": [
    "<div class=\"alert alert-block alert-success\">\n",
    "<br>  \n",
    "<br>  \n",
    "<br>  \n",
    "<br>  \n",
    "<br>  \n",
    "<br>  \n",
    "<br>  \n",
    "<br>  \n",
    "<br>  \n",
    "<br>  \n",
    "<br>  \n",
    "<br>  \n",
    "<br> \n",
    "<b>Antwort:</b>  \n",
    "<br>  \n",
    "<br>  \n",
    "<br>  \n",
    "<br>  \n",
    "<br>  \n",
    "</div>"
   ]
  },
  {
   "cell_type": "code",
   "execution_count": null,
   "metadata": {},
   "outputs": [],
   "source": [
    "workers[-1][-1][-1][:2]"
   ]
  },
  {
   "cell_type": "markdown",
   "metadata": {},
   "source": [
    "### 3.4.6 d) Der Parameter \"step\"\n",
    "\n",
    "Für das Slicing aller splittbaren Datentypen ist der Parameter <b>step</b> verfügbar.  \n",
    "\n",
    "Beispiel zur Ausgabe aller ungeraden Zahlen eines Subsets einer Liste:"
   ]
  },
  {
   "cell_type": "code",
   "execution_count": 27,
   "metadata": {},
   "outputs": [
    {
     "data": {
      "text/plain": [
       "[1, 3, 5, 7, 9]"
      ]
     },
     "execution_count": 27,
     "metadata": {},
     "output_type": "execute_result"
    }
   ],
   "source": [
    "lst = [1, 2, 3, 4, 5,[1, 2, 3, 4, 5, 6, 7, 8, 9], 6, 7, 8, 9]\n",
    "\n",
    "lst[5][::2]"
   ]
  },
  {
   "cell_type": "markdown",
   "metadata": {},
   "source": [
    "Die erste Subliste an Index 5 wurde angewählt. Danach wurden mit <b>[&nbsp;:&nbsp;]</b> all ihre Werte ausgewählt. Anschließend wurde mit dem Parameter step [&nbsp;:&nbsp;:**2**] jeder 2. ihrer Werte aufgerufen.  \n",
    "<br>\n",
    "<br>\n",
    "\n",
    "### 3.4.6 e) Eine neue Liste aus einem Subset erstellen\n",
    "\n",
    "Das Subset einer Liste ist ein extrahierter Teil dieser Liste. Jede Splittung über [&nbsp;:&nbsp;] ergibt ein Subset einer Liste.  \n",
    "\n",
    "Aus diesen Subsets können neue Listen erstellt werden.  \n",
    "\n",
    "<font color = red>Das folgende Beispiel zeigt, worauf man achten muss!</font>\n",
    "\n",
    "In diesem Beispiel besteht die tiefe Liste aus Sublisten zu Städten und Einwohnerzahlen in Millionen:"
   ]
  },
  {
   "cell_type": "code",
   "execution_count": 43,
   "metadata": {},
   "outputs": [
    {
     "name": "stdout",
     "output_type": "stream",
     "text": [
      "[['Delhi', 27.28], ['Peking', 21.25]]\n"
     ]
    }
   ],
   "source": [
    "cities_population = [['Delhi', 27.28], ['Peking', 21.25], ['Tokio', 38.05]]\n",
    "\n",
    "cities_pop_subset = cities_population[0:2]\n",
    "\n",
    "print(cities_pop_subset)"
   ]
  },
  {
   "cell_type": "markdown",
   "metadata": {},
   "source": [
    "Aus den ersten beiden Listeneinträgen wurde eine neue Liste erstellt.  \n",
    "\n",
    "Ist das Subset unabhängig vom Original? Was passiert, wenn ein Eintrag im Subset geändert wird? Hat dies Auswirkungen auf das Original?"
   ]
  },
  {
   "cell_type": "code",
   "execution_count": 29,
   "metadata": {},
   "outputs": [
    {
     "name": "stdout",
     "output_type": "stream",
     "text": [
      "cities_population: [['Delhi', 27.28], ['Testtown', 21.25], ['Tokio', 38.05]]\n",
      "cities_pop_subset: [['Delhi', 27.28], ['Testtown', 21.25]]\n"
     ]
    }
   ],
   "source": [
    "cities_pop_subset[1][0] = 'Testtown'\n",
    "\n",
    "print(f'cities_population: {cities_population}')\n",
    "print(f'cities_pop_subset: {cities_pop_subset}')"
   ]
  },
  {
   "cell_type": "markdown",
   "metadata": {},
   "source": [
    "Die gesplittete Liste wurde mit <b>=</b> der neuen Variable <b>cities_pop_subset</b> zugewiesen. Deshalb ist **eine flache Kopie** entstanden, weil die Zuweisung einer tiefen Liste mit der Slice-Notation  <b>[&nbsp;:&nbsp;]</b> stattgefunden hat.  \n",
    "\n",
    "Die Subliste der Kopie liegt auf der gleichen Speicheradresse wie die Subliste des Originals, denn ihre Werte wurden nicht kopiert:"
   ]
  },
  {
   "cell_type": "code",
   "execution_count": 30,
   "metadata": {},
   "outputs": [
    {
     "data": {
      "text/plain": [
       "True"
      ]
     },
     "execution_count": 30,
     "metadata": {},
     "output_type": "execute_result"
    }
   ],
   "source": [
    "cities_population[1] is cities_pop_subset[1]"
   ]
  },
  {
   "cell_type": "markdown",
   "metadata": {},
   "source": [
    "Mit einer flachen Liste hätte die obere Herangehensweise geklappt. Nicht aber mit einer tiefen Liste.  \n",
    "\n",
    "Verwenden wir ``copy.deepcopy()`` erhalten wir eine tiefe, unabhängige Kopie der verschachtelten Liste:"
   ]
  },
  {
   "cell_type": "code",
   "execution_count": 47,
   "metadata": {},
   "outputs": [
    {
     "name": "stdout",
     "output_type": "stream",
     "text": [
      "[['Delhi', 27.28], ['Peking', 21.25]]\n"
     ]
    }
   ],
   "source": [
    "import copy\n",
    "\n",
    "cities_population = [['Delhi', 27.28], ['Peking', 21.25], ['Tokio', 38.05]]\n",
    "\n",
    "cities_pop_subset = copy.deepcopy(cities_population[0:2])\n",
    "\n",
    "print(cities_pop_subset)"
   ]
  },
  {
   "cell_type": "markdown",
   "metadata": {},
   "source": [
    "Und wir können die Kopie beliebig bearbeiten, ohne das Original zu verändern:"
   ]
  },
  {
   "cell_type": "code",
   "execution_count": 45,
   "metadata": {},
   "outputs": [
    {
     "name": "stdout",
     "output_type": "stream",
     "text": [
      "cities_population: [['Delhi', 27.28], ['Peking', 21.25], ['Tokio', 38.05]]\n",
      "cities_pop_subset: [['Delhi', 27.28], ['Testtown', 21.25]]\n"
     ]
    }
   ],
   "source": [
    "cities_pop_subset[1][0] = 'Testtown'\n",
    "\n",
    "print(f'cities_population: {cities_population}')\n",
    "print(f'cities_pop_subset: {cities_pop_subset}')"
   ]
  },
  {
   "cell_type": "markdown",
   "metadata": {},
   "source": [
    "Auch ein neuer Eintrag kann somit unabhängig hinzugefügt werden:"
   ]
  },
  {
   "cell_type": "code",
   "execution_count": 48,
   "metadata": {},
   "outputs": [
    {
     "name": "stdout",
     "output_type": "stream",
     "text": [
      "cities_population: [['Delhi', 27.28], ['Peking', 21.25], ['Tokio', 38.05]]\n",
      "cities_pop_subset: [['Delhi', 27.28], ['Peking', 21.25], 'Paris', 9.9]\n"
     ]
    }
   ],
   "source": [
    "cities_pop_subset[2:] = ['Paris', 9.90]\n",
    "\n",
    "print(f'cities_population: {cities_population}')\n",
    "print(f'cities_pop_subset: {cities_pop_subset}')"
   ]
  },
  {
   "cell_type": "markdown",
   "metadata": {},
   "source": [
    "**Beachte, dass über das Hinzufügen eines neuen Eintrags mittels der Slice-Notation [2:] kein <font color = darkred>IndexError</font> auftritt. Mit der Index-Notation [2] wäre dieser aufgetreten.**\n",
    "\n",
    "\n",
    "## 3.4.7 Listen verbinden (engl.: concatenating lists)\n",
    "\n",
    "Du weißt nun, wie man Listen splittet! Doch wie verbindet man sie?  \n",
    "\n",
    "Die Funktion ``zip()``, mit welcher du mehrere Listen sowie andere Datenstrukturen zu einer neuen Liste (oder anderen Datenstrukturen) zusammenfassen kannst, hast du in Kapitel \"3.4.3 Funktionen für List & andere Datentypen\" schon kennengelernt.  \n",
    "\n",
    "Im Folgenden werden dir noch weitere Möglichkeiten zur Verbindung von Listen vorgestellt.  \n",
    "\n",
    "### 3.4.7 a) Listen mit \"+\" verbinden\n",
    "\n",
    "In diesem Beispiel werden die Einnahmen zweier Quartale verbunden:"
   ]
  },
  {
   "cell_type": "code",
   "execution_count": 49,
   "metadata": {},
   "outputs": [
    {
     "name": "stdout",
     "output_type": "stream",
     "text": [
      "[12346.78, 10563, 65, 97832.43, 112849.46, 13128.89, 11494.37, 12436.52, 12973.05]\n"
     ]
    }
   ],
   "source": [
    "revenues01 = [12346.78, 10563,65, 97832.43, 112849.46]\n",
    "revenues02 = [13128.89, 11494.37, 12436.52, 12973.05]\n",
    "\n",
    "revenues01_02 = revenues01 + revenues02\n",
    "\n",
    "print(revenues01_02)"
   ]
  },
  {
   "cell_type": "markdown",
   "metadata": {},
   "source": [
    "Auf diese Weise können auch mehr als zwei Listen miteinander verbunden werden.\n",
    "\n",
    "Die beiden flachen listen wurden mit <b>+</b> zu einer neuen Liste verbunden. Weil die Liste flach ist, ist sie unabhängig von den Originallisten, wie du an der unabhängigen Änderung des ersten Eintrags in der neuen Liste sehen kannst:"
   ]
  },
  {
   "cell_type": "code",
   "execution_count": 50,
   "metadata": {},
   "outputs": [
    {
     "name": "stdout",
     "output_type": "stream",
     "text": [
      "[12346.78, 10563, 65, 97832.43, 112849.46]\n",
      "[100000.0, 10563, 65, 97832.43, 112849.46, 13128.89, 11494.37, 12436.52, 12973.05]\n"
     ]
    }
   ],
   "source": [
    "revenues01_02[0] = 100000.00\n",
    "\n",
    "print(revenues01)\n",
    "print(revenues01_02)"
   ]
  },
  {
   "cell_type": "markdown",
   "metadata": {},
   "source": [
    "Vorsicht ist jedoch wieder bei tiefen Listen geboten, wie es in den folgenden beiden Code-Zellen demonstriert wird:"
   ]
  },
  {
   "cell_type": "code",
   "execution_count": 51,
   "metadata": {},
   "outputs": [
    {
     "name": "stdout",
     "output_type": "stream",
     "text": [
      "[[12346.78, 13785.21], 10563, 65, 97832.43, 112849.46, [13128.89], 11494.37, 12436.52, 12973.05]\n"
     ]
    }
   ],
   "source": [
    "revenues01 = [[12346.78, 13785.21], 10563,65, 97832.43, 112849.46]\n",
    "revenues02 = [[13128.89], 11494.37, 12436.52, 12973.05]\n",
    "\n",
    "revenues01_02 = revenues01 + revenues02\n",
    "\n",
    "print(revenues01_02)"
   ]
  },
  {
   "cell_type": "code",
   "execution_count": 52,
   "metadata": {},
   "outputs": [
    {
     "name": "stdout",
     "output_type": "stream",
     "text": [
      "[[100000.0, 13785.21], 10563, 65, 97832.43, 112849.46]\n",
      "[[100000.0, 13785.21], 10563, 65, 97832.43, 112849.46, [13128.89], 11494.37, 12436.52, 12973.05]\n"
     ]
    }
   ],
   "source": [
    "revenues01_02[0][0] = 100000.00\n",
    "\n",
    "print(revenues01)\n",
    "print(revenues01_02)"
   ]
  },
  {
   "cell_type": "markdown",
   "metadata": {},
   "source": [
    "Auch <b>revenues01</b> wurde verändert.\n",
    "\n",
    "**Deshalb verwende für das Erstellen von neuen - unabhängigen - Listen aus tiefen Listen ``copy.deepcopy()``!**\n",
    "\n",
    "<div class=\"alert alert-block alert-warning\">\n",
    "    <font size=\"3\"><b>Übung zum Verbinden tiefer Listen:</b></font> Verbinde die Listen so, dass Einträge in ihnen unabhängig voneinander bearbeitet werden können.  \n",
    "    \n",
    "Weil dieses Wissen sehr wichtig ist, ist die Lösung zu dieser Übung weiter unten abgebildet. Scrolle also nicht nach unten, sondern löse sie zuerst selbst.\n",
    "</div>"
   ]
  },
  {
   "cell_type": "code",
   "execution_count": null,
   "metadata": {},
   "outputs": [],
   "source": [
    "revenues01 = [[12346.78, 13785.21], 10563,65, 97832.43, 112849.46]\n",
    "revenues02 = [[13128.89], 11494.37, 12436.52, 12973.05]\n",
    "\n",
    "revenues01_02 = revenues01 + revenues02\n",
    "\n",
    "print(revenues01_02)"
   ]
  },
  {
   "cell_type": "markdown",
   "metadata": {},
   "source": [
    "<div class=\"alert alert-block alert-warning\">\n",
    "    <font size=\"3\"><b>Teste die Unabhängigkeit beider Listen aus:</b></font>\n",
    "</div>"
   ]
  },
  {
   "cell_type": "code",
   "execution_count": null,
   "metadata": {},
   "outputs": [],
   "source": [
    "revenues01_02[0][0] = 100000.00\n",
    "\n",
    "print(revenues01)\n",
    "print(revenues01_02)"
   ]
  },
  {
   "cell_type": "markdown",
   "metadata": {},
   "source": [
    "<div class=\"alert alert-block alert-success\">\n",
    "<br>  \n",
    "<br>  \n",
    "<br>  \n",
    "<br>  \n",
    "<br>  \n",
    "<br>  \n",
    "<br>  \n",
    "<br>  \n",
    "<br>  \n",
    "<br>  \n",
    "<br>  \n",
    "<br>  \n",
    "<br> \n",
    "<b>Antwort:</b>  \n",
    "<br>  \n",
    "<br>  \n",
    "<br>  \n",
    "<br>  \n",
    "<br>  \n",
    "</div>"
   ]
  },
  {
   "cell_type": "code",
   "execution_count": null,
   "metadata": {},
   "outputs": [],
   "source": [
    "import copy\n",
    "\n",
    "revenues01 = [[12346.78, 13785.21], 10563,65, 97832.43, 112849.46]\n",
    "revenues02 = [[13128.89], 11494.37, 12436.52, 12973.05]\n",
    "\n",
    "revenues01_02 = copy.deepcopy(revenues01 + revenues02)\n",
    "\n",
    "print(revenues01_02)"
   ]
  },
  {
   "cell_type": "code",
   "execution_count": null,
   "metadata": {},
   "outputs": [],
   "source": [
    "revenues01_02[0][0] = 100000.00\n",
    "\n",
    "print(revenues01)\n",
    "print(revenues01_02)"
   ]
  },
  {
   "cell_type": "markdown",
   "metadata": {},
   "source": [
    "Die weiteren Herangehensweisen zum Verbinden von Listen werden nun nur noch an flachen Listen demonstriert.  \n",
    "\n",
    "Behalte dir im Kopf, dass du für tiefe Listen stets ``copy.deepcopy()`` verwenden musst, um eine unabhängige neue Liste zu erhalten.  \n",
    "<br>\n",
    "<br>\n",
    "\n",
    "### 3.4.7 b) Listen mit \"*\" verbinden\n",
    "\n",
    "Der Vollständigkeit halber siehst du an diesem Beispiel, wie mit <b>*</b> Listen verbunden werden können:"
   ]
  },
  {
   "cell_type": "code",
   "execution_count": null,
   "metadata": {},
   "outputs": [],
   "source": [
    "revenues01 = [12346.78, 10563,65, 97832.43, 112849.46]\n",
    "revenues02 = [13128.89, 11494.37, 12436.52, 12973.05]\n",
    "\n",
    "revenues01_02 = [*revenues01, *revenues02]\n",
    "\n",
    "print(revenues01_02)"
   ]
  },
  {
   "cell_type": "markdown",
   "metadata": {},
   "source": [
    "Die Syntax dafür ist etwas umständlicher, weshalb nichts dagegen spricht, Listen einfach mit <b>+</b> zu verbinden.  \n",
    "\n",
    "Auch auf diese Weise können mehr als zwei Listen miteinander verbunden werden.  \n",
    "<br>\n",
    "<br>\n",
    "\n",
    "### 3.4.7 c) Listen mit .extend() verbinden\n",
    "\n",
    "Auch über ``.extend()`` können Listen verbunden werden.\n",
    "\n",
    "Wie wird die über ``.extend()`` erstellte Liste aussehen? Überlege zuerst vor der Ausführung der Code-Zelle."
   ]
  },
  {
   "cell_type": "code",
   "execution_count": 53,
   "metadata": {},
   "outputs": [
    {
     "name": "stdout",
     "output_type": "stream",
     "text": [
      "None\n"
     ]
    }
   ],
   "source": [
    "revenues01 = [12346.78, 10563,65, 97832.43, 112849.46]\n",
    "revenues02 = [13128.89, 11494.37, 12436.52, 12973.05]\n",
    "\n",
    "revenues01_02 = revenues01.extend(revenues02)\n",
    "\n",
    "print(revenues01_02)"
   ]
  },
  {
   "cell_type": "markdown",
   "metadata": {},
   "source": [
    "Das kann umgangen werden, indem du der neuen Variable zuerst eine leere Liste zuweist:"
   ]
  },
  {
   "cell_type": "code",
   "execution_count": 54,
   "metadata": {},
   "outputs": [
    {
     "name": "stdout",
     "output_type": "stream",
     "text": [
      "[12346.78, 10563, 65, 97832.43, 112849.46, 13128.89, 11494.37, 12436.52, 12973.05]\n"
     ]
    }
   ],
   "source": [
    "revenues01 = [12346.78, 10563,65, 97832.43, 112849.46]\n",
    "revenues02 = [13128.89, 11494.37, 12436.52, 12973.05]\n",
    "\n",
    "revenues01_02 = []\n",
    "\n",
    "revenues01_02.extend(revenues01 + revenues02)\n",
    "\n",
    "print(revenues01_02)"
   ]
  },
  {
   "cell_type": "markdown",
   "metadata": {},
   "source": [
    "Dadurch, dass eine leere Liste auf dem Speicherplatz angelegt und ``.extend()`` auf dessen Variable angewendet wurde, wurde nicht der Speicherplatz von <b>revenues01</b> überschrieben. Stattdessen wurden die Werte in die leere Liste übertragen. \n",
    "\n",
    "**Aber diese Tatsache bleibt bestehen: Die neue Liste ist nur unabhängig von den Originallisten, weil diese flach sind.**  \n",
    "\n",
    "Du kannst die erste Liste, je nach Anforderungen, auch in-place mit der zweiten Liste erweitern:"
   ]
  },
  {
   "cell_type": "code",
   "execution_count": 55,
   "metadata": {},
   "outputs": [
    {
     "name": "stdout",
     "output_type": "stream",
     "text": [
      "[12346.78, 10563, 65, 97832.43, 112849.46, 13128.89, 11494.37, 12436.52, 12973.05]\n"
     ]
    }
   ],
   "source": [
    "revenues01 = [12346.78, 10563,65, 97832.43, 112849.46]\n",
    "revenues02 = [13128.89, 11494.37, 12436.52, 12973.05]\n",
    "\n",
    "revenues01.extend(revenues02)\n",
    "\n",
    "print(revenues01)"
   ]
  },
  {
   "cell_type": "markdown",
   "metadata": {},
   "source": [
    "### 3.4.7 d) Mit list() Listen aus anderen Datenstrukturen erstellen und verbinden\n",
    "\n",
    "Möchtest du andere Datenstrukturen in Listen umwandeln und verbinden, kann du das mit und innerhalb von ``list()``.  \n",
    "\n",
    "Weil Sets und Dictionarys andere Mechanismen haben, um verbunden zu werden, siehst du hier ein Beispiel mit Tuples.  \n",
    "\n",
    "Umwandlung zweier Tuple in eine Liste:"
   ]
  },
  {
   "cell_type": "code",
   "execution_count": 56,
   "metadata": {},
   "outputs": [
    {
     "name": "stdout",
     "output_type": "stream",
     "text": [
      "[12346.78, 10563, 65, 97832.43, 112849.46, 13128.89, 11494.37, 12436.52, 12973.05]\n"
     ]
    }
   ],
   "source": [
    "revenues01 = (12346.78, 10563,65, 97832.43, 112849.46)\n",
    "revenues02 = (13128.89, 11494.37, 12436.52, 12973.05)\n",
    "\n",
    "revenues01_02 = list(revenues01 + revenues02)\n",
    "\n",
    "print(revenues01_02)"
   ]
  },
  {
   "cell_type": "markdown",
   "metadata": {},
   "source": [
    "Tuples sind unveränderlich. Wertänderungen wirken sich deshalb grundsätzlich  niemals auf Tuples aus. In diesem Fall würde eine Wertänderung in der Liste das Tuple auch nicht berühren, weil es anderen Datentyps als List ist.  \n",
    "\n",
    "<div class=\"alert alert-block alert-info\">\n",
    "<font size=\"3\"><b>Tipp:</b></font> Führst du die gleiche Code-Zelle mehrmals hintereinander aus, wird der Code in ihr immer wieder ausgeführt. Genauer gesagt, wenn du eine Funktion auf eine Variable anwendest, wird die Variable immer wieder entsprechend der Funktion verändert.  \n",
    "    \n",
    "Wenn du zum Beispiel ``.append()`` immer wieder auf eine Liste anwendest, die nicht in der gleichen Code-Zelle gespeichert ist, wird der übergebene Wert in ``.append()`` immer wieder angehängt. Führst du die Code-Zelle drei Mal aus, wird der Wert dann 3 Mal angehängt sein.  \n",
    "\n",
    "Um das rückgängig zu machen, führe die Code-Zelle, in welcher die ursprüngliche Liste gespeichert ist, erneut aus.  \n",
    "\n",
    "Alternativ kannst du die Liste auch in der gleichen Code-Zelle speichern, in welcher du die Funktion auf sie anwendest.\n",
    "</div>  \n",
    "<br>\n",
    "\n",
    "<div class=\"alert alert-block alert-warning\">\n",
    "    <font size=\"3\"><b>Abschließende Übung zum Slicen und Verbinden von Listen:</b></font>  \n",
    "<br>\n",
    "    \n",
    "In dieser Übung erstellst du deine eigene tiefe Liste zu deinen Arbeitern und ihren Löhnen.  \n",
    "\n",
    "**a)** Du hast die Namen deiner Arbeiter als String vorliegen. Wandle ihn so um, dass jeder Name zu einem <b>Eintrag in einer Liste</b> konvertiert wird.  \n",
    "*Hinweis: Weil du noch nicht gelernt hast, wie du aus jedem Namen eine Subliste erstellen kannst, wird diese Liste nicht so verschachtelt sein wie die \"workers\"-Liste aus 3.4.5. Das Ergebnis von Aufgabe b) wird deshalb auch anders verschachtelt sein.*\n",
    "\n",
    "**b)** Die <b>Löhne</b> (= <b>wages</b>) deiner Arbeiter von <b>Januar</b> bis <b>März</b> hast du als einzelne Listen vorliegen. Füge sie jeweils <b>nach dem zugehörigen Arbeiter</b> in die Arbeiterliste ein. Gib die Arbeiterliste anschließend aus.  \n",
    "\n",
    "**c)** Wie viel hat <b>Lilya Lieferantin</b> im <b>Januar</b> verdient? Gib den Wert über Slicing aus.\n",
    "\n",
    "**d)** Erstelle eine neue Liste aus <b>Farshid Fahrers Einnahmen</b> von <b>Januar</b> und <b>Februar</b>. Speichere sie in einer Variable ab und gib die neue Liste aus.  \n",
    "\n",
    "**e)** Aufgrund eines Fehlers muss der <b>Februar-Lohn</b> von <b>Farshid Fahrer</b> in <b>1745.63</b> in der Liste aus **d)** geändert werden. Gib die geänderte Liste von Farshid Fahrers Einnahmen im Januar und Februar sowie die komplette Arbeiterliste aus. Die Originalliste darf nicht verändert worden sein.  \n",
    "\n",
    "**f)** In welchem Monat hat <b>Baako Bäcker am meisten</b> verdient? Wende die entsprechende Funktion auf den entsprechenden Listeneintrag an. Der höchste Lohn soll in der Ausgabe erscheinen. \n",
    "\n",
    "**g)** In welchem Monat hat <b>Lilya Lieferantin am wenigsten</b> verdient? Wende die entsprechende Funktion auf den entsprechenden Listeneintrag an. Der niedrigste Lohn soll in der Ausgabe erscheinen.  \n",
    "\n",
    "Mit welchen Herangehensweisen du diese Aufgaben löst, ist nicht wichtig, solange du auf die richtigen Ergebnisse kommst und sie nicht der Aufgabenstellung widersprechen.\n",
    "</div>"
   ]
  },
  {
   "cell_type": "code",
   "execution_count": null,
   "metadata": {},
   "outputs": [],
   "source": [
    "# a)\n",
    "\n",
    "workers_string = 'Baako Bäcker, Farshid Fahrer, Fina Finanzen, Lilya Lieferantin'\n",
    "\n"
   ]
  },
  {
   "cell_type": "code",
   "execution_count": null,
   "metadata": {},
   "outputs": [],
   "source": [
    "# b)\n",
    "\n",
    "bäcker_wage = [1557.46, 1397.79, 1789.31]\n",
    "fahrer_wage = [1638.24, 1622.76, 1537.48]\n",
    "finanzen_wage = [2300.26, 2218.54, 2195.27]\n",
    "lieferantin_wage = [1743.54, 1529.03, 1658.27]\n",
    "\n"
   ]
  },
  {
   "cell_type": "code",
   "execution_count": null,
   "metadata": {},
   "outputs": [],
   "source": [
    "# c)\n",
    "\n"
   ]
  },
  {
   "cell_type": "code",
   "execution_count": null,
   "metadata": {},
   "outputs": [],
   "source": [
    "# d)\n",
    "\n"
   ]
  },
  {
   "cell_type": "code",
   "execution_count": null,
   "metadata": {},
   "outputs": [],
   "source": [
    "# e)\n",
    "\n"
   ]
  },
  {
   "cell_type": "code",
   "execution_count": null,
   "metadata": {},
   "outputs": [],
   "source": [
    "# f)\n",
    "\n"
   ]
  },
  {
   "cell_type": "code",
   "execution_count": null,
   "metadata": {},
   "outputs": [],
   "source": [
    "# g)\n",
    "\n"
   ]
  },
  {
   "cell_type": "markdown",
   "metadata": {},
   "source": [
    "<div class=\"alert alert-block alert-success\">\n",
    "<b>Prima!</b> Verschachteltes Slicen ist dir nun vertraut, ebenso die Erstellung von Listen aus Subsets und mehreren Listen.  \n",
    "    \n",
    "Solltest du Schwierigkeiten mit der letzten Übung gehabt haben, geh noch einmal die Beispiele in diesem Kapitel durch. Schau dir eventuell in der vorhergehenden Einheit den Abschnitt zu flachen und tiefen Kopien an und in den anderen Einheiten, was es für Funktionen zu Listen gibt.  \n",
    "<br>\n",
    "    \n",
    "In der nächsten Einheit gibt es noch ein paar abschließende Aufgaben zum Kapitel Lists für dich zu lösen.  \n",
    "</div>"
   ]
  },
  {
   "cell_type": "markdown",
   "metadata": {},
   "source": [
    "<div class=\"alert alert-block alert-info\">\n",
    "<h3>Das kannst du aus dieser Übung mitnehmen:</h3>\n",
    "\n",
    "* **Verschachtelte Listen & verschachteltes Slicing**\n",
    "    * verschachtelte Listen werden auch tiefe Listen, nested Lists, Lists in Lists und Listen in Listen genannt\n",
    "    * pro Verschachtelungslevel wird ein eckiges Klammernpaar mehr zum Splitten eingesetzt\n",
    "    * das Slicing funktioniert wie gewohnt mit: <font color = green>lst[ab hier:bis vor diesen Index:step]</font>\n",
    "        * Beispiele:\n",
    "            * ``nums = [0, [0, 1, [0, 1, 2], 3, 4], 2, 3]``\n",
    "            * Ausgabe von **[[0, 1, [0, 1, 2], 3, 4], 2]** der Superliste: ``nums[1:3]``\n",
    "            * Ausgabe der **0** aus der ersten Subliste: ``nums[1][0]``\n",
    "            * Ausgabe der **2** aus der zweiten Subliste: ``nums[1][2][2]``\n",
    "            * Ausgabe der **3** aus der ersten Subliste: ``nums[1][3]``\n",
    "            * Ausgabe der **[0, 1]** aus der zweiten Subliste: ``nums[1][2][:2]``\n",
    "            * Ausgabe der **[3, 4]** aus der ersten Subliste: ``nums[1][-2:]``\n",
    "            * Ausgabe der **[0, 2]** aus der Superliste (Ausgabe in Zweierschritten): ``nums[::2]``\n",
    "            * Rückwärtsausgabe der zweiten Subliste (**[2, 1, 0]**): ``nums[1][2][::-1]``            \n",
    "<br>\n",
    "* **Neue Listen aus Subsets erstellen**\n",
    "    * Subsets sind immer das Ergebnis des Splittens mit <b>[&nbsp;:&nbsp;]</b>\n",
    "    * eine flache Liste, die flach bleibt, kann über <b>=</b> aus einer gesplitteten Liste erstellt werden, z.B.: ``subset_lst = flat_lst[1:4]``\n",
    "    * bei tiefen Listen erhält man nur ein vom Original unabhängiges Subset, wenn das Subset tief kopiert wird\n",
    "        * Beispiel:\n",
    "            * zuvor: ``import copy``\n",
    "            * z.B.: ``subset_lst = copy.deepcopy(deep_list[1:4])``  \n",
    "<br>\n",
    "* **Listen verbinden**\n",
    "    * heißt in der englischen Literatur <b>concatenating lists</b>\n",
    "    * mit ``+``, z.B.: ``new_lst = lst1 + lst2``\n",
    "        * Verbindung von mehr als 2 Lists möglich, z.B.: ``new_lst = lst1 + lst2 + lst3 + lst4``\n",
    "    * generell wird bei der Verbindung von tiefen Listen für eine tiefe Kopie über das Modul <b>copy</b> die Funktion ``copy.deepcopy()`` angewendet\n",
    "        * Beispiel: ``new_lst = copy.deepcopy(lst1 + lst2)``\n",
    "    * mit ``*``, z.B.: ``new_lst = [*lst1, *lst2]``\n",
    "        * Verbindung von mehr als 2 Lists möglich, z.B.: ``new_lst = [*lst1, *lst2, *lst3, *lst4]``\n",
    "    * mit ``.extend()``\n",
    "        * Beispiel 1 - lst1 <b>in-place</b> erweitern bzw. mit lst2 verbinden:\n",
    "            * ``lst1.extend(lst2)``\n",
    "        * Beispiel 2 - die verbundenen flachen Listen <b>auf einer anderen Adresse</b> speichern:\n",
    "            * ``lst1_2 = []``\n",
    "            * ``lst1_2 = lst1_2.extend(lst1 + lst2)``\n",
    "    * mit ``.list()`` Erstellung einer Liste aus <b>anderen Datenstrukturen</b>, z.B. Tupeln: ``new_lst = list(tuple1 + tuple2)``\n",
    "    * ``zip()`` zur Vereinigung mehrerer Listen (oder anderen Datenstrukturen) zu einer neuen\n",
    "        * Syntax: <font color = green>zip(\\*iterables)</font> => beliebig viele (\\*) Iterables werden mit einem Komma in den Funktionsklammern getrennt\n",
    "        * die Einträge der vereinten Ergebnisliste bestehen aus Tupeln, die jeweils die ersten, dann die zweiten, dritten usw. Listeneinträge der einzelnen Listen vereinen\n",
    "        * für die Umwandlung aus dem durch ``zip()`` entstandenen Zip-Objekt ist ``list()`` erforderlich\n",
    "        * Beispiel:\n",
    "            * ``lst1 = ['A', 'B', 'C']``\n",
    "            * ``lst2 = ['D', 'E', 'F']``\n",
    "            * ``lst_combined = list(zip(lst1, lst2))``\n",
    "            * Output über ``print(lst_combined)`` => [('A', 'D'), ('B', 'E'), ('C', 'F')]\n",
    "        * Unzippe die Tuple aus einer gezippten Liste (innerhalb einer Liste) mit ``list(zip(*tuplelist))``\n",
    "</div>"
   ]
  }
 ],
 "metadata": {
  "kernelspec": {
   "display_name": "Python 3",
   "language": "python",
   "name": "python3"
  },
  "language_info": {
   "codemirror_mode": {
    "name": "ipython",
    "version": 3
   },
   "file_extension": ".py",
   "mimetype": "text/x-python",
   "name": "python",
   "nbconvert_exporter": "python",
   "pygments_lexer": "ipython3",
   "version": "3.7.3"
  }
 },
 "nbformat": 4,
 "nbformat_minor": 2
}
