{
 "cells": [
  {
   "cell_type": "markdown",
   "metadata": {},
   "source": [
    "#  3.5 Dictionaries\n",
    "\n",
    "## 3.5.1-3.5.3 Dictionary - Erstellung, Wertezugriff & Besonderheiten\n",
    "\n",
    "Im Anschluss dieser Übungseinheit kannst du ...\n",
    "+ die Besonderheiten von Dictionarys benennen\n",
    "+ die Unterschiede zwischen unveränderlichen und veränderlichen Datentypen benennen und diese Datentypen einordnen\n",
    "+ flache und tiefe Dictionarys auf verschiedene Weisen erstellen\n",
    "+ auf Werte in flachen und tiefen Dictionarys zugreifen\n",
    "+ Keys und Werte flacher und tiefer Dictionarys überprüfen\n",
    "+ entscheiden, wann es besser ist, ein Dictionary oder eine List einzusetzen"
   ]
  },
  {
   "cell_type": "markdown",
   "metadata": {},
   "source": [
    "## 3.5.1 Was ist ein Dictionary, wie wird es erstellt?\n",
    "\n",
    "Ein <b>Dictionary</b> ist ein weiterer Collection-Type von Python. Es besteht aus Schlüssel-Werte-Paaren - wie ein Wörterbuch. In einem Wörterbuch findest du unter Wörtern einer Sprache die Übersetzung dieser Wörter in eine andere. So ähnlich ist es mit einem Dictionary:  \n",
    "\n",
    "Die Schlüssel (= <b>Keys</b>) sind das Wort, das du nachschlägst. Unter diesem Wort findest du die Übersetzung bzw. den Wert (= <b>Value</b>). Aber: jeder Key hat nur einen Value. Allerdings kann dieser Value aus einer Datenstruktur wie Dictionary, List etc. bestehen, welche wiederum mehrere Values enthalten kann. \n",
    "\n",
    "Ein Dictionary ist veränderbar (engl.: <b>mutable</b>): Values können verändert werden (nicht Keys).  \n",
    "Weiterhin ist ein Dictionary ungeordnet: Die Reihenfolge der Key-Value-Paare wird nicht gespeichert.\n",
    "\n",
    "Die Datentypen für Values sind flexibel auswählbar. Values können also aus Strings, Floats, Integers, Booleans sowie auch Listen, Tuples, Sets und weiteren Dictionarys sowie weiteren Datentypen bestehen.  \n",
    "\n",
    "Die Keys werden meistens als Strings oder Integers definiert. Jeder unveränderbare (engl.: <b>immutable</b>) Datentyp ( kann als Key gewählt werden.  \n",
    "\n",
    "#### Übersicht zu veränderbaren und unveränderbaren Datentypen\n",
    "\n",
    "| <p align=\"left\">Datentyp | <p align=\"left\">veränderbar = mutable | <p align=\"left\">unveränderbar = immutable |\n",
    "|----------|-------|---------------|\n",
    "| <p align=\"left\">String | <p align=\"left\">| <p align=\"left\">V |\n",
    "| <p align=\"left\">Integer| <p align=\"left\"> | <p align=\"left\">V |\n",
    "| <p align=\"left\">Float| <p align=\"left\"> | <p align=\"left\">V |  \n",
    "  | <p align=\"left\">Complex| <p align=\"left\"> | <p align=\"left\">V |  \n",
    "| <p align=\"left\">Boolean| <p align=\"left\"> | <p align=\"left\">V |\n",
    "| <p align=\"left\">Tuple| <p align=\"left\"> | <p align=\"left\">V |  \n",
    "| <p align=\"left\">Range| <p align=\"left\"> | <p align=\"left\">V |  \n",
    "| <p align=\"left\">List| <p align=\"left\">V | <p align=\"left\"> |\n",
    "| <p align=\"left\">Dictionary| <p align=\"left\">V | <p align=\"left\"> |  \n",
    "| <p align=\"left\">Set| <p align=\"left\">V | <p align=\"left\"> |\n",
    "| <p align=\"left\">benutzerdefinierte Datentypen| <p align=\"left\">V | <p align=\"left\"> |  \n",
    "\n",
    "<div class=\"alert alert-block alert-info\">\n",
    "<font size=\"3\"><b>Immutable Datentypen:</b></font>\n",
    "    \n",
    "Unveränderliche Datentypen haben einen festen Speicherplatz, auf dem die Eigenschaften dieser Objekte wie ID, Variablenname, Wert und Datentyp nicht verändert werden können.   \n",
    "\n",
    "Von unveränderlichen Objekten kann keine flache Kopie erstellt werden. Beim Kopiervorgang wird dem kopierten immutable Object eine neue Adresse zugewiesen. Die ID der Kopie gleicht also nicht der ID des Originals.  \n",
    "\n",
    "Man nennt immutable Data-Types auch <b>hashable Data-Types</b>. Der Hash-Wert eines Objekts wird aus seiner Speicheradresse generiert. Bei einer immer gleichen Speicheradresse bleibt der Hash-Wert bestehen und das Objekt ist somit hashable. \n",
    "</div>    \n",
    "\n",
    "\n",
    "Die folgende Tabelle zeigt Strings als Keys und Integers als Values, doch auch Integers könnten als Keys und Strings als Values gesetzt werden:  \n",
    "\n",
    "| <p align=\"left\">Key | <p align=\"left\">Value |\n",
    "|-------|---------------|\n",
    "| <p align=\"left\">'Sascha'| <p align=\"left\">22 |\n",
    "| <p align=\"left\">'Firat' | <p align=\"left\">24 |\n",
    "| <p align=\"left\">'Amina' | <p align=\"left\">22 |  \n",
    "| <p align=\"left\">'Mariko' | <p align=\"left\">21 |\n",
    "    \n",
    "\n",
    " Die Keys müssen unique sein (dürfen nicht doppelt vorkommen), die Values nicht. Die Keys fungieren wie Indizes: Direkt über sie ist der Value anwählbar.  \n",
    "\n",
    " ### Vorteil gegenüber Listen: Definierbare Keys\n",
    " \n",
    "Mit einem Dictionary kannst du sozusagen deine eigenen Indize definieren. Das ist auch der Vorteil von Dictionarys gegenüber Listen: Werte können damit spezifiziert werden. In einem Dictionary kann man festlegen, dass ein Float z.B. einen Zinssatz darstellen soll. In einer Liste bleibt ein Float ein bloßer Float. Die Keys eines Dictionarys sind wie Kategorien/Label für die Werte.\n",
    "\n",
    "Diese Liste enthält die Daten eines Studenten:"
   ]
  },
  {
   "cell_type": "code",
   "execution_count": null,
   "metadata": {},
   "outputs": [],
   "source": [
    "student1 = ['Zid Epsilon', 23, 'Wirtschaftsinformatik Bachelor', 1, True]"
   ]
  },
  {
   "cell_type": "markdown",
   "metadata": {},
   "source": [
    "Mit einem Dictionary können diese Daten spezifiziert werden:"
   ]
  },
  {
   "cell_type": "code",
   "execution_count": null,
   "metadata": {},
   "outputs": [],
   "source": [
    "student1 = {'Name': 'Zid Epsilon', 'Alter': 23, 'Studiengang': 'Wirtschaftsinformatik Bachelor', 'Semester': 1,\\\n",
    "            'Vollzeitstudium': True}"
   ]
  },
  {
   "cell_type": "markdown",
   "metadata": {},
   "source": [
    "Die Python-interne Bezeichnung für Dictionarys lautet <b>dict</b>. Du solltest diese Bezeichnung also nicht für die Benamung von Variablen verwenden."
   ]
  },
  {
   "cell_type": "code",
   "execution_count": null,
   "metadata": {},
   "outputs": [],
   "source": [
    "type(student1)"
   ]
  },
  {
   "cell_type": "markdown",
   "metadata": {},
   "source": [
    "Auch <b>key</b> als Bezeichnung eines Dictionary-Keys ist nicht zulässig.  \n",
    "<br>\n",
    "\n",
    "\n",
    "### Aufbau eines Dictionarys:  \n",
    "\n",
    "<img src=\"3-5-1-Dictionary.jpg\">  \n",
    "<br>\n",
    "\n",
    "Ein leeres Dictionary wird mit zwei geschweiften Klammern definiert: ``{}``  \n",
    "\n",
    "Auch Dictionarys werden für gewöhnlich Variablen zugewiesen, unter denen sie abgespeichert sind: ``variable = {}``  \n",
    "<br>\n",
    "Keys und Values werden durch einen Doppelpunkt separiert.  \n",
    "Die Key-Value-Paare werden jeweils mit einem Komma (und optionalem Leerzeichen getrennt): ``dict_example = {'A': 1, 'B': 2, 'C': 3}``\n",
    "\n",
    "Dass Keys Values zugeordnet werden, nennt man auch <b>Mapping</b>. Ein Dictionary wird deshalb auch als <b>Map</b> oder <b>Map-Objekt</b> bezeichnet.  \n",
    "<br>\n",
    ">Englische Pluralformen, die auf \"y\" enden, werden im Deutschen mit \"ys\" geschrieben, wie z.B. Hobbys. Wenn du im Netz nach \"Dictionarys\" suchst, wirst du fast nur \"Dictionaries\" finden, da es wesentlich mehr englische als deutsche Seiten zum Nachlesen über Programmierung gibt.\n",
    "\n",
    " \n",
    "\n",
    "## Erstellung eines Dictionarys\n",
    "\n",
    "Ein Dictionary kann entweder mit der oben beschriebenen Syntax definiert werden oder mit der Funktion ``dict()``. Weiterhin kann ein Dictionary mit der Funktion ``dict.fromkeys()`` erstellt und dessen Keys mit **einem** Startwert initialisiert werden. Über ``dict()`` wird in Kombination mit ``zip()`` ein Dictionary aus mehreren Datenstrukturen zusammengefasst.  \n",
    "<br>\n",
    "\n",
    "\n",
    "### 3.5.1 a) Erstellung eines Dictionarys über die Dictionary-Syntax\n",
    "\n",
    "Beispiel mit der Syntax zu Dictionarys:"
   ]
  },
  {
   "cell_type": "code",
   "execution_count": null,
   "metadata": {},
   "outputs": [],
   "source": [
    "student1 = {'Name': 'Zid Epsilon', 'Alter': 23, 'Studiengang': 'Wirtschaftsinformatik Bachelor', 'Semester': 1,\\\n",
    "            'Vollzeitstudium': True}\n",
    "\n",
    "student1"
   ]
  },
  {
   "cell_type": "markdown",
   "metadata": {},
   "source": [
    "### 3.5.1  b) Erstellung eines Dictionarys über die Funktion \"dict()\"\n",
    "\n",
    "Beispiel mit der Funktion ``dict()`` (beachte, dass die Keys nicht in Anführungsstriche gesetzt werden müssen):"
   ]
  },
  {
   "cell_type": "code",
   "execution_count": null,
   "metadata": {},
   "outputs": [],
   "source": [
    "student2 = dict(Name='Alpha Xylophon', Alter=23, Studiengang='Wirtschaftsinformatik Bachelor', Semester=1,\\\n",
    "                Vollzeitstudium=True)\n",
    "\n",
    "student2"
   ]
  },
  {
   "cell_type": "markdown",
   "metadata": {},
   "source": [
    "Auch aus anderen Datenstrukturen können mit ``dict()`` Dictionarys erstellt werden.\n",
    "\n",
    "Beispiel für die Erstellung eines Dictionarys aus einer mit Tupeln gefüllten Liste:"
   ]
  },
  {
   "cell_type": "code",
   "execution_count": null,
   "metadata": {},
   "outputs": [],
   "source": [
    "tup_lst = [('a', 1), ('b', 2)]\n",
    "\n",
    "dct_from_tuplst = dict(tup_lst)\n",
    "\n",
    "dct_from_tuplst"
   ]
  },
  {
   "cell_type": "markdown",
   "metadata": {},
   "source": [
    "### 3.5.1  c) Erstellung eines Dictionarys und Intialisierung seiner Keys über die Funktion \"dict.fromkeys()\"\n",
    "\n",
    "Aus einer Liste, welche aus Strings besteht, können die Keys eines Dictionarys erstellt und mit Startwerten initialisiert werden. Beispiel:"
   ]
  },
  {
   "cell_type": "code",
   "execution_count": null,
   "metadata": {},
   "outputs": [],
   "source": [
    "label_lst = ['Name', 'Alter', 'Studiengang', 'Semester', 'Vollzeitstudium']\n",
    "\n",
    "student_dct = dict.fromkeys(label_lst, 0)\n",
    "\n",
    "print(student_dct)"
   ]
  },
  {
   "cell_type": "markdown",
   "metadata": {},
   "source": [
    "Die Syntax dieser Funktion: <font color = green>dict.fromkeys(stringlist, startwert)</font>  \n",
    "\n",
    "Die Variable, der diese Funktion zugewiesen wird, enthält dann das Dictionary mit den Strings der Liste als Keys. Der Wert der Keys ist der angegebene Startwert.  \n",
    "\n",
    "Das ist praktisch, wenn du String-Listen als Dictionarys weiterverwenden möchtest sowie, wenn du die Werte noch nicht vorliegen hast und sie später updaten möchtest.  \n",
    "\n",
    "<div class=\"alert alert-block alert-warning\">\n",
    "<font size=\"3\"><b>Übung zur Erstellung eines Dictionarys:</b></font> Erstelle ein Dictionary zu einem/r Angestellten.  \n",
    "    \n",
    "In diesem Dictionary sollen Name, Abteilung, Alter, Beschäftigungsstart, Beschäftigungsende laut Vertrag, Gehalt und Steuerklasse vermerkt sein.  \n",
    "\n",
    "Es gibt kein Richtig oder Falsch für diese Übung. In der Ausgabe soll ein Dictionary ohne Fehlermeldung erscheinen.\n",
    "</div>"
   ]
  },
  {
   "cell_type": "code",
   "execution_count": null,
   "metadata": {},
   "outputs": [],
   "source": []
  },
  {
   "cell_type": "markdown",
   "metadata": {},
   "source": [
    "### 3.5.1  d) Erstellung eines Dictionarys (oder anderer Collection-Types) mit \"zip()\"\n",
    "\n",
    "Diese Funktion kennst du schon aus dem Kapitel \"3.4.3 Funktionen für List & andere Datentypen\". Teile des folgenden Inhalts zu ihr kannst du also als kleine Auffrischung sehen.   \n",
    "\n",
    "Syntax: <font color = green>zip(*iterables)</font>  \n",
    "\n",
    "Das Sternchen steht für beliebig viele iterierbare Objekte. Diese werden in den Funktionsklammern mit einem Komma getrennt.  \n",
    "\n",
    "Mit ``zip()`` kann aus zwei Listen schnell ein Dictionary erstellt werden.\n",
    "\n",
    "Beispiel für die Erstellung eines Dictionaries aus zwei Listen mit ``zip()`` und ``dict()``:"
   ]
  },
  {
   "cell_type": "code",
   "execution_count": null,
   "metadata": {},
   "outputs": [],
   "source": [
    "keys = ['grün', 'gelb', 'blau']\n",
    "\n",
    "vals = ['green', 'yellow', 'blue']\n",
    "\n",
    "color_dict = dict(zip(keys, vals))\n",
    "\n",
    "\n",
    "print(color_dict)"
   ]
  },
  {
   "cell_type": "markdown",
   "metadata": {},
   "source": [
    "Da ``zip()`` ein Zip-Objekt erstellt, ist die Umwandlung in ein Dictionary mit ``dict()`` erforderlich.  \n",
    "\n",
    "``zip()`` kannst du für alle iterierbaren Objekte einsetzen und alle iterierbaren Objekte aus diesen erstellen.  \n",
    "\n",
    "Du kannst auch aus mehreren Listen eine neue - äquivalent zu ``dict()`` - mit der Funktion ``list()`` erstellen:"
   ]
  },
  {
   "cell_type": "code",
   "execution_count": null,
   "metadata": {},
   "outputs": [],
   "source": [
    "keys = ['grün', 'gelb', 'blau']\n",
    "\n",
    "vals = ['green', 'yellow', 'blue']\n",
    "\n",
    "color_lst = list(zip(keys, vals))\n",
    "\n",
    "\n",
    "print(color_lst)"
   ]
  },
  {
   "cell_type": "markdown",
   "metadata": {},
   "source": [
    "Dabei werden jeweils die ersten, dann die zweiten, dann die dritten Listeneinträge usw. als Tuple zusammengefasst. Diese Tuple bilden dann die einzelnen Listeneinträge.  \n",
    "\n",
    "Hättest du drei Listen über ``zip()`` zusammengefasst, hätte jedes Tuple drei Werte.  \n",
    "\n",
    "**Per default erstellt ``zip()`` aus mehreren Iterables zusammengefasst Tuples, die die einzelnen Einträge in der neuen Datenstruktur bilden. Wird ``zip()`` nur ein Argument übergeben, z.B. nur eine Liste, wird diese Liste als Liste mit einwertigen Tuples als Einträgen zusammengefasst.**  \n",
    "\n",
    "Beispiel:"
   ]
  },
  {
   "cell_type": "code",
   "execution_count": null,
   "metadata": {},
   "outputs": [],
   "source": [
    "vals = ['green', 'yellow', 'blue']\n",
    "\n",
    "color_lst = list(zip(vals))\n",
    "\n",
    "\n",
    "print(color_lst)"
   ]
  },
  {
   "cell_type": "markdown",
   "metadata": {},
   "source": [
    "<div class=\"alert alert-block alert-info\">\n",
    "    <font size=\"3\"><b>Tipp:</b></font>  <b>Konvertierungsfunktionen für Iterables, die äquivalent zum oberen Beispiel eingesetzt werden können:</b>\n",
    "<br>\n",
    "    \n",
    "* Umwandlung in eine Liste: ``list()``\n",
    "* Umwandlung in ein Dictionary: ``dict()``\n",
    "* Umwandlung in ein Set: ``set()``\n",
    "* Umwandlung in ein Tuple: ``tuple()``\n",
    "</div>  \n",
    "<br>\n",
    "\n",
    "Was passiert, wenn ein List-Argument weniger Werte enthält, als das andere List-Argument?"
   ]
  },
  {
   "cell_type": "code",
   "execution_count": null,
   "metadata": {},
   "outputs": [],
   "source": [
    "keys = ['A', 'B', 'C', 'D', 'E']\n",
    "vals = [ 1, 2, 3]\n",
    "\n",
    "\n",
    "zipped_dct = dict(zip(keys, vals))\n",
    "\n",
    "zipped_dct"
   ]
  },
  {
   "cell_type": "markdown",
   "metadata": {},
   "source": [
    "Werte des einen, die nicht auf Werte des anderen gemappt werden können, werden ignoriert und tauchen im Endergebnis, dem vereinten Dictionary, nicht auf.  \n",
    "<br>\n",
    "\n",
    "\n",
    "### 3.5.1  e) Erstellung eines nested Dictionarys\n",
    "\n",
    "Wie Listen, können auch Dictionarys nested/verschachtelt/tief sein. Solche Dictionarys werden auch <b>\"Dictionary of Dictionaries\"</b> oder <b>\"Dict of Dicts\"</b> genannt.  \n",
    "\n",
    "#### Erstellung eines nested Dictionarys über die Dictionary-Syntax\n",
    "\n",
    "Beispiel für ein nested Dictionary:"
   ]
  },
  {
   "cell_type": "code",
   "execution_count": null,
   "metadata": {},
   "outputs": [],
   "source": [
    "students = {1: {'Name': 'Zid Epsilon', 'Alter': 23, 'Studiengang': 'Wirtschaftsinformatik Bachelor', 'Semester': 1},\n",
    "            2: {'Name': 'Alpha Xylophon', 'Alter': 21, 'Studiengang': 'Wirtschaftsinformatik Bachelor', 'Semester': 2},\n",
    "            3: {'Name': 'Bingo Bongo', 'Alter': 24, 'Studiengang': 'Wirtschaftsinformatik Bachelor', 'Semester': 1}}\n",
    "\n",
    "students"
   ]
  },
  {
   "cell_type": "markdown",
   "metadata": {},
   "source": [
    "Die Keys <b>1, 2, 3</b> in diesem Dictionary stehen exemplarisch für die Matrikelnummern der Studenten, z.B. 's5784283'. Unter diesen Keys sind die Daten jedes/r StudentIn  in einem eigenen Dictionary gespeichert. \n",
    "<br>\n",
    "\n",
    "#### Erstellung eines nested Dictionarys über \"dict()\"\n",
    "\n",
    "Auch ein nested Dictionary kann mit ``dict()`` erstellt werden. Beispiel:"
   ]
  },
  {
   "cell_type": "code",
   "execution_count": null,
   "metadata": {},
   "outputs": [],
   "source": [
    "students = dict(stud1 = {'Name': 'Zid Epsilon', 'Alter': 23, 'Studiengang': 'Wirtschaftsinformatik Bachelor'},\n",
    "                stud2 = {'Name': 'Alpha Xylophon', 'Alter': 21, 'Studiengang': 'Wirtschaftsinformatik Bachelor'},\n",
    "                stud3 = {'Name': 'Bingo Bongo', 'Alter': 24, 'Studiengang': 'Wirtschaftsinformatik Bachelor'})\n",
    "\n",
    "students"
   ]
  },
  {
   "cell_type": "markdown",
   "metadata": {},
   "source": [
    "Mit Integers als Keys funktioniert das allerdings nicht:"
   ]
  },
  {
   "cell_type": "code",
   "execution_count": null,
   "metadata": {},
   "outputs": [],
   "source": [
    "students = dict(1 = {'Name': 'Zid Epsilon', 'Alter': 23, 'Studiengang': 'Wirtschaftsinformatik Bachelor'},\n",
    "                2 = {'Name': 'Alpha Xylophon', 'Alter': 21, 'Studiengang': 'Wirtschaftsinformatik Bachelor'},\n",
    "                3 = {'Name': 'Bingo Bongo', 'Alter': 24, 'Studiengang': 'Wirtschaftsinformatik Bachelor'})\n",
    "\n",
    "print(students)"
   ]
  },
  {
   "cell_type": "markdown",
   "metadata": {},
   "source": [
    "Das liegt daran, dass ``dict()`` einen validen Identifizierer als Key erwartet. Ein Integer allein ist kein valider Identifizierer eines Objekts. Wenn du dich an die Einheit zu Namenskonventionen in Python erinnerst (\"3.2.1 - 3.2.4 Namenskonventionen, Strings verbinden & konvertieren\"), **dürfen Variablennamen nicht mit einer Zahl beginnen**. Sie dürfen auch keine Sonderzeichen enthalten oder mit ihnen beginnen. Variablennamen sollten nur aus Buchstaben, danach Unterstrichen und Zahlen bestehen.  \n",
    "Es gibt auch Fälle, in denen Variablennamen mit Unterstrichen beginnen. Dies sind Variablen, die von ProgrammiererInnen damit als \"unantastbar\" gekennzeichnet sind.  \n",
    "\n",
    "Selbst mit den Integers als Strings wird gegen die gleiche Namenskonvention verstoßen:"
   ]
  },
  {
   "cell_type": "code",
   "execution_count": null,
   "metadata": {},
   "outputs": [],
   "source": [
    "students = dict('1' = {'Name': 'Zid Epsilon', 'Alter': 23, 'Studiengang': 'Wirtschaftsinformatik Bachelor'},\n",
    "                '2' = {'Name': 'Alpha Xylophon', 'Alter': 21, 'Studiengang': 'Wirtschaftsinformatik Bachelor'},\n",
    "                '3' = {'Name': 'Bingo Bongo', 'Alter': 24, 'Studiengang': 'Wirtschaftsinformatik Bachelor'})\n",
    "\n",
    "print(students)"
   ]
  },
  {
   "cell_type": "markdown",
   "metadata": {},
   "source": [
    "Die Funktion ``dict()`` checkt sozusagen die pythonischen Namenskonventionen.  \n",
    "<br>\n",
    "\n",
    "#### Erstellung eines nested Dictionarys über \"dict.fromkeys()\"  \n",
    "\n",
    "``dict.fromkeys()`` kann ebenso eingesetzt werden, um ein nested Dictionary mit Startwerten anzulegen. Wenn danach die noch fehlenden Informationen zur Verfügung stehen, ist das Dictionary bereits einsatzbereit und muss nur noch befüllt werden. Beispiel:"
   ]
  },
  {
   "cell_type": "code",
   "execution_count": null,
   "metadata": {},
   "outputs": [],
   "source": [
    "student_numbers = ['s1', 's2', 's3']\n",
    "student_data = {'Name': '', 'Geschlecht': '', 'Alter': '', 'Studiengang': '', 'Semester': '' }\n",
    "\n",
    "student_info = dict.fromkeys(student_numbers, student_data)\n",
    "\n",
    "student_info"
   ]
  },
  {
   "cell_type": "markdown",
   "metadata": {},
   "source": [
    "Aus einer Liste, welche die Keys enthält, und einem Dictionary, welches Key-Value-Paare enthält, entsteht ein nested Dictionary. Das Subdictionary enthält wiederum die Keys für die einzelnen Daten der Studenten. Um Platz für die spätere Befüllung mit Namen, Geschlecht usw. zu schaffen, wurden dessen Values als leere Strings eingefügt.  \n",
    "\n",
    "Falls du bereits Werte für dein nested Dictionary vorliegen hast, kannst du diese statt der leeren Strings einfügen und hast somit im Endergebnis ein fertig befülltes Dictionary.  \n",
    "<br>\n",
    "\n",
    "**Mit ``zip()`` allein kann kein nested Dictionary erstellt werden. Denn es fügt die ihm übergebenen Iterables als einstufige Datenstruktur zusammen.**  \n",
    "\n",
    "Beispiel:"
   ]
  },
  {
   "cell_type": "code",
   "execution_count": null,
   "metadata": {},
   "outputs": [],
   "source": [
    "student_numbers = ['s1', 's2', 's3']\n",
    "student_data = {'Name': '', 'Geschlecht': '', 'Alter': '', 'Studiengang': '', 'Semester': '' }\n",
    "\n",
    "student_info = dict(zip(student_numbers, student_data))\n",
    "\n",
    "student_info"
   ]
  },
  {
   "cell_type": "markdown",
   "metadata": {},
   "source": [
    "## 3.5.2 Auf Daten in Dictionarys zugreifen\n",
    "\n",
    "### 3.5.2 a) Datenzugriff und -überprüfung bei flachen Dictionarys\n",
    "\n",
    "Ähnlich wie bei Lists, werden über eckige Klammern die Werte eines Dictionarys angewählt.  \n",
    "\n",
    "Syntax: <font color = green>dict[key]</font>  \n",
    "\n",
    "In die eckigen Klammern schreibt man allerdings nicht den Index, sondern den Key. Besteht der Key aus einem String, ist dieser in Anführungsstriche zu setzen. Beispiel:"
   ]
  },
  {
   "cell_type": "code",
   "execution_count": null,
   "metadata": {},
   "outputs": [],
   "source": [
    "student1 = {'Name': 'Zid Epsilon', 'Alter': 23, 'Studiengang': 'Wirtschaftsinformatik Bachelor', 'Semester': 1,\\\n",
    "            'Vollzeitstudium': True}\n",
    "\n",
    "student1['Name']"
   ]
  },
  {
   "cell_type": "markdown",
   "metadata": {},
   "source": [
    "Du kannst dir die **Key-Value-Paare** eines Dictionarys über die Funktion ``.items()`` ausgeben lassen. Beispiel:"
   ]
  },
  {
   "cell_type": "code",
   "execution_count": null,
   "metadata": {},
   "outputs": [],
   "source": [
    "student1 = {'Name': 'Zid Epsilon', 'Alter': 23, 'Studiengang': 'Wirtschaftsinformatik Bachelor', 'Semester': 1,\\\n",
    "            'Vollzeitstudium': True}\n",
    "\n",
    "student1.items()"
   ]
  },
  {
   "cell_type": "markdown",
   "metadata": {},
   "source": [
    "Sie werden in einer Liste bestehend aus Tuples gesammelt.  \n",
    "<br>\n",
    "\n",
    "\n",
    "Die **Values** eines Dictionary können über die Funktion ``.values()`` ausgegeben werden. Beispiel:"
   ]
  },
  {
   "cell_type": "code",
   "execution_count": null,
   "metadata": {},
   "outputs": [],
   "source": [
    "student1.values()"
   ]
  },
  {
   "cell_type": "markdown",
   "metadata": {},
   "source": [
    "Auch für die **Keys** gibt es die Funktion ``.keys()``, um sie ausgeben zu lassen:"
   ]
  },
  {
   "cell_type": "code",
   "execution_count": null,
   "metadata": {},
   "outputs": [],
   "source": [
    "student1.keys()"
   ]
  },
  {
   "cell_type": "markdown",
   "metadata": {},
   "source": [
    "Rufst du einen Key auf, der nicht vorhanden ist, führt das zu einem <font color = darkred>KeyError</font>:  "
   ]
  },
  {
   "cell_type": "code",
   "execution_count": null,
   "metadata": {},
   "outputs": [],
   "source": [
    "student1['Geburtstag']"
   ]
  },
  {
   "cell_type": "markdown",
   "metadata": {},
   "source": [
    "Doch du kannst vorher überprüfen, ob ein Key überhaupt in einem Dictionary vorhanden ist.  \n",
    "\n",
    "#### Erinnerst du dich, womit man überprüfen kann, ob ein Wert Teil eines Objekts ist?  \n",
    "\n",
    "Mit dem logischen Membership Operator <b>in</b> findest du das heraus!\n",
    "\n",
    "Beispiel:"
   ]
  },
  {
   "cell_type": "code",
   "execution_count": null,
   "metadata": {},
   "outputs": [],
   "source": [
    "'Geburtstag' in student1"
   ]
  },
  {
   "cell_type": "code",
   "execution_count": null,
   "metadata": {},
   "outputs": [],
   "source": [
    "'Name' in student1"
   ]
  },
  {
   "cell_type": "markdown",
   "metadata": {},
   "source": [
    "Das ist vor allem hilfreich, wenn dein Dictionary aus sehr vielen Key-Value-Paaren besteht.  \n",
    "\n",
    "<font color = #f57c00>**Wie kannst du überprüfen, ob ein Value in einem Dictionary enthalten ist?**</font>\n",
    "<br>\n",
    "<br>\n",
    "<br>\n",
    "  \n",
    "\n",
    "Probier es aus. Die Antwort steht weiter unten."
   ]
  },
  {
   "cell_type": "code",
   "execution_count": null,
   "metadata": {},
   "outputs": [],
   "source": [
    "student1 = {'Name': 'Zid Epsilon', 'Alter': 23, 'Studiengang': 'Wirtschaftsinformatik Bachelor', 'Semester': 1,\\\n",
    "            'Vollzeitstudium': True}\n",
    "\n"
   ]
  },
  {
   "cell_type": "markdown",
   "metadata": {},
   "source": [
    "<div class=\"alert alert-block alert-success\">\n",
    "<br>  \n",
    "<br>  \n",
    "<br>  \n",
    "<br>  \n",
    "<br>  \n",
    "<br>  \n",
    "<br>  \n",
    "<br>  \n",
    "<br>  \n",
    "<br>  \n",
    "<br>  \n",
    "<br>  \n",
    "<br> \n",
    "<b>Lösung:</b>  \n",
    "<br>  \n",
    "<br>  \n",
    "<br>  \n",
    "<br>  \n",
    "<br>  \n",
    "</div>"
   ]
  },
  {
   "cell_type": "code",
   "execution_count": null,
   "metadata": {},
   "outputs": [],
   "source": [
    "23 in student1.values()"
   ]
  },
  {
   "cell_type": "code",
   "execution_count": null,
   "metadata": {},
   "outputs": [],
   "source": [
    "'Archäologie' in student1.values()"
   ]
  },
  {
   "cell_type": "markdown",
   "metadata": {},
   "source": [
    "Du könntest äquivalent mit ``.keys()`` auch nach einem bestimmten Key in dem Dictionary suchen: "
   ]
  },
  {
   "cell_type": "code",
   "execution_count": null,
   "metadata": {},
   "outputs": [],
   "source": [
    "'Alter' in student1.keys()"
   ]
  },
  {
   "cell_type": "markdown",
   "metadata": {},
   "source": [
    "Doch da ohne die Funktion ``keys()`` automatisch in den Keys des Dictionarys gesucht wird, kannst du sie auch weglassen."
   ]
  },
  {
   "cell_type": "code",
   "execution_count": null,
   "metadata": {},
   "outputs": [],
   "source": [
    "'Alter' in student1"
   ]
  },
  {
   "cell_type": "markdown",
   "metadata": {},
   "source": [
    "<div class=\"alert alert-block alert-info\">\n",
    "    <font size=\"3\"><b>Tipp (Wiederholung):</b></font>Um Variablen nicht ausschreiben zu müssen, ist die <b>Tabulator-Taste</b> zu verwenden. Sie autovervollständigt Variablennamen.  \n",
    "    \n",
    "Das ist besonders praktisch bei langen Variablennamen. Du wirst dadurch viel schneller tippen können.  \n",
    "\n",
    "Schreibe zumindest den Anfangsbuchstaben der Variable, klicke die **Tabulator-Taste** auf deinem Keyboard und wähle mit den **Cursor-Tasten** (Pfeil nach oben/unten) oder dem **Mausrad** den gewünschten Variablennamen aus der Liste aus und bestätige ihn mit **Enter**.  \n",
    "\n",
    "Je mehr Buchstaben des Variablennamens du eintippst, desto weiter oben erscheint er in der Auswahlliste.  \n",
    "<br>\n",
    "\n",
    "**Extra Tipp**: Das funktioniert auch für die Keys eines Dictionarys.  \n",
    "Für Keys in Subdictionarys funktioniert die Autoergänzung nicht, doch für den Key eines Dictionarys, der eine Subdatenstruktur, wie ein Subdictionary, enthält. Die Keys eines Dictionarys (nicht Subdictionarys) werden sozusagen als Variable gewertet.  \n",
    "</div>\n",
    "<br>\n",
    "\n",
    "Ein Dictionary zu slicen funktioniert nicht. Denn die Keys im Dictionarys haben keine feste Anordnung.  \n",
    "\n",
    "Außerdem ist das Objekt, das durch die Slice-Notation entsteht, nicht hashable - es ist veränderlich. Beispiel:  "
   ]
  },
  {
   "cell_type": "code",
   "execution_count": null,
   "metadata": {},
   "outputs": [],
   "source": [
    "student1['Name': 'Semster']"
   ]
  },
  {
   "cell_type": "markdown",
   "metadata": {},
   "source": [
    "**Um auf Elemente eines Dictionarys zur Weiterverarbeitung Listen-Funktionen anwenden zu können, kann es auf verschiedenen Wegen in eine Liste umgewandelt werden.**  \n",
    "\n",
    "\n",
    "**1) Erstellung einer Liste aus den Keys eines Dictionarys**\n",
    "\n",
    "Wie kannst du die Keys eines Dictionarys auslesen?  \n",
    "\n",
    "Wie kannst du aus Iterables eine Liste erstellen?  \n",
    "\n",
    "Die Antworten auf diese Fragen kennst du schon.  \n",
    "\n",
    "<font color = #f57c00>**Probier deshalb auf eigene Faust, eine Liste aus den Keys des folgenden Dictionarys zu erstellen.**</font>\n",
    "<br>\n",
    "<br>\n",
    "<br>\n",
    "  \n",
    "\n",
    "Du kannst dafür eine oder zwei Code-Zelle/n verwenden."
   ]
  },
  {
   "cell_type": "code",
   "execution_count": null,
   "metadata": {},
   "outputs": [],
   "source": [
    "engl_dict = {'Handel': 'trade', 'Steuern': 'taxes', 'Verhandlung': 'negotiation'}\n",
    "\n"
   ]
  },
  {
   "cell_type": "code",
   "execution_count": null,
   "metadata": {},
   "outputs": [],
   "source": []
  },
  {
   "cell_type": "markdown",
   "metadata": {},
   "source": [
    "<div class=\"alert alert-block alert-success\">\n",
    "<br>  \n",
    "<br>  \n",
    "<br>  \n",
    "<br>  \n",
    "<br>  \n",
    "<br>  \n",
    "<br>  \n",
    "<br>  \n",
    "<br>  \n",
    "<br>  \n",
    "<br>  \n",
    "<br>  \n",
    "<br> \n",
    "<b>Lösung:</b>  \n",
    "<br>  \n",
    "<br>  \n",
    "<br>  \n",
    "<br>  \n",
    "<br>  \n",
    "</div>"
   ]
  },
  {
   "cell_type": "code",
   "execution_count": null,
   "metadata": {},
   "outputs": [],
   "source": [
    "engl_dict = {'Handel': 'trade', 'Steuern': 'taxes', 'Verhandlung': 'negotiation'}\n",
    "\n",
    "keylst = list(engl_dict.keys())\n",
    "\n",
    "print(keylst)"
   ]
  },
  {
   "cell_type": "markdown",
   "metadata": {},
   "source": [
    "Über die Funktion ``.keys()`` werden die Keys ausgelesen, ``list()`` wandelt diese anschließend in eine Liste um.  \n",
    "<br>\n",
    "**2) Erstellung einer Liste aus den Values eines Dictionarys**\n",
    "\n",
    "Diese Mini-Aufgabe ist äquivalent zu der vorherigen:  \n",
    "\n",
    "Wie kannst du die Values eines Dictionarys auslesen?  \n",
    "\n",
    "\n",
    "<font color = #f57c00>**Probier selbst, eine Liste aus den Values des folgenden Dictionarys zu erstellen.**</font>\n",
    "<br>\n",
    "<br>\n",
    "<br>\n",
    "  \n",
    "\n",
    "Du kannst dafür auch wieder eine oder zwei Code-Zelle/n verwenden."
   ]
  },
  {
   "cell_type": "code",
   "execution_count": null,
   "metadata": {},
   "outputs": [],
   "source": [
    "engl_dict = {'Handel': 'trade', 'Steuern': 'taxes', 'Verhandlung': 'negotiation'}\n",
    "\n"
   ]
  },
  {
   "cell_type": "code",
   "execution_count": null,
   "metadata": {},
   "outputs": [],
   "source": []
  },
  {
   "cell_type": "markdown",
   "metadata": {},
   "source": [
    "<div class=\"alert alert-block alert-success\">\n",
    "<br>  \n",
    "<br>  \n",
    "<br>  \n",
    "<br>  \n",
    "<br>  \n",
    "<br>  \n",
    "<br>  \n",
    "<br>  \n",
    "<br>  \n",
    "<br>  \n",
    "<br>  \n",
    "<br>  \n",
    "<br> \n",
    "<b>Lösung:</b>  \n",
    "<br>  \n",
    "<br>  \n",
    "<br>  \n",
    "<br>  \n",
    "<br>  \n",
    "</div>"
   ]
  },
  {
   "cell_type": "code",
   "execution_count": null,
   "metadata": {},
   "outputs": [],
   "source": [
    "engl_dict = {'Handel': 'trade', 'Steuern': 'taxes', 'Verhandlung': 'negotiation'}\n",
    "\n",
    "valuelst = list(engl_dict.values())\n",
    "\n",
    "print(valuelst)"
   ]
  },
  {
   "cell_type": "markdown",
   "metadata": {},
   "source": [
    "Um die Werte eines Dictionarys auszulesen, brauchst du die Funktion ``.values()``.\n",
    "\n",
    "**3) Erstellung einer Liste aus den Key-Value-Paaren eines Dictionarys**\n",
    "\n",
    "Womit kannst du noch mal die Key-Value-Paare eines Dictionarys auslesen?\n",
    "\n",
    "<font color = #f57c00>**Erstelle eine Liste aus den Key-Value-Paaren des folgenden Dictionarys.**</font>\n",
    "<br>\n",
    "<br>\n",
    "<br>\n",
    "  \n",
    "\n",
    " Verwende eine oder zwei Code-Zelle/n."
   ]
  },
  {
   "cell_type": "code",
   "execution_count": null,
   "metadata": {},
   "outputs": [],
   "source": [
    "engl_dict = {'Handel': 'trade', 'Steuern': 'taxes', 'Verhandlung': 'negotiation'}\n",
    "\n"
   ]
  },
  {
   "cell_type": "code",
   "execution_count": null,
   "metadata": {},
   "outputs": [],
   "source": []
  },
  {
   "cell_type": "markdown",
   "metadata": {},
   "source": [
    "<div class=\"alert alert-block alert-success\">\n",
    "<br>  \n",
    "<br>  \n",
    "<br>  \n",
    "<br>  \n",
    "<br>  \n",
    "<br>  \n",
    "<br>  \n",
    "<br>  \n",
    "<br>  \n",
    "<br>  \n",
    "<br>  \n",
    "<br>  \n",
    "<br> \n",
    "<b>Lösung:</b>  \n",
    "<br>  \n",
    "<br>  \n",
    "<br>  \n",
    "<br>  \n",
    "<br>  \n",
    "</div>"
   ]
  },
  {
   "cell_type": "code",
   "execution_count": null,
   "metadata": {},
   "outputs": [],
   "source": [
    "engl_dict = {'Handel': 'trade', 'Steuern': 'taxes', 'Verhandlung': 'negotiation'}\n",
    "\n",
    "itemslst = list(engl_dict.items())\n",
    "\n",
    "print(itemslst)"
   ]
  },
  {
   "cell_type": "markdown",
   "metadata": {},
   "source": [
    "Wiederholung: ``.items()`` erstellt aus jedem Key-Value-Paar ein Tuple, das wiederum ein einzelner Listeneintrag ist.  \n",
    "\n",
    "**Auf die in 1), 2), 3) erstellten Listen kannst du nun alle Listen-Funktionen anwenden.**   \n",
    "<br>\n",
    "\n",
    "\n",
    "\n",
    "### 3.5.2 b) Datenzugriff und -überprüfung bei tiefen Dictionarys\n",
    "\n",
    "Bei nested Dictionarys funktioniert der Datenzugriff ähnlich zu nested Lists mit zwei Paaren von eckigen Klammern.  \n",
    "\n",
    "Beispiel für die Ausgabe eines Values aus einem nested Dictionary:"
   ]
  },
  {
   "cell_type": "code",
   "execution_count": null,
   "metadata": {},
   "outputs": [],
   "source": [
    "students = dict(stud1 = {'Name': 'Zid Epsilon', 'Alter': 23, 'Studiengang': 'Wirtschaftsinformatik Bachelor'},\n",
    "                stud2 = {'Name': 'Alpha Xylophon', 'Alter': 21, 'Studiengang': 'Wirtschaftsinformatik Master'},\n",
    "                stud3 = {'Name': 'Bingo Bongo', 'Alter': 24, 'Studiengang': 'Volkswirtschaftslehre Bachelor'})\n",
    "\n",
    "students['stud2']['Alter']"
   ]
  },
  {
   "cell_type": "markdown",
   "metadata": {},
   "source": [
    "Statt der Integer-Indize einer Liste gibst du die Indize, also die Keys, des Dictionarys für die Anwahl des Subdictionarys an.  \n",
    "\n",
    "Die **Keys** dieses nested Dictionarys kannst du dir wie gewohnt mit ``.keys()`` ausgeben lassen:"
   ]
  },
  {
   "cell_type": "code",
   "execution_count": null,
   "metadata": {},
   "outputs": [],
   "source": [
    "students.keys()"
   ]
  },
  {
   "cell_type": "markdown",
   "metadata": {},
   "source": [
    "Äquivalent dazu werden die **Values** mit ``.values()`` ausgegeben:"
   ]
  },
  {
   "cell_type": "code",
   "execution_count": null,
   "metadata": {},
   "outputs": [],
   "source": [
    "students.values()"
   ]
  },
  {
   "cell_type": "markdown",
   "metadata": {},
   "source": [
    "Die **Keys eines Subdictionarys** erreichst du über die Index-Anwahl von dessen Position:"
   ]
  },
  {
   "cell_type": "code",
   "execution_count": null,
   "metadata": {},
   "outputs": [],
   "source": [
    "students['stud1'].keys()"
   ]
  },
  {
   "cell_type": "markdown",
   "metadata": {},
   "source": [
    "Analog dazu erreichst du die **Values des Subdictionarys** auch über die Anwahl des Subdictionarys:"
   ]
  },
  {
   "cell_type": "code",
   "execution_count": null,
   "metadata": {},
   "outputs": [],
   "source": [
    "students['stud1'].values()"
   ]
  },
  {
   "cell_type": "markdown",
   "metadata": {},
   "source": [
    "## 3.5.3 Dictionary & List im Vergleich\n",
    "\n",
    "### Wann ist der Einsatz eines Dictionarys gegenüber dem einer Liste zu bevorzugen?\n",
    "\n",
    "Beide Collection-Types sind beliebig kürz- und erweiterbar. Ihre Werte können aus allen Datentypen bestehen und sie können gleichzeitig verschiedene Datentypen beinhalten. Beide sind mutable, also ihre Werte (**nicht** die Keys bei Dictionarys) können nach der Erstellung des Dictionarys/der Liste verändert werden.  \n",
    "\n",
    "Wann du welche der beiden Datenstrukturen einsetzt, entscheidest du am besten anhand ihrer verschiedenen Merkmale und den Anforderungen an deine Aufgabe.  \n",
    "\n",
    "\n",
    "### Unterschiede zwischen Dictionarys & Lists\n",
    "\n",
    "Die Werte eines Dictionarys sind über die Keys kategorisiert. Mit einer Liste ist das nicht möglich. Wenn du für deine Daten Kategorisierungen brauchst, ist ein Dictionary die beste Wahl.  \n",
    "\n",
    "Die über die Keys gesuchten Werte sind, im Vergleich zum Suchen von Werten einer Liste, sehr schnell verfügbar.  \n",
    "Suchst du zum Beispiel einen Listenwert, der ganz am Ende einer langen Liste liegt, muss erst die ganze Liste, Index für Index, bis dahin durchlaufen werden. Jeder einzelne Index bis zu dem gefragten wird abgegrast. Werte in einem Dictionarys zu suchen, ist hingegen nicht abhängig von der Größe des Dictionarys.  \n",
    "Möchtest du also viele Daten unterbringen, die auch kategorisiert sein sollten, erzielst du hinsichtlich der Zeit für das Suchen von Werten eine bessere Performance.  \n",
    "\n",
    "Aufgrund der zusätzlichen Keys verbrauchen Dictionarys allerdings mehr Speicherplatz als Listen, was sich also eher negativ auf die Speicherplatz-Performanz auswirkt.  \n",
    "<br>\n",
    "\n",
    "#### Übersicht zu den Unterschieden zwischen Dictionarys und Lists\n",
    "\n",
    "| <p align=\"left\">Dictionary | <p align=\"left\">List |\n",
    "|----------|-------|\n",
    "| <p align=\"left\">keine feste Reihenfolge der Elemente (unordered) | <p align=\"left\">feste Reihenfolge der Elemente (ordered) |\n",
    "    | <p align=\"left\">Dictionary-Einträge sind Key-Value-Paare | <p align=\"left\">Listeneinträge sind einzelne Werte wie Strings, Floats, Tuples, Listen usw. |\n",
    "| <p align=\"left\">indexiert über individuell festlegbare Keys (immutable Data Types) | <p align=\"left\">indexiert über Integers, beginnend bei 0 |\n",
    "  | <p align=\"left\">Definition eines leeren Dictionarys: ``dct = {}`` | <p align=\"left\">Definition einer leeren Liste: ``lst = []`` | \n",
    "| <p align=\"left\">Zugriff auf die Werte über Keyangabe, z.B.: ``dct['k1']`` | <p align=\"left\">Zugriff auf die Werte über Indexangabe, z.B.: ``lst[1]`` |\n",
    "| <p align=\"left\">benötigt mehr Speicherplatz | <p align=\"left\">benötigt weniger Speicherplatz |\n",
    "| <p align=\"left\">benötigt weniger Zeit für Wertesuche | <p align=\"left\">benötigt mehr Zeit für Wertesuche |"
   ]
  },
  {
   "cell_type": "markdown",
   "metadata": {},
   "source": [
    "<div class=\"alert alert-block alert-warning\">\n",
    "    <font size=\"3\"><b>Übung 1 zu Dictionary:</b></font>\n",
    "<br>\n",
    "    \n",
    "**a)** Lege ein Dictionary zu den folgenden Berliner Durchschnittskaufpreisen von Wohnungen pro m² in dem jeweiligen Jahr an:  \n",
    "    \n",
    "* 2018: 3870 €\n",
    "* 2017: 3460 €\n",
    "* 2016: 3000 €  \n",
    "\n",
    "Lass dir das Dictionary ausgeben.  \n",
    "    \n",
    "**b)** Lass dir den Wert für das Jahr 2016 ausgeben.  \n",
    "\n",
    "**c)** Ist das Jahr **2017** in dem Dictionary enthalten?  \n",
    "\n",
    "Diese Aufgabe ist auf verschiedene Weisen lösbar. Als richtiges Ergebnis zählt ein Dictionary, das ohne Fehlermeldung ausgegeben wird.\n",
    "</div>"
   ]
  },
  {
   "cell_type": "code",
   "execution_count": null,
   "metadata": {},
   "outputs": [],
   "source": [
    "# a)\n",
    "\n"
   ]
  },
  {
   "cell_type": "code",
   "execution_count": null,
   "metadata": {},
   "outputs": [],
   "source": [
    "# b)\n",
    "\n"
   ]
  },
  {
   "cell_type": "code",
   "execution_count": null,
   "metadata": {},
   "outputs": [],
   "source": [
    "# c)\n",
    "\n"
   ]
  },
  {
   "cell_type": "markdown",
   "metadata": {},
   "source": [
    "<div class=\"alert alert-block alert-warning\">\n",
    "    <font size=\"3\"><b>Übung 2 zu Dictionary:</b></font>\n",
    "<br>\n",
    "    \n",
    "**a)** Lege ein Dictionary zu den folgenden Berliner Durchschnittskaufpreisen von Häusern und Wohnungen pro m² in dem jeweiligen Jahr an. Das Dictionary soll einen Zugriff auf jeweils alle Haus- und Wohnungspreise der gegebenen drei Jahre ermöglichen.  \n",
    "\n",
    "**Hauspreise:**   \n",
    "* 2018: 3570 €\n",
    "* 2017: 3150 €\n",
    "* 2016: 2940 €  \n",
    "<br>\n",
    "<br>\n",
    " \n",
    "**Wohungspreise:**   \n",
    "* 2018: 3870 €\n",
    "* 2017: 3460 €\n",
    "* 2016: 2500 €  \n",
    "\n",
    "Lass dir das Dictionary ausgeben.  \n",
    "    \n",
    "**b)** Lass dir alle Hauspreise von 2016-2018 ausgeben.\n",
    "\n",
    "**c)** Wie viel pro m² hat ein Haus im Jahr 2017 durchschnittlich gekostet?  \n",
    "\n",
    "**d)** Ist der Wert **3460** in den Wohnungspreisen enthalten?   \n",
    "\n",
    "Auch diese Aufgabe ist auf verschiedene Weisen lösbar. Als richtiges Ergebnis zählt ein Dictionary, das ohne Fehlermeldung ausgegeben wird.\n",
    "</div>"
   ]
  },
  {
   "cell_type": "code",
   "execution_count": null,
   "metadata": {},
   "outputs": [],
   "source": [
    "# a)\n",
    "\n"
   ]
  },
  {
   "cell_type": "code",
   "execution_count": null,
   "metadata": {},
   "outputs": [],
   "source": [
    "# b)\n",
    "\n"
   ]
  },
  {
   "cell_type": "code",
   "execution_count": null,
   "metadata": {},
   "outputs": [],
   "source": [
    "# c)\n",
    "\n"
   ]
  },
  {
   "cell_type": "code",
   "execution_count": null,
   "metadata": {},
   "outputs": [],
   "source": [
    "# d)\n",
    "\n"
   ]
  },
  {
   "cell_type": "markdown",
   "metadata": {},
   "source": [
    "<div class=\"alert alert-block alert-success\">\n",
    "<b>Toll!</b> Jetzt kennst du dich noch besser mit Dictionarys aus, kannst eigene erstellen, sie auslesen und weißt auch um die Unterschiede zu Lists.  \n",
    "    \n",
    "Als nächstes lernst du die wichtigsten Funktionen für Dictionarys kennen, damit du richtig fit im Umgang mit ihnen wirst.  \n",
    "\n",
    "Das Wichtigste zu dieser Einheit ist wie immer für dich im Folgenden zusammengefasst.\n",
    "</div>"
   ]
  },
  {
   "cell_type": "markdown",
   "metadata": {},
   "source": [
    "<div class=\"alert alert-block alert-info\">\n",
    "<h3>Das kannst du aus dieser Übung mitnehmen:</h3>\n",
    "\n",
    "* **Dictionary**\n",
    "    * ist ein weiterer Collection-Type von Python\n",
    "    * ist wie die anderen Collection-Types ein Container, in dem Werte gesammelt werden\n",
    "    * die Python-interne Bezeichnung dieses Datentyps lautet <b>dict</b>\n",
    "    * besteht aus Key-Value-Pairs = Schlüssel-Werte-Paaren (im Gegensatz zu List)\n",
    "        * Keys sind individuelle Indize, bestehend aus immutable (=unveränderlichen) Datentypen\n",
    "        * Values können jeglichen Datentyps sein\n",
    "    * hat keine feste Reihenfolge der Elemente (im Gegensatz zu List)\n",
    "    * ist beliebig kürz- und erweiterbar\n",
    "    * Definition eines leeren Dictionarys mit zwei geschweiften Klammern: ``{}``\n",
    "    * Separierung von <b>Key</b> und <b>Value</b> mittels Doppelpunkt: <b>Key: Value</b> \n",
    "    * Trennung der Key-Value-Paare mit einem Komma (wie bei List), z.B.: ``dct = {'A': 1, 'B': 2, 'C': 3}``\n",
    "    * Dictionarys benötigen mehr Speicherplatz als Lists, das Durchsuchen nach Werten verläuft aufgrund der Indexierung über die Keys jedoch schneller\n",
    "    * **Hauptvorteil von Dictionarys: Werte können über die Keys genau bezeichnet werden**  \n",
    "<br>\n",
    "* **mutable (veränderliche) und immutable (unveränderliche) Datentypen**\n",
    "    * jedes Objekt hat eine ID, einen Namen, einen Wert und einen Datentyp\n",
    "    * bei veränderlichen Datentypen können diese Eigenschaften in-place verändert werden\n",
    "    * bei unveränderlichen Datentypen ist eine in-place Änderung von mind. einer dieser Eigenschaften ausgeschlossen\n",
    "    * von unveränderlichen Datentypen wird **keine flache** Kopie beim Kopieren und bei Änderungen erstellt\n",
    "    * immutable Datentypen:\n",
    "        * String\n",
    "        * Integer\n",
    "        * Float\n",
    "        * Complex\n",
    "        * Boolean\n",
    "        * Tuple\n",
    "        * Range\n",
    "    * mutable Datentypen\n",
    "        * List\n",
    "        * Dictionary\n",
    "        * Set\n",
    "        * benutzerdefinierte Datentypen  \n",
    "<br>\n",
    "* **Erstellung eines Dictionarys**\n",
    "    * über die oben beschriebene Syntax mit gescheiften Klammern, Doppelpunkt zur Trennung von <b>Key: Value</b> und Trennung der Einträge mit einem Komma, z.B.: ``dct = {'A': 1, 'B': 2, 'C': 3}``\n",
    "        * Beispiel für Erstellung eines nested Dictionarys über die Dictionary-Syntax: \n",
    "            * ``nested_dict = {'s1': {'name': 'Reno Zak', 'age': 21}, 's2': {'name': 'Zakira Renoff', 'age': 25}}``\n",
    "    * über die Funktion ``dict()``\n",
    "     * Beispiel zur Erstellung eines neuen Dictionarys: \n",
    "         * ``student = dict(Name = 'Tedi Tedson', Semester=1)``\n",
    "     * Beispiel zur Erstellung eines Dictionarys aus einer Liste mit Tupeln: \n",
    "         * ``studs_dct = dict(['Tedi Tedson', 1), ('Inga Igsun', 2)])``\n",
    "     * Beispiel zur Erstellung eines nested Dictionarys über ``dict()``:\n",
    "         * ``students = dict(s1 = {'name': 'Reno Zak', 'age': 21}, s2 = {'name': 'Zakira Renoff', 'age': 25})``\n",
    "    * aus einer String-Liste über ``dict.fromkeys()``\n",
    "         * Syntax: <font color = green>dict.fromkeys(stringlist, startwert)</font> \n",
    "         * die Strings der Liste werden zu Keys des Dictionarys mit dem angegebenen Startwert umgewandelt  \n",
    "         * Beispiel zur Erstellung eines Dictionarys aus einer Liste von Strings:\n",
    "             * ``lst = ['A', 'B', 'c']``\n",
    "             * ``dct = dict.fromkeys(lst, 0)``\n",
    "             * Output über ``print(dct)`` => {'A': 0, 'B': 0, 'C': 0}\n",
    "    * aus zwei Listen, von denen eine die Keys und die andere die Values enthält über ``zip()``\n",
    "        * Beispiel:\n",
    "            * ``keys = ['A', 'B', 'C']``\n",
    "            * ``vals = [1, 2, 3]``\n",
    "            * ``combo_dct = dict(zip(keys, vals)`` => Output über ``print(combo_dct)``: {'A': 1, 'B': 2, 'C': 3}\n",
    "        * ist eine Liste länger als die andere, werden die zu vielen Werte der längeren Liste weggelassen     \n",
    "<br>\n",
    "* **Wertezugriff und -überprüfung**\n",
    "    * ähnlich zu Lists über eckige Klammern, jedoch statt einem Integer-Index über die Keys, z.B.: ``dct['k1']``\n",
    "    * Slicing funktioniert **nicht** bei Dictionarys\n",
    "    * Abruf aller Key-Value-Paare eines Dictionarys über die Funktion ``.items()``, z.B.: ``dct.items()``\n",
    "    * Abruf aller Keys eines Dictionarys über die Funktion ``.keys()``, z.B.: ``dct.keys()``\n",
    "    * Abruf aller Values eines Dictionarys über die Funktion ``.values()``, z.B.: ``dct.values()``\n",
    "    * Abruf aller Values eines Subdictionarys über die Funktion ``.values()``, z.B.: ``dct['s1'].values()``\n",
    "    * Abruf aller Keys eines Subdictionarys über die Funktion ``.keys()``, z.B.: ``dct['s1'].keys()``\n",
    "    * Überprüfung, ob ein Key enthalten ist über den Membership-Operator ``in``, z.B.: ``'Semester' in student``\n",
    "    * Überprüfung, ob ein Value enthalten ist über ``in`` und ``.values()``, z.B.: ``'1' in student.values()``    \n",
    "    <br>\n",
    "* **Autovervollständigung**\n",
    "    * Variablennamen können autovervollständigt werden, was dir Schreibarbeit spart\n",
    "    * Schritte:\n",
    "        * schreibe mindestens den Anfangsbuchstaben der Variable\n",
    "        * klicke die Tabulator-Taste\n",
    "        * wähle den richtigen Namen mit den Pfeiltasten (oben/unten) oder dem Mausrad aus\n",
    "        * bestätige mit Enter\n",
    "    * je mehr Buchstaben der Variable du schreibst, desto weiter oben erscheint sie in der Auswahlliste\n",
    "    * ist die Variable einzigartig unter den Auswahlmöglichkeiten, wird sie prompt über die Tab-Taste geschrieben (ohne extra Enter-Klick)\n",
    "    \n",
    "</div>"
   ]
  }
 ],
 "metadata": {
  "kernelspec": {
   "display_name": "Python 3",
   "language": "python",
   "name": "python3"
  },
  "language_info": {
   "codemirror_mode": {
    "name": "ipython",
    "version": 3
   },
   "file_extension": ".py",
   "mimetype": "text/x-python",
   "name": "python",
   "nbconvert_exporter": "python",
   "pygments_lexer": "ipython3",
   "version": "3.7.3"
  }
 },
 "nbformat": 4,
 "nbformat_minor": 2
}
