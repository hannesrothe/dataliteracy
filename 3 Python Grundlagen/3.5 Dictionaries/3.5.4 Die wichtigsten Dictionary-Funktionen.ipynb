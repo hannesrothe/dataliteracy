{
 "cells": [
  {
   "cell_type": "markdown",
   "metadata": {},
   "source": [
    "#  3.5 Dictionaries\n",
    "\n",
    "## 3.5.4 Die wichtigsten Dictionary-Funktionen\n",
    "\n",
    "Im Anschluss dieser Übungseinheit kannst du ...\n",
    "+ Dictionarys und Subdictionarys auf verschiedene Weisen updaten\n",
    "+ Einträge (Key-Value-Paare) in Dictionarys und Subdictionarys auf verschiedene Weisen löschen\n",
    "+ Dictionarys und Subdictionarys auf verschiedene Weisen löschen\n",
    "+ Dictionarys flach und tief kopieren\n",
    "+ die Anzahl der Einträge eines Dictionarys feststellen\n",
    "+ ein Dictionary in einen String umwandeln"
   ]
  },
  {
   "cell_type": "markdown",
   "metadata": {},
   "source": [
    "<div class=\"alert alert-block alert-warning\">\n",
    "    <font size=\"3\"><b>Hinweis zur Bearbeitung dieser Einheit (Erinnerung):</b></font>  \n",
    "<br>\n",
    "    \n",
    "Du wirst im Laufe dieser Einheit wieder Fragen sowie kleine Aufgaben lesen. Du erkennst sie an ihrer Farbgebung in orange. Überlege dir erst eine Antwort und probier sie aus, bevor du zu der weiter darunterliegenden Code-Zelle scrollst und die Beantwortung liest. Die Lösung ist stets mit einem grünen Block markiert.  \n",
    "\n",
    "**Wichtige Empfehlung: Auch, wenn das nun doppelt (bzw. mehrfach) gesagt wird, probier dich bitte erst selbst an einer möglichen Lösung aus, bevor du dir die Auflösung ansiehst.**  \n",
    "\n",
    "**Wie alle praktischen Tätigkeiten kannst du Programmieren nur durch Übung lernen. Selbst, wenn du nicht auf die Lösung kommen solltest, allein das aktive Nachdenken über sie und das Eintippen von Wegen wird dich zu einem/r besseren ProgrammierIn machen ;-)**\n",
    "</div>\n",
    "\n",
    "### a) Werte ändern und Key-Value-Paare hinzufügen und ändern\n",
    "\n",
    "\n",
    "#### =, um Einträge eines Dictionarys zu ändern\n",
    "\n",
    "Die **Keys** eines Dictionarys sind immutable - das heißt, sie **können nicht verändert werden**. Möchtest du einen Key ändern, geht das nur, indem du einen neuen Key mit einem Wert hinzufügst und den unerwünschten löschst.  \n",
    "\n",
    "Die **Values** hingegen können wie gewohnt mit dem Zuweisungsoperator <b>=</b> upgedatet werden:"
   ]
  },
  {
   "cell_type": "code",
   "execution_count": null,
   "metadata": {},
   "outputs": [],
   "source": [
    "student1 = {'Name': 'Zid Epsilon', 'Alter': 23, 'Studiengang': 'Wirtschaftsinformatik Bachelor', 'Semester': 1,\\\n",
    "            'Vollzeitstudium': True}\n",
    "\n",
    "student1['Semester'] = 2\n",
    "\n",
    "print(student1)"
   ]
  },
  {
   "cell_type": "markdown",
   "metadata": {},
   "source": [
    "Gibst du einen bereits vorhandenen Key an, wird dessen ursprünglicher Wert mit dem neuen überschrieben. Keys sind unique - es kann den gleichen Key nicht zwei Mal geben. Achte also stets darauf, bei Zuweisungen nur Keys zu überschreiben, die auch tatsächlich überschrieben werden sollen. Sonst kann es zu Datenverlust kommen!  \n",
    "\n",
    "#### Hinzufügen eines Key-Value-Pairs\n",
    "\n",
    "Wie im vorhergehenden Notebook erwähnt, sind die **Keys** eines Dictionarys immutable - sie **können nicht verändert werden**. Möchtest du einen Key ändern, geht das nur, indem du einen neuen Key mit einem Wert hinzufügst und den unerwünschten löschst.  \n",
    "\n",
    "An einem beispielhaften Dictionary zu den Einwohnern (engl.: population) pro km² in Berlins Bezirken siehst du nun die einfachste Variante, ein Key-Value-Paar hinzuzufügen:"
   ]
  },
  {
   "cell_type": "code",
   "execution_count": null,
   "metadata": {},
   "outputs": [],
   "source": [
    "berlin_pop = {'Friedrichshain-Kreuzberg': 14373, 'Mitte': 5574, 'Neukölln': 7338}\n",
    "\n",
    "berlin_pop['Tempelhof-Schönerg'] = 6624\n",
    "\n",
    "print(berlin_pop)"
   ]
  },
  {
   "cell_type": "markdown",
   "metadata": {},
   "source": [
    "Um einen neuen Key hinzuzufügen, brauchst du keinen Index anzugeben, denn ein Dictionary ist per se ungeordnet.  \n",
    "\n",
    "Du fügst über die Index-Notation an dem Dictionary <b> dct['k']</b>  und mit dem Zuweisungsoperator <b>=</b> dem neuen Key einen Value hinzu.  \n",
    "\n",
    "\n",
    "#### Änderung eines Keys  \n",
    "\n",
    "Um nun einen Key zu ändern, muss ein neuer Key hinzugefügt und der zu ändernde gelöscht werden.  \n",
    "\n",
    "Die Einwohnerzahl von <b>'Mitte'</b> ist eigentlich die von <b>'Lichtenberg'</b>. Wie du einen Eintrag anhand seines Indizes löschst, hast du im Kapitel \"3.4 Lists\" gelernt.  \n",
    "\n",
    "<font color = #f57c00>**Probier selbst, das Dictionary zu korrigieren, bevor du dir die Lösung weiter unten ansiehst.**</font>\n",
    "<br>\n",
    "<br>\n",
    "<br>\n"
   ]
  },
  {
   "cell_type": "code",
   "execution_count": null,
   "metadata": {},
   "outputs": [],
   "source": [
    "berlin_pop = {'Friedrichshain-Kreuzberg': 14373, 'Mitte': 5574, 'Neukölln': 7338, 'Tempelhof-Schönerg': 6624}\n",
    "\n"
   ]
  },
  {
   "cell_type": "code",
   "execution_count": null,
   "metadata": {},
   "outputs": [],
   "source": []
  },
  {
   "cell_type": "code",
   "execution_count": null,
   "metadata": {},
   "outputs": [],
   "source": []
  },
  {
   "cell_type": "markdown",
   "metadata": {},
   "source": [
    "<div class=\"alert alert-block alert-success\">\n",
    "<br>  \n",
    "<br>  \n",
    "<br>  \n",
    "<br>  \n",
    "<br>  \n",
    "<br>  \n",
    "<br>  \n",
    "<br>  \n",
    "<br>  \n",
    "<br>  \n",
    "<br>  \n",
    "<br>  \n",
    "<br> \n",
    "<b>Lösung:</b>  \n",
    "<br>  \n",
    "<br>  \n",
    "<br>  \n",
    "<br>  \n",
    "<br>  \n",
    "</div>"
   ]
  },
  {
   "cell_type": "code",
   "execution_count": null,
   "metadata": {},
   "outputs": [],
   "source": [
    "berlin_pop = {'Friedrichshain-Kreuzberg': 14373, 'Mitte': 5574, 'Neukölln': 7338, 'Tempelhof-Schönerg': 6624}\n",
    "\n",
    "berlin_pop['Lichtenberg'] = 5574\n",
    "\n",
    "print(berlin_pop)"
   ]
  },
  {
   "cell_type": "code",
   "execution_count": null,
   "metadata": {},
   "outputs": [],
   "source": [
    "del berlin_pop['Mitte']"
   ]
  },
  {
   "cell_type": "code",
   "execution_count": null,
   "metadata": {},
   "outputs": [],
   "source": [
    "print(berlin_pop)"
   ]
  },
  {
   "cell_type": "markdown",
   "metadata": {},
   "source": [
    "Das Dictionary ist somit korrigiert!\n",
    "\n",
    "#### .update(), um Key-Value-Paare inzuzufügen und zu ändern\n",
    "\n",
    "Mit ``.update()`` können nicht nur Key-Value-Paare hinzugefügt und geändert, es können auch zwei Dictionarys miteinander verschmolzen werden.  \n",
    "\n",
    "Beispiel für das Hinzufügen eines Key-Value-Paars:"
   ]
  },
  {
   "cell_type": "code",
   "execution_count": null,
   "metadata": {},
   "outputs": [],
   "source": [
    "berlin_pop = {'Friedrichshain-Kreuzberg': 14373, 'Mitte': 9733, 'Neukölln': 7338, 'Tempelhof-Schönerg': 6624}\n",
    "\n",
    "berlin_lichtenberg = {'Lichtenberg': 5574}\n",
    "\n",
    "berlin_pop.update(berlin_lichtenberg)\n",
    "\n",
    "print(berlin_pop)"
   ]
  },
  {
   "cell_type": "markdown",
   "metadata": {},
   "source": [
    "Das zweite Dictionary (<b>berlin_lichtenberg</b>) wurde nahtlos in das erste (<b>berlin_pop</b>) eingefügt.  \n",
    "\n",
    "``.update()`` ist auch praktisch, um ein leeres Dictionary zu befüllen:"
   ]
  },
  {
   "cell_type": "code",
   "execution_count": null,
   "metadata": {},
   "outputs": [],
   "source": [
    "new_dct = {}\n",
    "\n",
    "new_dct.update(berlin_pop)\n",
    "\n",
    "print(new_dct)"
   ]
  },
  {
   "cell_type": "markdown",
   "metadata": {},
   "source": [
    "Die Key-Value-Paare von **berlin_pop** wurden in das leere Dictionary (**new_dict**) eingefügt.  \n",
    "\n",
    "Wird ein Wert in <b>new_dict</b> geändert, ändert sich der entsprechende Eintrag im Original-Dictionary nicht:"
   ]
  },
  {
   "cell_type": "code",
   "execution_count": null,
   "metadata": {},
   "outputs": [],
   "source": [
    "new_dct['Mitte'] = 8000\n",
    "\n",
    "print(new_dct)\n",
    "print(berlin_pop)"
   ]
  },
  {
   "cell_type": "markdown",
   "metadata": {},
   "source": [
    "``.update()`` für Dictionarys funktioniert also ähnlich wie ``.copy()`` für Listen. Die Daten von flachen Dictionarys bleiben von ihrem Original unabhängig. Es ist außerdem äquivalent zu ``lst1 + lst2``, denn mit <b>+</b> wurden auch 2 Listen miteinander verschmolzen (engl.: merged).  \n",
    "\n",
    "Weil die Keys eines Dictionarys unique sind, gibt es nicht zwei gleiche Keys und deshalb werden gleichnamige Keys überschrieben, wenn sie upgedatet werden.  \n",
    "<br>\n",
    "\n",
    "Wird also <b>new_dct</b> mit einem Dictionary upgedatet, das gleichnamige Keys enthält (<b>berlin_pop</b>), werden die zugehörigen Werte in <b>new-dct</b> überschrieben. Der Wert von <b>'Mitte'</b> ändert sich durch ``.update()``. Der eben gesetzte Wert von 8000 wird mit dem ursprünglichen Wert aus **berlin_pop** überschrieben:"
   ]
  },
  {
   "cell_type": "code",
   "execution_count": null,
   "metadata": {},
   "outputs": [],
   "source": [
    "new_dct.update(berlin_pop)\n",
    "\n",
    "print(new_dct)\n",
    "print(berlin_pop)"
   ]
  },
  {
   "cell_type": "markdown",
   "metadata": {},
   "source": [
    "Deshalb ist Vorsicht geboten, wenn du ``.update()`` verwendest. Achte darauf, keine Keys zu überschreiben, die nicht überschrieben werden sollen.  \n",
    "<br>\n",
    "\n",
    "Du kannst mit ``.update()`` auch gleichzeitig ein weiteres Dictionary **und** ein Key-Value-Paar in ein Dictionary einfügen:"
   ]
  },
  {
   "cell_type": "code",
   "execution_count": null,
   "metadata": {},
   "outputs": [],
   "source": [
    "berlin_pop = {'Friedrichshain-Kreuzberg': 14373, 'Mitte': 9733, 'Neukölln': 7338, 'Tempelhof-Schönerg': 6624}\n",
    "\n",
    "berlin_lichtenberg = {'Lichtenberg': 5574}\n",
    "\n",
    "berlin_pop.update(berlin_lichtenberg, Reinickendorf = 2970)\n",
    "\n",
    "print(berlin_pop)"
   ]
  },
  {
   "cell_type": "markdown",
   "metadata": {},
   "source": [
    "**=, um Werte in nested Dictionarys zu ändern**\n",
    "\n",
    "Du hast nun das Handwerkszeug, um den Namen 'Bingo Bongo' in 'Kell Shafran' zu ändern.  \n",
    "\n",
    "<font color = #f57c00>**Weiter unten steht die Lösung. Probier deine eigene Lösung in der nächsten Code-Zelle aus:**</font>\n",
    "<br>\n",
    "<br>\n",
    "<br>\n"
   ]
  },
  {
   "cell_type": "code",
   "execution_count": null,
   "metadata": {},
   "outputs": [],
   "source": [
    "students = dict(stud1 = {'Name': 'Zid Epsilon', 'Alter': 23, 'Studiengang': 'Wirtschaftsinformatik Bachelor'},\n",
    "                stud2 = {'Name': 'Alpha Xylophon', 'Alter': 21, 'Studiengang': 'Wirtschaftsinformatik Master'},\n",
    "                stud3 = {'Name': 'Bingo Bongo', 'Alter': 24, 'Studiengang': 'Volkswirtschaftslehre Bachelor'})\n",
    "\n"
   ]
  },
  {
   "cell_type": "markdown",
   "metadata": {},
   "source": [
    "<div class=\"alert alert-block alert-success\">\n",
    "<br>  \n",
    "<br>  \n",
    "<br>  \n",
    "<br>  \n",
    "<br>  \n",
    "<br>  \n",
    "<br>  \n",
    "<br>  \n",
    "<br>  \n",
    "<br>  \n",
    "<br>  \n",
    "<br>  \n",
    "<br> \n",
    "<b>Lösung:</b>  \n",
    "<br>  \n",
    "<br>  \n",
    "<br>  \n",
    "<br>  \n",
    "<br>  \n",
    "</div>"
   ]
  },
  {
   "cell_type": "code",
   "execution_count": null,
   "metadata": {},
   "outputs": [],
   "source": [
    "students = dict(stud1 = {'Name': 'Zid Epsilon', 'Alter': 23, 'Studiengang': 'Wirtschaftsinformatik Bachelor'},\n",
    "                stud2 = {'Name': 'Alpha Xylophon', 'Alter': 21, 'Studiengang': 'Wirtschaftsinformatik Master'},\n",
    "                stud3 = {'Name': 'Bingo Bongo', 'Alter': 24, 'Studiengang': 'Volkswirtschaftslehre Bachelor'})\n",
    "\n",
    "students['stud3']['Name'] = 'Kell Shafran'\n",
    "\n",
    "students"
   ]
  },
  {
   "cell_type": "markdown",
   "metadata": {},
   "source": [
    "Auch ein weiteres **Subdictionary** kannst du problemlos mit der gleichen Notation **einfügen**:"
   ]
  },
  {
   "cell_type": "code",
   "execution_count": null,
   "metadata": {},
   "outputs": [],
   "source": [
    "students = dict(stud1 = {'Name': 'Zid Epsilon', 'Alter': 23, 'Studiengang': 'Wirtschaftsinformatik Bachelor'},\n",
    "                stud2 = {'Name': 'Alpha Xylophon', 'Alter': 21, 'Studiengang': 'Wirtschaftsinformatik Master'},\n",
    "                stud3 = {'Name': 'Kell Shafran', 'Alter': 24, 'Studiengang': 'Volkswirtschaftslehre Bachelor'})\n",
    "\n",
    "\n",
    "students['stud4'] = {'Name': 'Nici Mier', 'Alter': 27, 'Studiengang': 'Biologie'}\n",
    "\n",
    "students"
   ]
  },
  {
   "cell_type": "markdown",
   "metadata": {},
   "source": [
    "Dafür gibst du nach dem Dictionary in eckigen Klammern den neuen Key an und nach dem Zuweisungsoperator <b>=</b> das Dictionary, das als Subdictionary unter diesem Key eingefügt werden soll.  \n",
    "<br>\n",
    "\n",
    "**.update(), um Werte in nested Dictionarys zu ändern**\n",
    "\n",
    "Innerhalb der Funktionsklammern von ``.update()`` kannst du ein weiteres Dictionary und dessen Key direkt übergeben:"
   ]
  },
  {
   "cell_type": "code",
   "execution_count": null,
   "metadata": {},
   "outputs": [],
   "source": [
    "students = dict(stud1 = {'Name': 'Zid Epsilon', 'Alter': 23, 'Studiengang': 'Wirtschaftsinformatik Bachelor'},\n",
    "                stud2 = {'Name': 'Alpha Xylophon', 'Alter': 21, 'Studiengang': 'Wirtschaftsinformatik Master'},\n",
    "                stud3 = {'Name': 'Kell Shafran', 'Alter': 24, 'Studiengang': 'Volkswirtschaftslehre Bachelor'})\n",
    "\n",
    "students.update(stud4 = {'Name': 'Nici Mier', 'Alter': 27, 'Studiengang': 'Biologie'})\n",
    "\n",
    "students"
   ]
  },
  {
   "cell_type": "markdown",
   "metadata": {},
   "source": [
    "Achte dabei darauf, den Key nicht als Integer oder String zu übergeben, da Python solche Variablennamen vor dem Zuweisungsoperator **=** nicht interpretieren kann (dieses Verhalten wie das weiter oben besprochene bei der Festlegung von Keys in ``dict()``).  \n",
    "Es reicht eine Key-Angabe wie im Beispiel oben mit <b>stud4</b>, ohne Anführungsstriche und beginnend mit einem Buchstaben.  \n",
    "\n",
    "Du kannst, wie bereits anhand eines flachen Dictionarys demonstriert, auch die Variable eines Dictionarys an ``.update()`` übergeben:"
   ]
  },
  {
   "cell_type": "code",
   "execution_count": null,
   "metadata": {},
   "outputs": [],
   "source": [
    "students = dict(stud1 = {'Name': 'Zid Epsilon', 'Alter': 23, 'Studiengang': 'Wirtschaftsinformatik Bachelor'},\n",
    "                stud2 = {'Name': 'Alpha Xylophon', 'Alter': 21, 'Studiengang': 'Wirtschaftsinformatik Master'},\n",
    "                stud3 = {'Name': 'Kell Shafran', 'Alter': 24, 'Studiengang': 'Volkswirtschaftslehre Bachelor'})\n",
    "\n",
    "new_student = {'stud4': {'Name': 'Nici Mier', 'Alter': 27, 'Studiengang': 'Biologie'}}\n",
    "\n",
    "students.update(new_student)\n",
    "\n",
    "students"
   ]
  },
  {
   "cell_type": "markdown",
   "metadata": {},
   "source": [
    "Auch für die folgende Fragestellung hast du bereits das Handwerkszeug, um sie zu lösen. Für alle Fälle steht die Lösung weiter unten.  \n",
    "\n",
    "**Wie kannst du den Key eines Subdictionarys ändern?**\n",
    "\n",
    "<font color = #f57c00>**Ändere exemplarisch mit \"=\" bei \"stud4\" den Key 'Alter' in 'age' und anschließend mit \".update()\" den Key 'Studiengang' in 'subject.**</font>\n",
    "<br>\n",
    "<br>\n",
    "<br>\n"
   ]
  },
  {
   "cell_type": "code",
   "execution_count": null,
   "metadata": {},
   "outputs": [],
   "source": [
    "students = dict(stud1 = {'Name': 'Zid Epsilon', 'Alter': 23, 'Studiengang': 'Wirtschaftsinformatik Bachelor'},\n",
    "                stud2 = {'Name': 'Alpha Xylophon', 'Alter': 21, 'Studiengang': 'Wirtschaftsinformatik Master'},\n",
    "                stud3 = {'Name': 'Kell Shafran', 'Alter': 24, 'Studiengang': 'Volkswirtschaftslehre Bachelor'},\n",
    "                stud4 = {'Name': 'Nici Mier', 'Alter': 27, 'Studiengang': 'Biologie'})\n",
    "\n"
   ]
  },
  {
   "cell_type": "code",
   "execution_count": null,
   "metadata": {},
   "outputs": [],
   "source": []
  },
  {
   "cell_type": "markdown",
   "metadata": {},
   "source": [
    "<div class=\"alert alert-block alert-success\">\n",
    "<br>  \n",
    "<br>  \n",
    "<br>  \n",
    "<br>  \n",
    "<br>  \n",
    "<br>  \n",
    "<br>  \n",
    "<br>  \n",
    "<br>  \n",
    "<br>  \n",
    "<br>  \n",
    "<br>  \n",
    "<br> \n",
    "<b>Lösung:</b>  \n",
    "<br>  \n",
    "<br>  \n",
    "<br>  \n",
    "<br>  \n",
    "<br>  \n",
    "</div>"
   ]
  },
  {
   "cell_type": "code",
   "execution_count": null,
   "metadata": {},
   "outputs": [],
   "source": [
    "students = dict(stud1 = {'Name': 'Zid Epsilon', 'Alter': 23, 'Studiengang': 'Wirtschaftsinformatik Bachelor'},\n",
    "                stud2 = {'Name': 'Alpha Xylophon', 'Alter': 21, 'Studiengang': 'Wirtschaftsinformatik Master'},\n",
    "                stud3 = {'Name': 'Kell Shafran', 'Alter': 24, 'Studiengang': 'Volkswirtschaftslehre Bachelor'},\n",
    "                stud4 = {'Name': 'Nici Mier', 'Alter': 27, 'Studiengang': 'Biologie'})\n",
    "\n",
    "students['stud4'] = {'Name': 'Nici Mier', 'age': 27, 'Studiengang': 'Biologie'}\n",
    "\n",
    "students"
   ]
  },
  {
   "cell_type": "markdown",
   "metadata": {},
   "source": [
    "Zur Änderung eines Subkeys kannst du dem zugehörigen Superkey ein Dictionary mit dem geänderten Key zuweisen.  \n",
    "\n",
    "Diese Fragestellung ist auch über ``.update()`` lösbar."
   ]
  },
  {
   "cell_type": "code",
   "execution_count": null,
   "metadata": {},
   "outputs": [],
   "source": [
    "students = dict(stud1 = {'Name': 'Zid Epsilon', 'Alter': 23, 'Studiengang': 'Wirtschaftsinformatik Bachelor'},\n",
    "                stud2 = {'Name': 'Alpha Xylophon', 'Alter': 21, 'Studiengang': 'Wirtschaftsinformatik Master'},\n",
    "                stud3 = {'Name': 'Kell Shafran', 'Alter': 24, 'Studiengang': 'Volkswirtschaftslehre Bachelor'},\n",
    "                stud4 = {'Name': 'Nici Mier', 'Alter': 27, 'Studiengang': 'Biologie'})\n",
    "\n",
    "students['stud4'].update({'Name': 'Nici Mier', 'age': 27, 'subject': 'Biologie'})\n",
    "\n",
    "students"
   ]
  },
  {
   "cell_type": "markdown",
   "metadata": {},
   "source": [
    "Oder in anderer Schreibweise über ``.update()`` (am Beispiel von **'name'**):"
   ]
  },
  {
   "cell_type": "code",
   "execution_count": null,
   "metadata": {},
   "outputs": [],
   "source": [
    "students = dict(stud1 = {'Name': 'Zid Epsilon', 'Alter': 23, 'Studiengang': 'Wirtschaftsinformatik Bachelor'},\n",
    "                stud2 = {'Name': 'Alpha Xylophon', 'Alter': 21, 'Studiengang': 'Wirtschaftsinformatik Master'},\n",
    "                stud3 = {'Name': 'Kell Shafran', 'Alter': 24, 'Studiengang': 'Volkswirtschaftslehre Bachelor'},\n",
    "                stud4 = {'Name': 'Julia Hansky', 'Alter': 27, 'Studiengang': 'Biologie'})\n",
    "\n",
    "students.update(stud4 = {'name': 'Nici Mier', 'age': 27, 'subject': 'Biologie'})\n",
    "\n",
    "students"
   ]
  },
  {
   "cell_type": "markdown",
   "metadata": {},
   "source": [
    "<font color = darkred>**Achtung: Erstellst du ein Dictionary mit Startwerten über ``.fromkeys()`` und willst du dessen Keys später über ``.update()`` befüllen, zeigt Python dieses merkwürdige Verhalten:**</font>"
   ]
  },
  {
   "cell_type": "code",
   "execution_count": null,
   "metadata": {},
   "outputs": [],
   "source": [
    "stud_lst = ['s1', 's2', 's3']\n",
    "\n",
    "students = dict.fromkeys(stud_lst, {})\n",
    "\n",
    "students"
   ]
  },
  {
   "cell_type": "code",
   "execution_count": null,
   "metadata": {},
   "outputs": [],
   "source": [
    "students['s1'].update({'Name': 'Paula Primus'})\n",
    "\n",
    "students"
   ]
  },
  {
   "cell_type": "markdown",
   "metadata": {},
   "source": [
    "Obwohl nur der Key **'s1'** angegeben wurde, wurden die Werte an jeden Key übertragen.  \n",
    "\n",
    "<font color = darkgreen>**Übergibst du in den Funktionsklammern von ``.update()`` den Key inklusive Subdictionary, funktioniert die Zuweisung korrekt:**</font>"
   ]
  },
  {
   "cell_type": "code",
   "execution_count": null,
   "metadata": {},
   "outputs": [],
   "source": [
    "stud_lst = ['s1', 's2', 's3']\n",
    "\n",
    "students = dict.fromkeys(stud_lst, {})\n",
    "\n",
    "students.update(s1 = {'Name': 'Paula Primus'} )\n",
    "\n",
    "students"
   ]
  },
  {
   "cell_type": "markdown",
   "metadata": {},
   "source": [
    "<font color = darkgreen>**Wertänderungen über den Zuweisungsoperator ``=`` funktionieren hingegen wie gewohnt bei einem über ``dict.fromkeys()`` erstellten Dictionary:**</font>"
   ]
  },
  {
   "cell_type": "code",
   "execution_count": null,
   "metadata": {},
   "outputs": [],
   "source": [
    "stud_lst = ['s1', 's2', 's3']\n",
    "\n",
    "students = dict.fromkeys(stud_lst, {})\n",
    "\n",
    "students['s1'] = {'Name': 'Paula Primus'}\n",
    "\n",
    "students"
   ]
  },
  {
   "cell_type": "markdown",
   "metadata": {},
   "source": [
    "<font color = darkgreen>**Wird das Dictionary nicht mit ``.fromkeys()`` erstellt, funktioniert die Wertänderung über ``.update()`` korrekt:**</font>"
   ]
  },
  {
   "cell_type": "code",
   "execution_count": null,
   "metadata": {},
   "outputs": [],
   "source": [
    "students = {'s1': {}, 's2': {}, 's3': {}}\n",
    "\n",
    "students['s1'].update({'Name': 'Paula Primus'})\n",
    "\n",
    "students"
   ]
  },
  {
   "cell_type": "markdown",
   "metadata": {},
   "source": [
    "<div class=\"alert alert-block alert-info\">\n",
    "    <font size=\"3\"><b>Tipp:</b></font> <b>Verwende dict.fromkeys() deshalb niemals im Zusammenhang mit dieser Syntax von .update():</b> <font color = darkred>dct['Key1'].update({'Subkey1': 'Subvalue1'})</font>\n",
    "</div>  \n",
    "<br>\n",
    "\n",
    "### 3.5.4 b) Dictionary-Einträge/-Werte entfernen\n",
    "\n",
    "#### .pop(), um Dictionary-Einträge zu entfernen\n",
    "\n",
    "Die Funktion ``.pop()`` kennst du schon von Listen. Dort hat ``.pop()`` ohne ein übergebenes Argument automatisch den letzten Listeneintrag entfernt und diesen zur Kontrolle noch einmal ausgegeben. Erinnerung:"
   ]
  },
  {
   "cell_type": "code",
   "execution_count": null,
   "metadata": {},
   "outputs": [],
   "source": [
    "lst = [1, 2, 3]\n",
    "\n",
    "lst.pop()"
   ]
  },
  {
   "cell_type": "code",
   "execution_count": null,
   "metadata": {},
   "outputs": [],
   "source": [
    "print(lst)"
   ]
  },
  {
   "cell_type": "markdown",
   "metadata": {},
   "source": [
    "Bei Dictionarys funktioniert ``.pop()`` etwas anders: ``.pop()`` benötigt immer einen Key als Argument und löscht somit nicht automatisch den letzten Eintrag.\n",
    "\n",
    "Wie bei Lists gibt ``.pop()`` den Wert des Keys aus, der gelöscht wurde (nicht den Key).   \n",
    "\n",
    "Beispiel:"
   ]
  },
  {
   "cell_type": "code",
   "execution_count": null,
   "metadata": {},
   "outputs": [],
   "source": [
    "berlin_pop = {'Friedrichshain-Kreuzberg': 14373, 'Mitte': 9733, 'Neukölln': 7338, 'Tempelhof-Schönerg': 6624}\n",
    "\n",
    "berlin_pop.pop('Neukölln')"
   ]
  },
  {
   "cell_type": "code",
   "execution_count": null,
   "metadata": {},
   "outputs": [],
   "source": [
    "berlin_pop"
   ]
  },
  {
   "cell_type": "markdown",
   "metadata": {},
   "source": [
    "``dct.pop('k')`` ist damit äquivalent zu ``del dct['k']``, nur, dass der gelöschte Wert über ``del`` nicht noch einmal ausgegeben wird.  \n",
    "\n",
    "Soll ein Key gelöscht werden, der in der Liste nicht existiert, führt das zu einem <font color = darkred>KeyError</font>:"
   ]
  },
  {
   "cell_type": "code",
   "execution_count": null,
   "metadata": {},
   "outputs": [],
   "source": [
    "berlin_pop.pop('Spandau')"
   ]
  },
  {
   "cell_type": "markdown",
   "metadata": {},
   "source": [
    "#### .popitem(), um den zuletzt hinzugefügten Dictionary-Eintrag mit zu entfernen\n",
    "\n",
    "Fast wie ``lst.pop()`` funktioniert hingegen ``dct.popitem()``: Bei einer Liste entfernt ``lst.pop()`` den **letzten Eintrag**, bei Dictionarys entfernt ``dct.popitem()`` den **zuletzt hinzugefügten Eintrag**. Den letzten Eintrag kann es nicht entfernen, da Dictionarys nicht geordnet sind. Es würde einen zufällig ausgewählten Eintrag löschen.  \n",
    "\n",
    "Stattdessen speichert Python, welcher Eintrag dem Dictionary zuletzt hinzugefügt wurde und löscht diesen. Beispiel:"
   ]
  },
  {
   "cell_type": "code",
   "execution_count": null,
   "metadata": {},
   "outputs": [],
   "source": [
    "berlin_pop = {'Friedrichshain-Kreuzberg': 14373, 'Mitte': 9733, 'Neukölln': 7338, 'Tempelhof-Schönerg': 6624}\n",
    "\n",
    "berlin_pop['Charlottenburg-Wilmersdorf'] = 5289\n",
    "\n",
    "print(berlin_pop)"
   ]
  },
  {
   "cell_type": "code",
   "execution_count": null,
   "metadata": {},
   "outputs": [],
   "source": [
    "berlin_pop.popitem()"
   ]
  },
  {
   "cell_type": "code",
   "execution_count": null,
   "metadata": {},
   "outputs": [],
   "source": [
    "print(berlin_pop)"
   ]
  },
  {
   "cell_type": "markdown",
   "metadata": {},
   "source": [
    "Im Gegensatz zu ``dct.pop('k')`` gibt ``dct.popitem()`` nicht nur den gelöschten Wert des Keys aus, sondern das gesamte Key-Value-Paar.  In dieser Funktion steht \"item\"  für ein Key-Value-Paar bzw. ein Element des Dictionarys.  \n",
    "<br>\n",
    "\n",
    "#### .clear() zum Leeren eines Dictionarys\n",
    "\n",
    "Wie bei Listen, leert ``.clear()`` die gesamte Datenstruktur Dictionary. Beispiel:"
   ]
  },
  {
   "cell_type": "code",
   "execution_count": null,
   "metadata": {},
   "outputs": [],
   "source": [
    "berlin_pop = {'Friedrichshain-Kreuzberg': 14373, 'Mitte': 9733, 'Neukölln': 7338, 'Tempelhof-Schönerg': 6624}\n",
    "\n",
    "berlin_pop.clear()\n",
    "\n",
    "print(berlin_pop)"
   ]
  },
  {
   "cell_type": "markdown",
   "metadata": {},
   "source": [
    "#### del zum Löschen von Key-Value-Paaren und Dictionarys\n",
    "\n",
    "Einen **Key und ein Subdictionary löschen** kannst du mit ``del``. Bei der Löschung über ``del`` wird der gelöschte Eintrag/Wert nicht noch einmal ausgegeben. Beispiel:"
   ]
  },
  {
   "cell_type": "code",
   "execution_count": null,
   "metadata": {},
   "outputs": [],
   "source": [
    "students = dict(stud1 = {'Name': 'Zid Epsilon', 'Alter': 23, 'Studiengang': 'Wirtschaftsinformatik Bachelor'},\n",
    "                stud2 = {'Name': 'Alpha Xylophon', 'Alter': 21, 'Studiengang': 'Wirtschaftsinformatik Master'},\n",
    "                stud3 = {'Name': 'Kell Shafran', 'Alter': 24, 'Studiengang': 'Volkswirtschaftslehre Bachelor'})\n",
    "\n",
    "students"
   ]
  },
  {
   "cell_type": "code",
   "execution_count": null,
   "metadata": {},
   "outputs": [],
   "source": [
    "del students['stud2']"
   ]
  },
  {
   "cell_type": "code",
   "execution_count": null,
   "metadata": {},
   "outputs": [],
   "source": [
    "students"
   ]
  },
  {
   "cell_type": "markdown",
   "metadata": {},
   "source": [
    "### b) .copy() zum Kopieren von Dictionarys\n",
    "\n",
    "Wie bei Listen, wird auch bei Dictionarys über ``.copy()`` eine flache Kopie erstellt.  \n",
    "\n",
    "Erinnerung: Änderungen an einer flachen Kopie bewirken Änderungen am Original.  \n",
    "\n",
    "Bei einem flachen Dictionary (das auch flach bleiben sollte), erhältst du mit ``.copy()`` trotzdem eine vom Original unabhängige Kopie. Beispiel:"
   ]
  },
  {
   "cell_type": "code",
   "execution_count": null,
   "metadata": {},
   "outputs": [],
   "source": [
    "berlin_pop = {'Friedrichshain-Kreuzberg': 14373, 'Mitte': 9733, 'Neukölln': 7338, 'Tempelhof-Schönerg': 6624}\n",
    "\n",
    "berlin_pop2 = berlin_pop.copy()\n",
    "\n",
    "print(berlin_pop)\n",
    "print(berlin_pop2)"
   ]
  },
  {
   "cell_type": "markdown",
   "metadata": {},
   "source": [
    "<font color = #f57c00>**Füge nun den Eintrag \"Reinickendorf: 2970\" in der Kopie hinzu und überprüfe, ob sich auch das Original verändert.**</font>\n",
    "<br>\n",
    "<br>\n",
    "<br>\n"
   ]
  },
  {
   "cell_type": "code",
   "execution_count": null,
   "metadata": {},
   "outputs": [],
   "source": [
    "berlin_pop = {'Friedrichshain-Kreuzberg': 14373, 'Mitte': 9733, 'Neukölln': 7338, 'Tempelhof-Schönerg': 6624}\n",
    "\n",
    "berlin_pop2 = berlin_pop.copy()\n",
    "\n"
   ]
  },
  {
   "cell_type": "markdown",
   "metadata": {},
   "source": [
    "<div class=\"alert alert-block alert-success\">\n",
    "<br>  \n",
    "<br>  \n",
    "<br>  \n",
    "<br>  \n",
    "<br>  \n",
    "<br>  \n",
    "<br>  \n",
    "<br>  \n",
    "<br>  \n",
    "<br>  \n",
    "<br>  \n",
    "<br>  \n",
    "<br> \n",
    "<b>Lösung:</b>  \n",
    "<br>  \n",
    "<br>  \n",
    "<br>  \n",
    "<br>  \n",
    "<br>  \n",
    "</div>"
   ]
  },
  {
   "cell_type": "code",
   "execution_count": null,
   "metadata": {},
   "outputs": [],
   "source": [
    "berlin_pop = {'Friedrichshain-Kreuzberg': 14373, 'Mitte': 9733, 'Neukölln': 7338, 'Tempelhof-Schönerg': 6624}\n",
    "\n",
    "berlin_pop2 = berlin_pop.copy()\n",
    "\n",
    "berlin_pop2['Reinickendorf'] = 2970\n",
    "\n",
    "print(berlin_pop)\n",
    "print(berlin_pop2)"
   ]
  },
  {
   "cell_type": "markdown",
   "metadata": {},
   "source": [
    "Das Original blieb unverändert! Du erhältst über ``.copy()`` also eine tiefe Kopie eines flachen Dictionarys (analog zu List).  \n",
    "\n",
    "**Wie sieht das wohl bei einem tiefen Dictionary aus?**\n",
    "\n",
    "\n",
    "<div class=\"alert alert-block alert-warning\">\n",
    "<font size=\"3\"><b>Übung zum Kopieren und Bearbeiten eines tiefen Dictionarys:</b></font> \n",
    "<br>\n",
    "    \n",
    "**a)** Füge dem Bezirk **Friedrichshain-Kreuzberg**, statt der Einwohnerzahl pro qm², ein **Subdictionary** ein, welches die **Einwohnerzahl pro qm²** enthält und die **Gesamteinwohnerzahl (289762)**.  \n",
    "\n",
    "**b)** Erstelle anschließend über ``.copy()`` eine **Kopie** dieses Dictionarys.\n",
    "\n",
    "**c)** **Lösche** anschließend in der Kopie den Eintrag zur **Gesamteinwohneranzahl in Friedrichshain-Kreuzberg**.  \n",
    "\n",
    "**d)** Vergleiche die **ID des Subdictionarys** der Kopie mit der ID des Subdictionarys des Originals.\n",
    "\n",
    "**e)** Überprüfe, ob sich die **Originalliste verändert** hat. Was schlussfolgerst du aus **d)** und **e)**?\n",
    "\n",
    "Es gibt mehrere Wege, diese Aufgabe zu lösen. Auch hier zählt wieder das funktionierende Ergebnis, das nicht der Aufgabenstellung widerspricht.\n",
    "</div>"
   ]
  },
  {
   "cell_type": "code",
   "execution_count": null,
   "metadata": {},
   "outputs": [],
   "source": [
    "# a)\n",
    "\n",
    "berlin_pop = {'Friedrichshain-Kreuzberg': 14373, 'Mitte': 9733, 'Neukölln': 7338, 'Tempelhof-Schönerg': 6624}\n",
    "\n"
   ]
  },
  {
   "cell_type": "code",
   "execution_count": null,
   "metadata": {},
   "outputs": [],
   "source": [
    "# b)\n",
    "\n"
   ]
  },
  {
   "cell_type": "code",
   "execution_count": null,
   "metadata": {},
   "outputs": [],
   "source": [
    "# c)\n",
    "\n"
   ]
  },
  {
   "cell_type": "code",
   "execution_count": null,
   "metadata": {},
   "outputs": [],
   "source": [
    "# d)\n",
    "\n"
   ]
  },
  {
   "cell_type": "code",
   "execution_count": null,
   "metadata": {},
   "outputs": [],
   "source": [
    "# e)\n",
    "\n"
   ]
  },
  {
   "cell_type": "markdown",
   "metadata": {},
   "source": [
    "Du solltest zu dem Ergebnis gekommen sein, dass die IDs der Subdictionarys identisch sind und das Original-Dictionary bzw. dessen Subdictionary verändert wurde.  \n",
    "\n",
    "Die Schlussfolgerung lautet:  \n",
    "\n",
    "**``.copy()`` erstellt flache Kopien von tiefen/nested Dictionarys (analog zu tiefen Listen).**\n",
    "\n",
    "Solltest du Schwierigkeiten mit der letzten Übung gehabt haben, sieh dir bitte noch einmal das Kapitel \"3.4.4 Spezielle List-Funktionen\" und darin die Punkte g) und h) an.  Die dort beschriebenen Beispiele gelten analog zu Dictionarys.  \n",
    "\n",
    "**Wie kannst du eine tiefe Kopie eines tiefen Dictionarys erstellen?**\n",
    "\n",
    "<font color = #f57c00>**Probier es erst selbst aus, indem du eine tiefe Kopie von \"berlin_pop\" erstellst, einen Eintrag in dessen Subdictionary veränderst und die Kopie anschließend mit dem Original vergleichst.**</font>\n",
    "<br>\n",
    "<br>\n",
    "<br>\n"
   ]
  },
  {
   "cell_type": "code",
   "execution_count": null,
   "metadata": {},
   "outputs": [],
   "source": [
    "berlin_pop = {'Friedrichshain-Kreuzberg': {'Einw./qm²': 14373, 'Gesamteinw.': 289762}, 'Mitte': 9733,\\\n",
    "              'Neukölln': 7338, 'Tempelhof-Schönerg': 6624}\n",
    "\n"
   ]
  },
  {
   "cell_type": "code",
   "execution_count": null,
   "metadata": {},
   "outputs": [],
   "source": []
  },
  {
   "cell_type": "code",
   "execution_count": null,
   "metadata": {},
   "outputs": [],
   "source": []
  },
  {
   "cell_type": "markdown",
   "metadata": {},
   "source": [
    "<div class=\"alert alert-block alert-success\">\n",
    "<br>  \n",
    "<br>  \n",
    "<br>  \n",
    "<br>  \n",
    "<br>  \n",
    "<br>  \n",
    "<br>  \n",
    "<br>  \n",
    "<br>  \n",
    "<br>  \n",
    "<br>  \n",
    "<br>  \n",
    "<br> \n",
    "<b>Lösung:</b>  \n",
    "<br>  \n",
    "<br>  \n",
    "<br>  \n",
    "<br>  \n",
    "<br>  \n",
    "</div>"
   ]
  },
  {
   "cell_type": "code",
   "execution_count": null,
   "metadata": {},
   "outputs": [],
   "source": [
    "import copy\n",
    "\n",
    "berlin_pop = {'Friedrichshain-Kreuzberg': {'Einw./qm²': 14373, 'Gesamteinw.': 289762}, 'Mitte': 9733,\\\n",
    "              'Neukölln': 7338, 'Tempelhof-Schönerg': 6624}\n",
    "\n",
    "berlin_pop2 = copy.deepcopy(berlin_pop)\n",
    "\n",
    "print(berlin_pop)\n",
    "print(berlin_pop2)"
   ]
  },
  {
   "cell_type": "code",
   "execution_count": null,
   "metadata": {},
   "outputs": [],
   "source": [
    "berlin_pop2['Friedrichshain-Kreuzberg']['Einw./qm²'] = 111111\n",
    "\n",
    "print(berlin_pop)\n",
    "print(berlin_pop2)"
   ]
  },
  {
   "cell_type": "markdown",
   "metadata": {},
   "source": [
    "Das Original-Dictionary wurde nicht verändert :-)\n",
    "\n",
    "<div class=\"alert alert-block alert-info\">\n",
    "<font size=\"3\"><b>Schlussfolgerungen zu tiefen und flachen Kopien von Dictionarys (analog zu Listen):</b></font>\n",
    "    \n",
    "* ist und bleibt dein Dictionary ein **flaches Dictionary**, kannst du mit ``.copy()`` eine tiefe Kopie von ihm erzeugen\n",
    "* für ein **tiefes Dictionary** (= verschachteltes/nested Dictionary) verwende für eine tiefe Kopie über ``import copy`` die Funktion ``dct.copy.deepcopy()``\n",
    "</div>\n",
    "<br>\n",
    "\n",
    "### c) len(), um die Länge eines Dictionarys festzustellen\n",
    "\n",
    "Diese Funktion kennst du, denn ``len()`` wird auch verwendet, um die die Zeichenanzahl in einem String und die Gesamtanzahl der Einträge in einer Liste zu messen. Beispiel:"
   ]
  },
  {
   "cell_type": "code",
   "execution_count": null,
   "metadata": {},
   "outputs": [],
   "source": [
    "engl_dict = {'Handel': 'trade', 'Steuern': 'taxes', 'Verhandlung': 'negotiation'}\n",
    "\n",
    "len(engl_dict)"
   ]
  },
  {
   "cell_type": "markdown",
   "metadata": {},
   "source": [
    "``len()`` zählt die Key-Value-Paare eines Dictionarys.\n",
    "\n",
    "<font color = #f57c00>**Lass dir nun die Anzahl der Einträge des Subdictionarys von \"Friedrichshain-Kreuzberg\" ausgeben.**</font>\n",
    "<br>\n",
    "<br>\n",
    "<br>\n"
   ]
  },
  {
   "cell_type": "code",
   "execution_count": null,
   "metadata": {},
   "outputs": [],
   "source": [
    "berlin_pop = {'Friedrichshain-Kreuzberg': {'Einw./qm²': 14373, 'Gesamteinw.': 289762}, 'Mitte': 9733,\\\n",
    "              'Neukölln': 7338, 'Tempelhof-Schönerg': 6624}\n",
    "\n"
   ]
  },
  {
   "cell_type": "markdown",
   "metadata": {},
   "source": [
    "<div class=\"alert alert-block alert-success\">\n",
    "<br>  \n",
    "<br>  \n",
    "<br>  \n",
    "<br>  \n",
    "<br>  \n",
    "<br>  \n",
    "<br>  \n",
    "<br>  \n",
    "<br>  \n",
    "<br>  \n",
    "<br>  \n",
    "<br>  \n",
    "<br> \n",
    "<b>Lösung:</b>  \n",
    "<br>  \n",
    "<br>  \n",
    "<br>  \n",
    "<br>  \n",
    "<br>  \n",
    "</div>"
   ]
  },
  {
   "cell_type": "code",
   "execution_count": null,
   "metadata": {},
   "outputs": [],
   "source": [
    "len(berlin_pop['Friedrichshain-Kreuzberg'])"
   ]
  },
  {
   "cell_type": "markdown",
   "metadata": {},
   "source": [
    "\n",
    "### d) str(), um ein Dictionary in einen String umzuwandeln  \n",
    "\n",
    "Wenn du ein Dictionary textuell weiterverarbeiten möchtest, kannst du es mit ``str()`` leicht in einen String umwandeln. Beispiel:"
   ]
  },
  {
   "cell_type": "code",
   "execution_count": null,
   "metadata": {},
   "outputs": [],
   "source": [
    "engl_dict = {'Handel': 'trade', 'Steuern': 'taxes', 'Verhandlung': 'negotiation'}\n",
    "\n",
    "str(engl_dict)"
   ]
  },
  {
   "cell_type": "markdown",
   "metadata": {},
   "source": [
    "Mit dem Dictionary als String kannst du über String-Funktionen und Slicing einzelne Wörter verändern und sie extrahieren, z.B. als Listeneinträge (siehe Kapitel \"3.2.9 g) split()\").  \n",
    "Das funktioniert auch mit einem Dictionary mit numerischen Werten, denn ``str()`` wandelt den **gesamten** Dictionary-Inhalt in **einen** String um.  \n",
    "<br>\n",
    "\n",
    "<div class=\"alert alert-block alert-warning\">\n",
    "<font size=\"3\"><b>Abschließende Übung zu dieser Einheit:</b></font> \n",
    "<br>\n",
    "Lies dir erst die komplette Aufgabe durch, damit du sie richtig lösen kannst.  \n",
    "    \n",
    "Du bearbeitest ein Preis-Dictionary des Obst- und Gemüsehändlers \"Tutti Frutti\". Das Preis-Dictionary beinhaltet Fruchtgemüse. Das sind Sorten, die eine Mischung aus Frucht und Gemüse sind.  \n",
    "    \n",
    "**a)** Für eine weitere Preisliste, die diverse Tomatensorten enthalten soll, brauchst du eine Kopie des aktuellen Dictionarys. Erstelle diese.\n",
    "\n",
    "**b)** Füge der Kopie das gegebene \"**tomatoes**\"-Dictionary an dem Key **'Tomate'** hinzu und **gleichzeitig** den Preis für **Paprika**, der 1,19 Euro beträgt.\n",
    "\n",
    "**c)** Entferne den Eintrag **'Tomate'** aus **fruitveg_prices** (dem Original) so, dass du gleichzeitig sichergehen kannst, dass der richtige Wert gelöscht wurde.  \n",
    "\n",
    "**d)** **'Paprika'** wird doch **nicht** geliefert. Entferne den Eintrag aus dem kopierten Dictionary so, dass dir das gelöschte Key-Value-Paar angezeigt wird. Tipp: Das funktioniert nur, weil **'Paprika'** zuletzt hinzugefügt wurde.\n",
    "\n",
    "Stelle auf eine dir passende Weise während der Bearbeitung dieser Aufgabe sicher, dass beide Dictionarys unabhängig voneinander sind.\n",
    "</div>"
   ]
  },
  {
   "cell_type": "code",
   "execution_count": null,
   "metadata": {},
   "outputs": [],
   "source": [
    "# a)\n",
    "\n",
    "fruitveg_prices = dict(Tomate = 0.9, Aubergine = 1.0, Gurke = 0.95)"
   ]
  },
  {
   "cell_type": "code",
   "execution_count": null,
   "metadata": {},
   "outputs": [],
   "source": [
    "# b)\n",
    "\n",
    "tomatoes = dict(Cherrytomaten = 1.99, Rispentomaten = 2.05, Minipflaumentomaten = 1.49)"
   ]
  },
  {
   "cell_type": "code",
   "execution_count": null,
   "metadata": {},
   "outputs": [],
   "source": [
    "# c)\n",
    "\n"
   ]
  },
  {
   "cell_type": "code",
   "execution_count": null,
   "metadata": {},
   "outputs": [],
   "source": [
    "# d)\n",
    "\n"
   ]
  },
  {
   "cell_type": "markdown",
   "metadata": {},
   "source": [
    "<div class=\"alert alert-block alert-success\">\n",
    "<b>Super!</b> Du hast in dieser Einheit gelernt, Dictionarys upzudaten und zu kopieren. Du kannst auch die Anzahl ihrer Einträge feststellen und sie in einen String umwandeln, um auf alle String-Funktionen zugreifen zu können.  \n",
    "    \n",
    "In der kommenden Einheit lernst du, was ebenfalls sehr wichtig über Dictionarys zu wissen ist: wie du Dictionarys untereinander vergleichen kannst und wie Dictionarys repräsentativ sortiert werden.  \n",
    "</div>"
   ]
  },
  {
   "cell_type": "markdown",
   "metadata": {},
   "source": [
    "<div class=\"alert alert-block alert-info\">\n",
    "<h3>Das kannst du aus dieser Übung mitnehmen:</h3>\n",
    "\n",
    "* **Dictionary-Einträge updaten**\n",
    "    * ``=`` (Zuweisungsoperator), um einen Wert an einem Key zu ändern oder ein Key-Value-Paar hinzuzufügen\n",
    "        * Beisiel: ``dct['Schlüssel'] = 'Wert'``\n",
    "        * der Wert an dem angegebenen Schlüssel wird überschrieben (Achtung!)\n",
    "        * 'Schlüssel' und 'Wert' können auch ein ganz neues Key-Value-Paar sein, das damit dem Dictionary hinzugefügt wird\n",
    "        * Der Key kann nicht geändert werden, es kann nur ein neuer hinzugefügt und der alte gelöscht werden\n",
    "        * Zuweisung eines nested Dictionarys mit z.B.: ``dct['Schlüssel'] = {'K1': 'V1', 'K2': 'V2'}``\n",
    "        * Wertänderung an einem nested Dictionary mit z.B.: ```dct['Schlüssel']['K1'] = 'B3'`` => 'V1' wird zu 'B3'      \n",
    "    * ``.update()``, um Werte und Key-Value-Paare zu ändern und hinzuzufügen\n",
    "        * Beispiel: ``dct.update(Schlüssel5 = 'Wert5')``\n",
    "        * existiert **Schlüssel5** noch nicht, wird er mit seinem Wert hinzugefügt, ansonsten wird sein vorheriger Wert überschrieben (Achtung!)\n",
    "        * Beispiel für die Zuweisung eines zuvor definierten Dictionarys: ''dct.update(dct2)\n",
    "            * **dct2** wird dabei **kein** Subdictionary von **dct**\n",
    "        * Beispiel für die Zuweisung eines Dictionarys **und** Key-Value-Paars: ``dct.update(dct2, K = 'V'``)\n",
    "        * Beispiel für das Einfügen eines Subdictionarys: ``dct.update(Schlüssel = {'K1': 1, 'K2': 2})``\n",
    "        * Update eines Subdictionarys mit z.B.: ``dct['Schlüssel'].update('K1': 55)`` => 'K1' wurde auf 55 geändert\n",
    "            * zur Änderung eines Keys eines Subdictionarys muss das Subdictionary komplett, auch mit den restlichen Keys, neu übergeben werden, z.B.: ``dct['Schlüssel'].update({'S1': 1, 'K2': 2})`` => der Key 'K1' wurde zu 'S1' verändert\n",
    "        * ist praktisch, um ein leeres Dictionary zu befüllen\n",
    "        * verwende ``dict.fromkeys()`` niemals im Zusammenhang mit dieser Syntax von ``.update()``:</b> <font color = darkred>dct['Key1'].update({'Subkey1': 'Subvalue1'})</font>  \n",
    "<br>\n",
    "* **Entfernen von Einträgen und von Dictionarys**\n",
    "    * ``.pop()`` entfernt Key-Value-Paare und gibt den Wert des gelöschten Keys aus, z.B.: ``dct.pop('K1')`` => der Wert zu 'K1' erscheint in der Ausgabe\n",
    "        * existiert der angegebene Key nicht, wirft Python einen <font color = darkred>KeyError</font>\n",
    "    * ``.popitem()`` entfernt den zuletzt hinzugefügten Dictionary-Eintrag und gibt das gelöschte Key-Value-Paar aus, z.B.: ``dct.popitem()``\n",
    "    * ``.clear()`` zum Leeren eines Dictionarys, z.B.: ``dct.clear()`` => Output per ``print(dct)`` => {&nbsp;}\n",
    "    * ``del`` zum Löschen von Key-Value-Paaren und Dictionarys\n",
    "        * Beispiel für das Löschen eines Key-Value-Paars: ``del dct['K1']`` => löscht 'K1' und dessen Value\n",
    "        * Beispiel für das Löschen eines Dictionarys: ``del dct``\n",
    "        * über ``del`` erhält man **keine** Ausgabe darüber, was gelöscht wurde  \n",
    "<br>\n",
    "* **Kopieren von Dictionarys**\n",
    "    * ``.copy()`` erstellt eine von dem Original unabhängige Kopie **nur bei flachen und flach bleibenden Dictionarys**\n",
    "        * Beispiel: ``dct2 = dct.copy()`` => dct2 ist nun eine Kopie von dct\n",
    "    * ``copy.deepcopy()`` erstellt in jedem Fall eine tiefe, von dem Original unabhänge Kopie\n",
    "        * ist eine Funktion des Moduls **copy**, Import über: ``import copy``\n",
    "        * Beispiel: ``dct2 = copy.deepcopy(dct)``  \n",
    "<br>\n",
    "* **Weitere wichtige Funktionen**\n",
    "    * ``len()`` zählt alle Einträge eines Dictionarys, z.B.: ``len(dct)``\n",
    "    * ``str()`` wandelt ein Dictionary in einen String um, z.B.: ``str(dct)``\n",
    "    * findest du hier: https://docs.python.org/3/library/stdtypes.html#index-50\n",
    "</div>"
   ]
  }
 ],
 "metadata": {
  "kernelspec": {
   "display_name": "Python 3",
   "language": "python",
   "name": "python3"
  },
  "language_info": {
   "codemirror_mode": {
    "name": "ipython",
    "version": 3
   },
   "file_extension": ".py",
   "mimetype": "text/x-python",
   "name": "python",
   "nbconvert_exporter": "python",
   "pygments_lexer": "ipython3",
   "version": "3.7.3"
  }
 },
 "nbformat": 4,
 "nbformat_minor": 2
}
