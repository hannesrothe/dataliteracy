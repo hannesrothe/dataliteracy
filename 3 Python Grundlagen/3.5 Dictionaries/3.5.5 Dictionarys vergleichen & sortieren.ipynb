{
 "cells": [
  {
   "cell_type": "markdown",
   "metadata": {},
   "source": [
    "#  3.5 Dictionaries\n",
    "\n",
    "## 3.5.5 Dictionarys vergleichen & sortieren\n",
    "\n",
    "Im Anschluss dieser Übungseinheit kannst du ...\n",
    "+ Dictionarys nach ihren Keys, Values und Key-Value-Paaren auf verschiedene Weisen miteinander vergleichen\n",
    "+ Dictionarys in Sets umwandeln und damit Set-Funktionen zum Vergleich von Dictionarys heranziehen\n",
    "+ Dictionarys und Subdictionarys auf verschiedene Weisen sortieren"
   ]
  },
  {
   "cell_type": "markdown",
   "metadata": {},
   "source": [
    "### a) Dictionarys vergleichen mit ...?\n",
    "\n",
    "Wenn du Dictionarys mit tausenden Einträgen vor dir hast, zum Beispiel zu Produktinformationen oder Kundendaten, ist es umständlich, fehleranfällig und zeitraubend, diese mit bloßem Auge miteinander zu vergleichen - selbst mit zwei bloßen Augen.  \n",
    "\n",
    "Nehmen wir an, du möchtest zwei Dictionarys zusammenführen, doch wenn nur ein Kunde oder ein Produkt in beiden Dictionarys vorkommen, werden die Werte zum Kunden oder dem Produkt in dem anderen überschrieben (denn Keys sind unique). Das könnte zu einer falschen Überschreibung und Datenverlust führen.  \n",
    "Um unter anderem das zu verhindern, ist es wichtig, dass du Dictionarys miteinander vergleichen kannst.\n",
    "\n",
    "Um Dictionarys zu vergleichen, gab es in Python 2 noch die Funktion: **.cmp()** => \"cmp\" für \"compare\" (deutsch: vergleichen). \n",
    "In Python 3 gibt es keine vergleichbare Vergleichsfunktion für Dictionarys.  \n",
    "\n",
    "Doch es gibt andere Wege, um Dictionarys nach Wertunterschieden zu vergleichen!  \n",
    "<br>\n",
    "\n",
    "**Vergleich der Keys/Values/Key-Value-Paare zweier Dictionarys mit \"==\"**\n",
    "\n",
    "Für ein True müssen beide Dictionarys exakt gleich sein. Beispiel:"
   ]
  },
  {
   "cell_type": "code",
   "execution_count": null,
   "metadata": {},
   "outputs": [],
   "source": [
    "fruit_prices1 = {'Apfel': 0.6, 'Banane': 1.0, 'Birne': 0.7, 'Avocado': 1.0,  'Orange': 0.8, 'Gurke': 0.7}\n",
    "fruit_prices2 = {'Apfel': 0.5, 'Banane': 0.8, 'Birne': 0.9, 'Avocado': 0.9,  'Orange': 0.8, 'Gurke': 0.5}\n",
    "\n",
    "fruit_prices1 == fruit_prices2"
   ]
  },
  {
   "cell_type": "markdown",
   "metadata": {},
   "source": [
    "Weil Dictionarys per se ungeordnet sind, ist das Ergebnis des folgenden Vergleichs ...?"
   ]
  },
  {
   "cell_type": "code",
   "execution_count": null,
   "metadata": {},
   "outputs": [],
   "source": [
    "d1 = {'A': 1, 'B': 2, 'C': 3}\n",
    "d2 = {'C': 3, 'B': 2, 'A': 1}\n",
    "\n",
    "d1 == d2"
   ]
  },
  {
   "cell_type": "markdown",
   "metadata": {},
   "source": [
    "**Die Länge zweier Dictionarys kannst du mit ``len(dct1) == len(dct2)`` vergleichen**  \n",
    "\n",
    "Sind beide Dictionarys gleich lang, also wenn sie gleich viele Key-Value-Paare enthalten, lautet das Ergebnis:"
   ]
  },
  {
   "cell_type": "code",
   "execution_count": null,
   "metadata": {},
   "outputs": [],
   "source": [
    "engl_dict = {'Handel': 'trade', 'Steuern': 'taxes', 'Verhandlung': 'negotiation'}\n",
    "engl_dict2 = {'Handel': 'trade', 'Steuern': 'taxes', 'Verhandlung': 'negotiation'}\n",
    "\n",
    "len(engl_dict) == len(engl_dict2)"
   ]
  },
  {
   "cell_type": "markdown",
   "metadata": {},
   "source": [
    "<font color = #f57c00>**Stimmen die Keys beider Dictionarys überein?**</font>\n",
    "<br>\n",
    "<br>\n",
    "<br>\n"
   ]
  },
  {
   "cell_type": "code",
   "execution_count": null,
   "metadata": {},
   "outputs": [],
   "source": [
    "fruit_prices1 = {'Apfel': 0.6, 'Banane': 1.0, 'Birne': 0.7, 'Avocado': 1.0,  'Orange': 0.8, 'Gurke': 0.7}\n",
    "fruit_prices2 = {'Apfel': 0.5, 'Banane': 0.8, 'Birne': 0.9, 'Avocado': 0.9,  'Orange': 0.8, 'Gurke': 0.5}\n",
    "\n"
   ]
  },
  {
   "cell_type": "markdown",
   "metadata": {},
   "source": [
    "<div class=\"alert alert-block alert-success\">\n",
    "<br>  \n",
    "<br>  \n",
    "<br>  \n",
    "<br>  \n",
    "<br>  \n",
    "<br>  \n",
    "<br>  \n",
    "<br>  \n",
    "<br>  \n",
    "<br>  \n",
    "<br>  \n",
    "<br>  \n",
    "<br> \n",
    "<b>Lösung:</b>  \n",
    "<br>  \n",
    "<br>  \n",
    "<br>  \n",
    "<br>  \n",
    "<br>  \n",
    "</div>"
   ]
  },
  {
   "cell_type": "code",
   "execution_count": null,
   "metadata": {},
   "outputs": [],
   "source": [
    "fruit_prices1 = {'Apfel': 0.6, 'Banane': 1.0, 'Birne': 0.7, 'Avocado': 1.0,  'Orange': 0.8, 'Gurke': 0.7}\n",
    "fruit_prices2 = {'Apfel': 0.5, 'Banane': 0.8, 'Birne': 0.9, 'Avocado': 0.9,  'Orange': 0.8, 'Gurke': 0.5}\n",
    "\n",
    "fruit_prices1.keys() == fruit_prices2.keys()"
   ]
  },
  {
   "cell_type": "markdown",
   "metadata": {},
   "source": [
    "<font color = #f57c00>**Stimmen die Values beider Dictionarys überein?**</font>\n",
    "<br>\n",
    "<br>\n",
    "<br>\n"
   ]
  },
  {
   "cell_type": "code",
   "execution_count": null,
   "metadata": {},
   "outputs": [],
   "source": [
    "fruit_prices1 = {'Apfel': 0.6, 'Banane': 1.0, 'Birne': 0.7, 'Avocado': 1.0,  'Orange': 0.8, 'Gurke': 0.7}\n",
    "fruit_prices2 = {'Apfel': 0.5, 'Banane': 0.8, 'Birne': 0.9, 'Avocado': 0.9,  'Orange': 0.8, 'Gurke': 0.5}\n",
    "\n"
   ]
  },
  {
   "cell_type": "markdown",
   "metadata": {},
   "source": [
    "<div class=\"alert alert-block alert-success\">\n",
    "<br>  \n",
    "<br>  \n",
    "<br>  \n",
    "<br>  \n",
    "<br>  \n",
    "<br>  \n",
    "<br>  \n",
    "<br>  \n",
    "<br>  \n",
    "<br>  \n",
    "<br>  \n",
    "<br>  \n",
    "<br> \n",
    "<b>Lösung:</b>  \n",
    "<br>  \n",
    "<br>  \n",
    "<br>  \n",
    "<br>  \n",
    "<br>  \n",
    "</div>"
   ]
  },
  {
   "cell_type": "code",
   "execution_count": null,
   "metadata": {},
   "outputs": [],
   "source": [
    "fruit_prices1 = {'Apfel': 0.6, 'Banane': 1.0, 'Birne': 0.7, 'Avocado': 1.0,  'Orange': 0.8, 'Gurke': 0.7}\n",
    "fruit_prices2 = {'Apfel': 0.5, 'Banane': 0.8, 'Birne': 0.9, 'Avocado': 0.9,  'Orange': 0.8, 'Gurke': 0.5}\n",
    "\n",
    "fruit_prices1.values() == fruit_prices2.values()"
   ]
  },
  {
   "cell_type": "markdown",
   "metadata": {},
   "source": [
    "Die Key-Value-Paare über ``.items()`` zu vergleichen, ist nicht nötig, denn sie werden über ``dct1 == dct2`` automatisch, ohne zusätzliche Funktionsangabe, verglichen.  \n",
    "<br>\n",
    "\n",
    "**Welche Elemente nur in einem Dictionarys enthalten sind, findest du heraus mit \"-\" (Difference)**  \n",
    "\n",
    "Beispiel zum Vergleich der Keys zweier Dictionarys:"
   ]
  },
  {
   "cell_type": "code",
   "execution_count": null,
   "metadata": {},
   "outputs": [],
   "source": [
    "dict1 = {'Beruf': 'profession', 'Geschäftsbücher': 'accounts', 'Handel': 'trade', 'Steuern': 'taxes',\\\n",
    "         'Verhandlung': 'negotiation'}\n",
    "dict2 = {'Bilanz/Bilanzaufstellung': 'balance sheet', 'Einkommenssteuer': 'income tax', 'Handel': 'trade',\\\n",
    "         'Steuern': 'taxes', 'Verhandlung': 'negotiation'}\n",
    "\n",
    "dict1.keys() - dict2.keys()"
   ]
  },
  {
   "cell_type": "markdown",
   "metadata": {},
   "source": [
    "Mit **dict1** und **dict2** in dieser Reihenfolge, werden dir die Unterschiede in **dict1** zu **dict2** angezeigt.  \n",
    "\n",
    "Möchtest du wissen, worin sich **dict2** von **dict1** unterscheidet, ist die Reihenfolge zu ändern:"
   ]
  },
  {
   "cell_type": "code",
   "execution_count": null,
   "metadata": {},
   "outputs": [],
   "source": [
    "dict2.keys() - dict1.keys()"
   ]
  },
  {
   "cell_type": "markdown",
   "metadata": {},
   "source": [
    "<font color = #f57c00>**Welche zu \"dict2\" verschiedenen Key-Value-Paare sind in \"dict1\" vorhanden?**</font>\n",
    "<br>\n",
    "<br>\n",
    "<br>\n"
   ]
  },
  {
   "cell_type": "code",
   "execution_count": null,
   "metadata": {},
   "outputs": [],
   "source": [
    "dict1 = {'Beruf': 'profession', 'Geschäftsbücher': 'accounts', 'Handel': 'trade', 'Steuern': 'taxes',\\\n",
    "         'Verhandlung': 'negotiation'}\n",
    "dict2 = {'Bilanz/Bilanzaufstellung': 'balance sheet', 'Einkommenssteuer': 'income tax', 'Handel': 'trade',\\\n",
    "         'Steuern': 'taxes', 'Verhandlung': 'negotiation'}\n",
    "\n"
   ]
  },
  {
   "cell_type": "markdown",
   "metadata": {},
   "source": [
    "<div class=\"alert alert-block alert-success\">\n",
    "<br>  \n",
    "<br>  \n",
    "<br>  \n",
    "<br>  \n",
    "<br>  \n",
    "<br>  \n",
    "<br>  \n",
    "<br>  \n",
    "<br>  \n",
    "<br>  \n",
    "<br>  \n",
    "<br>  \n",
    "<br> \n",
    "<b>Lösung:</b>  \n",
    "<br>  \n",
    "<br>  \n",
    "<br>  \n",
    "<br>  \n",
    "<br>  \n",
    "</div>"
   ]
  },
  {
   "cell_type": "code",
   "execution_count": null,
   "metadata": {},
   "outputs": [],
   "source": [
    "dict1 = {'Beruf': 'profession', 'Geschäftsbücher': 'accounts', 'Handel': 'trade', 'Steuern': 'taxes',\\\n",
    "         'Verhandlung': 'negotiation'}\n",
    "dict2 = {'Bilanz/Bilanzaufstellung': 'balance sheet', 'Einkommenssteuer': 'income tax', 'Handel': 'trade',\\\n",
    "         'Steuern': 'taxes', 'Verhandlung': 'negotiation'}\n",
    "\n",
    "dict1.items() - dict2.items()"
   ]
  },
  {
   "cell_type": "code",
   "execution_count": null,
   "metadata": {},
   "outputs": [],
   "source": [
    "type(dict1.items() - dict2.items())"
   ]
  },
  {
   "cell_type": "markdown",
   "metadata": {},
   "source": [
    "Beachte, dass die Key-Value-Paare als Tuples in einem Set zusammengefasst wurden.\n",
    "\n",
    "Der Rückgabetyp der Vergleiche über \"-\" und \"&\" ist immer ein Set.  \n",
    "<br>\n",
    "\n",
    "**Welche Keys/Values/key-Value-Paare zwei Dictionaries gemeinsam haben, erfährst du über \"&\" (Intersection)**\n",
    "\n",
    "Beispiel:"
   ]
  },
  {
   "cell_type": "code",
   "execution_count": null,
   "metadata": {},
   "outputs": [],
   "source": [
    "dict1 = {'Beruf': 'profession', 'Geschäftsbücher': 'accounts', 'Handel': 'trade', 'Steuern': 'taxes',\\\n",
    "         'Verhandlung': 'negotiation'}\n",
    "dict2 = {'Bilanz/Bilanzaufstellung': 'balance sheet', 'Einkommenssteuer': 'income tax', 'Handel': 'trade',\\\n",
    "         'Steuern': 'taxes', 'Verhandlung': 'negotiation'}\n",
    "\n",
    "dict1.keys() & dict2.keys()"
   ]
  },
  {
   "cell_type": "markdown",
   "metadata": {},
   "source": [
    "Hierbei spielt die Reihenfolge der Angabe beider Dictionarys keine Rolle, denn es wird sowieso nach der Intersection/Überschneidung der Keys in beiden gleichermaßen gesucht.\n",
    "\n",
    "Äquivalent dazu kannst du mit ``.values()`` und ``.items()`` auch nach Intersections der Werte und Key-Value-Paare suchen. Eine der Funktionen muss bei dem Einsatz von \"&\" auf jeden Fall angegeben werden, sonst kommt es zu einem \n",
    "<font color = darkred>TypeError</font>:"
   ]
  },
  {
   "cell_type": "code",
   "execution_count": null,
   "metadata": {},
   "outputs": [],
   "source": [
    "dict1 & dict2"
   ]
  },
  {
   "cell_type": "markdown",
   "metadata": {},
   "source": [
    "<div class=\"alert alert-block alert-info\">\n",
    "    <font size=\"3\"><b>Tipp:</b></font>Wenn du <b>mehr als zwei Datenstrukturen miteinander vergleichst</b>, achte unbedingt darauf, diese <b>Vergleiche einzeln</b> durchzuführen.\n",
    "    \n",
    "<b>Das gilt für alle Vergleiche von mehr als zwei Datenstrukturen, auch mit anderen Operatoren und Funktionen.</b>\n",
    "    \n",
    "Beispiel:\n",
    "</div>"
   ]
  },
  {
   "cell_type": "code",
   "execution_count": null,
   "metadata": {},
   "outputs": [],
   "source": [
    "dct1 = dict(A=1, B=2, C=3, D=4)\n",
    "dct2 = dict(E=5, F=6, G=7)\n",
    "dct3 = dict(C=3, D=4, H=8)\n",
    "\n",
    "dct1.items() & dct2.items() & dct3.items()"
   ]
  },
  {
   "cell_type": "markdown",
   "metadata": {},
   "source": [
    "Das Ergebnis ist ein leeres Set. Es sieht so aus, als wären alle drei Dictionarys voneinander unterschiedlich. Gemeinsame Werte wurden nicht gefunden. Doch hier können wir ja noch überschauen, dass das <font color = darkred>nicht stimmen kann</font>.  \n",
    "\n",
    "Dies ist ein <font color = darkred>semantischer Fehler</font>, der von Python nicht als falsch erkannt wird. Denn Python kann nicht wissen, ob du diesen Vergleich genau so anstellen wolltest.  \n",
    "\n",
    "Es werden nicht alle drei Dictionarys untereinander verglichen, sondern **dct1** mit **dct2** und anschließend das Ergebnis dieses Vergleiches mit **dct3**. Das leere Set aus dem ersten Vergleich (da **dct1** und **dct2** keine Gemeinsamkeiten haben) wird mit **dct3** verglichen. Da beide keine Gemeinsamkeiten haben, ist das Ergebnis ein leeres Set.   \n",
    "\n",
    "<font color = #f57c00>**Vergleiche nun die drei Dictionarys so, dass alle miteinander verglichen werden.**</font>\n",
    "<br>\n",
    "<br>\n",
    "<br>\n"
   ]
  },
  {
   "cell_type": "code",
   "execution_count": null,
   "metadata": {},
   "outputs": [],
   "source": [
    "dct1 = dict(A=1, B=2, C=3, D=4)\n",
    "dct2 = dict(E=5, F=6, G=7)\n",
    "dct3 = dict(C=3, D=4, H=8)\n",
    "\n"
   ]
  },
  {
   "cell_type": "code",
   "execution_count": null,
   "metadata": {},
   "outputs": [],
   "source": []
  },
  {
   "cell_type": "code",
   "execution_count": null,
   "metadata": {},
   "outputs": [],
   "source": []
  },
  {
   "cell_type": "markdown",
   "metadata": {},
   "source": [
    "<div class=\"alert alert-block alert-success\">\n",
    "<br>  \n",
    "<br>  \n",
    "<br>  \n",
    "<br>  \n",
    "<br>  \n",
    "<br>  \n",
    "<br>  \n",
    "<br>  \n",
    "<br>  \n",
    "<br>  \n",
    "<br>  \n",
    "<br>  \n",
    "<br> \n",
    "<b>Lösung:</b>  \n",
    "<br>  \n",
    "<br>  \n",
    "<br>  \n",
    "<br>  \n",
    "<br>  \n",
    "</div>"
   ]
  },
  {
   "cell_type": "code",
   "execution_count": null,
   "metadata": {},
   "outputs": [],
   "source": [
    "dct1 = dict(A=1, B=2, C=3, D=4)\n",
    "dct2 = dict(E=5, F=6, G=7)\n",
    "dct3 = dict(C=3, D=4, H=8)\n",
    "\n",
    "dct1.items() & dct2.items()"
   ]
  },
  {
   "cell_type": "code",
   "execution_count": null,
   "metadata": {},
   "outputs": [],
   "source": [
    "dct2.items() & dct3.items()"
   ]
  },
  {
   "cell_type": "code",
   "execution_count": null,
   "metadata": {},
   "outputs": [],
   "source": [
    "dct1.items() & dct3.items()"
   ]
  },
  {
   "cell_type": "markdown",
   "metadata": {},
   "source": [
    "**Für die Vergleiche einzelner Keys und Values sind die dir bekannten Vergleichsoperatoren einzusetzen.**\n",
    "\n",
    "#### Zur Erinnerung:  Übersicht zu den Vergleichsoperatoren   \n",
    "<br>\n",
    "\n",
    "| Zeichen | <p align=\"left\">Vergleich | <p align=\"left\">Beispiel |\n",
    "|----------|-------|---------------|\n",
    "| <p align=\"left\">== | <p align=\"left\">Gleicht die linke Seite der rechten? | x == x => True |\n",
    "| <p align=\"left\">!= | <p align=\"left\">Gleicht die linke Seite nicht der rechten? | x != x => False |\n",
    "| <p align=\"left\">< | <p align=\"left\">Ist die linke Seite kleiner als die rechte? | 2 < 3 => True |\n",
    "| <p align=\"left\">> | <p align=\"left\">Ist die linke Seite größer als die rechte? | 2 > 3 => False |\n",
    "| <p align=\"left\"><= | <p align=\"left\">Ist die linke Seite kleiner als die rechte oder gleich der rechten? | 3 <= 3 => True |\n",
    "| <p align=\"left\">>= | <p align=\"left\">Ist die linke Seite kleiner als die rechte oder gleich der rechten? | 2 >= 3 => False |\n",
    "\n",
    "<font color = #f57c00>**Finde heraus, ob eine Avocado bei Obsthändler 1 (\"fruit_prices1\") teurer ist als bei Obsthändler 2.**</font>\n",
    "<br>\n",
    "<br>\n",
    "<br>\n"
   ]
  },
  {
   "cell_type": "code",
   "execution_count": null,
   "metadata": {},
   "outputs": [],
   "source": [
    "fruit_prices1 = {'Apfel': 0.6, 'Banane': 1.0, 'Birne': 0.7, 'Avocado': 1.0,  'Orange': 0.8, 'Gurke': 0.7}\n",
    "fruit_prices2 = {'Apfel': 0.5, 'Banane': 0.8, 'Birne': 0.9, 'Avocado': 0.9,  'Orange': 0.8, 'Gurke': 0.5}\n",
    "\n"
   ]
  },
  {
   "cell_type": "markdown",
   "metadata": {},
   "source": [
    "<div class=\"alert alert-block alert-success\">\n",
    "<br>  \n",
    "<br>  \n",
    "<br>  \n",
    "<br>  \n",
    "<br>  \n",
    "<br>  \n",
    "<br>  \n",
    "<br>  \n",
    "<br>  \n",
    "<br>  \n",
    "<br>  \n",
    "<br>  \n",
    "<br> \n",
    "<b>Lösung:</b>  \n",
    "<br>  \n",
    "<br>  \n",
    "<br>  \n",
    "<br>  \n",
    "<br>  \n",
    "</div>"
   ]
  },
  {
   "cell_type": "code",
   "execution_count": null,
   "metadata": {},
   "outputs": [],
   "source": [
    "fruit_prices1 = {'Apfel': 0.6, 'Banane': 1.0, 'Birne': 0.7, 'Avocado': 1.0,  'Orange': 0.8, 'Gurke': 0.7}\n",
    "fruit_prices2 = {'Apfel': 0.5, 'Banane': 0.8, 'Birne': 0.9, 'Avocado': 0.9,  'Orange': 0.8, 'Gurke': 0.5}\n",
    "\n",
    "fruit_prices1['Avocado'] > fruit_prices2['Avocado']"
   ]
  },
  {
   "cell_type": "markdown",
   "metadata": {},
   "source": [
    "<font color = #f57c00>**Kostet eine Birne bei Obsthändler 2 mindestens genauso viel wie bei Obsthändler 1?**</font>\n",
    "<br>\n",
    "<br>\n",
    "<br>\n"
   ]
  },
  {
   "cell_type": "code",
   "execution_count": null,
   "metadata": {},
   "outputs": [],
   "source": [
    "fruit_prices1 = {'Apfel': 0.6, 'Banane': 1.0, 'Birne': 0.7, 'Avocado': 1.0,  'Orange': 0.8, 'Gurke': 0.7}\n",
    "fruit_prices2 = {'Apfel': 0.5, 'Banane': 0.8, 'Birne': 0.9, 'Avocado': 0.9,  'Orange': 0.8, 'Gurke': 0.5}\n",
    "\n"
   ]
  },
  {
   "cell_type": "markdown",
   "metadata": {},
   "source": [
    "<div class=\"alert alert-block alert-success\">\n",
    "<br>  \n",
    "<br>  \n",
    "<br>  \n",
    "<br>  \n",
    "<br>  \n",
    "<br>  \n",
    "<br>  \n",
    "<br>  \n",
    "<br>  \n",
    "<br>  \n",
    "<br>  \n",
    "<br>  \n",
    "<br> \n",
    "<b>Lösung:</b>  \n",
    "<br>  \n",
    "<br>  \n",
    "<br>  \n",
    "<br>  \n",
    "<br>  \n",
    "</div>"
   ]
  },
  {
   "cell_type": "code",
   "execution_count": null,
   "metadata": {},
   "outputs": [],
   "source": [
    "fruit_prices1 = {'Apfel': 0.6, 'Banane': 1.0, 'Birne': 0.7, 'Avocado': 1.0,  'Orange': 0.8, 'Gurke': 0.7}\n",
    "fruit_prices2 = {'Apfel': 0.5, 'Banane': 0.8, 'Birne': 0.9, 'Avocado': 0.9,  'Orange': 0.8, 'Gurke': 0.5}\n",
    "\n",
    "fruit_prices2['Birne'] >= fruit_prices1['Birne']"
   ]
  },
  {
   "cell_type": "markdown",
   "metadata": {},
   "source": [
    "<font color = #f57c00>**Unterscheidet sich der Bananenpreis bei Obsthändler 1 von dem bei Obsthändler 2?**</font>\n",
    "<br>\n",
    "<br>\n",
    "<br>\n"
   ]
  },
  {
   "cell_type": "code",
   "execution_count": null,
   "metadata": {},
   "outputs": [],
   "source": [
    "fruit_prices1 = {'Apfel': 0.6, 'Banane': 1.0, 'Birne': 0.7, 'Avocado': 1.0,  'Orange': 0.8, 'Gurke': 0.7}\n",
    "fruit_prices2 = {'Apfel': 0.5, 'Banane': 0.8, 'Birne': 0.9, 'Avocado': 0.9,  'Orange': 0.8, 'Gurke': 0.5}\n",
    "\n"
   ]
  },
  {
   "cell_type": "markdown",
   "metadata": {},
   "source": [
    "<div class=\"alert alert-block alert-success\">\n",
    "<br>  \n",
    "<br>  \n",
    "<br>  \n",
    "<br>  \n",
    "<br>  \n",
    "<br>  \n",
    "<br>  \n",
    "<br>  \n",
    "<br>  \n",
    "<br>  \n",
    "<br>  \n",
    "<br>  \n",
    "<br> \n",
    "<b>Lösung:</b>  \n",
    "<br>  \n",
    "<br>  \n",
    "<br>  \n",
    "<br>  \n",
    "<br>  \n",
    "</div>"
   ]
  },
  {
   "cell_type": "code",
   "execution_count": null,
   "metadata": {},
   "outputs": [],
   "source": [
    "fruit_prices1 = {'Apfel': 0.6, 'Banane': 1.0, 'Birne': 0.7, 'Avocado': 1.0,  'Orange': 0.8, 'Gurke': 0.7}\n",
    "fruit_prices2 = {'Apfel': 0.5, 'Banane': 0.8, 'Birne': 0.9, 'Avocado': 0.9,  'Orange': 0.8, 'Gurke': 0.5}\n",
    "\n",
    "fruit_prices1['Banane'] != fruit_prices2['Banane']"
   ]
  },
  {
   "cell_type": "markdown",
   "metadata": {},
   "source": [
    "Zur Lösung dieser Mini-Augabe brauchst du eine bestimmte Funktion.\n",
    "\n",
    "<font color = #f57c00>**Ist der höchste Preis bei Obsthändler 1 gleich dem Höchstpreis bei Obsthändler 2?**</font>\n",
    "<br>\n",
    "<br>\n",
    "<br>\n"
   ]
  },
  {
   "cell_type": "code",
   "execution_count": null,
   "metadata": {},
   "outputs": [],
   "source": [
    "fruit_prices1 = {'Apfel': 0.6, 'Banane': 1.0, 'Birne': 0.7, 'Avocado': 1.0,  'Orange': 0.8, 'Gurke': 0.7}\n",
    "fruit_prices2 = {'Apfel': 0.5, 'Banane': 0.8, 'Birne': 0.9, 'Avocado': 0.9,  'Orange': 0.8, 'Gurke': 0.5}\n",
    "\n"
   ]
  },
  {
   "cell_type": "markdown",
   "metadata": {},
   "source": [
    "<div class=\"alert alert-block alert-success\">\n",
    "<br>  \n",
    "<br>  \n",
    "<br>  \n",
    "<br>  \n",
    "<br>  \n",
    "<br>  \n",
    "<br>  \n",
    "<br>  \n",
    "<br>  \n",
    "<br>  \n",
    "<br>  \n",
    "<br>  \n",
    "<br> \n",
    "<b>Lösung:</b>  \n",
    "<br>  \n",
    "<br>  \n",
    "<br>  \n",
    "<br>  \n",
    "<br>  \n",
    "</div>"
   ]
  },
  {
   "cell_type": "code",
   "execution_count": null,
   "metadata": {},
   "outputs": [],
   "source": [
    "fruit_prices1 = {'Apfel': 0.6, 'Banane': 1.0, 'Birne': 0.7, 'Avocado': 1.0,  'Orange': 0.8, 'Gurke': 0.7}\n",
    "fruit_prices2 = {'Apfel': 0.5, 'Banane': 0.8, 'Birne': 0.9, 'Avocado': 0.9,  'Orange': 0.8, 'Gurke': 0.5}\n",
    "\n",
    "max(fruit_prices1.values()) == max(fruit_prices2.values())"
   ]
  },
  {
   "cell_type": "markdown",
   "metadata": {},
   "source": [
    "**Anwendung von Set-Funktionen auf Dictionarys zum Vergleich von Keys/Values/key-Value-Paaren**\n",
    "\n",
    "Der Collection-Type **Set** ist eine ungeordnete Datenstruktur (Werte bleiben nicht an festen Indizen eingeordnet). Seine Elemente sind unique, das heißt, kein Element ist mehrfach enthalten.  \n",
    "\n",
    "Set bietet ein paar built-in Funktionen, mit denen du auch Vergleiche an Dictionarys durchführen kannst.  \n",
    "\n",
    "Zuerst klären wir ein paar **wichtige Begriffe**, die du teilweise weiter oben schon gelesen hast.\n",
    "\n",
    "Diese beiden Sets dienen dabei als Beispiele:  \n",
    "``set1 = {1, 2, 3}``  \n",
    "``set2 = {2, 3, 4, 5}``   \n",
    "\n",
    "* **Difference:** besagt, worin sich ein Set von dem anderen Set unterscheidet (entspricht \"-\" bei Dictionarys)\n",
    "    * bei Set1 ist das ( d1  - d2): 1\n",
    "        * Beachte, dass bei der Subtrahierung und dem Vergleich mit **&** den Dictionarys (d1 und d2) die Funktionen ``.keys()``, ``.values()`` oder ``.items()`` angehängt werden müssen. Die entsprechenden Dictionary-Operationen sind hier nur der Übersichtlichkeit halber verkürzt dargestellt.\n",
    "    * bei Set 2 sind das ( d2  - d1): 4, 5\n",
    "* **Symmetric Difference:** welche Elemente insgesamt nur in den einzelnen Sets vorkommen\n",
    "    * alle voneinander verschiedenen Werte ((d1 - d2) + (d2 - d1)): 1, 4, 5\n",
    "* **Intersection:** was beide Sets gemeinsam haben (entspricht \"&\" bei Dictionarys)\n",
    "    * gemeinsame Werte (d1 & d2): 2, 3\n",
    "* **Union:** was in beiden Sets insgesamt enthalten ist \n",
    "    * insgesamt sind in den Sets enthalten: 1, 2, 3, 4, 5\n",
    "    * gemeinsame Werte beider Sets werden dabei nicht doppelt gezählt, denn Set-Elemente sind unique  \n",
    "    \n",
    "    \n",
    "Wenn du Dictionarys in Sets umwandelst, stehen dir zu diesen Begriffen gleichnamige Funktionen zur Verfügung, mit denen du Elemente der Dictionarys untereinander vergleichen kannst. **Das gilt auch analog für den Vergleich von Listen.**    \n",
    "\n",
    "Diese Herangehensweise stellt den Vorteil zur Verwendung von <b>-</b> und <b>&</b> dar, dass du dann auf mehr als zwei Operationen bzw. Funktionen zugreifen kannst.\n",
    "\n",
    "\n",
    "**Beispiel zu Difference:**"
   ]
  },
  {
   "cell_type": "code",
   "execution_count": null,
   "metadata": {},
   "outputs": [],
   "source": [
    "dict1 = {'Beruf': 'profession', 'Geschäftsbücher': 'accounts', 'Handel': 'trade', 'Steuern': 'taxes',\\\n",
    "         'Verhandlung': 'negotiation'}\n",
    "dict2 = {'Bilanz/Bilanzaufstellung': 'balance sheet', 'Einkommenssteuer': 'income tax', 'Handel': 'trade',\\\n",
    "         'Steuern': 'taxes', 'Verhandlung': 'negotiation'}\n",
    "\n",
    "s1 = set(dict1)\n",
    "s2 = set(dict2)\n",
    "\n",
    "print(s1)\n",
    "print(s2)"
   ]
  },
  {
   "cell_type": "markdown",
   "metadata": {},
   "source": [
    "Durch die Umwandlung in Sets sind die Werte zu den Keys nicht übertragen worden. Alternativ können mit ``.values()`` und ``.items()`` auch Sets aus den Werten bzw. Key-Value-Paaren erschaffen werden.  \n",
    "\n",
    "``.difference()`` vergleicht nun also die Keys:"
   ]
  },
  {
   "cell_type": "code",
   "execution_count": null,
   "metadata": {},
   "outputs": [],
   "source": [
    "s1.difference(s2)"
   ]
  },
  {
   "cell_type": "markdown",
   "metadata": {},
   "source": [
    "Auch hier werden die Unterschiede des ersten Sets zu dem zweiten gezeigt. Zur Feststellung der Unterschiede in **s2** sind die Positionen von **S1** und **s2** zu vertauschen.  \n",
    "\n",
    "**Beispiel zu symmetric Difference**\n",
    "\n",
    "Diese Frage kannst du schon selbst beantworten. Falls du nicht weißt, wie der korrekte Funktionsname lautet, verwende nach dem Setzen des Punktes bei ``s1.`` die Tabulator-Taste. Damit werden dir alle für Sets verfügbaren Funktionen angezeigt. Nutze gegebenenfalls die Autovervollständigung, um die Funktion schneller zu finden.  \n",
    "\n",
    "<font color = #f57c00>**Welche Keys kommen nur in den einzelnen Dictionarys vor (alle Unterschiede)?**</font>\n",
    "<br>\n",
    "<br>\n",
    "<br>\n"
   ]
  },
  {
   "cell_type": "code",
   "execution_count": null,
   "metadata": {},
   "outputs": [],
   "source": [
    "dict1 = {'Beruf': 'profession', 'Geschäftsbücher': 'accounts', 'Handel': 'trade', 'Steuern': 'taxes',\\\n",
    "         'Verhandlung': 'negotiation'}\n",
    "dict2 = {'Bilanz/Bilanzaufstellung': 'balance sheet', 'Einkommenssteuer': 'income tax', 'Handel': 'trade',\\\n",
    "         'Steuern': 'taxes', 'Verhandlung': 'negotiation'}\n",
    "\n",
    "s1 = set(dict1)\n",
    "s2 = set(dict2)\n",
    "\n"
   ]
  },
  {
   "cell_type": "markdown",
   "metadata": {},
   "source": [
    "<div class=\"alert alert-block alert-success\">\n",
    "<br>  \n",
    "<br>  \n",
    "<br>  \n",
    "<br>  \n",
    "<br>  \n",
    "<br>  \n",
    "<br>  \n",
    "<br>  \n",
    "<br>  \n",
    "<br>  \n",
    "<br>  \n",
    "<br>  \n",
    "<br> \n",
    "<b>Lösung:</b>  \n",
    "<br>  \n",
    "<br>  \n",
    "<br>  \n",
    "<br>  \n",
    "<br>  \n",
    "</div>"
   ]
  },
  {
   "cell_type": "code",
   "execution_count": null,
   "metadata": {},
   "outputs": [],
   "source": [
    "dict1 = {'Beruf': 'profession', 'Geschäftsbücher': 'accounts', 'Handel': 'trade', 'Steuern': 'taxes',\\\n",
    "         'Verhandlung': 'negotiation'}\n",
    "dict2 = {'Bilanz/Bilanzaufstellung': 'balance sheet', 'Einkommenssteuer': 'income tax', 'Handel': 'trade',\\\n",
    "         'Steuern': 'taxes', 'Verhandlung': 'negotiation'}\n",
    "\n",
    "s1 = set(dict1)\n",
    "s2 = set(dict2)\n",
    "\n",
    "s1.symmetric_difference(s2)"
   ]
  },
  {
   "cell_type": "markdown",
   "metadata": {},
   "source": [
    "**Beispiel zu Union**\n",
    "\n",
    "<font color = #f57c00>**Welche Keys kommen in beiden Dictionarys insgesamt vor (alle Keys)?**</font>\n",
    "<br>\n",
    "<br>\n",
    "<br>\n"
   ]
  },
  {
   "cell_type": "code",
   "execution_count": null,
   "metadata": {},
   "outputs": [],
   "source": [
    "dict1 = {'Beruf': 'profession', 'Geschäftsbücher': 'accounts', 'Handel': 'trade', 'Steuern': 'taxes',\\\n",
    "         'Verhandlung': 'negotiation'}\n",
    "dict2 = {'Bilanz/Bilanzaufstellung': 'balance sheet', 'Einkommenssteuer': 'income tax', 'Handel': 'trade',\\\n",
    "         'Steuern': 'taxes', 'Verhandlung': 'negotiation'}\n",
    "\n",
    "s1 = set(dict1)\n",
    "s2 = set(dict2)\n",
    "\n"
   ]
  },
  {
   "cell_type": "markdown",
   "metadata": {},
   "source": [
    "<div class=\"alert alert-block alert-success\">\n",
    "<br>  \n",
    "<br>  \n",
    "<br>  \n",
    "<br>  \n",
    "<br>  \n",
    "<br>  \n",
    "<br>  \n",
    "<br>  \n",
    "<br>  \n",
    "<br>  \n",
    "<br>  \n",
    "<br>  \n",
    "<br> \n",
    "<b>Lösung:</b>  \n",
    "<br>  \n",
    "<br>  \n",
    "<br>  \n",
    "<br>  \n",
    "<br>  \n",
    "</div>"
   ]
  },
  {
   "cell_type": "code",
   "execution_count": null,
   "metadata": {},
   "outputs": [],
   "source": [
    "dict1 = {'Beruf': 'profession', 'Geschäftsbücher': 'accounts', 'Handel': 'trade', 'Steuern': 'taxes',\\\n",
    "         'Verhandlung': 'negotiation'}\n",
    "dict2 = {'Bilanz/Bilanzaufstellung': 'balance sheet', 'Einkommenssteuer': 'income tax', 'Handel': 'trade',\\\n",
    "         'Steuern': 'taxes', 'Verhandlung': 'negotiation'}\n",
    "\n",
    "s1 = set(dict1)\n",
    "s2 = set(dict2)\n",
    "\n",
    "s1.union(s2)"
   ]
  },
  {
   "cell_type": "markdown",
   "metadata": {},
   "source": [
    "**Beispiel zu Intersection**\n",
    "\n",
    "<font color = #f57c00>**Welche Key-Value-Paare haben beide Dictionaries gemeinsam? Finde das heraus mit der richtigen Set-Funktion.**</font>\n",
    "<br>\n",
    "<br>\n",
    "<br>\n"
   ]
  },
  {
   "cell_type": "code",
   "execution_count": null,
   "metadata": {},
   "outputs": [],
   "source": [
    "dict1 = {'Beruf': 'profession', 'Geschäftsbücher': 'accounts', 'Handel': 'trade', 'Steuern': 'taxes',\\\n",
    "         'Verhandlung': 'negotiation'}\n",
    "dict2 = {'Bilanz/Bilanzaufstellung': 'balance sheet', 'Einkommenssteuer': 'income tax', 'Handel': 'trade',\\\n",
    "         'Steuern': 'taxes', 'Verhandlung': 'negotiation'}\n",
    "\n"
   ]
  },
  {
   "cell_type": "markdown",
   "metadata": {},
   "source": [
    "<div class=\"alert alert-block alert-success\">\n",
    "<br>  \n",
    "<br>  \n",
    "<br>  \n",
    "<br>  \n",
    "<br>  \n",
    "<br>  \n",
    "<br>  \n",
    "<br>  \n",
    "<br>  \n",
    "<br>  \n",
    "<br>  \n",
    "<br>  \n",
    "<br> \n",
    "<b>Lösung:</b>  \n",
    "<br>  \n",
    "<br>  \n",
    "<br>  \n",
    "<br>  \n",
    "<br>  \n",
    "</div>"
   ]
  },
  {
   "cell_type": "code",
   "execution_count": null,
   "metadata": {},
   "outputs": [],
   "source": [
    "dict1 = {'Beruf': 'profession', 'Geschäftsbücher': 'accounts', 'Handel': 'trade', 'Steuern': 'taxes',\\\n",
    "         'Verhandlung': 'negotiation'}\n",
    "dict2 = {'Bilanz/Bilanzaufstellung': 'balance sheet', 'Einkommenssteuer': 'income tax', 'Handel': 'trade',\\\n",
    "         'Steuern': 'taxes', 'Verhandlung': 'negotiation'}\n",
    "\n",
    "s1 = set(dict1.items())\n",
    "s2 = set(dict2.items())\n",
    "\n",
    "s1.intersection(s2)"
   ]
  },
  {
   "cell_type": "markdown",
   "metadata": {},
   "source": [
    "### b) Dictionarys sortieren mit \"sorted()\"\n",
    "\n",
    "Von vornherein sei gesagt, dass Dictionarys grundsätzlich ungeordnet sind. Auch für ein sortiertes Dictionary gibt es keine Garantie, dass seine Keys an den gleichen sortierten Positionen bestehen bleiben. Die Sortierung dient eher einer zeitweiligen Repräsentation der alphabetischen/numerischen Reihenfolge des Dictionarys.  \n",
    "\n",
    "Ein Dictionary zu sortieren ist also dann sinnvoll, um dir einen Überblick in alphabetischer oder numerischer Reihenfolge über das Dictionary zu verschaffen sowie wenn du es z.B. in einem Loop in alphabetischer Reihenfolge bearbeiten möchtest.  \n",
    "\n",
    "Es gibt viele Wege, ein Dictionary zu sortieren. Weitere wirst du in dem folgenden Kapitel \"3.6 Loops & Funktionen\" kennenlernen. In vielen Varianten wird ein Dictionary zum Sortieren in eine andere Datenstruktur konvertiert, wie auch bei ``sorted()``.  \n",
    "\n",
    "``sorted()`` ist eine weitere Funnktion, die du schon kennengelernt hast.  \n",
    "\n",
    "Erinnerst du dich?  \n",
    "\n",
    "``sorted()`` sortiert nicht in-place und ist ein stabiler Sortieralgorithmus (siehe Kapitel \"3.4.3 Funktionen für List & andere Datentypen - Lösungen\", g)).  \n",
    "\n",
    "Syntax: <font color = green>sorted(iterierbaresObjekt, key=None, reverse=False)</font>  \n",
    "\n",
    "Per default sortiert diese Funktion ein Dictionary anhand seiner Keys (in aufsteigender Reihenfolge). Beispiel:"
   ]
  },
  {
   "cell_type": "code",
   "execution_count": null,
   "metadata": {},
   "outputs": [],
   "source": [
    "student1 = {'Name': 'Zid Epsilon', 'Alter': 23, 'Studiengang': 'Wirtschaftsinformatik Bachelor', 'Semester': 1,\\\n",
    "            'Vollzeitstudium': True}\n",
    "\n",
    "s1_sorted = sorted(student1)\n",
    "\n",
    "s1_sorted"
   ]
  },
  {
   "cell_type": "markdown",
   "metadata": {},
   "source": [
    "Sein Rückgabewert ist allerdings kein Dictionary mehr, sondern eine Liste, welche die sortierten Keys enthält. Eine Liste ist geordnet. Das bedeutet: Die gleichbleibende Reihenfolge der Listenelemente ist garantiert. Die Keys werden in der Liste immer so angeordnet sein.    \n",
    "\n",
    "Der obere Code zu ``sorted()`` entspricht:"
   ]
  },
  {
   "cell_type": "code",
   "execution_count": null,
   "metadata": {},
   "outputs": [],
   "source": [
    "s1_sorted = sorted(student1.keys())\n",
    "\n",
    "s1_sorted"
   ]
  },
  {
   "cell_type": "markdown",
   "metadata": {},
   "source": [
    "Du kannst ``.keys()`` also getrost weglassen.  \n",
    "\n",
    "<font color = #f57c00>**Sortiere nun das folgende Dictionary nach seinen Werten.**</font>\n",
    "<br>\n",
    "<br>\n",
    "<br>\n"
   ]
  },
  {
   "cell_type": "code",
   "execution_count": null,
   "metadata": {},
   "outputs": [],
   "source": [
    "people = {'Kivi': 30, 'Sultanine': 25, 'Majo': 21}\n",
    "\n"
   ]
  },
  {
   "cell_type": "markdown",
   "metadata": {},
   "source": [
    "<div class=\"alert alert-block alert-success\">\n",
    "<br>  \n",
    "<br>  \n",
    "<br>  \n",
    "<br>  \n",
    "<br>  \n",
    "<br>  \n",
    "<br>  \n",
    "<br>  \n",
    "<br>  \n",
    "<br>  \n",
    "<br>  \n",
    "<br>  \n",
    "<br> \n",
    "<b>Lösung:</b>  \n",
    "<br>  \n",
    "<br>  \n",
    "<br>  \n",
    "<br>  \n",
    "<br>  \n",
    "</div>"
   ]
  },
  {
   "cell_type": "code",
   "execution_count": null,
   "metadata": {},
   "outputs": [],
   "source": [
    "people_valsorted = sorted(people.values())\n",
    "\n",
    "people_valsorted"
   ]
  },
  {
   "cell_type": "markdown",
   "metadata": {},
   "source": [
    "Auch hier ist der Rückgabewert eine Liste mit den sortierten Werten in aufsteigender Reihenfolge.  \n",
    "\n",
    "Wenn wir nun noch diese Liste nach Keys sortieren ..."
   ]
  },
  {
   "cell_type": "code",
   "execution_count": null,
   "metadata": {},
   "outputs": [],
   "source": [
    "people = {'Kivi': 30, 'Sultanine': 25, 'Majo': 21}\n",
    "\n",
    "people_keysorted = sorted(people)\n",
    "\n",
    "people_keysorted"
   ]
  },
  {
   "cell_type": "markdown",
   "metadata": {},
   "source": [
    "... könnten wir aus diesen beiden Listen der Keys und Values ein Dictionary erstellen. Dieses Dictionary **sollte** dann sortiert sein.  \n",
    "\n",
    "<font color = #f57c00>**Probier es selbst aus, indem du zuerst jeweils eine sortierte Key- und eine sortierte Value-Liste aus dem Dictionary erstellst und aus diesen dann ein zusammengefasstes Dictionary:**</font>\n",
    "<br>\n",
    "<br>\n",
    "<br>\n"
   ]
  },
  {
   "cell_type": "code",
   "execution_count": null,
   "metadata": {},
   "outputs": [],
   "source": [
    "people = {'Kivi': 30, 'Sultanine': 25, 'Majo': 21}\n",
    "\n"
   ]
  },
  {
   "cell_type": "markdown",
   "metadata": {},
   "source": [
    "<div class=\"alert alert-block alert-warning\">\n",
    "    <font size=\"3\"><b>Tipp zur Mini-Aufgabe:</b></font>\n",
    "    <br>\n",
    "  \n",
    "    \n",
    " Verwende dafür ``zip()`` und ``dict()``.\n",
    "</div>"
   ]
  },
  {
   "cell_type": "markdown",
   "metadata": {},
   "source": [
    "<div class=\"alert alert-block alert-success\">\n",
    "<br>  \n",
    "<br>  \n",
    "<br>  \n",
    "<br>  \n",
    "<br>  \n",
    "<br>  \n",
    "<br>  \n",
    "<br>  \n",
    "<br>  \n",
    "<br>  \n",
    "<br>  \n",
    "<br>  \n",
    "<br> \n",
    "<b>Lösung:</b>  \n",
    "<br>  \n",
    "<br>  \n",
    "<br>  \n",
    "<br>  \n",
    "<br>  \n",
    "</div>"
   ]
  },
  {
   "cell_type": "code",
   "execution_count": null,
   "metadata": {},
   "outputs": [],
   "source": [
    "people = {'Kivi': 30, 'Sultanine': 25, 'Majo': 21}\n",
    "\n",
    "people_keysorted = sorted(people)\n",
    "\n",
    "people_valsorted = sorted(people.values())\n",
    "\n",
    "people_sorteddct = dict(zip(people_keysorted, people_valsorted))\n",
    "\n",
    "people_sorteddct"
   ]
  },
  {
   "cell_type": "markdown",
   "metadata": {},
   "source": [
    "**Siehst du, was hier passiert ist?**  \n",
    "\n",
    "Auch das ist ein <font color = darkred>semantischer Fehler</font>, zu dem dir Python keine Fehlermeldung ausgibt, sondern auf den du selbst achten musst.  \n",
    "\n",
    "Die Altersangaben sind ebenfalls sortiert eingeordnet worden und stehen dadurch bei einer anderen Person als ursprünglich.\n",
    "\n",
    "Du kannst auf diese Weise also kein sortiertes Dictionary erhalten, in welchem die Values ihren Keys korrekt zugeordnet sind.  \n",
    "\n",
    "Doch dafür gibt es eine Lösung!\n",
    "\n",
    "Du kannst nämlich die Key-Value-Paare in einem Schritt auslesen und diese sortieren. Wie du die Key-Value-Paare eines Dictionarys erhältst, hast du zuletzt in Punkt <b>a)</b> gesehen.  \n",
    "\n",
    "<font color = #f57c00>**Erstelle ein sortiertes Dictionary mit korrekten Key-Value-Paaren.**</font>\n",
    "\n",
    "Du kannst das in mehr als einer Code-Zelle lösen. Bedenke, dass der Rückgabewert von ``sorted()`` eine Liste ist.\n",
    "<br>\n",
    "<br>\n",
    "<br>\n"
   ]
  },
  {
   "cell_type": "code",
   "execution_count": null,
   "metadata": {},
   "outputs": [],
   "source": [
    "people = {'Kivi': 30, 'Sultanine': 25, 'Majo': 21}\n",
    "\n"
   ]
  },
  {
   "cell_type": "code",
   "execution_count": null,
   "metadata": {},
   "outputs": [],
   "source": []
  },
  {
   "cell_type": "markdown",
   "metadata": {},
   "source": [
    "<div class=\"alert alert-block alert-success\">\n",
    "<br>  \n",
    "<br>  \n",
    "<br>  \n",
    "<br>  \n",
    "<br>  \n",
    "<br>  \n",
    "<br>  \n",
    "<br>  \n",
    "<br>  \n",
    "<br>  \n",
    "<br>  \n",
    "<br>  \n",
    "<br> \n",
    "<b>Lösung:</b>  \n",
    "<br>  \n",
    "<br>  \n",
    "<br>  \n",
    "<br>  \n",
    "<br>  \n",
    "</div>"
   ]
  },
  {
   "cell_type": "code",
   "execution_count": null,
   "metadata": {},
   "outputs": [],
   "source": [
    "people = {'Kivi': 30, 'Sultanine': 25, 'Majo': 21}\n",
    "\n",
    "people_kvsortedlst = sorted(people.items())\n",
    "\n",
    "people_sorteddct = dict(people_kvsortedlst)\n",
    "\n",
    "people_sorteddct"
   ]
  },
  {
   "cell_type": "markdown",
   "metadata": {},
   "source": [
    "Das Dictionary ist nun nach seinen Keys sortiert und die Werte sind ihren Keys dabei zugeordnet geblieben :-)  \n",
    "\n",
    "Bedenke dabei, dass es hier nur um die korrekte Zuordnung der Values zu ihren Keys ging. Die Keys des Dictionarys können nach wie vor bei jedem neuen Zugriff auf das Dictionary an einer anderen Position stehen (inklusive ihrer zugehörig bleibenden Values).  \n",
    "<br>\n",
    "\n",
    "<font color = #f57c00>**Erstelle ein rückwärts sortiertes Dictionary aus den Key-Value-Paaren.**</font>\n",
    "<br>\n",
    "<br>\n",
    "<br>\n"
   ]
  },
  {
   "cell_type": "code",
   "execution_count": null,
   "metadata": {},
   "outputs": [],
   "source": [
    "people = {'Kivi': 30, 'Sultanine': 25, 'Majo': 21}\n",
    "\n"
   ]
  },
  {
   "cell_type": "markdown",
   "metadata": {},
   "source": [
    "<div class=\"alert alert-block alert-success\">\n",
    "<br>  \n",
    "<br>  \n",
    "<br>  \n",
    "<br>  \n",
    "<br>  \n",
    "<br>  \n",
    "<br>  \n",
    "<br>  \n",
    "<br>  \n",
    "<br>  \n",
    "<br>  \n",
    "<br>  \n",
    "<br> \n",
    "<b>Lösung:</b>  \n",
    "<br>  \n",
    "<br>  \n",
    "<br>  \n",
    "<br>  \n",
    "<br>  \n",
    "</div>"
   ]
  },
  {
   "cell_type": "code",
   "execution_count": null,
   "metadata": {},
   "outputs": [],
   "source": [
    "people = {'Kivi': 30, 'Sultanine': 25, 'Majo': 21}\n",
    "\n",
    "people_kvsortedlst = sorted(people.items(), reverse=True)\n",
    "\n",
    "people_sorteddct = dict(people_kvsortedlst)\n",
    "\n",
    "people_sorteddct"
   ]
  },
  {
   "cell_type": "markdown",
   "metadata": {},
   "source": [
    "**und wie sortierst du ein Subdictionary, sodass du ein Dictionary erhältst, dessen Key-Value-Paare erhalten bleiben?**  \n",
    "\n",
    "<font color = #f57c00>**'Majo' wurde ein Subdictionary hinzugefügt. Sortiere es. Das Endergebnis soll das Dictionary \"people\" sein, das die sortierte Subliste enthält.**</font>\n",
    "<br>\n",
    "<br>\n",
    "<br>\n"
   ]
  },
  {
   "cell_type": "code",
   "execution_count": null,
   "metadata": {},
   "outputs": [],
   "source": [
    "people = {'Kivi': 30, 'Sultanine': 25, 'Majo':\\\n",
    "          {'profession': 'food decorator', 'hometown': 'Berlin', 'hobbies': 'chillaxing on chips'}}\n",
    "                                               \n"
   ]
  },
  {
   "cell_type": "code",
   "execution_count": null,
   "metadata": {},
   "outputs": [],
   "source": []
  },
  {
   "cell_type": "markdown",
   "metadata": {},
   "source": [
    "<div class=\"alert alert-block alert-success\">\n",
    "<br>  \n",
    "<br>  \n",
    "<br>  \n",
    "<br>  \n",
    "<br>  \n",
    "<br>  \n",
    "<br>  \n",
    "<br>  \n",
    "<br>  \n",
    "<br>  \n",
    "<br>  \n",
    "<br>  \n",
    "<br> \n",
    "<b>Lösung:</b>  \n",
    "<br>  \n",
    "<br>  \n",
    "<br>  \n",
    "<br>  \n",
    "<br>  \n",
    "</div>"
   ]
  },
  {
   "cell_type": "code",
   "execution_count": null,
   "metadata": {},
   "outputs": [],
   "source": [
    "people = {'Kivi': 30, 'Sultanine': 25, 'Majo':\\\n",
    "          {'profession': 'food decorator', 'hometown': 'Berlin', 'hobby': 'chillaxing on chips'}}\n",
    "                                               \n",
    "\n",
    "people_kvsortedsublst = sorted(people['Majo'].items())\n",
    "\n",
    "people_sortedsubdct = dict(people_kvsortedsublst)\n",
    "\n",
    "people_sortedsubdct"
   ]
  },
  {
   "cell_type": "code",
   "execution_count": null,
   "metadata": {},
   "outputs": [],
   "source": [
    "people['Majo'] = people_sortedsubdct\n",
    "\n",
    "people"
   ]
  },
  {
   "cell_type": "markdown",
   "metadata": {},
   "source": [
    "**Wie du siehst, ist bei der Sortierung eines Subdictionarys darauf zu achten, dass es wieder in das Superdictionary übertragen wird.**  \n",
    "<br>\n",
    "\n",
    "**Über den Import des Moduls \"json\" ist es möglich, ein Super- und Subdictionary auf einen Schlag zu sortieren.**  \n",
    "\n",
    "Beispiel:"
   ]
  },
  {
   "cell_type": "code",
   "execution_count": null,
   "metadata": {},
   "outputs": [],
   "source": [
    "import json\n",
    "\n",
    "letters = dict(O = 15, J = 10, E = 5, T = 20, ABC = dict(A = 1,  C = 3, B = 2))\n",
    "\n",
    "letters_complsorted = json.dumps(letters, sort_keys=True, indent=4)\n",
    "\n",
    "print(letters_complsorted)"
   ]
  },
  {
   "cell_type": "markdown",
   "metadata": {},
   "source": [
    "Über die Funktion ``json.dumps()`` wurde das Dictionary aufgenommen, nach seinen Keys sortiert und (optional) sein Subdictionary um 4 Leerzeichen eingerückt.  \n",
    "\n",
    "Syntax auf Deutsch: <font color = green>json.dumps(Dictionary, nach_Keys_sortieren=wahr, Einrückung_des_Subdictionarys=4_Leerzeichen)</font>  \n",
    "    \n",
    "Syntax auf Pythonisch: <font color = green>json.dumps(dict, sort_keys=True, indent=int)</font>  \n",
    "\n",
    "Es ist nicht möglich, statt **sort_keys** nach Values zu sortieren. **sort_keys** kann nur auf True oder False gesetzt werden, wobei mit False das Dictionary ungeordnet bleibt. **indent** ist optional. Wird es weggelassen, finden keine Einrückungen statt (oder, wenn es auf 0 gesetzt wird).  \n",
    "\n",
    "<div class=\"alert alert-block alert-info\">\n",
    "    <font size=\"3\"><b>Tipp:</b></font> <b>JSON</b> ist ein Transportformat zum Senden und Empfangen von Daten/Dateien, das im Web-Bereich stark verbreitet ist. \n",
    "    \n",
    "**JSON** bedeutet: <b>J</b>ava<b>S</b>cript <b>O</b>bject <b>N</b>otation\n",
    "\n",
    "Mit der Programmiersprache Javascript selbst hat es wenig zu tun, doch dieses Transportformat hat sich an der Syntax zur Definierung von Objekten in JavaScript orientiert.  \n",
    "\n",
    "Mehr über das Python-Modul **json**, seine Umwandlungen und Funktionen, erfährst du hier: https://docs.python.org/2/library/json.html\n",
    "</div>\n",
    "\n"
   ]
  },
  {
   "cell_type": "markdown",
   "metadata": {},
   "source": [
    "<div class=\"alert alert-block alert-warning\">\n",
    "    <font size=\"3\"><b>Übung zur Bearbeitung von Dictionarys:</b></font>\n",
    "<br>\n",
    "Du hast zwei Dictionarys zu Produkten gegeben, die redundante (sich wiederholende/doppelte) Daten enthalten. Finde die Gemeinsamkeiten beider Dictionarys heraus und erstelle aus ihnen ein neues Dictionary. Entferne anschließend aus den beiden gegebenen die redundanten Daten. Alle Dictionarys sollen voneinander verschiedene Produkte enthalten. Kein Produkt darf dabei verloren gehen.  \n",
    "    \n",
    "Überprüfe die Verschiedenheit aller Dictionarys voneinander nicht nur durch Lesen, sondern auch über das Schreiben von entsprechendem Code.\n",
    "    \n",
    "Verwende zur Lösung beliebig viele Code-Zellen.  \n",
    "Du kannst auch diese Aufgabe auf verschiedenen Wegen lösen. Wie immer zählt das richtige Endergebnis.\n",
    "</div>"
   ]
  },
  {
   "cell_type": "code",
   "execution_count": null,
   "metadata": {},
   "outputs": [],
   "source": [
    "products1 = dict(Boss = 'Waschmaschine', Pony = 'MP3 Player', ABC = 'Staubsauger', Kanone = 'Drucker')\n",
    "products2 = dict(Pony = 'MP3 Player', Rosenduft = 'Bildschirmreiniger', Kanone = 'Drucker', Bettzeit = 'Laptopdesk')\n",
    "\n"
   ]
  },
  {
   "cell_type": "code",
   "execution_count": null,
   "metadata": {},
   "outputs": [],
   "source": []
  },
  {
   "cell_type": "code",
   "execution_count": null,
   "metadata": {},
   "outputs": [],
   "source": []
  },
  {
   "cell_type": "code",
   "execution_count": null,
   "metadata": {},
   "outputs": [],
   "source": []
  },
  {
   "cell_type": "code",
   "execution_count": null,
   "metadata": {},
   "outputs": [],
   "source": []
  },
  {
   "cell_type": "markdown",
   "metadata": {},
   "source": [
    "<div class=\"alert alert-block alert-success\">\n",
    "<b>Toll!</b> Jetzt kennst du dich noch besser mit Dictionarys aus, kannst eigene erstellen, sie auslesen und weißt auch um die Unterschiede zu Lists.  \n",
    "    \n",
    "Als nächstes lernst du die wichtigsten Funktionen für Dictionarys kennen, damit du richtig fit im Umgang mit ihnen wirst.\n",
    "</div>"
   ]
  },
  {
   "cell_type": "markdown",
   "metadata": {},
   "source": [
    "<div class=\"alert alert-block alert-info\">\n",
    "<h3>Das kannst du aus dieser Übung mitnehmen:</h3>\n",
    "\n",
    "* **Dictionarys vergleichen**\n",
    "    * ``==`` zum Inhaltsvergleich\n",
    "        * Vergleich der Key-Value-Paare zweier Dictionarys, z.B.: ``dct1 == dct2`` => Output ist True bei exakter Gleichheit\n",
    "            * entspricht: ``dct1.items() == dct2.items()``\n",
    "        * Vergleich der Keys zweier Dictionarys, z.B.: ``dct1.keys() == dct2.keys()``\n",
    "        * Vergleich der Values zweier Dictionarys, z.B.: ``dct1.values() == dct2.values()``\n",
    "        * Vergleich der Eintragsanzahlen zweier Dictionarys, z.B.: ``len(dict1) == len(dict2)``\n",
    "    * ``-`` für die Unterschiede eines Dictionarys zu einem anderen (= Difference)\n",
    "        * Beispiel für die Unterschiede von **dct1** zu **dct2**: ``dct1 - dct2`` => Output sind die Key-Value-Paare, die nur in dct1 vorkommen\n",
    "        * Beispiel für die Unterschiede von **dct2** zu **dct1**: ``dct2 - dct1`` => Output sind die Key-Value-Paare, die nur in dct2 vorkommen\n",
    "        * für den Vergleich der Keys ist ``.keys()``, für den Vergleich der Values ``.values()`` einzusetzen\n",
    "    * ``&`` für die Gemeinsamkeiten zweier Dictionarys (= Intersection), z.B.: ``dct1.items() & dct2.items()`` => Output sind die Key-Value-Paare, welche sowohl in dct1, als auch in dct2 enthalten sind\n",
    "        * **wichtig:** Für den Vergleich mit ``&`` muss ``.items()``, ``.keys()`` oder ``.values()`` angegeben werden, sonst kommt es zu einem <font color = darkred>TypeError</font>\n",
    "    * **Vergleichsoperatoren** für den \"Höhenvergleich\" von Buchstaben **oder** Integers **oder** Floats\n",
    "        * * **Wiederholung zu Vergleichsoperatoren**\n",
    "            * liefern einen boolschen Rückgabewert (True oder False)\n",
    "            * ``==``: prüft auf Gleichheit von Werten/Inhalten von Objekten\n",
    "            * ``!=``: prüft Ungleichheit von Werten/Inhalten von Objekten\n",
    "            * ``<``: prüft, ob der linke Wert kleiner als der rechte ist\n",
    "            * ``>``: prüft, ob der linke Wert größer als der rechte ist\n",
    "            * ``<=``: prüft, ob der linke Wert kleiner als der rechte ist oder gleich dem rechten\n",
    "            * ``>=``: prüft, ob der linke Wert größer als der rechte ist oder gleich dem rechten  \n",
    "        * Beispiel für den Vergleich von zwei Werten zweier Dictionarys: ``dct1['K1'] < dct2['S1']`` => prüft, ob der Wert von 'K1' kleiner als der Wert von 'S1' ist, wenn ja, Output: True\n",
    "    * **Set-Funktionen** zum Vergleich von Dictionarys\n",
    "        * hierfür müssen die Dictionarys zu Sets konvertiert werden, z.B.: ``st1 = set(dct1)``\n",
    "            * diese Beispielkonvertierung konvertiert die Dictionary-Keys zu Set-Werten\n",
    "            * Konvertierung der Key-Value-Paare zu Set-Einträgen in Form von Tupeln, z.B.: ``st1 = set(dct1.items())``\n",
    "            * Konvertierung der Values zu Set-Einträgen, z.B.: ``st1 = set(dct1.values())``\n",
    "        * ``.difference()``: Unterschiede des einen Sets zu dem anderen, z.B.: ``st1.difference(st2)`` => zeigt die Keys/Values/Key-Value-Paare (Tuples) an, die nur in st1 vorkommen\n",
    "            * entspricht beim Vergleich der Key-Value-Paare: ``dct1 - dct2``\n",
    "                * **Achtung: anzufügen an dct1 und dct2 sind ``.keys()``, ``.values()`` oder ``.items()``**\n",
    "        * ``.symmetric_difference()``: alle Unterschiede zweier Sets, z.B.: ``st1.symmetric_difference(st2)`` => zeigt alle Werte, die sowohl nur im ersten und nur in dem zweiten Set vorkommen\n",
    "            * entspricht beim Vergleich der Key-Value-Paare: ``(dct1 - dct2) + (dct2 - dct1)``\n",
    "                * **Achtung:** anzufügen an dct1 und dct2 sind ``.keys()``, ``.values()`` oder ``.items()``\n",
    "        * ``.intersection()``: was beide Sets gemeinsam haben, z.B.: ``st1.intersection(st2)`` => zeigt alle Werte, die sowohl im ersten, als auch im zweiten Set vorkommen\n",
    "            * wenn die Sets aus den Dictionary-Keys bestehen, entspricht das diesem Abgleich der Dictionary-Keys: ``dct1.keys() & dct2.keys``\n",
    "        * ``.union()``: welche Werte in beiden Sets - ohne Dopplungen - vorkommen, z.B.: ``st1.union(st2)`` 0> zeigt alle Werte von st1 und alle von st2, wobei Dopplungen überschrieben und damit eliminiert werden  \n",
    "<br>\n",
    "* **mit sorted() Dictionarys sortieren**\n",
    "    * Dictionarys sind grundsätzlich ungeordnet, Keys haben keine feste Position\n",
    "    * die Sortierung von Dictionarys dient eher repräsentativen Zwecken, denn auch sortierte Dictionarys bleiben bei erneuten Aufrufen nicht sortiert\n",
    "    * Wiederholung: \n",
    "        * ``sorted()`` liegt ein stabiler, **nicht** in-place Sortieralgorithmus zugrunde, der in aufsteigender Reihenfolge sortiert\n",
    "        * Syntax: <font color = green>sorted(iterierbaresObjekt, key=None, reverse=False)</font>\n",
    "    * der Rückgabewert - auch bei der Sortierung von Dictionarys - ist eine Liste\n",
    "    * Beispiel für die Sortierung der Dictionary-Keys: ``sorted(dct1)`` => Output ist eine Liste mit geordneten Werten (den Keys des Dictionarys)\n",
    "    * Beispiel für die Sortierung der Dictionary-Values: ``sorted(dct1.values())`` => Output ist eine Liste mit geordneten Werten (den Values des Dictionarys)\n",
    "    * Beispiel für die Sortierung der Dictionary-Key-Value-Paare: ``lst1 = sorted(dct1.items())`` => Output über ``print(lst1)`` ist eine Liste mit nach den Keys geordneten Tupeln (die Key-Values des Dictionarys jeweils zu einem Tuple zusammengefasst)\n",
    "        * die Rückumwandlung in ein sortiertes Dictionary ist möglich mit z.B.: ``dct1 = dict(lst1)``\n",
    "    * Beispiel für die Sortierung eines Subdictionarys: \n",
    "        * ``subdct_sortedlst = sorted(dct1['Subdctkey'])`` => subdct_sortedlst enthält das Subdictionary als sortierte Liste\n",
    "        * ``dct1['Subdctkey'] = dict(subdct_sortedlst)`` => dem Superdictionary wird die sortierte Liste, die zu einem Dictionary zurück konvertiert wurde, am Key des Subdictionarys zugewiesen (das zuvor unsortierte Subdictionary wird dabei überschrieben)\n",
    "    * gleichzeitige Sortierung von Super- und Subdictionarys mit dem Modul **json** und der Funktion **json.dumps()**\n",
    "        * **JSON** ist ein Transportformat zum Senden und Empfangen von Daten/Dateien, das im Web-Bereich stark verbreitet ist\n",
    "        * **JSON** bedeutet: <b>J</b>ava<b>S</b>cript <b>O</b>bject <b>N</b>otation\n",
    "        * Import über: ``import json``\n",
    "        * Syntax: <font color = green>json.dumps(dict, sort_keys=True, indent=int)</font>  \n",
    "        * Beispiel:\n",
    "            * ``letters = dict(O = 15, ABC = dict(A = 1,  C = 3, B = 2))``\n",
    "            * ``letters_complsorted = json.dumps(letters, sort_keys=True, indent=4)``\n",
    "                * **letters** wird über ``json.dumps()`` und ``sort_keys=True`` nach seinen Keys sortiert, inkl. der Keys des Subdictionarys (nicht möglich mit Values)\n",
    "                * optional: das Subdictionary wird über ``indent=4`` in der Ausgabe um 4 Leerzeichen eingerückt\n",
    "        * mehr über das Python-Modul **json**, seine Umwandlungen und Funktionen, erfährst du hier: https://docs.python.org/2/library/json.html\n",
    "</div>"
   ]
  }
 ],
 "metadata": {
  "kernelspec": {
   "display_name": "Python 3",
   "language": "python",
   "name": "python3"
  },
  "language_info": {
   "codemirror_mode": {
    "name": "ipython",
    "version": 3
   },
   "file_extension": ".py",
   "mimetype": "text/x-python",
   "name": "python",
   "nbconvert_exporter": "python",
   "pygments_lexer": "ipython3",
   "version": "3.7.3"
  }
 },
 "nbformat": 4,
 "nbformat_minor": 2
}
