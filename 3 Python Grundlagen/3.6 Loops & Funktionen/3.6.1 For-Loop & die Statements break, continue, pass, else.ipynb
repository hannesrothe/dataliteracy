{
 "cells": [
  {
   "cell_type": "markdown",
   "metadata": {},
   "source": [
    "#  3.6 Loops & Funktionen\n",
    "\n",
    "## 3.6.1 For-Loop & die Statements break, continue, pass, else\n",
    "\n",
    "Im Anschluss dieser Übungseinheit kannst du ...\n",
    "+ erklären, wie For-Loops aufgebaut sind\n",
    "+ erklären, wie For-Loops funktionieren\n",
    "+ selbst For-Loops schreiben\n",
    "+ die Statements break, continue, pass und else in Kombination mit For-Loops einsetzen\n",
    "+ verstehen, welche Auswirkungen diese Statements haben und wie sie in Kombination und Spezialfällen funktionieren"
   ]
  },
  {
   "cell_type": "markdown",
   "metadata": {},
   "source": [
    "## 3.6.1 a) Was ist ein For-Loop?\n",
    "\n",
    "Neben Conditions kannst du auch mit For-Loops den Control-Flow (Programmablauf) in Python steuern. Wie Conditions gibt es For-Loops auch in einigen anderen Programmiersprachen. Mit Loops können gleiche Anweisungen wiederholt ausgeführt werden.   \n",
    "\n",
    "Bisher konntest du nur einzelne Elemente einer Liste bearbeiten. Wäre es nicht schön, wenn du gleich mehrere Listeneinträge auf einmal bearbeiten könntest? So könntest du auch eine Funktion gleichzeitig auf mehrere Listeneinträge anwenden. Der Datentyp von Einträgen einer Liste könnte zum Beispiel auf einen Schlag für alle Listenelemente geändert werden. Oder du könntest mit wenigen Code-Zeilen allen Kunden jährlich Zinsen sowie Boni auf ihre Konten verbuchen.  \n",
    "\n",
    "Mit einem For-Loop ist das möglich!  \n",
    "\n",
    "For-Loops können auf alle Iterables angewendet werden.\n",
    "\n",
    "<div class=\"alert alert-block alert-info\">\n",
    "<font size=\"3\"><b>Begriffsklärung zu Iterables und Sequenzen in Python:</b></font> \n",
    "<br>\n",
    "    \n",
    "Pythons <b>Iterables</b> kennst du schon. Das sind Datentypen, deren Elemente nacheinander durchlaufen werden können. Zu ihnen gehören die Datentypen:\n",
    "\n",
    "* String\n",
    "* List\n",
    "* Tuple\n",
    "* Set\n",
    "* Dictionary\n",
    "* Xrange/Range-Objekte (über ``range()`` erzeugte Objekte)\n",
    "* File-Obkekte (an dieser Stelle noch nicht relevant)\n",
    "* Bytes und Bytearray-Objekte (bzw. Buffers, an dieser Stelle noch nicht relevant)\n",
    "* Generators (an dieser Stelle noch nicht relevant)\n",
    "<br>\n",
    "<br>\n",
    "\n",
    "<b>Sequenzen</b> sind Teil von Pythons Iterables. Elemente von Sequenzen können anhand ihrer Indize durchlaufen werden. Zu ihnen gehören:  \n",
    "\n",
    "* String\n",
    "* List\n",
    "* Tuple\n",
    "* Xrange/Range-Objekte (über ``range()`` erzeugte Objekte)\n",
    "* Bytes und Bytearray-Objekte (bzw. Buffers, an dieser Stelle noch nicht relevant)\n",
    "<br>\n",
    "<br>\n",
    "\n",
    "Pythons <b>Dictionary</b> kann nicht direkt in einem For-Loop durchlaufen werden, weil es aus Key-Value-Paaren besteht. Doch über seine built-in Function ``dct.items()`` ist das ebenso möglich.\n",
    "</div>\n",
    "<br>\n",
    "<br>\n",
    "\n",
    "\n",
    "### 1. Beispiel zu einem For-Loop über einen String"
   ]
  },
  {
   "cell_type": "code",
   "execution_count": null,
   "metadata": {},
   "outputs": [],
   "source": [
    "str = 'For-Loop'\n",
    "\n",
    "for char in str:\n",
    "    print(char)"
   ]
  },
  {
   "cell_type": "markdown",
   "metadata": {},
   "source": [
    "In diesem Beispiel wurde jeder einzelne Buchstabe des Strings nacheinander ausgegeben. Die Elemente des Strings (Characters = <b>char</b>) wurden nacheinander durchlaufen und auf jedes einzelne Element wurde die Print-Funktion angewendet.  \n",
    "\n",
    "Übersetzt würde das Beispiel von oben lauten: <font color = darkgreen><b>Für</b></font> jeden Buchstaben <font color = darkgreen><b>in</b></font> str<font color = darkgreen><b>:</b></font> Drucke Buchstaben.  \n",
    "\n",
    "<br>\n",
    "\n",
    "### Syntax eines For-Loops\n",
    "\n",
    "Der Inhalt eines zuvor definierten Iterables wird nacheinander durchlaufen. Das bedeutet, im ersten Schritt muss immer ein solches Iterable definiert werden (außer, wenn eine Sequenz über ``range()`` im For-Loop erzeugt wird).  \n",
    "\n",
    "Danach lautet die feste Syntax (in grün):  \n",
    "<br>\n",
    "<font color = darkgreen><b>for</b> </font>variable <font color = darkgreen><b>in</b></font> iterable<font color = darkgreen><b>:</b></font>  \n",
    "&emsp;&emsp;beliebige_funktion/en_angewendet_auf(variable)  \n",
    "<br>\n",
    "Was also immer gleich bleibt, sind: <font color = darkgreen><b>for ... in ...:</b></font>  \n",
    "\n",
    "Deshalb wird dieser Teil auch <b>For-In-Statement</b> genannt.  \n",
    "\n",
    "<b>in</b> ist der dir bekannte Membership-Operator (Einheit \"3.2.12 a)  Membership Operators\" des Kapitels \"3.3 Strings & String-Funktionen), der stets nach der Variable folgt.  \n",
    "\n",
    "Danach folgt der <b>Body</b> des For-Loops.  \n",
    "Wie bei If-Statements ist die Indentation des Bodys mit 4 Leerzeichen/einem Tabulator-Abstand nach dem Doppelpunkt essentiell wichtig. Nur so weiß Python, dass es die Print-Funktion innerhalb des For-Loops auszuführen hat. Eine falsche Einrückung führt zu einem <font color = darkred>IndentationError</font> und der For-Loop kann damit nicht ausgeführt werden.  \n",
    "    \n",
    "Der selbst definierte Name für die Variable kann jeder Python-konforme Variablenname sein. Er wird innerhalb des For-Loops nach <b>for</b> definiert. Diese Variable bezieht sich auf jedes einzelne und aktuell durchlaufene Element (in diesem Fall Characters) eines Iterables <b>in</b> einem zuvor definierten Iterable.  \n",
    "<br>\n",
    "Das Beispiel von oben könnte also auch mit einem anderen Variablennamen für die Einzelelemente geschrieben werden.\n",
    "    \n",
    "### 2. Beispiel zu einem For-Loop über einen String"
   ]
  },
  {
   "cell_type": "code",
   "execution_count": null,
   "metadata": {},
   "outputs": [],
   "source": [
    "str = 'For-Loop'\n",
    "\n",
    "for letter in str:\n",
    "    print(letter)"
   ]
  },
  {
   "cell_type": "markdown",
   "metadata": {},
   "source": [
    "Wie du siehst, ist das Ergebnis mit <b>letter</b> dasselbe wie das Ergebnis mit <b>char</b>. Du kannst nach <b>for</b> im For-Loop immer einen beliebigen, aber Python-konformen Variablennamen wählen.  \n",
    "\n",
    "### Flow-Chart zu For-Loops\n",
    "\n",
    "Flow-Chart zum allgemeinen For-Loop:\n",
    "\n",
    "<img src=\"3-6-1-For-Loop.jpg\">  \n",
    "<br>\n",
    "\n",
    "Ein For-Loop wird bis zum letzten Iterable-Element ausgeführt. Solange noch nicht alle Elemente durchlaufen worden sind, führt die Ausführung des For-Loop-Bodys immer wieder zurück zum For-Loop-Statement. Sind alle Elemente des Iterables behandelt worden, endet der For-Loop.  \n",
    "<br>\n",
    "### Beispiel zu einem For-Loop mit range()"
   ]
  },
  {
   "cell_type": "code",
   "execution_count": null,
   "metadata": {},
   "outputs": [],
   "source": [
    "for i in range(3):\n",
    "    print(i)"
   ]
  },
  {
   "cell_type": "markdown",
   "metadata": {},
   "source": [
    "Hier wurde eine Sequenz der Länge 3 (von 0-2) mit <b>range(3)</b> erzeugt und ihre Einzelelemente wurden anschließend ausgegeben. Wie du sehen kannst, hat sich bis auf das Iterable in diesem For-Loop nicht viel geändert. Das Grundprinzip des For-Loops bleibt immer gleich.  \n",
    "\n",
    "<b>i</b> steht für Index. Das ist ein häufig verwendeter Buchstabe für die Variable im For-In-Statement.  \n",
    "\n",
    "Statt ``range()`` könnte hier auch ein iterierbares Objekt stehen, dessen Indize anhand der Länge des Objekts durchlaufen werden. Für ``range()`` stehen zusätzliche, optionale Parameter zur Verfügung.\n",
    "\n",
    "Syntax von ``range()``: <font color = green>range(start, stop, step)</font>  \n",
    "\n",
    "Diese Parameter hast du schon kennengelernt. <b>start</b> bezeichnet den inkludierten Anfang des Zahlenbereichs. <b>stop</b> steht für das exklusive Ende des Zahlenbereichs. <b>step</b> sind die Schritte, in denen dieser Zahlenbereich durchlaufen wird. Alle drei Parameter funktionieren nur mit Integers, die positiv oder negativ sein können. Für <b>step</b> darf keine 0 angegeben werden, da dies einen <font color = darkred>ValueError</font> auslöst.   \n",
    "**<b>stop</b> ist nicht optional und muss immer angegeben werden. Ohne Angabe von start beginnt die Iteration bei 0.**\n",
    "\n",
    "Nach der Angabe des Zahlenbereichs folgt stets ein <b>Doppelpunkt</b>.\n",
    "\n",
    "\n",
    "### Beispiel zu einem For-Loop mit range(start, stop, step)\n",
    "\n",
    "Was wird wohl in der Ausgabe stehen?"
   ]
  },
  {
   "cell_type": "code",
   "execution_count": null,
   "metadata": {},
   "outputs": [],
   "source": [
    "for i in range(1, 10, 2):\n",
    "    print(i)"
   ]
  },
  {
   "cell_type": "markdown",
   "metadata": {},
   "source": [
    "\n",
    "### Beispiel zu einem For-Loop mit String und Anwendung von 2 Funktionen"
   ]
  },
  {
   "cell_type": "code",
   "execution_count": null,
   "metadata": {},
   "outputs": [],
   "source": [
    "str = 'Beispiel'\n",
    "\n",
    "for char in str:\n",
    "    char = char.upper()\n",
    "    print(char)"
   ]
  },
  {
   "cell_type": "markdown",
   "metadata": {},
   "source": [
    "In diesem Beispiel wurde zuerst jeder Buchstabe mit seinem Großbuchstaben ersetzt. Anschließend wurden die umgewandelten Buchstaben ausgegeben.  \n",
    "Wichtig ist hierbei, dass die Buchstaben unbedingt mit <b>=</b> überschrieben werden müssen, denn sonst werden über ``print(char)`` die Originalbuchstaben ausgegeben:"
   ]
  },
  {
   "cell_type": "code",
   "execution_count": null,
   "metadata": {},
   "outputs": [],
   "source": [
    "str = 'Beispiel'\n",
    "\n",
    "for char in str:\n",
    "    char.upper()\n",
    "    print(char)"
   ]
  },
  {
   "cell_type": "markdown",
   "metadata": {},
   "source": [
    "Die String-Funktion ``.upper()`` erstellt eine Kopie des Original-Strings. Sie überschreibt ihn <b>nicht</b>.  Weil sich ``print(char)`` auf die im For-Loop (nach <b>for</b>) definierte Variable <b>char</b> bezieht, müssen alle Änderungen an <b>char</b> deshalb die ursprünglichen \"chars\" überschreiben. Sonst werden diese Änderungen nicht gespeichert und bleiben nur in der Kopie bestehen. ``print(char)`` soll schließlich die veränderten \"chars\" ausgeben.  \n",
    "\n",
    "An diesem Beispiel siehst du, dass der Original-String nicht verändert wird, wenn er nicht überschrieben wird:"
   ]
  },
  {
   "cell_type": "code",
   "execution_count": null,
   "metadata": {},
   "outputs": [],
   "source": [
    "str = 'Beispiel'\n",
    "\n",
    "str.upper()\n",
    "\n",
    "print(str)"
   ]
  },
  {
   "cell_type": "markdown",
   "metadata": {},
   "source": [
    "Die notwendige Überschreibung der nach <b>for</b> definierten Variable bezieht sich nicht nur auf ``.upper()``, sondern ist grundsätzlich im For-Loop-Body notwendig. Sonst werden die Änderungen an dieser Variable nicht sichtbar.  \n",
    "\n",
    "**Merke: Die nach for definierte Variable muss im For-Loop-Body überschrieben werden, wenn die an ihr durchgeführten Änderungen wirksam werden sollen.**  "
   ]
  },
  {
   "cell_type": "markdown",
   "metadata": {},
   "source": [
    "<div class=\"alert alert-block alert-warning\">\n",
    "    <font size=\"3\"><b>1. Übung zu For-Loops:</b></font>  \n",
    "<br>\n",
    "    \n",
    "Schreibe einen For-Loop, in welcher die Zahlen einer Sequenz von 0-3 zuerst mit 2 addiert werden. Danach sollen die mit 2 addierten Zahlen in der Ausgabe erscheinen.  \n",
    "\n",
    "<b> Erwünschter Output:</b>\n",
    "<br>\n",
    "2  \n",
    "3  \n",
    "4  \n",
    "5\n",
    "</div>"
   ]
  },
  {
   "cell_type": "code",
   "execution_count": null,
   "metadata": {},
   "outputs": [],
   "source": []
  },
  {
   "cell_type": "markdown",
   "metadata": {},
   "source": [
    "<div class=\"alert alert-block alert-info\">\n",
    "<font size=\"3\"><b>Tipp:</b></font> Die im For-In-Statement definierte Variable ist eine Kopie der Original-Einzelelemente. Deshalb werden die Original-Einzelelemente einer Liste nicht verändert, wenn sie in einem For-Loop bearbeitet werden. In dem For-Loop wird nur die Kopie dieser Elemente bearbeitet.  \n",
    "    \n",
    "Wie du eine Original-Liste mittels eines For-Loops verändern kannst, erfährst du in der folgenden Einheit ;-)\n",
    "</div>\n",
    "<br>\n",
    "\n",
    "\n",
    "<div class=\"alert alert-block alert-warning\">\n",
    "    <font size=\"3\"><b>2. Übung zu For-Loops:</b></font>  \n",
    "<br>\n",
    "    \n",
    "Mit deinem bisherigen Wissen kannst du schon das in der Einführung angesprochene Beispiel selbst lösen, in welchem Zahlen in einer Liste zu Floats konvertiert werden sollen - zumindest im Output (die Originalliste wird in dieser Übung nicht verändert).   \n",
    "\n",
    "Du hast die folgende Liste <b>nums</b> gegeben. Sie besteht aus Integers und Floats. In einem For-Loop soll jedes Element der Liste durchlaufen werden.  \n",
    "Ist der Datentyp des aktuellen Elements Integer, soll er zu Float konvertiert werden.  \n",
    "Lass dir in dem gleichen For-Loop anschließend alle Zahlen der Liste ausgeben.  \n",
    "\n",
    "Tipp: Dafür ist eine Condition in den For-Loop einzubauen.\n",
    "</div>"
   ]
  },
  {
   "cell_type": "code",
   "execution_count": null,
   "metadata": {},
   "outputs": [],
   "source": [
    "nums = [1, 2.0, 3, 4.0, 5]\n",
    "\n"
   ]
  },
  {
   "cell_type": "markdown",
   "metadata": {},
   "source": [
    "## 3.6.1 b) For-Loop mit \"break\"-Statement\n",
    "\n",
    "Der For-Loop endet, sobald alle Elemente des Iterables durchlaufen worden sind.  \n",
    "\n",
    "Mit dem ``break``-Statement kann der For-Loop aber schon vorher beendet werden.  \n",
    "\n",
    "### Beispiel zu einem For-Loop mit range() und break"
   ]
  },
  {
   "cell_type": "code",
   "execution_count": null,
   "metadata": {},
   "outputs": [],
   "source": [
    "for x in range(20):\n",
    "    if x == 13:\n",
    "        break\n",
    "    print(x)"
   ]
  },
  {
   "cell_type": "markdown",
   "metadata": {},
   "source": [
    "Eine Sequenz von 0-19 soll ausgegeben werden. Ist das Durchlaufen der Elemente bei 13 angekommen, wird ``print(x)`` aber nicht mehr ausgeführt. <b>break</b> unterbricht den For-Loop, der sonst alle Elemente behandelt hätte.  \n",
    "<br>\n",
    "Wie wird der Output aussehen, wenn das Beispiel folgendermaßen geordnet wird?"
   ]
  },
  {
   "cell_type": "code",
   "execution_count": null,
   "metadata": {},
   "outputs": [],
   "source": [
    "for x in range(20):\n",
    "    print(x)\n",
    "    if x == 13:\n",
    "        break\n"
   ]
  },
  {
   "cell_type": "markdown",
   "metadata": {},
   "source": [
    "### Kannst du dir dieses Ergebnis erklären?  \n",
    "<br>\n",
    "Jede Code-Zeile im For-Loop-Body wird nacheinander ausgeführt. \n",
    "\n",
    "**In der 1. Iteration:**\n",
    "\n",
    "1. print(0)  \n",
    "2. Ist 0 gleich 13? => False  \n",
    "\n",
    "\n",
    "Weil das If-Statement zu einem False führt, wird der For-Loop vom For-In-Statement aus weiter durchlaufen.  \n",
    "\n",
    "**In der 2. Iteration:**\n",
    "\n",
    "1. print(1)\n",
    "2. Ist 1 gleich 13? => False  \n",
    "\n",
    "Solange das If-Statement False bleibt, wird ``print()`` ausgeführt.  \n",
    "\n",
    "**In der 14. Iteration:**\n",
    "\n",
    "1. print(13)\n",
    "2. Ist 13 gleich 13? => True\n",
    "3. break\n",
    "\n",
    "Die 13 wird also zuerst noch ausgegeben, bevor sie im If-Statement zu einem True und damit zur Unterbrechung des For-Loops führt.  \n",
    "\n",
    "Wenn du dir noch einmal das erste Beispiel zu ``break`` betrachtest, siehst du, dass im Body zuerst geprüft wird, ob die Zahl eine 13 ist. Ist sie es, wird der For-Loop unterbrochen und die Print-Funktion nicht mehr ausgeführt:"
   ]
  },
  {
   "cell_type": "code",
   "execution_count": null,
   "metadata": {},
   "outputs": [],
   "source": [
    "for x in range(20):\n",
    "    if x == 13:\n",
    "        break\n",
    "    print(x)"
   ]
  },
  {
   "cell_type": "markdown",
   "metadata": {},
   "source": [
    "Die 13 kann also gar nicht mehr ausgegeben werden.  \n",
    "Beachte auch, dass ``print()`` auf dem gleichen Indentation-Level wie das If-Statement liegt (gleich eingerückt ist). Beide werden deshalb gleichrangig nacheinander ausgeführt.  \n",
    "\n",
    "<br>\n",
    "<div class=\"alert alert-block alert-warning\">\n",
    "    <font size=\"3\"><b>3. Übung zu For-Loops:</b></font>  \n",
    "<br>\n",
    "    \n",
    "Du erhältst einen User-Input, der bereits in eine Liste gepackt wurde. Diese Liste enthält Artikel, die man in einem Supermarkt kaufen könnte.\n",
    "Der Input soll mit einem For-Loop solange ausgegeben werden, bis das Wort <b>Ende</b> im User-Input erscheint. <b>Ende</b> soll nicht ausgegeben werden.  \n",
    "\n",
    "**Erwünschter Output:**  \n",
    "Kartoffeln  \n",
    "Schokolade  \n",
    "Deo\n",
    "</div>"
   ]
  },
  {
   "cell_type": "code",
   "execution_count": null,
   "metadata": {},
   "outputs": [],
   "source": [
    "user_input = ['Kartoffeln', 'Schokolade', 'Deo', 'Ende']\n",
    "\n"
   ]
  },
  {
   "cell_type": "markdown",
   "metadata": {},
   "source": [
    "## 3.6.1 c) For-Loop mit \"continue\"-Statement\n",
    "\n",
    "Mit ``continue`` wird ein For-Loop unterbrochen und anschließend weiter durchlaufen. Somit können Elemente eines For-Loops übersprungen werden.  \n",
    "\n",
    "\n",
    "### Beispiel zu einem For-Loop mit range() und continue"
   ]
  },
  {
   "cell_type": "code",
   "execution_count": null,
   "metadata": {},
   "outputs": [],
   "source": [
    "for y in range(5):\n",
    "    if y == 2:\n",
    "        continue\n",
    "    print(y)"
   ]
  },
  {
   "cell_type": "markdown",
   "metadata": {},
   "source": [
    "Zuerst werden die Elemente des Range-Objektes daraufhin geprüft, ob sie gleich 2 sind. Ist ein Element gleich 2, wird der For-Loop an dieser Stelle unterbrochen (2 wird nicht über ``print()`` ausgegeben).  \n",
    "\n",
    "Im Gegensatz zu ``break`` läuft der For-Loop nach der Unterbrechung aber weiter. Deshalb werden alle Elemente nach 2 ausgegeben. Die vor ``continue`` spezifizierten Elemente werden übersprungen.  \n",
    "\n",
    "<br>\n",
    "\n",
    "Du kannst ``break`` <b>und</b> ``continue`` in einem For-Loop-Body verwenden.  \n",
    "\n",
    "### 1. Beispiel zu einem For-Loop mit continue und break"
   ]
  },
  {
   "cell_type": "code",
   "execution_count": null,
   "metadata": {},
   "outputs": [],
   "source": [
    "for i in range(0,11):\n",
    "    if i == 5:\n",
    "        continue\n",
    "    if i == 8:\n",
    "        break\n",
    "    print(i)"
   ]
  },
  {
   "cell_type": "markdown",
   "metadata": {},
   "source": [
    "Ziel dieses For-Loops ist es, die Sequenz bis zur 7 auszugeben, denn bei 8 soll eine Unterbrechung erfolgen.  \n",
    "Die 5 soll mit ``continue`` übersprungen werden.  \n",
    "Das hat auch geklappt!  \n",
    "\n",
    "### 2. Beispiel zu einem For-Loop mit continue und break"
   ]
  },
  {
   "cell_type": "code",
   "execution_count": null,
   "metadata": {},
   "outputs": [],
   "source": [
    "for i in range(0,12):\n",
    "    if i/2 == 5:\n",
    "        continue\n",
    "    if i == 10:\n",
    "        break\n",
    "    print(i)"
   ]
  },
  {
   "cell_type": "markdown",
   "metadata": {},
   "source": [
    "Obwohl der For-Loop hätte bei 9 anhalten sollen, wurde er bis zur 11 ausgeführt.  \n",
    "\n",
    "#### Warum?\n",
    "\n",
    "Das Continue-Statement besagt, dass sobald <b>i</b> durch 2 geteilt 5 ergibt, dieses <b>i</b> übersprungen werden soll.  \n",
    "\n",
    "Welches <b>i</b> von 0-11 ergibt 5, wenn es durch 2 geteilt wird?  \n",
    "\n",
    "Es muss sich um die 10 handeln, welche im Output auch ausgelassen wurde.  \n",
    "\n",
    "Nachdem die 10 übersprungen wurde, wird sie nicht mehr für das zweite If-Statement herangezogen.  \n",
    "\n",
    "**Mit ``continue`` übersprungene Elemente werden für den kompletten nachfolgenden For-Loop-Body ignoriert.**  \n",
    "\n",
    "Das bedeutet, dass die 10 niemals im zweiten If-Statement ankommt, weshalb dieses immer zu False führt und deshalb nicht ausgeführt wird. Deshalb läuft der For-Loop bis zum Ende der Sequenz durch.  \n",
    "\n",
    "**Achte also darauf, dass sich die mit ``continue`` übersprungenen Elemente nicht mit denen überschneiden, die zu einem Abbruch führen sollen.**  \n",
    "\n",
    "Doch das ist noch nicht alles.  \n",
    "\n",
    "**Wichtig ist auch, dass du die Reihenfolge beachtest, in welcher ``break`` und ``continue`` eingesetzt werden. Wird zuerst die Abbruchbedingung mit ``break`` definiert und danach das zu überspringende Element mit ``continue``, bricht Python zuerst den For-Loop ab, ohne ``continue`` weiter zu betrachten - selbst bei einem sich überschneidenden Element in beiden.**\n",
    "\n",
    "In dem folgenden Beispiel wurde die Reihenfolge der If-Statements aus dem 2. Beispiel vertauscht.\n",
    "\n",
    "\n",
    "### 3. Beispiel zu einem For-Loop mit break und continue"
   ]
  },
  {
   "cell_type": "code",
   "execution_count": null,
   "metadata": {},
   "outputs": [],
   "source": [
    "for i in range(0,11):\n",
    "    if i == 10:\n",
    "        break\n",
    "    if i/2 == 5:\n",
    "        continue\n",
    "    print(i)"
   ]
  },
  {
   "cell_type": "markdown",
   "metadata": {},
   "source": [
    "Wie du siehst, wurde diesmal zuerst der For-Loop bei 10 abgebrochen. Alles Weitere wurde nicht mehr ausgeführt.  \n",
    "<br>\n",
    "\n",
    "<div class=\"alert alert-block alert-info\">\n",
    "    <font size=\"3\"><b>Tipp:</b></font>Du kannst dir das leicht merken, indem du auf die Reihenfolge gleichrangiger (gleich eingerückter) Code-Zeilen im For-Loop-Body achtest:  \n",
    "    \n",
    "**Was zuerst definiert ist, wird auch zuerst ausgeführt.**\n",
    "</div>\n",
    "<br>\n",
    "<br>\n",
    "\n",
    "<div class=\"alert alert-block alert-warning\">\n",
    "    <font size=\"3\"><b>4. Übung zu For-Loops:</b></font>  \n",
    "<br>\n",
    "    \n",
    "Du erhältst einen User-Input wie in der vorherigen Aufgabe.  \n",
    "Es sollen wieder alle Artikel nacheinander in der Ausgabe erscheinen.  \n",
    "Der Artikel <b>Schokolade</b> ist diesmal nicht vorrätig. Ist er an der Reihe, soll im Output 'Schokolade leider nicht vorrätig' stehen und <b>Schokolade</b> selbst soll nicht ausgegeben werden.  \n",
    "<b>Ende</b> ist wieder nicht auszugegeben.  \n",
    "\n",
    "**Erwünschter Output:**  \n",
    "Kartoffeln  \n",
    "Schokolade leider nicht vorrätig  \n",
    "Deo  \n",
    "</div>"
   ]
  },
  {
   "cell_type": "code",
   "execution_count": null,
   "metadata": {},
   "outputs": [],
   "source": [
    "user_input = ['Kartoffeln', 'Schokolade', 'Deo', 'Ende']\n",
    "\n"
   ]
  },
  {
   "cell_type": "markdown",
   "metadata": {},
   "source": [
    "## 3.6.1 d) For-Loop mit \"pass\"-Statement\n",
    "\n",
    "``pass`` kennst du bereits von den Conditions/If-Statements. Dort haben wir ``pass`` als Platzhalter verwendet, damit noch nicht definierte Code-Teile zu keiner Fehlermeldung führen.\n",
    "\n",
    "Bei For-Loops erfüllt ``pass`` dieselbe Funktion.\n",
    "\n",
    "\n",
    "### Beispiel zu einem For-Loop mit pass"
   ]
  },
  {
   "cell_type": "code",
   "execution_count": null,
   "metadata": {},
   "outputs": [],
   "source": [
    "for i in range(5,11):\n",
    "    pass"
   ]
  },
  {
   "cell_type": "markdown",
   "metadata": {},
   "source": [
    "Das For-Loop-Statement sagt aus, dass etwas mit der Sequenz von 5-10 passieren soll. Weil aber noch nicht feststeht, was genau damit geschehen soll, wurde ``pass`` in den For-Loop-Body gesetzt. So kann der Body nachträglich jederzeit ergänzt werden. Ohne ``pass`` würde es bei dem unfertigen For-Loop zu einer Fehlermeldung kommen:"
   ]
  },
  {
   "cell_type": "code",
   "execution_count": null,
   "metadata": {},
   "outputs": [],
   "source": [
    "for i in range(5,11):"
   ]
  },
  {
   "cell_type": "markdown",
   "metadata": {},
   "source": [
    "## 3.6.1 e) For-Loop mit \"else\"-Statement\n",
    "\n",
    "Auch ``else`` ist dir von den If-Statements bekannt. ``else`` wird immer dann ausgeführt, wenn alle anderen bzw. vorherigen Statements zu einem False führen.\n",
    "\n",
    "Bei einem For-Loop wird der nach ``else`` definierte Block dann ausgeführt, wenn das For-In-Statement zu einem False führt - sprich: Wenn der For-Loop vollständig durchlaufen wurde.  \n",
    "\n",
    "Weil ``else`` gleichrangig zum For-Loop-Statement ist, wird es <b>nicht</b> eingerückt.  \n",
    "\n",
    "\n",
    "### Beispiel zu einem For-Loop mit else"
   ]
  },
  {
   "cell_type": "code",
   "execution_count": null,
   "metadata": {},
   "outputs": [],
   "source": [
    "for i in range(5,11,2):\n",
    "    print('Nummer: ' + str(i))\n",
    "else:\n",
    "    print('Der For-Loop wurde vollständig durchlaufen.')"
   ]
  },
  {
   "cell_type": "markdown",
   "metadata": {},
   "source": [
    "Hier wurden die Zahlen von 5-10 in 2er-Schritten ausgegeben. Um die Zahl in der Print-Funktion mit dem String <b>'Aktuelle Zahl: '</b> über <b>+</b> verbinden und anzeigen lassen zu können, muss sie mit ``str()`` zu einem String konvertiert werden.  \n",
    "Wurde die Sequenz vollständig durchiteriert, wird das Else-Statement ausgeführt.  \n",
    "<br>\n",
    "\n",
    "**Wird der For-Loop vor seinem regulären Iterationsende mit einem ``break`` abgebrochen, wird ``else`` nicht ausgeführt!**\n",
    "\n",
    "\n",
    "### Beispiel zu einem nicht ausgeführten else wegen truthy Statement zu break"
   ]
  },
  {
   "cell_type": "code",
   "execution_count": null,
   "metadata": {},
   "outputs": [],
   "source": [
    "for i in range(5,11,2):\n",
    "    print('Nummer: ' + str(i))\n",
    "    if i == 7:\n",
    "        break\n",
    "else:\n",
    "    print('Der For-Loop wurde vollständig durchlaufen.')"
   ]
  },
  {
   "cell_type": "markdown",
   "metadata": {},
   "source": [
    "``break`` bricht einen For-Loop komplett ab, wenn das zu ihm führende Statement zu einem True führt.  \n",
    "\n",
    "Ist das vorhergehende Statement zu ``break`` False, wird ``else`` erreicht und ausgeführt.  \n",
    "\n",
    "### Beispiel zu einem ausgeführten else wegen falsy Statement zu break"
   ]
  },
  {
   "cell_type": "code",
   "execution_count": null,
   "metadata": {},
   "outputs": [],
   "source": [
    "for i in range(5,11,2):\n",
    "    print('Nummer: ' + str(i))\n",
    "    if i == 3:\n",
    "        break\n",
    "else:\n",
    "    print('Der For-Loop wurde vollständig durchlaufen.')"
   ]
  },
  {
   "cell_type": "markdown",
   "metadata": {},
   "source": [
    "Weil die 3 niemals an der Reihe sein wird, wird das If-Statement zu ``break`` niemals zu einem True führen. ``else`` wird deshalb ausgeführt.  \n",
    "<br>\n",
    "\n",
    "<div class=\"alert alert-block alert-info\">\n",
    "    <font size=\"3\"><b>Tipp zu break, continue, pass, else:</b></font>  \n",
    "<br>\n",
    "    \n",
    "Diese Statements werden zusammengefasst Kontroll-Statements bzw. im Englischen \"Control Statements\" genannt.  \n",
    "</div>\n",
    "<br>\n",
    "<br>\n",
    "\n",
    "\n",
    "<div class=\"alert alert-block alert-warning\">\n",
    "    <font size=\"3\"><b>Abschließende Übung zu dieser Einheit:</b></font>  \n",
    "<br>\n",
    "    \n",
    "Einen Tipp zu dieser Aufgabe findest du weiter unten.  \n",
    "<br>\n",
    "    \n",
    "**a)** Lass dir mittels eines For-Loops alle geraden Zahlen von 0-100 ausgeben.  \n",
    "\n",
    "**Gewünschter Output:**  \n",
    "\n",
    "Aktuelle Zahl: 0  \n",
    "Aktuelle Zahl: 2  \n",
    "usw.  \n",
    "\n",
    "\n",
    "**b)** Modifiziere den For-Loop aus Aufgabe a) so, dass er nur noch die geraden Zahlen von 0-50 ausgibt. Das For-In-Statement und der bestehende Body sollen dabei nicht verändert werden. Die Änderung soll ausschließlich dem For-Loop-Body hinzugefügt werden.  \n",
    "</div>"
   ]
  },
  {
   "cell_type": "code",
   "execution_count": null,
   "metadata": {},
   "outputs": [],
   "source": []
  },
  {
   "cell_type": "markdown",
   "metadata": {},
   "source": [
    "<div class=\"alert alert-block alert-warning\">\n",
    "    <font size=\"3\"><b>Tipp zur Aufgabe:</b></font>  \n",
    "<br>\n",
    "    \n",
    "Eine Zahl ist gerade, wenn ihr Rest durch 2 geteilt 0 ergibt. Alle Zahlen, deren Rest durch 2 geteilt nicht 0 ergibt, müssen ungerade sein.\n",
    "</div>"
   ]
  },
  {
   "cell_type": "markdown",
   "metadata": {},
   "source": [
    "<div class=\"alert alert-block alert-success\">\n",
    "<b>Glückwunsch!</b> Nun weißt du endlich, wie For-Loops funktionieren! Du kannst sogar alle einsetzbaren Statements zu For-Loops je nach Bedarf verwenden!  \n",
    "    \n",
    "In der nächsten Einheit erfährst du, was es bei For-Loops über Dictionarys und Listen zu beachten gilt, damit du For-Loops noch sicherer anwenden kannst.\n",
    "</div>"
   ]
  },
  {
   "cell_type": "markdown",
   "metadata": {},
   "source": [
    "<div class=\"alert alert-block alert-info\">\n",
    "<h3>Das kannst du aus dieser Übung mitnehmen:</h3>\n",
    "\n",
    "* **For-Loop**\n",
    "    * ist neben Conditions eine weitere Möglichkeit zum Control-Flow in Python (auch anderen Programmiersprachen)\n",
    "    * durchläuft Elemente, die in einem Iterable enthalten sind\n",
    "    * stets gleich bleibende Syntax (in grün) des For-In-Statements: <font color = darkgreen><b>for</b> </font>variable <font color = darkgreen><b>in</b></font> iterable<font color = darkgreen><b>:</b></font>  \n",
    "    * deutsche Übersetzung des For-In-Statements: \"Für jedes Element in Iterable:\"\n",
    "    * Beispiel:\n",
    "        * ``for i in range(1,11,2):``\n",
    "            * ``print(i)``\n",
    "    * im Output des Beispiels erscheinen die Zahlen von 1-10 in 2er-Schritten untereinander (1,3,5,7,9)\n",
    "    * das Element bzw. die Variable für die Einzelelemente wird im Statement mit einem eigens gewählten Namen definiert\n",
    "    * dieses Statement muss mit einem Doppelpunkt beendet werden\n",
    "    * der nachfolgende For-Loop-Body wird um 4 Leerzeichen/1 Tabulatorabstand eingerückt\n",
    "    * der Body enthält Funktionen, die auf die Einzelelemente angewendet werden\n",
    "    * gleichrangige (gleich eingerückte) Statements und Funktionen im Body werden in ihrer Reihenfolge, von oben nach unten, nacheinander wiederholt geprüft sowie ausgeführt\n",
    "    * Änderungen an der Variable müssen die ursprünglich im For-In-Statement definierte Variable mit <b>=</b> überschreiben, um wirksam zu werden\n",
    "    * der For-Loop wird solange ausgeführt, bis alle Elemente des Iterables durchlaufen worden sind  \n",
    "<br>\n",
    "* **Iterables und Sequenzen**\n",
    "    * Iterables:\n",
    "        * sind Datentypen, die aus Einzelelementen bestehen, die nacheinander durchlaufen werden können\n",
    "        * String, List, Tuple, Set, Dictionary, Range-Objekte, File-Objekte, Bytes- und Bytearray-Objekte, Generators\n",
    "    * Sequenzen:\n",
    "        * sind auch Iterables, doch Sequenzen können anhand ihrer Indize durchlaufen werden\n",
    "        * String, List, Tuple, Range-Objekte, Bytes- und Bytearray-Objekte    \n",
    "<br>\n",
    "* **Break-Statement**\n",
    "    * ``break`` wird verwendet, um einen For-Loop abzubrechen, bevor alle Elemente des Iterables durchlaufen worden sind\n",
    "    * Beispiel:\n",
    "    * ``for i in range(1,11):``\n",
    "        * ``if i == 6:``\n",
    "            * ``break``\n",
    "        * ``print(i)``\n",
    "    * im Output erscheinen die Zahlen 1-5 nacheinander, denn bei 6 wurde der For-Loop unterbrochen und ``print()`` nicht mehr ausgeführt  \n",
    "<br>\n",
    "* **Continue-Statement**\n",
    "    * ``continue`` wird verwendet, um Elemente eines Iterables zu überspringen und den For-Loop nach ihnen bis zu seinem Ende durchlaufen zu lassen\n",
    "    * Beispiel:\n",
    "    * ``for i in range(1,11):``\n",
    "        * ``if i == 6:``\n",
    "            * ``continue``\n",
    "        * ``print(i)``\n",
    "    * im Output erscheinen die Zahlen 1-10 nacheinander, doch außer der 6  \n",
    "<br>\n",
    "* **Pass-Statement**\n",
    "    * ``pass`` wird als Platzhalter verwendet, um bei einem noch nicht definierten For-Loop-Body keine Fehlermeldung zu erhalten\n",
    "    * Beispiel:\n",
    "        * ``for i in range(1,11):``\n",
    "            * ``pass``\n",
    "    * ohne ``pass`` käme es zu einem <font color = darkred>SyntaxError</font>  \n",
    "<br>\n",
    "* **Else-Statement**\n",
    "    * ``else`` wird gleichrangig zum For-In-Statement eingesetzt\n",
    "    * das Else-Statement wird nur dann ausgelöst, wenn das komplette, im For-In-Statement bestimmte Iterable durchlaufen worden ist\n",
    "    * wird ein Break-Statement vor dem Else-Statement ausgelöst, wird das Else-Statement <b>nicht</b> mehr ausgelöst\n",
    "    * Beispiel 1:\n",
    "        * ``for i in range(1,11):``\n",
    "            * ``if i == 5:``\n",
    "                * ``break``\n",
    "            * ``print(i)``\n",
    "        * ``else:``\n",
    "            * ``print('Das Iterable wurde bis zu seinem Ende durchlaufen')``\n",
    "    * im Output erscheinen die Zahlen von 1-4 nacheinander und <b>``else`` wird nicht ausgeführt</b>, da der For-Loop zuvor mit ``break`` unterbrochen wurde\n",
    "    * Beispiel 2:\n",
    "        * ``for i in range(1,11):``\n",
    "            * ``if i == 20:``\n",
    "                * ``break``\n",
    "            * ``print(i)``\n",
    "        * ``else:``\n",
    "            * ``print('Das Iterable wurde bis zu seinem Ende durchlaufen')``\n",
    "    * im Output erscheinen die Zahlen von 1-10 nacheinander und <b>``else`` wird ausgeführt</b> (der in ``print()`` enthaltene String wird ausgegeben), da der For-Loop zuvor <b>nicht</b> mit ``break`` unterbrochen wurde  \n",
    "<br>\n",
    "* **Mehr zum Control-Flow (Steuerung des Programmablaufs) in Python**\n",
    "    * https://docs.python.org/3.3/tutorial/controlflow.html\n",
    "</div>"
   ]
  }
 ],
 "metadata": {
  "kernelspec": {
   "display_name": "Python 3",
   "language": "python",
   "name": "python3"
  },
  "language_info": {
   "codemirror_mode": {
    "name": "ipython",
    "version": 3
   },
   "file_extension": ".py",
   "mimetype": "text/x-python",
   "name": "python",
   "nbconvert_exporter": "python",
   "pygments_lexer": "ipython3",
   "version": "3.7.3"
  }
 },
 "nbformat": 4,
 "nbformat_minor": 2
}
