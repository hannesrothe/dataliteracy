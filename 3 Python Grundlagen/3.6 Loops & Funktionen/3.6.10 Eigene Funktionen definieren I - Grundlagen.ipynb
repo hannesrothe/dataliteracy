{
 "cells": [
  {
   "cell_type": "markdown",
   "metadata": {},
   "source": [
    "#  3.6 Loops & Funktionen\n",
    "\n",
    "## 3.6.10 Eigene Funktionen definieren I - Grundlagen\n",
    "\n",
    "Im Anschluss dieser Übungseinheit kannst du ...\n",
    "+ erste, eigene Funktionen schreiben\n",
    "+ verstehen, worauf es bei der Definition eigener Funktionen ankommt\n",
    "+ Funktionen mit verschiedenen Argumenttypen definieren\n",
    "+ verschiedene Argumenttypen an Funktionen übergeben\n",
    "+ mit dem Return-Statement das volle Potenzial eigens definierter Funktionen nutzen"
   ]
  },
  {
   "cell_type": "markdown",
   "metadata": {},
   "source": [
    "## 3.6.10 Eigene Funktionen definieren I - Grundlagen\n",
    "\n",
    " Bisher hast du schon so einige built-in Funktionen von Python genutzt sowie insbesondere auch Funktionen, die zu bestimmten Datentypen gehören - wie z.B. spezielle String-, Listen- und Dictionary-Funktionen. Diese Funktionen wurden von anderen ProgrammiererInnen definiert und sind für dich nutzbar, indem du Funktionsnamen und -klammern einsetzt.\n",
    " \n",
    "**Wäre es nicht toll, wenn du für deine eigenen Zwecke individuelle Funktionen selbst schreiben könntest?**  \n",
    "\n",
    "Das zu können, ist praktisch, um Code-Blöcke bzw. Operationen für verschiedene Parameter nicht immer wieder neu zu schreiben, sondern diese in eine Funktion zu packen. Diese individuelle Funktion ist dann auch unter ihrem Namen und mit Funktionsklammern für die Parameter immer wieder verwendbar.  \n",
    "\n",
    "Wie du das bewerkstelligst, lernst du in dieser Einheit. In Teil I geht es um die wichtigsten Grundlagen, während es in den darauffolgenden Einheiten mehr in die Tiefe geht.    \n",
    "\n",
    "Beginnen wir gleich mit einem Beispiel.\n",
    "<br>\n",
    "\n",
    "\n",
    "### 1. Beispiel zu einer selbst definierten Funktion"
   ]
  },
  {
   "cell_type": "code",
   "execution_count": null,
   "metadata": {},
   "outputs": [],
   "source": [
    "def times2(x):\n",
    "    return x**2"
   ]
  },
  {
   "cell_type": "markdown",
   "metadata": {},
   "source": [
    "#### Aufbau dieser selbst definierten Funktion\n",
    "\n",
    "``def ...`` => Das Keyword/Statement **``def`` ist der Beginn einer jeden selbst definierten Funktion** bzw. genauer gesagt: ihres **Headers**. Ohne dieses Keyword weiß Python nicht, dass hier eine eigene Funktion definiert wird.  \n",
    "\n",
    "``... times2...`` => Dies ist der **individuelle Name** der Funktion. Er sollte - wie immer - Python-konform sein, also z.B. nicht mit einer Zahl beginnen und kein bereits von Python reservierter Name sein.  \n",
    "\n",
    "\n",
    "``...(x) ...`` => In den **Funktionsklammern** können **Parameter** (hier <b>x</b>) untergebracht werden. Doch es müssen keine Parameter festgelegt werden. Sie sind **optional**, je nach Anwendungsfall der Funktion. Ohne Parameter blieben die Funktionsklammern leer.   \n",
    "\n",
    "``...:`` => Der **Doppelpunkt schließt den Header der Funktion ab**. Danach beginnt der Body.  \n",
    "\n",
    "``return x**2`` => Auch bei individuellen Funktionen wird der **Body um 4 Leerzeichen/1 Tab-Abstand eingerückt**. In diesen Body können noch viele **Funktionen und Statements  geschrieben werden, so auch Loops**. In diesem Fall wurde das <b>Return-Statement</b> verwendet. Es wird typischerweise zum Einsatz gebracht, um einer Funktion einen **Rückgabewert** zu geben. Die Berechnung ``x**2`` hat schließlich ein Ergebnis - das ist der Rückgabewert.  \n",
    "\n",
    "**Zusammenfassend wird also der Parameter, der dieser Funktion übergeben wird, mit 2 potenziert und anschließend wird das Ergebnis zurückgegeben.**  \n",
    "\n",
    "Nun sehen wir uns an, wie diese Funktion angewendet wird.  \n",
    "<br>\n",
    "\n",
    "#### Anwendung der Funktion aus Beispiel 1"
   ]
  },
  {
   "cell_type": "code",
   "execution_count": null,
   "metadata": {},
   "outputs": [],
   "source": [
    "times2(5)"
   ]
  },
  {
   "cell_type": "markdown",
   "metadata": {},
   "source": [
    "Der zuvor festgelegte Name wird mit den Funktionsklammern geschrieben. An die Stelle von <b>x</b> kann in die Klammern nun ein beliebiger numerischer Wert gesetzt werden.  \n",
    "\n",
    "Damit müsstest du, wenn du viele Zahlen jeweils mit 2 potenzieren müsstest, die Berechnung nicht jedes Mal neu aufschreiben. Mit so einer Funktion kannst du die Berechnung unter ihrem Namen abrufen.  \n",
    "\n",
    "Bei einer einfachen Potenzierung ist die Einsparung von Arbeitsaufwand vielleicht nicht unbedingt ersichtlich, doch wenn du mehr und komplexere Operationsschritte ausführen möchtest, wird die Ersparnis deutlich bemerkbar.  \n",
    "\n",
    ">Auch innerhalb einer Funktion ist es möglich, Fehler abzufangen, sodass Funktionen bei ihrer Ausführung nicht zu Fehlermeldungen führen, wenn sie nicht die richtigen Datentypen übergeben bekommen. Das sogenannte \"Errorhandling\" ist aber ein ganz eigenständiges Thema, dem wir uns in einem späteren Kapitel widmen. Einen kleinen Einblick dazu erhältst du in Kapitel \"3.6.12 Eigene Funktionen definieren III\".\n",
    "\n",
    "<br>\n",
    "\n",
    "### Allgemeine Syntax nutzerdefinierter Funktionen  \n",
    "\n",
    "Selbst definierte Funktionen nennt man auch <b>nutzerdefinierte Funktionen</b> bzw. <b>user-defined Functions</b>.  \n",
    "\n",
    "**Sie haben eine grundsätzliche Syntax:**  \n",
    "\n",
    "<font color = darkgreen>def funktionsname(optionale_parameter):  \n",
    "&emsp;&emsp;statement/s</font>  \n",
    "\n",
    "Fast alles, was du an dieser Syntax siehst, ist zwingend anzugeben.  \n",
    "\n",
    "**Nur die Parameter sind optional**. Verwendest du **mehrere Parameter** in der Funktion, sind diese **mit einem Komma** zu **trennen**. Die Namen der Parameter sind individuell festlegbar, solange sie den pythonischen Namenskonventionen entsprechen.   \n",
    "\n",
    "\n",
    "Die Statements im Funktionsbody sind mit 4 Leerzeichen/1 Tab-Abstand einzurücken. Ohne die Angabe von Statements käme es zu einem <font color=darkred>SyntaxError</font>. Auch ìn so einem Fall kann das Statement ``pass`` eingesetzt werden, um nutzerdefinierte Funktionen, deren Body noch nicht feststeht, fehlerfrei im restlichen Programm mitlaufen zu lassen.  \n",
    "<br>\n",
    "\n",
    "**Optionale, aber \"good Practice\"-Syntax:**  \n",
    "\n",
    "<font color = darkgreen>def funktionsname(optionale_parameter):   \n",
    "&emsp;&emsp;<b>\"\"\"docstring\"\"\"</b>  \n",
    "&emsp;&emsp;statement(s)</font>\n",
    "\n",
    "Der <b>docstring</b> ist der <b>Documentation-String</b>. Er wird mit einem mehrzeiligen Kommentar (je 3 Anführungsstriche) eingesetzt, um zu erklären, was in der Funktion passiert. Mitunter wird auch ein einzeiliger Kommentar für eine sehr kurze Dokumentation verwendet. \n",
    "\n",
    "Das ist nützlich, wenn andere mit deinem Programm weiter arbeiten. So können sie nachvollziehen, was du mit deinem Code bezweckst. Doch auch dir selbst bietet so eine Einfügung eine wertvolle Erinnerungshilfe. Deinen Code gut verständlich zu halten, ist eine gute Praxis (\"good Practice\"). Denn so bleiben die von dir geschriebenen Programme für dich und deine Kollegen gut wartbar für Änderungen, Erweiterungen und Neuerungen.  \n",
    "\n",
    "#### Einsatz des Docstrings in Beispiel 1"
   ]
  },
  {
   "cell_type": "code",
   "execution_count": null,
   "metadata": {},
   "outputs": [],
   "source": [
    "def times2(x):\n",
    "    \"\"\"Returns argument x times 2.\"\"\"\n",
    "    return x**2"
   ]
  },
  {
   "cell_type": "markdown",
   "metadata": {},
   "source": [
    "#### Genereller Abruf des Docstrings\n",
    "\n",
    "Python kennt den Documentation-String unter dem Namen ``__doc__``  Um ihn abzurufen/zu lesen, lautet die generelle Syntax:  \n",
    "\n",
    "<font color = darkgreen><b>print(funktionsname.__\\__doc__\\__)</b></font>  \n",
    "\n",
    "Über die **Print-Funktion** wird die Dokumentation zur Funktion ausgegeben. In ``print()`` wird der **Funktionsname** eingetragen. Wie bei built-in Funktionen erreichst du ihre untergeordneten Funktionen über den **Punkt-Operator**.  \n",
    "\n",
    "Die untergeordnete Funktion einer jeden nutzerdefinierten Funktion - wenn sie mit einem Docstring definiert wurde - ist **``__doc__``, mit jeweils zwei Unterstrichen zu Beginn und am Ende**.   \n",
    "<br>\n",
    "\n",
    "#### Beispiel zum Abruf des Docstrings"
   ]
  },
  {
   "cell_type": "code",
   "execution_count": null,
   "metadata": {},
   "outputs": [],
   "source": [
    "print(times2.__doc__)"
   ]
  },
  {
   "cell_type": "markdown",
   "metadata": {},
   "source": [
    "Es mag dir vielleicht überflüssig erscheinen, eine im gleichen Programmteil sichtbare Funktion zu dokumentieren ...? \n",
    "Auch an Beispielen im Internet wirst du das vielleicht nicht häufig sehen.  \n",
    "Aber wenn andere Programmierer ihre Funktionen in eigene Module auslagern, die aus vielen einzelnen Skripten/Programmteilen bestehen, wirst du auch dankbar sein, ihre Dokumentation über ``.__doc__`` abrufen zu können. Wenn du nur ihren Namen vorliegen hast, müsstest du sie nämlich sonst suchen und auf eigene Faust ihre Funktionsweise herausfinden.  \n",
    "\n",
    "\n",
    ">Übrigens ist es üblich, auch die Dokumentation auf Englisch zu hinterlegen. Im Bereich des Programmierens, zum Beispiel im Speziellen in *Data Science*, arbeiten oft internationale Menschen in Teams zusammen. Dabei ist Englisch die universelle Programmiersprache.  \n",
    "Wenn dein Englisch nicht perfekt ist, ist das nicht schlimm. Es geht darum, sich gegenseitig die Arbeit so gut wie möglich zu erleichtern.  \n",
    "\n",
    "<br>\n",
    "\n",
    "#### Die built-in Funktion __name__\n",
    "\n",
    "Eine weitere Standardfunktion nutzerdefinierter Funktionen ist **__name__**.  Mit ihr kannst du den Namen der Funktion abrufen. Der Funktionsaufruf dieser Subfunktion erfolgt wie immer mit dem Punkt-Operator."
   ]
  },
  {
   "cell_type": "code",
   "execution_count": null,
   "metadata": {},
   "outputs": [],
   "source": [
    "times2.__name__"
   ]
  },
  {
   "cell_type": "markdown",
   "metadata": {},
   "source": [
    "Ja, es erscheint sinnlos, sich den Namen der Funktion über ihren Namen anzeigen zu lassen. Wie das doch sinnvoll eingesetzt werden kann, erfährst du später, wenn es um Decorators und Zurückverfolgung von Funktionsaufrufen geht.  \n",
    "\n",
    "Um dir von jeder Funktion ihren Namen und ihre Dokumentation ansehen zu können, kannst du diese in einer nutzerdefinierten Funktion aufrufen:"
   ]
  },
  {
   "cell_type": "code",
   "execution_count": null,
   "metadata": {},
   "outputs": [],
   "source": [
    "def print_function(function):\n",
    "    \"\"\"Prints the name and documentation of a given function.\"\"\"\n",
    "    print(f'function name: {function.__name__}')\n",
    "    print(f'documentation: {function.__doc__}')\n",
    "    \n",
    "\n",
    "print_function(times2)"
   ]
  },
  {
   "cell_type": "markdown",
   "metadata": {},
   "source": [
    "Diese Funktion kannst du nun mit jeder anderen Funktion \"füttern\" :-)  \n",
    "    \n",
    "Sogar mit built-in Funktionen von Python:"
   ]
  },
  {
   "cell_type": "code",
   "execution_count": null,
   "metadata": {},
   "outputs": [],
   "source": [
    "print_function(len)"
   ]
  },
  {
   "cell_type": "markdown",
   "metadata": {},
   "source": [
    "Bei Listen-, Dictionary-, String-Funktionen sowie Funktionen von anderen Iterables oder auch Modulen brauchst du nur deren Python-internen Namen und den Punkt-Operator davor zu setzen (dict, list, str etc.):"
   ]
  },
  {
   "cell_type": "code",
   "execution_count": null,
   "metadata": {},
   "outputs": [],
   "source": [
    "print_function(str.join)"
   ]
  },
  {
   "cell_type": "markdown",
   "metadata": {},
   "source": [
    "Daran kannst du sehen, dass eigene Funktionen auch mit built-in Funktionen zusammenarbeiten. Du kannst auch built-in Funktionen innerhalb deiner eigenen Funktionen verwenden.  \n",
    "<br>\n",
    "\n",
    "<div class=\"alert alert-block alert-warning\">\n",
    "    <font size=\"3\"><b>Übung zu nutzerdefinierten Funktionen:</b></font>  \n",
    "<br>\n",
    "    \n",
    "**a)** Definiere eine Funktion, welche die folgende Berechnung mit einem Argument ausführt: x + x^2 + x^3  \n",
    "Kommentiere die Berechnung im Docstring. Er sollte die Berechnung enthalten und was als Argument anzugeben ist.  \n",
    "\n",
    "**b)** Führe sie anschließend in einer neuen Code-Zelle mit den Argumenten 1, 2 und 3 zum Testen aus.  \n",
    "\n",
    "**c)** Rufe in einer weiteren Code-Zelle die Dokumentation dieser Funktion ab.\n",
    "</div>"
   ]
  },
  {
   "cell_type": "code",
   "execution_count": null,
   "metadata": {},
   "outputs": [],
   "source": [
    "# a)\n",
    "\n"
   ]
  },
  {
   "cell_type": "code",
   "execution_count": null,
   "metadata": {},
   "outputs": [],
   "source": [
    "# b)\n",
    "\n"
   ]
  },
  {
   "cell_type": "code",
   "execution_count": null,
   "metadata": {},
   "outputs": [],
   "source": [
    "# c)\n",
    "\n"
   ]
  },
  {
   "cell_type": "markdown",
   "metadata": {},
   "source": [
    "### Keyword-Argumente\n",
    "\n",
    "Neben Parametern kannst du auch eigens definierte Keywords in den Funktionsklammern festlegen. Diese werden mit  <b>=</b> und einem <b>Startwert</b> definiert. Mit diesem Startwert kannst du default Werte festlegen, die automatisch eingesetzt werden, wenn für die Parameter kein Argument (kein Wert) übergegeben wird. \n",
    "\n",
    "#### Beispiel zu Keyword-Argumenten"
   ]
  },
  {
   "cell_type": "code",
   "execution_count": null,
   "metadata": {},
   "outputs": [],
   "source": [
    "def fruit_price(orange=0.7, apple=0.4):\n",
    "    \"\"\"Returns prices of orange, apple. Parameter and default arguments: orange=0.7, apple=0.4\"\"\"\n",
    "    return print(f'Orangenpreis: {orange}\\nApfelpreis: {apple}')"
   ]
  },
  {
   "cell_type": "markdown",
   "metadata": {},
   "source": [
    "Ausführung dieser Funktion ohne Angabe von Argumenten:"
   ]
  },
  {
   "cell_type": "code",
   "execution_count": null,
   "metadata": {},
   "outputs": [],
   "source": [
    "fruit_price()"
   ]
  },
  {
   "cell_type": "markdown",
   "metadata": {},
   "source": [
    "Wie du siehst, werden die voreingestellten Werte bzw. Preise für Orange und Apfel ausgegeben.  \n",
    "\n",
    "Ausführung dieser Funktion mit Angabe von Argumenten:"
   ]
  },
  {
   "cell_type": "code",
   "execution_count": null,
   "metadata": {},
   "outputs": [],
   "source": [
    "fruit_price(0.8, 0.5)"
   ]
  },
  {
   "cell_type": "markdown",
   "metadata": {},
   "source": [
    "Bei der Angabe von Argumenten - die nicht unbedingt mit dem Keyword anzugeben sind - werden die default Werte überschrieben.  \n",
    "\n",
    "In der folgenden Code-Zelle werden die Keywords explizit angegeben:"
   ]
  },
  {
   "cell_type": "code",
   "execution_count": null,
   "metadata": {},
   "outputs": [],
   "source": [
    "fruit_price(orange=0.9, apple=0.6)"
   ]
  },
  {
   "cell_type": "markdown",
   "metadata": {},
   "source": [
    "**Wird eine Funktion mit non-default Argumenten (nicht voreingestellten Werten) definiert und werden ihr beim Funktionsaufruf keine Argumente übergeben, kommt es zu einem <font color=darkred>TypeError</font>:**"
   ]
  },
  {
   "cell_type": "code",
   "execution_count": null,
   "metadata": {},
   "outputs": [],
   "source": [
    "def times2(x):\n",
    "    \"\"\"Return parameter x times 2.\"\"\"\n",
    "    return x**2\n",
    "\n",
    "# fehlerhafter Funktionsaufruf ohne Argument\n",
    "times2()"
   ]
  },
  {
   "cell_type": "markdown",
   "metadata": {},
   "source": [
    "Ein Funktionsaufruf ohne Argumente ist also nur mit der Definition von default Argumenten möglich.  \n",
    "\n",
    "Mit der Angabe von Keywords ist es weiterhin möglich, die Reihenfolge der Argumente zu tauschen:"
   ]
  },
  {
   "cell_type": "code",
   "execution_count": null,
   "metadata": {},
   "outputs": [],
   "source": [
    "fruit_price(apple=0.5, orange=0.8)"
   ]
  },
  {
   "cell_type": "markdown",
   "metadata": {},
   "source": [
    "**Ohne Angabe der Keywords wird die Reihenfolge der Argumente beibehalten, wie sie in der Funktion festgelegt wurde.**  \n",
    "\n",
    "**Die Vorteile der Verwendung von Keywords in Funktionen sind deshalb:**\n",
    "* Festlegung von default Werten möglich\n",
    "* Veränderbarkeit der Reihenfolge von Argumenten  \n",
    "<br>\n",
    "<br>\n",
    "\n",
    "#### Beispiel zu einem non-default Argument zusammen mit Keyword-Argumenten\n",
    "\n",
    "Non-default Argumente werden für Parameter eingesetzt, die keinen Startwert benötigen. \n",
    "\n",
    "Sie werden auch als <b>positionelle Argumente</b> (engl.: positional arguments) bezeichnet. Das sind alle Argumente, nicht mit einem Keyword und einem default Argument festgelegt wurden.    \n",
    "\n",
    "Demzufolge werden Keyword-Argumente auch als <b>default Argumente</b> oder <b>nicht positionelle Argumente</b> bezeichnet.  \n",
    "\n",
    "Argumente können ohne Angabe von zugehörigen Keywörtern ihre Position nicht tauschen. Das non-default Argument (hier: <b>grapefruit</b>), das in das vorherige Beispiel eingefügt wurde, darf nur <b>vor den Keyword-Argumenten definiert</b> werden. Seine Position innerhalb der festgelegten Argumente ist nur dann tauschbar, wenn sein Argument auch mit einem Keyword übergeben wird. Das wird dir gleich an einem Beispiel gezeigt.   \n",
    "\n",
    "Hier siehst du zuerst die Funktion mit dem non-default Argument an erster Stelle der Argumente:"
   ]
  },
  {
   "cell_type": "code",
   "execution_count": null,
   "metadata": {},
   "outputs": [],
   "source": [
    "def fruit_price(grapefruit,orange=0.7, apple=0.4):\n",
    "    \"\"\"Returns prices of grapefruit, orange, apple. Parameter and default arguments: grapefruit, \n",
    "    orange=0.7, apple=0.4\"\"\"\n",
    "    return print(f'Grapefruitpreis: {grapefruit}\\nOrangenpreis: {orange}\\nApfelpreis: {apple}')"
   ]
  },
  {
   "cell_type": "markdown",
   "metadata": {},
   "source": [
    "Das Folgende ist der Funktionsaufruf mit nur einem Argument. Weil die Funktion ein non-default und zwei default Argumente hat, wird das übergebene Argument (<b>1.0</b>) automatisch dem ersten, dem non-default Argument zugeordnet:  "
   ]
  },
  {
   "cell_type": "code",
   "execution_count": null,
   "metadata": {},
   "outputs": [],
   "source": [
    "fruit_price(1.0)"
   ]
  },
  {
   "cell_type": "markdown",
   "metadata": {},
   "source": [
    "Bei der Angabe von zwei Argumenten werden die ersten zwei in der Funktion definierten Argumente abgerufen bzw. überschrieben:"
   ]
  },
  {
   "cell_type": "code",
   "execution_count": null,
   "metadata": {},
   "outputs": [],
   "source": [
    "fruit_price(1.0, 0.5)"
   ]
  },
  {
   "cell_type": "markdown",
   "metadata": {},
   "source": [
    "Werden drei Argumente angegeben, werden auch sie in der Reihenfolge von der Funktion verarbeitet, wie sie zuvor definiert wurden. Die Voraussetzung hierfür ist, dass ihre Keywords nicht in veränderter Reihenfolge in den Funktionsklammern übergeben werden:  "
   ]
  },
  {
   "cell_type": "code",
   "execution_count": null,
   "metadata": {},
   "outputs": [],
   "source": [
    "fruit_price(1.1, 0.55, 0.9)"
   ]
  },
  {
   "cell_type": "markdown",
   "metadata": {},
   "source": [
    "Die default Werte von Orange und Apfel wurden mit Angabe ihrer Keywords wieder überschrieben.  \n",
    "\n",
    "Wenn wir Keywörter für die Argumente angeben, brauchen wir uns nicht an die vorgegebene Reihenfolge (``def fruit_price(grapefruit,orange=0.7, apple=0.4):``) halten:  "
   ]
  },
  {
   "cell_type": "code",
   "execution_count": null,
   "metadata": {},
   "outputs": [],
   "source": [
    "fruit_price(apple=0.75, orange=0.4, grapefruit=1.2)"
   ]
  },
  {
   "cell_type": "markdown",
   "metadata": {},
   "source": [
    "**Das Keyword für das non-default Argument ist sein in der Funktion definierter Parametername (hier: grapefruit).**\n",
    "\n",
    "\n",
    "**Aber, das gilt generell: Geben wir für die Keyword-Argumente die Keywords an, doch nichts für die non-default Argumente, führt das zu einem <font color=darkred>TypeError</font>:**"
   ]
  },
  {
   "cell_type": "code",
   "execution_count": null,
   "metadata": {},
   "outputs": [],
   "source": [
    "fruit_price(apple=0.55, orange=0.4)"
   ]
  },
  {
   "cell_type": "markdown",
   "metadata": {},
   "source": [
    "**Non-default Argumente müssen zwingend angegeben werden, ob mit Keyword oder ohne.  \n",
    "Ohne Keyword müssen sie zwingend vor den default bzw. Keyword-Argumenten stehen:**  "
   ]
  },
  {
   "cell_type": "code",
   "execution_count": null,
   "metadata": {},
   "outputs": [],
   "source": [
    "fruit_price(1.3, apple=0.55, orange=0.4)"
   ]
  },
  {
   "cell_type": "markdown",
   "metadata": {},
   "source": [
    "Wird die Reihenfolge des <b>non-default Arguments vor den default Argumenten</b> bei der Funktionsdefinition nicht beachtet, erscheint dieser Fehler:"
   ]
  },
  {
   "cell_type": "code",
   "execution_count": null,
   "metadata": {},
   "outputs": [],
   "source": [
    "def fruit_price(orange=0.7, apple=0.4, grapefruit):\n",
    "    \"\"\"Returns prices of grapefruit, orange, apple. Parameter and default arguments: grapefruit, \n",
    "    orange=0.7, apple=0.4\"\"\"\n",
    "    return print(f'Grapefruitpreis: {grapefruit}\\nOrangenpreis: {orange}\\nApfelpreis: {apple}')"
   ]
  },
  {
   "cell_type": "markdown",
   "metadata": {},
   "source": [
    "Übersetzt lautet dieser <font color=darkred>SyntaxError</font>: \"Das non-default Argument folgt auf das default Argument.\"  \n",
    "\n",
    "Dies gilt es zu vermeiden.  \n",
    "\n",
    "<br>\n",
    "\n",
    "<div class=\"alert alert-block alert-warning\">\n",
    "    <font size=\"3\"><b>Übung zu nutzerdefinierten Funktionen mit non-default und default Argumenten, Teil A:</b></font>  \n",
    "<br>\n",
    "    \n",
    "Du möchtest den Durchschnitt von Preisen für Fernseher mit einer Funktion immer wieder neu berechnen können.  \n",
    "    \n",
    "**a)** Definiere eine Funktion, welche den Durchschnitt aus drei übergebenen Argumenten berechnet. Für zwei dieser Argumente gibt es default Werte.  \n",
    "**Die Parameter (Namen) bzw. default Argumente:**  \n",
    "Samsung TV: 350 Euro  \n",
    "Sony TV: 450 Euro  \n",
    "\n",
    "Für den **dritten Fernseher, Panasonic TV**, liegt noch kein default Wert vor.  \n",
    "Mit jedem Funktionsaufruf sollen die Einzelpreise und ihr Durchschnitt erscheinen.  \n",
    "Dokumentiere auch diese Funktion.  \n",
    "<br>\n",
    "\n",
    "Tipp: Mit der Funktion ``round(wert, anzahl_nachkommastellen)`` kannst du die Anzahl der Nachkommastellen auf 2 begrenzen.  \n",
    "\n",
    "Wie du diese Aufgabe genau umsetzt, spielt keine Rolle, solange sie vollständig und mit den richtigen Ergebnissen gelöst wird.\n",
    "</div>"
   ]
  },
  {
   "cell_type": "code",
   "execution_count": null,
   "metadata": {},
   "outputs": [],
   "source": [
    "# a)\n",
    "\n"
   ]
  },
  {
   "cell_type": "markdown",
   "metadata": {},
   "source": [
    "<div class=\"alert alert-block alert-warning\">\n",
    "    <font size=\"3\"><b>Übung zu nutzerdefinierten Funktionen mit non-default und Keyword-Argumenten, Teil B:</b></font>  \n",
    "<br>\n",
    "    \n",
    "**b)** Führe diese Funktion anschließend in einer neuen Code-Zelle nur mit der Übergabe eines Arguments für den Panasonic TV aus.   \n",
    "\n",
    "**c)** Übergebe neue Argumente für alle drei Fernseher <b>ohne</b> Angabe eines Keyworts.  \n",
    "\n",
    "**d)** Übergebe neue Argumente für alle drei Fernseher <b>mit</b> Angabe eines Keyworts. Ändere die Reihenfolge der Argumentangabe, indem du zuerst einen neuen Wert für Samsung TV, dann für Sony TV und schließlich für Panasonic TV angibst.\n",
    "</div>"
   ]
  },
  {
   "cell_type": "code",
   "execution_count": null,
   "metadata": {},
   "outputs": [],
   "source": [
    "# b)\n",
    "\n"
   ]
  },
  {
   "cell_type": "code",
   "execution_count": null,
   "metadata": {},
   "outputs": [],
   "source": [
    "# c)\n",
    "\n"
   ]
  },
  {
   "cell_type": "code",
   "execution_count": null,
   "metadata": {},
   "outputs": [],
   "source": [
    "# d)\n",
    "\n"
   ]
  },
  {
   "cell_type": "markdown",
   "metadata": {},
   "source": [
    "### Rückgabewerte von Funktionen und das Return-Statement\n",
    "\n",
    "Wenn eine Funktion nur einen String ausgegeben werden soll, ist es nicht unbedingt erforderlich, das Statement ``return`` einzusetzen.  \n",
    "<br>\n",
    "\n",
    "<div class=\"alert alert-block alert-info\">\n",
    "<font size=\"3\"><b>Tipp zum Return-Statement:</b></font> \n",
    "<br>\n",
    "    \n",
    "Das Statement ``return`` ist immer dann einzusetzen, wenn nicht nur ein String ausgegeben werden soll.  \n",
    "``return`` sagt Python, dass die Funktion an dieser Stelle mit der Rückgabe eines Ergebniswertes endet.  \n",
    "Ohne einen nachfolgenden Ausdruck (engl.: expression) liefert ``return`` den Wert <b>None</b>.  \n",
    "<br>\n",
    "\n",
    "**Syntax:**  \n",
    "<font color = darkgreen><b>return expression</b></font>  \n",
    "\n",
    "<b>expression</b> ist ein Platzhalter für den Ausdruck, den die Funktion zurückgeben soll.  \n",
    "</div>\n",
    "<br>\n",
    "<br>\n",
    "\n",
    "#### Beispiel zu einer Funktion mit einem String als Rückgabewert"
   ]
  },
  {
   "cell_type": "code",
   "execution_count": null,
   "metadata": {},
   "outputs": [],
   "source": [
    "def hello_user(name):\n",
    "    \"\"\"Greets user with \"Hello\" with argument name.\"\"\"\n",
    "    print(f'Hello {name}')"
   ]
  },
  {
   "cell_type": "code",
   "execution_count": null,
   "metadata": {},
   "outputs": [],
   "source": [
    "hello_user('Benni')"
   ]
  },
  {
   "cell_type": "markdown",
   "metadata": {},
   "source": [
    "Auch ohne ``return`` erfolgt die Ausgabe.  \n",
    "<br>\n",
    "\n",
    "#### Beispiel zum Return-Statement mit Print-Funktion\n",
    "\n",
    "Optional kann auch vor die Print-Funktion das Return-Statement gesetzt werden:"
   ]
  },
  {
   "cell_type": "code",
   "execution_count": null,
   "metadata": {},
   "outputs": [],
   "source": [
    "def hello_user(name):\n",
    "    \"\"\"Greets user with \"Hello\" with argument name.\"\"\"\n",
    "    return print(f'Hello {name}')"
   ]
  },
  {
   "cell_type": "code",
   "execution_count": null,
   "metadata": {},
   "outputs": [],
   "source": [
    "hello_user('Benni')"
   ]
  },
  {
   "cell_type": "markdown",
   "metadata": {},
   "source": [
    "Das führt zum selben Ergebnis.  \n",
    "<br>\n",
    "\n",
    "#### Beispiel für das Return-Statement ohne Expression\n",
    "\n",
    "Setzt man keine Expression nach ``return``, ist der Rückgabewert der Funktion <b>None</b>:"
   ]
  },
  {
   "cell_type": "code",
   "execution_count": null,
   "metadata": {},
   "outputs": [],
   "source": [
    "def hello_user(name):\n",
    "    \"\"\"Greets user with \"Hello\" with argument name.\"\"\"\n",
    "    print(f'Hello {name}')\n",
    "    return"
   ]
  },
  {
   "cell_type": "code",
   "execution_count": null,
   "metadata": {},
   "outputs": [],
   "source": [
    "hello_user('Benni')"
   ]
  },
  {
   "cell_type": "markdown",
   "metadata": {},
   "source": [
    "Dieser Teil hat trotzdem wie der vorherige funktioniert, weil das Print-Statement im Funktionsbody in jedem Fall ausgeführt wird. Doch wenn wir uns die Funktion mit einem Argument (<b>'Benni'</b>) über ``print()`` ausgeben lassen, sehen wir, dass sie den Rückgabewert <b>None</b> hat:"
   ]
  },
  {
   "cell_type": "code",
   "execution_count": null,
   "metadata": {},
   "outputs": [],
   "source": [
    "print(hello_user('Benni'))"
   ]
  },
  {
   "cell_type": "markdown",
   "metadata": {},
   "source": [
    "Der Print-Befehl wird in jedem Fall ausgeführt, weshalb <b>\"Hello Benni\"</b> noch vor <b>None</b> im Output erscheint.  \n",
    "\n",
    "**Ohne eine Expression nach ``return`` hat eine Funktion keinen Rückgabewert. Ohne Expression kann das, was sie liefert, nicht von anderen Programmteilen weiterverwendet werden.**  \n",
    "<br>\n",
    "\n",
    "#### Beispiel für die Weiterverwendung des Rückgabewertes in anderen Programmteilen"
   ]
  },
  {
   "cell_type": "code",
   "execution_count": null,
   "metadata": {},
   "outputs": [],
   "source": [
    "def add(x):\n",
    "    \"\"\"Adds argument x to itself and returns the result.\"\"\"\n",
    "    result = x + x\n",
    "    return result\n",
    "\n",
    "# Rückgabewert der Funktion mit 4 als Argument erscheint im Output\n",
    "add(4)"
   ]
  },
  {
   "cell_type": "markdown",
   "metadata": {},
   "source": [
    "Der Rückgabewert der Funktion wird nun an anderer Stelle weiterverwendet:"
   ]
  },
  {
   "cell_type": "code",
   "execution_count": null,
   "metadata": {},
   "outputs": [],
   "source": [
    "multiply = 10 * add(4)\n",
    "\n",
    "multiply"
   ]
  },
  {
   "cell_type": "markdown",
   "metadata": {},
   "source": [
    "Ohne ``return`` mit Expression wäre das nicht möglich:"
   ]
  },
  {
   "cell_type": "code",
   "execution_count": null,
   "metadata": {},
   "outputs": [],
   "source": [
    "def add(x):\n",
    "    \"\"\"Adds argument x to itself and returns the result.\"\"\"\n",
    "    result = x + x\n",
    "    print(result)\n",
    "    \n",
    "multiply = 10 * add(4)\n",
    "\n",
    "multiply"
   ]
  },
  {
   "cell_type": "markdown",
   "metadata": {},
   "source": [
    "Der <b>NoneType</b> ist der nicht vorhandene Rückgabewert der Funktion ``add(x)``.  \n",
    "\n",
    "Auch mit ``return print(result)`` funktioniert die Verwendung der Funktion in anderen Programmteilen nicht. In diesem Fall funktioniert sie nicht, weil eine Rechnung nicht mit einem Print-Befehl ausgeführt werden kann:"
   ]
  },
  {
   "cell_type": "code",
   "execution_count": null,
   "metadata": {},
   "outputs": [],
   "source": [
    "def add(x):\n",
    "    \"\"\"Adds argument x to itself and returns the result.\"\"\"\n",
    "    result = x + x\n",
    "    return print(result)\n",
    "    \n",
    "multiply = 10 * add(4)\n",
    "\n",
    "multiply"
   ]
  },
  {
   "cell_type": "markdown",
   "metadata": {},
   "source": [
    "Ohne einer Expression nach ``return`` käme es ebenfalls zu einem <font color=darkred>TypeError</font>:"
   ]
  },
  {
   "cell_type": "code",
   "execution_count": null,
   "metadata": {},
   "outputs": [],
   "source": [
    "def add(x):\n",
    "    \"\"\"Adds argument x to itself and returns the result.\"\"\"\n",
    "    result = x + x\n",
    "    return\n",
    "    \n",
    "multiply = 10 * add(4)\n",
    "\n",
    "multiply"
   ]
  },
  {
   "cell_type": "markdown",
   "metadata": {},
   "source": [
    "Hier siehst du noch einmal das richtige Beispiel:"
   ]
  },
  {
   "cell_type": "code",
   "execution_count": null,
   "metadata": {},
   "outputs": [],
   "source": [
    "def add(x):\n",
    "    \"\"\"Adds argument x to itself and returns the result.\"\"\"\n",
    "    result = x + x\n",
    "    return result\n",
    "    \n",
    "multiply = 10 * add(4)\n",
    "\n",
    "multiply"
   ]
  },
  {
   "cell_type": "markdown",
   "metadata": {},
   "source": [
    "**Was du dir aus diesem Teil der aktuellen Einheit mitnehmen solltest:  \n",
    "Mit ``return`` und einer Expression gewinnen die von dir definierten Funktionen erst recht an Mehrwert. Du kannst mit ihnen sich wiederholende Programmteile in Funktionen packen und deren Rückgabewerte an anderer Stelle beliebig weiterverwenden.  \n",
    "Nur mit angegebenen Rückgabewerten nutzt du das volle Potenzial von nutzerdefinierten Funktionen!**  \n",
    "<br>\n",
    "\n",
    "<div class=\"alert alert-block alert-info\">\n",
    "<font size=\"3\"><b>Tipp:</b></font> \n",
    "<br>\n",
    "    \n",
    "Eine der bekanntesten Funktionen, die du auch selbst schreiben kannst, ist die <b>Identity-Funktion</b>.  \n",
    "Mit ihr lässt du dir den Wert einer beliebigen Variable zurückgeben.\n",
    "</div>\n",
    "<br>\n",
    "\n",
    "#### Die Identity-Funktion"
   ]
  },
  {
   "cell_type": "code",
   "execution_count": null,
   "metadata": {},
   "outputs": [],
   "source": [
    "def identity(x):\n",
    "    return x"
   ]
  },
  {
   "cell_type": "markdown",
   "metadata": {},
   "source": [
    "Anwendung der Identity-Funktion:"
   ]
  },
  {
   "cell_type": "code",
   "execution_count": null,
   "metadata": {},
   "outputs": [],
   "source": [
    "a = 2\n",
    "\n",
    "identity(a)"
   ]
  },
  {
   "cell_type": "markdown",
   "metadata": {},
   "source": [
    "Sie ist nützlich, um jederzeit auf einen Variablenwert zugreifen zu können.  \n",
    "<br>\n",
    "<br>\n",
    "<div class=\"alert alert-block alert-warning\">\n",
    "    <font size=\"3\"><b>Übung zur Erstellung von Funktionen:</b></font>  \n",
    "<br>\n",
    "    \n",
    "Die folgende Funktion funktioniert nicht!\n",
    "\n",
    "Ihre Syntax entstammt teils anderen Programmiersprachen, teils ist sie schlicht falsch.  \n",
    "\n",
    "Folge den Fehlermeldungen und korrigiere sie, bis sie funktioniert und der good Practice in Python entspricht.  \n",
    "\n",
    "Sie soll das Ergebnis vom ersten Argument hoch dem zweiten zurückgeben.  \n",
    "</div>"
   ]
  },
  {
   "cell_type": "code",
   "execution_count": null,
   "metadata": {},
   "outputs": [],
   "source": [
    "function 2power(a;b)\n",
    "{\n",
    "return x^y;    \n",
    "}"
   ]
  },
  {
   "cell_type": "code",
   "execution_count": null,
   "metadata": {},
   "outputs": [],
   "source": []
  },
  {
   "cell_type": "markdown",
   "metadata": {},
   "source": [
    "<div class=\"alert alert-block alert-success\">\n",
    "<b>Glückwunsch!</b> Du weißt nun, wie eine nutzerdefinierte Funktion aufgebaut ist und kannst schon selbst eigene Funktionen schreiben. Außerdem weißt du, worauf es bei ihrer Funktionsdefinition, Argumentübergabe und Ergebnisrückgabe ankommt.\n",
    "\n",
    "In der nächsten Einheit erfährst du, wie du nutzerdefinierte Funktionen besser wiederverwenden und weiter ausbauen kannst.\n",
    "</div>"
   ]
  },
  {
   "cell_type": "markdown",
   "metadata": {},
   "source": [
    "<div class=\"alert alert-block alert-info\">\n",
    "<h3>Das kannst du aus dieser Übung mitnehmen:</h3>\n",
    "\n",
    "* **Nutzerdefinierte Funktionen**\n",
    "    * werden im Englischen \"<b>user-defined functions</b>\" genannt\n",
    "    * erlauben es, Code einmalig zu schreiben und diesen wiederzuverwenden\n",
    "    * Syntax: \n",
    "        * <font color = darkgreen><b>def funktionsname(optionale_parameter):</b> </font>\n",
    "            * <font color = darkgreen><b>\"\"\"docstring\"\"\"</b> </font>\n",
    "            * <font color = darkgreen><b>statement(s)</b> </font>\n",
    "    * der Funktionsheader:\n",
    "        * zwingend anzugeben ist das Keyword ``def`` sowie ein Funktionsname und Funktionsklammern\n",
    "        * es können optional Parameternamen für die Funktionsargumente angegeben werden\n",
    "        * mehrere Argumente werden mit einem Komma getrennt\n",
    "        * der ebenfalls zwingend anzugebende Doppelpunkt im Funktionsheader läutet das Ende des Headers ein\n",
    "    * der Funktionsbody:\n",
    "        * es ist \"good Practice\", eine nutzerdefinierte Funktion mit einem <b>Docstring</b> zu dokumentieren:\n",
    "            * Docstring steht für: Documentation String\n",
    "            * er wird für gewöhnlich in einen mehrzeiligen Kommentar gesetzt (je 3 Anführungsstriche)\n",
    "            * bei einer kurzen Dokumentation reicht mitunter ein einzeiliger Kommentar\n",
    "            * er enthält, was die Funktion bewerkstelligt, ihre Argumente und was sie zurückgibt\n",
    "            * wird auf Englisch geschrieben\n",
    "            * ist für jede Funktion abzurufen mit: <font color = darkgreen><b>print(funktionsname.__\\__doc__\\__)</b></font>  \n",
    "        * beliebig viele Operationen/Berechnungen/Funktionen/Conditions/Loops können in den Body eingebaut werden \n",
    "        * diese sind mit 4 Leerzeichen/1 Tab-Abstand unter den Funktionsheader einzurücken\n",
    "        * steht der Body der Funktion noch nicht fest, kann im Body mittels ``pass`` trotzdem das fehlerfreie Ausführen der Funktion (dann ohne Ergebnis) gesichert werden\n",
    "        * ohne ein <b>Return-Statement</b> hat eine Funktion keinen Rückgabewert bzw. den Rückgabewert <b>None</b>\n",
    "        * ohne einen Rückgabewert kann das Ergebnis einer Funktion nicht weiterverwendet werden\n",
    "        * None kann je nach Anforderung als Rückgabewert weiterverwendet werden, z.B.: ``if function(0) == None:`` => dann folgt, was in diesem Fall geschehen soll\n",
    "    * Beispiel:\n",
    "        * ``def times2(x):``\n",
    "            * ``\"\"\"Returns argument x times 2.\"\"\"``\n",
    "            * ``return x**2``  \n",
    "        * Output: die als Argument übergebene Zahl wird quadriert zurückgegeben\n",
    "    * neben ``.__doc__`` ist eine weitere, auch in nutzerdefinierte Funktionen eingebaute Funktion: ``.__name__``\n",
    "        * diese gibt den Namen der aktuell aufgerufenen Funktion aus => nützlich für die Zurückverfolgung von Fehlern  \n",
    "<br>\n",
    "* **Argumenttypen in nutzerdefinierten Funktionen**\n",
    "    * **Keyword-Argumente bzw. default Argumente:**\n",
    "        * mit ihnen werden Parameter schon mit voreingestellten Werten festgelegt\n",
    "        * Beispiel:\n",
    "            * ``def fruit_price(orange=0.7, apple=0.4):``\n",
    "                * ``\"\"\"Returns prices of orange, apple. Parameter and default arguments: orange=0.7, apple=0.4\"\"\"``\n",
    "                * ``return print(f'Orangenpreis: {orange}\\nApfelpreis: {apple}')``\n",
    "        * Output bei Funktionsaufruf mit: ``fruit_price()``\n",
    "            * Orangenpreis: 0.7\n",
    "            * Apfelpreis: 0.4\n",
    "            * => ohne Argumentübergabe werden die default Werte zurückgegeben\n",
    "        * Output bei Funktionsaufruf mit: ``fruit_price(0.8, 0.5)``\n",
    "            * Orangenpreis: 0.8\n",
    "            * Apfelpreis: 0.5\n",
    "            * => default Argumente werden bei Argumentübergabe überschrieben - in der Reihenfolge, in der sie im Header festgelegt wurden\n",
    "        * Output bei Funktionsaufruf mit: ``fruit_price( apple=0.6, orange=0.9)``\n",
    "            * Orangenpreis: 0.9\n",
    "            * Apfelpreis: 0.6\n",
    "            * => unter Angabe ihrer Keywörter können die Positionen von default Argumenten vertauscht werden\n",
    "        * <b>Vorteile von default bzw.  Keyword-Argumenten</b>:\n",
    "            * Festlegung voreingestellter Werte möglich\n",
    "            * Veränderbarkeit der Reihenfolge von Argumenten  \n",
    "            <br>\n",
    "    * **positional bzw. non-default Argumente:**\n",
    "        * werden ausschließlich mit einem Variablennamen festgelegt\n",
    "        * dieser ist gleichzeitig auch ein Keyword\n",
    "        * Beispiel:\n",
    "            * ``def fruit_price(orange, apple):``\n",
    "                * ``\"\"\"Returns prices of orange, apple. Positional arguments: orange, apple\"\"\"``\n",
    "                * ``return print(f'Orangenpreis: {orange}\\nApfelpreis: {apple}')``\n",
    "        * Output bei Funktionsaufruf mit: ``fruit_price()``\n",
    "            * <font color=darkred>TypeError</font>\n",
    "            * => ohne default Argumente und mit positional Argumenten müssen beim Funktionsaufruf Argumente übergeben werden\n",
    "        * Output bei Funktionsaufruf mit: ``fruit_price(0.8, 0.5)``\n",
    "            * Orangenpreis: 0.8\n",
    "            * Apfelpreis: 0.5\n",
    "            * => positional Argumente werden in der Position übergeben, in der sie im Header definiert wurden\n",
    "        * Output bei Funktionsaufruf mit: ``fruit_price( apple=0.6, orange=0.9)``\n",
    "            * Orangenpreis: 0.9\n",
    "            * Apfelpreis: 0.6\n",
    "            * => unter Angabe ihrer Keywörter können die Positionen von positional Argumenten vertauscht werden  \n",
    "            <br>\n",
    "    * **non-default gemixt mit default Argumenten:**\n",
    "        * die non-default (=positional) Argumente müssen <b>vor</b> den default Argumenten im Funktionsheader definiert werden, sonst:  <font color=darkred>SyntaxError</font>\n",
    "        * Beispiel zur richtigen Anwendung:\n",
    "            * ``def fruit_price(grapefruit,orange=0.7, apple=0.4):``\n",
    "                * ``\"\"\"Returns prices of fruits. Parameter and default arguments: grapefruit,orange=0.7,apple=0.4\"\"\"``\n",
    "                * ``return print(f'Grapefruitpreis: {grapefruit}\\nOrangenpreis: {orange}\\nApfelpreis: {apple}')``\n",
    "        * Output bei Funktionsaufruf mit: ``fruit_price()``\n",
    "            * <font color=darkred>TypeError</font>\n",
    "            * => weil ein positional Argument (<b>grapefruit</b>) definiert wurde, muss für dieses ein Argument übergeben werden\n",
    "        * Output bei Funktionsaufruf mit: ``fruit_price(0.8, 0.5)``\n",
    "            * Grapefruitpreis: 0.8\n",
    "            * Orangenpreis: 0.5\n",
    "            * Apfelpreis: 0.4\n",
    "            * => ohne Angabe von Keywords werden die Argumente in der Reihenfolge übergeben, in der sie definiert wurden\n",
    "        * Output bei Funktionsaufruf mit: ``fruit_price( apple=0.6, orange=0.9)``\n",
    "            * <font color=darkred>TypeError</font>\n",
    "            * => das positional Argument benötigt zwingend einen übergebenen Wert\n",
    "        * Output bei Funktionsaufruf mit: ``fruit_price(1.0, apple=0.6, orange=0.9)``\n",
    "            * Grapefruitpreis: 1.0\n",
    "            * Orangenpreis: 0.6\n",
    "            * Apfelpreis: 0.9\n",
    "            * => das positional Argument benötigt nicht zwingend eine Keyword-Angabe\n",
    "        * Output bei Funktionsaufruf mit: ``fruit_price(apple=0.6, orange=0.9, 1.0)``\n",
    "            * <font color=darkred>TypeError</font>\n",
    "            * => das positional Argument muss <b>vor</b> den default Argumenten übergeben werden\n",
    "         * Output bei Funktionsaufruf mit: ``fruit_price(apple=0.75, orange=0.4, grapefruit=1.2)``\n",
    "            * Grapefruitpreis: 1.2\n",
    "            * Orangenpreis: 0.4\n",
    "            * Apfelpreis: 0.75\n",
    "            * => unter Angabe ihrer Keywords können die Positionen von Argumenten vertauscht werden  \n",
    "<br>\n",
    "* **Das Return-Statement**\n",
    "    * ``return`` wird verwendet, um einer nutzerdefinierten Funktion einen Rückgabewert zu geben\n",
    "    * soll nur ein String ausgegeben werden, der nicht weiterverwendet wird, ist ``return`` nicht nötig\n",
    "    * nur mit einem Rückgabewert wird aber das volle Potenzial nutzerdefinierter Funktionen genutzt => denn nur ein über ``return`` hinterlegter Rückgabewert kann von anderen Teilen des Programms sowie anderen Funktionen weiterverwendet werden\n",
    "    * ``return`` beendet eine Funktion unmittelbar => nach ihm gesetzte Statements werden nicht mehr ausgeführt\n",
    "    * Syntax: <font color = darkgreen><b>return expression</b></font>  \n",
    "    * **eine nutzerdefinierte Funktion hat den Rückgabewert None, wenn:**\n",
    "        * sie kein Return-Statement hat\n",
    "        * dem Return-Statement keine Expression folgt (wenn nur ``return`` da steht)\n",
    "        * wenn der Rückgabewert None explizit festgelegt wurde: ``return None``\n",
    "    * Beispiel für die Wiederverwendung des Rückgabewertes einer Funktion:\n",
    "        * ``def add(x):``\n",
    "            * ``\"\"\"Adds the argument x to itself and returns the result.\"\"\"``:\n",
    "            * ``result = x + x``\n",
    "            * ``return result``\n",
    "        * ein anderer Programmteil verwendet den Rückgabewert (``add(4)`` ergibt 8):\n",
    "        * ``multiply = 10 * add(4)``\n",
    "        * ``multiply``\n",
    "        * Output: 80\n",
    "        * => ohne Argumentübergabe der 4 in ``add(4)`` ist ``x`` nicht definiert, die Argumentübergabe ist also erforderlich\n",
    "</div>"
   ]
  }
 ],
 "metadata": {
  "kernelspec": {
   "display_name": "Python 3",
   "language": "python",
   "name": "python3"
  },
  "language_info": {
   "codemirror_mode": {
    "name": "ipython",
    "version": 3
   },
   "file_extension": ".py",
   "mimetype": "text/x-python",
   "name": "python",
   "nbconvert_exporter": "python",
   "pygments_lexer": "ipython3",
   "version": "3.7.3"
  }
 },
 "nbformat": 4,
 "nbformat_minor": 2
}
