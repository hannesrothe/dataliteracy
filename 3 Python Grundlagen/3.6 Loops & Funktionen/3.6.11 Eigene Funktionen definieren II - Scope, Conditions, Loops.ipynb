{
 "cells": [
  {
   "cell_type": "markdown",
   "metadata": {},
   "source": [
    "#  3.6 Loops & Funktionen\n",
    "\n",
    "## 3.6.11 Eigene Funktionen definieren II - Scope, Conditions, Loops\n",
    "\n",
    "Im Anschluss dieser Übungseinheit kannst du ...\n",
    "+ genau einschätzen, welche Variable du in welchen Code-Blöcken wiederverwenden kannst\n",
    "+ Rückgabewerte von Funktionen an anderer Stelle wiederverwenden\n",
    "+ dir mittels Conditions von einer Funktion verschiedene Rückgabewerte liefern lassen\n",
    "+ For-Loops in nutzerdefinierten Funktionen einsetzen und mit ihnen über Iterables iterieren\n",
    "+ While-Loops in nutzerdefinierten Funktionen einsetzen\n",
    "+ eine Comprehension so umbauen, dass sie in einer nutzerdefinierten Funktion immer wieder verwendet werden kann"
   ]
  },
  {
   "cell_type": "markdown",
   "metadata": {},
   "source": [
    "## 3.6.11 Eigene Funktionen definieren II - Scope, Conditions, Loops\n",
    "\n",
    "In dieser Einheit gehen wir noch mehr in die Tiefe zur Erstellung nutzerdefinierter Funktionen. Du lernst, welche Programmteile auf welche Variablen zugreifen können und wie du Conditions und Loops in Funktionen einsetzen kannst, um deine Funktionen vielfältiger einsetzen zu können.  \n",
    "<br>\n",
    "\n",
    "### Der Scope von Variablen inner- und außerhalb von Funktionen\n",
    "\n",
    "Der Scope (die Sichtbarkeit oder auch der Bekanntheitsgrad) von Variablen ist der Bereich/Programmteil, in dem auf sie von anderen Variablen, Statements oder Expressions zugegriffen werden kann.  \n",
    "Diesen anderen Code-Teilen ist die Variable sozusagen bekannt.  \n",
    "\n",
    "Den Scope einer Variable zu kennen, ist sehr wichtig, wenn du Variablen weiterverwenden möchtest. Nur so weißt du, an welcher Stelle im Code du eine Variable definierst, damit sie in eine bestimmte andere Stelle erfolgreich eingebaut werden kann.  \n",
    "\n",
    "Dieses folgende Beispiel funktioniert, weil die Funktionsdefinition gleichrangig (gleich eingerückt) zu den darunterliegenden Code-Teilen ist und weil die Funktion über ihre Definition ganz oben dem restlichen Programm bekannt ist:"
   ]
  },
  {
   "cell_type": "code",
   "execution_count": null,
   "metadata": {},
   "outputs": [],
   "source": [
    "def add(x):\n",
    "    \"\"\"Adds argument x to itself and returns the result.\"\"\"\n",
    "    result = x + x\n",
    "    return result\n",
    "    \n",
    "multiply = 10 * add(4)\n",
    "\n",
    "multiply"
   ]
  },
  {
   "cell_type": "markdown",
   "metadata": {},
   "source": [
    "Was ist mit <b>x</b>? <b>x</b> ist Teil der Funktionsdefinition. Können wir es also weiterverwenden?"
   ]
  },
  {
   "cell_type": "code",
   "execution_count": null,
   "metadata": {},
   "outputs": [],
   "source": [
    "multiply = 10 * x\n",
    "\n",
    "multiply"
   ]
  },
  {
   "cell_type": "markdown",
   "metadata": {},
   "source": [
    "Das geht nicht, weil <b>x</b> ein Parametername bzw. der Name für ein Argument ist. Das bedeutet: <b>x</b> ist letztendlich eine deklarierte (benamte) Variable. Und was braucht eine Variable, um nicht nur deklariert, sondern auch definiert zu sein?  \n",
    "Sie braucht einen Wert.\n",
    "\n",
    "<b>x</b> hat noch keinen Wert erhalten, weil kein Funktionsaufruf mit einem Argument stattgefunden hat. Deshalb ist es nicht definiert.   \n",
    "\n",
    "Es existiert nur innerhalb der Funktion. Damit x eine Definition erhält, muss der Funktionsaufruf außerhalb der Funktion mit der Übergabe eines Arguments, z.B. ``add(3)``, stattfinden. \n",
    "Aber außerhalb des Funktionsaufrufs mit ``add(x)`` wird <b>x</b> niemals eigenständig definier- und erreichbar sein.  \n",
    "<br>\n",
    "\n",
    "Was ist mit der Variable <b>result</b>? Können wir sie in einer Gleichung wiederverwenden?"
   ]
  },
  {
   "cell_type": "code",
   "execution_count": null,
   "metadata": {},
   "outputs": [],
   "source": [
    "def add(x):\n",
    "    \"\"\"Adds argument x to itself and returns the result.\"\"\"\n",
    "    result = x + x\n",
    "    return result\n",
    "    \n",
    "multiply = 10 * result\n",
    "\n",
    "multiply"
   ]
  },
  {
   "cell_type": "markdown",
   "metadata": {},
   "source": [
    "Aus demselben Grund funktioniert auch das nicht: <b>result</b> wird nur innerhalb der Funktion definiert. Außerhalb wird es deshalb von anderen Programmteilen nicht gekannt.  \n",
    "\n",
    "**Einzig Rückgabewerte von Funktionen sind weiteren, gleichrangigen Programmteilen über den Funktionsaufruf ``function_name(argument/s)`` bekannt.**  \n",
    "\n",
    "Kennt die Variable <b>multiply</b> ``add2(x)``, obwohl <b>multiply</b> zuerst definiert wurde?"
   ]
  },
  {
   "cell_type": "code",
   "execution_count": null,
   "metadata": {},
   "outputs": [],
   "source": [
    "multiply = 10 * add2(5)\n",
    "\n",
    "\n",
    "def add2(x):\n",
    "    \"\"\"Adds argument x to itself and returns the result.\"\"\"\n",
    "    result = x + x\n",
    "    return result\n",
    "\n",
    "multiply"
   ]
  },
  {
   "cell_type": "markdown",
   "metadata": {},
   "source": [
    "Auch das funktioniert nicht, denn in ``multiply = 10 * add2(5)`` ist die Funktion ``add2(x)`` noch nicht bekannt, weil sie erst danach definiert wird.  \n",
    "\n",
    "Auch der Wert von <b>multiply</b> kann über ``multiply`` erst abgerufen werden, wenn alle zugehörigen Variablen definiert wurden. Das passiert erst nach der Funktionsdefinition, nicht vorher:"
   ]
  },
  {
   "cell_type": "code",
   "execution_count": null,
   "metadata": {},
   "outputs": [],
   "source": [
    "multiply = 10 * add3(5)\n",
    "\n",
    "multiply\n",
    "\n",
    "def add3(x):\n",
    "    \"\"\"Adds argument x to itself and returns the result.\"\"\"\n",
    "    result = x + x\n",
    "    return result"
   ]
  },
  {
   "cell_type": "markdown",
   "metadata": {},
   "source": [
    "Wie ist das, wenn wir die Argumente bereits vor der Funktionsdefinition festlegen und dann in der Funktion auf diese zugreifen?"
   ]
  },
  {
   "cell_type": "code",
   "execution_count": null,
   "metadata": {},
   "outputs": [],
   "source": [
    "a = 3\n",
    "b = 5\n",
    "\n",
    "def multi():\n",
    "    \"\"\"Multiplies the predefined arguments a, b and returns result.\"\"\"\n",
    "    res = a * b\n",
    "    return res\n",
    "\n",
    "multi()"
   ]
  },
  {
   "cell_type": "markdown",
   "metadata": {},
   "source": [
    "Das funktioniert, denn <b>a</b> und <b>b</b> wurden vor der Funktion und ihrem Aufruf mit ``multi()`` definiert. <b>a</b> und <b>b</b> wurden an einer Stelle im Programm definiert, die für die folgenden Code-Teile <b>global</b>, also von überall aus zugreifbar ist.  \n",
    "\n",
    "Wären <b>a</b> und <b>b</b> zum Beispiel innerhalb eines Loops, einer Funktion oder einer Condition definiert worden (eingerückt), würde die Funktion ``multi()`` sie auch nicht kennen. Doch <b>a</b> und <b>b</b> sind gleichrangig und nicht eingerückt zu anderen Code-Teilen definiert worden. Das bedeutet, sie sind keinem anderen Programmteil untergeordnet.  \n",
    "\n",
    "Wenn <b>a</b> und <b>b</b> einem anderen Programmteil untergeordnet wären, z.B. einem Loop, wären sie innerhalb dieses Loops nur <b>lokal bekannnt</b> - also sie wären nur dem Loop bekannt.  \n",
    "Im oberen Beispiel aber sind <b>a</b> und <b>b</b> dem folgenden Programm <b>global bekannt</b>. Sie können von anderen Programmteilen wiederverwendet werden.\n",
    "\n",
    "Können wir auf Variablen zugreifen, die innerhalb einer Funktion definiert wurden?"
   ]
  },
  {
   "cell_type": "code",
   "execution_count": null,
   "metadata": {},
   "outputs": [],
   "source": [
    "def multi2():\n",
    "    \"\"\"Multiplies the arguments c, d and returns result.\"\"\"\n",
    "    c = 2\n",
    "    d = 4\n",
    "    res = c * d\n",
    "    return res\n",
    "\n",
    "c * d"
   ]
  },
  {
   "cell_type": "markdown",
   "metadata": {},
   "source": [
    "Das funktioniert, wie es auch schon an vorherigen Beispielen zu sehen war, grundsätzlich nicht, weshalb wir mit <b>c</b> und <b>d</b> außerhalb der Funktion nicht rechnen können. <b>c</b> und <b>d</b> sind nur der Funktion ``multi2()``  <b>lokal bekannnt</b>. <b>Global</b> sind sie unbekannt.  \n",
    "\n",
    "<div class=\"alert alert-block alert-info\">\n",
    "<font size=\"3\"><b>Tipp zum Scope von Variablen inner- und außerhalb von Statements und Funktionen:</b></font> \n",
    "<br>\n",
    "    \n",
    "**Innerhalb** von Funktionen und Statements (Loops, Conditions etc.) definierte Variablen (eingerückt) sind nur diesen **lokal bekannt**. Nachfolgende Code-Teile der Funktionen und Statements kennen sie. \n",
    "Außerhalb dieser Funktionen und Statements sind sie nicht bekannt.  \n",
    "Deshalb können diese **lokalen Variablen nicht von anderen Programmteilen weiterverwendet** werden.  \n",
    "<br>\n",
    "\n",
    "**Außerhalb** von Funktionen und Statements (Loops, Conditions etc.) definierte Variablen (**nicht eingerückt**) sind **nachfolgenden Programmteilen global bekannt**. Wichtig ist, dass sie **vor** den anderen Programmteilen definiert worden sind.  \n",
    "Deshalb können diese **globalen Variablen von anderen Programmteilen weiterverwendet** werden.  \n",
    "<br>\n",
    "\n",
    "**Generell ist die Einrückungsstufe ein visuell anschaulicher Hinweis auf den Geltungsbereich von Variablen:  \n",
    "Übergeordnete/weniger eingerückte Variablendefinitionen sind dem Code auf gleichen und darunterliegenden, weiter eingerückten Einrückungsstufen immer bekannt.** \n",
    "</div>\n",
    "<br>\n",
    "<br>\n",
    "\n",
    "Für die Definition von Funktionen bergen diese Gegebenheiten den Vorteil, dass die Namen von Variablen innerhalb von Funktionen beliebig (solange Python-konform) festgelegt werden können. So kann zum Beispiel jede Funktion erneut die Parameternamen <b>a</b> und <b>b</b> verwenden. Auch der Rückgabewert von Funktionen könnte immer wieder <b>result</b> genannt werden, ohne dass er das <b>result</b> aus anderen Funktionen überschreiben würde. Denn sie alle sind nur lokal bekannt.  \n",
    "<br>\n",
    "\n",
    "<div class=\"alert alert-block alert-warning\">\n",
    "    <font size=\"3\"><b>Übung zum Scope von Variablen inner- und außerhalb von Funktionen:</b></font>  \n",
    "<br>\n",
    "    \n",
    "**a)** Schreibe eine Funktion, <b>add4()</b>, in der vier Werte miteinander addiert werden. Bei ihrem Funktionsaufruf soll das Ergebnis verfügbar sein. Die definierte Variable <b>w</b> soll eines der vier Argumente sein. Dokumentiere diese Funktion.\n",
    "    \n",
    "**b)** Definiere eine weitere Funktion, <b>multi2()</b>, die zwei Werte miteinander multipliziert: Ein beliebiger Wert soll in ihr mit dem Ergebnis aus <b>add4()</b> multipliziert werden. Das Ergebnis soll beim Funktionsaufruf von <b>multi2()</b> erscheinen. Dokumentiere auch diese Funktion.  \n",
    "\n",
    "Hinweise:  \n",
    "Überlege dir, wie viele zu übergebenden Argumente jede Funktion benötigt, um mit diesen rechnen zu können.  \n",
    "Als besondere Hilfestellung sei dir gesagt, dass ``multi2()`` nicht nur zwei Argumente braucht. Sie braucht so viele, dass add4() ein Ergebnis liefern kann.   \n",
    "Überprüfe die Richtigkeit deiner Funktionen mit Werten, die du im Kopf nachrechnen kannst.\n",
    "</div>"
   ]
  },
  {
   "cell_type": "code",
   "execution_count": null,
   "metadata": {},
   "outputs": [],
   "source": [
    "w = 5\n",
    "\n"
   ]
  },
  {
   "cell_type": "markdown",
   "metadata": {},
   "source": [
    "### Nutzerdefinierte Funktionen mit Conditions\n",
    "\n",
    "Nutzerdefinierte Funktionen können mit Conditions erweitert werden. Damit sind sie für noch komplexere Anwendungsfälle einsetzbar.  \n",
    "\n",
    "#### Beispiel zu einer nutzerdefinierten Funktion mit einer Condition\n",
    "\n",
    "Nehmen wir an, du betreibst eine Webseite,  auf der NutzerInnen sich in ihren eigenen Bereich einloggen können. Dabei ist es wichtig zu überprüfen, ob der eingegebene Nutzername und das verwendete Passwort die Daten eines Admins oder die einer/s \"normalen\" Nutzerin oder Nutzers sind. Denn du möchtest doch nicht, dass deine NutzerInnen Zugriff auf vertrauliche Bereiche haben, in denen sie die Seite schadhaft manipulieren können?\n",
    "\n",
    "Die nachfolgende Funktion überprüft, ob ein eingegebener Nutzername der eines Admins ist:"
   ]
  },
  {
   "cell_type": "code",
   "execution_count": null,
   "metadata": {},
   "outputs": [],
   "source": [
    "def check_admin(name):\n",
    "    \"\"\"Checks if the string argument is equal to the name of an admin and returns True or False\"\"\"\n",
    "    if name == 'Patrick Lorenc' or name == 'Jakub Zaleski':\n",
    "        return True\n",
    "    else:\n",
    "        return False"
   ]
  },
  {
   "cell_type": "markdown",
   "metadata": {},
   "source": [
    "Noch weniger umständlich wird sie geschrieben, wenn ``else`` weggelassen wird. Denn wenn das If-Statement zu einem False führt, wird automatisch der nächste, gleichrangig eingerückte Code-Teil ausgeführt:"
   ]
  },
  {
   "cell_type": "code",
   "execution_count": null,
   "metadata": {},
   "outputs": [],
   "source": [
    "def check_admin(name):\n",
    "    \"\"\"Checks if the string argument is equal to the name of an admin and returns True or False\"\"\"\n",
    "    if name == 'Patrick Lorenc' or name == 'Jakub Zaleski':\n",
    "        return True\n",
    "    return False"
   ]
  },
  {
   "cell_type": "markdown",
   "metadata": {},
   "source": [
    "Wie Conditions aufgebaut werden, weißt du aus dem Kapitel \"3.3 Conditions - Bedingungen\". An diesem Aufbau hat sich nichts verändert. Der Unterschied zur Anwendung von Conditions in Funktionen ist, dass sie nun der nutzerdefinierten Funktion untergeordnet sind. Alle Teile der Condition sind um jeweils 4 weitere Leerzeichen/1 weiteren Tab-Abstand eingerückt.  \n",
    "\n",
    "Was die nutzerdefinierte Funktion betrifft, fällt dir vielleicht ein Unterschied zur vorherigen Einheit auf: Es gibt nun zwei Return--Statements - nicht nur eins.  \n",
    "Mit den zwei möglichen Ausgängen der Condition brauchen wir auch zwei mögliche Rückgabewerte. Daraus lässt sich ableiten:   \n",
    "\n",
    "**Je mehr Ausgänge durch Conditions möglich sind, desto mehr Return-Statements braucht eine Funktion.**\n",
    "\n",
    "Bei der Ausführung der folgenden Code-Zellen wird ein nicht hinterlegter Admin-Name zu einem False führen:"
   ]
  },
  {
   "cell_type": "code",
   "execution_count": null,
   "metadata": {},
   "outputs": [],
   "source": [
    "check_admin('Patrick Lorenc')"
   ]
  },
  {
   "cell_type": "code",
   "execution_count": null,
   "metadata": {},
   "outputs": [],
   "source": [
    "check_admin('Jakub Zaleski')"
   ]
  },
  {
   "cell_type": "code",
   "execution_count": null,
   "metadata": {},
   "outputs": [],
   "source": [
    "check_admin('Hans Christoph')"
   ]
  },
  {
   "cell_type": "markdown",
   "metadata": {},
   "source": [
    "Damit liefert die Funktion, je nach Argument, verschiedene Möglichkeiten für einen Rückgabewert.  \n",
    "<br>\n",
    "\n",
    "In einer weiteren Funktion kann nun definiert werden, was passieren soll, wenn der User ein Admin ist oder nicht.  \n",
    "\n",
    "Hier siehst du noch einmal die Funktion ``check_admin(name)``:"
   ]
  },
  {
   "cell_type": "code",
   "execution_count": null,
   "metadata": {},
   "outputs": [],
   "source": [
    "def check_admin(name):\n",
    "    \"\"\"Checks if the string argument is equal to the name of an admin and returns True or False\"\"\"\n",
    "    if name == 'Patrick Lorenc' or name == 'Jakub Zaleski':\n",
    "        return True\n",
    "    return False"
   ]
  },
  {
   "cell_type": "markdown",
   "metadata": {},
   "source": [
    "Die Funktion ``user_handling(name)`` verwendet nun die Funktion ``check_admin``. Um zu funktionieren - weil ``check_admin(name)`` bzw. ``name`` sonst nicht definiert wäre - braucht diese Funktion auch ein Argument für den Namen in der ersten Funktion:   "
   ]
  },
  {
   "cell_type": "code",
   "execution_count": null,
   "metadata": {},
   "outputs": [],
   "source": [
    "def user_handling(name):\n",
    "    \"\"\"Greets user depending on whether he/she is an admin or not.\"\"\"\n",
    "    if check_admin(name) == True:\n",
    "        return print('Welcome admin!')\n",
    "    return print('Welcome user!')"
   ]
  },
  {
   "cell_type": "markdown",
   "metadata": {},
   "source": [
    "Der Name für das Argument <b>name</b> kann dabei in ``user_handling()`` auch anders lauten, denn er ist innerhalb der Funktion nur lokal bekannt:"
   ]
  },
  {
   "cell_type": "code",
   "execution_count": null,
   "metadata": {},
   "outputs": [],
   "source": [
    "def user_handling(user_name):\n",
    "    \"\"\"Greets user depending on whether he/she is an admin or not.\"\"\"\n",
    "    if check_admin(user_name) == True:\n",
    "        return print('Welcome admin!')\n",
    "    return print('Welcome user!')"
   ]
  },
  {
   "cell_type": "code",
   "execution_count": null,
   "metadata": {},
   "outputs": [],
   "source": [
    "user_handling('Patrick Lorenc')"
   ]
  },
  {
   "cell_type": "code",
   "execution_count": null,
   "metadata": {},
   "outputs": [],
   "source": [
    "user_handling('Hans Christoph')"
   ]
  },
  {
   "cell_type": "markdown",
   "metadata": {},
   "source": [
    "In ``user_handling(name)`` könnten theoretisch noch viele Dinge mehr geschehen, wie die Weiterleitung zu einer bestimmten Seite. Doch dieses Beispiel dient der Veranschaulichung, wie Funktionen interagieren.  \n",
    "Auf diese Weise lassen sich viele Funktionen miteinander verzahnen.  \n",
    "<br>\n",
    "\n",
    "Trifft einmal eine Bedingung zu, die keinerlei Auswirkungen haben soll, kann <b>None</b> als Rückgabewert eingesetzt werden.  \n",
    "\n",
    "#### Beispiel zum Rückgabewert None"
   ]
  },
  {
   "cell_type": "code",
   "execution_count": null,
   "metadata": {},
   "outputs": [],
   "source": [
    "def user_handling(name):\n",
    "    \"\"\"Greets only if the argument \"name\" is an admin's name\"\"\"\n",
    "    if check_admin(name) == True:\n",
    "        return print('Welcome admin!')\n",
    "    return None"
   ]
  },
  {
   "cell_type": "code",
   "execution_count": null,
   "metadata": {},
   "outputs": [],
   "source": [
    "user_handling('Some User')"
   ]
  },
  {
   "cell_type": "code",
   "execution_count": null,
   "metadata": {},
   "outputs": [],
   "source": [
    "print(user_handling('Some User'))"
   ]
  },
  {
   "cell_type": "markdown",
   "metadata": {},
   "source": [
    "Damit reagiert die Funktion nur auf tatsächlich zutreffende Fälle.  \n",
    "\n",
    "**Doch auch ohne Expression nach ``return`` liefert eine Funktion <b>None</b>:**   "
   ]
  },
  {
   "cell_type": "code",
   "execution_count": null,
   "metadata": {},
   "outputs": [],
   "source": [
    "def user_handling(name):\n",
    "    \"\"\"Greets only if the argument \"name\" is an admin's name\"\"\"\n",
    "    if check_admin(name) == True:\n",
    "        return print('Welcome admin!')\n",
    "    return"
   ]
  },
  {
   "cell_type": "code",
   "execution_count": null,
   "metadata": {},
   "outputs": [],
   "source": [
    "print(user_handling('Some User'))"
   ]
  },
  {
   "cell_type": "markdown",
   "metadata": {},
   "source": [
    "**Es ist ist deshalb eher eine Geschmacksfrage, ob du None explizit einsetzt oder nicht. Für die Lesbarkeit deines Codes ist der explizite Einsatz ein Plus. Andere werden deinen Code damit auch schneller verstehen können.**  \n",
    "\n",
    "In jedem Fall kann <b>None</b> als Rückgabewert weiterverwendet werden, wie die folgenden zwei Beispiele zeigen:"
   ]
  },
  {
   "cell_type": "code",
   "execution_count": null,
   "metadata": {},
   "outputs": [],
   "source": [
    "# explizites None als Rückgabewert\n",
    "\n",
    "def user_handling(name):\n",
    "    \"\"\"Greets only if the argument \"name\" is an admin's name\"\"\"\n",
    "    if check_admin(name) == True:\n",
    "        return print('Welcome admin!')\n",
    "    return None\n",
    "\n",
    "# hier weiterverwendet\n",
    "if user_handling('Some User') == None:\n",
    "    print('user is not an admin')"
   ]
  },
  {
   "cell_type": "code",
   "execution_count": null,
   "metadata": {},
   "outputs": [],
   "source": [
    "# nicht explizites None als Rückgabewert\n",
    "\n",
    "def user_handling(name):\n",
    "    \"\"\"Greets only if the argument \"name\" is an admin's name\"\"\"\n",
    "    if check_admin(name) == True:\n",
    "        return print('Welcome admin!')\n",
    "    return\n",
    "\n",
    "# hier weiterverwendet\n",
    "if user_handling('Some User') == None:\n",
    "    print('user is not an admin')"
   ]
  },
  {
   "cell_type": "markdown",
   "metadata": {},
   "source": [
    "<div class=\"alert alert-block alert-warning\">\n",
    "    <font size=\"3\"><b>Übung zu nutzerdefinierten Funktionen und Conditions:</b></font>  \n",
    "<br>\n",
    "    \n",
    "Schreibe eine Funktion, die zwei Argumente dahingehend überprüft, ob das erste Argument größer, gleich oder kleiner als das zweite ist.  \n",
    "\n",
    "* Ist Argument 1 größer als Argument 2, ist der gewünschte Rückgabewert: 1\n",
    "* Ist Argument 1 gleich Argument 2, ist der gewünschte Rückgabewert: 0\n",
    "* Ist Argument 1 kleiner als  Argument 2, ist der gewünschte Rückgabewert: -1\n",
    "\n",
    "Zu jeder der drei Möglichkeiten soll ein Rückgabewert verfügbar sein.  \n",
    "Dokumentiere diese Funktion.  \n",
    "<br>\n",
    "\n",
    "Hinweis: Die Rückgabewerte 1, 0, -1 für die Vergleiche von Variablenwerten werden in der Informatik verbreitet eingesetzt. Je nach Programmiersprache sind sie feste Größen in built-in Vergleichsfunktionen. Weil sie mit 1, 0, -1 eindeutige Werte liefern, können die Vergleiche für andere Programmteile genutzt werden. Zum Beispiel könnte ein Vergleich, der eine 1 liefert, dazu führen, dass das kleinere Element nicht in eine Liste eingetragen wird.  \n",
    "<br>\n",
    "\n",
    "Die von dir geschriebene Funktion kann Zahlen, aber auch Strings jeweils miteinander vergleichen (wenn du sie nicht überkompliziert aufgezogen hast). Probier es aus ;-)\n",
    "</div>"
   ]
  },
  {
   "cell_type": "code",
   "execution_count": null,
   "metadata": {},
   "outputs": [],
   "source": []
  },
  {
   "cell_type": "code",
   "execution_count": null,
   "metadata": {},
   "outputs": [],
   "source": []
  },
  {
   "cell_type": "markdown",
   "metadata": {},
   "source": [
    "### Nutzerdefinierte Funktionen mit Loops\n",
    "\n",
    "Um in nutzerdefinierten Funktionen auch Iterables als Argumente behandeln zu können, benötigst du in diesen Funktionen auch Loops. Denn nur über Loops kannst du Iterable-Elemente durchlaufen.  \n",
    "\n",
    "Du kannst alle Arten von Loops in Funktionen einbauen und sie innerhalb einer Funktion beliebig verschachteln. Es folgen ein paar Beispiele.  \n",
    "<br>\n",
    "\n",
    "#### 1. Beispiel zu einer nutzerdefinierten Funktion mit einem For-Loop\n",
    "\n",
    "Eine Funktion, welche die Werte einer Liste ausgibt, sieht zum Beispiel so aus:"
   ]
  },
  {
   "cell_type": "code",
   "execution_count": null,
   "metadata": {},
   "outputs": [],
   "source": [
    "def print_lst(lst):\n",
    "    \"\"\"Prints the elements of a list argument.\"\"\"\n",
    "    for i in lst:\n",
    "        print(i)"
   ]
  },
  {
   "cell_type": "code",
   "execution_count": null,
   "metadata": {},
   "outputs": [],
   "source": [
    "points = [2225, 1835, 2050]\n",
    "\n",
    "print_lst(points)"
   ]
  },
  {
   "cell_type": "markdown",
   "metadata": {},
   "source": [
    "Auch der For-Loop innerhalb einer Funktion ist um 4 weitere Leerzeichen/1 weiteren Tab-Abstand eingerückt.  \n",
    "\n",
    "Jede Liste und darüber hinaus jedes Iterable kann dieser Funktion als Argument übergeben werden. Das liegt daran, dass bei einer Variablendefinition in Python nicht gleichzeitig der Datentyp der Variable festgelegt wird.  \n",
    "\n",
    "Die soeben gezeigte Funktion wäre also, auch für andere verständlicher, besser so geschrieben:"
   ]
  },
  {
   "cell_type": "code",
   "execution_count": null,
   "metadata": {},
   "outputs": [],
   "source": [
    "def print_iterable(iterable):\n",
    "    \"\"\"Prints the elements of an iterable argument.\"\"\"\n",
    "    for i in iterable:\n",
    "        print(i)"
   ]
  },
  {
   "cell_type": "markdown",
   "metadata": {},
   "source": [
    "Bei der Übergabe eines Dictionarys werden nur die Keys ausgegeben:"
   ]
  },
  {
   "cell_type": "code",
   "execution_count": null,
   "metadata": {},
   "outputs": [],
   "source": [
    "d = {1:1, 2:4, 3:9}\n",
    "\n",
    "print_iterable(d)"
   ]
  },
  {
   "cell_type": "markdown",
   "metadata": {},
   "source": [
    "Doch auch auf die Keys <b>und</b> Values kann in einer Funktion zugegriffen werden.  \n",
    "\n",
    "Du verwendest dafür wie gehabt einen For-Loop mit zwei Variablen für den aktuellen Key und Value. Auch die Funktion ``.items()`` brauchst du erneut, um auf die Keys und Values gleichzeitig zugreifen zu können. \n",
    "\n",
    "#### 2. Beispiel zu einer nutzerdefinierten Funktion mit einem For-Loop"
   ]
  },
  {
   "cell_type": "code",
   "execution_count": null,
   "metadata": {},
   "outputs": [],
   "source": [
    "def print_dct(dct):\n",
    "    \"\"\"Prints the elements of a dictionary argument.\"\"\"\n",
    "    for k,v in dct.items():\n",
    "        print(f'Key: {k}, Value: {v}\\n')"
   ]
  },
  {
   "cell_type": "code",
   "execution_count": null,
   "metadata": {},
   "outputs": [],
   "source": [
    "d = {1:1, 2:4, 3:9}\n",
    "\n",
    "print_dct(d)"
   ]
  },
  {
   "cell_type": "markdown",
   "metadata": {},
   "source": [
    "#### 3. Beispiel zu einer nutzerdefinierten Funktion mit einem For-Loop\n",
    "\n",
    "Diese Funktion ist etwas komplizierter aufgebaut:"
   ]
  },
  {
   "cell_type": "code",
   "execution_count": null,
   "metadata": {},
   "outputs": [],
   "source": [
    "def check2000up(itrbl):\n",
    "    count = 0\n",
    "    for i in itrbl:\n",
    "        if i >= 2000:\n",
    "            count += 1\n",
    "    return count"
   ]
  },
  {
   "cell_type": "markdown",
   "metadata": {},
   "source": [
    "Versuche zu verstehen, was in dieser Funktion passiert. Führe erst dann die folgende Code-Zelle aus, wenn du dir vorstellen kannst, was das Ergebnis der Funktion sein wird."
   ]
  },
  {
   "cell_type": "code",
   "execution_count": null,
   "metadata": {},
   "outputs": [],
   "source": [
    "profits = [2225, 1835, 2050]\n",
    "\n",
    "check2000up(profits)"
   ]
  },
  {
   "cell_type": "markdown",
   "metadata": {},
   "source": [
    "Hast du richtig gelegen?  \n",
    "\n",
    "Wenn nicht, folgt nun eine kurze Erklärung:  \n",
    "\n",
    "Jeder Wert des übergebenen Iterables wird gecheckt, ob er gleich oder über 2000 liegt. Die zuvor definierte Variable <b>count</b> wird bei jedem True der If-Abfrage um 1 erhöht. Die Summe aller Werte, die gleich oder größer 2000 waren, wird schließlich ausgegeben.  \n",
    "\n",
    "**Zu beachten ist, dass das Return-Statement auf der richtigen Einrückungsstufe steht: gleichrangig zu ``for``.**  \n",
    "\n",
    "Was wird wohl passieren, wenn es gleichrangig zu ``if`` gesetzt wird?"
   ]
  },
  {
   "cell_type": "code",
   "execution_count": null,
   "metadata": {},
   "outputs": [],
   "source": [
    "def check2000up(itrbl):\n",
    "    \"\"\"Counts values of given iterable that are equal to or above 2000 and returns the result.\"\"\"\n",
    "    count = 0\n",
    "    for i in itrbl:\n",
    "        if i >= 2000:\n",
    "            count += 1\n",
    "        return count"
   ]
  },
  {
   "cell_type": "code",
   "execution_count": null,
   "metadata": {},
   "outputs": [],
   "source": [
    "profits = [2225, 1835, 2050]\n",
    "\n",
    "check2000up(profits)"
   ]
  },
  {
   "cell_type": "markdown",
   "metadata": {},
   "source": [
    "Dieses Ergebnis stimmt offensichtlich nicht. Woran liegt das genau?  \n",
    "\n",
    "Erinne dich daran, was das Return-Statement verursacht: Es beendet die Funktion.  \n",
    "Mit dieser Formatierung wird, sobald ein Listenwert gleich/größer als 2000 ist, die Funktion beendet. Weil ``return`` dem ``for`` untergeordnet ist, kann der For-Loop also nicht bis zum Ende des Iterables laufen.  \n",
    "<br>\n",
    "\n",
    "Wenn For-Loops in user-defined Functions eingebaut werden können, können Comprehensions dann auch eingebaut werden?\n",
    "\n",
    "Ganz genau!\n",
    "\n",
    "#### Beispiel zu einer nutzerdefinierten Funktion mit einer List-Comprehension\n"
   ]
  },
  {
   "cell_type": "code",
   "execution_count": null,
   "metadata": {},
   "outputs": [],
   "source": [
    "def even_lst():\n",
    "    \"\"\"Returns list of even integers in range(20).\"\"\"\n",
    "    return [e for e in range(20) if e % 2 == 0]"
   ]
  },
  {
   "cell_type": "markdown",
   "metadata": {},
   "source": [
    "Die List-Comprehension wird hinter das Return-Statement gesetzt. Damit wird sie zum Rückgabewert, der über den Funktionsaufruf mit ``even_lst()`` erscheint:"
   ]
  },
  {
   "cell_type": "code",
   "execution_count": null,
   "metadata": {
    "scrolled": true
   },
   "outputs": [],
   "source": [
    "even_lst()"
   ]
  },
  {
   "cell_type": "markdown",
   "metadata": {},
   "source": [
    "Dasselbe funktioniert mit einer Dictionary-Comprehension.\n",
    "\n",
    "#### Beispiel zu einer nutzerdefinierten Funktion mit einer Dictionary-Comprehension\n",
    "\n",
    "Erinnerst du dich an dieses Beispiel aus der Einheit zu Dictionary-Comprehensions?"
   ]
  },
  {
   "cell_type": "code",
   "execution_count": null,
   "metadata": {},
   "outputs": [],
   "source": [
    "numbers = [1, 2, 3, 4, 5, 6, 7, 8, 9]\n",
    "\n",
    "squares_dct = {x:x**2 for x in numbers if x%2 != 0}\n",
    "\n",
    "print(squares_dct)"
   ]
  },
  {
   "cell_type": "markdown",
   "metadata": {},
   "source": [
    "Die Listenwerte wurden zu den Keys des Dictionarys. Die Values des Dictionarys wurden mit dem jeweiligen Key zum Quadrat befüllt.  \n",
    "\n",
    "**Das kannst du in eine Funktion umwandeln, die du immer wieder mit einem einfachen Aufruf anwenden kannst, indem du:**    \n",
    "1) Den Funktionsheader definierst, in dem in diesem Fall ein Iterable übergeben werden muss  \n",
    "2) Die Funktion nach \"good Practice\" in Python dokumentierst  \n",
    "3) Die Dictionary-Comprehension hinter das Return-Statement setzt  \n",
    "\n",
    "Das Ergebnis sieht so aus:"
   ]
  },
  {
   "cell_type": "code",
   "execution_count": null,
   "metadata": {},
   "outputs": [],
   "source": [
    "def squares_dct(itrbl):\n",
    "    \"\"\"Returns dictionary with the iterable values as keys and the squared keys as values.\"\"\"\n",
    "    return {x:x**2 for x in itrbl if x%2 != 0}"
   ]
  },
  {
   "cell_type": "markdown",
   "metadata": {},
   "source": [
    "Nun kann stattdessen diese Funktion angewendet werden, ohne die Dictionary-Comprehension immer wieder schreiben zu müssen:"
   ]
  },
  {
   "cell_type": "code",
   "execution_count": null,
   "metadata": {},
   "outputs": [],
   "source": [
    "squares_dct(numbers)"
   ]
  },
  {
   "cell_type": "markdown",
   "metadata": {},
   "source": [
    "**Wenn du das Ergebnis einer Funktion als feste Variable weiterverwenden möchtest, weise den Funktionsaufruf einer Variable zu:**"
   ]
  },
  {
   "cell_type": "code",
   "execution_count": null,
   "metadata": {},
   "outputs": [],
   "source": [
    "squaresdct_numbers = squares_dct(numbers)\n",
    "\n",
    "squaresdct_numbers"
   ]
  },
  {
   "cell_type": "markdown",
   "metadata": {},
   "source": [
    "Denn ``squares_dct(itrbl)`` wird mit jeder übergebenen Iterable ein anderes Ergebnis liefern. Wenn ein Funktionsaufruf also nicht direkt weiterverwendet wird, sondern für spätere Verwendungszwecke eine Variable mit dem Ergebnis benötigt wird, speichere den Rückgabewert auf diese Weise ab.  \n",
    "<br>\n",
    "\n",
    "\n",
    "#### Beispiel zu einer nutzerdefinierten Funktion mit einem While-Loop\n",
    "\n",
    "Ebenso wie alle anderen Operationen, die du bisher gelernt hast, können auch While-Loops in Funktionen untergebracht werden, z.B. so:"
   ]
  },
  {
   "cell_type": "code",
   "execution_count": null,
   "metadata": {},
   "outputs": [],
   "source": [
    "def range_lst(maxrange):\n",
    "    \"\"\"Creates list of integers with argument of maximum range, beginning from 0. Returns the created list.\"\"\"\n",
    "    c = 0\n",
    "    lst = []\n",
    "    while c < maxrange:\n",
    "        lst.append(c)\n",
    "        c += 1\n",
    "    return lst"
   ]
  },
  {
   "cell_type": "code",
   "execution_count": null,
   "metadata": {},
   "outputs": [],
   "source": [
    "range_lst(5)"
   ]
  },
  {
   "cell_type": "markdown",
   "metadata": {},
   "source": [
    "Diese Funktion erstellt also eine Integer-Liste bis zum angegebenen Range mit einem While-Loop.  \n",
    "<br>\n",
    "\n",
    "<div class=\"alert alert-block alert-info\">\n",
    "<font size=\"3\"><b>Tipp zur Erstellung von Funktionen:</b></font> \n",
    "<br>\n",
    "    \n",
    "Wenn du in Funktionen Variablen definierst und Berechnungen und Überschreibungen mit ihnen durchführst, können Funktionsergebnisse mitunter undurchsichtig werden.  \n",
    "\n",
    "Wenn du wissen möchtest, wann sich eine Funktionsvariable wie verändert, nutze die Print-Funktion innerhalb der Funktion, um dir einzelne Variablen und Rechenergebnisse ausgeben zu lassen.  \n",
    "\n",
    "Wenn deine Funktion dann so funktioniert, wie sie es soll, kannst du die Print-Befehle einfach wieder löschen :-)  \n",
    "</div>\n",
    "<br>\n",
    "<br>\n",
    "\n",
    "\n",
    "<div class=\"alert alert-block alert-warning\">\n",
    "    <font size=\"3\"><b>Übung zu nutzerdefinierten Funktionen und Loops:</b></font>  \n",
    "<br>\n",
    "    \n",
    "Schreibe eine Funktion, die den Durchschnitt aller Werte eines Iterables zurückgibt.  \n",
    "\n",
    "Nutze die Art von Loop dafür, die dir passend erscheint.  \n",
    "\n",
    "Dokumentiere auch diese Funktion.\n",
    "\n",
    "Teste deine Funktion mit für dich nachrechenbaren Werten.\n",
    "</div>"
   ]
  },
  {
   "cell_type": "code",
   "execution_count": null,
   "metadata": {},
   "outputs": [],
   "source": []
  },
  {
   "cell_type": "code",
   "execution_count": null,
   "metadata": {},
   "outputs": [],
   "source": []
  },
  {
   "cell_type": "markdown",
   "metadata": {},
   "source": [
    "<div class=\"alert alert-block alert-success\">\n",
    "<b>Glückwunsch!</b> Jetzt kennst du dich im Geltungsbereich von Variablen aus und kannst deine Funktionen mit Conditions, Loops und Comprehensions beliebig ausbauen.\n",
    "    \n",
    "Welche Argumente du an nutzerdefinierte Funktionen übergeben kannst, weißt du schon von der vorherigen Einheit. Doch es gibt noch weitere, mit denen du deine Funktionen viel flexibler gestalten kannst. Welche das sind und wie du sie einsetzen kannst, lernst du in der kommenden Einheit.\n",
    "</div>"
   ]
  },
  {
   "cell_type": "markdown",
   "metadata": {},
   "source": [
    "<div class=\"alert alert-block alert-info\">\n",
    "<h3>Das kannst du aus dieser Übung mitnehmen:</h3>\n",
    "\n",
    "* **Der Scope von Variablen**\n",
    "    * der Scope wird auch als Geltungsbereich/Bekanntheitsgrad bezeichnet\n",
    "    * Variablen können <b>lokal</b> oder <b>global</b> bekannt sein\n",
    "    * **lokal bekannte Variablen:**\n",
    "        * innerhalb einer Funktion definierte Variablen sind nur der Funktion bekannt => außerhalb der Funktion sind sie unbekannt\n",
    "        * auch innerhalb von Loops und Conditions definierte Variablen sind nur diesen Loops und Conditions bekannt\n",
    "        * eingerückt definierte Variablen sind nur den ebenfalls <b>nach</b> ihnen gleich oder weiter eingerückten Programmteilen bekannt\n",
    "        * auf lokale Variablen kann nicht global ( bzw. von hierarchisch über ihnen liegenden Programmteilen) zugegriffen werden\n",
    "    * **global bekannte Variablen:**\n",
    "        * alle nicht eingerückt definierten Variablen sind global bekannt => jeder andere Programmteil kann auf sie zugreifen\n",
    "        * der Rückgabewert einer global (nicht eingerückt) definierten Funktion ist global bekannt => andere Programmteile können ihn durch den korrekten Aufruf dieser Funktion verwenden\n",
    "        * die Definition der Funktion muss <b>vor</b> ihrem Aufruf stattfinden => sonst sind ihre Argumente nicht definiert\n",
    "    * Beispiel für den Scope von Variablen:\n",
    "        * ``def add(x):``\n",
    "            * ``\"\"\"Adds the argument x to itself and returns the result.\"\"\"``:\n",
    "            * ``result = x + x``\n",
    "            * ``return result``\n",
    "        * ein anderer Programmteil verwendet den Rückgabewert:\n",
    "        * ``multiply = 10 * add(4)``\n",
    "        * ``multiply``\n",
    "        * Output: 80\n",
    "        * => ``x`` und ``result`` sind nur der Funktion bekannt, außerhalb von ihr kennt sie kein anderer Programmteil\n",
    "        * => weil ``add()`` vor ``multiply`` definiert wurde, kann ``multiply`` den Rückgabewert von ``add(4)`` verwenden\n",
    "        * => weil ``multiply`` erst nach ``add()`` und der Definition von ``multiply`` aufgerufen wird, können ``add()`` und ``multiply`` miteinander verzahnt arbeiten\n",
    "        * => wäre ``x`` oberhalb von ``add()`` definiert worden (z.B.: ``x = 3``), könnte ``add()`` es ohne Angabe von Argumenten in seinem Funktionsbody verwenden\n",
    "        * => ``multiply`` kann ``add()`` nicht verwenden, ohne innerhalb von ``multiply`` an ``add()`` ein Argument zu übergeben (``add(4)``)\n",
    "    * weil Funktionsvariablen nur in ihrer Funktion lokal bekannt sind, können ihre Namen von anderen Funktionen/Variablen immer wieder verwendet werden, ohne dass es zu Überschreibungen kommt\n",
    "        * z.B. könnte jede nutzerdefinierte Funktion den Rückgabewert \"result\" haben, das jeweilige \"result\" bliebe unique\n",
    "    * **Merke:** Übergeordnete/weniger eingerückte Variablendefinitionen sind dem Code auf gleichen und darunterliegenden, weiter eingerückten Einrückungsstufen immer bekannt.   \n",
    "<br>\n",
    "* **Conditions in nutzerdefinierten Funktionen**\n",
    "    * steuern den Control-Flow in einer Funktion, sodass sie verschiedene Rückgabewerte liefern kann\n",
    "    * jedes If-/Elif-/Else-Statement benötigt einen eigenen Rückgabewert über ``return``, wenn die Funktion verschiedene Ergebnisse liefern können soll\n",
    "    * sind - wie alles im Funktionsbody - um 4 Leerzeichen/1 Tab-Abstand einzurücken\n",
    "    * Beispiel für eine Condition in einer Funktion:\n",
    "        * ``def user_handling(name):``\n",
    "            * ``\"\"\"Greets only if the argument \"name\" is an admin's name\"\"\"``\n",
    "            * ``if check_admin(name) == True:``\n",
    "                * ``return print('Welcome admin!')``\n",
    "            * ``return None``\n",
    "        * Erklärung: ``else`` muss hier nicht angegeben werden, weil ``return None`` automatisch erfolgt, wenn das If-Statement zu einem False führt. ``None`` muss als Rückgabewert nicht explizit angegeben werden, weil ein ``return`` ohne Expression automatisch ``None`` liefert. Aus Gründen der besseren Lesbarkeit kann ``None`` jedoch angegeben werden. Bei ``return`` oder``return None`` hat die Funktion den Rückgabewert ``None`` => es passiert sozusagen nichts, wenn das If-Statement nicht zutrifft.\n",
    "    * <b>None</b> kann aber durchaus als Rückgabewert einer Funktion weiterverwendet werden\n",
    "    * Beispiel für die Weiterverwendung des Rückgabewertes None:\n",
    "        * ``if user_handling('Some User') == None:``\n",
    "            * ``print('user is not an admin')``    \n",
    "<br>\n",
    "* **Loops in nutzerdefinierten Funktionen**\n",
    "    * alle Arten von Loops, auch verschachtelte Loops, können in nutzerdefinierte Funktionen eingebaut werden\n",
    "    * mit ihnen kann innerhalb einer Funktion über Iterables iteriert werden\n",
    "    * Beispiel zu einem For-Loop:\n",
    "        * ``def check2000up(itrbl):``\n",
    "            * ``\"\"\"Counts values of given iterable that are equal to or above 2000 and returns the result.\"\"\"``\n",
    "            * ``count = 0``\n",
    "            * ``for i in itrbl:``\n",
    "                * ``if i >= 2000:``\n",
    "            * ``return count``\n",
    "    * => **In Python werden Datentypen nicht festgelegt. Deshalb kann jeder Funktion jeder Datentyp übergeben werden, solange das nicht innerhalb der Operationen der Funktion zu Fehlern führt.**\n",
    "    * => ``return`` muss gleich eingerückt zum For-Loop gesetzt werden, denn es beendet den For-Loop sowie die Funktion sonst vorzeitig  \n",
    "    * Beispiel zu einem While-Loop:\n",
    "    * ``def range_lst(maxrange):``\n",
    "        * ``\"\"\"Creates list of integers with argument of maximum range, beginning from 0. Returns the created list.\"\"\"``\n",
    "        * ``c = 0``\n",
    "        * ``lst = []``\n",
    "        * ``while c < maxrange:``\n",
    "            * ``lst.append(c)``\n",
    "            * ``c += 1``\n",
    "        * ``return lst``\n",
    "    * => auch hier muss ``return`` gleich eingerückt zum While-Loop gesetzt werden, denn sonst beendet es den While-Loop sowie die Funktion vorzeitig  \n",
    "<br>\n",
    "* **Comprehensions in nutzerdefinierten Funktionen**\n",
    "    * auch alle Arten von Comprehensions können in nutzerdefinierten Funktionen eingesetzt werden\n",
    "    * Beispiel:\n",
    "        * ``def squares_dct(itrbl):``\n",
    "            * ``\"\"\"Returns dictionary with the iterable values as keys and the squared keys as values.\"\"\"``\n",
    "            * ``return {x:x**2 for x in itrbl if x%2 != 0}``\n",
    "    * => die Comprehension kann direkt hinter das Return-Statement gesetzt werden  \n",
    "<br>\n",
    "* **Allgemeine Tipps zur Erstellung von Funktionen**\n",
    "    * verwende ``print()`` innerhalb von Funktionen, wenn du dir Funktionsergebnisse nicht erklären kannst\n",
    "        * über ``print()`` kannst du dir Zwischenergebnisse anzeigen lassen und diese gegebenenfalls korrigieren\n",
    "        * wenn deine Funktion richtig funktioniert, kannst du die Print-Funktionen löschen oder auskommentieren\n",
    "    * benötigst du den Rückgabewert einer Funktion fest abgespeichert, weise diesen einer Variablen zu\n",
    "        * Beispiel: \n",
    "            * ``squarednums_lst = squarednums([1,2,3])``\n",
    "            * => auf diese Weise ist genau dieses Funktionsergebnis mit genau dieser Liste fest abgespeichert und kann immer wieder an anderer Stelle verwendet werden\n",
    "</div>"
   ]
  }
 ],
 "metadata": {
  "kernelspec": {
   "display_name": "Python 3",
   "language": "python",
   "name": "python3"
  },
  "language_info": {
   "codemirror_mode": {
    "name": "ipython",
    "version": 3
   },
   "file_extension": ".py",
   "mimetype": "text/x-python",
   "name": "python",
   "nbconvert_exporter": "python",
   "pygments_lexer": "ipython3",
   "version": "3.7.3"
  }
 },
 "nbformat": 4,
 "nbformat_minor": 2
}
