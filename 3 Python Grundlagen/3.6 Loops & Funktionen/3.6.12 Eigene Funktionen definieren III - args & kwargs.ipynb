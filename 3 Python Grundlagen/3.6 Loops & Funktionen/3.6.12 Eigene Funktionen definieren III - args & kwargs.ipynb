{
 "cells": [
  {
   "cell_type": "markdown",
   "metadata": {},
   "source": [
    "#  3.6 Loops & Funktionen\n",
    "\n",
    "## 3.6.12 Eigene Funktionen definieren III - args & kwargs\n",
    "\n",
    "Im Anschluss dieser Übungseinheit kannst du ...\n",
    "+ erklären, was args sind\n",
    "+ erkennen, wann du args am besten einsetzt\n",
    "+ Funktionen mit args definieren und sie damit flexibler gestalten\n",
    "+ den Unterschied zwischen args und kwargs erklären\n",
    "+ Funktionen auch mit kwargs flexibler gestalten\n",
    "+ nicht nur Funktionen mit args und kwargs definieren, sondern auch args und kwargs an Funktionen übergeben"
   ]
  },
  {
   "cell_type": "markdown",
   "metadata": {},
   "source": [
    "## 3.6.12 Eigene Funktionen definieren III - args & kwargs \n",
    "\n",
    "Der vorletzte Teil zur Erstellung nutzerdefinierter Funktionen beschäftigt sich mit dem Einsatz von Argumenten, die vorher noch nicht feststehen. Du kannst dir diese als eine Art Joker wie beim Kartenspielen vorstellen.  \n",
    "\n",
    "\n",
    "\n",
    "### Funktionen mit den Argumenten *args\n",
    "\n",
    "\"args\" steht für Argumente. Mit dem Asterisk vorgangestellt bedeutet \"<b>*</b>args\" beliebig viele Argumente.  \n",
    "Es wird eingesetzt, um Funktionen flexibler zu gestalten. Wenn bei der Funktionsdefinition nicht klar ist, wie viele Argumente übergeben werden oder wenn eine Funktion generell beliebig viele Argumente aufnehmen soll, ist *args die richtige Wahl.  \n",
    "\n",
    "#### 1. Beispiel zu *args\n",
    "\n",
    "Dieses Beispiel funktioniert mit zwei Argumenten:"
   ]
  },
  {
   "cell_type": "code",
   "execution_count": null,
   "metadata": {},
   "outputs": [],
   "source": [
    "def print_args(*args):\n",
    "    \"\"\"Prints all given arguments with argument *args.\"\"\"\n",
    "    print(args, end=' ')\n",
    "        \n",
    "        \n",
    "print_args('Hello', 'Who')"
   ]
  },
  {
   "cell_type": "markdown",
   "metadata": {},
   "source": [
    "Es funktioniert aber auch mit beliebig vielen weiteren:"
   ]
  },
  {
   "cell_type": "code",
   "execution_count": null,
   "metadata": {},
   "outputs": [],
   "source": [
    "print_args('Hello!', 'Who', 'are', 'you?')"
   ]
  },
  {
   "cell_type": "markdown",
   "metadata": {},
   "source": [
    "Der Asterisk von *args sagt Python, dass die Werte als Tuple übergeben werden.  Falls du dich erinnerst: Ein Tuple wird auch mit runden Klammern und einem Komma zwischen den Werten definiert, z.B. so: ``tup = (1, 2, 3)``. Ein Tuple ist iterierbar, weshalb Python die übergebenen Argumente nacheinander einlesen kann.  \n",
    "\n",
    "\n",
    "Bei einer festgelegten Zahl von Argumenten können wir nicht einfach von der vorgebenen Anzahl abweichen:"
   ]
  },
  {
   "cell_type": "code",
   "execution_count": null,
   "metadata": {},
   "outputs": [],
   "source": [
    "def print_greeting(greeting,name):\n",
    "    \"\"\"Prints the arguments greeting and name.\"\"\"\n",
    "    print(f'{greeting} {name}!')\n",
    "               \n",
    "print_greeting('Hi', 'darling')"
   ]
  },
  {
   "cell_type": "markdown",
   "metadata": {},
   "source": [
    "Bei mehr als zwei Argumenten kommt es zu einem <font color=darkred>TypeError</font>:"
   ]
  },
  {
   "cell_type": "code",
   "execution_count": null,
   "metadata": {},
   "outputs": [],
   "source": [
    "print_greeting('Hi', 'darling', 'How are you?')"
   ]
  },
  {
   "cell_type": "markdown",
   "metadata": {},
   "source": [
    "Falls also nicht von vornherein feststeht, wie viele Argumente in die Funktion aufgenommen werden, verwende *args.  \n",
    "\n",
    "**Aber Achtung:** Wenn die Anzahl der Argumente von vornherein feststeht, ist *args zu vermeiden. Denn, wenn du später viele miteinander verzahnte Funktionen hast, von denen einige mit *args beliebig viele Argumente aufnehmen, wird es schwerer einen Fehler zu finden.  \n",
    "\n",
    "**Die Stärke von *args ist auch seine Schwäche: Es kann zwar beliebig viele Argumente aufnehmen, doch wenn diese verschieden und beliebig viele sein können, kann das bei größeren Datenmengen zu unvorhersehbaren und schwerer nachvollziehbaren Fehlern führen.**  \n",
    "\n",
    "*args können auch im Zusammenhang mit feststehenden Argumenten verwendet werden.  \n",
    "\n",
    "#### 2. Beispiel zu *args\n",
    "\n",
    "An dem folgenden Beispiel gibt es einiges Interessantes zu beachten:  \n",
    "* <b>*\\*args</b> kann beliebig (Python-konform) benamt werden, solange es mit einem Asterisk zu Beginn gekennzeichnet wird - im unteren Beispiel entspricht es <b>*\\*numbers</b>\n",
    "* <b>*args</b> gehört zu den non-default Argumenten. Deshalb muss es in den Funktionsklammern vor die default Argumente gesetzt werden\n",
    "* um über <b>*args</b> zu iterieren, wird ein Loop eingesetzt"
   ]
  },
  {
   "cell_type": "code",
   "execution_count": null,
   "metadata": {},
   "outputs": [],
   "source": [
    "def multisum_numbers(*numbers, multiplicator=1):\n",
    "    \"\"\"Multiplies each number of any amount of given numbers (1st argument: *numbers)\n",
    "    with a multiplictor (2nd argument: multiplicator=1) and returns the sum of all multiplications.\"\"\"\n",
    "    result = 0\n",
    "    for n in numbers:\n",
    "        print(f'number: {n}')\n",
    "        print(f'multiplicator: {multiplicator}')\n",
    "        result += n * multiplicator\n",
    "    return (result)\n",
    "\n",
    "multisum_numbers(2,3)"
   ]
  },
  {
   "cell_type": "markdown",
   "metadata": {},
   "source": [
    "Die übergebenen Argumente 2,3 wurden beide als Argumente von <b>*numbers</b> erkannt.  \n",
    "\n",
    "Der Multiplikator, der mit jeder Zahl multipliziert wird, kann wie gewohnt über sein Keyword verändert werden:"
   ]
  },
  {
   "cell_type": "code",
   "execution_count": null,
   "metadata": {},
   "outputs": [],
   "source": [
    "multisum_numbers(2,3,multiplicator=2)"
   ]
  },
  {
   "cell_type": "markdown",
   "metadata": {},
   "source": [
    "**Listen und Tuples können, wenn sie bei der Argumentübergabe mit einem Asterisk vorangestellt gekennzeichnet werden, entpackt werden. Das bedeutet, sie werden in ihre Einzelelemente zerlegt. So wird jedes Listen-/Tuple-Element zu einem einzelnen Argument für die Funktion:**"
   ]
  },
  {
   "cell_type": "code",
   "execution_count": null,
   "metadata": {},
   "outputs": [],
   "source": [
    "def multisum_numbers(*numbers, multiplicator=1):\n",
    "    \"\"\"Multiplies each number of any amount of given numbers (1st argument: *numbers)\n",
    "    with a multiplictor (2nd argument: multiplicator=1) and returns the sum of all multiplications.\"\"\"\n",
    "    result = 0\n",
    "    for n in numbers:\n",
    "        print(n)\n",
    "        result += n * multiplicator\n",
    "    return (result)\n",
    "\n",
    "\n",
    "# mit einer Liste\n",
    "multisum_numbers(*[2,3])"
   ]
  },
  {
   "cell_type": "code",
   "execution_count": null,
   "metadata": {},
   "outputs": [],
   "source": [
    "# mit einem Tuple\n",
    "multisum_numbers(*(2,3))"
   ]
  },
  {
   "cell_type": "markdown",
   "metadata": {},
   "source": [
    "**Diese Notation kann sogar für Funktionen verwendet werden, in denen keine \"*args\"-Argumente definiert wurden:**"
   ]
  },
  {
   "cell_type": "code",
   "execution_count": null,
   "metadata": {},
   "outputs": [],
   "source": [
    "def add_elems(arg1, arg2, arg3):\n",
    "    \"\"\"Adds 3 arguments and returns the sum.\"\"\"\n",
    "    result = arg1 + arg2 + arg3\n",
    "    return result\n",
    "\n",
    "add_elems(*[1,2,3])"
   ]
  },
  {
   "cell_type": "markdown",
   "metadata": {},
   "source": [
    "In so einem Fall ist wieder darauf zu achten, dass die Anzahl der Listen-/Tuple-Elemente der Anzahl der Funktionsargumente entspricht.  \n",
    "\n",
    ">Übrigens wird der Asterisk wegen seiner Entpackungseigenschaft auch **Entpackungsoperator** (engl.: unpacking operator) genannt.\n",
    "<br>\n",
    "\n",
    "<div class=\"alert alert-block alert-warning\">\n",
    "    <font size=\"3\"><b>Übung zu nutzerdefinierten Funktionen und *args:</b></font>  \n",
    "<br>\n",
    "    \n",
    "Schreibe eine Funktion, die beliebig viele Zahlen miteinander addiert und die Summe zurückgibt.\n",
    "</div>"
   ]
  },
  {
   "cell_type": "code",
   "execution_count": null,
   "metadata": {},
   "outputs": [],
   "source": []
  },
  {
   "cell_type": "markdown",
   "metadata": {},
   "source": [
    "### Nutzerdefinierte Funktionen mit **kwargs\n",
    "\n",
    "**kwargs ist die Kurzform für \"<b>K</b>ey<b>w</b>ord <b>Arg</b>ument<b>s</b>\". Die zwei Asterisk zu Beginn von kwargs stehen wieder für beliebig viele dieser Argumente.  \n",
    "\n",
    "Warum sind es diesmal zwei?  \n",
    "Jeder Key hat einen Value. Keys und Values werden mit den zwei Asterisk erfasst bzw. entpackt.  \n",
    "kwargs sind also für den Einsatz von Key-Value-Paaren bzw. auch Dictionarys geschaffen.  \n",
    "\n",
    "Der Name \"kwargs\" ist dabei beliebig (solange Python-konform) änderbar. Du erkennst kwargs immer an den zwei vorangestellten Asterisken, auch bei einem anderen Namen.    \n",
    "\n",
    "Wie args dienen kwargs dazu, Funktionen flexibler zu gestalten.  \n",
    "\n",
    "Auch für **kwargs gilt: Setze sie nur ein, wenn du die Anzahl der Argumente ganz sicher nicht vorher kennst.**  \n",
    "\n",
    "Das folgende Beispiel ist wie das 2. Beispiel zu For-Loops aus dieser Einheit, nur, dass hier kwargs eingesetzt werden.\n",
    "\n",
    "#### 1. Beispiel zu **kwargs mit Zugriff auf Keys und Values"
   ]
  },
  {
   "cell_type": "code",
   "execution_count": null,
   "metadata": {},
   "outputs": [],
   "source": [
    "def print_keysvalues(**kwargs):\n",
    "    \"\"\"Prints given key-value pairs with argument **kwargs.\"\"\"\n",
    "    for k,v in kwargs.items():\n",
    "        print(f'Key: {k}, Value: {v}\\n')"
   ]
  },
  {
   "cell_type": "markdown",
   "metadata": {},
   "source": [
    "Die Funktionsdefinition im Header ist analog zu der mit args.  \n",
    "\n",
    "Im Funktionsbody kommt es darauf an, ob auf die Keys und Values oder nur auf die Keys oder nur auf die Values zugegriffen werden soll:  \n",
    "\n",
    "1) Soll auf die Keys und Values zugegriffen werden, benötigst du zwei Variablen für diese und die Funktion ``.items()``.    \n",
    "2) Soll auf die Keys zugegriffen werden, benötigst du nur eine Variable für sie und **optional** die Funktion ``.keys()``. Denn ohne konkrete Angabe einer weiteren Funktion wird automatisch auf die Dictionary-Keys zugegriffen.  \n",
    "3) Soll auf die Values zugegriffen werden, benötigst du nur eine Variable für sie und die Funktion ``.values()``.  \n",
    "\n",
    "Fall 1) siehst du im 1. Beispiel.\n",
    "\n",
    "#### 2. Beispiel zu **kwargs mit Zugriff auf Keys  \n",
    "\n",
    "Ohne extra Angabe von ``.keys()``:"
   ]
  },
  {
   "cell_type": "code",
   "execution_count": null,
   "metadata": {},
   "outputs": [],
   "source": [
    "def print_keys1(**kwargs):\n",
    "    \"\"\"Prints keys of given key-value pairs with argument **kwargs.\"\"\"\n",
    "    for k in kwargs:\n",
    "        print(f'Key: {k}\\n')"
   ]
  },
  {
   "cell_type": "markdown",
   "metadata": {},
   "source": [
    "#### 3. Beispiel zu **kwargs mit Zugriff auf Keys  \n",
    "\n",
    "Mit zusätzlicher Angabe von ``.keys()`` (wird zu selbem Ergebnis führen):"
   ]
  },
  {
   "cell_type": "code",
   "execution_count": null,
   "metadata": {},
   "outputs": [],
   "source": [
    "def print_keys2(**kwargs):\n",
    "    \"\"\"Prints keys of given key-value pairs with argument **kwargs.\"\"\"\n",
    "    for k in kwargs.keys():\n",
    "        print(f'Key: {k}\\n')     "
   ]
  },
  {
   "cell_type": "markdown",
   "metadata": {},
   "source": [
    "#### 4. Beispiel zu **kwargs mit Zugriff auf Values"
   ]
  },
  {
   "cell_type": "code",
   "execution_count": null,
   "metadata": {},
   "outputs": [],
   "source": [
    "def print_values(**kwargs):\n",
    "    \"\"\"Prints values of given key-value pairs with argument **kwargs.\"\"\"\n",
    "    for v in kwargs.values():\n",
    "        print(f'Value: {v}\\n')"
   ]
  },
  {
   "cell_type": "markdown",
   "metadata": {},
   "source": [
    "#### Übergabe von Argumenten mit **kwargs\n",
    "\n",
    "Weil an eine Funktion mit kwargs auch Key-Value-Paare übergeben werden können, die nicht Teil eines Dictionarys sind, ist die Syntax für deren Übergabe verschieden zu der von key:value. Diese Syntax gleicht der Syntax beim Anlegen von Keyword- bzw. default Argumenten.  \n",
    "\n",
    "Du kennst diese Syntax auch von der Erstellung eines Dictionarys mit der Funktion ``dict()``. Darin werden die Keys nicht als String übergeben. Values, die Strings sind, werden aber in Anführungsstriche gesetzt.  \n",
    "\n",
    "Ebenso funktioniert die Argumentübergabe bei **kwargs: "
   ]
  },
  {
   "cell_type": "code",
   "execution_count": null,
   "metadata": {},
   "outputs": [],
   "source": [
    "print_keysvalues(a=1, b=2, c=3)"
   ]
  },
  {
   "cell_type": "markdown",
   "metadata": {},
   "source": [
    "**Beachte bitte genau, dass die Keywords nicht in Anführungsstriche gesetzt werden. Python würde diese Schreibweise mit einem SyntaxError ankreiden.**  \n",
    "\n",
    "Intern erhält die Funktion mit dieser Art der Argumentübergabe ein Dictionary: ``{'a':1, 'b':2, 'c':3}``  \n",
    "\n",
    "Mit den Funktionen aus dem 2. bis 4. Beispiel erhalten wir die folgenden Ergebnisse:"
   ]
  },
  {
   "cell_type": "code",
   "execution_count": null,
   "metadata": {},
   "outputs": [],
   "source": [
    "print_keys1(a=0, b=1, c=2)"
   ]
  },
  {
   "cell_type": "code",
   "execution_count": null,
   "metadata": {},
   "outputs": [],
   "source": [
    "print_keys2(a=0, b=1, c=2)"
   ]
  },
  {
   "cell_type": "code",
   "execution_count": null,
   "metadata": {},
   "outputs": [],
   "source": [
    "print_values(a=1, b=2, c=3)"
   ]
  },
  {
   "cell_type": "markdown",
   "metadata": {},
   "source": [
    "Die Anzahl der Key-Value-Paare kann dabei beliebig groß sein, denn dafür steht **kwargs: für beliebig viele Key-Value-Paare.\n",
    "\n",
    "Wenn wir hingegen ein nicht abgespeichertes Dictionary übergeben möchten, ist dieses mit seiner gewohnten Syntax in die Funktionsklammern zu setzen, <b>plus zwei Asterisk vorangestellt für den unpacking Operator</b>: "
   ]
  },
  {
   "cell_type": "code",
   "execution_count": null,
   "metadata": {},
   "outputs": [],
   "source": [
    "print_keysvalues(**{'a':1, 'b':2, 'c':3})"
   ]
  },
  {
   "cell_type": "markdown",
   "metadata": {},
   "source": [
    "Ein abgespeichertes Dictionary wird auch mit zwei vorangestellten Asterisk übergeben:"
   ]
  },
  {
   "cell_type": "code",
   "execution_count": null,
   "metadata": {},
   "outputs": [],
   "source": [
    "stud_dct = {'s1': 'Teo Stojanoff', 's2': 'Linda Süß', 's3': 'Nuria Coelho'}\n",
    "\n",
    "print_keysvalues(**stud_dct)"
   ]
  },
  {
   "cell_type": "markdown",
   "metadata": {},
   "source": [
    "Die übergebenen Key-Value-Paare können in der Funktion beliebig weiterverarbeitet werden. Zum Beispiel könnten diese Key-Value-Paare Produkte und ihre Preise sein oder sie könnten Ereignisse und deren Häufigkeiten abbilden, die zu statistischen Zwecken aufgenommen werden. Auch eine beliebige Anzahl von Daten auf einem Blog kann mit Hilfe von kwargs ausgelesen werden.\n",
    "\n",
    "\n",
    "<br>\n",
    "\n",
    "<div class=\"alert alert-block alert-warning\">\n",
    "    <font size=\"3\"><b>Übung zu nutzerdefinierten Funktionen und **kwargs:</b></font>  \n",
    "<br>\n",
    "    \n",
    "Für dein Business arbeitest du mit vielen Vertragspartnern zusammen. Es kommen immer wieder mal neue Partner hinzu und wenn sich die Kooperation nicht mehr lohnt, erneuerst du die Verträge mit diesen nicht.  \n",
    "    \n",
    "Du möchtest deshalb eine Funktion schreiben, die dir - unabhängig von der aktuellen Anzahl der Kooperationen - stets eine Übersicht über deine Geschäftspartner liefert.  \n",
    "<br>\n",
    "\n",
    "**a)** Schreibe eine Funktion, die beliebig viele Vertragspartner aufnehmen kann. Diese sollen in einer Übersicht ausgegeben werden. Exemplarisch soll ein Partner so in der Übersicht erscheinen: ``Partner: Sungsam => Einnahmen: 2567``. Die Übersicht soll alle Partner enthalten.  \n",
    "\n",
    "**b)** In dieser Funktion sollen auch die Gesamteinnahmen durch die Partner berechnet werden. Sie sollen am Ende der Übersicht erscheinen:  \n",
    "``Die Gesamteinnahmen betragen: 17075 Euro``.  \n",
    "Weil du die Gesamteinnahmen zur Weiterverarbeitung brauchst, sollen diese der Rückgabewert der Funktion sein.  \n",
    "<br>\n",
    "\n",
    "Teste deine Funktion mit dem gegebenen Dictionary zu deinen Business-Partnern. Verändere zum Testen ihre Anzahl. \n",
    "Dokumentiere auch diese Funktion.\n",
    "</div>"
   ]
  },
  {
   "cell_type": "code",
   "execution_count": null,
   "metadata": {},
   "outputs": [],
   "source": [
    "business_partner = dict(Sungsam=2567, Nixnatura=1732, Auawei=3032, Knurr=3598, Ickgehja=2365, Spreewell=3781)\n",
    "\n",
    "\n"
   ]
  },
  {
   "cell_type": "code",
   "execution_count": null,
   "metadata": {},
   "outputs": [],
   "source": []
  },
  {
   "cell_type": "markdown",
   "metadata": {},
   "source": [
    "<div class=\"alert alert-block alert-success\">\n",
    "<b>Glückwunsch!</b> Nun kannst du mit *args und **kwargs flexiblere Funktionen definieren und weißt auch, wann diese am besten einzusetzen sind.\n",
    "\n",
    "    \n",
    "Im letzten Kapitel zu nutzerdefinierten Funktionen lernst du, wie du mit eigenen Funktionen andere, eigene Funktionen erweitern kannst. Wenn nutzerdefinierte Funktionen als Dekorierer anderer Funktionen verwendet werden, wird ihr Einsatzgebiet dadurch noch universeller. Du lernst an Beispielen, wie du mit ihnen die Ausführungszeit von Code-Blöcken und Funktionen messen sowie Fehler abfangen kannst.   \n",
    "</div>"
   ]
  },
  {
   "cell_type": "markdown",
   "metadata": {},
   "source": [
    "<div class=\"alert alert-block alert-info\">\n",
    "<h3>Das kannst du aus dieser Übung mitnehmen:</h3>\n",
    "\n",
    "* ***args**\n",
    "    * steht für: beliebig viele positional/non-default bzw. Tuple-Argumente\n",
    "    * gestalten Funktionen flexibler, wenn bei ihrer Definition die Anzahl der zu übergebenden Argumente noch nicht feststeht\n",
    "    * sind zu vermeiden, wenn die genaue Anzahl der Argumente feststeht, denn sie können das Debugging/die Fehlerfindung erschweren\n",
    "    * alle positional/non-default Argumente werden als Tuple an eine Funktion übergeben, z.B. so: ``func(1, 2, 3)``\n",
    "        * in runden Klammern, mit einem Komma getrennt\n",
    "    * Beispiel:\n",
    "        * ``def multisum_numbers(*numbers, multiplicator=1):``\n",
    "            * ``\"\"\"Arguments: *numbers, multiplicator=1. Multiplies each number with the multiplicator. Returns summed up result.\"\"\"``\n",
    "            * ``result = 0``\n",
    "            * ``for n in numbers:``\n",
    "                * ``result += n * multiplicator``\n",
    "            * ``return (result)``\n",
    "        * Output bei Funktionsaufruf mit: ``multisum_numbers(2,3)``: 5\n",
    "        * => denn die als positional Argumente übergebenen Werte wurden je mit 1 multipliziert und dann addiert\n",
    "        * Output bei Funktionsaufruf mit: ``multisum_numbers(2,3,multiplicator=2)``: 10\n",
    "        * => denn die als positional Argumente übergebenen Werte wurden je mit 2 multipliziert und dann addiert\n",
    "        * => der Multiplikator wurde erst überschrieben, nachdem er explizit mit seinem Keyword übergeben wurde\n",
    "        * => alle nicht mit Keyword übergebenen Argumente werden als Teil von *numbers erkannt\n",
    "    * werden *args mit default Argumenten eingesetzt, sind sie <b>vor</b> den default Argumenten zu platzieren\n",
    "    * für *args kann jeder beliebiger Variablenname gewählt werden, solange dieser Python-konform ist und mit einem vorangestellten Asterisk versehen wird\n",
    "    * der Asterisk wird auch <b>unpacking Operator</b> genannt\n",
    "        * er kann bei der Argumentübergabe Datenstrukturen entpacken => sie in ihre Einzelelemente zerlegen\n",
    "        * Beispiel:\n",
    "            * ``multisum_numbers(*[1, 2, 3])``\n",
    "            * Output: 6\n",
    "            * => es wird gerechnet: 1x1 + 2x1 + 3x1\n",
    "            * => um entpackt werden zu können, muss die Liste in den Funktionsklammern mit einem vorangestellten Asterisk übergeben werden\n",
    "            * => auch eine in einer Variable abgespeicherte Liste müsste für diesen Zweck mit einem vorangestellten Asterisk übergeben werden\n",
    "        * auch Funktionen ohne *args können mit dieser Notation in der Argumentübergabe die übergebene Datenstruktur entpacken\n",
    "            * dabei ist es wichtig, dass die Anzahl der übergebenen Argumente mit der Anzahl der in der Funktion definierten Argumente übereinstimmt\n",
    "        * Beispiel:\n",
    "            * ``def add_elems(arg1, arg2, arg3):``\n",
    "                * ``\"\"\"Adds 3 arguments and returns the sum.\"\"\"``\n",
    "                * ``result = arg1 + arg2 + arg3``\n",
    "                * ``return result``\n",
    "            * ``add_elems(*[1,2,3])``\n",
    "            * Output: 6  \n",
    "<br>\n",
    "* ****kwargs**\n",
    "    * steht für: beliebig viele default bzw. Keyword-Argumente\n",
    "    * gestalten auch Funktionen flexibler, wenn bei ihrer Definition die Anzahl der zu übergebenden Keyword-Argumente noch nicht feststeht\n",
    "    * sind ebenfalls zu vermeiden, wenn die genaue Anzahl der Keyword-Argumente feststeht, denn sie können das Debugging/die Fehlerfindung erschweren\n",
    "    * benötigen zwei Asteriske: einen für die Keys, einen für die Values\n",
    "    * alle default/Keyword-Argumente werden als Dictionary an eine Funktion übergeben, z.B. so: ``func(a=1, b=2)``\n",
    "        * in runden Klammern, mit einem Komma getrennt und einem <b>=</b> zwischen: Key <b>=</b> Value\n",
    "        * das ist wie bei der Erstellung eines Dictionarys über die Funktion: ``dict(a=1, b=2)``\n",
    "            * die Keys werden dabei nicht als String in Anführungsstriche gesetzt\n",
    "            * String-Values benötigen hingegen Anführungsstriche\n",
    "            * intern erhält die Funktion mit dieser Argumentübergabe: ``{'a':1, 'b':2}`` => ein Dictionary            \n",
    "    * Beispiel:\n",
    "        * ``def print_keysvalues(**kwargs):``\n",
    "            * ``\"\"\"Prints given key-value pairs with argument **kwargs.\"\"\"``\n",
    "            * ``for k,v in kwargs.items():``\n",
    "                * ``print(f'Key: {k}, Value: {v}\\n')``\n",
    "        * => um auf die Keys und Values gleichzeitig zugreifen zu können, muss an kwargs die Funktion ``.items()`` eingesetzt werden\n",
    "        * => auch für \"kwargs\" könnte hier jeder andere, Python-konforme Name gewählt werden\n",
    "            * du erkennst kwargs stets an zwei vorangestellten Asterisken\n",
    "    * soll auf die Values von kwargs zugegriffen werden, ist die Funktion ``.values()`` einzusetzen\n",
    "    * auf die Keys der kwargs wird ohne nähere Angabe einer Funktion automatisch zugegriffen\n",
    "    * auch bei kwargs erfüllt der <b>unpacking Operator</b> seine Funktion, indem er übergebene Dictionarys, denen zwei Asteriske vorangestellt werden, in ihre Einzelteile zerlegt\n",
    "    * Beispiel:\n",
    "        * ``print_keysvalues(**{'a':1, 'b':2, 'c':3})``\n",
    "        * => auf diese Weise kann die Funktion die Key-Value-Paare voneinander getrennt erhalten\n",
    "        * => auch eine Variable, die ein Dictionary enthält, müsste für diesen Zweck mit zwei vorangestellten Asterisken versehen werden\n",
    "    * auch hier gilt für die Argumentübergabe: kwargs können auch Funktionen ohne kwargs übergeben werden, solange die Anzahl der Dictionary-Elemente mit der Anzahl der Funktionsargumente übereinstimmt.\n",
    "</div>"
   ]
  }
 ],
 "metadata": {
  "kernelspec": {
   "display_name": "Python 3",
   "language": "python",
   "name": "python3"
  },
  "language_info": {
   "codemirror_mode": {
    "name": "ipython",
    "version": 3
   },
   "file_extension": ".py",
   "mimetype": "text/x-python",
   "name": "python",
   "nbconvert_exporter": "python",
   "pygments_lexer": "ipython3",
   "version": "3.7.3"
  }
 },
 "nbformat": 4,
 "nbformat_minor": 2
}
