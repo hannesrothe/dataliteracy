{
 "cells": [
  {
   "cell_type": "markdown",
   "metadata": {},
   "source": [
    "#  3.6 Loops & Funktionen\n",
    "\n",
    "## 3.6.13 Eigene Funktionen definieren IV - Decorators\n",
    "\n",
    "Im Anschluss dieser Übungseinheit kannst du ...\n",
    "+ verstehen und erklären, wie praktisch und vielseitig Dekorierer einsetzbar sind\n",
    "+ eigene Dekorierer schreiben bzw. auch Funktionen in Dekorierer umschreiben\n",
    "+ mit args und kwargs universell einsetzbare Dekorierer schreiben\n",
    "+ mehrere Dekorierer gleichzeitig einsetzen\n",
    "+ dir mit Dekorierern zusätzliche Informationen zu Funktionen anzeigen lassen\n",
    "+ die Ausführungszeit von Code-Blöcken, Funktionen, Loops und Comprehensions messen\n",
    "+ mit Funktionen und Dekorierern Fehler abfangen und so Programmabstürze verhindern"
   ]
  },
  {
   "cell_type": "markdown",
   "metadata": {},
   "source": [
    "## 3.6.13 Eigene Funktionen definieren IV - Decorators\n",
    "\n",
    "Funktionen können beliebige Conditions und Loops enthalten, so auch andere Funktionen. In nutzerdefinierten Funktionen können sogar weitere nutzerdefinierte Funktionen definiert werden ;-)\n",
    "\n",
    "Man nennt dann die äußeren Funktionen <b>Wrapper-Funktionen</b>, weil sie sich um die inneren wickeln.  \n",
    "\n",
    "Die <b>Dekorierer</b> bzw. auf Englisch  <b>Decorators</b> sind auch äußere Funktionen. Mit ihnen können anderen Funktionen zusätzliche Funktionalitäten hinzugefügt werden. Um auf die anderen Funktionen angewendet werden zu können, beherbergen sie eine Wrapper-Funktion, die sich um diese andere Funktion wickelt. \n",
    "\n",
    "Dabei ist das Argument des Dekorierers - nennen wir es <b>x</b>, ein Funktionswert des Dekorierers <b>f</b> => <b>f(x)</b>.  \n",
    "<b>x</b> ist aber in diesem Fall selbst <b>eine Funktion</b>, die vom Dekorierer dekoriert wird. Und  <b>x</b> wird <b>in der inneren Funktion des Dekorierers - dem Wrapper - ausgeführt</b>.  \n",
    "\n",
    "Damit du dir das besser vorstellen kannst, kommen wir gleich zu einem Beispiel.  \n",
    "  \n",
    "\n",
    "#### Beispiel zur Definition einer Funktion in einer Funktion bzw. zur Erstellung eines Decorators\n",
    "\n",
    "In diesem Beispiel ist <b>x</b> das Argument <b>function</b>. Das ist die Funktion, die dem Dekorierer zum Dekorieren übergeben wird:"
   ]
  },
  {
   "cell_type": "code",
   "execution_count": null,
   "metadata": {},
   "outputs": [],
   "source": [
    "def pizza_decorator(function):\n",
    "    \"\"\"Decorates function argument with the execution of print('Ich lege mehr Zutaten auf die Pizza').\"\"\"\n",
    "    def wrapper():\n",
    "        print('Ich lege mehr Zutaten auf die Pizza')\n",
    "        function()\n",
    "    return wrapper"
   ]
  },
  {
   "cell_type": "markdown",
   "metadata": {},
   "source": [
    "#### Beispielhafter Aufbau eines Decorators  \n",
    "\n",
    "``def pizza_decorator(function):`` => Das ist der Header der äußeren Funktion, der Dekorierer. Ihm wird eine Funktion mit dem Argument <b>function</b> übergeben.  \n",
    "\n",
    "``def wrapper():`` => Hier wird die innere Funktion des Dekorierers definiert. Sie ist die, welche die hinzuzufügenden Funktionalitäten beherbergt. Sie wickelt sich als Wrapper um die übergebene Funktion <b>function</b>. Ein Dekorierer braucht immer eine innere Funktion/einen Wrapper. Nur in ihm können Argumente an die übergebene Funktion übertragen werden. Dieser hier nimmt keine Argumente auf. Doch wie das funktioniert, erfährst du noch.  \n",
    "\n",
    "``print('Ich lege mehr Zutaten auf die Pizza')`` => In diesem Beispiel ist die hinzugefügte Funktionalität ein einfacher-Print-Befehl.  \n",
    "\n",
    "``function()`` => danach wird in der inneren Funktion, dem Wrapper, die Funktion ausgeführt, die dem Dekorierer übergeben wurde. Ohne Ausführung der übergebenen Funktion würden wir kein Ergebnis erhalten. Der Wrapper hat in diesem Beispiel keinen eigenen Rückgabewert. Sein Rückgabewert ist sozusagen der Rückgabewert dieser Funktion, die in ihm ausgeführt wird.  \n",
    "\n",
    "``return wrapper`` => Der Rückgabewert des Dekorierers ist dann der Rückgabewert der inneren Funktion, des Wrappers. Dieser ist die hinzugefügte Funktionalität (der ausgeführte Print-Befehl) und der Rückgabewert der übergebenen Funktion ``function()``.\n",
    "<br>\n",
    "\n",
    "#### Anwendung eines Dekorierers auf eine Funktion\n",
    "\n",
    "Alles in Python ist ein Objekt, so auch Funktionen. Jedes Objekt kann aufgerufen werden. Den Aufruf eines Objekts nennt man auch <b>Call</b>. Jedes Objekt ist also <b>callable</b> (auf Deutsch: aufrufbar).  \n",
    "\n",
    "Im unteren Beispiel wird eine weitere Funktion definiert: <b>pizza_margherita</b> . Diese soll dekoriert werden.  \n",
    "\n",
    "Hierfür wird sie als Funktionswert bzw. Argument dem Decorator übergeben (``pizza_decorator(pizza_margherita)``). Das Ergebnis dieser Übergabe wird in einer Variable gespeichert: <b>callable_obj</b> für aufrufbares Objekt. Über seinen Namen und die Funktionsklammern, ``callable_obj()``, wird es schließlich aufgerufen und ausgeführt:"
   ]
  },
  {
   "cell_type": "code",
   "execution_count": null,
   "metadata": {},
   "outputs": [],
   "source": [
    "def pizza_margherita():\n",
    "    return print('ich bin die Basispizza \"Margherita\".')\n",
    "    \n",
    "callable_obj = pizza_decorator(pizza_margherita)\n",
    "\n",
    "callable_obj()"
   ]
  },
  {
   "cell_type": "markdown",
   "metadata": {},
   "source": [
    "Dabei wird zuerst die zusätzliche Funktionalität der inneren Funktion des Dekorierers ausgeführt. In diesem Teil wickelt sich also der Wrapper mit dem Print-Befehl um die Funktion ``pizza_margherita()``. Anschließend wird die Funktion ``pizza_margherita()`` ausgeführt, wodurch ihr Rückgabewert nach dem Print-Befehl erscheint.  \n",
    "\n",
    "Wenn viele Funktionen sich untereinander aufrufen, wird es manchmal schwierig, den Überblick zu behalten. Für solche Fälle kann die Funktion ``.__name__`` eingesetzt werden. Damit lässt sich nachverfolgen, von welcher Funktion welche andere aufgerufen wurde. \n",
    "\n",
    "Der folgende Aufbau des Dekorierers und die danach folgende Ausführung verdeutlichen dir auch noch einmal die Reihenfolge der verschiedenen Funktionsausführungen:"
   ]
  },
  {
   "cell_type": "code",
   "execution_count": null,
   "metadata": {},
   "outputs": [],
   "source": [
    "def pizza_decorator(function):\n",
    "    \"\"\"Decorates function argument with the execution of print('Ich lege mehr Zutaten auf die Pizza').\"\"\"\n",
    "    def wrapper():\n",
    "        print('Ich lege mehr Zutaten auf die Pizza')\n",
    "        print(f'\"pizza_decorator(function)\" ruft die übergebene Funktion \"{function.__name__}\" auf.')\n",
    "        function()\n",
    "    return wrapper"
   ]
  },
  {
   "cell_type": "code",
   "execution_count": null,
   "metadata": {},
   "outputs": [],
   "source": [
    "def pizza_margherita():\n",
    "    return print('ich bin die Basispizza \"Margherita\".')\n",
    "    \n",
    "callable_obj = pizza_decorator(pizza_margherita)\n",
    "\n",
    "callable_obj()"
   ]
  },
  {
   "cell_type": "markdown",
   "metadata": {},
   "source": [
    "Wie du siehst, gibt es doch einen sinnvollen Einsatz für ``.__name__`` ;-)  \n",
    "\n",
    "Diese Schreibweise zur Anwendung eines Dekorierers: ``callable_obj = pizza_decorator(pizza_margherita)`` ist üblich.  \n",
    "\n",
    "Weil sie so üblich geworden ist, hat man sich eine vereinfachte Schreibweise für sie einfallen lassen:  "
   ]
  },
  {
   "cell_type": "code",
   "execution_count": null,
   "metadata": {},
   "outputs": [],
   "source": [
    "@pizza_decorator\n",
    "def pizza_margherita():\n",
    "    return print('ich bin die Basispizza \"Margherita\".')"
   ]
  },
  {
   "cell_type": "markdown",
   "metadata": {},
   "source": [
    "Man kennzeichnet die zu dekorierende Funktion mit dem Dekorierer, indem man das <b>@</b>-Symbol verwendet und den Namen des Dekorierers (ohne Funktionsklammern) hinter <b>@</b> setzt. Das Ganze wird als übergeordneter Funktionsaufruf <b>über</b> die zu dekorierende Funktion gesetzt.  \n",
    "**Diese Schreibweise wird auch als \"Annotation\" bezeichnet.**  \n",
    "\n",
    "Der Effekt ist derselbe:  "
   ]
  },
  {
   "cell_type": "code",
   "execution_count": null,
   "metadata": {},
   "outputs": [],
   "source": [
    "pizza_margherita()"
   ]
  },
  {
   "cell_type": "markdown",
   "metadata": {},
   "source": [
    "``@pizza_decorator`` entspricht also:  \n",
    "``callable_obj = pizza_decorator(pizza_margherita)  \n",
    "callable_obj()``  \n",
    "\n",
    "Bei dieser Schreibweise braucht anschließend nur die zu dekorierende Funktion aufgerufen werden: ``pizza_margherita()``  \n",
    "\n",
    "Man nennt solche vereinfachten Schreibweisen wie diese (``@pizza_decorator``) auch <b>syntactic Sugar</b> - syntaktischer Zucker.  \n",
    "Denn diese Schreibweise verändert nicht die Funktionsweise des Dekorierers. Wenn der Dekorierer ein Kaffee wäre, würde er dich trotzdem wach machen, doch mit etwas Zucker nicht so bitter sein. Der Dekorierer kann damit weniger umständlich angewendet werden.  \n",
    "\n",
    "Der Dekorierer kann auf jede andere Funktion angewendet werden:"
   ]
  },
  {
   "cell_type": "code",
   "execution_count": null,
   "metadata": {},
   "outputs": [],
   "source": [
    "@pizza_decorator\n",
    "def pizza_salami():\n",
    "    return print('ich bin die Pizza \"Salami\".')\n",
    "    \n",
    "pizza_salami()"
   ]
  },
  {
   "cell_type": "markdown",
   "metadata": {},
   "source": [
    "**Die bisherigen Vorteile von Dekorierern lauten zusammengefasst:**  \n",
    "* Mit ihnen können anderen Funktionen Funktionalitäten hinzugefügt werden, ohne dass diese anderen Funktionen umgeschrieben werden müssten.\n",
    "* Decorators sind wiederverwendbar.\n",
    "\n",
    "<br>\n",
    "\n",
    "<div class=\"alert alert-block alert-warning\">\n",
    "    <font size=\"3\"><b>1. Übung zu Decorators:</b></font>  \n",
    "<br>\n",
    "\n",
    "Schreibe die untenstehende Funktion ``print_funcinfo(function)`` so um, dass sie als Dekorierer auf jede andere Funktion angewendet werden kann.  \n",
    "\n",
    "Wende diesen Dekorierer anschließend auf die Funktion ``print_keys(**kwargs)`` an, indem du diese Schreibweise verwendest: ``@decorator``.  \n",
    "\n",
    "Führe anschließend die Funktion ``print_keys()`` aus, um zu überprüfen, ob dein Dekorierer funktioniert.  \n",
    "<b>Achtung: Verwende bei der Ausführung keine Argumente (``**kwargs``), denn das würde zu einem <font color = darkred>TypeError</font> führen. Lass die Funktionsklammern vorerst leer.</b> ``print_funcinfo(function)`` müsste dafür so umgeschrieben werden, dass sie im Wrapper auch Argumente aufnehmen kann. Wie das funktioniert, lernst du gleich noch ;-)\n",
    "</div>"
   ]
  },
  {
   "cell_type": "code",
   "execution_count": null,
   "metadata": {},
   "outputs": [],
   "source": [
    "# alte Schreibweisen\n",
    "\n",
    "def print_funcinfo(function):\n",
    "    \"\"\"Prints the name and documentation of a given function.\"\"\"\n",
    "    print(f'function name: {function.__name__}')\n",
    "    print(f'documentation: {function.__doc__}')\n",
    "\n",
    "def print_keys(**kwargs):\n",
    "    \"\"\"Prints keys of given key-value pairs with argument **kwargs.\"\"\"\n",
    "    for k in kwargs.keys():\n",
    "        print(f'Key: {k}\\n')"
   ]
  },
  {
   "cell_type": "code",
   "execution_count": null,
   "metadata": {},
   "outputs": [],
   "source": [
    "# neue Schreibweisen und Ausführung\n",
    "\n"
   ]
  },
  {
   "cell_type": "markdown",
   "metadata": {},
   "source": [
    "#### Decorators mit Argumenten\n",
    "\n",
    "Wie händelst du die Übergabe von Argumenten einer Funktion an einen Dekorierer?  \n",
    "Schließlich kann ein Dekorierer, wenn er universell geschrieben wird, doch auf alle Arten von Funktionen angewendet werden. Diese Funktionen können alle möglichen Arten und Anzahlen von Argumenten haben.  \n",
    "\n",
    "Und welche Argumente setzt du ein, wenn du vorher nicht deren Anzahl kennst?  \n",
    "``*args`` und ``**kwargs``!  \n",
    "\n",
    "Damit hast du auch gleich eines der häufigsten Einsatzgebiete von args und kwargs erkannt: Decorators.  \n",
    "<br>\n",
    "\n",
    "#### Zeitmessung in Python\n",
    "\n",
    "Erklärt wird dir das nun an dem Beispiel der Zeitmessung in Python. Unter anderem mit dem Modul <b>timeit</b> und dessen Funktion <b>.default_timer()</b> ist es nämlich möglich, die Ausführungszeit (engl.: execution time) von Code-Blöcken zu messen.  \n",
    "\n",
    "An diesem Beispiel siehst du, wie ``timeit.default_timer()`` funktioniert:"
   ]
  },
  {
   "cell_type": "code",
   "execution_count": null,
   "metadata": {},
   "outputs": [],
   "source": [
    "import timeit\n",
    "\n",
    "start_time = timeit.default_timer()\n",
    "\n",
    "c = 0\n",
    "while c < 3:\n",
    "    print(c)\n",
    "    c += 1\n",
    "\n",
    "end_time = timeit.default_timer()\n",
    "total_time = end_time - start_time\n",
    "\n",
    "print(f'total execution time: {total_time} sec')"
   ]
  },
  {
   "cell_type": "markdown",
   "metadata": {},
   "source": [
    "Je nach der Leistungsfähigkeit deines Computers und je nachdem, welche und wie viele andere Programme parallel auf ihm laufen, verändert sich die Ausführungszeit. Du kannst das auch feststellen, indem du die obere Code-Zelle mehrmals ausführst. Die gemessene Zeit erscheint in der Einheit <b>Sekunden</b>.  \n",
    "\n",
    "**``timeit.default_timer()`` wird folgendermaßen angewendet:**  \n",
    "1) Zuerst wird das Modul <b>timeit</b> importiert.  \n",
    "2) Danach wird vor dem Beginn des Code-Blocks die Startzeit abgespeichert. Das geschieht mit:  ``start_time = timeit.default_timer()``  \n",
    "3) Nach dem Code-Block wird wieder die Zeit abgespeichert. Das ist die Zeit nach dessen Ausführung: ``end_time = timeit.default_timer()``  \n",
    "4) Um nun die gesamte Ausführungszeit zu erhalten, wird von der \"Endzeit\" die Startzeit abgezogen: ``total_time = end_time - start_time``\n",
    "\n",
    "Dieser Ablauf soll nun in einer nutzerdefinierten Funktion so umgebaut werden, dass sie als Dekorierer auf alle möglichen Funktionen angewendet werden kann. So wird bei deren Ausführung gleichzeitig ihre Ausführungszeit gemessen.  \n",
    "\n",
    "Vorteilhaft ist das, wenn man sich zwischen verschiedenen Code-Varianten entscheiden muss. Die Wahl fällt dann für gewöhnlich auf die schnellere.  \n",
    "Auch beim Debugging (Fehlerfindung und -behebung) ist das nützlich. Wenn eine Funktion besonders lange für ihre Ausführung braucht, muss sie eventuell korrigiert/optimiert werden.  \n",
    "\n",
    "Damit wir diese Funktion auf alle anderen Funktionen anwenden können, die eine unterschiedliche Anzahl an Argumenten haben, verwenden wir diesmal in der Wrapper-Funktion args und kwargs: ``timing(*tupleargs,**keywordargs)``\n",
    "Sie werden dort übergeben, weil die Wrapper-Funktion die übergebene Funktion ausführt.  \n",
    "\n",
    "#### Beispiel zu einem Dekorierer, der alle möglichen Argumente verarbeiten kann"
   ]
  },
  {
   "cell_type": "code",
   "execution_count": null,
   "metadata": {},
   "outputs": [],
   "source": [
    "import timeit\n",
    "\n",
    "def func_timing(func):\n",
    "    \"\"\"Measures execution time of given function. Returns the result with \n",
    "    'print(f'The execution time of 1 billion calls of \"{func.__name__}\" is: {result} sec.')'\"\"\"\n",
    "    def timing(*tupleargs,**keywordargs):\n",
    "        start_time = timeit.default_timer()\n",
    "        func(*tupleargs,**keywordargs)\n",
    "        result = timeit.default_timer() - start_time\n",
    "        print(f'Execution time for 1 billion calls of \"{func.__name__}\" is: {result} sec.')\n",
    "    return timing"
   ]
  },
  {
   "cell_type": "markdown",
   "metadata": {},
   "source": [
    "#### Aufbau dieses Dekorierers\n",
    "\n",
    "Damit dieser Dekorierer funktioniert, muss für ihn erst das Modul <b>timeit</b> importiert werden. Theoretisch könnte der Import auch innerhalb des Dekorierers stattfinden. Doch stell dir vor, der Dekorierer wird von verschiedenen Funktionen immer wieder aufgerufen. Dann wird das Modul jedes Mal neu importiert. Das ist ineffizient, denn es ist repetitiv und kostet unnötige Rechenzeit.  \n",
    "\n",
    "``def func_timing(func):`` => Das ist wieder der Header des Dekorierers. Wieder wird ihm eine Funktion als Argument übergeben.  \n",
    "\n",
    "``    def timing(*tupleargs,**keywordargs):`` => Das ist der Header des Wrappers. Diesmal kann er mit args und kwargs zusammen alle möglichen Argumente verarbeiten: mit args non-default Argumente, die als Tuple übergeben werden; mit kwargs default Argumente, die als Key-Value-Paare übertragen werden. Es ist wichtig, dass auch hier die non-default (positional) Argumente <b>vor</b> die default Argumente gesetzt werden.     \n",
    "\n",
    "``start_time = timeit.default_timer()`` => Hier wird die Zeit vor der Ausführung der Funktion abgespeichert.  \n",
    "\n",
    "``func(*tupleargs,**keywordargs)`` => Die übergebene Funktion wird ausgeführt. Weil wir mit dem Dekorierer auch die Ausführungszeit von Funktionen messen, die Argumente übergeben bekommen, werden hier die variablen Argumente args und kwargs eingesetzt.\n",
    "\n",
    "``result = timeit.default_timer() - start_time`` => Hier wird das Ergebnis der Zeitmessung gespeichert. Hier wurden die beiden Rechenschritte der Abspeicherung der Endzeit und der Berechnung der Gesamtzeit in einem Schritt vollzogen.   \n",
    "\n",
    "``print(f'Execution time for 1 billion calls of \"{func.__name__}\" is: {result} sec.')`` => Hier erfolgt die Ausgabe des Ergebnisses. Falls das Messergebnis noch für andere Zwecke benötigt wird, könnte man es darunter mit ``return result`` zusätzlich als Rückgabewert des Wrappers verfügbar machen.  \n",
    "\n",
    "``return timing`` => Der Rückgabewert des Dekorierers ist schließlich der Wrapper.  \n",
    "\n",
    "Diesen Dekorierer können wir nun auf die Funktion ``print_keys()`` **mit Argumentübergabe** anwenden:"
   ]
  },
  {
   "cell_type": "code",
   "execution_count": null,
   "metadata": {},
   "outputs": [],
   "source": [
    "@func_timing\n",
    "def print_keys(**kwargs):\n",
    "    \"\"\"Prints keys of given key-value pairs with argument **kwargs.\"\"\"\n",
    "    for k in kwargs.keys():\n",
    "        print(f'Key: {k}\\n')\n",
    "        \n",
    "print_keys(a=1, b=2, c=3)"
   ]
  },
  {
   "cell_type": "markdown",
   "metadata": {},
   "source": [
    "Auch auf diese Funktion ohne Argumentübergabe in Funktionsklammern können wir ihn anwenden:"
   ]
  },
  {
   "cell_type": "code",
   "execution_count": null,
   "metadata": {},
   "outputs": [],
   "source": [
    "@func_timing\n",
    "def multi2():\n",
    "    \"\"\"Multiplies the arguments c, d and returns result.\"\"\"\n",
    "    c = 2\n",
    "    d = 4\n",
    "    res = c * d\n",
    "    return res\n",
    "\n",
    "multi2()"
   ]
  },
  {
   "cell_type": "markdown",
   "metadata": {},
   "source": [
    "Wie du an dieser Ausführung siehst, erscheint das Ergebnis der Funktion nicht mehr in der Ausgabe.  \n",
    "\n",
    "Das können wir ändern, indem wir in den Dekorierer einbauen, dass er auch die Rückgabewerte der Funktion ausgibt. Bewerkstelligt wird das mit: ``return func(*tupleargs,**keywordargs)``  \n",
    "Es ist wichtig, dass dieses Return-Statement erst am Ende des Wrappers ausgeführt wird. Denn ``return`` beendet den Ablauf der Funktion. Würde es vor dem Print-Befehl zur Ausgabe der Ausführungszeit stehen, würde dieser Print-Befehl nicht mehr ausgeführt werden:  "
   ]
  },
  {
   "cell_type": "code",
   "execution_count": null,
   "metadata": {},
   "outputs": [],
   "source": [
    "import timeit\n",
    "\n",
    "def func_timing(func):\n",
    "    \"\"\"Measures execution time of given function. Returns the result with \n",
    "    'print(f'The execution time of 1 billion calls of \"{func.__name__}\" is: {result} sec.')'\"\"\"\n",
    "    def timing(*tupleargs,**keywordargs):\n",
    "        start_time = timeit.default_timer()\n",
    "        func(*tupleargs,**keywordargs)\n",
    "        result = timeit.default_timer() - start_time\n",
    "        print(f'The execution time of 1 billion calls of \"{func.__name__}\" is: {result} sec.')\n",
    "        return func(*tupleargs,**keywordargs)\n",
    " \n",
    "    return timing"
   ]
  },
  {
   "cell_type": "code",
   "execution_count": null,
   "metadata": {},
   "outputs": [],
   "source": [
    "@func_timing\n",
    "def multi2():\n",
    "    \"\"\"Multiplies the arguments c, d and returns result.\"\"\"\n",
    "    c = 2\n",
    "    d = 4\n",
    "    res = c * d\n",
    "    return res\n",
    "\n",
    "multi2()"
   ]
  },
  {
   "cell_type": "markdown",
   "metadata": {},
   "source": [
    "Auch die übergebenen Argumente können wir uns ausgeben lassen (in ``print()`` und F-Strings ohne Asteriske!):"
   ]
  },
  {
   "cell_type": "code",
   "execution_count": null,
   "metadata": {},
   "outputs": [],
   "source": [
    "import timeit\n",
    "\n",
    "def func_timing(func):\n",
    "    \"\"\"Measures execution time of given function. Returns the result with \n",
    "    'print(f'The execution time of 1 billion calls of \"{func.__name__}\" is: {result} sec.')'\"\"\"\n",
    "    def timing(*tupleargs,**keywordargs):\n",
    "        print(f'non-default arguments: {tupleargs}')\n",
    "        print(f'default arguments: {keywordargs}')\n",
    "        start_time = timeit.default_timer()\n",
    "        func(*tupleargs,**keywordargs)\n",
    "        result = timeit.default_timer() - start_time\n",
    "        print(f'The execution time of 1 billion calls of \"{func.__name__}\" is: {result} sec.')\n",
    "        return func(*tupleargs,**keywordargs)\n",
    " \n",
    "    return timing"
   ]
  },
  {
   "cell_type": "code",
   "execution_count": null,
   "metadata": {},
   "outputs": [],
   "source": [
    "@func_timing\n",
    "def multi2():\n",
    "    \"\"\"Multiplies the arguments c, d and returns result.\"\"\"\n",
    "    c = 2\n",
    "    d = 4\n",
    "    res = c * d\n",
    "    return res\n",
    "\n",
    "multi2()"
   ]
  },
  {
   "cell_type": "markdown",
   "metadata": {},
   "source": [
    "Diese Funktion bekommt also keinerlei Argumente übergeben.  \n",
    "\n",
    "Die folgende hingegen schon:"
   ]
  },
  {
   "cell_type": "code",
   "execution_count": null,
   "metadata": {},
   "outputs": [],
   "source": [
    "@func_timing\n",
    "def divide2(x,y):\n",
    "    \"\"\"Divides argument x by argument y and returns the result.\"\"\"\n",
    "    res = x /y\n",
    "    return res\n",
    "\n",
    "divide2(6,2)"
   ]
  },
  {
   "cell_type": "markdown",
   "metadata": {},
   "source": [
    "Dekorierer kannst du also auch dazu verwenden, dir zu der Ausführung von Funktionen gleichzeitig mehr Informationen über sie anzeigen zu lassen.  \n",
    "\n",
    "Achte nur darauf, nicht mehrere Dekorierer mit den gleichen Informationsausgaben zu belegen. **Es ist grundsätzlich besser, logisch voneinander getrennte Schritte auch in extra Dekorierern/Teilprogrammen auszulagern.**  \n",
    "\n",
    "**Du kannst pro Funktion auch mehr als einen Dekorierer einsetzen.**  \n",
    "\n",
    "Für die Funktion ``divide2()`` böte es sich an, den Fehler bei einer Division durch 0 abzufangen.  \n",
    "\n",
    "Bevor dir dieser Dekorierer gezeigt wird, siehst du zuerst ein Beispiel zur Fehlerbehandlung in Python.  \n",
    "\n",
    "#### Beispiel zum Error-Handling in Python"
   ]
  },
  {
   "cell_type": "code",
   "execution_count": null,
   "metadata": {},
   "outputs": [],
   "source": [
    "def times2(x):\n",
    "    try:\n",
    "        res = x**2\n",
    "        return res\n",
    "    except TypeError:\n",
    "        print('TypeError in user-defined function \"times2(x)\".')\n",
    "        return None"
   ]
  },
  {
   "cell_type": "markdown",
   "metadata": {},
   "source": [
    "In der Funktion in der oberen Code-Zelle wird der Fehler abgefangen, wenn ein anderer statt ein numerischer Datentyp als Argument übergeben wird. **Deshalb heißt es auch \"einen Fehler werfen\", weil die Fehler abgefangen werden können.**  \n",
    "\n",
    "Um so ein Error-Handling zu realisieren, wird in die Funktion ein **Try-Ecept-Block** eingebaut.  \n",
    "\n",
    "Unter ``try:`` findet die \"normale\" Funktionsausführung statt. Diese wird sozusagen versucht (<b>try</b>).  \n",
    "\n",
    "Wenn dieser Versucht scheitert, wird der Except-Block ausgeführt. Genauer gesagt: Der Try-Block wird versucht, außer (<b>except</b>) ein <font color=darkred>TypeError</font> tritt auf. In dem Fall wird der Except-Block ausgefürt.  \n",
    "\n",
    "Daraufhin wird ausgegeben, dass der <font color=darkred>TypeError</font> eingetreten ist und die Funktion wird daraufhin <b>nicht ausgeführt</b> mit: ``return None``.  \n",
    "\n",
    "Bei der Übergabe eines numerischen Datentyps wird die Funktion normal ausgeführt:"
   ]
  },
  {
   "cell_type": "code",
   "execution_count": null,
   "metadata": {},
   "outputs": [],
   "source": [
    "times2(2)"
   ]
  },
  {
   "cell_type": "markdown",
   "metadata": {},
   "source": [
    "Wird zum Beispiel ein String übergeben, erscheint die manuell erstellte Fehlermeldung und die Funktion wird <b>gar nicht erst ausgeführt</b>:"
   ]
  },
  {
   "cell_type": "code",
   "execution_count": null,
   "metadata": {},
   "outputs": [],
   "source": [
    "times2('a')"
   ]
  },
  {
   "cell_type": "markdown",
   "metadata": {},
   "source": [
    "Das bedeutet: Ist so ein Error-Handling in eine Funktion eingebaut, dann verhindert sie, dass es zu einem Programmabsturz kommen kann!  \n",
    "\n",
    "Diese Art von Error-Handling mit einem Try-Ecept-Block ist auch in den folgenden Dekorierer eingebaut.  \n",
    "\n",
    "Der folgende Dekorierer sieht auf den ersten Blick vielleicht sehr umfangreich aus, doch in seinem Aufbau steckt nichts essentiell Neues. Wenn du dir gleich den nachfolgend erklärten Aufbau ansiehst, wirst du Schritt für Schritt verstehen, was in ihm passiert ;-)\n",
    "\n",
    "\n",
    "Dieser Dekorierer behandelt den Fehler, wenn eine Division durch 0 stattfindet (<font color=darkred>ZeroDivisionError</font>):"
   ]
  },
  {
   "cell_type": "code",
   "execution_count": null,
   "metadata": {},
   "outputs": [],
   "source": [
    "def nozero_div(func):\n",
    "    \"\"\"Works only for functions that take two default or two non-default or no arguments. \n",
    "    A function with no given arguments should contain two arguments.  \n",
    "    Made for functions that handle division. \n",
    "    Checks if the 2nd argument is 0. If it is 0, it prints out the message: 'Error: division by 0' \n",
    "    and stops the execution of the division function. Otherwise it executes the division function.\"\"\"\n",
    "    def zero_error(*args, **kwargs):\n",
    "        if args == () and kwargs == {}:\n",
    "            try:\n",
    "                print(f'Ececuting \"{func.__name__}\"')\n",
    "                return func()\n",
    "            except ZeroDivisionError:\n",
    "                print('Error: division by 0')\n",
    "                return None\n",
    "        elif args == ():\n",
    "            if tuple(kwargs.items())[1][1] == 0:\n",
    "                print('Error: division by 0')\n",
    "                # raise ValueError\n",
    "                return None\n",
    "            else:\n",
    "                print(f'Ececuting \"{func.__name__}\"')\n",
    "                return func(**kwargs)\n",
    "        elif kwargs == {}:\n",
    "            if args[1] == 0:\n",
    "                print('Error: division by 0')\n",
    "                # raise ValueError\n",
    "                return None\n",
    "            else:\n",
    "                print(f'Ececuting \"{func.__name__}\"')\n",
    "                return func(*args)\n",
    "\n",
    "    return zero_error"
   ]
  },
  {
   "cell_type": "markdown",
   "metadata": {},
   "source": [
    "#### Aufbau dieses Dekorierers\n",
    "\n",
    "Weil der Dekorierer-Header stets ähnlich aufgebaut ist (bis auf seinen Namen) beginnen wir gleich mit dem Aufbau des Wrappers:  \n",
    "\n",
    "``def zero_error(*args, **kwargs):`` => Damit dieser Wrapper Funktionen ohne Argumente, Fuktionen mit non-default und default Argumenten verarbeiten kann, werden ihm wieder args und kwargs übergeben.  \n",
    "\n",
    "``if args == () and kwargs == {}:`` => Hier wird gecheckt, ob die übergebene Funktion keine non-default und keine default Argumente enthält. Dieser If-Block ist für Funktionen, die gar keine Argumente übergeben bekommen.  \n",
    "Weil **non-default Argumente als Tuple übergeben** werden, wird das Tuple leer sein, wenn sie in der übergebenen Funktion nicht enthalten sind. Deshalb wird gecheckt, ob die args nur aus einer in sich geschlossenen, runden Klammer bestehen. Ist die  Klammer leer, muss sie demzufolge kwargs enthalten.  \n",
    "**kwargs (default Argumente) werden als Dictionary übergeben.** Werden keine kwargs übergeben, ist das Dictionary leer. Deshalb wird gecheckt, ob die geschweiften Klammern des Dictionarys leer sind.  \n",
    "**Werden also ein leeres Tuple und ein leeres Dictionary übergeben, muss es sich um eine Funktion handeln, die gar keine Argumente übergeben bekommt.**  \n",
    "\n",
    "``try:`` => Hier startet der Try-Block.  \n",
    "\n",
    "``print(f'Ececuting \"{func.__name__}\"')`` => Um nachvollziehen zu können, welche Funktion als nächstes ausgeführt wird, wird für Debugging-Zwecke der Print-Befehl mit dem Namen der Funktionen ausgeführt. Wie du gleich sehen wirst, ist das nicht die übergebene Funktion. Stattdessen wird der zweite Dekorierer \"timing\" ausgeführt werden.  \n",
    "\n",
    "``return func()`` Damit \"timing\" ordnungsgemäß ausgeführt werden kann, wird die ausgeführte Funktion hier als Rückgabewert definiert. Würden wir zuvor die übergebene Funktion mit ``func()`` ausführen, würden wir sie doppelt ausführen lassen. Denn in \"timing\" wird sie auch ausgeführt.  \n",
    "Wie du an den folgenden Elif-Blöcken sehen wirst, wird nur in diesem Teil \"timing\" auch ausgeführt, wenn der <font color=darkred>ZeroDivisionError</font> auftritt. Das liegt an diesem Teil. Denn ``func()`` wird hier so oder so an \"timing\" übergeben. Gäbe es \"timing\" nicht, würde dieser Teil bei einem <font color=darkred>ZeroDivisionError</font> gar nicht ausgeführt werden.  \n",
    "\n",
    "``except ZeroDivisionError:`` => Im Except-Block wird der <font color=darkred>ZeroDivisionError</font> behandelt.  \n",
    "\n",
    "``print('Error: division by 0')`` => Tritt er auf, lassen wir uns das über einen Print-Befehl ausgeben.  \n",
    "\n",
    "``return None`` => Tritt er auf, soll die Funktion gar nicht erst ausgeführt werden. Deshalb erhalten wir bei einem <font color=darkred>ZeroDivisionError</font> kein Funktionsergebnis, sondern nur die Ausgabe des Print-Befehls.   \n",
    "\n",
    "``if args == ():`` => Hier wird gecheckt, ob die übergebene Funktion keine non-default Argumente enthält. Enthält sie keine, muss sie demzufolge kwargs enthalten.  \n",
    "\n",
    "``if tuple(kwargs.items())[1][1] == 0:`` => Weil kwargs als Dictionary übergeben werden, haben kwargs keine festen Indize. Deshalb werden ihre Keys und Values (``kwargs.items()``) mit ``tuple()`` zunächst in ein fest indiziertes Tuple umgewandelt.  \n",
    "Der Dekorierer soll auf Funktionen mit genau zwei Argumenten angewendet werden. Mit ``[1][1] == 0`` checken wir deshalb, ob der Value des zweiten Keys 0 gleicht. Auf Index [1] des Tuples befindet sich der zweite Key mit seinem Value. Auf Index [1][0] befindet sich außschließlich der zweite Key. Auf Index [1][1] befindet sich ausschließlich der Value des zweiten Keys. Ist dieser 0, wird der nachfolgende, eingerückte Code-Block ausgeführt.   \n",
    "\n",
    "``print('Error: division by 0')`` => Dann wird dieser Print-Befehl ausgeführt. Nachfolgend könnte mit ``raise ValueError`` noch ein <font color=darkred>ValueError</font> ausgeführt werden. Das ist auskommentiert, weil wir das für unsere Zwecke nicht brauchen. Es soll dir nur zur Anschauung dienen, was man hier noch machen könnte.  \n",
    "\n",
    "``return None`` => Ist der zweite Value 0, soll die Funktion nicht ausgeführt werden.  \n",
    "\n",
    "``else:\n",
    "    print(f'Ececuting \"{func.__name__}\"')\n",
    "    return func(**kwargs)`` => Ansonsten lassen wir uns wieder ausgeben, welche Funktion als nächstes ausgegeben wird (wieder \"timing\"). Weil \"timing\" die Funktion benötigt, wird sie hier mit den kwargs-Argumenten übergeben.  \n",
    "    \n",
    "``elif kwargs == {}:`` => Hier wird gecheckt, ob die kwargs der übergebenen Funktion ein leeres Dictionary sind. Wenn ja, muss es sich um eine Funktion mit args handeln.  \n",
    "\n",
    "``if args[1] == 0:\n",
    "     print('Error: division by 0')\n",
    "     return None`` => Gleicht das zweite args-Argument 0, erfolgt wieder der Print-Befehl mit der manuellen Fehlermeldung und die Funktion wird mit ``return None`` \"timing\" nicht übergeben. Zu Anschauungszwecken steht über ``return None`` noch auskommentiert ``# raise ValueError``.    \n",
    "                \n",
    "``else:\n",
    "    print(f'Ececuting \"{func.__name__}\"')\n",
    "    return func(*args)`` => Ansonsten lassen wir uns wieder ausgeben, welche Funktion als nächstes ausgeführt wird (\"timing\") und übergeben dieser die Funktion mit ihren non-default Argumenten.  \n",
    "    \n",
    "``return zero_error`` => Der Rückgabewert des Dekorierers ist wieder der Wrapper.  \n",
    "<br>\n",
    "\n",
    "Dieser Dekorier funktioniert nicht für Funktionen, die non-default- <b>und</b> default Argumente aufnehmen. Diesen Fall könnte man auch noch einbauen. Der Übersichtlichkeit halber wurde in diesem Beispiel darauf verzichtet.  \n",
    "<br>\n",
    "\n",
    "Nun sehen wir uns an, wie Funktionen mit verschiedenen bzw. keinen Argumenten mit den zwei Dekorierern ausgeführt werden.  \n",
    "\n",
    "**Um zwei oder mehr Dekorierer auf eine Funktion anzuwenden, werden diese übereinander über die Funktion gesetzt.**  \n",
    "\n",
    "#### Anwendung von zwei Dekorierern auf eine Funktion mit default -/Keyword-Argumenten\n",
    "\n",
    "Probier selbst aus, für <b>y</b> verschiedene Werte einzusetzen."
   ]
  },
  {
   "cell_type": "code",
   "execution_count": null,
   "metadata": {},
   "outputs": [],
   "source": [
    "@nozero_div\n",
    "@func_timing\n",
    "def divide2(x=1,y=1):\n",
    "    \"\"\"Divides argument x by argument y and returns the result.\"\"\"\n",
    "    res = x / y\n",
    "    return res\n",
    "\n",
    "divide2(x=6,y=1)"
   ]
  },
  {
   "cell_type": "markdown",
   "metadata": {},
   "source": [
    "Wenn du für <b>y</b> einen Wert außer 0 einsetzt, kannst du den Ablauf der Funktionsaufrufe erkennen:  \n",
    "1) <b>divide2(...)</b> wird an den ersten Dekorierer <b>@nozero_div</b> übergeben. Dieser Dekorierer wird ausgeführt.  \n",
    "2) Das Ergebnis von <b>@nozero_div</b> wird an den zweiten Dekorierer <b>@func_timing</b> übergeben. Der zweite Dekorierer wird ausgeführt.  \n",
    "\n",
    "#### Anwendung von zwei Dekorierern auf eine Funktion mit non-default Argumenten\n",
    "\n",
    "Probier wieder selbst aus, für <b>y</b> verschiedene Werte einzusetzen."
   ]
  },
  {
   "cell_type": "code",
   "execution_count": null,
   "metadata": {},
   "outputs": [],
   "source": [
    "@nozero_div\n",
    "@func_timing\n",
    "def divide2(x,y):\n",
    "    \"\"\"Divides argument x by argument y and returns the result.\"\"\"\n",
    "    res = x /y\n",
    "    return res\n",
    "\n",
    "divide2(6,1)"
   ]
  },
  {
   "cell_type": "markdown",
   "metadata": {},
   "source": [
    "#### Anwendung von zwei Dekorierern auf eine Funktion ohne Argument-Übergabe\n",
    "\n",
    "Probier wieder selbst aus, für <b>y</b> verschiedene Werte einzusetzen."
   ]
  },
  {
   "cell_type": "code",
   "execution_count": null,
   "metadata": {},
   "outputs": [],
   "source": [
    "@nozero_div\n",
    "@func_timing\n",
    "def div2():\n",
    "    \"\"\"Multiplies the arguments c, d and returns result.\"\"\"\n",
    "    x = 2\n",
    "    y = 1\n",
    "    res = x/y\n",
    "    return res\n",
    "\n",
    "div2()"
   ]
  },
  {
   "cell_type": "markdown",
   "metadata": {},
   "source": [
    "Hier siehst du an einem kleinen Beispiel, wo sich der zweite Value im Dictionary befindet:  "
   ]
  },
  {
   "cell_type": "code",
   "execution_count": null,
   "metadata": {},
   "outputs": [],
   "source": [
    "d = {'x':2, 'y':0}\n",
    "\n",
    "print(tuple(d.items())[1][1])"
   ]
  },
  {
   "cell_type": "markdown",
   "metadata": {},
   "source": [
    "**Die Vorteile von Dekorierern lauten zusammengefasst:**  \n",
    "* Mit ihnen können anderen Funktionen Funktionalitäten hinzugefügt werden, ohne dass diese anderen Funktionen umgeschrieben werden müssten.\n",
    "* Decorators sind wiederverwendbar.\n",
    "* Dekorierer können, je nachdem, wie sie geschrieben sind, verschiedene/alle Arten von Argumenten händeln.  \n",
    "* Dekorierer können für zusätzliche Informationsausgaben und zum Error-Handling eingesetzt werden.\n",
    "* Es können pro Funktion multiple Dekorierer angewendet werden.  \n",
    "\n",
    "<br>\n",
    "\n",
    "<div class=\"alert alert-block alert-info\">\n",
    "<font size=\"3\"><b>Tipp zur Zeitmessung von Loops:</b></font> \n",
    "<br>\n",
    "    \n",
    "Die Ausführungszeit von Loops (inkl. Comprehensions) kannst du - ohne Abspeicherung von Start- und Endzeit - mit der Funktion ``timeit.timeit()`` messen.  \n",
    "\n",
    "Der Loop wird ihr in Anführungsstrichen übergeben. Wird der Loop in einer Variable abgespeichert und diese wird ``timeit.timeit()`` übergeben, wird sie nicht in Anführungsstriche gesetzt.\n",
    "</div>\n",
    "\n",
    "#### Beispiel zur Ausführungszeitmessung einer List-Comprehension"
   ]
  },
  {
   "cell_type": "code",
   "execution_count": null,
   "metadata": {},
   "outputs": [],
   "source": [
    "import timeit\n",
    "\n",
    "timeit.timeit('[x*2 + x*3 + x*4 for x in range(4)]')"
   ]
  },
  {
   "cell_type": "markdown",
   "metadata": {},
   "source": [
    "Per Default wird die Zeit von 1 Million Ausführungen gemessen.  \n",
    "\n",
    "Mit dem Parameter <b>number</b> kannst du das ändern:"
   ]
  },
  {
   "cell_type": "code",
   "execution_count": null,
   "metadata": {},
   "outputs": [],
   "source": [
    "timeit.timeit('[x*2 + x*3 + x*4 for x in range(4)]', number=5000)"
   ]
  },
  {
   "cell_type": "markdown",
   "metadata": {},
   "source": [
    "Wie du siehst, ist die Ausführungszeit bei geringerer Ausführungshäufigkeit auch geringer.  \n",
    "\n",
    ">Wiederholung: Wenn du die Ausführungszeit von For-Loops und Comprehensions vergleichst, wirst du feststellen, dass eine List-Comprehension insbesondere dann schneller ist, wenn sie Elemente in eine Liste einfügt. Das liegt daran, dass sie - im Gegensatz zu einem For-Loop - nicht die Funktion ``.append()`` aufrufen muss.  \n",
    "\n",
    "**Mehr Informationen zum Modul timeit findest du hier: https://docs.python.domainunion.de/3/library/timeit.html**  \n",
    "<br>\n",
    "\n",
    "<div class=\"alert alert-block alert-warning\">\n",
    "    <font size=\"3\"><b>2. Übung zu Decorators - Teil A:</b></font>  \n",
    "<br>\n",
    "\n",
    "**a)** Schreibe eine Funktion, die x^2 mit y^3 multipliziert. x und y sollen als non-default Argumente übergeben werden. Das Ergebnis soll der Rückgabewert dieser Funktion sein.    \n",
    "\n",
    "**b)** Schreibe eine Funktion, die die dieselbe Rechnung wie die Funktion in **a)** ausführt. Diese Funktion soll aber default Argumente aufnehmen.  \n",
    "\n",
    "**c)** Schreibe eine Funktion, die die dieselbe Rechnung wie die Funktionen in **a)** und **b)** ausführt. Diese Funktion soll ein non-default und ein default Argument aufnehmen.  \n",
    "\n",
    " Dokumentiere alle drei Funktionen. \n",
    "</div>"
   ]
  },
  {
   "cell_type": "code",
   "execution_count": null,
   "metadata": {},
   "outputs": [],
   "source": [
    "# a)\n",
    "\n"
   ]
  },
  {
   "cell_type": "code",
   "execution_count": null,
   "metadata": {},
   "outputs": [],
   "source": [
    "# b)\n",
    "\n"
   ]
  },
  {
   "cell_type": "code",
   "execution_count": null,
   "metadata": {},
   "outputs": [],
   "source": [
    "# c)\n",
    "\n"
   ]
  },
  {
   "cell_type": "markdown",
   "metadata": {},
   "source": [
    "<div class=\"alert alert-block alert-warning\">\n",
    "    <font size=\"3\"><b>2. Übung zu Decorators - Teil B:</b></font>  \n",
    "<br>\n",
    "\n",
    "**d)** Du benötigst für weitere Berechnungen Funktionen, deren zweites Argument nicht negativ ist. Angewendet auf die soeben definierten Funktionen, werden damit negative Rückgabewerte verhindert.  \n",
    "Schreibe einen Dekorierer, der die soeben definierten Funktionen nicht ausführt, sollte das zweite, übergebene Argument negativ sein. Ist das zweite Argument nicht negativ, sollen die Funktionen ausgeführt werden. Der Dekorierer sollte auf alle drei definierten Funktionen anwendbar sein. Dokumentiere ihn bitte. \n",
    "</div>"
   ]
  },
  {
   "cell_type": "code",
   "execution_count": null,
   "metadata": {},
   "outputs": [],
   "source": [
    "# d)\n",
    "\n"
   ]
  },
  {
   "cell_type": "markdown",
   "metadata": {},
   "source": [
    "<div class=\"alert alert-block alert-warning\">\n",
    "    <font size=\"3\"><b>2. Übung zu Decorators - Teil C:</b></font>  \n",
    "<br>\n",
    "\n",
    "**e)** Ohne einzelne Funktionen umschreiben zu müssen, benötigst du manchmal ihren Rückgabewert als Float und ihr Ergebnis mal zwei.  \n",
    "Schreibe einen Dekorierer, der den doppelten Rückgabewert als Float ausgibt. Dokumentiere bitte auch diesen Dekorierer.  \n",
    "\n",
    "**f)** Wende anschließend den Dekorierer aus **d)** und gleichzeitig den aus **e)** auf alle drei Funktionen aus **a)**, **b)** und **c)** an. Überprüfe, ob sie richtig funktionieren.  \n",
    "\n",
    "Hinweis: Es gibt nicht nur eine Art, diese 2. Übung zu lösen.\n",
    "</div>"
   ]
  },
  {
   "cell_type": "code",
   "execution_count": null,
   "metadata": {},
   "outputs": [],
   "source": [
    "# e)\n",
    "\n"
   ]
  },
  {
   "cell_type": "code",
   "execution_count": null,
   "metadata": {},
   "outputs": [],
   "source": [
    "# f)\n",
    "\n"
   ]
  },
  {
   "cell_type": "code",
   "execution_count": null,
   "metadata": {},
   "outputs": [],
   "source": [
    "# f)\n",
    "\n"
   ]
  },
  {
   "cell_type": "code",
   "execution_count": null,
   "metadata": {},
   "outputs": [],
   "source": [
    "# f)\n",
    "\n"
   ]
  },
  {
   "cell_type": "markdown",
   "metadata": {},
   "source": [
    "<div class=\"alert alert-block alert-success\">\n",
    "<b>Glückwunsch!</b> Mit Decorators hast du das Haupteinsatzgebiet von *args und **kwargs kennengelernt. Außerdem kannst du nun selbst Dekorierer erstellen und so deine Funktionen beliebig erweitern. Doch nicht nur das! Du kannst nun auch schon Fehler in Funktionen abfangen, dir zusätzliche Informationen über sie ausgeben lassen sowie die Ausführungszeit von Funktionen und Code-Blöcken allgemein messen.  \n",
    "    \n",
    "In der folgenden Einheit lernst du noch eine ganz praktische Art von Funktion kennen: Lambda-Funktionen. Mit ihnen werden einfache Operationen noch kompakter und schneller ausgeführt.\n",
    "</div>"
   ]
  },
  {
   "cell_type": "markdown",
   "metadata": {},
   "source": [
    "<div class=\"alert alert-block alert-info\">\n",
    "<h3>Das kannst du aus dieser Übung mitnehmen:</h3>\n",
    "\n",
    "* **Decorators**\n",
    "    * fügen anderen Funktionen Funktionalitäten hinzu, ohne dass diese umgeschrieben werden müssten\n",
    "    * sind wiederverwendbar\n",
    "    * Dekorierer können, je nachdem, wie sie geschrieben sind, alle möglichen Arten von Argumenten verarbeiten\n",
    "    * sie können für Error-Handling und zusätzliche Informationsausgaben zu Funktionen eingesetzt werden\n",
    "    * eine Funktion kann multiplen Dekorierern übergeben werden\n",
    "    * sind sie einmal definiert, erleichtern sie den Arbeitsaufwand durch ihre multiple Wiederverwendbarkeit\n",
    "    * **grundsätzlicher Aufbau von Decorators:**\n",
    "        * Beispiel:\n",
    "            * ``def decorator(function):``\n",
    "                * ``\"\"\"Decorates function argument with the execution of print('Ich dekoriere'). Wrapper takes *args and **kwargs.\"\"\"``\n",
    "                * ``def wrapper(*args,**kwargs):``\n",
    "                    * ``print('Ich dekoriere')``\n",
    "                    * ``return function(*args,**kwargs)``\n",
    "                * ``return wrapper``\n",
    "            * => der **Dekorierer** ist die **äußere Funktion**, die eine **andere Funktion als Argument** übergeben bekommt\n",
    "            * => er kann beliebig, aber Python-konform benamt werden\n",
    "            * => besonders bei Dekorierern ist die Dokumentation wichtig, weil sie meistens mit args und kwargs arbeiten und daher genauere Erklärungen zu ihrer Funktionsweise nötig werden\n",
    "            * => ein Dekorierer benötigt eine **innere Funktion** - einen **Wrapper:**\n",
    "                * dieser fügt der übergebenen Funktion Funktionalitäten hinzu\n",
    "                * auch er kann beliebig, aber Python-konform benamt werden\n",
    "                * er legt sich wie ein Wrapper um die übergebene Funktion, weshalb zuerst die Funktionalitäten des Wrappers ausgeführt werden, danach wird die übergebene Funktion ausgeführt\n",
    "                * im oberen Beispiel würde zuerst ``print('Ich dekoriere')`` ausgeführt werden, bevor die übergebene Funktion ausgeführt wird\n",
    "                * der Wrapper bekommt die nötigen Argumente zur Ausführung der Funktion\n",
    "                * mit args und kwargs als Argumente können der Dekorierer und sein Wrapper Funktionen mit Argumenten aller Art verarbeiten - auch Funktionen ohne Argumente\n",
    "                * die Tuple-Argumente (args) sind dabei vor die Keyword-Argumente (kwargs) zu setzen\n",
    "                * alle Arten von Argumenten können dem Wrapper übergeben werden\n",
    "                    * <b>dabei ist es wichtig, Dekorierer möglichst universell zu halten, mit möglichst universellen Argumenten wie args und kwargs => nur so sind Dekorierer vielfach wiederverwendbar</b>\n",
    "                        * => Dekorierer sind eines der wichtigsten Einsatzgebiete für args und kwargs\n",
    "                * innerhalb des Wrappers können alle Arten von Operationen an der übergebenen Funktion stattfinden\n",
    "                * je nach Anforderung kann die übergebene Funktion innerhalb des Wrappers ausgeführt werden\n",
    "                    * sie muss dann die gleichen Argumente erhalten wie der Wrapper, z.B.: ``function(*args,**kwargs)``\n",
    "                    * wird sie nicht als Expression nach ``return`` ausgeführt, wird ihr Rückgabewert nicht verfügbar\n",
    "                    * ein Wrapper benötigt aber nicht zwingend ein Return-Statement\n",
    "            * **=> der Dekorierer benötigt zwindend den Wrapper als Rückgabewert:** ``return wrapper``\n",
    "                * => damit ist der Dekorierer abgeschlossen\n",
    "    * **Übergabe einer Funktion an einen Dekorierer:**\n",
    "        * der Dekorierer aus dem oberen Beispiel könnte <b>jede</b> andere Funktion dekorieren, weil er universelle Argumente verarbeiten kann\n",
    "        * Beispiel 1:\n",
    "            * ``@decorator``\n",
    "            * ``def any_fuction(arg1, arg2):``\n",
    "                * ``print('Ich werde nach dem Dekorierer ausgeführt')``\n",
    "                * ``return arg1 + arg2``\n",
    "            * ``any_function(1,2)``\n",
    "            * **Output (gleich für Beispiel 1 und Beispiel 2):** \n",
    "                * Ich dekoriere\n",
    "                * Ich werde nach dem Dekorierer ausgeführt\n",
    "                * 3\n",
    "        * Beispiel 2:\n",
    "            * ``callable_obj = decorator(any_function)``\n",
    "            * ``callable_obj(1,2)`` => führt den Dekorierer mit der Funktion aus\n",
    "        * die Variante in Beispiel 1 ist <b>\"syntactic Sugar\"</b> = sie bewirkt den gleichen Effekt wie die Variante in Beispiel 2 => diese Art der Schreibweise aus Beispiel 1 wird auch <b>Annotation</b> genannt => \"etwas wird an eine Funktion annotiert\" => Annotationen werden wesentlich häufiger verwendet als die umständlichere Schreibweise  \n",
    "    * **Übergabe einer Funktion an mehrere Dekorierer:**\n",
    "        * Beispiel:\n",
    "            * ``@decorator1``\n",
    "            * ``@decorator2``\n",
    "            * ``def any_fuction(arg1, arg2):``\n",
    "                * ``print('Ich werde nach dem Dekorierer ausgeführt')``\n",
    "                * ``return arg1 + arg2``\n",
    "        * => mehrere Dekorierer werden übereinander an die Funktion annotiert\n",
    "        * => zuerst verarbeitet der oberste Dekorierer die übergebene Funktion\n",
    "        * => der Rückgabewert des obersten Dekorierers wird danach an den darunterliegenden Dekorierer weitergereicht\n",
    "        * => wurden alle Dekorierer abgearbeitet, wird die Funktion ausgeführt (wenn sie im letzten Dekorierer ausgeführt wird)\n",
    "        * => ist die Funktion Rückgabewert mehrerer Wrapper, wird sie auch mehrfach ausgeführt\n",
    "    * **Checken übergebener Argumente in einem Dekorierer:**\n",
    "        * *args können mit einem leeren Tuple gecheckt werden, z.B.: ``if args == ():``\n",
    "            * => ist das Tuple leer, wurden der übergebenen Funktion keine positional/non-default/Tuple-Argumente übergeben\n",
    "        * **kwargs können mit einem leeren Dictionary gecheckt werden, z.B.: ``if kwargs == {}:``\n",
    "            * => ist das Dictionary leer, wurden der übergebenen Funktion keine Keyword-Argumente übergeben  \n",
    "        * Tipp zum Checken von Dictionary-Elementen:\n",
    "            * wandelt man ein übergebenes Dictionary in ein Tuple um, werden seine Elemente auf festen Indizen gespeichert\n",
    "            * Beispiel: ``tuple(dct.items())[1][1])`` => ermöglicht festen Zugriff auf den Value des 2. Keys  \n",
    "<br>\n",
    "* **Ausgabe zusätzlicher Funktionsinformationen mit einem Dekorierer**\n",
    "    * das folgende Beispiel zeigt einen Dekorierer, der den Funktionsnamen und die Dokumentation einer Funktion ausgibt:\n",
    "        * ``def print_funcinfo(function):``\n",
    "            * ``\"\"\"Prints the name and documentation of a given function. Wrapper arguments: *args,**kwargs\"\"\"``\n",
    "            * ``def print_info(*args,**kwargs):``\n",
    "                * ``print(f'function name: {function.__name__}')``\n",
    "                * ``print(f'documentation: {function.__doc__}')``\n",
    "                * ``return function(*args,**kwargs)``\n",
    "            * ``return print_info``\n",
    "        * => über die Funktion ``function.__name__`` lässt sich auch zurückverfolgen, an welcher Stelle welche Funktion ausgeführt wird => praktisch für das Debugging/die Fehlerfindung\n",
    "        * => ``function.__doc__`` zeigt - wie bereits bekannt - die Dokumentation einer Funktion an  \n",
    "<br>\n",
    "* **Ausführungszeitmessung von Code-Blöcken in Python**\n",
    "    * das Modul ``timeit`` bietet Funktionen zur Ausführungszeitmessung von Code-Blöcken\n",
    "    * mehr Infos zu diesem Modul: https://docs.python.domainunion.de/3/library/timeit.html\n",
    "    * mit ``timeit.default_timer()`` wird ein Counter aktiviert, den man für Performance-Messungen verwenden kann\n",
    "    * Beispiel:\n",
    "        * ``from timeit import default_timer``\n",
    "            * ``start_time = default_timer()`` => Abspeicherung der aktuellen Zeit in \"start_time\"\n",
    "            * ``<ein Code-Block>``\n",
    "            * ``total_time = default_timer() - start_time`` => Abzug der Startzeit von der Zeit nach Ausführung des Code-Blocks ergibt die gesamte Ausführungszeit (Anzeige in Sekunden)  \n",
    "<br>\n",
    "* **Ausführungszeitmessung von Loops und Comprehensions in Python**\n",
    "    * an ``timeit.timeit()`` können in seine Funktionsklammern Loops und Comprehensions zu ihrer Ausführungszeitmessung übergeben werden\n",
    "    * Beispiel:\n",
    "        * ``from timeit import timeit``\n",
    "            * ``timeit('[x*2 + x*3 + x*4 for x in range(4)]')`` => Ausgabe der Ausführungszeit in Sekunden erfolgt\n",
    "    * **wichtig:** Übergabe der Loops/Comprehensions in Anführungsstrichen  \n",
    "<br>\n",
    "* **Error-Handling in Python**\n",
    "    * in <b>Try-Except-Blöcken</b> innerhalb von Funktionen werden geworfene Fehler abgefangen\n",
    "    * Beispiel:\n",
    "        * ``def times2(x):``\n",
    "            * ``try:``\n",
    "                * ``res = x**2``\n",
    "                * ``return res``\n",
    "            * ``except TypeError:``\n",
    "                * ``print('TypeError in user-defined function \"times2(x)\".')``\n",
    "                * ``return None``               \n",
    "    * **try:** Im Try-Block wird die reguläre Funktionsausführung <b>versucht</b>\n",
    "        * => scheitert der Try-Block, wird der Except-Block ausgelöst\n",
    "        * Die reguläre Funktionsausführung wird versucht (<b>try</b>), außer (<b>except</b>) sie klappt nicht, dann wird ausgeführt, was als \"Ausnahme-Ausführung\" im Except-Block hinterlegt ist.\n",
    "    * **except:** nach ``except`` wird der Fehler gesetzt, der im Ausnahmefall behandelt werden soll\n",
    "        * Beispiele: ``except SyntaxError:``, ``except ValueError:``, ``except ZeroDivisionError:``\n",
    "        * danach wird festgelegt, was in so einem Fall geschehen soll, z.B. soll eine Ausgabe über ``print()`` mit einer eigenen Fehlermeldung erfolgen\n",
    "        * mit ``return None`` wird festgelegt, dass die \"gescheiterte Funktion\" dann keinen Rückgabewert liefern soll\n",
    "    * => **damit werden Programmabstürze verhindert => das restliche Programm kann danach weiterlaufen**\n",
    "</div>"
   ]
  }
 ],
 "metadata": {
  "kernelspec": {
   "display_name": "Python 3",
   "language": "python",
   "name": "python3"
  },
  "language_info": {
   "codemirror_mode": {
    "name": "ipython",
    "version": 3
   },
   "file_extension": ".py",
   "mimetype": "text/x-python",
   "name": "python",
   "nbconvert_exporter": "python",
   "pygments_lexer": "ipython3",
   "version": "3.7.3"
  }
 },
 "nbformat": 4,
 "nbformat_minor": 2
}
