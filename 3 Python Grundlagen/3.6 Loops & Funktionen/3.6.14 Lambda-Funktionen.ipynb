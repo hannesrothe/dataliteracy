{
 "cells": [
  {
   "cell_type": "markdown",
   "metadata": {},
   "source": [
    "#  3.6 Loops & Funktionen\n",
    "\n",
    "## 3.6.14 Lambda-Funktionen\n",
    "\n",
    "Im Anschluss dieser Übungseinheit kannst du ...\n",
    "+ mit Lambda-Funktionen kompakte und sehr schnelle Funktionen schreiben\n",
    "+ alle Arten von Argumenten in Lambda-Funktionen einsetzen\n",
    "+ Conditions in Lambda-Funktionen einbauen, um Werte auf verschiedene Weisen zu bearbeiten\n",
    "+ Lambda-Funktionen innerhalb von built-in Funktionen einsetzen\n",
    "+ Decorators auf Lambda-Funktionen anwenden"
   ]
  },
  {
   "cell_type": "markdown",
   "metadata": {},
   "source": [
    "## 3.6.11 3.6.14 Lambda-Funktionen - Lösungen\n",
    "\n",
    "Das abschließende Thema des Kapitels \"3.6 Loops & Funktionen\" sind die Lambda-Funktionen.  \n",
    "\n",
    "Anders als die mit ``def`` eigens definierten Funktionen haben Lambda-Funktionen keinen Namen. Sie werden deshalb auch <b>anonyme Funktionen</b> genannt.  \n",
    "\n",
    "Sie bieten den Vorteil, dass mit ihnen Funktionen sehr kurz und knapp geschrieben werden können. Sie werden direkt vom Python-Interpreter verstanden und deshalb sehr viel schneller ausgeführt, als mit ``def`` definierte Funktionen. Built-in Funktionen werden von Python für gewöhnlich auch schneller verstanden, ähnlich wie Lambda-Funktionen.  \n",
    "\n",
    "Lambda-Funktionen können multiple Argumente aufnehmen, aber sie können nur eine Expression verarbeiten. Nur conditional Statements können in ihnen untergebracht werden, jedoch keine Loops.  \n",
    "\n",
    "**Die grundsätzliche Syntax von Lambda-Funktionen lautet:**\n",
    "\n",
    "<font color = darkgreen>lambda arguments:expression</font>  \n",
    "\n",
    "``lambda`` => Das ist das Keyword, das für jede Lambda-Funktion erforderlich ist.  \n",
    "\n",
    "``arguments:`` => An diese Stelle werden die Argumente gesetzt. Dahinter markiert ein Doppelpunkt sozusagen das Ende des \"Headers\" und den Beginn des \"Bodys\".   \n",
    "\n",
    "``expression`` => Hier steht der Ausdruck - sprich: das, was in dieser Funktion geschehen soll. Dieser Ausdruck muss stets in einem konkreten Wert resultieren. An dieser Stelle kann eine Funktion angewendet sowie eine Berechnung ausgeführt oder eine If-Else-Condition  geschrieben werden. Loops und Iterationen über Iterables wie Tuples und Range-Objekte sind innerhalb von einer Lambda-Funktion <b>nicht</b> möglich. **Wichtig: Nur genau eine Expression ist hier zu platzieren.**   \n",
    "\n",
    "Ein Return-Statement wird <b>nicht</b> in Lambda-Funktionen verwendet. Auch ``pass`` ist in Lambda-Funktionen nicht möglich.\n",
    "<br>\n",
    "\n",
    "\n",
    "### Beispiel zu einer Lambda-Funktion\n",
    "\n",
    "Die folgende Lambda-Funktion gibt das ihr übergebene Argument unverändert zurück.  \n",
    "\n",
    "Das ist die reine **Definition** der Lambda-Funktion:"
   ]
  },
  {
   "cell_type": "code",
   "execution_count": null,
   "metadata": {},
   "outputs": [],
   "source": [
    "lambda x:x"
   ]
  },
  {
   "cell_type": "markdown",
   "metadata": {},
   "source": [
    "Wie du siehst, passiert hier bei der Ausführung noch nicht viel. Die Ausgabe zeigt an, wo die Funktion sitzt: sie wird in der übergeordneten Hauptmethode, der <b>``__main__``-Methode</b> ausgeführt. Das ist die Methode, in der alle zum aktuellen Programm gehörigen Funktionen ausgeführt werden.  \n",
    "\n",
    "Mit <b>lambda>(x)></b> wird angezeigt, dass diese Lambda-Funktion ein Argument, <b>x</b>, aufnimmt. Der Name des Arguments bzw. der Variablenname kann wieder jeder beliebige, Python-konforme Name sein.    \n",
    "\n",
    "Für die Ausführung dieser Funktion gibt es zwei Möglichkeiten.  \n",
    "\n",
    "**1. Möglichkeit zur Ausführung von Lambda-Funktionen:**\n",
    "\n",
    "Setzt man die Lambda-Funktion in runde Klammern, kann das Argument nachgestellt in runden Klammern übergeben werden:"
   ]
  },
  {
   "cell_type": "code",
   "execution_count": null,
   "metadata": {},
   "outputs": [],
   "source": [
    "(lambda x:x)(1)"
   ]
  },
  {
   "cell_type": "markdown",
   "metadata": {},
   "source": [
    "Wenn du ein anderes Argument, statt 1, angibst, wird dieses ausgegeben werden.  \n",
    "\n",
    "**2. Möglichkeit zur Ausführung von Lambda-Funktionen (weniger gebräuchlich):**\n",
    "\n",
    "Man kann eine Lambda-Funktion auch einer Variablen zuweisen. Anschließend verwendet man diesen Variablennamen, um das Argument wieder nachgestellt in runden Klammern zu übergeben:"
   ]
  },
  {
   "cell_type": "code",
   "execution_count": null,
   "metadata": {},
   "outputs": [],
   "source": [
    "lambda_func = lambda x:x\n",
    "\n",
    "lambda_func(1)"
   ]
  },
  {
   "cell_type": "markdown",
   "metadata": {},
   "source": [
    "Es gibt noch eine weitere Schreibweise von Lambda-Funktionen. Mit dieser Syntax wird eine extra Klammer um die Expression gesetzt wird. Besonders vorteilhaft für die Lesbarkeit ist das bei längeren Expressions. Auf dieses Beispiel angewandt sieht die Schreibweise so aus:"
   ]
  },
  {
   "cell_type": "code",
   "execution_count": null,
   "metadata": {},
   "outputs": [],
   "source": [
    "(lambda x:\n",
    " (x))(1)"
   ]
  },
  {
   "cell_type": "markdown",
   "metadata": {},
   "source": [
    "Äquivalent zu dieser Funktion ist die \"identity\"-Funktion:"
   ]
  },
  {
   "cell_type": "code",
   "execution_count": null,
   "metadata": {},
   "outputs": [],
   "source": [
    "def identity(x):\n",
    "    return x"
   ]
  },
  {
   "cell_type": "code",
   "execution_count": null,
   "metadata": {},
   "outputs": [],
   "source": [
    "z = 1\n",
    "\n",
    "identity(z)"
   ]
  },
  {
   "cell_type": "markdown",
   "metadata": {},
   "source": [
    "Wenn wir uns die ``identity``-Funktion anzeigen lassen, sehen wir ihren Namen (``identy(x)`` im Output:"
   ]
  },
  {
   "cell_type": "code",
   "execution_count": null,
   "metadata": {},
   "outputs": [],
   "source": [
    "identity"
   ]
  },
  {
   "cell_type": "markdown",
   "metadata": {},
   "source": [
    "<b>Namen von Lambda-Funktionen werden hingegen nicht gespeichert</b>. Im Output wirst du - egal, mit welchem Namen du sie definiert hast - stets nur ``lambda`` sehen:"
   ]
  },
  {
   "cell_type": "code",
   "execution_count": null,
   "metadata": {},
   "outputs": [],
   "source": [
    "lambda_func = lambda x:x\n",
    "\n",
    "lambda_func(1)"
   ]
  },
  {
   "cell_type": "code",
   "execution_count": null,
   "metadata": {},
   "outputs": [],
   "source": [
    "lambda_func"
   ]
  },
  {
   "cell_type": "markdown",
   "metadata": {},
   "source": [
    "Eben deshalb werden sie <b>anonyme Funktionen</b> genannt. Ihr Einsatzgebiet betrifft einfache Funktionen, für die es zu viel Aufwand wäre, extra eine eigene Funktion mit einem Namen zu definieren.  \n",
    "\n",
    "Wenn es zu einem Fehler in einer Lambda-Funktion kommt und mehrere Lambda-Funktionen in einem Programm eingesetzt werden, macht dieser Umstand die Zurückverfolgung (engl.: traceback) des Fehlers aufwändiger. Es wird nie der Name der fehlerverurachenden Lambda-Funktion angezeigt werden.  \n",
    "\n",
    "<div class=\"alert alert-block alert-info\">\n",
    "<font size=\"3\"><b>Tipp:</b></font>\n",
    "<br>\n",
    "    \n",
    "Laut dem Python-Styleguide <b>PEP8</b> sollten Lambda-Funktion nicht einer Variablen zugewiesen werden, denn das würde den Zweck von nutzerdefinierten Funktionen (die immer einen Namen haben) unterwandern. Außerdem brauchen Lambda-Funktionen keinen Namen, denn ihr Vorteil ist es, schnell, kurz und knapp eine Funktion definieren zu können.  \n",
    "\n",
    "Mehr über Python-Style kannst du hier nachlesen: https://www.python.org/dev/peps/pep-0008/\n",
    "</div>  \n",
    "<br>\n",
    "\n",
    "### Beispiel zu einer Lambda-Funktion mit einer Berechnung\n",
    "\n",
    "**Wie würdest du die folgende Funktion mit einer Lambda-Funktion umsetzen?**"
   ]
  },
  {
   "cell_type": "code",
   "execution_count": null,
   "metadata": {},
   "outputs": [],
   "source": [
    "def add1(x):\n",
    "    \"\"\"Adds 1 to argument x and returns result.\"\"\"\n",
    "    res = x + 1\n",
    "    return res\n",
    "\n",
    "add1(3)"
   ]
  },
  {
   "cell_type": "markdown",
   "metadata": {},
   "source": [
    "Probier es in der folgenden Code-Zelle aus, bvor du dir die Lösung ansiehst:"
   ]
  },
  {
   "cell_type": "code",
   "execution_count": null,
   "metadata": {},
   "outputs": [],
   "source": []
  },
  {
   "cell_type": "markdown",
   "metadata": {},
   "source": [
    "<div class=\"alert alert-block alert-success\">\n",
    "<br>  \n",
    "<br>  \n",
    "<br>  \n",
    "<br>  \n",
    "<br>  \n",
    "<br>  \n",
    "<br>  \n",
    "<br>  \n",
    "<br>  \n",
    "<br>  \n",
    "<br>  \n",
    "<br>  \n",
    "<br> \n",
    "<b>Antwort:</b>  \n",
    "<br>  \n",
    "<br>  \n",
    "<br>  \n",
    "<br>  \n",
    "<br>  \n",
    "</div>"
   ]
  },
  {
   "cell_type": "code",
   "execution_count": null,
   "metadata": {},
   "outputs": [],
   "source": [
    "(lambda x:x+1)(3)"
   ]
  },
  {
   "cell_type": "markdown",
   "metadata": {},
   "source": [
    "### Beispiel zu einer Lambda-Funktion mit mehreren Argumenten  \n",
    "\n",
    "Übergebene Argumente werden mit einem Komma getrennt vor den Doppelpunkt gesetzt:"
   ]
  },
  {
   "cell_type": "code",
   "execution_count": null,
   "metadata": {},
   "outputs": [],
   "source": [
    "(lambda x,y: x+y)(2,3)"
   ]
  },
  {
   "cell_type": "markdown",
   "metadata": {},
   "source": [
    "Ein Argument kann auch mehrmals als Rückgabewert definiert werden.  \n",
    "\n",
    "### Beispiel zur mehrfachen Rückgabe eines Arguments  \n",
    "\n",
    "Die Rückgabewerte werden mit einem Komma getrennt und in eine in sich geschlossene, runde Klammer gesetzt:"
   ]
  },
  {
   "cell_type": "code",
   "execution_count": null,
   "metadata": {},
   "outputs": [],
   "source": [
    "(lambda x: (x*2, x**2))(4)"
   ]
  },
  {
   "cell_type": "markdown",
   "metadata": {},
   "source": [
    "Es ist wichtig, dass die definierten Argumente auch Teil der Expression sind.  \n",
    "\n",
    "<br>\n",
    "\n",
    "<div class=\"alert alert-block alert-warning\">\n",
    "<font size=\"3\"><b>1. Übung zu Lambda-Funktionen:</b></font> \n",
    "    \n",
    "Schreibe die folgende Funktion in eine Lambda-Funktion um.\n",
    "</div>"
   ]
  },
  {
   "cell_type": "code",
   "execution_count": null,
   "metadata": {},
   "outputs": [],
   "source": [
    "def print_name(first_name, last_name):\n",
    "    \"\"\"Prints string argument first_name and last-name. Formats them: \n",
    "    print(f'customer name: {first_name.title()} {last_name.title()}') and returns this.\"\"\"\n",
    "    return print(f'customer name: {first_name.title()} {last_name.title()}')\n",
    "\n",
    "print_name('Rashid', 'Samsara')"
   ]
  },
  {
   "cell_type": "code",
   "execution_count": null,
   "metadata": {},
   "outputs": [],
   "source": []
  },
  {
   "cell_type": "markdown",
   "metadata": {},
   "source": [
    "### Arten von Argumenten, die an Lambda-Funktionen übergeben werden können\n",
    "\n",
    "Alle Arten von Argumenten, welche du bisher kennengelernt hast, können auch in Lambda-Funktionen eingesetzt werden.  \n",
    "\n",
    "#### Positional Argumente\n",
    "\n",
    "Diese hast du bereits in dieser Einheit angewendet. Das sind Argumente, die an festen Positionen übergeben werden.  \n",
    "\n",
    "Beispiel:"
   ]
  },
  {
   "cell_type": "code",
   "execution_count": null,
   "metadata": {},
   "outputs": [],
   "source": [
    "(lambda x,y: x/y)(2,0)"
   ]
  },
  {
   "cell_type": "markdown",
   "metadata": {},
   "source": [
    "<b>x</b> und <b>y</b> sind die positionellen Argumente. Wie du an diesem Ergebnis sehen kannst, wurde das zweite, übergebene Argument auch an die zweite Argument-Position der Lambda-Funktion eingesetzt.  \n",
    "<br>\n",
    "\n",
    "#### Default Argumente\n",
    "\n",
    "Default Argumente sind Argumente mit voreingestellten Werten. Du kannst eine Lambda-Funktion ausschließlich mit voreingestellten Werten ausstatten - du kannst sie aber auch mit positional Argumenten mixen. Beachte dann, dass immer zuerst die positional/non-default Argumente angegeben werden und erst danach die default Argumente.  \n",
    "\n",
    "Das Beispiel zeigt einen Mix aus non-default und default Argumenten:"
   ]
  },
  {
   "cell_type": "code",
   "execution_count": null,
   "metadata": {},
   "outputs": [],
   "source": [
    "(lambda a,b=1,c=2: a+b+c)(1)"
   ]
  },
  {
   "cell_type": "markdown",
   "metadata": {},
   "source": [
    "Es wurde nur das non-default Argument übergeben.  \n",
    "\n",
    "Die default Argumente werden wie gewohnt überschrieben, wenn sie an die Funktion übergeben werden:"
   ]
  },
  {
   "cell_type": "code",
   "execution_count": null,
   "metadata": {},
   "outputs": [],
   "source": [
    "(lambda a,b=1,c=2: a+b+c)(1, c=5, b=2)"
   ]
  },
  {
   "cell_type": "markdown",
   "metadata": {},
   "source": [
    "Wie du siehst, können die Positionen der übergebenen default Argumente vertauscht werden, wenn ihre Keywörter angegeben werden.  \n",
    "\n",
    "Werden sie ohne Keywörter übergegeben, werden sie automatisch in der Reihenfolge übergeben, in der sie in der Funktion definiert wurden:"
   ]
  },
  {
   "cell_type": "code",
   "execution_count": null,
   "metadata": {},
   "outputs": [],
   "source": [
    "(lambda a, b='b', c='c': print(a,b,c))('A','B','C')"
   ]
  },
  {
   "cell_type": "markdown",
   "metadata": {},
   "source": [
    "#### Keyword-Argumente\n",
    "\n",
    "In Lambda-Funktionsdefinitionen gibt es keinen Unterschied zwischen non-default- (= positional) und Keyword-Argumenten.  \n",
    "\n",
    "Die positional Argumente werden zu Keyword-Argumenten, sobald sie mit einem Keyword übergeben werden:"
   ]
  },
  {
   "cell_type": "code",
   "execution_count": null,
   "metadata": {},
   "outputs": [],
   "source": [
    "(lambda x,y: x/y)(y=2, x=0)"
   ]
  },
  {
   "cell_type": "markdown",
   "metadata": {},
   "source": [
    "Werden sie mit einem Keyword übergeben, kann ihre Position vertauscht werden.  \n",
    "<br>\n",
    "\n",
    "#### *args Argumente\n",
    "\n",
    "Auch in Lambda-Funktionen ermöglichen es *args, eine vorher nicht festgelegte Anzahl an Argumenten zu übergeben:"
   ]
  },
  {
   "cell_type": "code",
   "execution_count": null,
   "metadata": {},
   "outputs": [],
   "source": [
    "(lambda *args: sum(args))(1,2,3,4,5)"
   ]
  },
  {
   "cell_type": "markdown",
   "metadata": {},
   "source": [
    "#### **kwargs Argumente\n",
    "\n",
    "Ebenso können mit **kwargs beliebig viele Keyword-Argumente in Lambda-Funktionen untergebracht werden:"
   ]
  },
  {
   "cell_type": "code",
   "execution_count": null,
   "metadata": {},
   "outputs": [],
   "source": [
    "(lambda **kwargs: (print(f'Dictionary: {kwargs}')))(a=1, b= 2, c=3)"
   ]
  },
  {
   "cell_type": "markdown",
   "metadata": {},
   "source": [
    "Weil diese Argumente als Dictionary übergeben werden, kannst du auf die Werte von **kwargs über die Funktion ``kwargs.values()`` zugreifen. Gleichzeitig auf die Keys <b>und</b> Values zugreifen ist über ``kwargs.items()`` möglich. Auch in Lambda-Funktionen gilt: Der Name für kwargs - wie der für args - kann ein beliebiger, Python-konformer Name sein. \n",
    "<br>\n",
    "\n",
    "### Conditions in Lambda-Funktionen\n",
    "\n",
    "If-Else-Conditions, als auch nested If-Else-Conditions, können in Lambda-Funktionen eingebaut werden.  \n",
    "\n",
    "Eine alleinstehende If-Condition kann nicht definiert werden. Das ``else`` ist stets anzufügen.  \n",
    "\n",
    "#### Beispiel zu einer If-Else-Condition in einer Lambda-Funktion"
   ]
  },
  {
   "cell_type": "code",
   "execution_count": null,
   "metadata": {},
   "outputs": [],
   "source": [
    "lambda n:n if n>=20 else n**2"
   ]
  },
  {
   "cell_type": "markdown",
   "metadata": {},
   "source": [
    "Die If-Else Condition wird in die Expression gesetzt. Mit ihr sind Manipulationen an den übergebenen Werten möglich.  \n",
    "\n",
    "Diese Funktion gibt die Werte, die größer/gleich 20 sind unverändert aus. Sind sie kleiner als 20, werden sie quadriert:"
   ]
  },
  {
   "cell_type": "code",
   "execution_count": null,
   "metadata": {},
   "outputs": [],
   "source": [
    "(lambda n:n if n>=20 else n**2)(2)"
   ]
  },
  {
   "cell_type": "code",
   "execution_count": null,
   "metadata": {},
   "outputs": [],
   "source": [
    "(lambda n:n if n>=20 else n**2)(25)"
   ]
  },
  {
   "cell_type": "markdown",
   "metadata": {},
   "source": [
    "#### Beispiel zu einer nested If-Else-Condition in einer Lambda-Funktion\n",
    "\n",
    "Die nested If-Else-Condition wird in eine Klammer nach der äußeren If-Else-Condition - direkt nach ``else`` -  eingefügt. Sie wird dann ausgeführt, wenn die nicht verschachtelte If-Bedingung (die erste) nicht zutrifft. Auch die verschachtelte If-Bedingung benötigt zwingend ``else``:"
   ]
  },
  {
   "cell_type": "code",
   "execution_count": null,
   "metadata": {},
   "outputs": [],
   "source": [
    "lambda n:n if n>=20 else (n**2 if n %2 ==0 else n-1)"
   ]
  },
  {
   "cell_type": "markdown",
   "metadata": {},
   "source": [
    "Mit dieser verschachtelten If-Else-Condition werden alle Zahlen unter 20 quadriert, wenn sie gerade sind. Ansonsten wird von den ungeraden Zahlen unter 20 1 subtrahiert."
   ]
  },
  {
   "cell_type": "code",
   "execution_count": null,
   "metadata": {},
   "outputs": [],
   "source": [
    "(lambda n:n if n>=20 else (n**2 if n %2 ==0 else n-1))(2)"
   ]
  },
  {
   "cell_type": "code",
   "execution_count": null,
   "metadata": {},
   "outputs": [],
   "source": [
    "(lambda n:n if n>=20 else (n**2 if n %2 ==0 else n-1))(3)"
   ]
  },
  {
   "cell_type": "markdown",
   "metadata": {},
   "source": [
    "<br>\n",
    "\n",
    "<div class=\"alert alert-block alert-warning\">\n",
    "<font size=\"3\"><b>2. Übung zu Lambda-Funktionen:</b></font> \n",
    "    \n",
    "Schreibe eine Lambda-Funktion, die die Summe beliebig vieler numerische Werte zurückgibt, wenn deren Summe größer 10 ist. Ansonsten soll die Summe der Werte mit 10 addiert werden.  \n",
    "\n",
    "Tipp: Die anzuwendende built-in Funktion ist in dieser Einheit schon vorgekommen.\n",
    "</div>"
   ]
  },
  {
   "cell_type": "code",
   "execution_count": null,
   "metadata": {},
   "outputs": [],
   "source": []
  },
  {
   "cell_type": "markdown",
   "metadata": {},
   "source": [
    "### Higher Order built-in Funktionen mit Lambda-Funktionen\n",
    "\n",
    "Lambda-Funktionen werden in Python besonders häufig mit <b>higher Order</b> built-in Funktionen eingesetzt. Die sogenannten \"higher Order\"-Funktionen sind solche, die andere Funktionen als Argumente übergeben bekommen können.  \n",
    "\n",
    "Einige dieser Funktionen verfügen über den Parameter ``key``, dem eine Lambda-Funktion (oder eine nutzerdefinierte oder built-in Funktion) zugewiesen werden kann.\n",
    "\n",
    "#### Beispiel zu .sort() mit Lambda-Funktion"
   ]
  },
  {
   "cell_type": "code",
   "execution_count": null,
   "metadata": {},
   "outputs": [],
   "source": [
    "letter_lst = ['j', 'z', 'b']\n",
    "\n",
    "letter_lst.sort(key=lambda letter: letter)\n",
    "\n",
    "letter_lst"
   ]
  },
  {
   "cell_type": "markdown",
   "metadata": {},
   "source": [
    "Die komplette Lambda-Funktion wurde als Key übergeben. Die Listenelemente wurden mit ihr unverändert ausgegeben.  \n",
    "<br>\n",
    "\n",
    "<div class=\"alert alert-block alert-warning\">\n",
    "<font size=\"3\"><b>3. Übung zu Lambda-Funktionen:</b></font> \n",
    "    \n",
    "Schreibe eine Lambda-Funktion, die den höchsten Wert der gegebenen Liste ausgibt.  \n",
    "\n",
    "Tipp: Beachte die Syntax der built-in Funktion, welche du anwendest. Schlage sie gegebenenfalls in der internen Python-Hilfe nach.\n",
    "</div>"
   ]
  },
  {
   "cell_type": "code",
   "execution_count": null,
   "metadata": {},
   "outputs": [],
   "source": [
    "nums_lst = [3245, 123, 8457, 832, 5972]\n",
    "\n"
   ]
  },
  {
   "cell_type": "markdown",
   "metadata": {},
   "source": [
    "#### Die \"higher Order\"-Funktion filter()\n",
    "\n",
    "Eine der am häufigsten mit Lambda-Funktionen verwendeten \"higher Order\"-Funktionen ist ``filter()``. Sie verfügt über keinen Key-Parameter, sondern erhält direkt eine Funktion sowie ein Iterable als zwei Argumente. \n",
    "\n",
    "Syntax von ``filter()``:  \n",
    "<font color=darkgreen>filter(function, iterable)</font>\n",
    "\n",
    "Die übergebene Funktion bestimmt, welche Werte ausgefiltert werden:"
   ]
  },
  {
   "cell_type": "code",
   "execution_count": null,
   "metadata": {},
   "outputs": [],
   "source": [
    "nums= [-2, 7, 11, -3, 8, 13, 0]\n",
    "\n",
    "filtered = filter(lambda n: n > 0 and n < 10, nums)\n",
    "\n",
    "print(filtered)"
   ]
  },
  {
   "cell_type": "markdown",
   "metadata": {},
   "source": [
    "Weil ``filter()`` ein Filter-Objekt erstellt, wird dieses mit ``list()`` in eine Liste konvertiert. Auch eine Umwandlung in andere Iterables wäre an dieser Stelle möglich:"
   ]
  },
  {
   "cell_type": "code",
   "execution_count": null,
   "metadata": {},
   "outputs": [],
   "source": [
    "filtered_lst = list(filtered)\n",
    "\n",
    "print(filtered_lst)"
   ]
  },
  {
   "cell_type": "markdown",
   "metadata": {},
   "source": [
    "An dem folgenden Beispiel siehst du, dass die Umwandlung in ein Iterable (hier ``set()``) auch direkt vor ``filter()`` (nach dessen Anwendung) geschehen kann:"
   ]
  },
  {
   "cell_type": "code",
   "execution_count": null,
   "metadata": {},
   "outputs": [],
   "source": [
    "letters = 'abcdefgh'\n",
    "\n",
    "abc = set(filter(lambda l: l < 'd', letters))\n",
    "\n",
    "print(abc)"
   ]
  },
  {
   "cell_type": "markdown",
   "metadata": {},
   "source": [
    "``filter()`` funktioniert ähnlich zu einer Comprehension, nur dass die gefilterten Werte nachträglich in ein Iterable umgewandelt werden.  \n",
    "\n",
    "Das nächste Beispiel zeigt dir, wie dasselbe mit einer Set-Comprehension umgesetzt wird:"
   ]
  },
  {
   "cell_type": "code",
   "execution_count": null,
   "metadata": {},
   "outputs": [],
   "source": [
    "letters = 'abcdefgh'\n",
    "\n",
    "abc_set = {l for l in letters if l < 'd'}\n",
    "\n",
    "print(abc_set)"
   ]
  },
  {
   "cell_type": "markdown",
   "metadata": {},
   "source": [
    "Wie du siehst, sind die extra Funktionsaufrufe von ``filer()`` und ``set()`` mit einer Set-Comprehension nicht nötig.  \n",
    "\n",
    "``filter()`` bietet allerdings den Vorteil, dass die gefilterten Werte zunächst in einem Filter-Objekt gespeichert sind, was dann nachträglich in jedes andere Iterable umgewandelt werden kann.  \n",
    "\n",
    "Die Umsetzung mit einer nutzerdefinierten Funktion zeigt, wie weniger umständlich die Filterung mit einer Lambda-Funktion zu realisieren ist:"
   ]
  },
  {
   "cell_type": "code",
   "execution_count": null,
   "metadata": {},
   "outputs": [],
   "source": [
    "def abc_filter(iterable):\n",
    "    for i in iterable:\n",
    "        res = i < 'd'\n",
    "    return res\n",
    "\n",
    "abc_set = set(filter(abc_filter, letters))\n",
    "\n",
    "print(abc_set)"
   ]
  },
  {
   "cell_type": "markdown",
   "metadata": {},
   "source": [
    "Bei komplexeren Funktionen ist aufgrund der schlechteren Lesbarkeit von Lambda-Funktionen jedoch der Einsatz einer nutzerdefinierten Funktion vorzuziehen.  \n",
    "<br>\n",
    "\n",
    "#### Die \"higher Order\"-Funktion map()\n",
    "\n",
    "Auch ``map()`` wird sehr häufig mit Lambda-Funktionen verwendet. Mit ``map()`` kann eine Funktion auf alle Elemente eines Iterables angewendet werden.\n",
    "\n",
    "Syntax von ``map()``:  \n",
    "<font color=darkgreen>map(function, iterable)</font>\n",
    "\n",
    "Diese Lambda-Funktion addiert die Mehrwertsteuer von 19% auf alle Preise:"
   ]
  },
  {
   "cell_type": "code",
   "execution_count": null,
   "metadata": {},
   "outputs": [],
   "source": [
    "prices = [3.14, 5.78, 2.80]\n",
    "\n",
    "mapped_prices = map(lambda x: x + (x*0.19), prices)\n",
    "\n",
    "print(mapped_prices)"
   ]
  },
  {
   "cell_type": "markdown",
   "metadata": {},
   "source": [
    "Über ``map()`` wird ein Map-Objekt erstellt, das auch in jedes andere Iterable umgewandelt werden kann.  \n",
    "Zusätzlich werden die Preise in dieser Variante auf zwei Nachkommastellen gerundet:"
   ]
  },
  {
   "cell_type": "code",
   "execution_count": null,
   "metadata": {},
   "outputs": [],
   "source": [
    "mapped_prices = list(map(lambda x: round(x + (x*0.19),2), prices))\n",
    "\n",
    "print(mapped_prices)"
   ]
  },
  {
   "cell_type": "markdown",
   "metadata": {},
   "source": [
    "Auch ``map()`` kann mit nutzerdefinierten Funktionen verwendet werden. Theoretisch könnte dasselbe auch mit Comprehensions erreicht werden, doch auch hier gilt: Ist das Map-Objekt einmal erstellt, bietet es den Vorteil, dass es in jedes andere Iterable umgewandelt werden kann.  \n",
    "<br>\n",
    "\n",
    "#### Die \"higher Order\"-Funktion reduce()\n",
    "\n",
    "``reduce()`` ist eine weitere der am häufigsten mit Lambda-Funktionen \"higher Order\"-Funktionen. Sie reduziert sozusagen alle Elemente eines Iterables auf ein einziges. Die Elemente werden nach den Vorgaben in der übergebenen Funktion reduziert.  \n",
    "\n",
    "Diese Funktion wird über das Modul <b>functools</b> importiert.\n",
    "\n",
    "Syntax von ``reduce()`` (wenn so importiert: ``import functools``):  \n",
    "<font color=darkgreen>functools.reduce(function, iterable, initializer)</font>\n",
    "\n",
    "Das nächste Beispiel zeigt, wie importierte Funktionen ohne den Punkt-Operator nach dem Modulnamen angewendet werden können: indem über sie von (``from``) dem Modul importiert (``import``) werden:"
   ]
  },
  {
   "cell_type": "code",
   "execution_count": null,
   "metadata": {},
   "outputs": [],
   "source": [
    "from functools import reduce\n",
    "\n",
    "values = [1,2,3,4,5]\n",
    "\n",
    "reduced_vals = reduce(lambda x,y: x+y, values)\n",
    "\n",
    "print(reduced_vals)"
   ]
  },
  {
   "cell_type": "markdown",
   "metadata": {},
   "source": [
    "``reduce()`` hat eine ganz besondere Funktionsweise:\n",
    "Es bearbeitet die ersten beiden Werte des übergebenen Iterables und speichert das Ergebnis dieser Bearbeitung ab.  \n",
    "Danach wird der nächste Wert zusammen mit dem Bearbeitungsergebnis bearbeitet.\n",
    "**Die Bearbeitung der Werte findet paarweise nacheinander statt.**\n",
    "\n",
    "Bezogen auf das obere Beispiel passiert das:  \n",
    "1) 1 + 2 = 3 => die 3 wird gespeichert  \n",
    "2) 3 + 3 = 6 => die 6 wird gespeichert  \n",
    "3) 6 + 4 = 10 => die 10 wird gespeichert  \n",
    "4) 10 + 5 = 15 => die 15 wird gespeichert und als Ergebnis von ``reduce()`` zurückgegeben  \n",
    "\n",
    "Der oben in der Syntax vorgestellte Parameter <b>initializer</b> kam noch nicht zum Einsatz. Mit ihm kann ein Startwert festgelegt werden, der zusammen mit dem ersten Wert des Iterables bearbeitet wird:"
   ]
  },
  {
   "cell_type": "code",
   "execution_count": null,
   "metadata": {},
   "outputs": [],
   "source": [
    "values = [1,2,3,4,5]\n",
    "\n",
    "reduced_vals = reduce(lambda x,y: x+y, values, 10)\n",
    "\n",
    "print(reduced_vals)"
   ]
  },
  {
   "cell_type": "markdown",
   "metadata": {},
   "source": [
    "Nun wurde die 10 zuerst mit der 1 addiert, danach die 11 mit der 2 usw.  \n",
    "\n",
    "``reduce()`` basiert auf dem mathematischen Verfahren der Reduktion. Wenn du es umsetzen musst, weißt du jetzt, dass es bereits eine Funktion genau dafür gibt :-)  \n",
    "<br>\n",
    "\n",
    "<div class=\"alert alert-block alert-warning\">\n",
    "<font size=\"3\"><b>4. Übung zu Lambda-Funktionen:</b></font> \n",
    "    \n",
    "Deine MitarbeiterInnen haben neue KundInnen akquiriert. Für jeden/r dieser KundInnen sollen sie einen Bonus von 500,- € erhalten.  \n",
    "\n",
    "Das gegebene Dictionary enthält die Namen deiner MitarbeitInnen und wie viele KundInnen diese akquiriert haben.\n",
    "\n",
    "Dich interessiert dabei, wie hoch der Gesamtbetrag der Boni ist. Ermittle das unter Anwendung von built-in und Lambda-Funktionen.  \n",
    "\n",
    "Diese Aufgabe ist in einer Zeile zu lösen (außer der Ergebnis-Ausgabe über ``print()``) ;-)\n",
    "\n",
    "Es gibt mehr als eine Lösungsvariante - das richtige Ergebnis zählt (unter Einhaltung der Anforderungen)!\n",
    "</div>\n"
   ]
  },
  {
   "cell_type": "code",
   "execution_count": null,
   "metadata": {},
   "outputs": [],
   "source": [
    "employees = {'Barto Brezan': 2,'Iskwe Vei': 5, 'Carla Nyz': 3}\n",
    "\n"
   ]
  },
  {
   "cell_type": "markdown",
   "metadata": {},
   "source": [
    "### Decorators angewendet auf Lambda-Funktionen\n",
    "\n",
    "Zu guter Letzt sei dir noch gezeigt, wie du Decorators mit Lambda-Funktionen verbinden kannst.  \n",
    "\n",
    "Zuvor definierte Decorators können nämlich auch auf Lambda-Funktionen angewendet werden, um diesen Funktionalitäten hinzuzufügen.\n",
    "\n",
    "Der folgende Dekorierer misst die Ausführungszeit der mit ihm dekorierten Funktion:"
   ]
  },
  {
   "cell_type": "code",
   "execution_count": null,
   "metadata": {},
   "outputs": [],
   "source": [
    "import timeit\n",
    "\n",
    "def func_timing(func):\n",
    "    \"\"\"Measures execution time of given function. Returns the result with \n",
    "    'print(f'The execution time of 1 billion calls of \"{func.__name__}\" is: {result} sec.')'\"\"\"\n",
    "    def timing(*tupleargs,**keywordargs):\n",
    "        start_time = timeit.default_timer()\n",
    "        func(*tupleargs,**keywordargs)\n",
    "        result = timeit.default_timer() - start_time\n",
    "        print(f'The execution time of 1 billion calls of \"{func.__name__}\" is: {result} sec.')\n",
    "        return func(*tupleargs,**keywordargs)\n",
    " \n",
    "    return timing"
   ]
  },
  {
   "cell_type": "markdown",
   "metadata": {},
   "source": [
    "Bei der Anwendung ist es wichtig, dass der Decorator zusammen mit der Lambda-Funktion und deren Argumentübergabe in Klammern gesetzt wird (``(func_timing(multiply)(777))``:"
   ]
  },
  {
   "cell_type": "code",
   "execution_count": null,
   "metadata": {},
   "outputs": [],
   "source": [
    "(func_timing(lambda x: x*x)(7))"
   ]
  },
  {
   "cell_type": "markdown",
   "metadata": {},
   "source": [
    "<div class=\"alert alert-block alert-success\">\n",
    "<b>Prima!</b> Du kannst jetzt mit Lambda-Funktionen superschnelle Funktionen für kleinere Operationen schreiben und kennst auch die Feinheiten, auf die beim Einsatz von Lambda-Funktionen zu achten ist.  \n",
    "    \n",
    "Damit hast du die letzte Einheit mit Lehr-Inhalten zu \"3.6 Loops & Funktionen\" abgeschlossen :-)  \n",
    "    \n",
    "In der folgenden Einheit kannst du das Gelernte in zwei praxisorientierten Aufgaben anwenden.\n",
    "</div>"
   ]
  },
  {
   "cell_type": "markdown",
   "metadata": {},
   "source": [
    "<div class=\"alert alert-block alert-info\">\n",
    "<h3>Das kannst du aus dieser Übung mitnehmen:</h3>\n",
    "\n",
    "* **Lambda-Funktionen**\n",
    "    * ermöglichen es in kurzer und knapper Schreibweise, einfachere Operationen sehr schnell auszuführen\n",
    "        * denn sie werden vom Python-Interpreter direkt verstanden\n",
    "    * werden auch <b>anonyme Funktionen</b> genannt\n",
    "        * denn egal, ob man sie benamt (einer Variable zuweist) oder nicht, ihr Funktionsname lautet stets <b>lambda</b>\n",
    "    * können alle Arten von Argumenten aufnehmen, auch args und kwargs\n",
    "    * in Lambda-Funktionen können <b>keine Loops</b> eingebaut werden - nur Conditions\n",
    "    * Syntax von Lambda-Funktionen: <font color = darkgreen>lambda arguments:expression</font>\n",
    "        * => das **Keyword ``lambda``** läutet die Definition einer Lambda-Funktion ein\n",
    "        * => **Argumente** werden vor dem Doppelpunkt definiert\n",
    "            * => dort finden <b>keine Operationen</b> an den Argumenten statt\n",
    "            * => Argumente können beliebig, aber Python-konform benamt werden\n",
    "            * => mehrere Argumente werden mit einem Komma getrennt\n",
    "        * => Lambda-Funktionen können **nur eine Expression** verarbeiten\n",
    "            * => die zuvor übergebenen Argumente werden hier be-/verarbeitet\n",
    "            * => hier können auch Conditions untergebracht werden\n",
    "    * Beispiel 1 zum Schreiben und Ausführen einer Lambda-Funktion:\n",
    "        * ``(lambda x: x+1)(2)`` \n",
    "            * => auf Argument x wird 1 addiert (Output: 3)\n",
    "            * => die Lambda-Funktion wird in runde Klammern gesetzt und dahinter wird ihr das Argument (2) in runden Klammern übergeben\n",
    "            * => das ist die gebräuchlichste Art, Lambda-Funktionen zu schreiben und auszuführen\n",
    "                * = \"pythonic Way\"\n",
    "    * Beispiel 2 zum Schreiben und Ausführen einer Lambda-Funktion:\n",
    "         * ``add1_lambda = lambda x: x+1``\n",
    "         * ``add1_lambda(2)``\n",
    "             * => die Lambda-Funktion wird einer Variable zugewiesen\n",
    "             * => unter diesem Variablennamen wird, ebenfalls nachgestellt in runden Klammern, das Argument an die Lambda-Funktion übergeben\n",
    "             * => ist nicht der \"pythonic Way\", denn zur Benamung sind nutzerdefinierte Funktionen gedacht\n",
    "                 * => Lambda-Funktionen sind dafür gedacht, ohne großen Aufwand Funktionen schreiben zu können\n",
    "    * Beispiel 3 zum Schreiben und Ausführen einer Lambda-Funktion:\n",
    "         * ``(lambda x:``\n",
    "         * ``(x+1)(2)``\n",
    "             * => die Lambda-Funktion wird in runde Klammern gesetzt\n",
    "             * => nach der Argumentdefinition wird die Expression auf der nächsten Zeile zusätzlich auch in runde Klammern gesetzt\n",
    "             * => dahinter folgt der übergebene Wert in runden Klammern\n",
    "             * => diese Schreibweise bietet sich bei längeren Expressions für eine bessere Lesbarkeit an\n",
    "    * **Arten von Argumenten in Lambda-Funktionen**\n",
    "         * **Positional Argumente:**\n",
    "             * Beispiel: ``(lambda x,y: x/y)(2,0)`` => Argumente werden in der Reihenfolge ihrer Definition übergeben (x => 2, y => 0)\n",
    "             * positional Argumente können als **Keyword-Argumente** übergeben werden\n",
    "                 * dann kann ihre Position vertauscht werden\n",
    "                 * Beispiel: ``(lambda x,y: x/y)(y=2, x=0)``\n",
    "         * **Default Argumente:**\n",
    "             * positional Argumente müssen stets vor default Argumenten definiert und übergeben werden\n",
    "             * Beispiel 1: ``(lambda a,b=1,c=2: a+b+c)(1)`` => 1 wird an das positional Argument ``a`` übergeben\n",
    "             * Beispiel 2: ``(lambda a,b=1,c=2: a+b+c)(1, c=5, b=2)`` => die default Argumente ``b`` und ``c`` werden überschrieben\n",
    "             * Beispiel 3: ``(lambda a,b=1,c=2: a+b+c)(1,2,3)`` => 1,2,3 werden in dieser Reihenfolge an ``a``,``b``,``c`` übergeben\n",
    "         * ***args Argumente:**\n",
    "             * Beispiel: ``(lambda *args: sum(args))(1,2,3,4,5)`` => beliebig viele Zahlen werden addiert\n",
    "         * <b>**kwargs Argumente:</b>\n",
    "             * Beispiel: ``(lambda **kwargs: (print(f'Dictionary: {kwargs}')))(a=1, b= 2, c=3)`` => beliebig viele Key-Value-Paare werden als Dictionary ausgegeben\n",
    "    * **Conditions in Lambda-Funktionen**\n",
    "         * nützlich zur Filterung/Bearbeitung von Argumenten\n",
    "         * jedes If-Statement braucht ein ``else`` in Lambda-Funktionen\n",
    "         * Beispiel für eine If-Else-Condition:\n",
    "             * ``(lambda n:n if n>=20 else n**2)(2)`` => Argumente größer/gleich 20 werden zurückgegeben, Argumente kleiner 20 werden quadriert zurückgegeben\n",
    "         * Beispiel für eine nested If-Else-Condition:\n",
    "             * ``(lambda n:n if n>=20 else (n**2 if n %2 ==0 else n-1))(3)`` => Argumente größer/gleich 20 werden zurückgegeben, Argumente kleiner 20 werden quadriert, wenn sie gerade sind, ansonsten wird von ihnen 1 subtrahiert (z.B. Argument 3 ergibt den Output: 2)\n",
    "    * **Lambda-Funktionen in \"higher Order\"-Funktionen**\n",
    "        * sind Funktionen, die andere Funktionen als Argumente erhalten können\n",
    "        * in \"**Key-Funktionen**\":\n",
    "            * Funktionen mit dem Parameter ``key`` können nutzerdefinierte, built-in und Lambda-Funktionen als Argument erhalten\n",
    "            * Beispiel:\n",
    "                * ``lst.sort(key=lambda val: val)`` => sortiert die Werte eine Liste in aufsteigender Reihenfolge\n",
    "        * in der \"higher Order\"-Funktion **filter()**:\n",
    "            * Syntax: <font color=darkgreen>filter(function, iterable)</font>\n",
    "            * Beispiel: ``filtered = filter(lambda n: n > 0 and n < 10, nums_lst)``\n",
    "                * => filtert aus einer Liste mit numerischen Werten alle Werte größer 0 und kleiner 10\n",
    "            * erzeugt ein Filter-Objekt, das in ein anderes Iterable umgewandelt werden kann, z.B. in ein Tuple: ``tuple(filtered)``\n",
    "        * in der \"higher Order\"-Funktion **map()**:\n",
    "            * Syntax: <font color=darkgreen>map(function, iterable)</font>\n",
    "            * Beispiel: ``mapped_prices = map(lambda x: x + (x*0.19), prices_lst)``\n",
    "                * => addiert auf Preise einer Preis-Liste 19%\n",
    "            * erzeugt ein Map-Objekt, das in ein anderes Iterable umgewandelt werden kann, z.B. in eine Liste: ``list(mapped_prices)``\n",
    "        * in der \"higher Order\"-Funktion **reduce()**:\n",
    "            * wird importiert über: ``from functools import reduce``\n",
    "            * Syntax: <font color=darkgreen>functools.reduce(function, iterable, initializer)</font>\n",
    "                * der ``initializer`` kann für einen Startwert optional angegeben werden\n",
    "            * verarbeitet die Elemente eines Iterables paarweise vom Anfang bis zum Ende des Iterables:\n",
    "                * 1) verarbeitet die ersten beiden Elemente nach Funktionsvorgabe, speichert das Ergebnis\n",
    "                * 2) verarbeitet dann das nächste Element mit diesem abgespeicherten Ergebnis\n",
    "                * 3) das geschieht, bis alle Elemente des Iterables auf eines \"reduziert\" worden sind\n",
    "                * ``reduce()`` beruht auf dem mathematischen Verfahren der Reduktion\n",
    "                * mit einem Startwert durch ``initializer`` wird das erste Element nicht mit dem zweiten, sondern zuerst mit dem Startwert verarbeitet\n",
    "            * Beispiel: ``reduced_vals = reduce(lambda x,y: x+y, vals_lst, 10)``\n",
    "                * => addiert das erste Listenelement mit dem Startwert 10 und speichert dann dieses Ergebnis\n",
    "                * => addiert danach das zweite Listenelement mit dem gespeicherten Ergebnis usw.  \n",
    "    * **Decorators angewendet auf Lambda-Funktionen:**\n",
    "         * Dekorierer können allen Funktionen Funktionalitäten hinzufügen - so auch Lambda-Funktionen\n",
    "         * Beispiel:\n",
    "             * ``(a_decorator(lambda x: x*x)(7))``\n",
    "         * der Dekorierer wird in runde Klammern gesetzt\n",
    "         * in seine Funktionsklammern wird die Lambda-Funktion gesetzt\n",
    "         * innerhalb der runden (äußersten) Klammer des Dekorierers wird ein Wert an die Lambda-Funktion übergeben\n",
    "</div>"
   ]
  }
 ],
 "metadata": {
  "kernelspec": {
   "display_name": "Python 3",
   "language": "python",
   "name": "python3"
  },
  "language_info": {
   "codemirror_mode": {
    "name": "ipython",
    "version": 3
   },
   "file_extension": ".py",
   "mimetype": "text/x-python",
   "name": "python",
   "nbconvert_exporter": "python",
   "pygments_lexer": "ipython3",
   "version": "3.7.3"
  }
 },
 "nbformat": 4,
 "nbformat_minor": 2
}
