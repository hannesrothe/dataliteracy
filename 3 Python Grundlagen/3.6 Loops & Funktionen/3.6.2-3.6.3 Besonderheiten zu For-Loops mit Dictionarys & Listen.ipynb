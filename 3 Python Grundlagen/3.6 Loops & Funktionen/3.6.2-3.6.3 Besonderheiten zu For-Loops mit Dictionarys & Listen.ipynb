{
 "cells": [
  {
   "cell_type": "markdown",
   "metadata": {},
   "source": [
    "#  3.6 Loops & Funktionen\n",
    "\n",
    "## 3.6.2-3.6.3 Besonderheiten zu For-Loops mit Dictionarys & Listen\n",
    "\n",
    "Im Anschluss dieser Übungseinheit kannst du ...\n",
    "+ mit For-Loops über Dictionarys iterieren\n",
    "+ getrennt über die Keys oder Values eines Dictionarys iterieren\n",
    "+ leere Dictionarys mit Range-Objekten befüllen\n",
    "+ verstehen, warum Werte einer Original-Liste nicht mit einem For-Loop überschrieben werden sollten\n",
    "+ eine neue Liste mit den in einem For-Loop veränderten Werten einer Original-Liste befüllen\n",
    "+ dir mittels eines For-Loops Listenwerte mit ihren Indizen ausgeben lassen\n",
    "+ in einem For-Loop über zwei Listen gleichzeitig iterieren"
   ]
  },
  {
   "cell_type": "markdown",
   "metadata": {},
   "source": [
    "## 3.6.2 For-Loops über Dictionarys\n",
    "\n",
    "Hast du in der letzten Einheit aufgepasst, ist dir sicher aufgefallen, dass ein Dictionary keine Sequenz ist. Über die Key-Value-Paare eines Dictionarys kann nur mit ``.items()``, einer built-in Funktion für Dictionarys, iteriert werden.  \n",
    "<br>\n",
    "\n",
    "\n",
    "### Beispiel zu einem For-Loop über Dictionary-Items"
   ]
  },
  {
   "cell_type": "code",
   "execution_count": null,
   "metadata": {},
   "outputs": [],
   "source": [
    "stud_dct = {'s1': 'Tobi Toll', 's2': 'Joanna Spiri', 's3': 'Gigi Hiob'}\n",
    "\n",
    "for k,v in stud_dct.items():\n",
    "    print(f'Key: {k}, Value: {v}')"
   ]
  },
  {
   "cell_type": "markdown",
   "metadata": {},
   "source": [
    "Statt einer Variable für die Einzelelemente werden für Dictionarys zwei Variablen, mit Komma getrennt, festgelegt: eine für die Keys, eine für die Values. \n",
    "\n",
    "Dieses Beispiel lautet übersetzt: <font color = darkgreen><b>Für</b></font> jeden Schlüssel, Wert <font color = darkgreen><b>in</b></font> \"stud_dcts\"-Elementen<font color = darkgreen><b>:</b></font> drucke Schlüssel, Wert  \n",
    "\n",
    "<br>\n",
    "\n",
    "### Syntax eines For-Loops mit einem Dictionary\n",
    "\n",
    "\n",
    "Die feste Syntax (in grün) ist demnach:  \n",
    "<br>\n",
    "<font color = darkgreen><b>for</b> </font>key, value <font color = darkgreen><b>in</b></font> dictionary<font color = darkgreen><b>:</b></font>  \n",
    "&emsp;&emsp;beliebige_funktion/en_angewendet_auf(key, value)  \n",
    "<br>\n",
    "Was also wieder gleich bleibt, sind: <font color = darkgreen><b>for ... in ...:</b></font>  \n",
    "    \n",
    "Im For-In-Statement werden selbst definierte, aber Python-konforme Namen für die Keys und Values festgelegt. Typischerweise  werden <b>k</b> für die Keys und <b>v</b> für die Values gewählt.  \n",
    "<br>\n",
    "\n",
    "Es ist weiterhin möglich, nur über die Keys oder nur über die Values eines Dictionarys zu iterieren.  \n",
    "\n",
    "\n",
    "### Beispiele zu einem For-Loop über Dictionary-Keys"
   ]
  },
  {
   "cell_type": "code",
   "execution_count": null,
   "metadata": {},
   "outputs": [],
   "source": [
    "stud_dct = {'s1': 'Tobi Toll', 's2': 'Joanna Spiri', 's3': 'Gigi Hiob'}\n",
    "\n",
    "for k in stud_dct.keys():\n",
    "    print(f'Key: {k}')"
   ]
  },
  {
   "cell_type": "markdown",
   "metadata": {},
   "source": [
    "Um über die Keys eines Dictionarys zu iterieren, verwendest du die Dictionary-Funktion ``.keys()``. Beachte, dass du dann auch nur eine Variable (<b>k</b>) anzugeben brauchst.  \n",
    "\n",
    "Weil Python ohne die Angabe von ``.keys()`` automatisch über die Dictionary-Keys iteriert, kannst du diese Funktion **einfach weglassen**:"
   ]
  },
  {
   "cell_type": "code",
   "execution_count": null,
   "metadata": {},
   "outputs": [],
   "source": [
    "stud_dct = {'s1': 'Tobi Toll', 's2': 'Joanna Spiri', 's3': 'Gigi Hiob'}\n",
    "\n",
    "for k in stud_dct:\n",
    "    print(f'Key: {k}')"
   ]
  },
  {
   "cell_type": "markdown",
   "metadata": {},
   "source": [
    "\n",
    "\n",
    "\n",
    "### Beispiel zu einem For-Loop über Dictionary-Values"
   ]
  },
  {
   "cell_type": "code",
   "execution_count": null,
   "metadata": {},
   "outputs": [],
   "source": [
    "stud_dct = {'s1': 'Tobi Toll', 's2': 'Joanna Spiri', 's3': 'Gigi Hiob'}\n",
    "\n",
    "for v in stud_dct.values():\n",
    "    print(f'Value: {v}')"
   ]
  },
  {
   "cell_type": "markdown",
   "metadata": {},
   "source": [
    "Analog zu den Keys verwendest du für die Iteration über die Values stattdessen die Dictionary-Funktion ``.values()``. Auch hier ist in dem For-In-Satement nur eine Variable (<b>v</b>) für die Values zu definieren. \n",
    "<br>\n",
    "\n",
    "An den bisherigen Beispielen konntest du sehen, dass in dem For-In-Statement auch Funktionen untergebracht werden können. Diese enden nicht bei ``range()``, ``.items()``, ``.keys()`` und ``.values()``, sondern auch weitere sind möglich.  \n",
    "\n",
    "\n",
    "### Beispiel zu einem For-Loop über ein sortiertes Dictionary"
   ]
  },
  {
   "cell_type": "code",
   "execution_count": null,
   "metadata": {},
   "outputs": [],
   "source": [
    "stud_dct = {'s1': 'Tobi Toll', 's2': 'Joanna Spiri', 's3': 'Gigi Hiob'}\n",
    "\n",
    "for v in sorted(stud_dct.values()):\n",
    "    print(f'Value: {v}')"
   ]
  },
  {
   "cell_type": "markdown",
   "metadata": {},
   "source": [
    "### Beispiel zur Befüllung eines leeren Dictionarys mit range()\n",
    "\n",
    "For-Loops können auch dazu verwendet werden, um leere Datenstrukturen zu befüllen.  "
   ]
  },
  {
   "cell_type": "code",
   "execution_count": null,
   "metadata": {},
   "outputs": [],
   "source": [
    "dct = {}\n",
    "\n",
    "for x in range(1,4):\n",
    "    dct[x] = x**2\n",
    "    \n",
    "print(dct)"
   ]
  },
  {
   "cell_type": "markdown",
   "metadata": {},
   "source": [
    "Zuerst wird ein leeres Dictionary angelegt. Die Variable <b>x</b> bezieht sich auf die <b>Keys</b> des Dictionarys. In dem For-In-Statement werden diese potentiellen Keys als Werte von 1-3 festgelegt (in ``range()``).  \n",
    "\n",
    "Im For-Loop-Body werden dem leeren Dictionary diese Keys mit ``dct[x]`` zugewiesen.  \n",
    "Mit ``dct[x] = x**2`` wird den Keys der Value zugewiesen: Das ist der Key zum Quadrat.  \n",
    "\n",
    "In der Datenverarbeitung kann es vorkommen, dass du mal ein Dictionary mit Integers als Keys benötigst. Zum Beispiel, um die Dictionary-Values an leicht nachvollziehbaren Positionen zu speichern, die Indizen ähneln. Mit ``range()`` wird dir die Arbeit erspart, selbst eine Integer-Liste anzulegen und diese zur Festlegung der Dictionary-Keys zu verwenden.  \n",
    "\n",
    "\n",
    "<div class=\"alert alert-block alert-info\">\n",
    "    <font size=\"3\"><b>Tipp:</b></font>  \n",
    "    \n",
    "Auch, wenn es bei der Erstellung eines Dictionarys über ``d = dict()`` zu einem <font color = darkred>SyntaxError</font> kommt, wenn Integers als Keys gewählt werden, sind Integers grundsätzlich als Keys zulässig.  \n",
    "    \n",
    "Alle immutable (unveränderlichen) Datentypen dürfen als Dictionary-Keys gewählt werden - dazu zählen auch Integers.  \n",
    "\n",
    "Mehr dazu findest du in Kapitel 3.5.1 zu \"Dictionaries\".\n",
    "</div>  \n",
    "<br>\n",
    "<br>"
   ]
  },
  {
   "cell_type": "markdown",
   "metadata": {},
   "source": [
    "<div class=\"alert alert-block alert-warning\">\n",
    "    <font size=\"3\"><b>1. Übung: For-Loop über Dictionary:</b></font>  \n",
    "<br>\n",
    "    \n",
    "Das folgende Dictionary enthält deine BankkundInnen sowie ihre Kontostände.  \n",
    "Der Zinssatz (engl.: interest rate) dieser Konten liegt bei 5%.\n",
    "Es ist Zeit, die jährlichen Zinsen zu verbuchen.\n",
    "\n",
    "Verwende einen For-Loop, um jedem deiner KundInnen 5% auf ihr Guthaben gutzuschreiben.\n",
    "\n",
    "Das neue Guthaben ergibt sich aus dieser Formel:  \n",
    "\n",
    "Guthaben = Guthaben * (1 + Zinsen/100)\n",
    "\n",
    "Verwende die Variablen des For-In-Statements, um am Dictionary <b>customers</b> die zu aktualisierenden Values an den aktuellen Keys zu überschreiben.  \n",
    "\n",
    "Lass dir anschließend das Original-Dictionary nach dem For-Loop ausgeben, um zu überprüfen, ob seine Werte überschrieben worden sind.\n",
    "</div>\n"
   ]
  },
  {
   "cell_type": "code",
   "execution_count": null,
   "metadata": {},
   "outputs": [],
   "source": [
    "customers = {'Sandra Hempel': 12954, 'Sascha Kusmin': 14389, 'Evelyn Marsman': 8233}\n",
    "interest_rate = 5\n",
    "\n"
   ]
  },
  {
   "cell_type": "markdown",
   "metadata": {},
   "source": [
    "Solltest du Schwierigkeiten mit dieser Aufgabe haben, erinnere dich daran, wie du die Werte bestimmter Keys eines Dictionarys überschreibst: mit der Index-Notation. Das soll innerhalb des For-Loops geschehen.  \n",
    "\n",
    "Bei der Überprüfung von <b>customers</b> sollte dir aufgefallen sein, dass die Original-Werte tatsächlich überschrieben worden sind. Das liegt daran, dass auf das Original-Dictionary <b>customers</b> während der Überschreibung zugegriffen worden ist.  \n",
    "\n",
    "Obwohl die Keys und Values als Kopien im For-In-Statement und im For-Loop-Body existieren, überschreiben diese Kopien trotzdem die Original-Werte des Original-Dictionarys, denn dieses ist im For-Loop-Body zur Überschreibung angegeben worden.  \n",
    "<br>\n",
    "\n",
    "## 3.6.3 Besonderheiten zu For-Loops über Lists\n",
    "\n",
    "Original-Eelemente einer Liste in einem For-Loop zu überschreiben, ist nur über die Index-Notation <b>nicht möglich</b>.  \n",
    "\n",
    "**Wie kannst du also eine Liste nachhaltig mit einem For-Loop verändern und wieso funktioniert das nicht mit der Index-Notation?**  \n",
    "\n",
    "Wie du weißt, bezieht sich die im For-In-Statement definierte Variable auf Kopien der einzelnen Elemente.  \n",
    "\n",
    "<br>\n",
    "\n",
    "### Beispiel zur Unbeeinflussbarkeit der Original-Liste"
   ]
  },
  {
   "cell_type": "code",
   "execution_count": null,
   "metadata": {},
   "outputs": [],
   "source": [
    "nums = [1, 2, 3, 4]\n",
    "\n",
    "for n in nums:\n",
    "    n = n*2\n",
    "    print(n)"
   ]
  },
  {
   "cell_type": "code",
   "execution_count": null,
   "metadata": {},
   "outputs": [],
   "source": [
    "nums"
   ]
  },
  {
   "cell_type": "markdown",
   "metadata": {},
   "source": [
    "Die Listeneinträge wurden in dem For-Loop mal 2 genommen.  \n",
    "\n",
    "Lässt man sich anschließend die Original-Liste ausgeben, hat diese Multiplikation keinen Einfluss auf sie genommen.  \n",
    "\n",
    "Aber wir könnten doch die Werte der Original-Liste auch mit der Index-Notation überschreiben - oder?\n",
    "\n",
    "### Schlechtes Beispiel zur Anwendung der Index-Notation auf eine Liste in einem For-Loop"
   ]
  },
  {
   "cell_type": "code",
   "execution_count": null,
   "metadata": {},
   "outputs": [],
   "source": [
    "nums = [1, 2, 3, 4]\n",
    "\n",
    "for n in nums:\n",
    "    nums[n] = n*2\n",
    "\n",
    "nums"
   ]
  },
  {
   "cell_type": "markdown",
   "metadata": {},
   "source": [
    "**Wie konnte es zu dieser Fehlermeldung kommen?**  \n",
    "\n",
    "Listen sind Iterables, doch noch spezifischer sind sie Sequenzen. In einem For-Loop wird eine Sequenz generell anhand ihrer Indize durchlaufen.  \n",
    "\n",
    "Wird nun ein nicht existierender Index an eine Position der Liste gesetzt, kommt es zu dieser Fehlermeldung.  \n",
    "\n",
    "In der 4. Iteration über die Liste ist Folgendes geschehen:  \n",
    "\n",
    "nums[4] = 4*2\n",
    "\n",
    "Doch die Indize der Liste reichen nur von 0-3! Einen 4. Index gibt es nicht.\n",
    "\n",
    "**Wählen wir die Listenwerte so, dass sie den Indizen der Liste gleichen, funktioniert die Überschreibung:**"
   ]
  },
  {
   "cell_type": "code",
   "execution_count": null,
   "metadata": {},
   "outputs": [],
   "source": [
    "\"\"\" n wird im Output nicht verändert, weil n nicht mit \"n = n*2\" überschrieben wird, \n",
    "nur n in der Origonal-Liste wird verändert\"\"\"\n",
    "\n",
    "nums = [0,1,2,3]\n",
    "\n",
    "for n in nums:\n",
    "    nums[n] = n*2\n",
    "    print(n)"
   ]
  },
  {
   "cell_type": "code",
   "execution_count": null,
   "metadata": {},
   "outputs": [],
   "source": [
    "nums"
   ]
  },
  {
   "cell_type": "markdown",
   "metadata": {},
   "source": [
    "Doch in welchen Fällen haben wir in der Praxis schon Listen, die ausgerechnet die Werte von 0 bis zum Beispiel 100 enthalten??  \n",
    "\n",
    "**Und was passiert, wenn wir gar nicht den Datentyp Integer für unsere Listeneinträge vorliegen haben?**"
   ]
  },
  {
   "cell_type": "code",
   "execution_count": null,
   "metadata": {},
   "outputs": [],
   "source": [
    "revenues = [1111.0, 2222.0, 3333.0]\n",
    "\n",
    "for i in revenues:\n",
    "    revenues[i] = i*2"
   ]
  },
  {
   "cell_type": "markdown",
   "metadata": {},
   "source": [
    "Indize gehören zum Datentyp Integer.  \n",
    "Diese Fehlermeldung macht deutlich: Die Werte einer Liste werden nicht mit der Variable im For-In-Statement angewählt, sondern die Listenwerte werden von Python als Indize interpretiert.  \n",
    "\n",
    "**Warum werden in diesem Beispiel dann trotzdem die richtig veränderten Werte der Liste ausgegeben?**"
   ]
  },
  {
   "cell_type": "code",
   "execution_count": null,
   "metadata": {},
   "outputs": [],
   "source": [
    "nums = [1, 2, 3, 4]\n",
    "\n",
    "for n in nums:\n",
    "    n = n*2\n",
    "    print(n)"
   ]
  },
  {
   "cell_type": "markdown",
   "metadata": {},
   "source": [
    "Über die im For-In-Statement festgelegte Variable wird zwar mittels der Indize iteriert, doch der For-Loop ist so im Hintergrund programmiert, dass über die Indize bereits die Werte angewählt werden, die an den Listenindizen enthalten sind.\n",
    "\n",
    "**Die Veränderung der Listenwerte funktioniert, auch in dieser Liste von weiter oben:**"
   ]
  },
  {
   "cell_type": "code",
   "execution_count": null,
   "metadata": {},
   "outputs": [],
   "source": [
    "revenues = [1111.0, 2222.0, 3333.0]\n",
    "\n",
    "for i in revenues:\n",
    "    i = i*2\n",
    "    print(i)"
   ]
  },
  {
   "cell_type": "markdown",
   "metadata": {},
   "source": [
    "Das funktioniert, weil hier keine Überschreibung der Werte an den Index-Positionen mit ``revenues[i] = i*2`` stattgefunden hat!  \n",
    "\n",
    "Die <font color = bx60095>**Index-Notation**</font> ist sozusagen bereits in den For-Loop eingebaut.  \n",
    "\n",
    "Unter der Haube sieht der obige Loop für Python in etwa so aus:\n",
    "\n",
    "for <font color = bx60095>**revenues[&nbsp;i&nbsp;]**</font> (in revenues):  \n",
    "&emsp;i = i&nbsp;*&nbsp;2  \n",
    "&emsp;print(i)  \n",
    "<br>\n",
    "\n",
    "Eine erneute Überschreibung der Werte in der Original-Liste  mit ``revenues[i] = i*2`` führt deshalb zu verschiedenen <font color = darkred>Fehlermeldungen</font> sowie <font color = darkred>semantischen Fehlern</font> (Fehlern, auf die du selbst achten solltest).  \n",
    "\n",
    "<div class=\"alert alert-block alert-info\">\n",
    "    <font size=\"3\"><b>Tipp:</b></font> Noch genauer gesagt, erstellt Python hinter dem Vorhang ein Iterator-Objekt  für die Liste. Das ist ein Objekt, das die Listeneinträge nacheinander durchläuft. Dieser Iterator wird einmalig bei der For-Loop-Definition erstellt. Nachträgliche Änderungen an ihm führen deshalb zu Fehlern.  \n",
    "    \n",
    "Solange es um die Modifizierung bestehender Werte geht, mögen diese Fehler noch überschaubar sein. Doch sollen in einem For-Loop Listeneinträge hinzugefügt oder gelöscht werden, sind unvorhersehbare, nicht mehr nachvollziehbare Ergebnisse garantiert.  \n",
    "\n",
    "**Deshalb gilt allgemein: Ändere niemals etwas an der Anzahl der Listenelemente innerhalb eines For-Loops.**  \n",
    "<br>\n",
    "Übrigens: Die obige alternative Beschreibung (mit ``revenues[i]`` im For-In-Statement) des For-Loops kann noch viel präziser mit einem While-Loop dargestellt werden. Doch dazu kommen wir noch ;-)\n",
    "</div>  \n",
    "<br>\n",
    "<br>\n",
    "Wie können wir trotzdem die Werte einer Original-Liste verändern?  \n",
    "\n",
    "\n",
    "### Überschreibung von Listenwerten\n",
    "\n",
    "Zunächst einmal solltest du **Werte einer Original-Liste nicht mit einem Loop verändern**. Möglicherweise brauchst du die Original-Liste noch. Auch, wenn sich Fehler einschleichen sollten, wären diese nicht mehr reversibel, wenn die Original-Liste nicht mehr existiert. Bei den bisherigen, kurzen Code-Beispielen mag das nicht dramatisch erscheinen, doch wenn du einen längeren Programmablauf hast und du mit vielen verschiedenen Listen arbeitest, kann das sehr undurchsichtig werden.   \n",
    "\n",
    "#### Beispiel zur Übertragung veränderter Listenwerte in eine neue Liste mit .append()"
   ]
  },
  {
   "cell_type": "code",
   "execution_count": null,
   "metadata": {},
   "outputs": [],
   "source": [
    "nums = [1, 2, 3, 4]\n",
    "\n",
    "new_lst = []\n",
    "\n",
    "for i in nums:\n",
    "    new_lst.append(float(i))\n",
    "    \n",
    "new_lst"
   ]
  },
  {
   "cell_type": "markdown",
   "metadata": {},
   "source": [
    "``.append()`` hängt die veränderten Werte an die neue Liste an, beginnend von Index 0, bis alle Werte der Original-Liste durchlaufen worden sind.  \n",
    "<br>\n",
    "<div class=\"alert alert-block alert-info\">\n",
    "    <font size=\"3\"><b>Tipp:</b></font> Beachte auch hierbei den <b>Scope (=Geltungsbereich)</b> von Variablen: Die außerhalb eines For-Loops definierte Variable (im oberen Beispiel \"new_lst\") ist global, also dem gesamten Programm bekannt. Deshalb ist sie auch innerhalb des For-Loops bekannt und kann dort verwendet werden.  \n",
    "    \n",
    "Hättest du \"new_lst\" innerhalb des For-Loops definiert, würde mit jedem For-Loop-Durchlauf eine neue \"new_lst\" erstellt werden. Überlege dir immer, ob das für eine geforderte Aufgabe wirklich nötig wäre. Meistens wird es das nicht sein.\n",
    "</div>  \n",
    "<br>\n",
    "<br>\n",
    "\n",
    "\n",
    "### Ausgabe von Listenwerten und ihrer Indize\n",
    "\n",
    "Bei sehr langen Listen kann es nützlich sein, sich die Listeneinträge mit ihren Positionen/Indizen ausgeben zu lassen.    \n",
    "\n",
    "Über die Funktion ``enumerate()`` wird ein Iterable erzeugt, das von 0 an die Elemente eines weiteren Iterables mitzählt.  \n",
    "\n",
    "#### 1. Beispiel zur Ausgabe von Indizen und Listenwerten mit enumerate()"
   ]
  },
  {
   "cell_type": "code",
   "execution_count": null,
   "metadata": {},
   "outputs": [],
   "source": [
    "customers = ['Adam Apfel', 'Betty Beck', 'Carlotta Cassis']\n",
    "\n",
    "for index, name in enumerate(customers):\n",
    "    print(f'{index}: {name}')"
   ]
  },
  {
   "cell_type": "markdown",
   "metadata": {},
   "source": [
    "Wie bei Dictionarys brauchst du für ``enumerate()`` zwei Variablen im For-In-Statement. Denn ``enumerate()`` erzeugt sozusagen Keys (Indize) zu Werten - in diesem Fall Listenwerten. Deshalb wird eine  Variable für die Indize (die erste!) sowie eine für die Werte benötigt.  \n",
    "Das Iterable, für welches die Werte von 0 an mitgezählt werden, wird ``enumerate()`` in den Funktionsklammern übergeben.  \n",
    "\n",
    "Die default Einstellung, dass die Werte von 0 an gezählt werden, kann mit einem zweiten Argument überschrieben werden.  \n",
    "\n",
    "Syntax: <font color = darkgreen>enumerate(iterable, start = integer)</font>\n",
    "\n",
    "#### 2. Beispiel zur Ausgabe von Indizen und Listenwerten mit enumerate() und einem Startwert"
   ]
  },
  {
   "cell_type": "code",
   "execution_count": null,
   "metadata": {},
   "outputs": [],
   "source": [
    "customers = ['Adam Apfel', 'Betty Beck', 'Carlotta Cassis']\n",
    "\n",
    "for index, name in enumerate(customers, start = 1):\n",
    "    print(f'{index}: {name}')"
   ]
  },
  {
   "cell_type": "markdown",
   "metadata": {},
   "source": [
    "Alternativ könntest du dasselbe mit zwei dir bekannten Funktionen erreichen.  \n",
    "\n",
    "Welche Funktion zählt noch mal die Gesamtanzahl aller Listeneinträge?  \n",
    "\n",
    "Welche Funktion erzeugt eine Zahlenfolge (Sequenz) von einem Start- bis zu einem Endwert?  \n",
    "\n",
    "\n",
    "####  1. Umständlicheres Beispiel zur Ausgabe von Indizen und Listenwerten"
   ]
  },
  {
   "cell_type": "code",
   "execution_count": null,
   "metadata": {},
   "outputs": [],
   "source": [
    "customers = ['Adam Apfel', 'Betty Beck', 'Carlotta Cassis']\n",
    "\n",
    "for i in range(len(customers)):\n",
    "    print(f'{i}: {customers[i]}')"
   ]
  },
  {
   "cell_type": "markdown",
   "metadata": {},
   "source": [
    "Mit den Funktionen ``len()`` und ``range()`` wird dasselbe etwas umständlicher erreicht.  \n",
    "\n",
    "``range()`` kann auch nur mit einem Argument ausgeführt werden, welches dann der Endwert ist, bis zu welchem die Sequenz erstellt wird. Mit der Listenlänge von 3 wird deshalb von 0 bis vor diesen Endwert gezählt, also bis 2.  \n",
    "\n",
    "Um von einem späteren Startwert als 0 aus zu iterieren, gibt es folgende Möglichkeit.\n",
    "\n",
    "####  2. Umständlicheres Beispiel zur Ausgabe von Indizen und Listenwerten"
   ]
  },
  {
   "cell_type": "code",
   "execution_count": null,
   "metadata": {},
   "outputs": [],
   "source": [
    "customers = ['Adam Apfel', 'Betty Beck', 'Carlotta Cassis']\n",
    "\n",
    "for i in range(len(customers)):\n",
    "    print(f'{i+1}: {customers[i]}')"
   ]
  },
  {
   "cell_type": "markdown",
   "metadata": {},
   "source": [
    "Weil <b>i</b> bei 0 anfängt, braucht der gewünschte Startwert nur auf <b>i</b> dazu addiert werden.  \n",
    "\n",
    "\n",
    "<div class=\"alert alert-block alert-info\">\n",
    "    <font size=\"3\"><b>Tipp:</b></font> Bisher haben wir noch nicht über die Kosten von Funktionsaufrufen gesprochen. Wie im Leben, ist auch beim Programmieren bzw. bei der Programmausführung: Zeit = Geld. Langsamere Programme sind schlechter als schnellere Programme. Werden zwei Funktionen statt einer aufgerufen, kostet das mehr Rechenzeit und ist deshalb weniger vorteilhaft.  \n",
    "    \n",
    "Deshalb ist ``enumerate()`` der Kombination aus ``len()`` und ``range()`` vorzuziehen.\n",
    "</div>  \n",
    "<br>\n",
    "\n",
    "<div class=\"alert alert-block alert-warning\">\n",
    "    <font size=\"3\"><b>2. Übung: Neue Liste aus Werten einer anderen Liste - Teil 1:</b></font>  \n",
    "<br>\n",
    "    \n",
    "Dir liegt eine Liste mit Preisen zu Produkten vor. Diese Preise enthalten nicht die Mehrwertsteuer von 19%.  \n",
    "\n",
    "**a)** Nutze einen For-Loop, um eine Liste zu erhalten, welche die Preise inklusive der Mehrwertsteuer enthält. Lass sie dir ausgeben.  \n",
    "\n",
    "**b)** Wenn du dich an den Beispielen dieser Einheit orientierst, wirst du zu einer Lösung kommen, welche etliche Nachkommastellen anzeigt. Wir brauchen die Preise aber nur mit zwei Nachkommastellen.  \n",
    "Nutze die Funktion ``round()``, um die Preise entsprechend zu runden.  \n",
    "\n",
    "Syntax: <font color = darkgreen>round(Wert, Anzahl der Nachkommastellen)</font>\n",
    "</div>"
   ]
  },
  {
   "cell_type": "code",
   "execution_count": null,
   "metadata": {},
   "outputs": [],
   "source": [
    "# a) und b)\n",
    "\n",
    "prices = [12.11, 20.43, 2.92, 1.28, 4.67, 0.98]\n",
    "\n"
   ]
  },
  {
   "cell_type": "markdown",
   "metadata": {},
   "source": [
    "<div class=\"alert alert-block alert-warning\">\n",
    "    <font size=\"3\"><b>2. Übung: Neue Liste aus Werten einer anderen Liste - Teil 2:</b></font>  \n",
    "<br>\n",
    "\n",
    "**c)** Lass dir anschließend in der nachfolgenden Code-Zelle die Positionen der neu berechneten Preise von 1 beginnend an ausgeben. Hinter der Listenposition soll der Preis stehen.  \n",
    "<br>\n",
    "\n",
    "**Erwünschter Output:**  \n",
    "1: 14.41  \n",
    "2: 24.31  \n",
    "3: 3.47  \n",
    "4: 1.52  \n",
    "5: 5.56  \n",
    "6: 1.17\n",
    "</div>"
   ]
  },
  {
   "cell_type": "code",
   "execution_count": null,
   "metadata": {},
   "outputs": [],
   "source": [
    "# c)\n",
    "\n"
   ]
  },
  {
   "cell_type": "markdown",
   "metadata": {},
   "source": [
    "### Über zwei Listen in einem For-Loop iterieren\n",
    "\n",
    "Stell dir vor, du hast eine Liste zu den Namen der Produkten und eine Liste zu ihren Preisen. Wäre es nicht cool, wenn du so über diese Listen iterieren könntest, dass du dir statt eines Integers für die Listenposition den Produktnamen zu dem jeweiligen Preis ausgeben lassen könntest?  \n",
    "\n",
    "Die Funktion, mit der das möglich ist, kennst du schon aus dem Kapitel zur Erstellung Listen: ``zip()``\n",
    "\n",
    "#### Beispiel zur Iteration über zwei Listen mit zip()"
   ]
  },
  {
   "cell_type": "code",
   "execution_count": null,
   "metadata": {},
   "outputs": [],
   "source": [
    "products = ['Rotwein', 'Pfanne', 'Waschmittel', 'Joghurt', 'Kaffee', 'Stecknadeln']\n",
    "vat_prices = [14.41, 24.31, 3.47, 1.52, 5.56, 1.17]\n",
    "\n",
    "for product, price in zip(products, vat_prices):\n",
    "    print(f'{product}: {price}')"
   ]
  },
  {
   "cell_type": "markdown",
   "metadata": {},
   "source": [
    "Auch hier benötigst du wieder zwei Variablen: je eine für die Elemente der zwei Listen.  \n",
    "``zip()`` werden die beiden Listen, mit einem Komma getrennt, übergeben.  \n",
    "Der Rest ist äquivalent zu den vorherigen Beispielen.  \n",
    "\n",
    "\n",
    "<div class=\"alert alert-block alert-success\">\n",
    "<b>Super!</b> Du kannst nun über Dictionarys iterieren, sogar über die Values und/oder Keys eines Dictionarys! Du weißt jetzt auch, wie du über eine Liste iterierst und aus den Veränderungen an dieser eine neue, veränderte Liste erstellst. Du kannst dir darüber hinaus Listenwerte mit Indizen ausgeben lassen und über zwei Listen gleichzeitig iterieren. \n",
    "    \n",
    "In der folgenden Einheit lernst du, wie du For-Loops über Listen noch kompakter schreiben kannst: mit einer List-Comprehension.\n",
    "</div>"
   ]
  },
  {
   "cell_type": "markdown",
   "metadata": {},
   "source": [
    "<div class=\"alert alert-block alert-info\">\n",
    "<h3>Das kannst du aus dieser Übung mitnehmen:</h3>\n",
    "\n",
    "* **For-Loops über Dictionarys**\n",
    "    * um über Keys und Values gleichzeitig zu iterieren, müssen beide als Variablen im For-In-Statement angegeben werden\n",
    "    * feste Syntax in grün: <font color = darkgreen><b>for</b> </font>key, value <font color = darkgreen><b>in</b></font> dictionary.items()<font color = darkgreen><b>:</b></font>  \n",
    "    * für \"key, value\" können auch andere Namen gewählt werden, typischerweise sind das: \"k, v\"\n",
    "    * Syntax für das ausschließliche Iterieren über die Keys: <font color = darkgreen><b>for</b> </font>k <font color = darkgreen><b>in</b></font> **dictionary**<font color = darkgreen><b>:</b></font>  \n",
    "        * Alternativ: <font color = darkgreen><b>for</b> </font>k <font color = darkgreen><b>in</b></font> dictionary**.keys()**<font color = darkgreen><b>:</b></font>  \n",
    "    * Syntax für das ausschließliche Iterieren über die Values: <font color = darkgreen><b>for</b> </font>v <font color = darkgreen><b>in</b></font> dictionary**.values()**<font color = darkgreen><b>:</b></font>  \n",
    "    * im For-In-Statement können auch weitere Funktionen angewendet werden\n",
    "        * Beispiel für einen For-Loop über die sortierten Values eines Dictionarys:\n",
    "            * ``for v in sorted(dct.values():``\n",
    "                * ``print(f'Value: {v}')``  => die Values werden alphabetisch sortiert ausgegeben\n",
    "    * um ein Dictionary aus den veränderten Elementen eines bestehenden Dictionarys zu erstellen und auch, um ein Dictionary aus einem Range-Objekt zu erstellen, muss zuvor ein leeres Dictionary angelegt werden, welches dann mit den neuen Elementen befüllt wird\n",
    "        * Beispiel zur Befüllung eines leeren Dictionarys mit ``range()``:  \n",
    "            * ``dct = {}``\n",
    "            * ``for x in range(1,4):``\n",
    "                * ``dct[x] = x**2``\n",
    "            * ``print(dct)`` => Output: {1: 1, 2: 4, 3: 9}  \n",
    "<br>\n",
    "* **For-Loops über Listen**\n",
    "    * eine Liste sollte im For-Loop-Body **nicht** mit der Index-Notation überschrieben werden, denn weil sie eine Sequenz darstellt, wird sie anhand ihrer Indize durchlaufen => das führt zu diversen Fehlern\n",
    "    * möchtest du die Werte einer Original-Liste mit einem For-Loop verändern, lege dafür eine neue, leere Liste an\n",
    "        * Beispiel zur Übertragung veränderter Listenwerte in eine neue Liste mit ``.append()``:  \n",
    "            * ``nums = [1,2,3]``\n",
    "            * ``new_lst = []``\n",
    "            * ``for i in nums:``\n",
    "                * ``new_lst.append(float(i))``\n",
    "            * ``new_lst`` => Output: [1.0, 2.0, 3.0]\n",
    "    * sollte es nötig sein, Listenwerte mit ihren Indizen auszugeben, verwende am besten ``enumerate()``\n",
    "        * Syntax: <font color = darkgreen>enumerate(iterable, start = integer)</font>  \n",
    "            * Beispiel zur Ausgabe von Indizen und Listenwerten mit enumerate() und einem Startwert:\n",
    "                * ``for index, name in enumerate(customers, start = 1):``\n",
    "                    * ``print(f'{index}: {name}')``\n",
    "            * umständlicheres Beispiel zur Ausgabe von Indizen und Listenwerten:\n",
    "                * ``for i in range(len(customers)):``\n",
    "                * ``print(f'{i}: {customers[i]}')``\n",
    "            * um einen anderen Startwert für die Indize festzulegen:\n",
    "                * ``print(f'{i+1}: {customers[i]}')`` => Indize beginnen bei 1\n",
    "    * möchtest du über zwei Listen gleichzeitig iterieren, z.B. um dir die Werte des einen als eine Art Indize des anderen anzeigen zu lassen, verwende ``zip()``\n",
    "        * Beispiel zur Iteration über zwei Listen mit ``zip()``:\n",
    "            * ``for product, price in zip(products, vat_prices):``\n",
    "                * ``print(f'{product}: {price}')`` => hinter jedem Produkt erscheint sein Preis\n",
    "</div>"
   ]
  }
 ],
 "metadata": {
  "kernelspec": {
   "display_name": "Python 3",
   "language": "python",
   "name": "python3"
  },
  "language_info": {
   "codemirror_mode": {
    "name": "ipython",
    "version": 3
   },
   "file_extension": ".py",
   "mimetype": "text/x-python",
   "name": "python",
   "nbconvert_exporter": "python",
   "pygments_lexer": "ipython3",
   "version": "3.7.3"
  }
 },
 "nbformat": 4,
 "nbformat_minor": 2
}
