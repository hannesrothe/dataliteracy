{
 "cells": [
  {
   "cell_type": "markdown",
   "metadata": {},
   "source": [
    "#  3.6 Loops & Funktionen\n",
    "\n",
    "## 3.6.4 List-Comprehension\n",
    "\n",
    "Im Anschluss dieser Übungseinheit kannst du ...\n",
    "+ List-Comprehensions verstehen\n",
    "+ eigene List-Comprehensions schreiben\n",
    "+ mit List-Comprehensions aus Werten eines Iterables eine neue Liste erstellen\n",
    "+ die Werte übergebener Iterables mit Bedingungen herausfiltern und modifizieren"
   ]
  },
  {
   "cell_type": "markdown",
   "metadata": {},
   "source": [
    "## 3.6.4 List-Comprehension\n",
    "\n",
    "Eine List-Comprehension (auf Deutsch: Listen-Abstraktion) wird - wie ein For-Loop - verwendet, um über Iterables zu iterieren. Zusätzlich erstellt sie eine neue Liste, weshalb man \"List-Comprehension\" auch mit \"Listen-Einbeziehung\" übersetzen könnte. **Denn das, was du in der List-Comprehension angibst, wird einbezogen, um daraus eine neue Liste zu erschaffen.**  \n",
    "\n",
    "Der größte Vorteil von List-Comprehensions ist, dass du mit ihnen neue Listen aus Iterables herausfiltern kannst, auch unter Einbeziehung von Bedingungen. Ebenso kannst du mit ihnen Objekte **mappen**. Das bedeutet, dass mit einer Funktion und einem Iterable eine neue Liste (das neue Objekt) erstellt wird.  \n",
    "\n",
    "Sie funktioniert ganz ähnlich zu einem For-Loop, doch sie wird viel kompakter geschrieben.  \n",
    "Verwendest du eine List-Comprehension, gestaltest du deinen Code damit effizienter und er wird viel schneller ausgeführt werden.  \n",
    "\n",
    "**Eine List-Comprehension kann bis zu 50% schneller als ein For-Loop sein.**  \n",
    "\n",
    "Das ist allerdings nur dann wahr, wenn du mit deinem For-Loop keine Liste erstellst. Brauchst du keine neue Liste, kannst du getrost auf einen For-Loop zurückgreifen.  \n",
    "\n",
    "Außerdem hängt die Ausführungsgeschwindigkeit beider Wege stark davon ab, wie komplex die in ihr verwendeten Funktionen sind. Bei sehr komplexen Funktionen gibt es zwischen einem For-Loop und einer List-Comprehension kaum Geschwindigkeitsunterschiede. Bei simpleren Funktionen punktet die List-Comprehension aber deutlich mit ihrer Ausführungsgeschwindigkeit.  \n",
    "\n",
    "Deshalb ist es sehr wichtig, dass du sie kennst und richtig anwenden kannst. Doch ein Beispiel sagt mehr als tausend Worte ...\n",
    "\n",
    "### 1. Beispiel zu einer List-Comprehension"
   ]
  },
  {
   "cell_type": "code",
   "execution_count": null,
   "metadata": {},
   "outputs": [],
   "source": [
    "lst = [1, 2, 3, 4]\n",
    "\n",
    "times2 = [x*2 for x in lst]\n",
    "\n",
    "print(times2)"
   ]
  },
  {
   "cell_type": "markdown",
   "metadata": {},
   "source": [
    "Die Listenwerte wurden innerhalb der List-Comprehension mal 2 genommen.  \n",
    "\n",
    "Schauen wir uns den Aufbau der oberen List-Comprehension genauer an.  \n",
    "\n",
    "### Aufbau der List-Comprehension anhand des 1. Beispiels\n",
    "\n",
    "``[x*2 for x in lst]``  \n",
    "\n",
    "``[x*2 ...`` => hier wird das aktuelle Eelement der Liste mal 2 genommen (Ausführung einer Operation/Funktion an **x**)   \n",
    "\n",
    "``... for x in lst]`` => dieser Teil sollte dich stark an das For-In-Statement im For-Loop erinnern: <b>x</b> ist die aktuelle Variable in der Iteration, **lst** ist die Variable des Iterables, das im Loop durchlaufen wird. \n",
    "\n",
    "Für gewöhnlich wird die List-Comprehension einer Variable - der Variable für die entstandene Liste - zugewiesen, die anschließend auf einer nachfolgenden Zeile mit ``print()`` ausgegeben wird :  \n",
    "``result = [x*2 for x in lst]``  \n",
    "``print(result)``  \n",
    "\n",
    "Auf Deutsch übersetzt lautet die obige List-Comprehension etwa: \"Nimm das Listenelement mal 2 und das für(/mit) jedes(/m) Listenelement.\"  \n",
    "\n",
    "Das klingt sehr ähnlich zum For-Loop, nur, dass in der List-Comprehension **zuerst** die am Listenelement auszuführende **Funktion** geschrieben wird. Der Teil nach der Funktion ist wie das **For-In-Statement**:  \n",
    "for</b> </font>i <font color = darkgreen><b>in</b></font> lst<font color = darkgreen><b>:</b></font>  \n",
    "\n",
    "Doch die List-Comprehension wird in eckigen Klammern geschrieben und benötigt deshalb als schließendes Zeichen eine geschlossene eckige Klammer, keinen Doppelpunkt.  \n",
    "\n",
    "### Allgemeiner Aufbau der List-Comprehension\n",
    "\n",
    "Syntax: <font color = darkgreen><b>[</b></font>Operation/Funktion_an(x)  <font color = darkgreen><b>for</b></font> x <font color = darkgreen><b>in</b></font> iterable<font color = darkgreen><b>]</b></font>  \n",
    "\n",
    "Die eckigen Klammern sind für eine List-Comprehension zwingend notwendig. Denn die **List-Comprehension erzeugt** auf diese Weise **stets eine Liste**. Deshalb heißt sie auch List-Comprehension.  \n",
    "Innerhalb von ihr muss nicht zwingend eine Liste zur Iteration angegeben werden. **Du kannst eine List-Comprehension genauso auf fast jedes andere Iterable anwenden - außer, um über Dictionary-Elemente (Keys mit ihren Values)  zu iterieren. Denn dafür verwendest du besser eine Dictionary-Comprehension.**  \n",
    "\n",
    "Nach der öffnenden eckigen Klammer wird eine beliebige Berechnung/Funktion angegeben, die auf den aktuellen Listenwert (oben: <b>x</b>) im Loop angewendet wird. Dieser Teil vor dem ``for`` ist die Expression (auf Deutsch: Ausdruck), auch <b>Output-Expression</b> genannt. Denn hier wird die Variable bearbeitet bzw. ist das der Teil, der in die Liste eingefügt wird. Dieser Teil ist der Output aus der List-Comprehension in die neue Liste.   \n",
    "\n",
    "Danach läutet das <font color = darkgreen><b>for</b></font> den Loop der List-Comprehension ein.  \n",
    "\n",
    "Nach <font color = darkgreen><b>for</b></font> und vor <font color = darkgreen><b>in</b></font> <b>muss</b> die gleiche Variable erscheinen, die zuvor für den aktuellen Listenwert gewählt wurde (oben: <b>x</b>).  \n",
    "\n",
    "Wie im For-In-Statement des For-Loops werden anschließend das <font color = darkgreen><b>in</b></font> und die Iterable-Variable (oben: <b>iterable</b>) gesetzt.  \n",
    "\n",
    "Die List-Comprehension wird mit einer eckigen Klammer geschlossen.\n",
    "\n",
    "<div class=\"alert alert-block alert-warning\">\n",
    "    <font size=\"3\"><b>1. Übung zu List-Comprehension:</b></font>  \n",
    "<br>\n",
    "    \n",
    "Sieh dir den For-Loop in der folgenden Code-Zelle bitte etwas genauer an.  \n",
    "\n",
    "**Kannst du ihn in eine List-Comprehension übersetzen und ihn damit viel schneller machen?**\n",
    "\n",
    "Die Syntax der Ausgabe muss in der Ausgabe deiner Lösung nicht genau so erscheinen. Denn die List-Comprehension erzeugt eine Liste, welche als Liste ausgegeben wird.  \n",
    "</div>"
   ]
  },
  {
   "cell_type": "code",
   "execution_count": null,
   "metadata": {},
   "outputs": [],
   "source": [
    "for i in range(5):\n",
    "    i = i**3\n",
    "    print(i)"
   ]
  },
  {
   "cell_type": "code",
   "execution_count": null,
   "metadata": {},
   "outputs": [],
   "source": [
    "# das wird so als List-Comprehension geschrieben:\n",
    "\n"
   ]
  },
  {
   "cell_type": "markdown",
   "metadata": {},
   "source": [
    "<div class=\"alert alert-block alert-warning\">\n",
    "    <font size=\"3\"><b>2. Übung zu List-Comprehension:</b></font>  \n",
    "<br>\n",
    "    \n",
    "Sieh dir bitte wieder den For-Loop in der folgenden Code-Zelle etwas genauer an.  \n",
    "\n",
    "**Kannst du ihn in eine List-Comprehension übersetzen und ihn damit viel schneller machen?**  \n",
    "</div>"
   ]
  },
  {
   "cell_type": "code",
   "execution_count": null,
   "metadata": {},
   "outputs": [],
   "source": [
    "nums = [1, 2, 3]\n",
    "new_lst = []\n",
    "\n",
    "for n in nums:\n",
    "    n = n**2\n",
    "    new_lst.append(n)\n",
    "    \n",
    "new_lst"
   ]
  },
  {
   "cell_type": "code",
   "execution_count": null,
   "metadata": {},
   "outputs": [],
   "source": [
    "# das wird so als List-Comprehension geschrieben:\n",
    "\n",
    "nums = [1, 2, 3]\n",
    "\n",
    "\n"
   ]
  },
  {
   "cell_type": "markdown",
   "metadata": {},
   "source": [
    "<br>\n",
    "<br>\n",
    "<br>\n",
    "<br>\n",
    "<br>\n",
    "Die 2. Übung war für dich vielleicht etwas schwieriger als die erste? Lies bitte nur weiter, wenn du selbst schon einige Varianten zur Lösung ausprobiert hast.  \n",
    "<br>\n",
    "<br>\n",
    "<br>\n",
    "<br>\n",
    "<br>\n",
    "<br>\n",
    "<br>\n",
    "Bedenke, dass die List-Comprehension automatisch eine neue Liste aus den ihr übergebenen Variablen erzeugt.  \n",
    " \n",
    "Brauchst du dann die Definition für eine neue, leere Liste? Brauchst du noch ``.append()`` für das Einfügen von Werten in die neue Liste?   \n",
    "\n",
    "Die Berechnung von <b>n**2</b> ist die Output-Expression der List-Comprehension.  \n",
    "<br>\n",
    "\n",
    "\n",
    "### List-Comprehension über die Values eines Dictionarys\n",
    "\n",
    "Mit einer List-Comprehension kannst du die Keys oder Values eines Dictionarys in eine Liste extrahieren.  \n",
    "Das ist nützlich, wenn du Listenfunktionen auf sie anwenden und/oder aus diesen Listen neue Dictionarys erstellen  möchtest.\n",
    "\n",
    "**Um die Values eines Dictionarys in eine neue Liste zu extrahieren, gehst du folgendermaßen vor:**  \n",
    "\n",
    "Ebenso wie in einem For-Loop gibst du in einer List-Comprehension die Variable für den aktuellen Value an. Ebenso verwendest du die Funktion ``.values()``, um über die Dictionary-Elemente zu iterieren.  \n",
    "\n",
    "\n",
    "#### Beispiel zu einer List-Comprehension über Dictionary-Values"
   ]
  },
  {
   "cell_type": "code",
   "execution_count": null,
   "metadata": {},
   "outputs": [],
   "source": [
    "stud_dct = {'s1': 'Tobi Toll', 's2': 'Joanna Spiri', 's3': 'Gigi Hiob'}\n",
    "\n",
    "students_lst = [v for v in stud_dct.values()]\n",
    "\n",
    "print(students_lst)"
   ]
  },
  {
   "cell_type": "markdown",
   "metadata": {},
   "source": [
    "\n",
    "Wie in den vorherigen List-Comprehensions wird zuerst eine Variable für den aktuellen Wert (<b>v</b>) in der Iteration festgelegt. Danach folgt das For-In-Statement mit der gleichen Variable (<b>v</b>) und auf welches Iterable sich diese bezieht (<b>stud-dct</b>). Weil wir nur über die Values des Dictionarys iterieren möchten, wenden wir die Funktion ``.values()`` auf das Dictionary an.  \n",
    "<br>\n",
    "\n",
    "### List-Comprehension über die Keys eines Dictionarys\n",
    "\n",
    "Äquivalent zu den Values kannst du auch nur über die Keys eines Dictionarys iterieren und aus diesen eine Liste erzeugen. Weil du das Handwerkszeug dafür schon hast, kannst du das in einer Übung gleich selbst ausprobieren.  \n",
    "\n",
    "<div class=\"alert alert-block alert-warning\">\n",
    "    <font size=\"3\"><b>Übung zu List-Comprehension über Dictionary-Keys:</b></font>  \n",
    "<br>\n",
    "    \n",
    "Lass dir mittels einer List-Comprehension nur die Keys des folgenden Dictionarys als Liste ausgeben.\n",
    "</div>"
   ]
  },
  {
   "cell_type": "code",
   "execution_count": null,
   "metadata": {},
   "outputs": [],
   "source": [
    "fruit_dct = {'Apfel': 0.65, 'Birne': 0.73, 'Kiwi': 0.89}\n",
    "\n"
   ]
  },
  {
   "cell_type": "markdown",
   "metadata": {},
   "source": [
    "<br>\n",
    "<br>\n",
    "<br>\n",
    "<br>\n",
    "<br>\n",
    "\n",
    "Hast du die Funktion ``.keys()`` verwendet?  \n",
    "Das ist richtig, doch du kannst sie auch einfach weglassen, denn ohne nähere Angabe wird automatisch über die Keys des Dictionarys iteriert.  \n",
    "<br>\n",
    "Neben Funktionen dieser Art können noch weitere Funktionen in einer List-Comprehension verwendet werden. Du kannst sogar Bedingungen in eine List-Comprehension einbinden!  \n",
    "\n",
    "\n",
    "### List-Comprehension mit Bedingung\n",
    "\n",
    "Neben dem bisherigen Aufbau mit einer <b>Expression</b> und dem <b>For-In-Statement</b> ist optional eine Bedingung anfügbar. Diesen Teil der List-Comprehension nennt man auch <b>optional Predicate</b> (auf Deutsch: optionales Prädikat).\n",
    "\n",
    "#### 1. Beispiel für eine List-Comprehension mit einer Bedingung"
   ]
  },
  {
   "cell_type": "code",
   "execution_count": null,
   "metadata": {},
   "outputs": [],
   "source": [
    "nums = [1, 2, 3, 4, 5, 6, 7]\n",
    "\n",
    "even_nums = [x for x in nums if x % 2 == 0]\n",
    "\n",
    "print(even_nums)"
   ]
  },
  {
   "cell_type": "markdown",
   "metadata": {},
   "source": [
    "Gehen wir anhand dieses Beispiels den Aufbau der List-Comprehension mit einer Bedingung durch.\n",
    "\n",
    "#### Aufbau einer List-Comprehension mit optionalem Prädikat\n",
    "\n",
    "``[x ...`` => dieser Teil ist die <b>Output-Expression</b>.\n",
    "\n",
    "``... for x in nums ...`` => das ist das For-In-Statement. Es besteht neben den Statements ``for`` und ``in`` aus der gleichen Variable und dem Input-Iterable bzw. der Input-Sequenz (hier: <b>nums</b>).  \n",
    "\n",
    "``... if x % 2 == 0]`` => hier steht das <b>optionale Prädikat</b>, sprich: die Bedingung.  \n",
    "\n",
    "Wenn die Variable bzw. der aktuelle Wert durch 2 geteilt keinen Rest ergibt (null ist), wird er in die Liste aufgenommen, die von der List-Comprehension erstellt wird. Das Ergebnis ist schließlich eine Liste mit allen Zahlen, auf die diese Bedingung zutrifft: alle geraden Zahlen aus der gegebenen Liste.  \n",
    "\n",
    "Du kannst mit diesem Wissen alle dir bekannten logischen Operatoren (and, or, not) und Vergleichsoperatoren (z.B. <, >) und weitere Bedingungen in eine List-Comprehension einfügen.  \n",
    "\n",
    "\n",
    "<div class=\"alert alert-block alert-warning\">\n",
    "    <font size=\"3\"><b>Übung zu List-Comprehension mit optionalem Prädikat:</b></font>  \n",
    "<br>\n",
    "    \n",
    "Du hast die folgende Liste mit deinen Einnahmen aus den vergangenen neun Monaten gegeben.  \n",
    "\n",
    "**a)** Filtere mit einer List-Comprehension daraus eine neue Liste, welche nur die Einnahmen enthält, die höher als 3000 und niedriger als 8000 Euro sind.  \n",
    "\n",
    "**b)** Die Einnahmen, die bei höher als 4000 Euro liegen, teilst du dir mit deinem/r GeschäftsparterIn. Erstelle mit einer List-Comprehension eine neue Liste, welche aus diesen Einnahmen bereits deinen jeweils 50-prozentigen Antteil enthält.\n",
    "</div>"
   ]
  },
  {
   "cell_type": "code",
   "execution_count": null,
   "metadata": {},
   "outputs": [],
   "source": [
    "# a)\n",
    "\n",
    "revenues = [1111, 2222, 3333, 4444, 5555, 6666, 7777, 8888, 9999]\n",
    "\n"
   ]
  },
  {
   "cell_type": "code",
   "execution_count": null,
   "metadata": {},
   "outputs": [],
   "source": [
    "# b)\n",
    "\n",
    "revenues = [1111, 2222, 3333, 4444, 5555, 6666, 7777, 8888, 9999]\n",
    "\n"
   ]
  },
  {
   "cell_type": "markdown",
   "metadata": {},
   "source": [
    "### List-Comprehension mit mehreren Bedingungen\n",
    "\n",
    "Der folgende For-Loop mit zwei miteinander verschachtelten Bedingungen kann auch in eine Comprehension übersetzt werden:"
   ]
  },
  {
   "cell_type": "code",
   "execution_count": null,
   "metadata": {},
   "outputs": [],
   "source": [
    "nums = [1, 2, 3, 4, 5, 6, 7, 8, 9, 10]\n",
    "\n",
    "even_nums = []\n",
    "\n",
    "for n in nums:\n",
    "    if n % 2 == 0:\n",
    "        if n > 5:\n",
    "            even_nums.append(n)\n",
    "\n",
    "even_nums"
   ]
  },
  {
   "cell_type": "markdown",
   "metadata": {},
   "source": [
    "Als List-Comprehension sieht dieser Loop so aus:"
   ]
  },
  {
   "cell_type": "code",
   "execution_count": null,
   "metadata": {},
   "outputs": [],
   "source": [
    "nums = [1, 2, 3, 4, 5, 6, 7, 8, 9, 10]\n",
    "\n",
    "even_nums = [n for n in nums if n % 2 == 0 if n > 5]\n",
    "\n",
    "print(even_nums)"
   ]
  },
  {
   "cell_type": "markdown",
   "metadata": {},
   "source": [
    "Die Bedingungen werden nacheinander in die Comprehension gesetzt.  \n",
    "\n",
    "**Bei der Einbeziehung von mehreren Bedingungen ist darauf zu achten, dass der Code nicht zu unübersichtlich wird. Bei mehr als drei Bedingungen ist die Verwendung eines For-Loops eher vorzuziehen.**  \n",
    "\n",
    "Außerdem hätte man die zwei Bedingungen auch mit nur einer und dafür dem And-Statement umsetzen können:"
   ]
  },
  {
   "cell_type": "code",
   "execution_count": null,
   "metadata": {},
   "outputs": [],
   "source": [
    "nums = [1, 2, 3, 4, 5, 6, 7, 8, 9, 10]\n",
    "\n",
    "even_nums = [n for n in nums if n % 2 == 0 and n > 5]\n",
    "\n",
    "print(even_nums)"
   ]
  },
  {
   "cell_type": "markdown",
   "metadata": {},
   "source": [
    "### List-Comprehension mit mehreren Bedingungen und else\n",
    "\n",
    "Zuerst siehst du, wie ein beispielhafter Aufbau eines For-Loops mit einer Bedingung und ``else`` aussieht:"
   ]
  },
  {
   "cell_type": "code",
   "execution_count": null,
   "metadata": {},
   "outputs": [],
   "source": [
    "nums = [1, 2, 3, 4, 5, 6, 7, 8, 9, 10]\n",
    "\n",
    "even_nums = []\n",
    "\n",
    "\n",
    "for n in nums:\n",
    "    if n % 2 == 0:\n",
    "        even_nums.append(n)\n",
    "    else:\n",
    "        even_nums.append(0)\n",
    "    \n",
    "even_nums"
   ]
  },
  {
   "cell_type": "markdown",
   "metadata": {},
   "source": [
    "Anstelle der ungeraden Listenwerte wurde die 0 eingesetzt, womit die ursprüngliche Listenlänge erhalten geblieben ist. So eine Herangehensweise ist nützlich, um nicht erwünschte Werte, z.B. Negativbeträge, auf 0 zurückzusetzen.  \n",
    "\n",
    "Mit einer List-Comprehension sieht der gleiche Vorgang so aus:"
   ]
  },
  {
   "cell_type": "code",
   "execution_count": null,
   "metadata": {},
   "outputs": [],
   "source": [
    "nums = [1, 2, 3, 4, 5, 6, 7, 8, 9, 10]\n",
    "\n",
    "even_nums = [n if n % 2 == 0 else 0 for n in nums]\n",
    "\n",
    "print(even_nums)"
   ]
  },
  {
   "cell_type": "markdown",
   "metadata": {},
   "source": [
    "**Beachte bitte Folgendes:**  \n",
    "Die Syntax der List-Comprehension hat sich geändert. Die Iteration über die Liste mit ``for n in nums`` steht nun an ihrem Ende.  \n",
    "\n",
    "Das liegt daran, dass nun über ``else`` auch die neuen Werte in der neuen Liste <b>even_nums</b> bestimmt werden. Mit ``for n in nums`` relativ zu Beginn der List-Comprehension müssten wir diesen Teil (``for n in nums``) doppelt schreiben (auch nach else). Das aber widerspricht der Syntax der List-Comprehension. Deshalb wird ``for n in nums`` nur einmal an das Ende der List-Comprehension gesetzt.  \n",
    "\n",
    "**Mit zwei Bedingungen und ``else`` erhalten wir einen <font color = darkred>SyntaxError</font>:**"
   ]
  },
  {
   "cell_type": "code",
   "execution_count": null,
   "metadata": {},
   "outputs": [],
   "source": [
    "nums = [1, 2, 3, 4, 5, 6, 7, 8, 9, 10]\n",
    "\n",
    "even_nums = [n if n % 2 == 0 if n > 5 else 0 for n in nums]\n",
    "\n",
    "print(even_nums)"
   ]
  },
  {
   "cell_type": "markdown",
   "metadata": {},
   "source": [
    "**Verwenden wir stattdessen ``and`` und ``else``, können wir zwei Bedingungen mit ``else`` einsetzen:**"
   ]
  },
  {
   "cell_type": "code",
   "execution_count": null,
   "metadata": {},
   "outputs": [],
   "source": [
    "nums = [1, 2, 3, 4, 5, 6, 7, 8, 9, 10]\n",
    "\n",
    "even_nums = [n if n % 2 == 0 and n > 5 else 0 for n in nums]\n",
    "\n",
    "print(even_nums)"
   ]
  },
  {
   "cell_type": "markdown",
   "metadata": {},
   "source": [
    "<div class=\"alert alert-block alert-warning\">\n",
    "    <font size=\"3\"><b>Übung zu List-Comprehension mit mehreren Bedingungen und else:</b></font>  \n",
    "<br>\n",
    "    \n",
    "Die gegebene Liste enthält die Punktwertungen zu Spielergebnissen einer Computerspiel-Liga. Die negativen Punkte sollen für die neue Saison in einer neuen Liste auf 0 zurückgesetzt werden.  Auch  Punktzahlen über 50 sollen auf 0 zurückgesetzt werden, da solche hohen Punkte nur durch Cheating (Betrug) erreicht werden konnten.  \n",
    "\n",
    "Lass dir die neue Liste ausgeben.\n",
    "</div>"
   ]
  },
  {
   "cell_type": "code",
   "execution_count": null,
   "metadata": {},
   "outputs": [],
   "source": [
    "points = [22, -10, 45, 78, 3, -17, 56, 4, 81, -28]\n",
    "\n"
   ]
  },
  {
   "cell_type": "markdown",
   "metadata": {},
   "source": [
    "\n",
    "<div class=\"alert alert-block alert-success\">\n",
    "<b>Klasse!</b> Nun kannst du mit List-Comprehensions kompakt und schnell neue Listen erstellen. Zusätzlich kannst du unter Einsatz von Bedingungen beliebig Werte für die neue Liste herausfiltern.\n",
    "    \n",
    "Als nächstes sehen wir uns an, wie du ebenso kompakt mit Dictionary-Comprehensions neue Dictionarys erstellen kannst.  \n",
    "</div>"
   ]
  },
  {
   "cell_type": "markdown",
   "metadata": {},
   "source": [
    "<div class=\"alert alert-block alert-info\">\n",
    "<h3>Das kannst du aus dieser Übung mitnehmen:</h3>\n",
    "\n",
    "* **List-Comprehension**\n",
    "    * ist bei weniger umfangreichen Operationen die kompaktere und schnellere Alternative zu einem For-Loop\n",
    "    * ist definitiv schneller, wenn in eine neue Liste Werte eines anderen Iterables eingefügt werden sollen (wegen des Verzichts auf die Funktion ``.append()``)\n",
    "    * Syntax: <font color = darkgreen><b>[</b></font>Operation/Funktion_an(x)  <font color = darkgreen><b>for</b></font> x <font color = darkgreen><b>in</b></font> iterable<font color = darkgreen><b>]</b></font>  \n",
    "    * deutsche Übersetzung der List-Comprehension: \"Führe Operation aus an Element für jedes Element im übergebenen Iterable und erstelle aus den Elementen eine neue Liste.\"\n",
    "    * der Aufbau in Worten: [Output-Expression For-In-Statement]\n",
    "    * Beispiel:\n",
    "        * ``times2 = [x*2 for x in lst]``\n",
    "        * ``print(times2)``\n",
    "        * im Output des Beispiels erscheinen die quadrierten Elemente der übergebenen Liste innerhalb der neuen Liste <b>times2</b>\n",
    "    * eine List-Comprehension wird in eckige Klammern gesetzt, weil sie eine Liste erstellt\n",
    "    * für <b>x</b> kann jeder beliebige, Python-konforme Name gewählt werden\n",
    "    * Operationen/Funktionen an <b>x</b> werden zu Beginn der List-Comprehension ausgeführt\n",
    "    * der Name für das aktuelle Element (<b>x</b>) muss der gleiche wie für die aktuelle Variable im For-In-Statement sein\n",
    "    * neben Listen können alle anderen Iterables an eine List-Comprehension übergeben werden\n",
    "    * bei der Iteration über die Values eines Dictionarys muss die Funktion ``dct.values()`` eingesetzt werden\n",
    "    * soll über die Keys eines Dictionarys iteriert werden, kannst du ``dct.keys()`` einsetzen, doch auch ohne ``.keys()`` wird automatisch über die Dictionary-Keys iteriert  \n",
    "<br>\n",
    "* **List-Comprehensions mit Bedingungen**\n",
    "    * nach der Output-Expression und dem For-In-Statement ist optional eine Bedingung einfügbar\n",
    "    * man nennt die eingefügte Bedingung <b>optionales Prädikat</b>\n",
    "    * Beispiel:\n",
    "        * ``even_nums = [x for x in nums if x % 2 == 0]``\n",
    "        * ``print(even_nums)``\n",
    "        * im Output des Beispiels erscheinen nur die geraden Zahlen der übergebenen Liste innerhalb der neuen Liste <b>even_nums</b>.\n",
    "    * mehrere Bedingungen werden hintereinander geschrieben\n",
    "    * Beispiel:\n",
    "        * ``even_nums = [n for n in nums if n % 2 == 0 if n > 5]``\n",
    "        * ``print(even_nums)``\n",
    "        * im Output des Beispiels erscheinen nur die geraden Zahlen größer 5 der übergebenen Liste innerhalb der neuen Liste <b>even_nums</b>.  \n",
    "<br>\n",
    "* **List-Comprehensions mit If- und Else-Statements**\n",
    "    * mit ``else`` wird das ausgeführt, was bei ``if`` nicht zutrifft\n",
    "    * Beispiel:\n",
    "        * ``even_nums = [n if n % 2 == 0 else 0 for n in nums]``\n",
    "        * ``print(even_nums)``\n",
    "        * im Output des Beispiels erscheinen nur die geraden Zahlen der übergebenen Liste. Für alle ungeraden Zahlen wird die 0 eingesetzt. Die gefilterten/modifizierten Elemente erscheinen innerhalb der neuen Liste <b>even_nums</b>.\n",
    "    * zu beachten ist die veränderte Syntax beim Einsatz von ``else``: Das If- und Else-Statement stehen nun zu Beginn der List-Comprehension\n",
    "    * das ist erforderlich, weil bei beiden über das übergebene Iterable iteriert wird und sonst zwei For-In-Statements nötig wären => doch das würde zu einem <font color = darkred>SyntaxError</font> führen\n",
    "    * zwei If-Statements vor ``else`` führen ebenfalls zu einem <font color = darkred>SyntaxError</font>, stattdessen kann ``and`` eingesetzt werden\n",
    "    * Beispiel:\n",
    "        * ``even_nums = [n if n % 2 == 0 and n > 5 else 0 for n in nums]``\n",
    "        * ``print(even_nums)``\n",
    "        * im Output des Beispiels erscheinen nur die geraden Zahlen größer 5 der übergebenen Liste. Für die ungeraden Zahlen erscheint eine 0 und das alles innerhalb der neuen Liste <b>even_nums</b>\n",
    " </div>"
   ]
  }
 ],
 "metadata": {
  "kernelspec": {
   "display_name": "Python 3",
   "language": "python",
   "name": "python3"
  },
  "language_info": {
   "codemirror_mode": {
    "name": "ipython",
    "version": 3
   },
   "file_extension": ".py",
   "mimetype": "text/x-python",
   "name": "python",
   "nbconvert_exporter": "python",
   "pygments_lexer": "ipython3",
   "version": "3.7.3"
  }
 },
 "nbformat": 4,
 "nbformat_minor": 2
}
