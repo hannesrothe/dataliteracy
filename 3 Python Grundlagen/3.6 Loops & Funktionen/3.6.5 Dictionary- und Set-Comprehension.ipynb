{
 "cells": [
  {
   "cell_type": "markdown",
   "metadata": {},
   "source": [
    "#  3.6 Loops & Funktionen\n",
    "\n",
    "## 3.6.5 Dictionary- und Set-Comprehension\n",
    "\n",
    "Im Anschluss dieser Übungseinheit kannst du ...\n",
    "+ aus anderen Iterables mit einer Dictionary-Comprehension kompakt und schnell ein neues Dictionary erstellen\n",
    "+ kannst du Dictionary-Comprehensions so schreiben, dass sie zu den übergebenen Iterables passen\n",
    "+ die Besonderheiten von Variablendeklarationen in Dictionary-Comprehensions erklären\n",
    "+ Dictionary-Comprehensions für viele praktische Anwendungsfälle einsetzen\n",
    "+ Set-Comprehensions erstellen und mit ihnen aus Iterables neue Sets mit unikaten Werten erzeugen"
   ]
  },
  {
   "cell_type": "markdown",
   "metadata": {},
   "source": [
    "## 3.6.5 Dictionary-Comprehension\n",
    "\n",
    "Um aus Iterables sowie den Keys **und** Values eines Dictionarys ein neues, evtl. modifiziertes Dictionary zu erstellen, ist die Dictionary-Comprehension ideal.  \n",
    "\n",
    "Ebenso wie die List-Comprehension ist sie viel effizienter als ein For-Loop (wenn weniger komplexe Funktionen in ihr angewendet werden). Jedoch ist sie wegen des Iterierens über Keys und Values und der Erstellung eines Dictionarys aus diesen langsamer als eine List-Comprehension. Je mehr Elemente das Dictionary enthält, desto mehr fallen diese Geschwindigkeitsunterschiede auf.  \n",
    "\n",
    "Sie Dictionary-Comprehension ist sehr ähnlich zu einer List-Comprehension aufgebaut. Doch weil sie ein Dictionary erstellt, benötigt sie geschweifte Klammern, statt eckiger. Außerdem benötigt sie zwei Variablen: für die Keys und die Values. Denn aus diesen zwei Variablen wird das neue Dictionary erstellt.    \n",
    "\n",
    "### Beispiel zu einer Dictionary-Comprehension\n",
    "\n",
    "Das folgende Dictionary enthält das Baujahr verschiedener Immobilien. Danach folgt die Dictionary-Comprehension."
   ]
  },
  {
   "cell_type": "code",
   "execution_count": null,
   "metadata": {},
   "outputs": [],
   "source": [
    "property_constructionyear = {'House1': 1919, 'House2': 1875, 'House3': 1963, 'House4': 2010, 'House5': 1988}\n",
    "\n",
    "prop_constructionyear80 = {k:v for k,v in property_constructionyear.items() if v >= 1980}\n",
    "\n",
    "print(prop_constructionyear80)"
   ]
  },
  {
   "cell_type": "markdown",
   "metadata": {},
   "source": [
    "**Was passiert in dieser Dictionary-Comprehension?**  \n",
    "\n",
    "Aus allen Immobilien mit den Baujahren ab 1980 wird ein neues Dictionary erstellt. Weil ein Dictionary als Input-Iterable übergeben wurde, muss mit der Funktion ``.items()`` die Iteration über dessen Elemente (Keys und Values) ermöglicht werden.   \n",
    "\n",
    "### Die Unterschiede im Aufbau einer Dictionary-Comprehension zu einer List Comprehension\n",
    "\n",
    "``{k:v ...`` =>  die Dictionary-Comprehension beginnt mit einer geschweiften Klammer, denn mit geschweiften Klammern werden Dictionarys erzeugt.  \n",
    "In der **Output-Expression** werden, statt einer Variable, hier zwei angegeben, mit einem Doppelpunkt getrennt. Denn so werden auch **Keys:Values** in einem Dictionary angegeben. Du könntest auch andere Namen statt **k:v** wählen, doch diese sind üblich. In diesem Teil können auch Veränderungen an den Keys und Values vorgenommen werden, z.B. über Funktionen, Berechnungen, etc. \n",
    "\n",
    "``... for k,v in property_year.items() ...`` => im **For-In-Statement** werden (wie in einem For-Loop über ein Dictionary) zwei Variablen für die Keys und Values mit einem Komma getrennt angegeben. Diese Namen müssen mit denen in der Output-Expression überein stimmen.  \n",
    "\n",
    "``... if v >= 1980}`` => im **optionalen Prädikat** steht die Bedingung, welche die Werte erfüllen müssen, damit sie mit ihren zugehörigen Keys in das neue Dictionary eingefügt werden.  \n",
    "Die Dictionary-Comprehension endet mit einer geschlossenen geschweiften Klammer.  \n",
    "\n",
    "Wie du siehst, gibt es bei der Dictionary-Comprehension keine bahnbrechenden Veränderungen im Vergleich zur List-Comprehension.  \n",
    "Das Grundprinzip bleibt gleich: 1. Output-Expression 2. For-In-Statement 3. optionales Prädikat  \n",
    "<br>\n",
    "\n",
    "<div class=\"alert alert-block alert-warning\">\n",
    "    <font size=\"3\"><b>1. Übung zu Dictionary-Comprehension:</b></font>  \n",
    "<br>\n",
    "    \n",
    "Du möchtest deine Produkte auch auf dem britischen Markt anbieten. Die Preise deiner Waren in Euro stehen schon fest.  \n",
    "\n",
    "**Nutze die Dictionary-Comprehension, um schnell und effizient ein neues Dictionary mit den Preisen in Pfund zu erstellen.**  \n",
    "\n",
    "Ein Euro sind 0.9 Pfund (dieser Wert muss angepasst werden).\n",
    "</div>"
   ]
  },
  {
   "cell_type": "code",
   "execution_count": null,
   "metadata": {},
   "outputs": [],
   "source": [
    "products_euro = {'USB Cable': 7.45, 'Headphones': 25.78, 'Webcam': 18.55}\n",
    "\n"
   ]
  },
  {
   "cell_type": "markdown",
   "metadata": {},
   "source": [
    "<div class=\"alert alert-block alert-warning\">\n",
    "    <font size=\"3\"><b>2. Übung zu Dictionary-Comprehension:</b></font>  \n",
    "<br>\n",
    "    \n",
    "Deine KundInnen können bei Einkaufen in deinen Shops Punkte sammeln. Für diese Punkte können sie bei deinen Vertragspartnern Produkte günstiger erwerben.  \n",
    "\n",
    "Du möchtest die KundInnen, die noch nicht so fleißig Punkte sammeln, motivieren, öfter am Punktesammeln teilzunehmen.   \n",
    "\n",
    "**Dafür sollen alle KundInnen, die weniger als 50 Punkte haben, 5 Punkte geschenkt bekommen. Diese KundInnen sollen in einem extra Dictionary gespeichert werden.**  \n",
    "\n",
    "Setze das mittels einer Dictionary-Comprehension um und lass dir das extra Dictionary ausgeben.\n",
    "</div>"
   ]
  },
  {
   "cell_type": "code",
   "execution_count": null,
   "metadata": {},
   "outputs": [],
   "source": [
    "cust_accounts = {'Margherita Seppi': 35, 'Lizzy Hagen': 53, 'Kito Zaleski': 79, 'Mehrdad Amid': 44}\n",
    "\n"
   ]
  },
  {
   "cell_type": "markdown",
   "metadata": {},
   "source": [
    "### Andere Datentypen als Input-Iterables\n",
    "\n",
    "Neben Dictionarys können auch Listen und sonstige Iterables in einer Dictionary-Comprehension zur Erstellung eines Dictionarys verwendet werden.  \n",
    "\n",
    "Erinnere dich an diese Tatsache: **Eine Dictionary-Comprehension benötigt zwei Variablen: für die Keys und die Values.**  \n",
    "Denn ein Dictionary gibt es nur mit Keys und Values. Die Dictionary-Comprehension braucht also zwei Variablen, um aus diesen ein Dictionary erstellen zu können.  \n",
    "\n",
    "Wenn wir ein Dictionary als Input-Variable übergeben, wird aus dessen Keys und Values ein neues Dictionary erstellt.  \n",
    "Doch wie sieht das zum Beispiel bei einem Set aus?\n",
    "\n",
    "#### Beispiel zu einem Set als Input-Iterable"
   ]
  },
  {
   "cell_type": "code",
   "execution_count": null,
   "metadata": {},
   "outputs": [],
   "source": [
    "points_set = {1, 2, 3, 4, 5}\n",
    "\n",
    "points_dct = {s:s/2 for s in points_set}\n",
    "\n",
    "print(points_dct)"
   ]
  },
  {
   "cell_type": "markdown",
   "metadata": {},
   "source": [
    "Ein Set hat zur Iteration nur eine Variable: für seine Werte. Dasselbe gilt für Listen. Weil die Dictionary-Comprehension jedoch zwei Variablen benötigt, um aus diesen Keys und Values zu erstellen, verwenden wir ein und dieselbe Variable zwei Mal (Variable <b>s</b> als <b>s:s/2</b>). Diese Variable könnte auch beliebig anders heißen. Wichtig ist nur, dass du die gleiche Variable doppelt verwendest und **nicht** eine anders benamte für die Keys oder Values.  \n",
    "\n",
    "Denn die Dictionary-Comprehension sucht nach diesen Variablen im Input-Iterable. Wenn sie dort nicht zwei verschiedene Variablen findet, führt das zu einem <font color = darkred>TypeError</font>:"
   ]
  },
  {
   "cell_type": "code",
   "execution_count": null,
   "metadata": {},
   "outputs": [],
   "source": [
    "points_set = {1, 2, 3, 4, 5}\n",
    "\n",
    "points_dct = {k:s/2 for k,s in points_set}\n",
    "\n",
    "print(points_dct)"
   ]
  },
  {
   "cell_type": "markdown",
   "metadata": {},
   "source": [
    "Python kann die im Set nicht existente zweite Variable nicht verarbeiten.  \n",
    "\n",
    "Auch auf diese Weise, indem du für die Iteration durch das Set nur eine Variable angibst (for <b>s</b> in points_set), kann Python nicht verstehen (<font color = darkred>NameError</font>), was du mit der Variable meinst (<b>k</b>), welche du nicht für die Iteration durch das Set angegeben hast:"
   ]
  },
  {
   "cell_type": "code",
   "execution_count": null,
   "metadata": {},
   "outputs": [],
   "source": [
    "points_set = {1, 2, 3, 4, 5}\n",
    "\n",
    "points_dct = {k:s/2 for s in points_set}\n",
    "\n",
    "print(points_dct)"
   ]
  },
  {
   "cell_type": "markdown",
   "metadata": {},
   "source": [
    "Und wenn du nur ein <b>s</b> angibst, statt zwei für die Keys:Values, ergibt das zwar keine Fehlermeldung, doch einen <font color = darkred>semantischen Fehler</font>. Denn so konnte aus dem Set **kein** Dictionary erstellt werden:  "
   ]
  },
  {
   "cell_type": "code",
   "execution_count": null,
   "metadata": {},
   "outputs": [],
   "source": [
    "points_set = {1, 2, 3, 4, 5}\n",
    "\n",
    "points_dct = {s/2 for s in points_set}\n",
    "\n",
    "print(points_dct)"
   ]
  },
  {
   "cell_type": "code",
   "execution_count": null,
   "metadata": {},
   "outputs": [],
   "source": [
    "type(points_dct)"
   ]
  },
  {
   "cell_type": "markdown",
   "metadata": {},
   "source": [
    "Was hier \"aus Versehen\" passiert ist, ist die Verwendung einer <b>Set-Comprehension</b>. Das ist neben List- und Dictionary- die dritte Variante einer Comprehension.  \n",
    "\n",
    "<div class=\"alert alert-block alert-info\">\n",
    "<font size=\"3\"><b>Tipp zur Set-Comprehension:</b></font> \n",
    "<br>\n",
    " \n",
    "Mit ihr werden aus Iterables Sets erstellt. In diesen Sets befinden sich dann keine Duplikate von Elementen.  \n",
    "Möchtest du also aus einem Iterable nur die unikaten Elemente filtern, ist die Set-Comprehension die beste Wahl.  \n",
    "<br>\n",
    "<b>Sie wird, weil sie ein Set erzeugt, mit geschweiften Klammern definiert:</b>  \n",
    "<br>\n",
    "``{x for x in iterable}``\n",
    "</div>\n",
    "<br>\n",
    "\n",
    "#### Beispiel zu einer Set-Comprehension"
   ]
  },
  {
   "cell_type": "code",
   "execution_count": null,
   "metadata": {},
   "outputs": [],
   "source": [
    "list_duplicates = [1, 1, 2, 2, 3, 3]\n",
    "\n",
    "set_unique_items = {u for u in list_duplicates}\n",
    "\n",
    "print(set_unique_items)"
   ]
  },
  {
   "cell_type": "markdown",
   "metadata": {},
   "source": [
    "Auch Set-Comprehensions können mit Bedingungen und Funktionen erweitert werden - ganz analog zu List- und Dictionary-Comprehensions.  \n",
    "<br>\n",
    "\n",
    "**Zurück zur Dictionary-Comprehension:**  \n",
    "Für Datentypen, welche nicht aus Keys und Values bestehen, also für alle Datentypen außer Dictionarys, gilt:  \n",
    "\n",
    "**Im For-In-Statement wird eine Variable definiert, mit der durch die Werte des Iterables iteriert wird (wie beim For-Loop).  \n",
    "Für die Keys:Values zu Beginn der Dictionary-Comprehension wird die gleiche Variable doppelt verwendet, eventuell durch Berechnungen und/oder Funktionen abgewandelt.**  \n",
    "\n",
    "``{x:x for x in non_dct_iterable}``  \n",
    "\n",
    "Die gleiche Syntax gilt, wenn du ausschließlich die Keys **oder** Values eines Dictionarys in ein neues Dictionary übertragen möchtest:  \n",
    "<br>\n",
    "Möchtest du nur über die Keys oder Values eines Dictionarys iterieren, verwende statt ``.items()`` entweder ``.keys()`` (Angabe optional) oder ``.values()`` und gib dann auch nur eine Variable im For-In-Statement an. **Damit die Dictionary-Comprehension aber ein Dictionary erstellen kann, müssen für Keys:Values immer zwei Variablen angegeben werden.**\n",
    "\n",
    "<div class=\"alert alert-block alert-warning\">\n",
    "    <font size=\"3\"><b>Übung zu Dictionary-Comprehension mit einer Liste:</b></font>  \n",
    "<br>\n",
    "      \n",
    "Erstelle aus der folgenden Liste ein Dictionary, das nur deren ungerade Zahlen als Keys enthält sowie die Quadrate dieser Keys als Values.\n",
    "</div>"
   ]
  },
  {
   "cell_type": "code",
   "execution_count": null,
   "metadata": {},
   "outputs": [],
   "source": [
    "numbers = [1, 2, 3, 4, 5, 6, 7, 8, 9]\n",
    "\n"
   ]
  },
  {
   "cell_type": "markdown",
   "metadata": {},
   "source": [
    "### Anwendungsmöglichkeiten von Dictionary-Comprehensions\n",
    "\n",
    "Du kannst Dictionary-Comprehensions für allerlei Vereinfachungen verwenden. Zum Beispiel kannst du aus 2 Listen ein Dictionary erstellen, du kannst ein Dictionary mit Startwerten initialisieren und vieles mehr. Es folgen ein paar wissenswerte Beispiele.  \n",
    "\n",
    "#### Aus einer Liste mit enumerate() ein Dictionary erstellen"
   ]
  },
  {
   "cell_type": "code",
   "execution_count": null,
   "metadata": {},
   "outputs": [],
   "source": [
    "fruits = ['Apfel', 'Avocado', 'Banane', 'Birne']\n",
    "\n",
    "fruits_dct = {k:v for k,v in enumerate(fruits)}\n",
    "\n",
    "print(fruits_dct)"
   ]
  },
  {
   "cell_type": "markdown",
   "metadata": {},
   "source": [
    "Über die dir bereits bekannte Funktion ``enumerate()`` wird die Indexposition (in der Default-Einstellung ohne Startwert) mitgezählt. Sie wird schließlich als Key für die Listenwerte verwendet. Weil hier zusätzlich die Funktion ``enumerate()`` zu der Liste verwendet wird, benötigst du **zwei verschiedene Variablen für die Keys:Values**.  \n",
    "<br>\n",
    "\n",
    "#### Dictionary-Values und -Keys mit einer Dictionary-Comprehension invertieren/vertauschen"
   ]
  },
  {
   "cell_type": "code",
   "execution_count": null,
   "metadata": {},
   "outputs": [],
   "source": [
    "fruits_dct = {0: 'Apfel', 1: 'Avocado', 2: 'Banane', 3: 'Birne'}\n",
    "\n",
    "fruits_dct_reversed = {v:k for k,v in fruits_dct.items()}\n",
    "\n",
    "print(fruits_dct_reversed)"
   ]
  },
  {
   "cell_type": "markdown",
   "metadata": {},
   "source": [
    "Indem diese Variablen <b>v:k</b> in ihrer Anordnung mit diesen <b>k,v</b> vertauscht wurden, erscheinen die Values als Keys und die Keys als Values.  \n",
    "\n",
    "Das funktioniert auch umgekehrt, indem nur <b>v,k</b> vertauscht wird:"
   ]
  },
  {
   "cell_type": "code",
   "execution_count": null,
   "metadata": {},
   "outputs": [],
   "source": [
    "fruits_dct = {0: 'Apfel', 1: 'Avocado', 2: 'Banane', 3: 'Birne'}\n",
    "\n",
    "fruits_dct_reversed = {k:v for v,k in fruits_dct.items()}\n",
    "\n",
    "print(fruits_dct_reversed)"
   ]
  },
  {
   "cell_type": "markdown",
   "metadata": {},
   "source": [
    "#### Dictionary-Keys mit einer Dictionary-Comprehension löschen"
   ]
  },
  {
   "cell_type": "code",
   "execution_count": null,
   "metadata": {},
   "outputs": [],
   "source": [
    "fruits_dct = {0: 'Apfel', 1: 'Avocado', 2: 'Banane', 3: 'Birne'}\n",
    "\n",
    "delete_keys = [2, 3]\n",
    "\n",
    "fruits_dct_new = {k:fruits_dct[k] for k in fruits_dct.keys() - delete_keys}\n",
    "\n",
    "print(fruits_dct_new)"
   ]
  },
  {
   "cell_type": "markdown",
   "metadata": {},
   "source": [
    "Beachte, dass wir für diese Operation nur auf die Keys des Dictionarys mit ``.keys()`` zugreifen. Das geschieht hier zu Anschauungszwecken, denn ``.keys()`` könnte man auch weglassen. Wir benötigen auch nur eine Variable (<b>k</b>), um die Keys zu löschen. Doch diese Variable benötigen wir für die Dictionary-Comprehension wieder doppelt in: ``k:fruits_dct[k]`` Denn so wird der Key mit seinem zugehörigen Value übertragen.   \n",
    "\n",
    "Mit diesem Teil werden die Keys gelöscht: ``fruits_dct.keys() - delete_keys``.  \n",
    "Python zieht aus den Dictionary-Keys mit dem Minus-Operator die Listenwerte (2,3) ab. Damit werden automatisch auch die zugehörigen Values gelöscht.   \n",
    "\n",
    "In das neue Dictionary kommen mit ``k: ...`` die übrigen Keys (0,1) sowie die Werte an diesen Keys mit ``... fruits_dct[k]``.  \n",
    "\n",
    "Ganz ähnlich funktioniert es, aus einem vorhandenen Dictionary einen Teil zu extrahieren/filtern.  \n",
    "<br>\n",
    "\n",
    "#### Ein Subset aus einem vorhandenen Dictionary filtern"
   ]
  },
  {
   "cell_type": "code",
   "execution_count": null,
   "metadata": {},
   "outputs": [],
   "source": [
    "fruits_dct = {0: 'Apfel', 1: 'Avocado', 2: 'Banane', 3: 'Birne'}\n",
    "\n",
    "select_keys = [2, 3]\n",
    "\n",
    "fruits_dct_new = {k:fruits_dct[k] for k in select_keys}\n",
    "\n",
    "print(fruits_dct_new)"
   ]
  },
  {
   "cell_type": "markdown",
   "metadata": {},
   "source": [
    "Nur dieser Teil unterscheidet sich von dem vorherigen Beispiel: ``for k in select_keys``.  \n",
    "Wir greifen diesmal im For-In-Statement nicht auf das Dictionary zu, sondern auf die Liste mit den Keys, die wir in das neue Dictionary aufnehmen wollen.  \n",
    "\n",
    "Die Dictionary-Comprehension iteriert durch die Liste und fügt nur die in der Liste angegebenen Keys in die neue Liste ein.  \n",
    "\n",
    "Weil wir mit ``k:fruits_dct[k]`` die Keys und die Werte an den Keys (mit ``fruits_dct[k]``) anwählen, werden die Werte an diesen Keys in das neue Dictionary übertragen.  \n",
    "<br>\n",
    "\n",
    "#### Anwendung von Funktionen auf Keys und Values"
   ]
  },
  {
   "cell_type": "code",
   "execution_count": null,
   "metadata": {},
   "outputs": [],
   "source": [
    "fruits_dct = {'A': 'apfel', 'B': 'banane', 'C': 'clementine'}\n",
    "\n",
    "\n",
    "fruits_dct_new = {k.lower():v.title() for k,v in fruits_dct.items()}\n",
    "\n",
    "print(fruits_dct_new)"
   ]
  },
  {
   "cell_type": "markdown",
   "metadata": {},
   "source": [
    "An diesem Beispiel kannst du sehen, dass du auf die Keys und Values Funktionen anwenden kannst, um ein vorhandenes Dictionary zu einem neuen zu modifizieren.  \n",
    "\n",
    "Die Keys wurden mit ``.lower()`` in Kleinbuchstaben umgewandelt. Die Values haben mit ``.title()`` große Anfangsbuchstaben erhalten.  \n",
    "<br>\n",
    "\n",
    "#### Ein Dictionary mit Startwerten initialisieren\n",
    "\n",
    "Mit ``.fromkeys()`` und ``zip()`` hast du bereits gelernt, wie du Dictionarys mit Startwerten initialisieren kannst.  \n",
    "\n",
    "Erinnerung zur Initialisierung eines Dictionarys mit Startwerten mit ``.fromkeys()``:"
   ]
  },
  {
   "cell_type": "code",
   "execution_count": null,
   "metadata": {},
   "outputs": [],
   "source": [
    "label_lst = ['Name', 'Alter', 'Studiengang', 'Semester', 'Vollzeitstudium']\n",
    "\n",
    "student_dct = dict.fromkeys(label_lst, 0)\n",
    "\n",
    "print(student_dct)"
   ]
  },
  {
   "cell_type": "markdown",
   "metadata": {},
   "source": [
    "Der zweite Parameter in ``.fromkeys()`` ist der Startwert für die Dictionary-Keys. Auf diese Weise kannst du ein Dictionary anlegen und es zu gegebener Zeit mit \"echten\" Werten befüllen.  \n",
    "\n",
    "Erinnerung zur Initialisierung eines Dictionarys mit Startwerten mit ``zip()``:"
   ]
  },
  {
   "cell_type": "code",
   "execution_count": null,
   "metadata": {},
   "outputs": [],
   "source": [
    "keys = ['grün', 'gelb', 'blau']\n",
    "\n",
    "vals = [0,0,0]\n",
    "\n",
    "color_dict = dict(zip(keys, vals))\n",
    "\n",
    "\n",
    "print(color_dict)"
   ]
  },
  {
   "cell_type": "markdown",
   "metadata": {},
   "source": [
    "Die Variante mit ``zip()`` ist umständlicher, weil du jeden Startwert pro Key extra angeben musst (drei Mal die 0 in <b>vals</b>). ``zip()`` ist dennoch praktisch, wenn du ein Dictionary mit konkreten Werten aus zwei Listen erstellen möchtest.  \n",
    "\n",
    "Initialisierung eines Dictionarys mit einer Dictionary-Comprehension:"
   ]
  },
  {
   "cell_type": "code",
   "execution_count": null,
   "metadata": {},
   "outputs": [],
   "source": [
    "fruits = ['Apfel', 'Avocado', 'Banane', 'Birne']\n",
    "\n",
    "fruits_dct = {k:0 for k in fruits}\n",
    "\n",
    "print(fruits_dct)"
   ]
  },
  {
   "cell_type": "markdown",
   "metadata": {},
   "source": [
    "Diese Variante ähnelt eher der Methode mit ``.fromkeys()`` und ist sogar noch besser lesbar, weil hier keine Parameter in den Klammern einer Funktion angegeben werden müssen.  \n",
    "\n",
    "Beachte, dass für den Startwert keine Variable gebraucht wird, denn die 0 wird automatisch als Wert für jeden Key in das neue Dictionary hinzugefügt.  \n",
    "<br>\n",
    "\n",
    "<div class=\"alert alert-block alert-warning\">\n",
    "    <font size=\"3\"><b>Übung zu Dictionary-Comprehension mit Anwendung von Funktionen:</b></font>  \n",
    "<br>\n",
    "    \n",
    "An deiner neu gegründeten Universität haben sich bereits Studierende immatrikuliert. Die Namen der Studierenden liegen dir als Listeneinträge vor.\n",
    "    \n",
    "**a)** Verwende eine Dictionary-Comprehension, um die **sortierten** Namen der Studierenden in ein Dictionary aufzunehmen. Die sortierten Namen sollen Integer-Keys in aufsteigender Reihenfolge erhalten. Die Sortierung soll innerhalb der Dictionary-Comprehension stattfinden.   \n",
    "\n",
    "**b)** Um die Keys für die Studierenden eindeutiger zu gestalten, möchtest du statt Intergers **Strings** verwenden. Verwende die Dictionary-Comprehension aus Aufgabe **a)**, um für die Keys statt 1 => **s1**, statt 2 => **s2** usw. zu verwenden.  \n",
    "Du wirst für die Lösung - neben des Hinzufügens eines Buchstabens - eine weitere, dir bekannte Funktion benötigen. Wenn du nicht auf Anhieb auf die Lösung kommst, beachte bitte die von Python angezeigten Fehlermeldungen.  \n",
    "\n",
    "**c)** Rubina und Medahlia möchten beide Mathematik studieren. Erstelle mit einer Dictionary-Comprehension ein **Subset** aus dem Dictionary aus Aufgabe **b)**, in welchem nur die beiden enthalten sind.\n",
    "</div>"
   ]
  },
  {
   "cell_type": "code",
   "execution_count": null,
   "metadata": {},
   "outputs": [],
   "source": [
    "# a)\n",
    "\n",
    "students = ['Tarek Topal', 'Rubina Roberts', 'Medahlia Medici', 'Peter Pringles']\n",
    "\n"
   ]
  },
  {
   "cell_type": "code",
   "execution_count": null,
   "metadata": {},
   "outputs": [],
   "source": [
    "# b)\n",
    "\n",
    "students = ['Tarek Topal', 'Rubina Roberts', 'Medahlia Medici', 'Peter Pringles']\n",
    "\n"
   ]
  },
  {
   "cell_type": "code",
   "execution_count": null,
   "metadata": {},
   "outputs": [],
   "source": [
    "# c)\n",
    "\n"
   ]
  },
  {
   "cell_type": "markdown",
   "metadata": {},
   "source": [
    "<div class=\"alert alert-block alert-success\">\n",
    "<b>Super!</b> Du kennst jetzt alle Comprehensions und weißt, was du bei ihrer Anwendung zu beachten hast. Du weißt außerdem, welche Möglichkeiten es für ihren Einsatz gibt.    \n",
    "    \n",
    "In der nächsten Einheit gehen wir wortwörtlich in die Tiefe von For-Loops: Wir verschachteln diese, um an verschachtelten Iterables Operationen auszuführen.  \n",
    "</div>"
   ]
  },
  {
   "cell_type": "markdown",
   "metadata": {},
   "source": [
    "<div class=\"alert alert-block alert-info\">\n",
    "<h3>Das kannst du aus dieser Übung mitnehmen:</h3>\n",
    "\n",
    "* **Dictionary-Comprehension**\n",
    "    * ist ebenso bei weniger umfangreichen Operationen die kompaktere und schnellere Alternative zu einem For-Loop\n",
    "    * ist ebenso definitiv schneller, wenn in ein neues Dictionary Werte (Keys und/oder Values) eines anderen Iterables eingefügt werden sollen (wegen des Verzichts auf die Funktion ``.append()``)\n",
    "    * ist aber langsamer als eine List-Comprehension, weil ein Dictionary aus Key-Value-Paaren besteht (nicht nur aus Einzelwerten) und über deren Keys und Values jeweils iteriert wird\n",
    "    * **Syntax bei der Übergabe eines Dictionarys:** <font color = darkgreen><b>{</b></font>Operation/Funktion_an(k:v)  <font color = darkgreen><b>for</b></font> k,v <font color = darkgreen><b>in</b></font> dictionary.items()<font color = darkgreen><b>}</b></font>  \n",
    "    * mit einer Dictionary-Comprehension wird ein Dictionary erstellt, deshalb wird sie in geschweifte Klammern gesetzt\n",
    "    * <b>k</b> und <b>v</b> stehen für die <b>Keys</b> und <b>Values</b> des übergebenen bzw. zu erstellenden Dictionarys\n",
    "    * für sie kann auch ein beliebiger, aber Python-konformer Name gewählt werden\n",
    "    * <b>k</b>:<b>v</b> steht für die Keys:Values, die in das neue Dictionary übertragen werden\n",
    "    * an dieser Stelle könnten Operationen an diesen durchgeführt werden, z.B.: ``k.lower():v.title()``\n",
    "    * <b>k</b>,<b>v</b> steht für die Keys,Values, über die im übergebenen Dictionary iteriert wird\n",
    "    * um auf beide gleichzeitig zugreifen zu können, wird die Funktion ``.items()`` benötigt\n",
    "    * deutsche Übersetzung dieser Dictionary-Comprehension: \"Führe Operation aus an Key:Value für jeden Key,Value im übergebenen Dictionary und erstelle aus den Keys:Values ein neues Dictionary.\"\n",
    "    * Beispiel:\n",
    "        * ``property_constructionyear = {'House1': 1919, 'House2': 2010, 'House3': 1988}``\n",
    "        * ``prop_constructionyear80 = {k:v for k,v in property_constructionyear.items() if v >= 1980}``\n",
    "        * ``print(prop_constructionyear80)``\n",
    "        * im Output des Beispiels erscheinen nur die Häuser, die 1980 oder danach erbaut worden sind, im neuen Dictionary <b>prop_constructionyear80</b>  \n",
    "<br>\n",
    "    *  **Syntax bei der Übergabe eines Iterables, das nicht aus Key-Value-Paaren besteht:** <font color = darkgreen><b>{</b></font>Operation/Funktion_an(x:x)  <font color = darkgreen><b>for</b></font> x <font color = darkgreen><b>in</b></font> iterable<font color = darkgreen><b>}</b></font>  \n",
    "    * mit <b>x</b>:<b>x</b> muss zwingend zwei Mal die gleiche Variable angegeben werden, da das neue Dictionary Keys und Values benötigt (es sei denn, es soll ein anderer Wert für den Value, z.B. 0, eingesetzt werden, dann: ``x:0``)\n",
    "    * weil das übergebene Iterable nicht über Keys und Values verfügt, kommt es zu einem Fehler, wenn für dessen Werte zwei verschiedene Variablen deklariert werden\n",
    "    * soll nur über die Values eines Dictionarys iteriert werden, ist das mit ``dct.values()`` zu spezifizieren\n",
    "    * bei einer ausschließlichen Iteration über Dictionary-Keys reicht die Angabe des Namens des Dictionarys\n",
    "    * der Rest ist wie das For-In-Statement eines For-Loops/einer List-Comprehension\n",
    "    * deutsche Übersetzung dieser Dictionary-Comprehension: \"Führe Operation aus an Wert:Wert für jeden Wert im übergebenen Iterable und erstelle aus Wert:Wert die Keys und Values des neuen Dictionarys.\"\n",
    "    * Beispiel:\n",
    "        * ``points_dct = {s:s/2 for s in points_set}``\n",
    "        * ``print(points_dct)``\n",
    "        * im Output des Beispiels erscheinen die halbierten Values des übergebenen Sets innerhalb des neuen Dictionarys <b>points_dct</b>. Die Werte des Sets wurden unverändert als Keys des neuen Dictionarys übertragen.  \n",
    "<br>\n",
    "* **Anwendungsmöglichkeiten von Dictionary-Comprehensions**\n",
    "    * **Beispiel zur Erstellung eines Dictionarys mit Keys durch enumerate() und Values einer Liste:**\n",
    "        * ``fruits = ['Apfel', 'Avocado', 'Banane', 'Birne']``\n",
    "        * ``fruits_dct = {k:v for k,v in enumerate(fruits)}``\n",
    "        * ``print(fruits_dct)``\n",
    "        * Output: {0: 'Apfel', 1: 'Avocado', 2: 'Banane', 3: 'Birne'}  \n",
    "        * optional ist ein Startwert für die Keys (Indize bei anderen Iterables) festlegbar mit: ``{k:v for k,v in enumerate(fruits, start=1)}``  \n",
    "        <br>\n",
    "    * **Beispiel zur Invertierung/Vertauschung von Keys und Values:**\n",
    "        * ``fruits_dct = {0: 'Apfel', 1: 'Avocado', 2: 'Banane', 3: 'Birne'}``\n",
    "        * ``fruits_dct_reversed = {v:k for k,v in fruits_dct.items()}``\n",
    "        * ``print(fruits_dct_reversed)``\n",
    "        * Output: {'Apfel': 0, 'Avocado': 1, 'Banane': 2, 'Birne': 3}\n",
    "        * der gleiche Effekt wird auch so erzielt: ``{k:v for v,k in fruits_dct.items()}``  \n",
    "        <br>\n",
    "    * **Beispiel zum Löschen von Dictionary-Keys (bzw. gleichzeitig zugehörigen Values):**\n",
    "        * ``fruits_dct = {0: 'Apfel', 1: 'Avocado', 2: 'Banane', 3: 'Birne'}``\n",
    "        * ``delete_keys = [2, 3]``\n",
    "        * ``fruits_dct_new = {k:fruits_dct[k] for k in fruits_dct.keys() - delete_keys}``\n",
    "        * ``print(fruits_dct_new)``\n",
    "        * Output: {0: 'Apfel', 1: 'Avocado'}  \n",
    "        <br>\n",
    "    * **Beispiel zur Filterung eines Subsets aus einem Dictionary:**\n",
    "        * ``fruits_dct = {0: 'Apfel', 1: 'Avocado', 2: 'Banane', 3: 'Birne'}``\n",
    "        * ``select_keys = [2, 3]``\n",
    "        * ``fruits_dct_new = {k:fruits_dct[k] for k in select_keys}``\n",
    "        * ``print(fruits_dct_new)``\n",
    "        * Output: {2: 'Banane', 3: 'Birne'}  \n",
    "        <br>\n",
    "    * **Beispiel zur Initialisierung eines Dictionarys mit Startwerten:**\n",
    "        * ``fruits = ['Apfel', 'Avocado', 'Banane', 'Birne']``\n",
    "        * ``fruits_dct = {k:0 for k in fruits}``\n",
    "        * ``print(fruits_dct)``\n",
    "        * Output: {'Apfel': 0, 'Avocado': 0, 'Banane': 0, 'Birne': 0}  \n",
    "<br>\n",
    "* **Set-Comprehension**\n",
    "    * eine Set-Comprehension erstellt ein Set aus dem ihr übergebenen Iterable\n",
    "    * weil ein Set keine Duplikate enthält, werden dabei automatisch alle mehrfach vorkommenden Elemente einmalig in das neue Set übertragen\n",
    "    * eine Set-Comprehension wird mit zwei geschweiften Klammern erstellt, weil so ein Set erzeugt wird\n",
    "    * eine Set-Comprehension enthält jedoch nur eine Variable für die ins Set zu übertragenden Werte (denn ein Set besteht nicht aus Key-Value-Paaren)\n",
    "    * Syntax: <font color = darkgreen><b>{</b></font>Operation/Funktion_an(x)  <font color = darkgreen><b>for</b></font> x <font color = darkgreen><b>in</b></font> iterable<font color = darkgreen><b>}</b></font>  \n",
    "    * Beispiel:\n",
    "        * ``list_duplicates = [1, 1, 2, 2, 3, 3]``\n",
    "        * ``set_unique_items = {u for u in list_duplicates}``\n",
    "        * ``print(set_unique_items)``\n",
    "        * im Output des Beispiels erscheint jedes Element des übergebenen Iterables einmalig (nur: <b>{1, 2, 3}</b>) als Element des neuen Sets <b>set_unique_items</b> \n",
    "</div>"
   ]
  }
 ],
 "metadata": {
  "kernelspec": {
   "display_name": "Python 3",
   "language": "python",
   "name": "python3"
  },
  "language_info": {
   "codemirror_mode": {
    "name": "ipython",
    "version": 3
   },
   "file_extension": ".py",
   "mimetype": "text/x-python",
   "name": "python",
   "nbconvert_exporter": "python",
   "pygments_lexer": "ipython3",
   "version": "3.7.3"
  }
 },
 "nbformat": 4,
 "nbformat_minor": 2
}
