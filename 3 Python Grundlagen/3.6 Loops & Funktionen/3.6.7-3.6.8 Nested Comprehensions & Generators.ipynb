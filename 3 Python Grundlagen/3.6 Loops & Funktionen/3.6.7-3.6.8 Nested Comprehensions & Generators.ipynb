{
 "cells": [
  {
   "cell_type": "markdown",
   "metadata": {},
   "source": [
    "#  3.6 Loops & Funktionen\n",
    "\n",
    "## 3.6.7-3.6.8 Nested Comprehensions & Generators\n",
    "\n",
    "Im Anschluss dieser Übungseinheit kannst du ...\n",
    "+ nested Comprehensions verstehen und erstellen\n",
    "+ mit nested Comprehensions nested Listen, Dictionarys und Sets erstellen\n",
    "+ erklären, was \"Flattening\" bedeutet und verschachtelte Iterables \"abflachen\"\n",
    "+ verschiedene Comprehensions in Verschachtelungen miteinander kombinieren und so z.B. ein Dictionary erstellen, dessen Values aus Sublisten bestehen\n",
    "+ Bedingungen in nested Comprehensions einbauen\n",
    "+ den genauen Unterschied zwischen Iterators und Iterables erklären\n",
    "+ verstehen, was im Hintergrund einer Iteration abläuft\n",
    "+ verstehen, wann es besser ist, einen Generator statt eines Loops/einer Comprehension einzusetzen\n",
    "+ einen Generator erstellen\n",
    "+ dir Elemente eines Generator-Objekts ausgeben lassen\n",
    "+ ein Generator-Objekt in ein anderes Iterable, z.B. eine Liste, umwandeln"
   ]
  },
  {
   "cell_type": "markdown",
   "metadata": {},
   "source": [
    "## 3.6.7 Nested Comprehensions\n",
    "\n",
    "List-, Dictionary- und Set-Comprehensions können verschachtelt und sogar miteinander in nested Comprehensions kombiniert werden.  \n",
    "\n",
    "Auch nested Comprehensions sind kompakter und schneller als nested For-Loops. Das gilt jedoch nur für nicht allzu umfangreiche Iterables und für nicht zu komplizierte Berechnungen/Funktionen.  Ein Beispiel dazu folgt weiter unten in dem Subkapitel zu Generators.  \n",
    "\n",
    "\n",
    "### Beispiel zu einer nested List-Comprehension\n",
    "\n",
    "Zuerst siehst du ein Beispiel aus der vorhergehenden Einheit. Hier wurde noch die Erstellung einer neuen Liste (<b>list_times2</b>) aus den veränderten Werten hinzugefügt:  "
   ]
  },
  {
   "cell_type": "code",
   "execution_count": null,
   "metadata": {},
   "outputs": [],
   "source": [
    "list_of_lists = [[0, 1],\n",
    "                 [2, 3],\n",
    "                 [4, 5]]\n",
    "\n",
    "# der folgende Teil wird in die darauffolgende nested List-Comprehension übersetzt\n",
    "list_times2 = []\n",
    "\n",
    "for sublist in list_of_lists:\n",
    "    for value in sublist:\n",
    "        value = value*2\n",
    "        list_times2.append(value)\n",
    "\n",
    "list_times2"
   ]
  },
  {
   "cell_type": "markdown",
   "metadata": {},
   "source": [
    "Das kann mit einer **nested List-Comprehension** viel kompakter geschrieben werden:"
   ]
  },
  {
   "cell_type": "code",
   "execution_count": null,
   "metadata": {},
   "outputs": [],
   "source": [
    "list_times2 = [n*2 for i in list_of_lists for n in i]\n",
    "\n",
    "list_times2"
   ]
  },
  {
   "cell_type": "markdown",
   "metadata": {},
   "source": [
    "In der nested Comprehension wird eine Liste (<b>list_times2</b>) aus zwei List-Comprehensions erstellt.  \n",
    "Die List-Comprehension muss dabei verschachtelt sein, um auf die zweite Listenebene von <b>list_of_lists</b> zugreifen zu können.  \n",
    "\n",
    "#### Aufbau dieser nested List-Comprehension\n",
    "\n",
    "Gesamte nested List-Comprehension:  \n",
    "``[n*2 for i in list_of_lists for n in i]``  \n",
    "\n",
    "1. Teil der List-Comprehension:  \n",
    "``[n*2 for i in list_of_lists ...`` => Die Variable <b>n</b> steht für die Zahlen in den Sublisten der Hauptliste <b>list_of_lists</b>. Die Neu-Berechnungen der Zahlen finden bereits in diesem Teil der nested List-Comprehension statt. <b>i</b> bezieht sich auf den aktuellen Index der Hauptliste, also die aktuelle Subliste. \n",
    "\n",
    "\n",
    "2. Teil der nested List-Comprehension:  \n",
    "``... for n in i]``  => Hier wird die aktuelle Zahl angesprochen, die sich innerhalb der Subliste auf dem Hauptindex befindet.  \n",
    "<br>\n",
    "\n",
    "Übersetzt würde diese nested List-Comprehension etwa lauten:  \n",
    "\"Die aktuelle Zahl soll mal 2 genommen werden auf jedem Index in der Hauptliste und das für jede aktuelle Zahl innerhalb des Hauptindizes, also der in der Subliste. Die Ergebnisse werden in eine neue Liste übertragen.\"  \n",
    "<br>  \n",
    "\n",
    "### Abflachen von Listen bzw. Erstellen von Matrizen\n",
    "\n",
    "Sowohl mit dem nested For-Loop, als auch mit der nested List-Comprehension, wurde die zuvor verschachtelte Liste in einer neuen Liste abgeflacht. Das bedeutet: die neue Liste besteht nur noch aus einer Ebene, ohne Sublisten. Im Englischen nennt man das <b>Flattening</b>.  \n",
    "<br>\n",
    ">Übrigens ist das Flattening auch mit For-Loops möglich.  \n",
    "\n",
    "Um die verschachtelte Struktur der Hauptliste zu erhalten, muss die nested List-Comprehension **mit zwei eckigen Klammern** geschrieben werden. Damit bleibt die Matrix erhalten, bzw. kann man auf diese Weise auch eine Matrix erstellen.  \n",
    "<br>\n",
    "\n",
    "#### Beispiel zu einer nested List-Comprehension,welche eine Matrix beibehält"
   ]
  },
  {
   "cell_type": "code",
   "execution_count": null,
   "metadata": {},
   "outputs": [],
   "source": [
    "list_times2 = [[n*2 for n in i] for i in list_of_lists]\n",
    "\n",
    "list_times2"
   ]
  },
  {
   "cell_type": "markdown",
   "metadata": {},
   "source": [
    "Eine nested List besteht bei zwei Ebenen aus <b>zwei</b> äußeren eckigen Klammern mit je <b>zwei</b> inneren eckigen Klammern auf jedem Index der Hauptliste. Ebenso ist das bei einer nested List-Comprehension, welche eine Matrix mit zwei Ebenen erstellt. Sie besteht aus je <b>zwei</b> sich schließenden, eckigen Klammern.   \n",
    "\n",
    "#### Aufbau dieser nested List-Comprehension\n",
    "\n",
    "Gesamte nested List-Comprehension:  \n",
    "``[[n*2 for n in i] for i in list_of_lists]``  \n",
    "\n",
    "**Innere** List-Comprehension:  \n",
    "``[[n*2 for n in i] ...`` => Die innere List-Comprehension ist in die äußere eingebettet. Du erkennst das an den zweiten eckigen Klammern, die sich innerhalb der ersten Klammern befinden. Die Variable <b>n</b> steht wieder für die Zahlen in den Sublisten der Hauptliste <b>list_of_lists</b>. <b>i</b> bezieht sich auch wieder auf die Indize der Hauptliste (die Sublisten). Hier wird die aktuelle Zahl mal 2 genommen und mit der bestehenden Zahl <b>n</b> in der neuen Subliste ersetzt. Aus den neuen Zahlen jeder Subliste wird eine neue Subliste erstellt.   \n",
    "\n",
    "\n",
    "**Äußere** nested List-Comprehension:  \n",
    "``... for i in list_of_lists]``  => Die äußere List-Comprehension wird in die äußersten eckigen Klammern geschrieben. Dieser Teil ist wie das For-In-Statement eines äußeren For-Loops. Er besteht aus einer Variable für den aktuellen Wert und dem Variablennamen des übergeordneten Iterables, über welches iteriert wird (<b>list_of_lists</b>). Jeder Index wird auf die oberste/äußerste Ebene der neuen Liste (<b>list_times2</b>) gesetzt.  \n",
    "<br>\n",
    "\n",
    "Übersetzt würde diese nested List-Comprehension etwa lauten:  \n",
    "Berechne die aktuelle Zahl mal 2 - und das für alle Zahlen in der aktuellen Subliste. Erstelle aus den Sublisten mit ihren neuen Zahlen neue Sublisten. Das soll auf jedem Index der list_of_lists geschehen und aus diesen Indizen wird die übergeordnete Liste erstellt.\"\n",
    "<br>\n",
    "\n",
    "Mit einem For-Loop wäre das umständlicher umzusetzen:"
   ]
  },
  {
   "cell_type": "code",
   "execution_count": null,
   "metadata": {},
   "outputs": [],
   "source": [
    "list_of_lists = [[0, 1],\n",
    "                 [2, 3],\n",
    "                 [4, 5]]\n",
    "\n",
    "list_times2 = []\n",
    "\n",
    "for sublist in list_of_lists:\n",
    "    new_sublist = []\n",
    "    for value in sublist:\n",
    "        value = value*2\n",
    "        new_sublist.append(value)\n",
    "    list_times2.append(new_sublist)\n",
    "\n",
    "list_times2"
   ]
  },
  {
   "cell_type": "markdown",
   "metadata": {},
   "source": [
    "Wie du siehst, ist die nested List-Comprehension hier klar im Vorteil, was die Kompaktheit betrifft. Es muss auch nicht mit allen Iterationen die Funktion ``.append()`` aufgerufen werden, was ebenso Rechenzeit spart.  \n",
    "\n",
    ">Von mehr als zwei Verschachtelungen in einer nested List-Comprehension ist aber - wenn möglich - abzusehen. Denn es ist sehr wichtig, dass Code gut leserlich und verständlich bleibt, damit ihn auch andere Mitarbeiter gut verstehen können. Nur so wird eine gute Wartbarkeit des Codes gewährleistet.  \n",
    "\n",
    "#### Erklärung zum Aufbau dieses nested For-Loops\n",
    "\n",
    "Hier siehst du noch einmal den nested For-Loop:  \n",
    "\n",
    "``for sublist in list_of_lists:\n",
    "    new_sublist = []\n",
    "    for value in sublist:\n",
    "        value = value*2\n",
    "        new_sublist.append(value)\n",
    "    list_times2.append(new_sublist)``\n",
    "    \n",
    "Die neue Liste <b>list_times2</b> wurde zuvor mit einer leeren Liste definiert.  \n",
    "Damit wir wieder drei Sublisten auf jedem Hauptindex erhalten, wird mit ``new_sublist = []`` mit jeder Iteration über die Hauptliste eine neue Subliste erstellt, also drei Sublisten insgesamt.  \n",
    "\n",
    "Mit ``new_sublist.append(value)`` wird der aktuelle, neu berechnete Wert in die aktuelle Subliste eingefügt.  \n",
    "\n",
    "Anschließend wird - auf der untergeordneten Einrückungsstufe zum 1. For-In-Statement - auf jedem Index der Hauptliste die jeweilige neue Subliste eingefügt mit: ``list_times2.append(new_sublist)`` Das muss auf dieser Einrückungsstufe geschehen, da sonst nicht nur auf jedem Hauptindex der Liste eine neue Subliste eingefügt werden würde (ergibt drei eingefügte Sublisten), sondern zusätzlich 3 x 6 Sublisten. Denn insgesamt wird 3 Mal über die Hauptliste iteriert (+ 3) und 3 Mal je 2 Mal über die Zahlen in den Sublisten. Deshalb ergibt sich daraus 3 + 3 x (2 x 2 x 2) , also 3 + 3 x 6 = 3 + 18.  \n",
    "\n",
    "Damit ergäbe sich eine Liste, die mit 3 + 18 Sublisten gefüllt wäre, also insgesamt 21 Sublisten:"
   ]
  },
  {
   "cell_type": "code",
   "execution_count": null,
   "metadata": {},
   "outputs": [],
   "source": [
    "for sublist in list_of_lists:\n",
    "    new_sublist = []\n",
    "    for value in sublist:\n",
    "        value = value*2\n",
    "        new_sublist.append(value)\n",
    "        list_times2.append(new_sublist)\n",
    "        \n",
    "list_times2"
   ]
  },
  {
   "cell_type": "markdown",
   "metadata": {},
   "source": [
    "<div class=\"alert alert-block alert-warning\">\n",
    "    <font size=\"3\"><b>1. Übung zur nested List-Comprehension:</b></font>  \n",
    "<br>\n",
    "\n",
    "Erinnere dich an diese Übung aus der vorhergehenden Einheit. Dort hast du mit einem nested For-Loop eine Matrix erschaffen, die so aussah:  \n",
    "\n",
    "``[[2, 3, 4], [2, 3, 4], [2, 3, 4], [2, 3, 4]]``\n",
    "\n",
    "**Setze das nun mit einer nested List-Comprehension noch viel kompakter und rechenzeitsparender um.**\n",
    "</div>"
   ]
  },
  {
   "cell_type": "code",
   "execution_count": null,
   "metadata": {},
   "outputs": [],
   "source": []
  },
  {
   "cell_type": "markdown",
   "metadata": {},
   "source": [
    "### Nested Kombinationen verschiedener Comprehensions\n",
    "\n",
    "Diverse Iterables können in Kombinationen aus List-, Dictionary- und Set-Comprehensions zu verschachtelten Listen, Dictionarys und Sets neu zusammengefügt werden.  \n",
    "\n",
    "#### Beispiel zu einer nested Comprehension, welche Listen in ein Dictionary einfügt"
   ]
  },
  {
   "cell_type": "code",
   "execution_count": null,
   "metadata": {},
   "outputs": [],
   "source": [
    "lst = [1, 2, 3]\n",
    "\n",
    "dct_of_lists = {i: [j for j in range(0,40,10)] for i in lst}\n",
    "\n",
    "dct_of_lists"
   ]
  },
  {
   "cell_type": "markdown",
   "metadata": {},
   "source": [
    "Erkennst du, was hier geschehen ist?  \n",
    "\n",
    "Aus den Werten der Liste <b>lst</b> wurden die Keys des neuen Dictionarys <b>dct_of_lists</b> gebildet.  \n",
    "Mit ``range(0,40,10)`` wurden innerhalb der eckigen Listen-Klammern an diese Keys Listen mit den Werten von 0-40 in 10er Schritten erstellt. Bei ``.range()`` zählt der Stop-Wert nicht direkt mit. Bei einem Range von 4 werden Integers von 0-3 erstellt. So ist es hier auch. Bei dem Range 40 in Zehnerschritten endet das Range-Objekt bei 30.  \n",
    "\n",
    "**Aufbau dieser nested Comprehension im Detail**\n",
    "\n",
    "Gesamte nested Comprehension:  \n",
    "``{i: [j for j in range(0,40,10)] for i in lst}`` => An diesem Gesamtaufbau kannst du schon erkennen, dass mit den äßeren, geschweiften Klammern ein Dictionary erstellt wird. Die inneren, eckigen Klammern besagen, dass dieses Dictionary an jedem Key mit einer Liste als Wert gefüllt wird.  \n",
    "\n",
    "**Äußere** Dictionary-Comprehension:  \n",
    "``{i: ... for i in lst}`` => In dieser äußeren nested Comprehension wird bereits <b>zu Beginn der Key</b> definiert: mit der Variable <b>i</b> und einem Doppelpunkt. Mit ``for i in lst`` wird gesagt, dass mit jedem Index in dem übergeordneten Iterable (<b>lst</b>) etwas geschehen soll (die Keys sollen aus ihren Werten gebildet werden).  \n",
    "\n",
    "**Innere** List-Comprehension:  \n",
    "``... [j for j in range(0,40,10)] ...`` => Hier wird eine Liste definiert. Weil sie hinter dem Doppelpunkt des Keys definiert wird, erkennt Python diese als Value des Keys. Diese Liste wird mit den Werten 0, 10, 20, 30 gefüllt. Das erste <b>j</b> steht für den Wert, der tatsächlich eingefügt wird (hier könnten noch Berechnungen/Funktionen eingefügt werden). Das zweite <b>j</b> steht für den aktuellen Wert, der bei der Iteration über das Range-Objekt an der Reihe ist.  \n",
    "<br>\n",
    "\n",
    "### Nested Comprehension mit Bedingung/optionalem Prädikat\n",
    "\n",
    "Mit Bedingungen können Werte noch genauer in das neue Iterable gefiltert werden.  \n",
    "\n",
    "#### Beispiel zu einer nested Comprehension mit optionalem Prädikat\n",
    "\n",
    "Wenn wir in den Sublisten nur Werte haben wollen, die <b>nicht</b> ohne Rest durch 3 teilbar sind, gehen wir folgendermaßen vor: "
   ]
  },
  {
   "cell_type": "code",
   "execution_count": null,
   "metadata": {},
   "outputs": [],
   "source": [
    "lst = [1, 2, 3]\n",
    "\n",
    "dct_of_lists = {i: [j for j in range(0,40,10) if j%3 != 0] for i in lst}\n",
    "\n",
    "dct_of_lists"
   ]
  },
  {
   "cell_type": "markdown",
   "metadata": {},
   "source": [
    "Das ist dieselbe nested Comprehension wie aus dem vorherigen Beispiel, nur dass hier mit ``if j%3 != 0`` ein optionales Prädikat in die innere List-Comprehension gesetzt wurde. Weil sich die Bedingung auf die Werte (<b>j</b>) innerhalb der Liste bezieht, muss die Bedingung innerhalb der List-Comprehension bestimmt werden. Denn die äußere Dictionary-Comprehension kennt <b>j</b> nicht.  \n",
    "<br>\n",
    "\n",
    "<div class=\"alert alert-block alert-info\">\n",
    "<font size=\"3\"><b>Tipp zum Scope der nested Variablen:</b></font> \n",
    "<br>\n",
    "\n",
    "Wegen des Scopes (Sichtbarkeit/Bekanntheitsgrad) von Variablen kennt die äußere, nested Comprehension nicht die Variablen der inneren, nested Comprehension.  \n",
    "\n",
    "Weil die äußere, nested Comprehension über der inneren steht (wie ein äußeres For-In-Statement), kennt aber die innere Comprehension die Variablen der äußeren.\n",
    "</div>\n",
    "<br>\n",
    "<br>\n",
    "<div class=\"alert alert-block alert-warning\">\n",
    "    <font size=\"3\"><b>2. Übung zu nested Comprehensions:</b></font>  \n",
    "<br>\n",
    "    \n",
    "Du vertreibst neue Elektronik-Produkte und möchtest den Umsatz, den du mit ihnen pro Monat erzielen wirst, in einer Datenstruktur festhalten.  \n",
    "\n",
    "Zu jedem Produkt soll es eine Auflistung geben, in der von Januar-Dezember (12 Monate) der Gewinn eingetragen werden kann. Weil die Produkte neu sind, stehen ihre Gewinne zunächst jeweils bei 0 (als Platzhalter).  \n",
    "\n",
    "Das sind die neuen Produkte in deinem Sortiment:  \n",
    "\n",
    "* Mini-Monitor\n",
    "* Hologramm-Projektor\n",
    "* Funk-Kabel  \n",
    "<br>\n",
    "\n",
    "**Erstelle die für diesen Zweck geeignete Datenstruktur mit einer nested Comprehension.**  \n",
    "Die Namen der Monate müssen nicht enthalten sein, lediglich 12 Platzhalter pro Produkt für die ausstehenden Einnahmen.  \n",
    "\n",
    "Lass dir wie immer zur Überprüfung ihrer Richtigkeit die neue Datenstruktur ausgeben.  \n",
    "\n",
    "4 Tipps zu dieser Aufgabe findest du weiter unten. Lies sie dir bitte erst durch, wenn du anders nicht weiter kommst.  \n",
    "</div>"
   ]
  },
  {
   "cell_type": "code",
   "execution_count": null,
   "metadata": {},
   "outputs": [],
   "source": []
  },
  {
   "cell_type": "markdown",
   "metadata": {},
   "source": [
    "<div class=\"alert alert-block alert-warning\">\n",
    "<br>\n",
    "<br>\n",
    "<br>\n",
    "<br>\n",
    "<br>\n",
    "<br>\n",
    "<br>\n",
    "<br>\n",
    "<font size=\"3\"><b>Tipp 1 zur Aufgabe:</b></font>  \n",
    "<br>\n",
    "    \n",
    "Welche wäre die geeignete Datenstruktur, um Kategorien mit Werten zu befüllen?\n",
    "</div>"
   ]
  },
  {
   "cell_type": "markdown",
   "metadata": {},
   "source": [
    "<div class=\"alert alert-block alert-warning\">\n",
    "<font size=\"3\"><b>Tipp 2 zur Aufgabe:</b></font>  \n",
    "<br>\n",
    "\n",
    "Was sind diese Kategorien und wo müssten sie wie zunächst definiert werden?\n",
    "  \n",
    "</div>"
   ]
  },
  {
   "cell_type": "markdown",
   "metadata": {},
   "source": [
    "<div class=\"alert alert-block alert-warning\">\n",
    "<font size=\"3\"><b>Tipp 3 zur Aufgabe:</b></font>  \n",
    "<br>\n",
    "\n",
    "Sieh dir das vorhergehende Beispiel an. Diese Übung orientiert sich an ihm.  \n",
    "\n",
    "Was wurde in dem vorhergehenden Beispiel zuallererst, ganz oben definiert? \n",
    "\n",
    "Wofür wurde dieser Teil benötigt?  \n",
    "\n",
    "Welche Werte sollten dort eingetragen werden?\n",
    "</div>"
   ]
  },
  {
   "cell_type": "markdown",
   "metadata": {},
   "source": [
    "<div class=\"alert alert-block alert-warning\">\n",
    "<font size=\"3\"><b>Tipp 4 zur Aufgabe:</b></font>  \n",
    "<br>\n",
    "    \n",
    "Weil der Rest sehr analog zum vorhergehenden Beispiel ist, bezieht sich dieser Tipp nur darauf, wie du die Platzhalter einfügst.  \n",
    "\n",
    "Die Platzhalter sind der tatsächlich einzufügende Wert, wie es im vorigen Beispiel beschrieben wurde. Was ist der tatsächlich einzufügende Wert? Das steht in der Aufgabenbeschreibung. Dieser wird an die Stelle des tatsächlich einzufügenden Wertes in der Comprehension geschrieben.   \n",
    "\n",
    "Der Rest der inneren Comprehension bleibt analog zum vorherigen Beispiel, nur dass du für das Range-Objekt Platzhalter für 12 Monate benötigst.  \n",
    "</div>"
   ]
  },
  {
   "cell_type": "markdown",
   "metadata": {},
   "source": [
    "## 3.6.8 Generators\n",
    "\n",
    "Für sehr große Datenmengen sind Generators besser geeignet als Comprehensions.  \n",
    "\n",
    "Sehen wir uns das anhand eines Beispiels aus der Einheit \"3.6.4 List-Comprehension\" an.  \n",
    "\n",
    "#### Beispiel zu einer List-Comprehension mit kleiner Listengröße"
   ]
  },
  {
   "cell_type": "code",
   "execution_count": null,
   "metadata": {},
   "outputs": [],
   "source": [
    "times3 = [z**3 for z in range(5)]\n",
    "\n",
    "print(times3)"
   ]
  },
  {
   "cell_type": "markdown",
   "metadata": {},
   "source": [
    "Das hat ohne Probleme blitzschnell geklappt.  \n",
    "\n",
    "Nun erhöhen wir die Listengröße drastisch auf 1000000.\n",
    "\n",
    "#### Beispiel zu einer List-Comprehension mit großer Listengröße"
   ]
  },
  {
   "cell_type": "code",
   "execution_count": null,
   "metadata": {},
   "outputs": [],
   "source": [
    "times3 = [z**3 for z in range(1000000)]\n",
    "\n",
    "print(times3)"
   ]
  },
  {
   "cell_type": "markdown",
   "metadata": {},
   "source": [
    "Je nach deiner Jupyter-Notebook-Version, wird der Kernel (Kreis oben rechts) entweder sehr lange laufen (der Kreis bleibt lange gefüllt) oder dein Notebook kann die Datenmenge von einer Million gar nicht erst verarbeiten.  \n",
    "\n",
    "Selbst mit einem For-Loop führt dieser Datenumfang zu Problemen.  \n",
    "\n",
    "#### Beispiel zu einem For-Loop mit großer Listengröße"
   ]
  },
  {
   "cell_type": "code",
   "execution_count": null,
   "metadata": {},
   "outputs": [],
   "source": [
    "times3 = []\n",
    "\n",
    "for i in range(1000000):\n",
    "    i = i**3\n",
    "    times3.append(i)\n",
    "\n",
    "print(times3)"
   ]
  },
  {
   "cell_type": "markdown",
   "metadata": {},
   "source": [
    "Hier kommen die Generators ins Spiel  \n",
    "\n",
    "**Generators erstellen nicht auf einen Schlag eine Liste, sondern ein Iterator-Objekt. Mit der Funktion ``next()`` wird durch die generierten Werte vorwärts iteriert.**  \n",
    "\n",
    "Daher kommt auch der Name \"Generators\": die Werte werden erst generiert, wenn sie tatsächlich gebraucht werden - und das nacheinander.  \n",
    "\n",
    "<br>\n",
    "\n",
    "<div class=\"alert alert-block alert-info\">\n",
    "<font size=\"3\"><b>Erinnerung an Iterators und Iterables:</b></font> \n",
    "<br>\n",
    "\n",
    "Iterators bzw. Iterator-Objekte werden immer dann erschaffen, wenn über ein Iterable iteriert wird, zum Beispiel in einem For-Loop oder einer Comprehension.  \n",
    "<br>\n",
    "\n",
    "Hierfür wird im Hintergrund in Python das <b>Iterator-Protokoll</b> aktiviert. Dieses Protokoll führt die folgenden Schritte aus:  \n",
    "\n",
    "1) Mit der Funktion ``iter()`` wird das Iterable in ein Iterator-Objekt umgewandelt.  \n",
    "\n",
    "2) Die Funktion ``next()`` ruft das Iterator-Objekt auf. Sie greift dann auf das jeweils nächste Element in dem Iterable zu.  \n",
    "\n",
    "3) Sobald das Iterable vollständig durchlaufen wurde und mit ``next()`` das nächste Element aufgerufen werden sollte, wird der <font color = darkred>StopIterationError</font> geworfen. Du siehst diesen Fehler nicht, wenn du mit einem Loop das Iterable durchläufst. Ebensowenig siehst du die vorhergehenden Schritte. Sie werden nur sichtbar, wenn du die Schritte 1) und 2) manuell ausführst.  \n",
    "<br>\n",
    "\n",
    "Iterators werden allerdings auch zu Iterables, sobald über sie iteriert wird.  \n",
    "Iterables sind also die Objekte, über welche iteriert wird - Iterators sind das, womit über sie iteriert wird.  \n",
    "\n",
    "**Generators sind deshalb sowohl Iterables, als auch Iterators.**\n",
    "</div>\n",
    "<br>\n",
    "<br>\n",
    "\n",
    "Generators sehen in ihrem Aufbau ganz ähnlich zu Comprehensions aus.  Du erkennst Generators daran, dass sie mit runden Klammern definiert werden.  \n",
    "\n",
    "#### Beispiel für einen Generator  \n",
    "\n",
    "Wie in den vorherigen Beispielen, werden die Werte aus dem Range-Objekt mal 3 genommen.  "
   ]
  },
  {
   "cell_type": "code",
   "execution_count": null,
   "metadata": {},
   "outputs": [],
   "source": [
    "times3 = (z**3 for z in range(1000000))\n",
    "\n",
    "times3"
   ]
  },
  {
   "cell_type": "markdown",
   "metadata": {},
   "source": [
    "Die Werte sind aber nicht sofort sichtbar, sondern befinden sich in dem Generator-Objekt, auf das die gleichen Funktionen wie auf ein Iterator-Objekt angewendet werden können.  \n",
    "\n",
    "Mit der Funktion ``next()`` können diese Werte nun nacheinander abgerufen werden:  "
   ]
  },
  {
   "cell_type": "code",
   "execution_count": null,
   "metadata": {},
   "outputs": [],
   "source": [
    "next(times3)"
   ]
  },
  {
   "cell_type": "markdown",
   "metadata": {},
   "source": [
    "Mit mehreren Next-Funktionen hintereinander innerhalb von Print-Funktionen können mehrere Werte gleichzeitig angezeigt werden:"
   ]
  },
  {
   "cell_type": "code",
   "execution_count": null,
   "metadata": {},
   "outputs": [],
   "source": [
    "times3 = (z**3 for z in range(1000000))"
   ]
  },
  {
   "cell_type": "code",
   "execution_count": null,
   "metadata": {},
   "outputs": [],
   "source": [
    "print(next(times3))\n",
    "print(next(times3))\n",
    "print(next(times3))\n",
    "print(next(times3))\n",
    "print(next(times3))\n",
    "print(next(times3))"
   ]
  },
  {
   "cell_type": "markdown",
   "metadata": {},
   "source": [
    "#### Erstellung einer Liste mit einem Generator\n",
    "\n",
    "Mit der Funktion ``list()`` ist es zusätzlich möglich, eine Liste aus einem Generator zu erstellen.  \n",
    "\n",
    "**Beispiel**"
   ]
  },
  {
   "cell_type": "code",
   "execution_count": null,
   "metadata": {},
   "outputs": [],
   "source": [
    "lst = list(i for i in range(10))\n",
    "\n",
    "lst"
   ]
  },
  {
   "cell_type": "code",
   "execution_count": null,
   "metadata": {},
   "outputs": [],
   "source": [
    "Das klappt auch mit sehr großen Listen:"
   ]
  },
  {
   "cell_type": "code",
   "execution_count": null,
   "metadata": {},
   "outputs": [],
   "source": [
    "lst = list(i for i in range(1000000))\n",
    "\n",
    "lst"
   ]
  },
  {
   "cell_type": "markdown",
   "metadata": {},
   "source": [
    "<div class=\"alert alert-block alert-warning\">\n",
    "    <font size=\"3\"><b>Übung zu Generators:</b></font>  \n",
    "<br>\n",
    "    \n",
    "Erstelle ein Set, das nur gerade Zahlen von 0 bis inklusive 20 enthält. Nutze dafür einen Generator und analog zur List-Funktion eine andere, passende.  \n",
    "\n",
    "Tipp: Du kannst das zwar mit einer Bedingung umsetzen, aber du brauchst sie nicht. Es gibt noch eine weniger umständliche Möglichkeit.\n",
    "<br>\n"
   ]
  },
  {
   "cell_type": "code",
   "execution_count": null,
   "metadata": {},
   "outputs": [],
   "source": []
  },
  {
   "cell_type": "markdown",
   "metadata": {},
   "source": [
    "<div class=\"alert alert-block alert-success\">\n",
    "<b>Prima!</b> Mit deinem Verständnis für nested Comprehensions kannst du kompliziertere Anforderungen erfüllen - wie die Erstellung verschiedener, miteinander verschachtelter Iterables.  \n",
    "    Du kannst mit Generators nun auch riesige Datenstrukturen erstellen, ohne dass dein Notebook überfordert wird.  \n",
    "    \n",
    "Neben For-Loops und Comprehensions gibt es noch eine weitere Iterationsmöglichkeit: den While-Loop. Mit ihm stehen dir noch viele weitere Möglichkeiten offen. In der folgenden Einheit erfährst du mehr über ihn.\n",
    "</div>"
   ]
  },
  {
   "cell_type": "markdown",
   "metadata": {},
   "source": [
    "<div class=\"alert alert-block alert-info\">\n",
    "<h3>Das kannst du aus dieser Übung mitnehmen:</h3>\n",
    "\n",
    "* **Nested Comprehensions**\n",
    "    * List-, Dictionary- und Set-Comprehensions können verschachtelt und sogar miteinander in nested Comprehensions kombiniert werden\n",
    "    * solange in ihnen nicht zu komplexe Vorgänge ausgeführt werden, sind sie schneller als nested For-Loops\n",
    "    * wegen der beeinträchtigten Lesbarkeit sollten Comprehensions - wenn möglich - nicht mehr als zweifach verschachtelt werden\n",
    "    * Beispiel 1:\n",
    "        * ``list_of_lists = [[0, 1], [2, 3], [4, 5]]``\n",
    "        * ``list_times2 = [n*2 for i in list_of_lists for n in i]``\n",
    "        * ``list_times2``\n",
    "        * Output: [0, 2, 4, 6, 8, 10]\n",
    "        * Erklärung: Zuerst wird die Berechnung an dem zu übertragenen Wert durchgeführt (<b>n*2</b>). Im ersten For-In-Statement wird über die Hauptindize der verschachtelten Liste iteriert. Im zweiten For-In-Statement wird über die Indize der Subliste (<b>i</b>) iteriert und entsprechend auf die Werte an diesen Indizen (<b>n</b>) zugegriffen.\n",
    "        * **In diesem Beispiel wird die einst verschachtelte Liste abgeflacht: Sie enthält keine Sublisten mehr. Im Englischen nennt man das \"Flattening\".**\n",
    "        * Um die Struktur der zweifach verschachtelten Liste zu erhalten, müssen in die List-Comprehension zwei weitere eckige Klammern (für die Erstellung der Sublisten) gesetzt werden (siehe Beispiel 2).\n",
    "    * Beispiel 2:\n",
    "        * ``list_times2 = [[n*2 for n in i] for i in list_of_lists]``\n",
    "        * ``list_times2``\n",
    "        * Output: [[0, 2], [4, 6], [8, 10]]\n",
    "        * Erklärung: In der inneren Verschachtelung wird die Berechnung am zu übertragenden Wert ausgeführt und über die Werte an den Indizen (<b>n</b>) in den Sublisten (<b>i</b>) iteriert. In der äußeren List-Comprehension wird über die Hauptindize mit ihren Sublisten (<b>i</b>) in der zweifach verschachtelten Liste iteriert. Zusammengefasst werden mit der inneren nested List-Comprehension Sublisten an den Indizen der Hauptliste erstellt. **Damit wird eine zweifach verschachtelte Liste erstellt.**  \n",
    "<br>\n",
    "* **kombinierte, nested Comprehensions**\n",
    "    * mit der Kombination verschiedener Comprehensions können z.B. ein Dictionary mit Sublisten oder eine Liste mit Subsets erstellt werden. Alle drei Comprehensions können miteinander kombiniert werden.\n",
    "    * Beispiel zu einer nested Comprehension, welche Listen in ein Dictionary einfügt:\n",
    "        * ``lst = [1, 2, 3]``\n",
    "        * ``dct_of_lists = {i: [j for j in range(0,40,10)] for i in lst}``\n",
    "        * ``dct_of_lists``\n",
    "        * Output: {1: [0, 10, 20, 30], 2: [0, 10, 20, 30], 3: [0, 10, 20, 30]}\n",
    "        * Erklärung: Eine List-Comprehension wurde in eine Dictionary-Comprehension gesetzt. Damit werden an den Keys des Dictionarys Sublisten als Werte der Keys abgelegt. Mit ``{i: ...`` wird bestimmt, was am Key des Dictionarys abgelegt wird. Danach folgt die List-Comprehension. An den Indizen (<b>j</b>) der Sublisten werden jeweils die Werte von 0 bis vor 40 in Zehner-Schritten platziert. Nach der inneren List-Comprehension wird über die Indize (<b>i</b>) der übergebenen Liste iteriert. Über <b>i</b> werden dabei die Werte der Liste als Keys in das zu erstellende Dictionary übertragen.  \n",
    "<br>\n",
    "* **Nested Comprehension mit Bedingung/optionalem Prädikat**\n",
    "    * auch in nested Comprehensions können über Bedingungen Werte zur Übertragung herausgefiltert werden\n",
    "    * Beispiel:\n",
    "        * ``lst = [1, 2, 3]``\n",
    "        * ``dct_of_lists = {i: [j for j in range(0,40,10) if j%3 != 0] for i in lst}``\n",
    "        * ``dct_of_lists``\n",
    "        * Output: lst = {1: [10, 20], 2: [10, 20], 3: [10, 20]}\n",
    "        * Erklärung: Durch die in der List-Comprehension hinzugefügte Bedingung werden alle durch 3 teilbaren Werte nicht in das neue, nested Dictionary aufgenommen.\n",
    "        * **Generell ist das If-Statement nach dem For-In-Statement zu platzieren.**  \n",
    "<br>\n",
    "* **Der Scope (Bekanntheitsgrad/Geltungsbereich) von nested Variablen**\n",
    "    * wegen des Scopes von Variablen kennt die äußere, nested Comprehension nicht die Variablen der inneren, nested Comprehension\n",
    "    * weil die äußere, nested Comprehension über der inneren steht (wie ein äußeres For-In-Statement), kennt aber die innere Comprehension die Variablen der äußeren  \n",
    "<br>\n",
    "* **Iterators und Iterables**\n",
    "    * bei jeder Iteration über ein Iterable (z.B. über einen Loop/eine Comprehension) wird das Iterator-Protokoll von Python aktiviert => über dieses wird ein <b>Iterator-Objekt</b> erstellt\n",
    "    * die einzelnen Schritte des <b>Iterator-Protokolls</b>:  \n",
    "        1) mit der Funktion iter() wird das Iterable in ein Iterator-Objekt umgewandelt  \n",
    "        2) die Funktion ``next()`` ruft das Iterator-Objekt auf => sie greift dann auf das jeweils nächste Element in dem Iterable zu  \n",
    "        3) sobald das Iterable vollständig durchlaufen wurde und mit ``next()`` das nächste Element aufgerufen werden sollte, wird der <font color=darkred>StopIterationError</font> geworfen => du siehst diesen Fehler nicht, wenn du mit einem Loop das Iterable durchläufst => ebensowenig siehst du die vorhergehenden Schritte => sie werden nur sichtbar, wenn du die Schritte 1) und 2) manuell ausführst\n",
    "    * Iterators werden zu Iterables, sobald über sie iteriert wird\n",
    "    * **Iterables sind also die Objekte, über welche iteriert wird - Iterators sind das, womit über sie iteriert wird**  \n",
    "<br>\n",
    "* **Generators**\n",
    "    * sind sowohl Iterables, als auch Iterators\n",
    "    * sind für sehr große Datenmengen (im Millionen-Bereich) besser geeignet als Comprehensions und Loops\n",
    "    * werden mit runden Klammern definiert\n",
    "    * Beispiel:\n",
    "        * ``times3 = (z**3 for z in range(1000000))``\n",
    "        * ``times3``\n",
    "        * Output: lst = <generator object <genexpr> at \"adresse\">\n",
    "        * ein Generator-Objekt wurde erstellt, auf das die gleichen Funktionen wie auf ein Iterator-Objekt angewendet werden können:\n",
    "            * ``print(next(times3))``\n",
    "            * ``print(next(times3))``\n",
    "            * erster Output (untereinander): 0 1\n",
    "            * danach werden bei erneuter Ausführung die nächsten zwei Werte im Generator-Objekt ausgegeben\n",
    "    * Generators erstellen nicht auf einen Schlag eine riesige Datenmenge, sondern generieren die Werte erst, wenn auf diese zugegriffen wird (wie hier mit ``next()``)\n",
    "    * ein Generator_Objekt kann in jedes andere Iterable umgewandelt werden, z.B. mit ``list()`` in eine Liste oder mit ``set()`` in ein Set\n",
    "</div>"
   ]
  }
 ],
 "metadata": {
  "kernelspec": {
   "display_name": "Python 3",
   "language": "python",
   "name": "python3"
  },
  "language_info": {
   "codemirror_mode": {
    "name": "ipython",
    "version": 3
   },
   "file_extension": ".py",
   "mimetype": "text/x-python",
   "name": "python",
   "nbconvert_exporter": "python",
   "pygments_lexer": "ipython3",
   "version": "3.7.3"
  }
 },
 "nbformat": 4,
 "nbformat_minor": 2
}
