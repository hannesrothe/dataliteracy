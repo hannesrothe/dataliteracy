{
 "cells": [
  {
   "cell_type": "markdown",
   "metadata": {},
   "source": [
    "#  3.6 Loops & Funktionen\n",
    "\n",
    "## 3.6.9 While-Loop\n",
    "\n",
    "Im Anschluss dieser Übungseinheit kannst du ...\n",
    "+ While-Loops verstehen\n",
    "+ eigene While-Loops schreiben\n",
    "+ Bedingungen in While-Loops setzen\n",
    "+ die Statements break, continue, pass und else in While-Loops einsetzen\n",
    "+ While-Loops verschachteln"
   ]
  },
  {
   "cell_type": "markdown",
   "metadata": {},
   "source": [
    "## 3.6.9 While-Loop\n",
    "\n",
    "Eine weitere Art von Schleife ist der While-Loop. \"While\" bedeutet in diesem Zusammenhang soviel wie \"während\" oder besser noch \"solange\". Denn der While-Loop läuft, solange eine Bedingung zu einem True führt. Er wird deshalb für Operationen eingesetzt, die ausgeführt werden sollen,  solange etwas zutrifft.  \n",
    "\n",
    "Sehen wir uns das anhand von ein paar Beispielen an.  \n",
    "\n",
    "\n",
    "### Beispiel zu einem While-Loop"
   ]
  },
  {
   "cell_type": "code",
   "execution_count": null,
   "metadata": {},
   "outputs": [],
   "source": [
    "counter = 0\n",
    "\n",
    "while counter < 4:\n",
    "    print('Die Bedingung ist true')\n",
    "    counter = counter + 1"
   ]
  },
  {
   "cell_type": "markdown",
   "metadata": {},
   "source": [
    "#### Grundsätzlicher Aufbau eines While-Loops anhand des 1. Beispiels\n",
    "\n",
    "``counter = 0`` => Jeder While-Loop benötigt einen **Counter** bzw. einen Mitzähler, der mitzählt, wie oft der While-Loop durchlaufen wird. Ohne einen Counter würde der While-Loop endlos laufen - der Kernel würde nicht aufhören zu arbeiten.  \n",
    "\n",
    "``while counter < 4:`` => Das ist die **Bedingung** für den While-Loop oder auch: die **Abbruchbedingung** für ihn. Hier findet sich die Variable für den Counter wieder. Dieser Teil lautet übersetzt: \"Solange der Counter unter 4 liegt:\" Diese Bedingung ist also <font color = darkgreen>true</font>, solange der Counter die 4 noch nicht erreicht hat. Hat der Counter die 4 erreicht, ist die Abbruchbedingung erfüllt: Sie war zuvor <font color = darkgreen>true</font> und ist ab diesem Zeitpunkt <font color = darkred>false</font> und damit wird der Body - der Teil nach dem Doppelpunkt - nicht mehr ausgeführt. Der **Doppelpunkt** ist zwingend zu setzen, damit Python weiß, dass danach der While-Loop-Body folgt. \n",
    "\n",
    "``print('Die Bedingung ist true')`` => Das ist die **Operation**, die **in** diesem **While-Loop-Body** stattfindet. Wie bei einem For-Loop ist auch hier der Body um **4 Leerzeichen/1 Tab-Abstand eingerückt**. Statt ``print()`` könnten hier auch andere Funktionen stehen bzw. auch Berechnungen stattfinden. Auch mehrere Funktionen, Berechnungen könnten hier (untereinander) stehen, wie im Folgenden die Erhöhung des Counters.    \n",
    "\n",
    "``counter = counter + 1`` => Typischerweise wird **der Counter um 1 erhöht**. Würde er nicht erhöht werden, würde er immer bei 0 stehenbleiben und der While-Loop würde endlos laufen. Auf diese Weise zählt der Counter die Anzahl der Iterationen des While-Loops mit. Der While-Loop wird anhand des Counters 0-3 Mal ausgeführt, also insgesamt 4 Mal, weshalb die Print-Funktion 4 Mal ausgeführt wird.   \n",
    "<br>\n",
    "\n",
    "### Control-Flow des While-Loops\n",
    "\n",
    "Flow-Chart zum allgemeinen While-Loop:\n",
    "\n",
    "<img src=\"3-6-8-While-Loop.jpg\">  \n",
    "<br>  \n",
    "\n",
    "An dem Flow-Chart siehst du, dass der While-Loop dem For-Loop ähnelt. Zum Vergleich ist hier noch einmal das **Flow-Chart zum For-Loop** abgebildet:  \n",
    "\n",
    "<img src=\"3-6-1-For-Loop.jpg\">  \n",
    "<br>\n",
    "\n",
    "Während du bei einem While-Loop selbst die Abbruchbedingung bestimmst, läuft ein For-Loop immer solange, bis alle Elemente des Iterables durchlaufen worden sind (es sei denn, du fügst noch Statements oder Conditions ein). For-Loops werden also für die Iteration über Iterables verwendet, während While-Loops noch individueller eingesetzt werden können.  \n",
    "\n",
    "For-Loops können über alle Iterables iterieren (bei einem Dictionary mittels Einsatz von Dictionary-Funktionen), While-Loops können aber nur über Sequenzen iterieren.  \n",
    "<br>\n",
    "\n",
    "<div class=\"alert alert-block alert-info\">\n",
    "<font size=\"3\"><b>Erinnerung an Iterables und Sequenzen in Python:</b></font> \n",
    "<br>\n",
    "    \n",
    "**Sequenzen sind indexiert** - ihre Elemente sind an festen Indizen platziert.  \n",
    "Zu ihnen gehören: Strings, Listen, Tuples, Range-Objekte, Bytes- und Bytearray-Objekte.  \n",
    "<br>\n",
    "\n",
    "Sequenzen gehören auch zu Iterables. Doch **nicht alle Iterables sind indexiert**.  \n",
    "Zu den nicht indexierten Iterables gehören: Set, Dictionary, File-Objekte und Generators.\n",
    "</div>\n",
    "<br>\n",
    "<br>\n",
    "\n",
    "Sobald du die Funktion ``len()`` einsetzt, hast du in einem While-Loop Zugriff auf die Länge der Sequenz und somit auf die Anzahl ihrer Elemente.  \n",
    "\n",
    "### Beispiel zu einem For-Loop mit der Iteration über eine Sequenz  \n",
    "\n",
    "Ein For-Loop ist wegen seiner leichteren Lesbarkeit bei der Iteration über ein Iterable/eine Sequenz dem While-Loop vorzuziehen. Der For-Loop ist genau dafür erschaffen worden. Man würde dies auch die \"pythonische Art\" (engl.: \"pythonic way\") nennen, um über ein Iterable zu iterieren.  \n",
    "\n",
    "Nichtsdestotrotz ist das auch mit einem While-Loop möglich, wobei hier etwas kostenaufwändiger die Funktion ``len()`` dafür eingesetzt werden muss:\n"
   ]
  },
  {
   "cell_type": "code",
   "execution_count": null,
   "metadata": {},
   "outputs": [],
   "source": [
    "lst = [1, 2, 3]\n",
    "\n",
    "c = 0\n",
    "\n",
    "while c < len(lst):\n",
    "    print(lst[c])\n",
    "    c += 1"
   ]
  },
  {
   "cell_type": "markdown",
   "metadata": {},
   "source": [
    "<b>c</b> steht hier für den Counter. Er startet bei 0 und wird solange mit ``c += 1`` um 1 erhöht, bis er das Ende der Liste erreicht hat.  \n",
    "Die Länge der Liste beträgt 3.  \n",
    "\n",
    "Weil <b>c</b> bei 0 startet und unter 3 liegen muss, damit die Bedingung true ist, ist der Counter in der **1. Iteration** 0 und wird in ihr um 1 erhöht.  \n",
    "In der **2. Iteration** ist er 1 und wird in ihr um 1 erhöht.  \n",
    "In der **3. Iteration** ist er 2 und wird in ihr um 1 erhöht.  \n",
    "In der **4. Iteration** ist er 3, damit ist er nicht mehr kleiner als die Listenlänge und die Abbruchbedingung ist erfüllt. **Die 4. Ausführung des While-Loops findet somit nicht statt.**  \n",
    "\n",
    "Insgesamt wird der While-Loop also von 1-3 Mal ausgeführt, wobei die Liste 3 Mal durchlaufen wird. Das entspricht der Anzahl ihrer Indize von 0-2 (0, 1, 2 => 3 Indize).  \n",
    "\n",
    "<b>Weil der Counter in Relation zu der Länge der Sequenz steht, ist deshalb eine Iteration über Iterables, die nicht indexiert sind, mit einem While-Loop nicht möglich.</b>  \n",
    "\n",
    "#### Beispiel zu einem While-Loop über ein Set (nicht möglich)"
   ]
  },
  {
   "cell_type": "code",
   "execution_count": null,
   "metadata": {},
   "outputs": [],
   "source": [
    "s = {1, 2, 3}\n",
    "\n",
    "c = 0\n",
    "\n",
    "while c < len(s):\n",
    "    print(s[c])\n",
    "    c += 1"
   ]
  },
  {
   "cell_type": "markdown",
   "metadata": {},
   "source": [
    "Es ist nicht möglich, sich die Elemente eines Sets über die Index-Notation ausgeben zu lassen, weil ein Set über keine Indize verfügt. Lediglich den Counter, also die Anzahl der Iterationen anhand der Länge des Sets, können wir uns anzeigen lassen:"
   ]
  },
  {
   "cell_type": "code",
   "execution_count": null,
   "metadata": {},
   "outputs": [],
   "source": [
    "s = {1, 2, 3}\n",
    "\n",
    "c = 0\n",
    "\n",
    "while c < len(s):\n",
    "    print(c)\n",
    "    c += 1"
   ]
  },
  {
   "cell_type": "markdown",
   "metadata": {},
   "source": [
    "#### Beispiel zu einem While-Loop über ein Dictionary (nicht möglich)\n",
    "\n",
    "Weil in einem While-Loop nicht zwei Variablen für den Counter deklariert werden können, ist es nicht möglich, mit der Dictionary-Funktion ``.items()`` gleichzeitig über die Keys <b>und</b> Values eines Dictionarys zu iterieren.  \n",
    "\n",
    "<font color = darkred>Z.B. das folgende While-Statement würde zu einem SyntaxError führen:</font> ``while k,v < len(dct.items()):``  \n",
    "\n",
    "Auch, wenn wir nur auf die Keys <b>oder</b> Values eines Dictionarys zugreifen möchten, funktioniert das nicht:"
   ]
  },
  {
   "cell_type": "code",
   "execution_count": null,
   "metadata": {},
   "outputs": [],
   "source": [
    "dct = {1: 10, 2:20, 3:30}\n",
    "\n",
    "c = 0\n",
    "\n",
    "while c < len(dct.keys()):\n",
    "    print(dct[c])\n",
    "    c += 1"
   ]
  },
  {
   "cell_type": "markdown",
   "metadata": {},
   "source": [
    "Wir erhalten einen <font color = darkred>KeyError</font>, denn der While-Loop nutzt den Counter, um mittels ``len()`` über die Keys zu iterieren. Doch wenn die Keys nicht wie der Counter von 0-2 mit 0-2 benamt sind, funktioniert das nicht. Dasselbe gilt für die Values des Dictionarys.  \n",
    "\n",
    "<div class=\"alert alert-block alert-info\">\n",
    "    <font size=\"3\"><b>Wichtiger Hinweis:</b></font>  \n",
    "    \n",
    "Gerade bei Übungen mit While-Loops kann es vorkommen, dass der Kernel (Kreis oben rechts) nicht zu arbeiten aufhört.  \n",
    "Das passiert, wenn ein While-Loop so definiert wurde, dass er endlos läuft.  \n",
    "<br>\n",
    "\n",
    "Achte deshalb besonders darauf, das While-Statement richtig zu definieren und den Counter im While-Loop-Body hochzuzählen.  \n",
    "<br>\n",
    "\n",
    "Sollte der While-Loop bzw. der Kernel nicht stoppen, findest du Hilfe im Kapitel \"0.1.1 Fehlerbehandlung und Hilfe zu Python finden - Den Kernel stoppen\".\n",
    "</div>  \n",
    "<br>\n",
    "<br>\n",
    "\n",
    "<div class=\"alert alert-block alert-warning\">\n",
    "    <font size=\"3\"><b>Übung zu While-Loops:</b></font>  \n",
    "<br>\n",
    "    \n",
    "Befülle mit einem While-Loop eine Liste, die zur weiteren Datenverarbeitung die Zahlen von 0 bis inklusive 25 enthalten soll.  \n",
    "\n",
    "Die Befüllung einer Liste in einem While-Loop funktioniert analog zu der in einem For-Loop.\n",
    "<br>"
   ]
  },
  {
   "cell_type": "code",
   "execution_count": null,
   "metadata": {},
   "outputs": [],
   "source": []
  },
  {
   "cell_type": "markdown",
   "metadata": {},
   "source": [
    "<div class=\"alert alert-block alert-info\">\n",
    "    <font size=\"3\"><b>Tipp zum tatsächlichen Ablauf eines For-Loops:</b></font>      \n",
    "<br>\n",
    "\n",
    "In dem Kapitel \"3.6.2-3.6.3 Besonderheiten zu For-Loops mit Dictionarys & Listen\" wurde dir der Hinweis gegeben, dass mit einem While-Loop dargestellt werden kann, wie ein For-Loop tatsächlich im Hintergrund arbeitet.  \n",
    "\n",
    "Der Moment dafür ist jetzt gekommen.  \n",
    "\n",
    "Du siehst nun zuerst einen For-Loop und danach seine Entsprechung als While-Loop.\n",
    "</div>"
   ]
  },
  {
   "cell_type": "code",
   "execution_count": null,
   "metadata": {},
   "outputs": [],
   "source": [
    "elems = [1111.0, 2222.0, 3333.0]\n",
    "\n",
    "for el in elems:\n",
    "    print(el)"
   ]
  },
  {
   "cell_type": "markdown",
   "metadata": {},
   "source": [
    "#### Dieser For-Loop als While-Loop"
   ]
  },
  {
   "cell_type": "code",
   "execution_count": null,
   "metadata": {},
   "outputs": [],
   "source": [
    "elems = [1111.0, 2222.0, 3333.0]\n",
    "\n",
    "i = 0\n",
    "\n",
    "while i < len(elems):\n",
    "    print(elems[i])\n",
    "    i += 1"
   ]
  },
  {
   "cell_type": "markdown",
   "metadata": {},
   "source": [
    "An diesem Beispiel kannst du sehen, dass der Zugriff auf die Werte an ihren Indizen bereits in den For-Loop eingebaut ist.  \n",
    "<br>\n",
    "\n",
    "### While-Loops mit Bedingungen\n",
    "\n",
    "Auch in While-Loops können Bedingungen eingefügt werden. Du siehst das gleich anhand eines Beispiels.  \n",
    "\n",
    "#### Beispiel zu einem While-Loop mit einer Bedingung"
   ]
  },
  {
   "cell_type": "code",
   "execution_count": null,
   "metadata": {},
   "outputs": [],
   "source": [
    "nums = list(range(10))\n",
    "\n",
    "c = 0\n",
    "\n",
    "while c < len(nums):\n",
    "    if nums[c] % 2 == 0:\n",
    "        print(nums[c])\n",
    "    c += 1"
   ]
  },
  {
   "cell_type": "markdown",
   "metadata": {},
   "source": [
    "Zuerst wurde mit ``nums = list(range(10))`` eine Liste mit den Werten von 0-9 erstellt.  \n",
    "Die Bedingung im While-Loop-Body wird ebenso wie andere Operationen mit 4 Leerzeichen/1 Tab-Abstand eingerückt.  \n",
    "Der Body der Condition wird um weitere 4 Leerzeichen/einen 1 Tab-Abstand eingerückt.\n",
    "Weil der Counter zum While-Loop-Body gehört, darf er nicht der Condition untergeordnet werden und wird gleichrangig zum If-Statement mit insgesamt 4 Leerzeichen/1 Tab-Abstand eingerückt.  \n",
    "\n",
    "**Auch in einem While-Loop kannst du Bedingungen verschachteln sowie logische und Vergleichs-Operatoren verwenden.**  \n",
    "\n",
    "<div class=\"alert alert-block alert-warning\">\n",
    "    <font size=\"3\"><b>Übung zu While-Loops mit Bedingungen:</b></font>  \n",
    "<br>\n",
    "    \n",
    "**Deine Uni- deine Regeln!**  \n",
    "Du hast den Notenspiegel des Kurses \"Fortgeschrittenes Chinesisch für Anfänger\" vorliegen. Komischerweise hat dieser Kurs eine besonders hohe Durchfallquote.  \n",
    "\n",
    "Um den Ruf deiner Universität nicht zu gefährden, beschließt du, allen Studierenden, die mit schlechter als 4.0 durchgefallen sind, nachträglich eine 4.0 zu geben, damit der gesamte Kurs bestanden hat.  \n",
    "<br>\n",
    "\n",
    "**Erstelle eine neue Liste, welche die Original-Noten bis inklusive 4.0 sowie die auf 4.0 korrigierten Noten enthält.**  \n",
    "\n",
    "Hinweis: Diese Aufgabe ließe sich etwas effizienter mit einem For-Loop lösen (weil mit ihm ``len()`` zur Iteration nicht benötigt wird). In dieser Übung geht es aber vorrangig um den Einsatz von Bedingungen in While-Loops. Du kannst das hier Geübte auch auf Anwendungsfälle beziehen, die keine Sequenzen benötigen.</div>"
   ]
  },
  {
   "cell_type": "code",
   "execution_count": null,
   "metadata": {},
   "outputs": [],
   "source": [
    "grades = [3.3, 4.7, 2.7, 6.0, 5.7, 4.3, 4.0, 3.7, 5.3, 5.0]\n",
    "\n"
   ]
  },
  {
   "cell_type": "markdown",
   "metadata": {},
   "source": [
    "### While-Loops und die Statements break, continue, pass, else\n",
    "\n",
    "Die Statements ``break``, ``continue``, ``pass``, ``else`` können auch in While-Loops eingesetzt werden.  \n",
    "\n",
    "Weil wir diese in der Einheit \"3.6.1 For-Loop & die Statements break, continue, pass, else\" bereits ausführlich behandelt haben, folgt hier eine erinnernde Zusammenfassung zu ihren Auswirkungen.  \n",
    "<br>\n",
    "\n",
    "<div class=\"alert alert-block alert-info\">\n",
    "<font size=\"3\"><b>Erinnerung an die Statements break, continue, pass, else:</b></font> \n",
    "<br>\n",
    "    \n",
    "* **break:**\n",
    "    * unterbricht den laufenden Loop vorzeitig \n",
    "    * zuvor wird eine Bedingung definiert, die, wenn sie true ist, das Break-Statement auslöst\n",
    "<br>\n",
    "\n",
    "\n",
    "* **continue:**\n",
    "    * unterbricht den laufenden Loop und setzt ihn anschließend fort\n",
    "    * zuvor wird eine Bedingung definiert, die, wenn sie true ist, das Continue-Statement auslöst  \n",
    "<br>\n",
    "\n",
    "  \n",
    "\n",
    "* **pass:**\n",
    "    * damit können bereits definierte Loop-Statements sowie conditional Statements, die noch keinen Body haben, fehlerfrei ausgeführt werden  \n",
    "    * wird als Platzhalter für noch nicht vollständig definierte Loops und Conditions eingesetzt \n",
    "    * da sie noch keinen Body haben, hat die Ausführung der Loop-Statements/conditional Statements mit ``pass`` keinen Effekt zur Folge\n",
    " \n",
    "<br>\n",
    "\n",
    "  \n",
    "\n",
    "* **else:**\n",
    "    * wird ausgeführt, sobald das Loop-Statement false ist\n",
    "    * wird gleichrangig zum Loop-Statement eingesetzt, mit der gleichen Einrückungsstufe  \n",
    "</div>\n",
    "<br>\n",
    "<br>\n",
    "\n",
    "#### Beispiel zu einem While-Loop mit break"
   ]
  },
  {
   "cell_type": "code",
   "execution_count": null,
   "metadata": {},
   "outputs": [],
   "source": [
    "c = 0\n",
    "\n",
    "while c < 8:\n",
    "    print(c)\n",
    "    if c == 5:\n",
    "        break\n",
    "    c += 1"
   ]
  },
  {
   "cell_type": "markdown",
   "metadata": {},
   "source": [
    "In der 6. Iteration über diesen While-Loop hat <b>c</b> den Wert 5 (denn <b>c</b> beginnt bei 0). Die Zahlen von 0-5 werden über ``print(c)`` ausgegeben. Danach folgt ``break`` und der While-Loop stoppt.  \n",
    "<b>\n",
    "    \n",
    "#### Beispiel zu einem While-Loop mit continue"
   ]
  },
  {
   "cell_type": "code",
   "execution_count": null,
   "metadata": {},
   "outputs": [],
   "source": [
    "c = 0\n",
    "\n",
    "while c < 8:\n",
    "    c += 1\n",
    "    if c == 5:\n",
    "        continue\n",
    "    print(c)"
   ]
  },
  {
   "cell_type": "markdown",
   "metadata": {},
   "source": [
    "<b>c</b> wird ausgegeben, bis es die 4 erreicht hat. Danach ist die Bedingung ``if c == 5:`` true und ``continue`` wird ausgeführt. Es unterbricht den For-Loop bei 5. Danach läuft die Iteration von 6-8, bis die Bedingung für den While-Loop nicht mehr true ist. Obwohl <b>c</b> bis unter 8 ausgegeben werden sollte (wegen ``while c < 8:``), erscheint die 8 in der Ausgabe, weil die Ausgabe bei c = 1 gestartet hat. Denn der Counter wurde direkt nach dem While-Loop-Header um 1 erhöht. Das ergibt 7 Ausgaben - ebenso wie, wenn von 0-7 iteriert worden wäre.   \n",
    "\n",
    "**Noch einmal klar zu beachten ist hier, dass ``c += 1`` direkt unter das While-Statement gesetzt wurde.**  \n",
    "Wird es nach ``print(c)`` gesetzt, läuft der While-Loop endlos weiter. Die Zahlen von 0-4 würden zwar ausgegeben werden, doch weil der While-Loop mit ``continue`` unterbrochen wird und <b>c</b> erst danach erhöht wird, bleibt der While-Loop auf ``continue`` - der Unterbrechung - stehen.  \n",
    "\n",
    "Mit dem obigen While-Loop wird <b>c</b> erst ausgegeben, wenn es bereits auf 1 erhöht wurde. Lassen wir es uns allerdings vor der Erhöhung ausgeben, wird auch die 5 ausgegeben, weil ``print(c)`` dann gleichzeitig vor der Bedingung ausgeführt wird:"
   ]
  },
  {
   "cell_type": "code",
   "execution_count": null,
   "metadata": {},
   "outputs": [],
   "source": [
    "c = 0\n",
    "\n",
    "while c < 8:\n",
    "    print(c)\n",
    "    c += 1\n",
    "    if c == 5:\n",
    "        continue"
   ]
  },
  {
   "cell_type": "markdown",
   "metadata": {},
   "source": [
    "Ein Workaround, um trotzdem die Zahlen von 0-7 ohne die 5 zu erhalten, ist zum Beispiel, von <b>c</b> innerhalb der Print-Funktion 1 abzuziehen. Die Bedingung ``    if c == 6:`` wird auf 6 erhöht, weil sie bei 5 sonst die 4 auslassen würde:"
   ]
  },
  {
   "cell_type": "code",
   "execution_count": null,
   "metadata": {},
   "outputs": [],
   "source": [
    "c = 0\n",
    "\n",
    "while c < 8:\n",
    "    c += 1\n",
    "    if c == 6:\n",
    "        continue\n",
    "    print(c-1)"
   ]
  },
  {
   "cell_type": "markdown",
   "metadata": {},
   "source": [
    "Wird die Bedingung so definiert: ``if c == 5:``, wird die 4 ausgelassen:"
   ]
  },
  {
   "cell_type": "code",
   "execution_count": null,
   "metadata": {},
   "outputs": [],
   "source": [
    "c = 0\n",
    "\n",
    "while c < 8:\n",
    "    c += 1\n",
    "    if c == 5:\n",
    "        continue\n",
    "    print(c-1)"
   ]
  },
  {
   "cell_type": "markdown",
   "metadata": {},
   "source": [
    " Das liegt wiederum daran, dass über ``print(c-1)`` immer die Zahl vor dem aktuellen <b>c</b> ausgegeben wird.  \n",
    " \n",
    "Zum besseren Verständnis dafür sind hier die Iterationsschritte 4-6 für dich genauer aufgeschlüsselt:\n",
    "\n",
    "**4. Iteration:**  \n",
    "* c hat den Wert 3, da c in den ersten drei Iterationen schon von 0-2 gelaufen ist\n",
    "* mit ``c += 1`` wird c auf 4 erhöht\n",
    "* mit ``print(c-1)`` wird die 3 ausgegeben  \n",
    "<br>\n",
    "\n",
    "**5. Iteration:**  \n",
    "* c hat den Wert 4, da c in der letzten Iteration auf 4 erhöht wurde\n",
    "* mit ``c += 1`` wird c auf 5 erhöht\n",
    "* die Bedingung ``if c == 5:`` ist true und ``continue`` wird ausgeführt\n",
    "* ``print(c-1)`` wird nicht ausgeführt  \n",
    "<br>\n",
    "\n",
    "**6. Iteration:**  \n",
    "* c hat den Wert 5, da c in der letzten Iteration auf 5 erhöht wurde\n",
    "* mit ``c += 1`` wird c auf 6 erhöht\n",
    "* mit ``print(c-1)`` wird die 5 ausgegeben  \n",
    "\n",
    "=> Die 4 wurde ausgelassen.  \n",
    "\n",
    "<br>\n",
    "\n",
    "<div class=\"alert alert-block alert-info\">\n",
    "<font size=\"3\"><b>Tipp:</b></font> \n",
    "<br>\n",
    "    \n",
    "Solltest du dir die Funktionsweise und Ausgabe eines Loops nicht erklären können, gehe im Detail durch, wie sich Werte in den einzelnen Iterationsschritten verändern.  \n",
    "\n",
    "Auch das Aufzeichnen eines Flow-Charts kann hilfreiche Einblicke bringen.\n",
    "</div>\n",
    "<br>\n",
    "<br>\n",
    "\n",
    "<div class=\"alert alert-block alert-warning\">\n",
    "    <font size=\"3\"><b>Übung zu While-Loops mit den Statements break und continue:</b></font>  \n",
    "<br>\n",
    "    \n",
    "**Erstelle ein Zahlen-Quiz!**  \n",
    "<br>\n",
    "\n",
    "Mit dieser Übung wiederholst du den Einsatz von random Zahlen sowie User-Input. \n",
    "Was du hier übst, kannst du für alle möglichen Abgleiche von User-input mit deinen Vorgaben verwenden. Die Weiterentwicklung der bisherigen User-Inputs liegt darin, dass du mit einem While-Loop User-Eingaben sich wiederholen lassen kannst, wenn sie nicht auf Anhieb  mit einer Vorgabe übereinstimmen.  \n",
    "<br>\n",
    "\n",
    "Lass den/die UserIn eine **random Zahl zwischen 0-9** erraten. Es soll dafür **drei Versuche** geben. Hat der/die UserIn die Zahl innerhalb von den drei Versuchen erraten, erhält er/sie eine Erfolgsmeldung, ansonsten anschließend eine Negativmeldung, in welcher dem/der UserIn dir richtige Zahl offenbart wird. Auch zu jeder Falscheingabe soll es die Rückmeldung geben, dass die geratene Zahl falsch war, bevor der/die UserIn erneut zu einer Eingabe aufgefordert wird.   \n",
    "\n",
    "4 Tipps zu der Aufgabe findest du weiter unten. Doch sieh sie dir bitte erst vollständig an, wenn du selbst nicht weiter kommst, denn durch eigenes Nachdenken lernst du mehr.    \n",
    "<br>\n",
    "\n",
    "**Hinweise:**\n",
    "* Du brauchst für dieses Quiz nur eines der soeben vorgestellten Statements.\n",
    "* Dieses Quiz könnte theoretisch so erweitert werden, dass fehlerhafte User-Eingaben, z.B. Buchstaben, abgefangen werden. Man könnte dem/der UserIn auch die verbleibenden Versuche anzeigen und, ob die geratene Zahl höher/niedriger als die zu erratende Zahl ist. Es soll in dieser Übung aber vorrangig um den Einsatz des While-Loops und die richtige Anwendung von Statements gehen.\n",
    "* Es gibt verschiedene Lösungsmöglichkeiten für diese Aufgabe.\n",
    "</div>"
   ]
  },
  {
   "cell_type": "code",
   "execution_count": null,
   "metadata": {},
   "outputs": [],
   "source": []
  },
  {
   "cell_type": "markdown",
   "metadata": {},
   "source": [
    "<div class=\"alert alert-block alert-warning\">\n",
    "<br>\n",
    "<br>\n",
    "<br>\n",
    "<br>\n",
    "<br>\n",
    "<br>\n",
    "<br>\n",
    "<br>\n",
    "    <font size=\"3\"><b>Tipp 1 zur Aufgabe:</b></font> \n",
    "<br>\n",
    "    \n",
    "Welches Modul hat die bestimmte Funktion, mit der du random Integers generieren kannst?\n",
    "</div>"
   ]
  },
  {
   "cell_type": "markdown",
   "metadata": {},
   "source": [
    "<div class=\"alert alert-block alert-warning\">\n",
    "    <font size=\"3\"><b>Tipp 2 zur Aufgabe:</b></font> \n",
    "<br>\n",
    "    \n",
    "Wie gibst du dem/der UserIn drei Versuche?  \n",
    "<br>\n",
    "\n",
    "Wofür steht der Counter in dieser Aufgabe?\n",
    "</div>"
   ]
  },
  {
   "cell_type": "markdown",
   "metadata": {},
   "source": [
    "<div class=\"alert alert-block alert-warning\">\n",
    "    <font size=\"3\"><b>Tipp 3 zur Aufgabe:</b></font> \n",
    "<br>\n",
    "    \n",
    "Mit welcher Funktion kannst User-Input abfragen?  \n",
    "<br>\n",
    "\n",
    "An welcher Stelle sollte diese erfolgen, damit der/die UserIn drei Versuche lang etwas eingeben kann?\n",
    "</div>"
   ]
  },
  {
   "cell_type": "markdown",
   "metadata": {},
   "source": [
    "<div class=\"alert alert-block alert-warning\">\n",
    "    <font size=\"3\"><b>Tipp 4 zur Aufgabe:</b></font> \n",
    "<br>\n",
    "    \n",
    "Der While-Loop läuft solange, bis der/die UserIn entweder innerhalb von drei Versuchen nicht die richtige Zahl erraten hat - oder bis er/sie die richtige Zahl erraten hat.  \n",
    "<br>\n",
    "\n",
    "Was sollte mit dem While-Loop geschehen, wenn der/die UserIn die richtige Zahl erraten hat?  \n",
    "<br>\n",
    "\n",
    "Welches Statement brauchst du dafür?\n",
    "</div>"
   ]
  },
  {
   "cell_type": "markdown",
   "metadata": {},
   "source": [
    "#### Beispiel zu einem While-Loop mit pass"
   ]
  },
  {
   "cell_type": "code",
   "execution_count": null,
   "metadata": {},
   "outputs": [],
   "source": [
    "c = 0\n",
    "\n",
    "while c < 5:\n",
    "    pass"
   ]
  },
  {
   "cell_type": "markdown",
   "metadata": {},
   "source": [
    "Obwohl es noch keinen While-Loop-Body gibt, erhalten wir keine Fehlermeldung bei definiertem While-Statement.  \n",
    "\n",
    "Anders sähe das ohne ``pass`` aus. Ein Beispiel dazu gibt es an dieser Stelle nicht, denn dann würden der While-Loop und der Kernel endlos laufen und du müsstest dieses Notebook neu starten."
   ]
  },
  {
   "cell_type": "markdown",
   "metadata": {},
   "source": [
    "#### Beispiel zu einem While-Loop mit else"
   ]
  },
  {
   "cell_type": "code",
   "execution_count": null,
   "metadata": {},
   "outputs": [],
   "source": [
    "counter = 0\n",
    "\n",
    "while counter < 4:\n",
    "    print('Die Bedingung ist true')\n",
    "    counter = counter + 1\n",
    "else:\n",
    "    print('Ende der Iteration')"
   ]
  },
  {
   "cell_type": "markdown",
   "metadata": {},
   "source": [
    "Gleichrangig zum While-Statement wird ``else`` eingesetzt. Das bedeutet, beide stehen für Python auf der gleichen Abarbeitungsstufe. Das, was zuerst geschrieben wurde - das While-Statement - wird zuerst abgearbeitet. Danach wird, unabhängig von den Operationen im While-Loop, der Else-Codeblock abgearbeitet.  \n",
    "**``else`` wird aber nur dann ausgeführt, wenn der While-Loop korrekt und vollständig abgeschlossen werden konnte.**  \n",
    "\n",
    "``else`` wird nicht ausgeführt, wenn ...  \n",
    "* der While-Loop-Body nur mit ``pass`` definiert wird => das führt mit ``else`` zu einem endlosen While-Loop!\n",
    "* im While-Loop-Body zuvor ein Break-Statement ausgeführt wird  \n",
    "<br>\n",
    "<br>\n",
    "\n",
    "### Nested While-Loops\n",
    "\n",
    "Auch While-Loops können verschachtelt werden, um über mehrere sowie verschachtelte Sequenzen zu iterieren.  \n",
    "\n",
    "#### Beispiel zu einem nested While-Loop"
   ]
  },
  {
   "cell_type": "code",
   "execution_count": null,
   "metadata": {},
   "outputs": [],
   "source": [
    "c1 = 1\n",
    "c2 = 1\n",
    "\n",
    "while c1 < 4:\n",
    "    print(f'\\nÄußerer Loop ist zum {c1}. Mal aktiv')\n",
    "    while c2 < 3:\n",
    "        print(f'Innerer Loop ist zum {c2}. Mal aktiv')\n",
    "        c2 += 1\n",
    "    c1 += 1"
   ]
  },
  {
   "cell_type": "markdown",
   "metadata": {},
   "source": [
    "Anders, als bei einem verschachtelten For-Loop, wurde hier das innere While-Statement nur einmal vollständig abgearbeitet.  \n",
    "Danach wurde das äußere While-Statement - ohne weitere Abarbeitungen des inneren - vollständig abgearbeitet.  \n",
    "\n",
    "Zum Vergleich siehst du hier noch einmal das Beispiel zur Arbeitsweise eines zweifach verschachtelten For-Loops:"
   ]
  },
  {
   "cell_type": "code",
   "execution_count": null,
   "metadata": {},
   "outputs": [],
   "source": [
    "for i in range(1,4):\n",
    "    print(f'\\nÄußerer Loop ist zum {i}. Mal aktiv')\n",
    "    for k in range(1,3):\n",
    "        print(f'Innerer Loop ist zum {k}. Mal aktiv')"
   ]
  },
  {
   "cell_type": "markdown",
   "metadata": {},
   "source": [
    "Mit einem For-Loop wird der innere Loop mit jeder erneuten Iteration des äußeren Loops auch erneut vollständig abgearbeitet.  \n",
    "\n",
    "**Das liegt daran, dass wenn der innere Counter des While-Loops einmal vollständig abgelaufen ist, der innere Loop dadurch nicht erneut aktiviert werden kann.**  \n",
    "\n",
    "Das kann, je nach Anwendungsfall, so gewollt sein oder nicht.  \n",
    "Wenn diese Arbeitsweise des inneren While-Loops von dem inneren Counter abhängig ist, wie könnte Abhilfe geschaffen werden?\n",
    "\n",
    "<div class=\"alert alert-block alert-warning\">\n",
    "    <font size=\"3\"><b>1. Übung zu nested While-Loops:</b></font>  \n",
    "<br>\n",
    "    \n",
    "**Schreibe den While-Loop so um, dass wie bei einem nested For-Loop der innere Loop mit jeder Iteration über den äußeren vollständig ausgeführt wird.**  \n",
    "\n",
    "Die Änderungen an dem vorherigen Code betreffen den zweiten Counter. Er darf nicht mit einem Mal vollständig abgelaufen werden, sondern sollte mit jeder neuen Iteration des äußeren Loops auch von vorn beginnen.\n",
    "</div>"
   ]
  },
  {
   "cell_type": "code",
   "execution_count": null,
   "metadata": {},
   "outputs": [],
   "source": [
    "# vorheriger Code\n",
    "\n",
    "c1 = 1\n",
    "c2 = 1\n",
    "\n",
    "while c1 < 4:\n",
    "    print(f'Äußerer Loop ist zum {c1}. Mal aktiv')\n",
    "    while c2 < 3:\n",
    "        print(f'Innerer Loop ist zum {c2}. Mal aktiv')\n",
    "        c2 += 1\n",
    "    c1 += 1"
   ]
  },
  {
   "cell_type": "code",
   "execution_count": null,
   "metadata": {},
   "outputs": [],
   "source": [
    "# dein Code\n",
    "\n"
   ]
  },
  {
   "cell_type": "markdown",
   "metadata": {},
   "source": [
    "<div class=\"alert alert-block alert-warning\">\n",
    "<br>\n",
    "<br>\n",
    "<br>\n",
    "<br>\n",
    "<br>\n",
    "<br>\n",
    "<br>\n",
    "<br>\n",
    "<b>Achtung: Der folgende Teil enthält die Lösung zu der 1. Übung zu nested While-Loops.\n",
    "<br>\n",
    " <br>\n",
    "<br>\n",
    "<br>\n",
    "</div>\n",
    "\n",
    "#### Beispiel zu einem nested While-Loop über eine nested Liste\n",
    "\n",
    "Auch für die Iteration über nested Sequenzen mit einem While-Loop gilt: Der Einsatz eines For- statt eines While-Loops wäre der pythonischere Weg. Trotzdem gehört es zum Python-Grundwissen, wie du das auch mit einem While-Loop umsetzen kannst.  \n",
    "\n",
    "Um auf die Subindize einer verschachtelten Liste in einem While-Loop zugreifen zu können, muss auch der While-Loop verschachtelt sein. Der äußere Loop läuft dabei über die Indize der obersten Listenebene, der innere Loop läuft über die Indize der untergeordneten Listenebene.  \n",
    "\n",
    "In der Ausgabe erscheinen die Werte der Liste an dem aktuellen Hauptindex (<b>lst[c1]</b>), am aktuellen Index der Subliste (<b>lst[c1][c2]</b>):"
   ]
  },
  {
   "cell_type": "code",
   "execution_count": null,
   "metadata": {},
   "outputs": [],
   "source": [
    "lst = [[1, 2], [3, 4], [5, 6]]\n",
    "\n",
    "c1 = 0\n",
    "\n",
    "while c1 < len(lst):\n",
    "    c2 = 0\n",
    "    while c2 < len(lst[c1]):\n",
    "        print(lst[c1][c2], end = ' ')\n",
    "        c2 += 1\n",
    "    c1 += 1"
   ]
  },
  {
   "cell_type": "markdown",
   "metadata": {},
   "source": [
    "Leichter lesbar, doch mit einer zusätzlichen Definition einer Variable (``sublist = lst[c1]``) verbunden, ließe sich der nested Loop auch so schreiben:"
   ]
  },
  {
   "cell_type": "code",
   "execution_count": null,
   "metadata": {},
   "outputs": [],
   "source": [
    "lst = [[1, 2], [3, 4], [5, 6]]\n",
    "\n",
    "c1 = 0\n",
    "\n",
    "while c1 < len(lst):\n",
    "    sublist = lst[c1]\n",
    "    c2 = 0\n",
    "    while c2 < len(sublist):\n",
    "        print(sublist[c2], end = ' ')\n",
    "        c2 += 1\n",
    "    c1 += 1"
   ]
  },
  {
   "cell_type": "markdown",
   "metadata": {},
   "source": [
    "Entscheide in so einem Fall selbst, wie du deinen Code gut lesbar und trotzdem effizient schreibst. Die zusätzliche Definition einer Variable ist weniger kostspielig als zum Beispiel ein zusätzlicher Funktionsaufruf und/oder eine weitere Iteration.  \n",
    "<br>\n",
    "\n",
    "<div class=\"alert alert-block alert-warning\">\n",
    "    <font size=\"3\"><b>2. Übung zu nested While-Loops:</b></font>  \n",
    "<br>\n",
    "    \n",
    "**Schreibe einen nested While-Loop, der dir in einem Schema das Ergebnis der Multiplikation aller Zahlen von 3 bis 5 anzeigt.**  \n",
    "<br>\n",
    "\n",
    "**Gewünschter Output (mit dieser Zeilenaufteilung):**  \n",
    "\n",
    "``1 2 3 4 5``  \n",
    "``2 4 6 8 10``  \n",
    "``3 6 9 12 15``  \n",
    "\n",
    "Hinweis: Auch für einen nested While-Loop gilt: Der äußere Loop steht für die Y-Achse, der innere Loop für die X-Achse.\n",
    "</div>"
   ]
  },
  {
   "cell_type": "code",
   "execution_count": null,
   "metadata": {},
   "outputs": [],
   "source": []
  },
  {
   "cell_type": "markdown",
   "metadata": {},
   "source": [
    "### While-Loop mit Rückwärts-Counter  \n",
    "\n",
    "Zu guter Letzt siehst du hier an einem Beispiel, dass man den Counter eines While-Loops nicht nur vorwärts, sondern auch rückwärts laufen lassen kann:"
   ]
  },
  {
   "cell_type": "code",
   "execution_count": null,
   "metadata": {},
   "outputs": [],
   "source": [
    "c = 3\n",
    "\n",
    "while c >= 0:\n",
    "    print(c)\n",
    "    c -= 1"
   ]
  },
  {
   "cell_type": "markdown",
   "metadata": {},
   "source": [
    "Das ist nützlich, wenn du den Counter wie einen Countdown einsetzen möchtest, der bis zu einer bestimmten Zahl herunter zählt.  \n",
    "\n",
    "Entsprechend wird dabei die Bedingung im While-Statement so umgedreht: ``c >= 0``. Sie ist solange true, wie der Counter **größer oder gleich** 0 ist.  \n",
    "\n",
    "Auch wird der Counter nicht mehr erhöht, sondern pro Iteration gesenkt mit: ``c -= 1``."
   ]
  },
  {
   "cell_type": "markdown",
   "metadata": {},
   "source": [
    "<div class=\"alert alert-block alert-success\">\n",
    "<b>Toll!</b> Du kennst nun alle Arten von Python-Loops und weißt, für welche Fälle du am besten welche wie einsetzt.  \n",
    "    \n",
    "In der kommenden Einheit lernst du eine der spannendsten Möglichkeiten in Python kennen: Du erfährst, wie du eigene Funktionen definieren kannst. Diese sind dann so einsetzbar wie Pythons built-in Funktionen. Das zu beherrschen, ist ein mächtiges Handwerkszeug und wird dir in vielerlei Hinsicht die Arbeit erleichtern.\n",
    "</div>"
   ]
  },
  {
   "cell_type": "markdown",
   "metadata": {},
   "source": [
    "<div class=\"alert alert-block alert-info\">\n",
    "<h3>Das kannst du aus dieser Übung mitnehmen:</h3>\n",
    "\n",
    "* **While-Loop**\n",
    "    * ist neben For-Loops und Conditions eine weitere Möglichkeit, den Control-Flow in Python (auch anderen Programmiersprachen) zu steuern\n",
    "    * läuft <b>während</b> eine Bedingung wahr ist bzw. <b>solange</b> sie true ist\n",
    "    * braucht stets einen Zähler/Counter, der im While-Loop-Body die Anzahl der Iterationen bis zum Abbruch des Loops mitzählt\n",
    "    * Beispiel:\n",
    "        * ``counter = 0``\n",
    "        * ``while counter < 4:``:\n",
    "            * ``print('Die Bedingung ist true')``\n",
    "            * ``counter = counter + 1``\n",
    "        * Output: vier Mal untereinander ausgegeben wird: Die Bedingung ist true\n",
    "        * Erklärung: Der Counter wird im While-Loop-Body von 0-3 hochgezählt, also insgesamt vier Mal. Weil im While-Loop-Header die Bedingung formuliert ist, dass der Counter nicht 4 werden darf, stoppt der While-Loop vor der 5. Iteration. Solange die im Header gesetzte Bedingung true ist, werden die Operationen im While-Loop-Body ausgeführt. Das gilt, solange keine Statements wie ``break`` o.ä. im While-Loop-Body eingebaut sind.\n",
    "    * **ohne den mitzählenden Counter läuft der While-Loop endlos => das Programm/Notebook bleibt hängen**\n",
    "    * While-Loops können nur über Sequenzen iterieren (Strings, Listen, Tuples, Range-Objekte, Bytes- und Bytearray-Objekte)\n",
    "    * für die Iteration über Iterables und Sequenzen sind For-Loops geschaffen (\"pythonic way\")\n",
    "    * dennoch kann mit ``len(sequence)`` über eine Sequenz in einem While-Loop iteriert werden\n",
    "    * das kostet mit ``len()`` einen zusätzlichen Funktionsaufruf\n",
    "    * **die wesentlichen Unterschiede zwischen For- und While-Loops:**\n",
    "        * For-Loops laufen bis zum letzten Element des übergebenen Iterables (wenn nichts anderes spezifiziert ist)\n",
    "        * While-Loops laufen, solange eine gesetzte Bedingung true ist\n",
    "        * => While-Loops sind auf Sequenzen beschränkt, während For-Loops über alle Iterables iterieren können\n",
    "        * => gleichzeitig ist mit While-Loops das Setzen individuellerer Bedingungen für die Iteration möglich\n",
    "    * Beispiel für einen While-Loop über eine Sequenz und mit einer Bedingung:\n",
    "        * ``nums = list(range(10))``\n",
    "        * ``c = 0``\n",
    "        * ``while c < len(nums):``\n",
    "            * ``if nums[c] % 2 == 0:``\n",
    "                * ``print(nums[c])``\n",
    "            * ``c += 1``\n",
    "        * Output (untereinander): 0 2 4 6 8\n",
    "        * Erklärung: Die Iteration des While-Loops läuft 0-9 Mal (10 Mal insgesamt). Über ``len(nums)`` wird über die Länge der übergebenen Liste iteriert. Alle Werte in der Liste, die durch 2 teilbar sind, werden über ``print(nums[c])`` ausgegeben. \n",
    "        * **Bedingungen müssen entsprechend zu allen anderen Operationen im While-Loop-Body um 4 Leerzeichen/1 Tab-Abstand eingerückt werden.**  \n",
    "<br>\n",
    "* **Das Statement break im While-Loop**\n",
    "    * unterbricht den While-Loop, wenn die Bedingung, die es auslösen soll, true ist\n",
    "    * Beispiel:\n",
    "        * ``c = 0``\n",
    "        * ``while c < 4:``:\n",
    "            * ``print(c)``\n",
    "            * ``if c == 2:``\n",
    "                * ``break``\n",
    "            * ``c += 1``\n",
    "        * Output (untereinander): 0 1 2\n",
    "        * Erklärung: sobald <b>c</b> 2 ist, wird der While-Loop unterbrochen und die 3 nicht mehr ausgegeben. Weil ``print(c)`` noch vor dem If-Statement und ``break`` erfolgt, erscheint die 2 noch in der Ausgabe.  \n",
    "<br>\n",
    "* **Das Statement continue im While-Loop**\n",
    "    * unterbricht den While-Loop, wenn die Bedingung, die es auslösen soll, true ist und lässt den While-Loop danach weiter laufen\n",
    "    * Beispiel:\n",
    "        * ``c = 0``\n",
    "        * ``while c < 4:``:\n",
    "            * ``c += 1``\n",
    "            * ``if c == 2:``\n",
    "                * ``continue``\n",
    "            * ``print(c)``\n",
    "        * Output (untereinander): 1 3\n",
    "        * Erklärung: Der Counter wird vor allen anderen Operationen im Body erhöht. Deshalb startet die Ausgabe bei 1. Sobald <b>c</b> 2 ist, wird der While-Loop unterbrochen und erst nach der 2 fortgeführt. Weil ``print(c)`` nach dem If-Statement und ``continue`` erfolgt, erscheint die 2 nicht in der Ausgabe. Danach läuft der While-Loop bis zu seinem Ende weiter, weshalb die 3 in der Ausgabe erscheint.\n",
    "    * **Achtung: Wird der Counter nach ``continue`` erhöht, läuft der While-Loop endlos weiter. Ohne vorherige Erhöhung des Counters bliebe er endlos auf der Unterbrechung durch ``continue`` stehen.**  \n",
    "<br>\n",
    "* **Das Statement pass im While-Loop**\n",
    "    * erlaubt es, einen While-Loop, dessen Body noch nicht definiert wurde, fehlerfrei auszuführen\n",
    "    * Beispiel:\n",
    "        * ``c = 0``\n",
    "        * ``while c < 4:``:\n",
    "            * ``pass``\n",
    "        * Output: nichts, auch kein Fehler ;-)  \n",
    "<br>\n",
    "* **Das Statement else im While-Loop**\n",
    "    * wird gleichrangig zum While-Loop-Header gesetzt (auf gleicher Einrückungsstufe)\n",
    "    * wird ausgeführt, sobald der While-Loop vollständig durchlaufen wurde\n",
    "    * Beispiel:\n",
    "        * ``c = 0``\n",
    "        * ``while c < 2:``:\n",
    "            * ``print('Die Bedingung ist true')``\n",
    "            * ``counter = counter + 1``\n",
    "        * ``else:``\n",
    "            * ``print('Ende der Iteration')``\n",
    "        * Output: \n",
    "            * Bedingung ist true\n",
    "            * Bedingung ist true\n",
    "            * Ende der Iteration\n",
    "    * **Achtung: ``else`` wird nur ausgeführt, wenn der While-Loop vollständig abgeschlossen werden konnte**\n",
    "    * ``else`` wird nicht ausgeführt, wenn:\n",
    "        * der While-Loop-Body nur mit ``pass`` definiert wird => das führt mit ``else`` zu einem endlosen While-Loop!\n",
    "        * im While-Loop-Body zuvor ein Break-Statement ausgeführt wird  \n",
    " <br>\n",
    "* **Verschachtelte While-Loops**\n",
    "    * auch While-Loops können verschachtelt werden, um über mehrere sowie verschachtelte Sequenzen zu iterieren\n",
    "    * Beispiel:\n",
    "        * ``lst = [[1, 2], [3, 4], [5, 6]]``\n",
    "        * ``c1 = 0``\n",
    "        * ``while c1 < len(lst):``\n",
    "            * ``sublist = lst[c1]``\n",
    "            * ``c2 = 0``\n",
    "            * ``while c2 < len(sublist):``\n",
    "                * ``print(sublist[c2], end = ' ')``\n",
    "                * ``c2 += 1``\n",
    "            * ``c1 += 1``\n",
    "         * Output: 1 2 3 4 5 6\n",
    "         * Erklärung: Im äußeren While-Loop-Header wird über die Hauptindize (<b>c1</b>) der übergebenen Liste iteriert. Dort liegen die Sublisten. Der zweite Counter, <b>c2</b> wird **im ersten While-Loop-Body mit jeder Iteration in ihm auf 0 zurückgesetzt**. Würde er nicht an dieser Stelle auf 0 zurückgesetzt werden bzw. generell nicht zurückgesetzt werden, würde der zweite While-Loop-Body nur einmalig komplett durchlaufen werden. Der zweite While-Loop-Body soll aber, um über die Elemente <b>aller</b> Sublisten zu iterieren, nicht nur einmalig durchlaufen werden (es sei denn, ein bestimmter Anwendungsfall forderte genau das). Danach wird mit <b>c2</b> im inneren While-Loop-Header über die Indize/Elemente der Sublisten iteriert. Mit ``end = ' '`` in ``print(...)`` werden sie auf der gleichen Zeile, mit einem Leertasten-Abstand ausgegeben. **Der innere Counter zählt im inneren Loop die Anzahl der inneren Iterationen mit. Analog zählt im äußeren Loop der äußere Counter die Iterationsanzahl mit.**  \n",
    "<br>\n",
    "* **While-Loop mit Rückwärts-Counter**\n",
    "    * benötigst du einen Counter, der wie ein Countdown rückwärts zählend funktioniert, kannst du den Counter \"umdrehen\"\n",
    "    * Beispiel:\n",
    "        * ``c = 3``\n",
    "        * ``while c >= 0:``\n",
    "            * ``print(c)``\n",
    "            * ``c -= 1``\n",
    "        * Output (untereinander): 3 2 1 0\n",
    "        * Erklärung: Im While-Loop-Header wird nun heruntergezählt, bis der Counter gleich 0 ist mit: ``c >= 0``. Sobald der Counter kleiner als 0 ist, ist die Bedingung im While-Loop-Header nicht mehr true und er Loop wird beendet. Statt im While-Loop-Body den Counter zu erhöhen, wird er gesenkt mit: ``c -= 1``\n",
    "</div>"
   ]
  }
 ],
 "metadata": {
  "kernelspec": {
   "display_name": "Python 3",
   "language": "python",
   "name": "python3"
  },
  "language_info": {
   "codemirror_mode": {
    "name": "ipython",
    "version": 3
   },
   "file_extension": ".py",
   "mimetype": "text/x-python",
   "name": "python",
   "nbconvert_exporter": "python",
   "pygments_lexer": "ipython3",
   "version": "3.7.3"
  }
 },
 "nbformat": 4,
 "nbformat_minor": 2
}
