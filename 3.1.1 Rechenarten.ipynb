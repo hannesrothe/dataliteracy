{
 "cells": [
  {
   "cell_type": "markdown",
   "metadata": {},
   "source": [
    "# 3.1 Python als Taschenrechner\n",
    "\n",
    "## 3.1.1 Rechenarten\n",
    "\n",
    "In dieser Übungseinheit erlernst du anhand grundlegender Rechenbeispiele die Verwendung von Python mit mathematischen Operatoren wie \"plus\", \"minus\" und weiteren. Darauf aufbauend ist Python im Anschluss bei komplizierteren Berechnungen für dich einsetzbar.\n",
    "\n",
    "Im Anschluss dieser Übungseinheit kannst du ...\n",
    "+ grundlegende und weiterführende Rechenoperationen in Python ausführen\n",
    "+ einer Variable Werte zuweisen\n",
    "+ Zellen im Jupyter Notebook anlegen und auf verschiedene Weisen ausführen\n",
    "+ dir Ergebnisse auf verschiedene Weisen ausgeben lassen\n",
    "<br>\n",
    "\n",
    "<div class=\"alert alert-block alert-info\">\n",
    "<font size=\"3\"><b>Tipp:</b></font> Wenn du dieses Notebook durchgehst, dann am besten von oben nach unten. Das betrifft vor allem die Ausführung der Code-Zellen, die teils voneinander abhängig sind. Sie sind immer dann voneinander abhängig, wenn Variablen von einer Codezelle in einer anderen Codezelle wiederverwendet werden. Führst du eine spätere Code-Zelle vor einer vorherigen aus, kann es bei der Abhängigkeit beider sonst zu einem Fehler kommen.\n",
    "</div>\n",
    "<br>\n"
   ]
  },
  {
   "cell_type": "markdown",
   "metadata": {},
   "source": [
    "## 3.1.1.1 Variablen Werte zuweisen\n",
    "\n",
    "In Python kannst du alle Grundrechenoperationen fast wie in einen Taschenrechner eingeben. z.B.:  \n",
    "<br>\n",
    "2 + 3  \n",
    "<br>\n",
    "**Ausführung der Berechnung: Du kannst mit dem \"+\"-Zeichen oben auf der linken Seite eine neue Zelle öffnen, mit den Pfeil-Buttons nach oben/unten kannst du sie verschieben. Gibst du so eine Gleichung in eine Jupyter-Notebook-Code-Zelle ein, gibt es verschiedene Wege, dir die Lösung anzeigen zu lassen:**  \n",
    "<br>\n",
    "(Zuerst klickst du auf die Code-Zelle.)\n",
    "* Du klickst ganz oben auf <font color = green>Run</font>: die Zelle wird ausgeführt.\n",
    "* Du klickst auf <font color = green>Strg</font> plus <font color = green>Enter</font>: Die Zelle wird ausgeführt. Auf englischen Tastaturen klickst du auf <font color = green>Ctrl</font> statt Strg (Mac: <font color = green>Command Key</font> plus <font color = green>Enter</font>).\n",
    "* Du klickst auf <font color = green>Alt</font> plus <font color = green>Enter</font>: Die Zelle wird ausgeführt und automatisch eine neue Zelle darunter erstellt (Mac: <font color = green>Option</font> plus <font color = green>Enter</font>).  \n",
    "<br>\n",
    "\n",
    "Das Ergebnis bzw. der Output erscheint stets unterhalb der Code-Zelle.  \n",
    "<div class=\"alert alert-block alert-info\">\n",
    "<font size=\"3\"><b>Tipp:</b></font> Beachte bei der Eingabe von Fließkommazahlen (z.B. 2,3), dass diese mit einem Punkt statt einem Komma geschrieben werden, also: <font color = green>2.3</font>, sonst führt die Eingabe zu einem Fehler.\n",
    "</div>\n",
    "<br> \n",
    "<div class=\"alert alert-block alert-warning\">\n",
    "<font size=\"3\"><b>Übung:</b></font> Teste folgende Berechnungen und gerne auch eigene Berechnungen direkt in den unteren Code-Zellen aus.\n",
    "</div>"
   ]
  },
  {
   "cell_type": "code",
   "execution_count": null,
   "metadata": {},
   "outputs": [],
   "source": [
    "2 + 3"
   ]
  },
  {
   "cell_type": "code",
   "execution_count": null,
   "metadata": {},
   "outputs": [],
   "source": [
    "3 - 1"
   ]
  },
  {
   "cell_type": "code",
   "execution_count": null,
   "metadata": {},
   "outputs": [],
   "source": [
    "5 * 7"
   ]
  },
  {
   "cell_type": "code",
   "execution_count": null,
   "metadata": {},
   "outputs": [],
   "source": [
    "4.2 / 2"
   ]
  },
  {
   "cell_type": "code",
   "execution_count": null,
   "metadata": {},
   "outputs": [],
   "source": []
  },
  {
   "cell_type": "code",
   "execution_count": null,
   "metadata": {},
   "outputs": [],
   "source": []
  },
  {
   "cell_type": "markdown",
   "metadata": {},
   "source": [
    "Du kannst in Python außerdem Variablen mit Werten belegen und miteinander verrechnen, zum Beispiel:"
   ]
  },
  {
   "cell_type": "code",
   "execution_count": null,
   "metadata": {},
   "outputs": [],
   "source": [
    "x = 8\n",
    "y = 7\n",
    "\n",
    "x + y"
   ]
  },
  {
   "cell_type": "markdown",
   "metadata": {},
   "source": [
    "Auch **x + y** kann einer Variablen übergeben und für weitere Rechnungen verwendet werden:"
   ]
  },
  {
   "cell_type": "code",
   "execution_count": null,
   "metadata": {},
   "outputs": [],
   "source": [
    "addition = x + y\n",
    "\n",
    "print(addition)"
   ]
  },
  {
   "cell_type": "markdown",
   "metadata": {},
   "source": [
    "Variablen können zudem überschrieben werden, sodass ein und dieselbe Variable (hier **x**) einen neuen Wert bekommt:"
   ]
  },
  {
   "cell_type": "code",
   "execution_count": null,
   "metadata": {},
   "outputs": [],
   "source": [
    "x = 2\n",
    "\n",
    "x = x + 1 #erhöht x um 1\n",
    "\n",
    "print(x)"
   ]
  },
  {
   "cell_type": "markdown",
   "metadata": {},
   "source": [
    "Das kann mit der folgenden Schreibweise noch kompakter geschrieben werden:"
   ]
  },
  {
   "cell_type": "code",
   "execution_count": null,
   "metadata": {},
   "outputs": [],
   "source": [
    "x = 2\n",
    "\n",
    "x += 1 # erhöht x um 1\n",
    "\n",
    "print(x)"
   ]
  },
  {
   "cell_type": "markdown",
   "metadata": {},
   "source": [
    "**Äquivalent zu dieser Schreibweise kannst du das auch auf die anderen Rechenerten anwenden:**  \n",
    "<br>\n",
    "* x -= 2 (subtrahiert 2 von x)\n",
    "* x *=3 (multiplizert x mit 3)\n",
    "* x /= 4 (teilt x durch 4)  \n",
    "<br>\n",
    "\n",
    "Verwendet wird diese Schreibweise vor allem in Loops/Schleifen, um eine immerwiederkehrende (gleiche) Rechnung an der angegebenen Variable auszuführen.  \n",
    "<br>\n",
    "\n",
    "<div class=\"alert alert-block alert-warning\">\n",
    "<font size=\"3\"><b>Übung:</b></font> Die Variable <b>s</b> ist 15 und wird am Ende der Code-Zelle mit <b>print(s)</b> ausgegeben. Schreib die kompakte Rechnung in die Mitte, die <b>s</b> durch 5 teilt.\n",
    "</div>"
   ]
  },
  {
   "cell_type": "code",
   "execution_count": null,
   "metadata": {},
   "outputs": [],
   "source": [
    "s = 15\n",
    "\n",
    "\n",
    "\n",
    "print(s)"
   ]
  },
  {
   "cell_type": "markdown",
   "metadata": {},
   "source": [
    "<div class=\"alert alert-block alert-warning\">\n",
    "<font size=\"3\"><b>Übung:</b></font> Die Variable <b>t</b> ist 23 und wird am Ende der Code-Zelle mit <b>print(t)</b> ausgegeben. Schreib die kompakte Rechnung in die Mitte, die von <b>t</b> 7 subtrahiert.\n",
    "</div>"
   ]
  },
  {
   "cell_type": "code",
   "execution_count": null,
   "metadata": {},
   "outputs": [],
   "source": [
    "t = 23\n",
    "\n",
    "\n",
    "\n",
    "print(t)"
   ]
  },
  {
   "cell_type": "markdown",
   "metadata": {},
   "source": [
    "<div class=\"alert alert-block alert-info\">\n",
    "<font size=\"3\"><b>Tipp:</b></font> Was bedeutet <b>Deklaration</b> und was bedeutet <b>Initialisierung</b> von Variablen?  \n",
    "<br>\n",
    "    \n",
    "<b>Deklaration</b>: Dabei wird einer Variable Speicherplatz reserviert. Diesen nutzt sie, wenn sie im weiteren Code-Verlauf eingesetzt wird.  \n",
    "\n",
    "Um eine Variable zu deklarieren, reicht es in Python, ihr einen Namen zu geben. In Programmiersprachen wie Java und C++ müsstest du noch ihren Datentyp angeben. Das macht Python so flexibel: Du brauchst den Datentyp einer Variablen nicht angeben und er kann sich sogar während des Programmablaufs verändern.  \n",
    "<br>\n",
    "<b>Initialisierung</b>: Wird eine Variable initialisiert, wird ihr ein Startwert zugewiesen.   \n",
    "<br>\n",
    "In Python werden Deklaration und Initialisierung in einem Schritt ausgeführt.  \n",
    "<br>\n",
    "Beispiel: ``price = 3.65``\n",
    "=> **price** ist die Deklaration, **3.65** ist der Initialwert  \n",
    "</div>\n",
    "<br> \n",
    "\n",
    "\n",
    "## 3.1.1.2 Ergebnisse anzeigen lassen\n",
    "\n",
    "**Um dir Ergebnisse anzeigen zu lassen, kannst den Namen der Ergebnisvariablen entweder:**\n",
    "  * in der Zeile darunter eingeben (hier **addition** )"
   ]
  },
  {
   "cell_type": "code",
   "execution_count": null,
   "metadata": {},
   "outputs": [],
   "source": [
    "x = 8\n",
    "y = 7\n",
    "\n",
    "addition = x + y\n",
    "\n",
    "addition"
   ]
  },
  {
   "cell_type": "markdown",
   "metadata": {},
   "source": [
    "  * das auszugebende Ergebnis in die Funktion ``print()`` packen: ``print(addition)``"
   ]
  },
  {
   "cell_type": "code",
   "execution_count": null,
   "metadata": {},
   "outputs": [],
   "source": [
    "x = 8\n",
    "y = 7\n",
    "\n",
    "addition = x + y\n",
    "\n",
    "print(addition)"
   ]
  },
  {
   "cell_type": "markdown",
   "metadata": {},
   "source": [
    "**Wo liegen die Unterschiede zwischen dem Weglassen und Verwenden von print()?**\n",
    "  * möchtest du gleichzeitig mehrere Variablen ausgeben lassen, z.B. x und darunter y, wird ohne ``print()`` nur die zweite Variable ausgegeben. Packst du beide in jeweils eine Print-Funktion, werden auch beide ausgegeben."
   ]
  },
  {
   "cell_type": "code",
   "execution_count": null,
   "metadata": {},
   "outputs": [],
   "source": [
    "# Ausgabe von Variablen ohne print() führt nur zur Ausgabe der letzten Variable\n",
    "\n",
    "x = 8\n",
    "y = 7\n",
    "\n",
    "x\n",
    "y"
   ]
  },
  {
   "cell_type": "code",
   "execution_count": null,
   "metadata": {},
   "outputs": [],
   "source": [
    "# Ausgabe von Variablen mit print() führt zur Ausgabe aller Variablen\n",
    "\n",
    "x = 8\n",
    "y = 7\n",
    "\n",
    "print(x)\n",
    "print(y)"
   ]
  },
  {
   "cell_type": "markdown",
   "metadata": {},
   "source": [
    " * Text (= String) wird in Python in Anführungsstrichen geschrieben. Diese Strings erscheinen ohne ``print()`` auch in der Ausgabe in Anführungsstrichen. Die Print-Funktion kann aber die Strings in ein user-freundliches Format ohne Anführungsstriche übersetzen. So wird aus:  \n",
    "  <br>\n",
    "  horse = 'Fifi' => über print(<b>horse</b>) in der Ausgabe: Fifi    \n",
    "<br>\n",
    "\n"
   ]
  },
  {
   "cell_type": "code",
   "execution_count": null,
   "metadata": {},
   "outputs": [],
   "source": [
    "# Strings behalten ohne print() ihre Anführungsstriche\n",
    "\n",
    "horse = 'Fifi'\n",
    "\n",
    "horse"
   ]
  },
  {
   "cell_type": "code",
   "execution_count": null,
   "metadata": {},
   "outputs": [],
   "source": [
    "# Strings werden mit print() ohne Anführungsstriche formatiert\n",
    "\n",
    "horse = 'Fifi'\n",
    "\n",
    "print(horse)"
   ]
  },
  {
   "cell_type": "markdown",
   "metadata": {},
   "source": [
    "<div class=\"alert alert-block alert-info\">\n",
    "<font size=\"3\"><b>Tipp 1 zu print():</b></font>  Du kannst dir auch mehrere Variablen gleichzeitig über eine Print-Funktion ausgeben lassen, z.B.:  \n",
    "<b>print(a, b)</b>. Die Variablen erscheinen in der Ausgabe dann allerdings nebeneinander.\n",
    "</div>\n",
    "<br>\n"
   ]
  },
  {
   "cell_type": "code",
   "execution_count": null,
   "metadata": {},
   "outputs": [],
   "source": [
    "# Beispiel für das gleichzeitige Ausgeben zweier Variablen über print()\n",
    "\n",
    "a = 2\n",
    "b = 3\n",
    "\n",
    "print(a, b)"
   ]
  },
  {
   "cell_type": "markdown",
   "metadata": {},
   "source": [
    "<div class=\"alert alert-block alert-info\">\n",
    "<font size=\"3\"><b>Tipp 2 zu print():</b></font>  Es empfiehlt sich, gerade bei komplexer werdendem Code, eher mit der Print-Funktion zu arbeiten. Mit ihrer Hilfe kannst du dir übersichtlich in Zwischenzeilen von Code Variablen ausgeben lassen.     Damit kannst du leicht überprüfen, ob die Zwischenergebnisse vielleicht aus anderen Werten bestehen als du ursprünglich gedacht hattest.\n",
    "</div>\n",
    "<br>\n"
   ]
  },
  {
   "cell_type": "code",
   "execution_count": null,
   "metadata": {},
   "outputs": [],
   "source": [
    "# Beispiel für die Ausgabe von Code in Zwischenzeilen\n",
    "\n",
    "\"\"\"In diesem Beispiel fährt ein Fahrer pro Jahr 10000km. Das Auto ist für 9 Jahre nutzbar. \n",
    "Insgesamt fährt er in den 9 Jahren 90000 km (\"gesamtkm_betriebsdauer\" als Zwischenergebnis).\n",
    "\n",
    "Er fährt insgesamt 2 Strecken (hin und zurück) zwischen Berlin und Lissabon.\n",
    "Die Gesamtstrecke beträgt 5582 km (\"gesamtstrecke\" als Zwischenergebnis).\n",
    "\n",
    "Während der 9 Jahre, in denen er jeweils 10000km fährt, fährt er diese Strecke abgerundet 16 Mal\n",
    "(\"häufigkeit_gesamtstrecke_betriebsdauer\" ist das Endergebnis).\"\"\"\n",
    "\n",
    "km_pro_jahr = 10000\n",
    "betriebsdauer_in_jahren = 9\n",
    "\n",
    "gesamtkm_betriebsdauer = km_pro_jahr * betriebsdauer_in_jahren\n",
    "\n",
    "print('Kilometer Betriebsdauer:',gesamtkm_betriebsdauer) # hier wird ein Zwischenergebnis ausgegeben\n",
    "\n",
    "strecke_berlin_lissabon = 2791\n",
    "\n",
    "gesamtstrecke = strecke_berlin_lissabon * 2\n",
    "\n",
    "print('Gesamte Stecke:',gesamtstrecke) # hier wird ein Zwischenergebnis ausgegeben\n",
    "\n",
    "häufigkeit_gesamtstrecke_betriebsdauer = gesamtkm_betriebsdauer / gesamtstrecke\n",
    "\n",
    "print('Fahrten während Betriebsdauer:',häufigkeit_gesamtstrecke_betriebsdauer) # hier wird das Endergebnis ausgegeben"
   ]
  },
  {
   "cell_type": "markdown",
   "metadata": {},
   "source": [
    "Wie du an dem oberen Beispiel erkennen kannst, wäre die Ausgabe des Endergebnisses ohne die Ausgabe der Zwischenergebnisse kaum nachvollziehbar.  \n",
    "<br>\n",
    "## 3.1.1.3 Kurze Zusammenfassung zu den Grundrechenarten\n",
    "\n",
    "Die wichtigsten Zeichen für die Grundrechenarten kennst du bereits vom Taschenrechner - und in Python von den vorhergehenden Beispielen.\n",
    "<br>\n",
    "Deshalb gibt es an dieser Stelle eine kleine Zusammenfassung zu den mathematischen Operatoren der Grundrechenarten, bevor wir tiefer in die Materie einsteigen:\n",
    "* Addition: ``+``\n",
    "* Subtraktion: ``-``\n",
    "* Multiplikation: ``*``\n",
    "* Division: ``/``\n",
    "<br>\n",
    "\n",
    "<div class=\"alert alert-block alert-warning\">\n",
    "<font size=\"3\"><b>Übung:</b></font> Belege zwei Variablen mit numerischen Datentypen und verrechne diese mittels Multiplikation in einer dritten Variable namens <b>multi</b>. Das Ergebnis soll über <b>print()</b> in der Ausgabe erscheinen.\n",
    "</div>"
   ]
  },
  {
   "cell_type": "code",
   "execution_count": null,
   "metadata": {},
   "outputs": [],
   "source": []
  },
  {
   "cell_type": "markdown",
   "metadata": {},
   "source": [
    "## 3.1.1.4 Division\n",
    "\n",
    "Der mathematische Operator für die Division in Python ist der Schrägstrich (englisch: slash): <font color = \"green\">/</font>\n",
    "<br>\n",
    "Egal, ob du in Python eine **Division** mit Ganz- oder Fließkommazahlen durchführst oder gar beide mixt, **als Ergebnis erhältst du stets eine Fließkommazahl.**  \n",
    "<br>\n",
    "\n",
    "<div class=\"alert alert-block alert-info\">\n",
    "<font size=\"3\"><b>Tipp:</b></font>   \n",
    "<br>\n",
    "    \n",
    "* Eine <b>Ganzzahl</b> (englisch: <b>Integer</b>) ist eine Zahl ohne Nachkommastellen, wie z.B.: 2 und 203   \n",
    "<br>\n",
    "\n",
    "* Eine <b>Fließkommazahl</b> (englisch: <b>Float</b>) ist eine Zahl mit Nachkommastellen, wie z.B.: 2,5 und 203,7  \n",
    "<br>\n",
    "\n",
    "    * Im Englischen wird sie mit Punkt statt Komma geschrieben, wie z.B.: 2.5 und 203.7\n",
    "</div>\n",
    "<br>\n",
    "\n",
    "<div class=\"alert alert-block alert-warning\">\n",
    "<font size=\"3\"><b>Übung:</b></font> Probier selbst in der nächsten Zelle aus, ob 4 geteilt durch 2 in Python eine Ganz- oder Fließkommazahl ergibt.\n",
    "</div>"
   ]
  },
  {
   "cell_type": "code",
   "execution_count": null,
   "metadata": {},
   "outputs": [],
   "source": []
  },
  {
   "cell_type": "markdown",
   "metadata": {},
   "source": [
    "<div class=\"alert alert-block alert-info\">\n",
    "<font size=\"3\"><b>Tipp:</b></font> Im weiteren Verlauf dieser Einheit wirst du immer wieder darauf aufmerksam gemacht, welchen Ergebnistyp (Float oder Integer) du bei welcher Rechnung erhältst.  \n",
    "<br>\n",
    "    \n",
    "Dies ist wichtig für dich zu wissen, damit du später, wenn du mit Modulen und Funktionen arbeitest, keine Fehlermeldungen erhältst. Denn sollte dann ein Datentyp nicht zu einer bestimmten Funktion passen, wirst du diese Funktion nicht ausführen können.  \n",
    "<br>\n",
    "\n",
    "Außerdem, da Integers keine Nachkommastellen abbilden, kann es zu Rundungsfehlern kommen, wenn du in einer Rechnung aus Versehen mit Integers statt Floats arbeitest.\n",
    "</div>  \n",
    "<br>\n",
    "\n",
    "\n",
    "## 3.1.1.5 Floor-Division\n",
    "\n",
    "Die **Floor-Division** liefert als Ergebnis stets eine ganze Zahl, denn der Rest im Komma-Bereich fällt weg. Sie wird deshalb auch **Integer-Division** genannt. Darin unterscheidet sie sich von der Division, die Nachkommastellen liefern kann.  \n",
    "<br>\n",
    "In Python wird sie mit dem doppelten Divisionszeichen ausgeführt: 5 <font color = green>//</font> 2 = 2\n",
    "<br>\n"
   ]
  },
  {
   "cell_type": "code",
   "execution_count": null,
   "metadata": {},
   "outputs": [],
   "source": [
    "5 // 2"
   ]
  },
  {
   "cell_type": "markdown",
   "metadata": {},
   "source": [
    "5 geteilt durch 2 ergibt 2,5. Die Floor-/Integer-Division macht aus der Fließkommazahl **2,5** die Ganzzahl **2**.  \n",
    "<br>\n",
    "\n",
    "### Worin liegt der Unterschied zwischen der Rundung einer Zahl und der Floor-Division?  \n",
    "<br>\n",
    "<b>Die Floor-Division rundet stets auf die ganze Zahl ab.</b> \n",
    "<br>\n",
    "\n",
    "Sie macht aus einer 2,1 eine 2, aus einer 2,5 eine 2 und auch aus einer 2,8 eine 2.  \n",
    "<br>\n",
    "\n",
    "<b>Die Rundung richtet sich nach dem Nachkommastellenwert und rundet entsprechend auf oder ab.</b>\n",
    "<br>\n",
    "\n",
    "Aus einer 2,1 macht sie eine 2, aus einer 2,5 eine 3 (die Aufrundung auf die nächsthöhere Ganzzahl beginnt ab 0,5) und aus einer 2,8 macht sie eine 3.  \n",
    "<br>\n",
    "\n",
    "### Wann wird sie angewendet?  \n",
    "<br>\n",
    "Sie kommt dann ins Spiel, wenn nur der ganze Wert interessant ist und eine Aufrundung keinen Sinn ergäbe.  \n",
    "<br>\n",
    "<br>\n",
    "\n",
    "<b>Beispiel 1 zur Floor-Division:</b>  \n",
    "<br>\n",
    "Ein Geschäftsführer hat ein Budget von 16000 Euro zur Verfügung, um für ein 1-monatiges Projekt Freelancer anzuheuern.\n",
    "Die Kandidaten verlangen im Durchschnitt **mindestens** 3000 Euro, nicht weniger.  \n",
    "<br>\n",
    "Der Geschäftsführer berechnet mithilfe der Floor-Division, wie viele \"ganze\" Kandidaten er einstellen könnte:"
   ]
  },
  {
   "cell_type": "code",
   "execution_count": null,
   "metadata": {},
   "outputs": [],
   "source": [
    "16000 // 3000"
   ]
  },
  {
   "cell_type": "markdown",
   "metadata": {},
   "source": [
    "5 Kandidaten verlangen 3000 Euro. Das macht:"
   ]
  },
  {
   "cell_type": "code",
   "execution_count": null,
   "metadata": {},
   "outputs": [],
   "source": [
    "5 * 3000"
   ]
  },
  {
   "cell_type": "markdown",
   "metadata": {},
   "source": [
    "Von dem Budget von 16000 werden also 1000 Euro übrig bleiben.\n",
    "Da jeder potenzielle Kandidat **mindestens** 3000 Euro verlangt, kann er für die übrigen 1000 Euro keinen weiteren **ganzen** Freelancer anheuern. Er kann den 5 Freelancern dafür jeden Freitagabend eine Runde Getränke von dem Rest spendieren - oder eine/n Praktikanten/in gut bezahlen.  \n",
    "<br>\n",
    "<br>\n",
    "**Beispiel 2 zur Floor-Division:**  \n",
    "<br>\n",
    "Verschiedene Lieferfahrer fahren werktags (Montag bis Samstag) die Strecke Berlin-Lübeck hin und zurück. Pro Strecke sind das 282.6km. Ab einem Kilometerstand von durchschnittlich 500000km rentiert sich die Haltung des Lieferwagens wegen der immer häufiger anfallenden Reparaturen kaum noch.  \n",
    "<br>\n",
    "Wie oft können die Fahrer die **ganze** Strecke von 2 * 282.6km bis zu diesem maximalen Kilometerstand fahren?\n",
    "Da die Fahrer nicht auf halber Strecke stehen bleiben sollten, sondern nur die komplett abgefahrene Strecke relevant ist, ist das wieder ein Fall für die Floor-Berechnung:"
   ]
  },
  {
   "cell_type": "code",
   "execution_count": null,
   "metadata": {},
   "outputs": [],
   "source": [
    "gesamtstrecke = 2 * 282.6\n",
    "max_kmstand = 500000\n",
    "\n",
    "häufigkeit_strecke = max_kmstand // gesamtstrecke\n",
    "\n",
    "print(häufigkeit_strecke)"
   ]
  },
  {
   "cell_type": "markdown",
   "metadata": {},
   "source": [
    "884 Strecken wird der LKW also in Betrieb sein, bis er zugunsten eines rentableren LKWs ausgewechselt wird.  \n",
    "<br>\n",
    "Zum Vergleich für dich ist hier das Ergebnis mit der herkömmlichen Division berechnet:"
   ]
  },
  {
   "cell_type": "code",
   "execution_count": null,
   "metadata": {},
   "outputs": [],
   "source": [
    "gesamtstrecke = 2 * 282.6\n",
    "max_kmstand = 500000\n",
    "\n",
    "häufigkeit_strecke = max_kmstand / gesamtstrecke\n",
    "\n",
    "print(häufigkeit_strecke)"
   ]
  },
  {
   "cell_type": "markdown",
   "metadata": {},
   "source": [
    "Dieses Ergebnis würde man mit dem Rundungsverfahren eigentlich aufrunden und käme damit auf 885 Gesamtstrecken. Genau dieses Ergebnis wäre bei der aktuellen Fragestellung aber falsch, denn die fehlenden 0,36 Male (885 - 884,64) wäre der LKW bei seiner letzten Fahrt vor dem Ziel zum Stillstand gekommen - zumindest rein rechnerisch.  \n",
    "<br>\n",
    "**Runden ist demzufolge nicht immer das Mittel der Wahl.**  \n",
    "<br>\n",
    "Weiterhin festzustellen ist, dass, obwohl die Floor-Division ganze Zahlen liefert, diese auf keinen Fall mit Ganzzahlen gleichzusetzen sind. Betrachten wir folgende Rechnung:"
   ]
  },
  {
   "cell_type": "code",
   "execution_count": null,
   "metadata": {},
   "outputs": [],
   "source": [
    "2.2 // 2"
   ]
  },
  {
   "cell_type": "markdown",
   "metadata": {},
   "source": [
    "Das Ergebnis, **1.0**, ist in dem Sinne eine ganze Zahl, dass es eine **volle Zahl** ist. Ihr fehlt nichts, noch ist ihr etwas Überschüssiges angehängt. Dennoch ist sie keine Ganzzahl (kein Integer), sondern eine Fließkommazahl, eben nur mit der Nachkommastelle **0**.  \n",
    "<br>\n",
    "<div class=\"alert alert-block alert-info\">\n",
    "<font size=\"3\"><b>Merke:</b></font> Die Floor-Division liefert ganze Zahlen, die sowohl als Ganzzahlen, als auch als Fließkommazahlen dargestellt sein können. Enthält die Rechnung mindestens eine Fließkommazahl, ist auch das Ergebnis eine Fließkommazahl (Float). Besteht die Rechnung nur aus Ganzzahlen, liefert sie auch als Ergebnis eine Ganzzahl (Integer).\n",
    "</div>\n",
    "<br>\n",
    "\n",
    "<div class=\"alert alert-block alert-warning\">\n",
    "<font size=\"3\"><b>Übung:</b></font> Berechne nun selbst, wie viele Freelancer du mit einem Gesamtbudget von 27000 Euro und der Mindestforderung aller Top-Kandidaten von 4000 Euro  anheuern könntest.\n",
    "</div>"
   ]
  },
  {
   "cell_type": "code",
   "execution_count": null,
   "metadata": {},
   "outputs": [],
   "source": []
  },
  {
   "cell_type": "markdown",
   "metadata": {},
   "source": [
    "Wie würdest du wohl das Restbudget verwenden ...?"
   ]
  },
  {
   "cell_type": "markdown",
   "metadata": {},
   "source": [
    "## 3.1.1.6 Potenzrechnung\n",
    "\n",
    "Möchtest du eine Zahl hoch eine andere Zahl rechnen, verwendest du in Python zwei Sternchen (<font color = blue>***</font> wird auch Asterisk genannt): 3<font color = green>**\\**</font>2 = 9"
   ]
  },
  {
   "cell_type": "code",
   "execution_count": null,
   "metadata": {},
   "outputs": [],
   "source": [
    "3**2"
   ]
  },
  {
   "cell_type": "markdown",
   "metadata": {},
   "source": [
    "<div class=\"alert alert-block alert-warning\">\n",
    "<font size=\"3\"><b>Übung:</b></font> Berechne 2 hoch 3.\n",
    "</div>"
   ]
  },
  {
   "cell_type": "code",
   "execution_count": null,
   "metadata": {},
   "outputs": [],
   "source": []
  },
  {
   "cell_type": "markdown",
   "metadata": {},
   "source": [
    "## 3.1.1.7 Wurzelziehen\n",
    "\n",
    "Python hat kein spezielles Zeichen, um die Wurzel einer Zahl zu ziehen. Das zu importierende Modul ``math`` bietet zwar die Funktion ``root()``, doch zu Modulen kommen wir später noch. Für ein Wurzelziehen ohne zusätzlichen Modul-Import ist ein leichtes Umdenken gefordert:  \n",
    "<br>\n",
    "Die Quadratwurzel einer Zahl zu ziehen, ist nämlich dasselbe, wie diese Zahl mit 1/2 oder 0.5 zu potenzieren. Die Quadratwurzelberechnung kannst du deshalb so ausführen:  \n",
    "<br>\n",
    "<font color = green>x*\\***(0.5) = Wurzel(x)</font>  \n",
    "<br>\n",
    "**Beispiel 1 zum Quadratwurzelziehen:**"
   ]
  },
  {
   "cell_type": "code",
   "execution_count": null,
   "metadata": {},
   "outputs": [],
   "source": [
    "4**(0.5)"
   ]
  },
  {
   "cell_type": "markdown",
   "metadata": {},
   "source": [
    "**Beispiel 2 zum Quadratwurzelziehen:**"
   ]
  },
  {
   "cell_type": "code",
   "execution_count": null,
   "metadata": {},
   "outputs": [],
   "source": [
    "4**(1/2)"
   ]
  },
  {
   "cell_type": "markdown",
   "metadata": {},
   "source": [
    "<b>Beachte, dass das Wurzelziehen einen Float-Wert (Fließkomma-Wert) liefert. Das liegt an dem Potenzieren mit einer Fließkommazahl.  \n",
    "<br>\n",
    "Achte außerdem darauf, den Bruch zum Wurzelziehen in Klammern zu setzen, sonst interpretiert Python ihn als Division.</b>\n",
    "\n",
    "Diese Wurzelschreibweise birgt einen Vorteil: Du kannst eine beliebige Wurzel ziehen, die dritte oder die vierte Wurzel oder eine andere, je nachdem, was du unter dem Bruchstrich der 1 angibst.  \n",
    "<br>\n",
    "Syntax für das Ziehen der n-ten Wurzel (gesprochen: enten Wurzel): <font color = green>x*\\***(1/n)</font>  \n",
    "<br>\n",
    "\n",
    "**Beispiel 3 zum Wurzelziehen (hier wird die 4. Wurzel statt der Quadratwurzel gezogen):**"
   ]
  },
  {
   "cell_type": "code",
   "execution_count": null,
   "metadata": {},
   "outputs": [],
   "source": [
    "16**(1/4)"
   ]
  },
  {
   "cell_type": "markdown",
   "metadata": {},
   "source": [
    "<div class=\"alert alert-block alert-warning\">\n",
    "<font size=\"3\"><b>Übung:</b></font> Berechne nun die 3. Wurzel von 27.\n",
    "</div>"
   ]
  },
  {
   "cell_type": "code",
   "execution_count": null,
   "metadata": {},
   "outputs": [],
   "source": []
  },
  {
   "cell_type": "markdown",
   "metadata": {},
   "source": [
    "###### 3.1.1.8 Berechnung des Rests\n",
    "\n",
    "Der **Rest** ist das, was übrig bleibt, wenn man zwei ganze Zahlen miteinander dividiert. In der Mathematik wird das **Modulo-Berechnung** genannt, kurz: **mod**.  \n",
    "<br>\n",
    "**Beispiel 1 zur Restberechnung:**  \n",
    "<br>\n",
    "5 mod 2 = 1  \n",
    "<br>\n",
    "Ausgesprochen lautet das: \"5 modulo 2 ist gleich 1\".  \n",
    "<br>\n",
    "Dahinter verbirgt sich die Rechnung: 5 - (2 * 2) = <b>1</b>\n",
    "<br>\n",
    "Denn die 2 passt genau 2 Mal in die 5, doch die <b>1</b> ist übrig.  \n",
    "<br>  \n",
    "<br>\n",
    "**Beispiel 2 zur Restberechnung:**  \n",
    "<br>\n",
    "21 mod 6 = 3  \n",
    "<br>\n",
    "Dahinter verbirgt sich die Rechnung: 21 - (6 * 3) = <b>3</b>\n",
    "<br>\n",
    "Denn die 6 passt genau 3 Mal in die 21, doch die <b>3</b> ist übrig.  \n",
    "<br>  \n",
    "Der Rest wird in Python mit dem **Prozentzeichen** - in der Mathematik **Modulo** genannt - berechnet: 5<font color = green> % </font>2 = 1"
   ]
  },
  {
   "cell_type": "code",
   "execution_count": null,
   "metadata": {},
   "outputs": [],
   "source": [
    "5.0 % 2"
   ]
  },
  {
   "cell_type": "markdown",
   "metadata": {},
   "source": [
    "<b>Beachte auch hier wieder die Darstellung der ganzen Zahl <b>1</b> als Float **1.0**. Diese Umwandlung ist eingetreten, weil die <b>5</b> als Fließkommazahl <b>5.0</b> geschrieben wurde.</b>\n",
    "<br>\n",
    "<div class=\"alert alert-block alert-warning\">\n",
    "<font size=\"3\"><b>Übung:</b></font> Berechne den Rest von 233 geteilt durch 9.\n",
    "</div>"
   ]
  },
  {
   "cell_type": "code",
   "execution_count": null,
   "metadata": {},
   "outputs": [],
   "source": []
  },
  {
   "cell_type": "markdown",
   "metadata": {},
   "source": [
    "<div class=\"alert alert-block alert-info\">\n",
    "<font size=\"3\"><b>Tipp:</b></font> <b>Wie kannst du rechnerisch testen, ob eine Zahl gerade oder ungerade ist?</b>  \n",
    "    \n",
    "Was haben alle geraden Zahlen (zu denen auch die Null gehört!) gemeinsam?  \n",
    "\n",
    "Sie alle sind durch 2 teilbar. Folglich entsteht bei ihnen kein Rest bei der Division durch 2.\n",
    "\n",
    "Im Umkehrschluss heißt das, dass jede ganze Zahl, bei der ein Rest von 1 bei der Division durch 2 entsteht, ungerade sein muss.  \n",
    "\n",
    "Und dieser Rest kann leicht mit dem Modulo ermittelt werden.  \n",
    "<br>\n",
    "\n",
    "<b>Ergo:</b>  \n",
    "\n",
    "x % 2 = 0 => x muss eine gerade Zahl sein  \n",
    "\n",
    "x % 2 = 1 => x muss eine ungerade Zahl sein  \n",
    "\n",
    "Beispiele:\n",
    "</div>  "
   ]
  },
  {
   "cell_type": "code",
   "execution_count": null,
   "metadata": {},
   "outputs": [],
   "source": [
    "13 % 2"
   ]
  },
  {
   "cell_type": "code",
   "execution_count": null,
   "metadata": {},
   "outputs": [],
   "source": [
    "20 % 2"
   ]
  },
  {
   "cell_type": "markdown",
   "metadata": {},
   "source": [
    "## 3.1.1.9 Kurze Zusammenfassung zu den bisherigen Rechenarten\n",
    "\n",
    "Hier sind alle bisher in dieser Übungseinheit kennengelernten mathematischen Operatoren zusammengefasst:\n",
    "* Addition: ``+``\n",
    "* Subtraktion: ``-``\n",
    "* Multiplikation: ``*``\n",
    "* Division: ``/``\n",
    "* Floor-Division: ``//``\n",
    "* Potenzieren: ``**``\n",
    "* Quadratwurzelziehen: ``**0.5`` oder: ``**(1/2)``\n",
    "* n-tes Wurzelziehen: ``**(1/n)``\n",
    "* Rest-/Moduloberechnung: ``%``\n",
    "<br>"
   ]
  },
  {
   "cell_type": "markdown",
   "metadata": {},
   "source": [
    "<div class=\"alert alert-block alert-success\">\n",
    "<b>Glückwunsch!</b> Du kannst jetzt bereits schon das Grundlegendste beim Programmieren: Variablen mit Werten zu initialisieren. Du kannst sogar mit Variablen weitere Berechnungen ausführen und deren Ergebnisse wiederum weiteren Variablen zuteilen. Außerdem kannst du nicht nur die Grundrechenarten in Python anwenden, sondern auch die höheren Rechenarten wie Potenzieren, Wurzelziehen, Floor- und Modulo-Berechnung.  \n",
    "<br>\n",
    "    \n",
    "Im nächsten Kapitel geht es weiter mit Pythons numerischen Datentypen und wie man sie ineinander umwandelt."
   ]
  },
  {
   "cell_type": "markdown",
   "metadata": {},
   "source": [
    "<div class=\"alert alert-block alert-info\">\n",
    "<h3>Das kannst du dir aus dieser Übung mitnehmen:</h3>\n",
    "\n",
    "* **mit ``=`` weist du Variablen Werte zu**, z.B.: ``x = 3``\n",
    "* Variablen können wiederum anderen Variablen zugewiesen werden, z.B.: ``result = x * x``\n",
    "* ein und dieselbe Variable kann mit neuen Werten überschrieben werden, z.B.: ``x = x +1`` (erhöht x um 1)\n",
    "* um einen numerischen Wert zu erhöhen/senken, kann der Operand genausogut vor das ``=``  geschrieben werden, z.B.:  ``x /= 2``  (teilt x durch 2)  \n",
    "<br>\n",
    "\n",
    "* **Ergebnisse erhältst du im Jupyter Notebook, indem du ...**\n",
    "    * zunächst eine neue Zelle mit <font color = green>+</font> anlegst.\n",
    "    * ganz oben auf <font color = green>Run</font> klickst: die Zelle wird ausgeführt.\n",
    "    * auf <font color = green>Strg</font> plus <font color = green>Enter</font> klickst: die Zelle wird ausgeführt (Mac: <font color = green>Command Key</font> plus <font color = green>Enter</font>).\n",
    "    * auf <font color = green>Alt</font> plus <font color = green>Enter</font> klickst: Die Zelle wird ausgeführt und automatisch eine neue Zelle darunter erstellt (Mac: <font color = green>Option</font> plus <font color = green>Enter</font>) .\n",
    "    * ``print()`` nutzt, z.B.: ``print(result)``\n",
    "    * direkt z.B. ``result`` eingibst. Damit erhältst du ein unformatiertes Ergebnis.  \n",
    "<br>\n",
    "* die **Grundrechenarten** werden mit folgenden Operatoren durchgeführt:\n",
    "    * Multiplikation: ``*``\n",
    "    * Division (ergibt **immer** Fließkommazahl): ``/``\n",
    "    * Addition: ``+``\n",
    "    * Subtraktion: ``-``  \n",
    "<br>    \n",
    "* es gibt **weitere Operatoren** für komplexere Berechnungen:\n",
    "    * Potenz (Exponent): ``**``\n",
    "    * Wurzelziehen (über Potenzierung, Ergebnistyp ist stets Float): ``x**(1/n)``\n",
    "    * Rest (Rest nach Division zweier ganzer Zahlen): ``%``\n",
    "    * Floor-Division (Ergebnistyp ist eine ganze Zahl, als Float oder Integer dargestellt): ``//``  "
   ]
  }
 ],
 "metadata": {
  "kernelspec": {
   "display_name": "Python 3",
   "language": "python",
   "name": "python3"
  },
  "language_info": {
   "codemirror_mode": {
    "name": "ipython",
    "version": 3
   },
   "file_extension": ".py",
   "mimetype": "text/x-python",
   "name": "python",
   "nbconvert_exporter": "python",
   "pygments_lexer": "ipython3",
   "version": "3.7.3"
  }
 },
 "nbformat": 4,
 "nbformat_minor": 2
}
