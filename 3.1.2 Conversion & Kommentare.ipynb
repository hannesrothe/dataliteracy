{
 "cells": [
  {
   "cell_type": "markdown",
   "metadata": {},
   "source": [
    "# 3.1 Python als Taschenrechner\n",
    "\n",
    "## 3.1.2 Conversion & Kommentare\n",
    "\n",
    "In dieser Übungseinheit lernst du Pythons numerische Datentypen genauer kennen. Du übst, anhand von Beispielen, wie du sie ineinander umwandeln kannst. Das bedeutet Conversion: die Umwandlung von Datentypen. Weiterhin erfährst und übst du, wie du mit Kommentaren Code verständlicher gestaltest.\n",
    "\n",
    "Im Anschluss dieser Übungseinheit kannst du ...\n",
    "+ die wichtigsten numerischen Datentypen voneinander unterscheiden\n",
    "+ numerische Datentypen umwandeln\n",
    "+ Kommentare setzen"
   ]
  },
  {
   "cell_type": "markdown",
   "metadata": {},
   "source": [
    "## 3.1.2.1 Numerische Datentypen\n",
    "\n",
    "<div class=\"alert alert-block alert-info\">\n",
    "    <font size=\"3\"><b>Wiederholung:</b></font>  \n",
    "<br>\n",
    "    \n",
    "* Ganzzahlen wie 1, 20 und 300 werden <b>Integers</b> genannt.  \n",
    "<br>\n",
    "    \n",
    "* Fließkommazahlen wie 1.1, 2.22 und 3.333 (im Englischen und in Python mit einem Punkt statt Komma geschrieben) dagegen Floating Point Numbers, kurz: <b>Floats</b>.  \n",
    "<br>\n",
    "* <b>Sobald ein Integer mit einem Float verrechnet wird (oder umgekehrt), ist das Ergebnis auch ein Float.</b>  \n",
    "</div>  \n",
    "<br>\n",
    "\n",
    "\n",
    "Python verfügt neben Integer und Float noch über den Datentyp **complex**, für komplexe Zahlen. Dieser findet aber kaum Verwendung.\n",
    "<br>\n",
    "<br>\n",
    "\n",
    "### Wenn beim Programmieren Integers den Floats vorgezogen werden, liegt das daran, dass ...\n",
    "* Python mit Integers schneller rechnen kann\n",
    "* Integers weniger Speicherplatz beanspruchen\n",
    "\n",
    "Letztendlich kommt es aber auf die Aufgabenstellung an, anhand derer du entscheidest, welcher numerische Datentyp für sie angebracht ist bzw. ob die Stellen nach dem Komma wissenswert sind oder nicht.  \n",
    "<br>\n",
    "\n",
    "<div class=\"alert alert-block alert-info\">\n",
    "<font size=\"3\"><b>Tipp:</b></font> <b>Mit welchem Datentypen arbeite ich eigentlich gerade? </b>  \n",
    "<br>\n",
    "    \n",
    "Falls du dich einmal wundern solltest, weshalb du bei einer Rechnung eine Fehlermeldung erhältst oder sie nicht das richtige Ergebnis liefert, kann das daran liegen, dass du mit dem falschen Datentyp arbeitest.  \n",
    "<br>\n",
    "    \n",
    "Das Folgende gilt für alle Datentypen: Solltest du dir einmal nicht sicher sein, mit welchem Datentyp du es gerade zu tun hast, kannst du dir den Datentyp jederzeit mit der Funktion <b>type()</b> anzeigen lassen.      \n",
    "</div>  \n",
    "<br>\n",
    "\n",
    "**Beispiel zur Ausgabe des Datentypen:**"
   ]
  },
  {
   "cell_type": "code",
   "execution_count": null,
   "metadata": {},
   "outputs": [],
   "source": [
    "x = 3\n",
    "\n",
    "type(x)  "
   ]
  },
  {
   "cell_type": "markdown",
   "metadata": {},
   "source": [
    "<b>x</b> bzw. die 3 ist demzufolge ein Integer. Das kürzt Python mit **int** ab.  \n",
    "\n",
    "<div class=\"alert alert-block alert-warning\">\n",
    "<font size=\"3\"><b>Übung:</b></font> Welche Antwort liefert Python bei Floats? Probier es in der folgenden Code-Zelle aus! Du kannst auch noch weitere Datentypen testen, die du bereits kennst.\n",
    "</div>"
   ]
  },
  {
   "cell_type": "code",
   "execution_count": null,
   "metadata": {},
   "outputs": [],
   "source": []
  },
  {
   "cell_type": "markdown",
   "metadata": {},
   "source": [
    "## 3.1.2.2 Umwandlung (= Conversion) von numerischen Datentypen\n",
    "\n",
    "**Conversion** ermöglicht es uns, Datentypen ineinander umzuwandeln: aus Floats Integers zu zaubern und umgekehrt. Das Prinzip ist ähnlich zu dem der Type- sowie Print-Funktion: zuerst schreibst du den Namen der Funktion, also ob du in int (Integer) oder float (Float) umwandeln möchtest, dann folgt die Klammer, in welche du die umzuwandelnde Variable/Zahl schreibst.  \n",
    "<br>\n",
    "Allgemeine Syntax von Funktionen: <font color = \"green\">funktionsname(übergabewert)</font>  \n",
    "<br>\n",
    "**Beispiel zu Conversion:**"
   ]
  },
  {
   "cell_type": "code",
   "execution_count": null,
   "metadata": {},
   "outputs": [],
   "source": [
    "a = 3.0\n",
    "\n",
    "int(a)  # Anwendung der Funktion: int()"
   ]
  },
  {
   "cell_type": "markdown",
   "metadata": {},
   "source": [
    "Aus dem Float-Wert wurde somit ein Integer.\n",
    "Das Äquivalent zu ``int()`` ist ``float()``.\n",
    "\n",
    "<br>\n",
    "<b> In den folgenden Übungen geht es um die Conversion von numerischen Datentypen. Es geht los mit einem Beispiel und seiner Lösung:</b>\n",
    "<div class=\"alert alert-block alert-warning\">\n",
    "<font size=\"3\"><b>Beispielaufgabe:</b></font>  \n",
    "<br>\n",
    "    \n",
    "1) Speichere das Ergebnis der folgenden Rechnung in der Variable <b>beispiel</b>: 3 plus 4  \n",
    "<br>\n",
    "2) Wandle anschließend <b>beispiel</b> in Integer bzw. Float um (je nach Ergebnis):    \n",
    "</div>"
   ]
  },
  {
   "cell_type": "code",
   "execution_count": null,
   "metadata": {},
   "outputs": [],
   "source": [
    "# Beispiellösung\n",
    "\n",
    "beispiel = 3 + 4\n",
    "\n",
    "float(beispiel)"
   ]
  },
  {
   "cell_type": "markdown",
   "metadata": {},
   "source": [
    "<div class=\"alert alert-block alert-info\">\n",
    "<font size=\"3\"><b>Tipp:</b></font> Du hast bereits erfahren, welche Rechenart welchen Datentypen ergibt. Bevor du nachrechnest, überleg dir, welchen Datentyps das Ergebnis sein wird. Es ist nicht zwingend notwendig, dir das Ergebnis extra ausgeben zu lassen, wenn du dir über den Datentypen sicher bist.\n",
    "</div>\n",
    "<br>\n",
    "\n",
    "<div class=\"alert alert-block alert-warning\">\n",
    "<font size=\"3\"><b>Übung a) :</b></font>  \n",
    "<br>\n",
    "1) Speichere das Ergebnis der folgenden Rechnung in der Variable <b>a</b>: 5 hoch 2  \n",
    "<br>\n",
    "    \n",
    "2) Wandle anschließend <b>a</b> in Integer bzw. Float um (je nach Ergebnis):  \n",
    "</div>\n"
   ]
  },
  {
   "cell_type": "code",
   "execution_count": null,
   "metadata": {},
   "outputs": [],
   "source": []
  },
  {
   "cell_type": "markdown",
   "metadata": {},
   "source": [
    "<div class=\"alert alert-block alert-warning\">\n",
    "<font size=\"3\"><b>Übung b):</b></font>  \n",
    "<br>    \n",
    "1) Speichere das Ergebnis der folgenden Rechnung in der Variable <b>b</b>: der Rest von 44 geteilt durch 2\n",
    "<br>\n",
    "    \n",
    "2) Überschreibe <b>b</b> mit ihrer Conversion zu Integer bzw. Float um (je nach Ergebnis).  \n",
    "<br>\n",
    "\n",
    "3) Gib anschließend das umgewandelte <b>b</b> mittels <b>print()</b> aus:  \n",
    "</div>"
   ]
  },
  {
   "cell_type": "code",
   "execution_count": null,
   "metadata": {},
   "outputs": [],
   "source": []
  },
  {
   "cell_type": "markdown",
   "metadata": {},
   "source": [
    "<div class=\"alert alert-block alert-warning\">\n",
    "<font size=\"3\"><b>Übung c):</b></font>  \n",
    "<br>    \n",
    "1) Speichere das Ergebnis der folgenden Fragestellung in der Variable <b>c</b>: Wie viele Male passt die 5 vollständig in die 88? Diese Rechenart wird in Kapitel 3.1.1 behandelt.   \n",
    "<br>\n",
    "    \n",
    "2) Wandle anschließend <b>c</b> in Integer bzw. Float innerhalb von <b>print()</b> um und gib somit gleichzeitig die umgewandelte Variable aus:  \n",
    "</div>"
   ]
  },
  {
   "cell_type": "code",
   "execution_count": null,
   "metadata": {},
   "outputs": [],
   "source": []
  },
  {
   "cell_type": "markdown",
   "metadata": {},
   "source": [
    "<div class=\"alert alert-block alert-success\">\n",
    "<b>Super!</b> Jetzt kennst du schon Pythons numerische Datentypen und kannst sie ineinander konvertieren, wie du sie gerade benötigst.  \n",
    "<br>\n",
    "    \n",
    "Nun machen wir einen kleinen Ausflug  zu den Kommentierungsmöglichkeiten in Python. Mit ihnen kannst du dir und anderen wichtige Notizen im Code hinterlegen."
   ]
  },
  {
   "cell_type": "markdown",
   "metadata": {},
   "source": [
    "## 3.2.3 Kommentare in Python\n",
    "\n",
    "Du kennst nun schon einige wichtige Grundfunktionen von Python und wie du es zum Rechnen verwenden kannst. Bevor es damit noch ein Stück weiter in die Tiefe geht, lernst du zunächst die sehr nützlichen und praktischen Kommentarfunktionen von Python kennen.\n",
    "\n",
    "**Sie sind praktisch, denn ...**\n",
    "* du kannst dir damit hilfreiche **Notizen innerhalb der Code-Zellen** hinterlegen\n",
    "* durch sie können auch andere, die mit deinem **Code** weiterarbeiten möchten, **besser nachvollziehen**, was du dir bei ihm gedacht hast\n",
    "\n",
    "**Es gibt zwei Arten von Kommentaren:**\n",
    "* einzeilige Kommentare erscheinen in blau und beginnen mit: <font color = green>#</font> Kommentar (... Raute)\n",
    "* mehrzeilige Kommentare erscheinen in rot und werden geschrieben innerhalb von: <font color = green>\"\"\"</font> Kommentar <font color = green>\"\"\"</font> (... je 3 Anführungsstrichen)\n",
    "\n",
    "<div class=\"alert alert-block alert-info\">\n",
    "<font size=\"3\"><b>Hinweise zu einzeiligen Kommentaren:</b></font>  \n",
    "<br>\n",
    "Du kannst einzeiligen Kommentar sowohl über Code, als auch direkt daneben setzen.  \n",
    "<br>\n",
    "    \n",
    "Wird er neben Code gesetzt, ist es Python-konform, einen Abstand von 2 Leerzeichen zum Code einzuhalten. Dies macht den Code leserlicher und du hältst dich damit an die professionellen Richtlinien zum Schreiben von Python-Code.  \n",
    "<br>\n",
    "Python-Konventionen wie diese sind vergleichbar mit \"Ausdruck\" im Sprachunterricht. Grammatikfehler sind dementsprechend solche Fehler im Code, die Fehlermeldungen verursachen und das Programm zum Absturz bringen. Der Ausdruck zeigt darüber hinaus, wie gut du eine Sprache stilistisch anwenden kannst.  \n",
    "<br>\n",
    "Indem du dich an Python-Konventionen hältst, zeigst du folglich professionellen Stil!\n",
    "</div>  \n",
    "<br>\n",
    "\n",
    "\n",
    "**Beispiel für einzeilige Kommentare:**"
   ]
  },
  {
   "cell_type": "code",
   "execution_count": null,
   "metadata": {},
   "outputs": [],
   "source": [
    "# Berechnung zu einer Raumgröße in kubikmetern\n",
    "\n",
    "fläche = 5  # Fläche in m²\n",
    "höhe = 3  # höhe in m\n",
    "\n",
    "volumen = fläche * höhe  # ergibt m³\n",
    "\n",
    "volumen"
   ]
  },
  {
   "cell_type": "markdown",
   "metadata": {},
   "source": [
    "Mehrzeiligen Kommentar kannst du **ausschließlich** oberhalb von Code setzen.\n",
    "\n",
    "**Beispiel für die unsachgemäße Anwendung eines mehrzeiligen Kommentars:**"
   ]
  },
  {
   "cell_type": "code",
   "execution_count": null,
   "metadata": {},
   "outputs": [],
   "source": [
    "\"\"\"Das ist die Berechnung zum Volumen eines Raumes.\n",
    "Zuerst wird die Fläche in m² der Variablen \"fläche\" zugewiesen:\"\"\"\n",
    "\n",
    "fläche = 5\n",
    "höhe = 3 \n",
    "\n",
    "volumen = fläche * höhe\n",
    "\n",
    "print(volumen)\n",
    "\"\"\"Dann wird die Raumhöhe der Variablen \"höhe\" zugewiesen.\n",
    "Anschließend wird das Raumvolumen durch Multiplikation von \"fläche\" und \"höhe\" berechnet.\"\"\""
   ]
  },
  {
   "cell_type": "markdown",
   "metadata": {},
   "source": [
    "Kommentare erscheinen normalerweise nicht in der Ausgabe. Ihr Sinn ist es, gerade nicht ausgegeben zu werden und nur innerhalb des Programms Abläufe zu erläutern, nach außen hin (für User) nicht sichtbar.  \n",
    "<br>\n",
    "Weil aber der mehrzeilige Kommentar ans Ende des Codes gesetzt wurde, greift dieser Zweck nicht.\n",
    "\n",
    "**Beispiel für einen Fehler durch einen mehrzeiligen Kommentar:**"
   ]
  },
  {
   "cell_type": "code",
   "execution_count": null,
   "metadata": {},
   "outputs": [],
   "source": [
    "\"\"\"Das ist die Berechnung zum Volumen eines Raumes.\n",
    "Zuerst wird die Fläche in m² der Variablen \"fläche\" zugewiesen:\"\"\"\n",
    "\n",
    "fläche = 5\n",
    "höhe = 3 \"\"\"Dann wird die Raumhöhe der Variablen \"höhe\" zugewiesen.\n",
    "Anschließend wird das Raumvolumen durch Multiplikation von \"fläche\" und \"höhe\" berechnet.\"\"\"\n",
    "\n",
    "volumen = fläche * höhe\n",
    "\n",
    "print(volumen)"
   ]
  },
  {
   "cell_type": "markdown",
   "metadata": {},
   "source": [
    "Dieser Fehler ist ein Syntaxfehler, verursacht durch falsch gesetzte oder fehlende Zeichen. Möchtest du mehr über Fehlermeldungen lernen, haben wir dazu ein extra Kapitel für dich vorbereitet: \"3.2 Fehlermeldungen verstehen und Hilfe zu Python finden\".  \n",
    "<br>\n",
    "Dieser hier wurde ausgelöst, weil der mehrzahlige Kommentar neben Code platziert wurde.\n",
    "\n",
    "**Beispiel für die korrekte Anwendung des mehrzeiligen Kommentars:**"
   ]
  },
  {
   "cell_type": "code",
   "execution_count": null,
   "metadata": {},
   "outputs": [],
   "source": [
    "\"\"\"Das ist die Berechnung zum Volumen eines Raumes.\n",
    "Zuerst wird die Fläche in m² der Variablen \"fläche\" zugewiesen.\n",
    "Dann wird die Raumhöhe der Variablen \"höhe\" zugewiesen.\n",
    "Anschließend wird das Raumvolumen durch Multiplikation von \"fläche\" und \"höhe\" berechnet:\"\"\"\n",
    "\n",
    "fläche = 5\n",
    "höhe = 3\n",
    "\n",
    "volumen = fläche * höhe\n",
    "\n",
    "volumen"
   ]
  },
  {
   "cell_type": "markdown",
   "metadata": {},
   "source": [
    "<div class=\"alert alert-block alert-warning\">\n",
    "<font size=\"3\"><b>Übung:</b></font> Probier beide Kommentar-Arten in der unteren Code-Zelle aus, indem du kommentierst, welche Rechnung (mit dem Namen der Rechenart) welchen Datentyp ergibt. Damit hast du gleich eine Wiederholung für dich ;-)\n",
    "</div>\n",
    "<br>\n",
    "<div class=\"alert alert-block alert-info\">\n",
    "<font size=\"3\"><b>Wiederholung:</b></font> <b>Warum ist es wichtig, die Datentypen der Ergebnisse bereits vorher zu wissen?</b>  \n",
    "<br>\n",
    "    \n",
    "Besonders bei komplexeren Berechnungen können Fehler entstehen, wenn  Float-Werte unabsichtlich auf Integers ab- oder aufgerundet werden. Außerdem kann es zu Fehlermeldungen kommen, wenn du mit zusätzlichen Funktionen aus Modulen arbeitest, die nur mit einem bestimmten Datentyp ausgeführt werden können. Wenn du die Datentypen der Ergebnisse kennst, kannst du solche Fallstricke ganz leicht vermeiden.\n",
    "</div>\n",
    "<br>\n",
    "\n",
    "<div class=\"alert alert-block alert-warning\">\n",
    "<font size=\"3\"><b>Beispiel:</b></font> Als Beispiel, wie du an diese Aufgabe herangehen könntest, ist die erste Rechenart bereits kommentiert. Solltest du dir unsicher über die Datentypen der Ergebnisse sein, nutze die leeren Codezellen darunter, um sie zu überprüfen. Du kannst dir auch neue Code-Zellen anlegen (mit <b>+</b>).\n",
    "</div>"
   ]
  },
  {
   "cell_type": "code",
   "execution_count": 24,
   "metadata": {},
   "outputs": [],
   "source": [
    "\"\"\"Addition ergibt dann Float, wenn ein Integer mit einem Float addiert wird (oder umgekehrt), sonst Integer.\"\"\"\n",
    "a1 = 5 + 2.0  # Datentyp des Ergebnisses: Float\n",
    "a2 = 5 + 2  # Datentyp des Ergebnisses: Integer"
   ]
  },
  {
   "cell_type": "code",
   "execution_count": 1,
   "metadata": {},
   "outputs": [],
   "source": [
    "\n",
    "s1 = 2.0 - 5\n",
    "s2 = 2 - 5\n",
    "\n",
    "\n",
    "d1 = 24 / 8\n",
    "d2 = 24 / 8.0\n",
    "\n",
    "\n",
    "m1 = 5 * 5\n",
    "m2 = 5 * 5.0\n",
    "\n",
    "\n",
    "r1 = 8 % 3\n",
    "r2 = 8.5 % 3\n",
    "\n",
    "\n",
    "f1 = 8 // 3\n",
    "f2 = 8.5 // 3\n",
    "\n",
    "\n",
    "p1 = 2.5**3\n",
    "p2 = 2**0.3\n",
    "p3 = 4**2\n",
    "\n",
    "\n",
    "w1 = 25**(1/5)\n",
    "w2 = 36**0.5"
   ]
  },
  {
   "cell_type": "code",
   "execution_count": null,
   "metadata": {},
   "outputs": [],
   "source": []
  },
  {
   "cell_type": "code",
   "execution_count": null,
   "metadata": {},
   "outputs": [],
   "source": []
  },
  {
   "cell_type": "code",
   "execution_count": null,
   "metadata": {},
   "outputs": [],
   "source": []
  },
  {
   "cell_type": "code",
   "execution_count": null,
   "metadata": {},
   "outputs": [],
   "source": []
  },
  {
   "cell_type": "markdown",
   "metadata": {},
   "source": [
    "<div class=\"alert alert-block alert-success\">\n",
    "<b>Glückwunsch</b> Jetzt weißt du sicher, welche Rechnungen welche numerischen Datentypen ergeben und du kannst deinen Code für dich und andere verständlicher gestalten.  \n",
    "<br>\n",
    "    \n",
    "Im folgenden Kapitel gehen wir genau darauf ein, in welcher Reihenfolge Python Rechenschritte ausführt.\n",
    "</div>"
   ]
  },
  {
   "cell_type": "markdown",
   "metadata": {},
   "source": [
    "<div class=\"alert alert-block alert-info\">\n",
    "<h3>Das kannst du dir aus dieser Übung mitnehmen:</h3>\n",
    "\n",
    "* **Ganzzahlen können zu Fließkommazahlen konvertiert werden und umgekehrt:**\n",
    "    * Eine Rechnung, in der mindestens ein Float vorkommt, ergibt immer einen Float, sonst Integer\n",
    "    * Division in Python ergibt stets Float, selbst, wenn mit Integers gerechnet wird\n",
    "    * Ganzzahl zu Fließkommazahl: ``float(2)`` => 2.0\n",
    "    * Fließkommazahl zu Ganzzahl: ``int(2.0)`` => 2\n",
    "    * kennst du den Datentyp nicht, frage ihn ab mit ``type()``, z.B.: ``type(x)``  \n",
    "<br>    \n",
    "* **Kommentare** sind in Python ...\n",
    "    * wichtig, um den Code für dich und andere verständlich zu halten\n",
    "    * einzeilig (mit 2 Leerzeichen Abstand zu nebenstehendem Code): ``  # Kommentar``\n",
    "    * mehrzeilig: ``\"\"\" Kommentar \"\"\"``  "
   ]
  }
 ],
 "metadata": {
  "kernelspec": {
   "display_name": "Python 3",
   "language": "python",
   "name": "python3"
  },
  "language_info": {
   "codemirror_mode": {
    "name": "ipython",
    "version": 3
   },
   "file_extension": ".py",
   "mimetype": "text/x-python",
   "name": "python",
   "nbconvert_exporter": "python",
   "pygments_lexer": "ipython3",
   "version": "3.7.3"
  }
 },
 "nbformat": 4,
 "nbformat_minor": 2
}
