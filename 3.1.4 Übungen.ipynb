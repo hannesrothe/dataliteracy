{
 "cells": [
  {
   "cell_type": "markdown",
   "metadata": {},
   "source": [
    "# 3.1 Python als Taschenrechner\n",
    "\n",
    "## 3.1.4 Übungen\n",
    "\n",
    "In den folgenden zwei Übungen wendest du praktisch an, was du bisher gelernt hast.  \n",
    "<br>\n",
    "Viel Spaß dabei!"
   ]
  },
  {
   "cell_type": "markdown",
   "metadata": {},
   "source": [
    "## 3.1.4.1 Firmenverkauf\n",
    "\n",
    "<div class=\"alert alert-block alert-warning\">\n",
    "<font size=\"3\"><b>Übung:</b></font> Du hast zusammen mit 3 Freunden eine Firma gegründet. Nachdem ihr sie erfolgreich aufgebaut habt, macht euch ein Investor ein lukratives Angebot zur Übernahme eures Unternehmens. Es ist ein Angebot von 5 Millionen Euro, das ihr nicht ablehnen könnt.  \n",
    "<br>\n",
    "    \n",
    "Die große Frage kommt auf: Wer von euch bekommt eigentlich wie viel davon?  \n",
    "<br>\n",
    "\n",
    "Josephine, welche die Geschäftsidee hatte, soll 30 % des Angebots bekommen.\n",
    "Otto, der die meisten Kunden akquiriert hat, soll einen Anteil von 25 % erhalten. Der Rest wird zwischen deinem Freund Paul und dir aufgeteilt.\n",
    "Du bekommst noch einen Bonus für euren größten Firmenkunden, den du für euch gewonnen hast, in einem Wert von 400 000 Euro.  \n",
    "<br>\n",
    "Wer wird hier wohl am meisten absahnen?  \n",
    "<br>\n",
    "\n",
    "Berechne dazu die individuellen Gewinnanteile, einschließlich deines Freunds Paul und dir.  \n",
    "<br>\n",
    "\n",
    "Speichere die Summe der Gewinne in der Variable <b>profit</b> und den Wert deines Bonus' in der Variable <b>bonus</b>.  \n",
    "<br>\n",
    "\n",
    "Ergänze den untenstehenden Code. Achte dabei darauf, alle Variablennamen klein zu schreiben.  \n",
    "<br>\n",
    "\n",
    "(Den Code in der Print-Funktion kannst du zunächst ignorieren. Vielleicht kannst du auch bereits erkennen, was dort passiert? Wir kommen auf jeden Fall in einem späteren Kursteil noch ausführlicher zu dem Thema der Ausgabe-Formatierung.)\n",
    "</div>"
   ]
  },
  {
   "cell_type": "code",
   "execution_count": null,
   "metadata": {},
   "outputs": [],
   "source": [
    "\n",
    "\n",
    "josephine =  * \n",
    "otto = 0.25 * \n",
    "paul =  * \n",
    "ich =  *  + \n",
    "\n",
    "print(f'Josephine: {josephine} \\nOtto: {otto} \\nPaul: {paul} \\nIch: {ich}')"
   ]
  },
  {
   "cell_type": "code",
   "execution_count": null,
   "metadata": {},
   "outputs": [],
   "source": []
  },
  {
   "cell_type": "markdown",
   "metadata": {},
   "source": [
    "## 3.1.4.2  Monképo Go\n",
    "\n",
    "<div class=\"alert alert-block alert-warning\">\n",
    "<font size=\"3\"><b>Übung:</b></font> Bei dem Online-Spiel \"Monképo Go\" kommen hunderte Spieler aus aller Welt zusammen, um in 3er-Teams gegen üble Monster zu kämpfen und Trophäen zu sammeln. Aktuell haben sich 194 Spieler für eine neue Runde angemeldet.  \n",
    "<br>\n",
    "<b>a)</b> Initialisiere die Variable <b>players</b> entsprechend mit diesem Wert.  \n",
    "<br>\n",
    "<b>b)</b> Wie viele 3er-Teams können aus dieser Spieleranzahl gebildet werden? Führ die Berechnung dazu aus und speichere das Ergebnis in einer neuen Variable.  \n",
    "<br>\n",
    "<b>c)</b> Wie viele Spieler sind übrig, die nicht in die 3er-Teams passen? Führ auch hier die passende Berechnung aus und speichere das Ergebnis in einer weiteren Variable.  \n",
    "<br>\n",
    "<b>d)</b> Gib die Variablen aus b) und c) mittels der Print-Funktion aus.  \n",
    "<br>\n",
    "<b>e)</b> Mittlerweile haben sich 243 weitere Zocker angemeldet. Pass die Variable <b>players</b> gemäß der neuen Spieleranzahl an.  \n",
    "<br>\n",
    "<b>f)</b> Ein Update von \"Monképo Go\" ermöglicht es, dass sich Teams von bis zu 7 Spielern bilden dürfen. Wie viele 7er- und 3er-Teams können mit diesem neuen Feature gebildet werden? Ermittle die Ergebnisse mit den geeigneten Berechnungen, gib sie aus und schreib danach deine Antwort als Kommentar.  \n",
    "<br>\n",
    "Gib die Kennung der Teilaufgaben a, b, c, d, e, f als Kommentar über ihnen an.\n",
    "</div>"
   ]
  },
  {
   "cell_type": "code",
   "execution_count": null,
   "metadata": {},
   "outputs": [],
   "source": []
  },
  {
   "cell_type": "code",
   "execution_count": null,
   "metadata": {},
   "outputs": [],
   "source": []
  },
  {
   "cell_type": "markdown",
   "metadata": {},
   "source": [
    "<div class=\"alert alert-block alert-success\">\n",
    "<b>Du hast die Aufgaben gelöst? Prima!</b> Falls du Schwierigkeiten hattest, sieh dir noch einmal an, was wir in den vorherigen Einheiten durchgegangen sind.  \n",
    "<br>\n",
    "    \n",
    "Die folgende und letzte Einheit zum Thema \"3.1 Python als Taschenrechner\" behandelt Wirtschaftsfachbegriffe und enthält eine praktische Übung zu diesen, in welcher du ebenso das bisher Gelernte anwenden kannst."
   ]
  }
 ],
 "metadata": {
  "kernelspec": {
   "display_name": "Python 3",
   "language": "python",
   "name": "python3"
  },
  "language_info": {
   "codemirror_mode": {
    "name": "ipython",
    "version": 3
   },
   "file_extension": ".py",
   "mimetype": "text/x-python",
   "name": "python",
   "nbconvert_exporter": "python",
   "pygments_lexer": "ipython3",
   "version": "3.7.3"
  }
 },
 "nbformat": 4,
 "nbformat_minor": 2
}
