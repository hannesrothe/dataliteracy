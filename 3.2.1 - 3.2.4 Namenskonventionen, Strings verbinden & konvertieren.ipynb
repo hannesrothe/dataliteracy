{
 "cells": [
  {
   "cell_type": "markdown",
   "metadata": {},
   "source": [
    "#  3.2 Strings & String-Funktionen\n",
    "\n",
    "## 3.2.1 - 3.2.4 Namenskonventionen, Strings verbinden & konvertieren\n",
    "\n",
    "Im Anschluss dieser Übungseinheit kannst du ...\n",
    "+ Variablen entsprechend der Python-Namenskonventionen benennen\n",
    "+ Variablen mit String-Werten anlegen\n",
    "+ den Datentyp String konvertieren\n",
    "+ Strings und Characters verbinden"
   ]
  },
  {
   "cell_type": "markdown",
   "metadata": {},
   "source": [
    "## 3.2.1 Python-Namenskonventionen für Variablen\n",
    "\n",
    "Wenn du irgendwo in einem Programm eine Variable namens \"x\" siehst, weißt du dann, wofür diese Variable da ist und was sie beinhaltet?  \n",
    "<br>\n",
    "Bei einem einfachen numerischen Wert und in einem kurzen Programm mag es keine Rolle spielen, wenn die Variable mit \"x\" benannt ist. Doch wenn das Programm komplexer wird und dort viele verschiedene Variablen vorkommen, die \"x\", \"y\", \"z\" usw. heißen, verlieren du und jemand, der mit deinem Code weiterarbeiten möchte, schnell den Überblick.  \n",
    "<br>\n",
    "> Um dies zu verhindern, gibt es in Python sowie in anderen Programmiersprachen bestimmte Namenskonventionen. Diese Konventionen einzuhalten, gehört zum guten Ton bzw. zum guten Code. Du kannst sie dir als eine Vereinbarung unter ProgrammschreiberInnen vorstellen. Wenn alle sich an diese Vereinbarung halten, kann jeder jeden Code aller anderen besser lesen und verstehen.  \n",
    "<br>\n",
    "\n",
    "In allen Programmiersprachen gilt: **Benenne Variablen möglichst eindeutig nach dem, was sie beinhalten/bewirken.**  \n",
    "<br>\n",
    "Legst du beispielsweise eine Variable an, die die das Produkt von Kosten und Menge einer Ware beinhalten soll, wäre eine eindeutige Bezeichnung \"Gesamtkosten\". Da es darüber hinaus jedoch üblich ist, Variablen auf Englisch zu benennen, wäre eine noch bessere Bezeichnung: \"total_costs\". Anhand dieses Namens lassen sich weitere Namenskonventionen ableiten.  \n",
    "<br>\n",
    "\n",
    "Die **Python-Namenskonventionen** lauten zusammengefasst:\n",
    "* englische Variablennamen, z.B.: ``income = 2500``\n",
    "* durchgängige Kleinschreibung der Variablen, außer bei Konstanten (Variablen, deren Wert sich nie ändern soll), z.B.: ``PI = 3.14``\n",
    "* Trennung von Doppel-Namen mit einem Unterstrich (bei mehr als zwei Namen entsprechend mehr Unterstriche, doch zu lange Namen sollten vermieden werden), z.B.: ``total_customers = 1448``\n",
    "* Variablen dürfen keine Sonderzeichen enthalten. Z.B. nicht zulässig ist \"room13@floor3\", doch zulässig ist: ``room13floor3 = 150``\n",
    "* Variablennamen sollten in sich konsistent sein. Heißt eine Variable z.B. \"firstname\" (Vorname), sollte die Variable für den Nachnamen nicht \"last_name\" benannt werden, sondern ebenso ohne Unterstrich: ``lastname = 'Sander'``\n",
    "* die folgenden beiden Konventionen **müssen eingehalten werden**, da sie sonst zu Programmfehlern führen:\n",
    "    * Variablen dürfen mit keiner Zahl und keinem Sonderzeichen beginnen, z.B. \"1total_costs\" wäre kein zulässiger Name und ergäbe einen <font color = \"darkred\">SyntaxError</font> (Zeichenfehler)\n",
    "    * verwende keine Variablennamen, die bereits intern von Python belegt sind, wie <b>int</b>, <b>float</b> und <b>str</b> (String). Dies führt nicht bei der Deklarierung und Initialisierung (Benennung und Wertzuweisung) zu einem Fehler, aber bei der Weiterverwendung früher oder später zu einem <font color = \"darkred\">TypeError</font> (Datentypfehler). Weitere reservierte Namen findest du hier: https://docs.python.org/3/reference/lexical_analysis.html#keywords\n",
    "<br>\n",
    "\n",
    "<div class=\"alert alert-block alert-info\">\n",
    "<font size=\"3\"><b>Tipp:</b></font> Namenskonventionen einzuhalten bedeutet, den Code einheitlicher und ihn damit leichter erfassbar für alle ihn Lesenden zu gestalten. Hältst du dich nicht an die Namenskonventionen, wird in den meisten Fällen kein Fehler auftreten. Doch bedenke, dass andere und auch du selbst deinen Code nach längerer Zeit immer noch schnell verstehen möchten. Außerdem sieht dein Code damit professionell aus.\n",
    "</div>\n",
    "<br>\n",
    "\n",
    ">Die Trennung mit einem Unterstrich wie bei \"hello_world\" nennt man auch **Snake Case** (wie eine am Boden kriechende Schlange). In anderen Programmiersprachen gibt es ähnliche, auf die Tierwelt bezogene Bezeichnungen. Zum Beispiel ist in Java hingegen \"Camel Case\" Konvention. Dort würde man dieselbe Variable so schreiben: helloWorld (großer Anfangsbuchstabe des zweiten Wortes, wie ein Kamelbuckel).  \n",
    "\n",
    "<br>\n",
    "<div class=\"alert alert-block alert-warning\">\n",
    "<font size=\"3\"><b>Übung:</b></font> Der folgende Code könnte durch eine eindeutigere Namensgebung der Variablen verbessert werden. Gib in der Codezelle darunter bessere Namen für <b>z</b>, <b>w</b> und <b>r</b> an.  \n",
    "<br>\n",
    "Diese Übung hat keine eindeutige Lösung. Hier geht es eher darum, sinnvolle Namen zu finden und sie entsprechend der Namenskonventionen zu schreiben. Die Lösung zu dieser Übung dient dir nachträglich zur Orientierung.\n",
    "</div>"
   ]
  },
  {
   "cell_type": "code",
   "execution_count": null,
   "metadata": {},
   "outputs": [],
   "source": [
    "first_name = 'Tim'  \n",
    "z = 'Schneider'  \n",
    "w = '015643287593' \n",
    "r = 'Berlin'"
   ]
  },
  {
   "cell_type": "code",
   "execution_count": 1,
   "metadata": {},
   "outputs": [],
   "source": []
  },
  {
   "cell_type": "markdown",
   "metadata": {},
   "source": [
    "## 3.2.2 Variablen mit String-Werten anlegen\n",
    "\n",
    "Bisher haben wir uns vor allem mit den numerischen Datentypen Float (float) und Integer (int) befasst. Weil sie Zahlen darstellen und miteinander verrechnet werden, werden sie ohne Anführungsstriche geschrieben.  \n",
    "<br>\n",
    "Strings, also Text bzw. Wörter sind dir als Variablenwerte schon ein paar Mal in diesem Kurs begegnet, auch in der vorhergehenden Aufgabe. Du hast bereits gesehen, dass **Strings in Python immer in Anführungsstrichen** geschrieben werden. Innerhalb dieser Anführungsstriche werden Zahlen, Operanden etc. von Python als Teil des Strings betrachtet. Du kannst für Strings einfache oder doppelte Anführungsstriche verwenden; zum Beispiel sind beide dieser Varianten korrekt:  \n",
    "<br>\n",
    "``firstname = 'Tom'``  \n",
    "<br>\n",
    "``firstname = \"Tom\"``  \n",
    "<br>\n",
    "Jedoch ist es auch eine **Python-Konvention**, bevorzugt **einfache Anführungsstriche** zu verwenden, also eher:  \n",
    "<br>\n",
    "``firstname = 'Tom'``  \n",
    "<br>\n",
    "Weiterhin ist wichtig zu beachten, dass beide **nicht gemixt** werden dürfen, denn das ergäbe einen Fehler, wie:  "
   ]
  },
  {
   "cell_type": "code",
   "execution_count": null,
   "metadata": {},
   "outputs": [],
   "source": [
    "firstname = 'Tom\""
   ]
  },
  {
   "cell_type": "markdown",
   "metadata": {},
   "source": [
    "Schreibst du einen String, in welchem wiederum Anführungsstriche vorkommen, zum Beispiel ...  "
   ]
  },
  {
   "cell_type": "code",
   "execution_count": null,
   "metadata": {},
   "outputs": [],
   "source": [
    "sentence = 'Roberts Lieblingsfilm ist \"Terminator\".'  \n",
    "\n",
    "print(sentence)"
   ]
  },
  {
   "cell_type": "markdown",
   "metadata": {},
   "source": [
    "..., ist es erforderlich, innerhalb des Satzes die andere Variante der Anführungsstriche zu verwenden. Der gleiche Satz könnte also auch so geschrieben werden (Eigennamen werden im Deutschen allerdings in doppelte Anführungsstriche gesetzt):"
   ]
  },
  {
   "cell_type": "code",
   "execution_count": null,
   "metadata": {},
   "outputs": [],
   "source": [
    "sentence = \"Roberts Lieblingsfilm ist 'Terminator'.\" \n",
    "\n",
    "print(sentence)"
   ]
  },
  {
   "cell_type": "markdown",
   "metadata": {},
   "source": [
    "## 3.2.3 Konvertierung von/zu Strings\n",
    "\n",
    "Hast du einen String mit einem numerischen Wert angelegt, kannst du diesen zu einem Integer oder Float **konvertieren**, zum Beispiel:"
   ]
  },
  {
   "cell_type": "code",
   "execution_count": null,
   "metadata": {},
   "outputs": [],
   "source": [
    "number = '123'  \n",
    "\n",
    "number = int(number)\n",
    "\n",
    "type(number)"
   ]
  },
  {
   "cell_type": "markdown",
   "metadata": {},
   "source": [
    "Umgekehrt kannst du auch Zahlen zu Strings konvertieren, mit ``str()``.\n",
    "<br>\n",
    "<div class=\"alert alert-block alert-info\">\n",
    "    <font size=\"3\"><b>Tipp:</b></font> Konvertierung von Datentypen wird auch <b>Casten</b> genannt bzw. im Englischen <b>Type Casting</b>. Man sagt zum Beispiel: \"Die Zahl wird zu Float gecastet.\"  \n",
    "<br>\n",
    "    \n",
    "Die Operation zur Umwandlung wird als <b>Cast-Operator</b> (engl.: cast operator) bezeichnet, wie z.B.: <b>int()</b>\n",
    "</div>\n",
    "<br>\n",
    "<div class=\"alert alert-block alert-warning\">\n",
    "<font size=\"3\"><b>Übung:</b></font>  Caste die untenstehende Zahl zu String und überprüfe ihren Datentyp.\n",
    "</div>"
   ]
  },
  {
   "cell_type": "code",
   "execution_count": null,
   "metadata": {},
   "outputs": [],
   "source": [
    "number = 7.7\n",
    "\n",
    "\n"
   ]
  },
  {
   "cell_type": "markdown",
   "metadata": {},
   "source": [
    "Die Konvertierung zu String funktioniert in jedem Fall, selbst, wenn bereits ein String vorliegt:"
   ]
  },
  {
   "cell_type": "code",
   "execution_count": null,
   "metadata": {},
   "outputs": [],
   "source": [
    "test_string = 'string'\n",
    "converted_string = str(test_string)\n",
    "type(converted_string)"
   ]
  },
  {
   "cell_type": "markdown",
   "metadata": {},
   "source": [
    "## 3.2.4 Strings verbinden (Concatenation)\n",
    "\n",
    "### 3.2.4 a) Strings mit + und * verbinden\n",
    "\n",
    "Wenn du einzelne Strings weiterverarbeiten möchtest, kann es nötig werden, dass du diese verbindest/konkatenierst. Dies geschieht mit Hilfe des <font color = \"green\">+</font>-Operators. Ein Beispiel:  "
   ]
  },
  {
   "cell_type": "code",
   "execution_count": null,
   "metadata": {},
   "outputs": [],
   "source": [
    "city = 'Berlin'  \n",
    "street = 'Chaussestraße 7'  \n",
    "address = city + street  \n",
    "\n",
    "print(address)  "
   ]
  },
  {
   "cell_type": "markdown",
   "metadata": {},
   "source": [
    "An diesem Beispiel siehst du, dass zwar die Strings verbunden wurden, doch sollten noch ein Komma und/oder Leerzeichen zwischen den Strings platziert sein, müssten diese bereits in den Strings selbst vorhanden sein.  \n",
    "<br>\n",
    "Allerdings wäre es nicht üblich, ein Komma und Leerzeichen direkt in die Variablenwerte einzubauen, wie:\n",
    "street = ', Chaussestraße 7'\n",
    "<br>\n",
    "\n",
    "Der Standard ist, die Print-Funktion wie folgt anzupassen:"
   ]
  },
  {
   "cell_type": "code",
   "execution_count": null,
   "metadata": {},
   "outputs": [],
   "source": [
    "print(city + ', ' + street)"
   ]
  },
  {
   "cell_type": "markdown",
   "metadata": {},
   "source": [
    "Das gleiche könntest du auch direkt in der Variable **address** schreiben und dann über ``print()`` ausgeben lassen:  "
   ]
  },
  {
   "cell_type": "code",
   "execution_count": null,
   "metadata": {},
   "outputs": [],
   "source": [
    "address = city + ', ' + street\n",
    "\n",
    "print(address)"
   ]
  },
  {
   "cell_type": "markdown",
   "metadata": {},
   "source": [
    "Strings kannst du auch über verschiedene Formatierungsmöglichkeiten verbinden, die Python bietet. Dazu kommen wir gleich noch ausführlicher.  \n",
    "<br>\n",
    "Wie du es schon bei numerischen Datentypen gesehen hast, kannst du auch Strings addieren bzw. verbinden, indem du das <font color = \"green\">+</font> vor das <font color = \"green\">=</font> setzt:  \n",
    "<br>\n"
   ]
  },
  {
   "cell_type": "code",
   "execution_count": null,
   "metadata": {},
   "outputs": [],
   "source": [
    "singing = 'la'\n",
    "singing += 'la'\n",
    "\n",
    "print(singing)"
   ]
  },
  {
   "cell_type": "markdown",
   "metadata": {},
   "source": [
    "<div class=\"alert alert-block alert-info\">\n",
    "<font size=\"3\"><b>Tipp:</b></font> Zu beachten ist hierbei, dass du der Variablen zuerst mit <b>=</b> einen Wert zuweist, bevor du sie erhöhst/erweiterst. Sonst weiß Python nicht, zu was es den Wert bei <b>+=</b> hinzufügen soll und es gibt einen <b>NameError</b> wegen einer undefinierten Variablen.  \n",
    "<br>\n",
    "Deshalb wird <b>singing</b> in dem obigen Beispiel  zuerst mit dem Anfangswert <b>'la'</b> initialisiert.\n",
    "</div>\n",
    "<br>\n",
    "\n",
    "Um Strings zu vervielfachen, kannst du <font color = green>*</font> bei einer Wertzuweisung an eine Variable oder direkt in ``print()`` verwenden:  "
   ]
  },
  {
   "cell_type": "code",
   "execution_count": null,
   "metadata": {},
   "outputs": [],
   "source": [
    "# als Wertzuweisung an eine folgende Variable\n",
    "\n",
    "singing = 'la'\n",
    "choir = singing*12\n",
    "\n",
    "print(choir)"
   ]
  },
  {
   "cell_type": "code",
   "execution_count": null,
   "metadata": {},
   "outputs": [],
   "source": [
    "# direkt in print()\n",
    "\n",
    "singing = 'la'\n",
    "\n",
    "print(singing*8)  "
   ]
  },
  {
   "cell_type": "markdown",
   "metadata": {},
   "source": [
    "<div class=\"alert alert-block alert-info\">\n",
    "<font size=\"3\"><b>Achtung:</b></font> Das Muliplikationszeichen funktioniert bei Strings <b>nicht</b> so: <b>s *= 'la'</b>. Python versteht das als rechnerische Multiplikation und bei Strings führt das zu einem <b>TypeError</b> (Fehler wegen inkompatibler Datentypen). Ein String kann mit <b>*</b> wie in den zwei obigen Beispielen zwar vervielfacht werden, aber im Zusammenhang mit <b>=</b> entsteht für Python eine unlösbare Rechnung, da Text nicht mit Text multipliziert werden kann.\n",
    "</div>\n",
    "<br>\n",
    "\n",
    "\n",
    "<div class=\"alert alert-block alert-warning\">\n",
    "<font size=\"3\"><b>Übung:</b></font> Such dir einen der vorgestellten Wege aus, um den String in der folgenden Code-Zelle zu verdreifachen.\n",
    "</div>"
   ]
  },
  {
   "cell_type": "code",
   "execution_count": null,
   "metadata": {},
   "outputs": [],
   "source": [
    "joke = 'ha'\n",
    "\n"
   ]
  },
  {
   "cell_type": "markdown",
   "metadata": {},
   "source": [
    "### 3.2.4 b) Characters mit join() verbinden\n",
    "\n",
    "Einzelne Buchstaben eines Strings werden als **Characters** bzeichnet. Es ist möglich, Zeichen und Buchstaben nach Characters mit der Funktion ``join()`` zu platzieren, wie hier zum Beispiel ein Komma nach jedem Character:"
   ]
  },
  {
   "cell_type": "code",
   "execution_count": null,
   "metadata": {},
   "outputs": [],
   "source": [
    "numbers = '0123456789'\n",
    "\n",
    "print(','.join(numbers))"
   ]
  },
  {
   "cell_type": "markdown",
   "metadata": {},
   "source": [
    "<div class=\"alert alert-block alert-info\">\n",
    "    <font size=\"3\"><b>Tipp:</b></font> Funktionen wie <b>join()</b> werden über den Punkt-Operator (einfacher Punkt) an den Wert bzw. die Variable angehängt, auf die sie angewendet werden sollen. Es gibt keine eindeutige Regel dafür, wann Variablen in die Klammern eingetragen und wann Funktionen mit einem Punkt angehängt werden. Es ist wie beim Sprachenlernen - über Praxiserfahrung wird die richtige Anwendung zur Gewohnheit.\n",
    "</div>  \n",
    "<br>\n",
    "\n",
    "Du kannst mit ``join()`` auch einzelne Strings (auch in Form von Listeneinträgen) zu einem gesamten verbinden. Das wird in einer der folgenden Einheiten behandelt, in der wir mehrere Strings vorliegen haben.  \n",
    "\n",
    "Syntax: <font color = green>'Zeichen, mit dem/denen verbunden werden soll'.join(String/Liste)</font>  \n",
    "\n",
    "<div class=\"alert alert-block alert-warning\">\n",
    "<font size=\"3\"><b>Übung:</b></font> Gegeben ist die Variable <b>alphabet</b> in der folgenden Code-Zelle.  \n",
    "<br>\n",
    "    \n",
    "Deine Aufgabe ist es, sie zu dieser gewünschten Ausgabe zu formatieren: <b>a & b & c</b>  \n",
    "<br>\n",
    "Was müsste in <b>print()</b> stehen, um diese zu erhalten?  \n",
    "<br>\n",
    "Achte auf die Leerzeichen vor und nach dem Kaufmanns-Und.\n",
    "</div>\n"
   ]
  },
  {
   "cell_type": "code",
   "execution_count": null,
   "metadata": {},
   "outputs": [],
   "source": [
    "alphabet = 'abc'\n"
   ]
  },
  {
   "cell_type": "markdown",
   "metadata": {},
   "source": [
    "<div class=\"alert alert-block alert-success\">\n",
    "<b>Großartig!</b> Du kannst jetzt allen Werten wie Zahlen und Strings passenden, Python-konformen Variablennamen zuweisen. Du kannst nun sogar Strings mit numerischen Werten zu Integers und Floats konvertieren und umgekehrt. Außerdem weißt du, wie du sie miteinander verbindest.\n",
    "<br>\n",
    "    \n",
    "Als nächstes wird dir gezeigt,  wie du Strings für eine visuell ansprechende Ausgabe formatieren kannst.  "
   ]
  },
  {
   "cell_type": "markdown",
   "metadata": {},
   "source": [
    "<div class=\"alert alert-block alert-info\">\n",
    "<h3>Das kannst du dir aus dieser Übung mitnehmen:</h3>\n",
    "\n",
    "* **Python-Namenskonventionen für Variablen**\n",
    "    * eindeutige, leicht zuzuordnende Bezeichnung\n",
    "    * auf Englisch\n",
    "    * in Kleinbuchstaben\n",
    "    * Großschreibung nur bei Konstanten (unveränderliche Variablen), z.B.: ``PI = 3.14``\n",
    "    * bei mehr als einem Namen in der Bezeichnung Trennung mit Unterstrich (genannt Snake Case), z.B.: <font color = green>zwei_namen</font> oder: <font color = green>sogar_drei_namen</font>\n",
    "    * zu lange Namen vermeiden\n",
    "    * keine Verwendung von Sonderzeichen wie <font color = green>@</font>, nur Buchstaben und Zahlen\n",
    "    * in sich konsistente Namen entsprechend bereits benannter Variablen, z.B. <font color = green>firstname</font> passend zu <font color = green>lastname</font> (nicht last_name)\n",
    "    * Vermeidung von Fehlermeldungen bei ...\n",
    "        * keiner Verwendung von Zahlen sowie Sonderzeichen am Variablenanfang, z.B.: <font color = darkred>1customer = 'Evelyn'</font>\n",
    "        * keiner Verwendung von bereits von Python reservierten Namen wie <font color = darkred>str</font>, <font color = darkred>int</font>, <font color = darkred>float</font>, <font color = darkred>type</font> usw.  \n",
    "<br>\n",
    "* **Strings**\n",
    "    * ... sind Zeichenketten, die aus allen möglichen Zeichen bestehen können, auch Zahlen, doch sie werden trotzdem immer als Text/Strings von Python interpretiert\n",
    "    * ... ihre Datentyp-Bezeichnung innerhalb von Python ist **str**\n",
    "    * die einzelnen Zeichen eines Strings werden als **Characters** bezeichnet, sie stellen jedoch jedoch keinen eigenen Datentyp dar. Einzelzeichen, wie 'z', sind stets auch Strings  \n",
    "<br>\n",
    "* **Strings werden in Anführungsstrichen angelegt**\n",
    "    * entweder in einfachen **oder** doppelten (nicht mixen), so: <font color = green>'String'</font> (empfohlen) oder so: <font color = green>\"String\"</font>\n",
    "    * verwendest du Anführungsstriche innerhalb von Strings, wählst du dafür die genau anderen: <font color = green>\"Film: 'Strings'\"</font> oder <font color = green>'Film: \"Strings\"'</font>  \n",
    "<br>\n",
    "* **Strings können konvertiert werden**\n",
    "    * eine Zahl wird in einen String konvertiert mit: ``str(123)`` oder auch ``str(1.0234)``\n",
    "    * ein String wird in einen Float konvertiert mit: ``float('12.3')``\n",
    "    * Ein String wird in einen Integer konvertiert mit: ``int('123')``  \n",
    "<br>\n",
    "* **Strings können verbunden werden**\n",
    "    * ... über **<font color = green>+</font>** : ``print('String' + 'nächster String')``  => Output: Stringnächster String\n",
    "    * Kommas, Leerzeichen und weitere Zeichen sind zusätzlich einzuzufügen, z.B.: ``print('String' + ',  ' + 'nächster String')`` => Output: String, nächster String\n",
    "    * vervielfacht mit **<font color = green>*</font>**: ``a = 'Aha!'`` => ``print(a*3)`` => Output: Aha!Aha!Aha!  \n",
    "<br>\n",
    "* **Characters können über join() verbunden werden**\n",
    "    * als Strings gespeicherte Listeneinträge können auch über ``join()`` verbunden werden\n",
    "    * Syntax: <font color = green>'Zeichen, mit dem/denen verbunden werden soll'.join(String/Liste)</font>\n",
    "</div>"
   ]
  }
 ],
 "metadata": {
  "kernelspec": {
   "display_name": "Python 3",
   "language": "python",
   "name": "python3"
  },
  "language_info": {
   "codemirror_mode": {
    "name": "ipython",
    "version": 3
   },
   "file_extension": ".py",
   "mimetype": "text/x-python",
   "name": "python",
   "nbconvert_exporter": "python",
   "pygments_lexer": "ipython3",
   "version": "3.7.3"
  }
 },
 "nbformat": 4,
 "nbformat_minor": 2
}
