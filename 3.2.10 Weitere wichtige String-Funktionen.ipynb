{
 "cells": [
  {
   "cell_type": "markdown",
   "metadata": {},
   "source": [
    "#  3.2 Strings & String-Funktionen\n",
    "\n",
    "## 3.2.10 Weitere wichtige String-Funktionen\n",
    "\n",
    "Im Anschluss dieser Übungseinheit kannst du ...\n",
    "+ die Länge von Strings ermitteln\n",
    "+ Buchstabengrößen in Strings vertauschen\n",
    "+ nach einem bestimmten String in einem String suchen und dessen Index erfragen  \n",
    "\n",
    "Du lernst darüber hinaus an einem praktischen Beispiel, warum man mit aufbereiteten Listen bessere Analysen durchführen kann und worauf man bei Befragungen achten sollte.\n"
   ]
  },
  {
   "cell_type": "markdown",
   "metadata": {},
   "source": [
    "Du hast nun schon eine ganze Menge verschiedener Funktionen mit verschiedenen Argumenten kennengelernt und angewendet. Weitere grundlegende Funktionen sind:  \n",
    "<br>\n",
    "#### len()\n",
    "``len()`` gibt die Länge eines Strings wieder.  \n",
    "\n",
    "Die Syntax unterscheidet sich von den bisherigen Funktionen, denn ``len()`` nimmt den String als Argument: <font color = green>len(string)</font>  \n",
    "Es ist auch möglich, eine Liste als Argument einzutragen und somit ihre Länge abzufragen: <font color = green>len(list)</font>   \n",
    "<br>\n",
    "Achtung: Die Länge zählt den Index 0 mit. Das bedeutet, hat ein String die **Länge 4**, laufen seine **Indize von 0, 1, 2 bis 3**. Die Länge enthält alle Zeichen. Willst du über sie den letzten Index erfahren, ist dieser also die Länge minus 1: **4 - 1, also hat der letzte Index die Nummer 3**.\n",
    "\n",
    "#### swapcase()\n",
    "Diese Funktion vertauscht alle Groß- mit Kleinbuchstaben und umgekehrt. Syntax: <font color = green>str.swapcase()</font>   \n",
    "\n",
    "#### find()\n",
    "\n",
    "... findet Characters/Strings innerhalb eines Strings. und gibt den Index wieder, an dem sie beginnen. Wird der Index nicht gefunden, existiert der Wert/das Argument nicht und der Rückgabewert ist -1. Syntax: <font color = green>str.find('Index von diesem Zeichen in String finden')</font>   \n",
    "<br> Auch hier können Start- und Endindex festgelegt werden. Syntax: <font color = green>str.find('Index von diesem Zeichen in String finden',Start,Ende)</font>   \n",
    "<br>\n",
    "<div class=\"alert alert-block alert-info\">\n",
    "<font size=\"3\"><b>Tipp:</b></font> </b> Folgendes gilt generell bei der Angabe von zwei Indizen in Funktionen:  \n",
    "<br>\n",
    "Der Startindex bzw. erste Index zählt immer von ihm aus inklusive, der Endindex bzw. zweite Index zählt exklusive. Das heißt, es wird bis vor ihn gezählt.\n",
    "</div>\n",
    "<br>\n",
    "\n",
    "#### index()\n",
    "\n",
    "... funktioniert analog zu ``find()`` mit der Syntax: <font color = green>str.index('Index von diesem Zeichen in String finden',Start,Ende)</font>   \n",
    "<br>\n",
    "Der Unterschied zu ``find()`` liegt darin, dass der Rückgabewert bei nicht gefundenen Zeichen nicht -1 ist, sondern ``index()`` gibt stattdessen einen <font color = darkred>ValueError</font> zurück:\n"
   ]
  },
  {
   "cell_type": "code",
   "execution_count": null,
   "metadata": {},
   "outputs": [],
   "source": [
    "keys = '012345'\n",
    "\n",
    "keys.index('9')"
   ]
  },
  {
   "cell_type": "markdown",
   "metadata": {},
   "source": [
    "Somit kennst du neben dem Name- und dem SyntaxError nun eine weitere Fehlermeldung mit dem <font color = darkred>ValueError</font>. Sie taucht immer auf, wenn ein Wert nicht vorhanden ist.  \n",
    "Sollten dir diese Fehler noch nicht geläufig sein, sei dir das Kapitel \"0.1 Fehlerbehandlung und Hilfe zu Python finden\" empfohlen.  \n",
    "<br>\n",
    "Die verschiedenen Rückgabewerte von ``find()`` und ``index()`` bei nicht gefundenen Werten werden dir für verschiedene Zwecke nützlich sein, je nachdem, mit welchen weiteren Abfragen du sie verbinden wirst.  \n",
    "Manchmal ist es erforderlich, mit konkreten Zahlenwerten weiterzuarbeiten, wie mit -1; manchmal ist es nötig, bestimmte Fehlermeldungen, wie ValueErrors, für den weiteren Programmablauf auszuschließen. Dafür wirst du beim Programmieren automatisch ein Gefühl bekommen.    \n",
    "<br>\n",
    "<div class=\"alert alert-block alert-warning\">\n",
    "    <font size=\"3\"><b>Übung zu den letztgenannten Funktionen:</b></font> Gegeben ist die untenstehende Variable <b>eggs_quality</b>.  \n",
    "    \n",
    "1) Ermittle die Länge ihres Wertes in derselben Code-Zelle.  \n",
    "    \n",
    "2) Tausche in der darunterliegenden Code-Zelle die Buchstabengröße ihres Wertes um.  \n",
    "\n",
    "3) An welchem Index befindet sich wohl das <b>A</b>? Ermittle ihn mit einer der oben genannten Funktionen.  \n",
    "<br>\n",
    "Du kannst Aufgabe 2) und 3) wieder in einer Code-Zeile lösen, indem du Funktionen verkettest. Das ist aber kein Muss. Es kann auch hilfreich sein, sich die einzelnen Zwischenergebnisse ausgeben zu lassen. Anschließend kannst du dann, nachdem du gesehen hast, wie die Funktionen arbeiten, alles kompakt in einer Zeile zusammenfassen.\n",
    "</div>"
   ]
  },
  {
   "cell_type": "code",
   "execution_count": 6,
   "metadata": {},
   "outputs": [],
   "source": [
    "eggs_quality = 'GÜTEKLASSE a'\n"
   ]
  },
  {
   "cell_type": "code",
   "execution_count": null,
   "metadata": {},
   "outputs": [],
   "source": []
  },
  {
   "cell_type": "markdown",
   "metadata": {},
   "source": [
    "<div class=\"alert alert-block alert-info\">\n",
    "<font size=\"3\"><b>Tipp:</b></font> </b> Ein weiterer Vorteil von <b>F-Strings</b> ist, dass du Funktionen direkt in ihnen aufrufen kannst. Führ das Beispiel in folgender Code-Zelle aus:\n",
    "</div>"
   ]
  },
  {
   "cell_type": "code",
   "execution_count": null,
   "metadata": {},
   "outputs": [],
   "source": [
    "print('Wie heißt du (Vorname(n) und Nachname in Kleinbuchstaben und mit Leerzeichen getrennt)?')\n",
    "\n",
    "print(f'Aha, du bist also {input().title()}!!!')"
   ]
  },
  {
   "cell_type": "markdown",
   "metadata": {},
   "source": [
    "Wie du siehst, kann ``input()`` direkt in den F-String gepackt und auf ihn sogar eine weitere Funktion angewendet werden.  \n",
    "Das ist sehr kompakt, doch trotzdem gut lesbar, oder?! Anhand des Funtionsnamens von ``title()`` kann man nämlich erschließen, was hier passiert.\n",
    "\n",
    "<div class=\"alert alert-block alert-warning\">\n",
    "    <font size=\"3\"><b>Abschließende Übung zu den bisher kennengelernten String-Funktionen:</b></font>  \n",
    "<br>\n",
    "    \n",
    "Du hast eine Kundenbefragung durchgeführt, weil du dich wegen strategischer Zwecke über den Bildungsgrad deiner Kunden informieren möchtest. Die Ergebnisse sind in der Variable <b>customer_graduation</b> gespeichert.\n",
    "    \n",
    "1) Ermittle, wie viele deiner Kunden <b>BWL</b> studiert haben. Dazu zählen auch Angaben wie <b>bwl</b>, <b>betriebswirtschaftslehre</b> und <b>Betriebswirtschaftslehre</b>. Du wirst für die Lösung dieser Aufgabe mehrere Funktionen benötigen.  \n",
    "<i>Theoretisch kannst du sie wieder in einer Code-Zeile lösen. Möchtest du jedoch eine \"gesäuberte\" Liste aus ihnen erstellen, mit den umgewandelten Studienfächern, empfiehlt sich die Abspeicherung der Funktionsanwendungen in einzelnen Variablen. Probier am besten beide Varianten aus!</i>\n",
    "    \n",
    "2) Wandle die Studienfächer ohne Leerzeichen und Komma in einzelne Einträge einer Liste um.  \n",
    "\n",
    "3) Auf Basis dieser Liste: Wie viele Kunden haben an der Befragung teilgenommen?\n",
    "\n",
    "4) Die letzte Aufgabe funktioniert nur mit der gesäuberten Liste (denn nur in ihr werden alle Einträge zu BWL gleich gezählt): Wie viel Prozent deiner Kunden haben BWL studiert? Berechne dies mit den passenden Variablen und zur Überprüfung mit den ermittelten Zahlen aus dieser und der vorhergehenden Aufgabe 3).  \n",
    "<br>\n",
    "An diesem Beispiel erkennst du: Nur mit gesäuberten Daten kannst du Daten konsistent verwalten und zuverlässige Statistiken erstellen.\n",
    "</div>"
   ]
  },
  {
   "cell_type": "code",
   "execution_count": 94,
   "metadata": {},
   "outputs": [],
   "source": [
    "customer_graduation = ('Betriebswirtschaftslehre, Polynesisch Master Elektrotechnik, BWL B.SC, Geologie\\\n",
    ", BWL Master, Atomphysik, VWL, arbeiten,Verpackungstechnik, Optik, bwl bachelor, Familie\\\n",
    ", wirtschaft, vowi, bwl, Sportwissenschaften, Etikette, vwl, betriebswirtschaftslehre\\\n",
    ", Wirtschaft,Doktor in Sozialwissenschaften, Bierologie, bwl, Volkswirtschaftslehre, Recht')\n",
    "\n"
   ]
  },
  {
   "cell_type": "code",
   "execution_count": null,
   "metadata": {},
   "outputs": [],
   "source": []
  },
  {
   "cell_type": "code",
   "execution_count": null,
   "metadata": {},
   "outputs": [],
   "source": []
  },
  {
   "cell_type": "markdown",
   "metadata": {},
   "source": [
    "**Was kannst du an der Qualität dieser Befragung erkennen?**  \n",
    "Es wäre wohl besser gewesen, die Kunden expizit und getrennt nach ihrem Studienfach und dem darin erreichten Abschluss zu fragen. So kennen wir nun zwar ihre Studienfächer, aber ob wir es mit Bachelors oder Mastern usw. zu tun haben, bleibt in vielen Fällen unklar.  \n",
    "<br>\n",
    "Noch besser wären hier angelegte Studienfächer und -abschlüsse zur Auswahl für die Kunden gewesen.  \n",
    "<br>\n",
    "<div class=\"alert alert-block alert-success\">\n",
    "<b>Klasse!</b> Du hast gerade die wichtigsten String-Funktionen kennengelernt und angewendet. Mit diesem Wissen kannst du schon eine Menge umsetzen.  \n",
    "<br>\n",
    "\n",
    "Es gibt neben den gezeigten Funktionen noch Funktionen mit einem ganz anderen Datentyp als Rückgabewert. Gerade für komplexere Programme ist dieser Datentyp unverzichtbar. Doch mehr dazu im folgenden Teil ..."
   ]
  },
  {
   "cell_type": "markdown",
   "metadata": {},
   "source": [
    "<div class=\"alert alert-block alert-info\">\n",
    "<h3>Das kannst du dir aus dieser Übung mitnehmen:</h3>\n",
    "\n",
    "* **Die wichtigsten built-in Functions für Strings zusammengefasst:**\n",
    "    * Buchstaben-Umwandlungen\n",
    "        * ``capitalize()``, verwandelt den ersten Buchstaben eines Strings in einen Großbuchstaben - Syntax: <font color = green>str.capitalize()</font>\n",
    "        * ``title()``, wandelt alle Anfangsbuchstaben einzelner Wörter in Großbuchstaben um - Syntax: <font color = green>str.title()</font>\n",
    "        * ``upper()``, wandelt alle Buchstaben in Großbuchstaben um - Syntax: <font color = green>str.upper()</font>\n",
    "        * ``lower()``, wandelt alle Buchstaben in Kleinbuchstaben um - Syntax: <font color = green>str.lower()</font>\n",
    "        * ``swapcase()``, vertauscht alle Großbuchstaben in Kleinbuchstaben und umgekehrt - Syntax: <font color = green>``str.swapcase()``</font>  \n",
    "<br>\n",
    "    * Ersetzen, Teilen, Verbinden von Buchstaben\n",
    "        * ``replace()``, ersetzt einen Character/String mit einem anderen Character/String - Syntax: <font color = green>str.replace('wird ersetzt', 'kommt stattdessen hin')</font>\n",
    "            * optional kannst du mit dem 3. Argument <b>count</b> festlegen, <b>wie oft</b> Zeichen ersetzt werden sollen - Syntax: <font color = green>str.replace('wird ersetzt', 'kommt stattdessen hin', count)</font>\n",
    "        * ``strip()``, entfernt Leerzeichen (oder andere Zeichen wenn zusätzlich angegeben) vom Stringanfang und -ende (Indexangabe ist optional),  - Syntax: <font color = green>strip('optionales Zeichen', ab Startindex, bis vor Endindex)</font>\n",
    "            * ``lstrip()`` entfernt Leer- oder andere Zeichen von links an\n",
    "            * ``rstrip()`` entfernt Leer- oder andere Zeichen von rechts an\n",
    "        * ``str.split()``, splittet alle Zeichen in einzelne Einträge einer Liste; kann mit Wertangabe und maximalem Index, bis vor den gesplittet werden soll, erweitert werden - Syntax: <font color = green>str.split('optionales Zeichen', bis vor optionalen Endindex)</font>\n",
    "        * ``join()``, verbindet/unterbricht Strings/Characters mit einem gewählten Zeichen - Syntax: <font color = green>'Zeichen'.join(String/Liste)</font>\n",
    "            * Klammern können optional um das zu verbindende Zeichen gesetzt werden\n",
    "            * Characters joinen, z.B. so: ``numbers = '123'`` => ``', '.join(numbers)`` => Output: '1, 2, 3' \n",
    "            * Listeneinträge in Form von Strings joinen, z.B. so:\n",
    "                * ``string_list = ['a', 'b', 'c']``\n",
    "                * ``string_list_joined = (', ').join(string_list)`` => Output: 'a, b, c'  \n",
    "<br>\n",
    "    * Zählen von Characters und Strings\n",
    "        * ``len()``, zählt alle Zeichen eines Strings - Syntax: <font color = green>len(str)</font>\n",
    "        * ``count()``, zählt die als Wert festgelegten Zeichen - Syntax: <font color = green>str.count('Zeichen', optionaler Startindex, bis vor optionalen Endindex)</font>  \n",
    "<br>\n",
    "    * Indexe von Zeichen finden\n",
    "        * ``find()``, findet den Startindex von Characters/Zeichen in einem String. Rückgabewert bei nicht findbarem Wert ist **-1** - Syntax: <font color = green>str.find('Index von Zeichen in String finden', optionaler Startindex, bis vor optionalen Endindex)</font>    \n",
    "        * ``index()``, findet den Startindex von Characters/Zeichen in einem String. Rückgabewert bei nicht findbarem Wert ist **ValueError** - Syntax: <font color = green>str.index('Index von Zeichen in String finden', optionaler Startindex, bis vor optionalen Endindex)</font>\n",
    "</div>"
   ]
  }
 ],
 "metadata": {
  "kernelspec": {
   "display_name": "Python 3",
   "language": "python",
   "name": "python3"
  },
  "language_info": {
   "codemirror_mode": {
    "name": "ipython",
    "version": 3
   },
   "file_extension": ".py",
   "mimetype": "text/x-python",
   "name": "python",
   "nbconvert_exporter": "python",
   "pygments_lexer": "ipython3",
   "version": "3.7.3"
  }
 },
 "nbformat": 4,
 "nbformat_minor": 2
}
