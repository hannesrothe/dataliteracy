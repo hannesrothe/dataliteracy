{
 "cells": [
  {
   "cell_type": "markdown",
   "metadata": {},
   "source": [
    "#  3.3 Conditions - Bedingungen\n",
    "\n",
    "## 3.3.4-3.3.6 Else, Elif & Pass\n",
    "\n",
    "Im Anschluss dieser Übungseinheit kannst du ...\n",
    "+ einen Alternativweg zu ``if`` mit ``else`` einschlagen\n",
    "+ ``elif`` zum Festlegen weiterer Bedingungen einsetzen\n",
    "+ Flow-Charts mit 2-3 Verzweigungen lesen\n",
    "+ mit dem Modul random und dessen Submodul randint zufällige Integers generieren"
   ]
  },
  {
   "cell_type": "markdown",
   "metadata": {},
   "source": [
    "## 3.3.4 Else - Sonst\n",
    "\n",
    "Das bisherige Konzept von ``if`` ist durch ``else`` erweiterbar. Mit ``else`` kann eine weitere Verzweigung möglicher Wege eingeschlagen werden. So, wie ``if`` für \"wenn\" steht, steht ``else`` für \"sonst\". Trifft das If-Statement nicht zu (False), wird der Weg über ``else`` gegangen.\n",
    "\n",
    "Beispiel:"
   ]
  },
  {
   "cell_type": "code",
   "execution_count": null,
   "metadata": {},
   "outputs": [],
   "source": [
    "choice = input('Was möchten Sie bestellen? Pizza oder Spaghetti?\\n')\n",
    "pizza_price = 6.5\n",
    "\n",
    "if choice == 'Pizza':\n",
    "    print(f'Eine ausgezeichnete Wahl. Das macht {pizza_price} Euro bitte.')\n",
    "else:\n",
    "    print('Dann gibt es eine Portion Spaghetti für dich. Das macht 7 Euro bitte.')\n",
    "    \n",
    "print('Danke für Ihre Bestellung!')"
   ]
  },
  {
   "cell_type": "markdown",
   "metadata": {},
   "source": [
    "Bei der Ergänzung des If-Statements mit ``else`` ist darauf zu achten, dass auch nach ``else`` ein Doppelpunkt gesetzt wird: ``else:``  \n",
    "Ebenso muss der Code, der beim Eintreffen von ``else`` ausgeführt werden soll, mit 4 Leerzeichen eingerückt werden.  \n",
    "\n",
    "### Allgemeines Flow-Chart zu If und Else \n",
    "<br>\n",
    "\n",
    "<img src=\"files/If-Else.jpg\">     \n",
    "\n",
    "``else`` ist nicht eingerückt, aber der Codeblock nach else muss eingerückt sein, damit dieser ``else`` zugeordnet wird.\n",
    "\n",
    "<br>\n",
    "Es gibt auch eine <b>alternative Schreibweise</b>, die in einer Codezeile erfolgt.  \n",
    "\n",
    "Beispiel:"
   ]
  },
  {
   "cell_type": "code",
   "execution_count": null,
   "metadata": {},
   "outputs": [],
   "source": [
    "x = 100\n",
    "y = 10\n",
    "\n",
    "print('x ist kleiner als y') if x < y else print('x ist größer/gleich y')"
   ]
  },
  {
   "cell_type": "markdown",
   "metadata": {},
   "source": [
    "Diese Schreibweise unterscheidet sich deutlich von der alternativen, einzeiligen Schreibweise des bloßen If-Statements. ``print()`` (bzw. der Teil, der bei einem True des If-Statements ausgeführt werden soll) wird direkt an den Anfang geschrieben. Die If-Bedingung wird **nicht** mit einem Doppelpunkt abgeschlossen. Auf sie folgt direkt das ``else`` mit seinem auszuführenden Code, auch **ohne** Doppelpunkt.  \n",
    "\n",
    "Syntax: <font color = green>\"mach das\" <b>if</b> \"Bedingung True\" <b>else</b> \"mach das\"</font>  \n",
    "\n",
    "<div class=\"alert alert-block alert-warning\">\n",
    "    <font size=\"3\"><b>Übung zu If und Else:</b></font> Das folgende Flow-Chart zeigt den Ablauf eines Quizzes. Schreibe dein erstes eigenes Python-Quiz anhand des dargestellten Control-Flows! Auch hier spielt der genaue Wortlaut der Ausgabe keine Rolle, sondern nur die korrekte Anwendung von <b>if</b> und <b>else</b>. Schreibe das Quiz einmal in einer mehrzeiligen If-Else-Verzweigung und einmal in einer einzeiligen.\n",
    "<br>\n",
    "<img src=\"files/If-Else-Quiz.jpg\">     \n",
    "</div>"
   ]
  },
  {
   "cell_type": "code",
   "execution_count": null,
   "metadata": {},
   "outputs": [],
   "source": []
  },
  {
   "cell_type": "markdown",
   "metadata": {},
   "source": [
    "## 3.3.5 Elif - Sonst Wenn\n",
    "\n",
    "Die bereits kennengelernten Entscheidungswege enden nicht mit ``if`` und ``else``. Ihre Erweiterung ist mit ``elif`` möglich. Die Abkürzung ``elif`` steht für \"else if\", weshalb man das Elif-Statement auch Else-If-Statement nennt.  \n",
    "\n",
    "``elif`` wird **nach** ``if`` und **vor** ``else`` eingesetzt.  \n",
    "\n",
    "Beispiel:"
   ]
  },
  {
   "cell_type": "code",
   "execution_count": null,
   "metadata": {},
   "outputs": [],
   "source": [
    "answer = input('Wie kann User-Input zu einem numerischen Datentyp konvertiert werden?\\\n",
    " Setze die richtige Konvertierungsmöglichkeit\\n direkt vor die Input-Funktion.\\n')\n",
    "\n",
    "if answer == 'int(input())':\n",
    "    print('Das stimmt!')\n",
    "elif answer == 'float(input())':\n",
    "    print('Das stimmt!')\n",
    "else:\n",
    "    print('Das ist leider nicht korrekt.')"
   ]
  },
  {
   "cell_type": "markdown",
   "metadata": {},
   "source": [
    "Auch nach ``elif`` wird ein Doppelpunkt gesetzt. Der bei einem True auszuführende Codeblock wird ebenfalls mit 4 Leerzeichen eingerückt.  Eine alternative einzeilige Schreibweise gibt es für ``elif`` nicht.  \n",
    "<br>\n",
    "**Generell gilt beim Bauen von Entscheidungswegen mit if, elif und else: Die Wege sollten sich untereinander ausschließen und insgesamt alle Möglichkeiten abdecken.**\n",
    "\n",
    "### Allgemeiner Control-Flow  zu If, Elif und Else\n",
    "\n",
    "<img src=\"files/If-Elif-Else.jpg\">  \n",
    "\n",
    "<div class=\"alert alert-block alert-warning\">\n",
    "    <font size=\"3\"><b>Übung zu If, Elif und Else:</b></font> Dein Unternehmen hat einige turbulente Monate hinter sich. Du kennst die neuen Zahlen noch nicht und bist gespannt, ob du Gewinn oder Verlust gemacht hast.  \n",
    "    \n",
    "Deine bisherigen Ausgaben (<b>expenses</b>) liegen bei 30000 Euro. Wie hoch die Einnahmen (<b>revenues</b>) sind, wirst du gleich erfahren.\n",
    "\n",
    "In dieser Übung wurde das Modul <b>random</b> und dessen Submodul <b>randint</b> für zufällig gewählte Integers bereits für dich importiert. Die Zahlen in den Klammern nach <b>randint</b> bestimmen, welche Werte diese annehmen können. In unserem Fall reichen sie von <b>inklusive</b> 0 bis <b>inklusive</b> 60000. Das ist der Bereich, in dem die Höhe deiner Einnahmen liegen wird.  \n",
    "<br>\n",
    "    \n",
    "<b>Deine Aufgabe ist es nun, 3 Unterscheidungen vorzunehmen:</b>\n",
    "\n",
    "1) Hast du einen Gewinn erzielt?\n",
    "\n",
    "2) Hast du Verlust gemacht?\n",
    "\n",
    "3) War es ein Plus-Minus-Nullgeschäft?  \n",
    "\n",
    "Zusätzlich soll zu den Möglichkeiten 1) und 2) ausgegeben werden, wie hoch der Gewinn bzw. der Verlust ist.  \n",
    "\n",
    "Beginne damit, dir den Control-Flow aufzuzeichenen (auf Papier oder mit einem Tool). Du kannst dein Flussdiagramm später mit den Lösungen abgleichen.  \n",
    "\n",
    "(Lass dir zusätzlich die <b>revenues</b> ausgeben, damit du deine Lösung überprüfen kannst.)\n",
    "</div>"
   ]
  },
  {
   "cell_type": "code",
   "execution_count": null,
   "metadata": {},
   "outputs": [],
   "source": [
    "from random import randint\n",
    "\n",
    "revenues = randint(0, 60000)\n",
    "\n",
    "expenses = 30000\n",
    "\n"
   ]
  },
  {
   "cell_type": "markdown",
   "metadata": {},
   "source": [
    "<div class=\"alert alert-block alert-info\">\n",
    "<font size=\"3\"><b>Tipp:</b></font> </b> Klicke zum mehrmaligen Ausführen ein und derselben Code-Zelle <font color = green>Strg</font> plus <font color = green>Enter</font> bzw. auf dem Mac <font color = green>Cmd</font> plus <font color = green>Enter</font>.  \n",
    "\n",
    "So kannst du die sich verändernden Zufallszahlen bei jeder Ausführung sehen.\n",
    "</div>"
   ]
  },
  {
   "cell_type": "markdown",
   "metadata": {},
   "source": [
    "## 3.3.6 Pass - Überspringen\n",
    "\n",
    "Mit dem Pass-Statement ist es möglich, Bedingungen zu überspringen.  \n",
    "\n",
    "Nehmen wir an, du möchtest einen neuen Mitarbeiter einstellen, hast aber eine Aversion gegen den Buchstaben \"Q\". Mit ``pass`` kannst du die Bedingung überspringen, die diesen Buchstaben enthält:"
   ]
  },
  {
   "cell_type": "code",
   "execution_count": null,
   "metadata": {},
   "outputs": [],
   "source": [
    "name = 'Quack'\n",
    "\n",
    "if name[0] == 'Q':\n",
    "    pass\n",
    "else:\n",
    "    print('Sie sind eingestellt')"
   ]
  },
  {
   "cell_type": "markdown",
   "metadata": {},
   "source": [
    "Es wird nichts ausgegeben, da das If-Statement übersprungen wurde und sonst keine Bedingung auf den gesetzten Buchstaben zutrifft.  \n",
    "\n",
    "Wird ein Print-Befehl vor oder nach ``pass`` gesetzt, wird er trotzdem ausgeführt:"
   ]
  },
  {
   "cell_type": "code",
   "execution_count": null,
   "metadata": {},
   "outputs": [],
   "source": [
    "name = 'Quack'\n",
    "\n",
    "if name[0] == 'Q':\n",
    "    pass\n",
    "    print('Was soll passieren?')\n",
    "else:\n",
    "    print('Sie sind eingestellt')"
   ]
  },
  {
   "cell_type": "markdown",
   "metadata": {},
   "source": [
    "Während du programmierst, weißt du vielleicht manchmal noch nicht genau, was beim Zutreffen welcher Bedingung auszuführen ist.  \n",
    "\n",
    "Ohne ``pass`` gibt es dann einen <font color = darkred>Indentation Error</font>, wenn nichts im Ausführungsblock steht:"
   ]
  },
  {
   "cell_type": "code",
   "execution_count": null,
   "metadata": {},
   "outputs": [],
   "source": [
    "name = 'Quack'\n",
    "\n",
    "if name[0] == 'Q':\n",
    "\n",
    "else:\n",
    "    print('Sie sind eingestellt')"
   ]
  },
  {
   "cell_type": "markdown",
   "metadata": {},
   "source": [
    "**Genau das ist der Zweck von pass**: Ausblenden/Überspringen von Code-Blöcken, die gerade nicht gebraucht werden.  \n",
    "\n",
    "``pass`` kann auch für Funktionen verwendet werden, die du später noch kennenlernst."
   ]
  },
  {
   "cell_type": "markdown",
   "metadata": {},
   "source": [
    "<div class=\"alert alert-block alert-success\">\n",
    "    <b>Super!</b> Du kannst dein Programm nun weitere Entscheidungswege mit <b>elif</b> und <b>else</b> laufen lassen sowie Bedingungen mit <b>pass</b> überspringen, die du nicht berücksichtigen möchtest!   \n",
    "<br>\n",
    "    \n",
    "In der folgenden Einheit bauen wir auf dieses Wissen auf, indem du logische Operatoren und multiple Verzweigungen mit mehreren <b>ifs</b> und <b>elifs</b> kennenlernst.\n",
    "</div>"
   ]
  },
  {
   "cell_type": "markdown",
   "metadata": {},
   "source": [
    "<div class=\"alert alert-block alert-info\">\n",
    "<h3>Das kannst du dir aus dieser Übung mitnehmen:</h3>\n",
    "\n",
    "* **Else**\n",
    "    * = sonst, der Alternativweg zu ``if``\n",
    "    * folgt **nicht eingerückt** dem vorangegangenen If-Statement\n",
    "    * folgt bei zwei oder mehr als zwei Bedingungen mit ``if`` und ``elif`` dem Elif-Statement\n",
    "    * Syntax: <font color = green>else:</font>\n",
    "    * alternative Syntax: <font color = green>\"mach das\" <b>if</b> \"Bedingung True\" <b>else</b> \"mach das\"</font>\n",
    "    * der sonst (wenn das If-Statement False ist) auszuführende Code wird mit 4 Leerzeichen eingerückt  \n",
    "<br>\n",
    "* **Elif**\n",
    "    * = sonst wenn\n",
    "    * folgt bei mehr als einer Bedingung **nicht eingerückt** dem If-Statement\n",
    "    * wird mit einer Bedingung verknüpft, Beispiel: ``elif x > y:``\n",
    "    * Syntax: <font color = green>elif \"Bedingung True\":</font>\n",
    "    * bei einem True auszuführender Code wird mit 4 Leerzeichen eingerückt  \n",
    "<br>\n",
    "* **Pass**\n",
    "    * mit ``pass`` können Bedingungen und Funktionen übersprungen werden\n",
    "    * zu platzieren korrekt eingerückt unterhalb der Bedingung/Funktion  \n",
    "<br>\n",
    "* **Modul random**\n",
    "    * enthält das Submodul <b>randint</b> zum Erzeugen zufälliger Integers\n",
    "    * Import über: ``from random import randint``\n",
    "    * Zuweisung der Zufallszahl zu einer Variable: ``random_int = randint(1,10)``\n",
    "    * der in Klammern angegebene Bereich ist inklusive beider Zahlen, wie im oberen Beispiel **inklusive** 1 bis **inklusive** 10\n",
    "</div>"
   ]
  },
  {
   "cell_type": "code",
   "execution_count": null,
   "metadata": {},
   "outputs": [],
   "source": []
  }
 ],
 "metadata": {
  "kernelspec": {
   "display_name": "Python 3",
   "language": "python",
   "name": "python3"
  },
  "language_info": {
   "codemirror_mode": {
    "name": "ipython",
    "version": 3
   },
   "file_extension": ".py",
   "mimetype": "text/x-python",
   "name": "python",
   "nbconvert_exporter": "python",
   "pygments_lexer": "ipython3",
   "version": "3.7.3"
  }
 },
 "nbformat": 4,
 "nbformat_minor": 2
}
