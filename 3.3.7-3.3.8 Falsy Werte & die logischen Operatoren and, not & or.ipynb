{
 "cells": [
  {
   "cell_type": "markdown",
   "metadata": {},
   "source": [
    "#  3.3 Conditions - Bedingungen\n",
    "\n",
    "## 3.3.7-3.3.8 Falsy Werte & die logischen Operatoren and, not & or\n",
    "\n",
    "Im Anschluss dieser Übungseinheit kannst du ...\n",
    "+ falsy Werte von truthy Werten unterscheiden\n",
    "+ falsy Werte für Bedingungen einsetzen\n",
    "+ mit and, not und or mehrere Bedingungen gleichzeitig stellen und diese auch negieren\n",
    "+ mit dem Modul random und dessen Submodul choice ein zufälliges Element aus einer Liste auswählen"
   ]
  },
  {
   "cell_type": "markdown",
   "metadata": {},
   "source": [
    "## 3.3.7 Truthiness & Falsiness\n",
    "\n",
    "Im Zusammenhang mit Conditions ist es notwendig, die Begriffe **True** und **False** sowie **truthy** und **falsy** zu klären. Ohne das Verständnis für diese Begriffe werden dir unerklärliche Outputs oder gar keine Outputs begegnen. Außerdem kannst du mit der Kenntnis über sie Fehler abfangen und sie im Zusammenhang mit ``if`` und Loops (Schleifen, Teil folgender Kapitel) zu deinen Gunsten einsetzen.\n",
    "\n",
    "Ein If-Satement bzw. eine Bedingung im Allgemeinen kann True oder False sein.  \n",
    "\n",
    "Werte, die zu einem True führen, werden als truthy bezeichnet.  \n",
    "Werte, die zu einem False führen, werden als falsy bezeichnet.  \n",
    "\n",
    "Zahlenwerte sind grundsätzlich truthy, einzig **die 0 jedes numerischen Datentyps ist falsy**.  \n",
    "\n",
    "Beispiel:"
   ]
  },
  {
   "cell_type": "code",
   "execution_count": null,
   "metadata": {},
   "outputs": [],
   "source": [
    "number = 0\n",
    "\n",
    "if number:\n",
    "    print(f'Zahlenausgabe: {number}')"
   ]
  },
  {
   "cell_type": "markdown",
   "metadata": {},
   "source": [
    "#### Kannst du dir erklären, warum diese Zelle nicht ausgeführt wird?\n",
    "\n",
    "Unter welcher Bedingung wird das If-Satement ausgeführt?  \n",
    "Wenn es True ist.  \n",
    "\n",
    "0 ist aber keine truthy Zahl. Das gleiche gilt für eine 0 als Float:"
   ]
  },
  {
   "cell_type": "code",
   "execution_count": null,
   "metadata": {},
   "outputs": [],
   "source": [
    "number = 0.0\n",
    "\n",
    "if number:\n",
    "    print(f'Zahlenausgabe: {number}')"
   ]
  },
  {
   "cell_type": "markdown",
   "metadata": {},
   "source": [
    "Ebenso wird auch die 0 des numerischen Datentyps <b>complex</b> nicht zu einer Ausgabe führen: 0j  \n",
    "\n",
    "#### Wofür ist das gut?\n",
    "\n",
    "Nehmen wir an, du hast einen Preis mit 0 initialisiert. Die Initialisierung ist notwendig, damit <b>price</b> von Python für weitere Operationen registriert wird. Der tatsächliche Preis soll erst festgelegt werden, nachdem das Produkt im Sortiment ist:"
   ]
  },
  {
   "cell_type": "code",
   "execution_count": null,
   "metadata": {},
   "outputs": [],
   "source": [
    "price = 0\n",
    "\n",
    "if price > 0:\n",
    "    print(price)\n",
    "else:\n",
    "    print('Das Produkt ist nicht verfügbar.')"
   ]
  },
  {
   "cell_type": "markdown",
   "metadata": {},
   "source": [
    "Da der Preis 0 ist, ist das If-Statement nicht True und der Else-Block wird ausgeführt. So kannst du die falsy 0 verwenden, um Objekte auf default Werte/voreingestellte Werte festzulegen. Mit Conditions kannst du die Defaults dann behandeln.    \n",
    "\n",
    "Strings sind grundsätzlich truthy, **leere Strings sind falsy**.  \n",
    "\n",
    "In dem folgenden Beispiel wird gezeigt, was passiert, wenn ein/e UserIn nichts eingibt und nur Enter drückt. Weil ``input()`` stets einen String erzeugt, ist keine Eingabe ein leerer String:"
   ]
  },
  {
   "cell_type": "code",
   "execution_count": null,
   "metadata": {},
   "outputs": [],
   "source": [
    "choice = input('Was ist deine Lieblingsfarbe?\\n')\n",
    "\n",
    "if choice:\n",
    "    print('Das ist auch meine Lieblingsfarbe.')\n",
    "else:\n",
    "    print('Du hast nichts eingegeben.')\n",
    "\n",
    "choice"
   ]
  },
  {
   "cell_type": "markdown",
   "metadata": {},
   "source": [
    "Ohne den Check darauf, ob <b>choice</b> truthy ist, könnte die fehlende Eingabe zu einem Fehler im Programmablauf führen. Ausgefeiltere Beispiele zur Behandlung unerwünschter Werte werden dir später noch gezeigt.\n",
    "\n",
    "True und False sind Konstanten. Das heißt, ihr Wert ist in Python unveränderlich festgelegt. Eine weitere Konstante ist None. **False und None sind falsy Werte**. Mit None kannst du ebenso den default Wert einer Variablen festlegen, in dem Fall den Wert einer Variablen, die später mal True oder False werden soll.  \n",
    "\n",
    "Das folgende Beispiel könnte man auch kompakter schreiben, doch es soll dir zur Demonstration dienen, wie man Werte auf Defaults setzen und diese dann mit \"echten\" (truthy) Werten belegen kann:"
   ]
  },
  {
   "cell_type": "code",
   "execution_count": null,
   "metadata": {},
   "outputs": [],
   "source": [
    "win = None\n",
    "\n",
    "points = 80\n",
    "\n",
    "if points > 50:\n",
    "    win = True\n",
    "else:\n",
    "    win = False\n",
    "    \n",
    "if win:\n",
    "    print('Du hast gewonnen!')\n",
    "else:\n",
    "    print('Du hast verloren')"
   ]
  },
  {
   "cell_type": "markdown",
   "metadata": {},
   "source": [
    "Gefüllte Objekte sind grundsätzlich truthy, **leere Objekte, wie eine leere Liste, sind falsy**.  \n",
    "\n",
    "Beispiel:"
   ]
  },
  {
   "cell_type": "code",
   "execution_count": null,
   "metadata": {},
   "outputs": [],
   "source": [
    "product_list = []\n",
    "\n",
    "if product_list:\n",
    "    print('Es befinden sich Produkte in dieser Liste.')\n",
    "else:\n",
    "    print('Die Produktliste ist leer.')"
   ]
  },
  {
   "cell_type": "markdown",
   "metadata": {},
   "source": [
    "Weil die Produktliste leer ist, ist das If-Statement nicht True und ``else`` wird ausgeführt. Listen gehören übrigens zu der Gruppe der <b>Collections</b>. Zu Collections gehören auch Dictionarys, Sets und Tuples (gesprochen: \"Tupls\"). Du lernst diese in einem späteren Kapitel kennen, wie auch die Gruppe der <b>Sequences</b> (Zahlenfolgen).  \n",
    "\n",
    "### Übersicht zu falsy Werten:  \n",
    "<br>\n",
    "\n",
    "\n",
    "| Gruppe | <p align=\"left\">falsy-Wert |\n",
    "|----------|-------|\n",
    "| <p align=\"left\">Zahlen | <p align=\"left\">0 (integer) |\n",
    "| <p align=\"left\">| <p align=\"left\">0.0 (float) |\n",
    "| <p align=\"left\">| <p align=\"left\">0j (complex) |\n",
    "| <p align=\"left\">Strings| <p align=\"left\">'&nbsp;' (leerer String)|\n",
    "| <p align=\"left\">| <p align=\"left\">\"&nbsp;\"  (leerer String)|\n",
    "| <p align=\"left\">Konstanten| <p align=\"left\">False|\n",
    "| <p align=\"left\">| <p align=\"left\">None|\n",
    "| <p align=\"left\">Collections| <p align=\"left\">[&nbsp;]  (leere Liste)|\n",
    "| <p align=\"left\">| <p align=\"left\">{} (leeres Dictionary)|\n",
    "| <p align=\"left\">| <p align=\"left\">set(&nbsp;) (leeres Set)|\n",
    "| <p align=\"left\">| <p align=\"left\">(&nbsp;) (leeres Tuple)|\n",
    "| <p align=\"left\">Sequence| <p align=\"left\">range(0) (leere Sequenz)|  \n",
    "    \n",
    "<br>\n",
    "\n",
    "Mit der funktion ``bool()`` kannst du dir ausgeben lassen, ob ein Wert truthy oder falsy ist:  \n",
    "\n",
    "Beispiel:"
   ]
  },
  {
   "cell_type": "code",
   "execution_count": null,
   "metadata": {},
   "outputs": [],
   "source": [
    "bool(0)"
   ]
  },
  {
   "cell_type": "markdown",
   "metadata": {},
   "source": [
    "<div class=\"alert alert-block alert-warning\">\n",
    "    <font size=\"3\"><b>Übung zu Falsy:</b></font> Die <b>test_variable</b> soll mit einem Wert belegt werden, welcher auf Truthiness oder Falsiness getestet wird.  \n",
    "        \n",
    "In der Ausgabe soll erscheinen, ob dieser Wert truthy oder falsy ist. Lass für jede Möglichkeit zusätzlich ausgeben, ob die Test-Variable zu einem True oder False führt (mit <b>bool()</b>).  \n",
    "\n",
    "2 Tipps zur Lösung der Aufgabe findest du weiter unten. Versuch die Aufgabe aber erst auf eigene Faust zu lösen.  \n",
    "<br>\n",
    "\n",
    "\n",
    "**Gewünschte Ausgabe für einen falsy Wert:**  \n",
    "\n",
    "Das ist ein falsy Wert.  \n",
    "\n",
    "bool() ergibt: False\n",
    "\n",
    "</div>"
   ]
  },
  {
   "cell_type": "code",
   "execution_count": null,
   "metadata": {},
   "outputs": [],
   "source": [
    "test_variable = \n",
    "\n"
   ]
  },
  {
   "cell_type": "markdown",
   "metadata": {},
   "source": [
    "<div class=\"alert alert-block alert-warning\">\n",
    "    <font size=\"3\"><b>Tipp 1 zur Aufgabe:</b></font> Erinnere dich daran, dass man Funktionen direkt in F-Strings anwenden kann. Du kannst <b>bool()</b> natürlich auch auslagern.\n",
    "</div>"
   ]
  },
  {
   "cell_type": "markdown",
   "metadata": {},
   "source": [
    "<div class=\"alert alert-block alert-warning\">\n",
    "    <font size=\"3\"><b>Tipp 2 zur Aufgabe:</b></font> Du brauchst <b>bool()</b> hier nicht, um Bedingungen festzulegen. Sieh dir die vorgestellten Beispiele an, um auf die Lösung zu kommen.\n",
    "</div>"
   ]
  },
  {
   "cell_type": "markdown",
   "metadata": {},
   "source": [
    "## 3.3.8 Die logischen Operatoren and, not & or \n",
    "\n",
    "### 3.3.8 a) and\n",
    "\n",
    "Mit ``and`` werden 2 Werte oder Bedingungen verknüft. Sind beide Werte True bzw. treffen beide Bedingungen zu (sind beide True), ist das Ergebnis True, ansonsten False.\n",
    "\n",
    "Beispiele:"
   ]
  },
  {
   "cell_type": "code",
   "execution_count": null,
   "metadata": {},
   "outputs": [],
   "source": [
    "x = True\n",
    "y = False\n",
    "\n",
    "x and y"
   ]
  },
  {
   "cell_type": "code",
   "execution_count": null,
   "metadata": {},
   "outputs": [],
   "source": [
    "x = True\n",
    "y = True\n",
    "\n",
    "x and y"
   ]
  },
  {
   "cell_type": "code",
   "execution_count": null,
   "metadata": {},
   "outputs": [],
   "source": [
    "x = False\n",
    "y = False\n",
    "\n",
    "x and y"
   ]
  },
  {
   "cell_type": "markdown",
   "metadata": {},
   "source": [
    "``and`` kann man einsetzen, um Bedingungen festzulegen.  \n",
    "<br>\n",
    "Beispiel:"
   ]
  },
  {
   "cell_type": "code",
   "execution_count": null,
   "metadata": {},
   "outputs": [],
   "source": [
    "age = 25\n",
    "\n",
    "if age > 18 and age < 68:\n",
    "    print('Sie können für uns arbeiten.')"
   ]
  },
  {
   "cell_type": "markdown",
   "metadata": {},
   "source": [
    "<div class=\"alert alert-block alert-warning\">\n",
    "    <font size=\"3\"><b>Übung zu and:</b></font> Dein/e KundIn möchte nur dann eine Pizza kaufen, wenn ihr Preis zwischen 5-12 Euro liegt. Verwende das Modul <b>randint</b> wie in der vorherigen Einheit, um einen zufälligen Preis zwischen 2-25 Euro als den Wunschpreis deiner/s KundIn zu erhalten. \n",
    "\n",
    "Liegt der Wunschpreis in diesem Bereich, soll es zum Kaufabschluss kommen. Ansonsten soll jeweils ausgegeben werden, dass der Wunschpreis entweder zu hoch oder zu niedrig ist.  \n",
    "\n",
    "Werwende <b>and</b> um den Bereich des Wunschpreises abzudecken.  \n",
    "\n",
    "(Lass dir zur Überprüfung deiner Lösung den zufällig erzeugten Preis ausgeben.)\n",
    "</div>"
   ]
  },
  {
   "cell_type": "code",
   "execution_count": null,
   "metadata": {},
   "outputs": [],
   "source": []
  },
  {
   "cell_type": "code",
   "execution_count": null,
   "metadata": {},
   "outputs": [],
   "source": [
    "from random import randint\n",
    "\n",
    "customer_price = randint(2,25)\n",
    "\n",
    "print(customer_price)\n",
    "\n",
    "if customer_price >= 5 and customer_price <= 12:\n",
    "    print('Die Pizza wird gekauft.')\n",
    "elif customer_price < 5:\n",
    "    print('Der Wunschpreis ist zu niedrig.')\n",
    "else:\n",
    "    print('Der Wunschpreis ist zu hoch')"
   ]
  },
  {
   "cell_type": "markdown",
   "metadata": {},
   "source": [
    "### 3.3.8 b) not\n",
    "\n",
    "``not`` (= nicht) funktioniert ähnlich wie ``!=``. Es checkt, ob ein Wert nicht der Spezifizierung entspricht. \n",
    "\n",
    "Es wird direkt nach ``if`` und ``elif`` platziert.  \n",
    "\n",
    "Beispiele:"
   ]
  },
  {
   "cell_type": "code",
   "execution_count": null,
   "metadata": {},
   "outputs": [],
   "source": [
    "x = 3\n",
    "\n",
    "not x == 4"
   ]
  },
  {
   "cell_type": "code",
   "execution_count": null,
   "metadata": {},
   "outputs": [],
   "source": [
    "income = 3000\n",
    "\n",
    "if not income < 2000:\n",
    "    print('Du verdienst mehr als 2000 Euro.')"
   ]
  },
  {
   "cell_type": "markdown",
   "metadata": {},
   "source": [
    "Der Unterschied zu ``!=`` liegt darin, dass man mit ``not`` größer/kleiner Vergleiche anstellen kann, wie in dem Beispiel mit <b>income</b>. Ob ein Wert einem anderem entspricht, ist mit beiden möglich."
   ]
  },
  {
   "cell_type": "code",
   "execution_count": null,
   "metadata": {},
   "outputs": [],
   "source": [
    "x = 3\n",
    "\n",
    "x != 4"
   ]
  },
  {
   "cell_type": "code",
   "execution_count": null,
   "metadata": {},
   "outputs": [],
   "source": [
    "income = 3000\n",
    "\n",
    "if income != 2000:\n",
    "    print('Du verdienst nicht 2000 Euro.')"
   ]
  },
  {
   "cell_type": "markdown",
   "metadata": {},
   "source": [
    "Man kann über ``not`` Werte verändern, wenn sie nicht der Spezifierung entsprechen. Das wäre auch mit mit den anderen logischen Operatoren und Membership- und Identity-Operators, Funktionen mit boolschen Rückgabewerten sowie ausschließlich (ohne ``not``) den Vergleichsoperatoren möglich. Doch nun wird dir das exemplarisch anhand von ``not`` gezeigt:"
   ]
  },
  {
   "cell_type": "code",
   "execution_count": null,
   "metadata": {},
   "outputs": [],
   "source": [
    "apple_price = 0\n",
    "\n",
    "if not apple_price > 0:\n",
    "    apple_price = 1.5\n",
    "    print('Der Apfelpreis wurde auf 1,50 Euro gesetzt')"
   ]
  },
  {
   "cell_type": "markdown",
   "metadata": {},
   "source": [
    "Eine Erweiterung von ``not`` ist mit ``not in`` gegeben. Es checkt, ob ein Wert nicht in einem anderen enthalten ist (True) oder doch (False). Du hast es bereits in dem Kapitel \"3.2.12 a)  Membership Operators\" kennengelernt.  \n",
    "\n",
    "Wird ``not`` 2 Mal hintereinander eingesetzt, führt es zu einer doppelten Negierung, die sich aufhebt:"
   ]
  },
  {
   "cell_type": "code",
   "execution_count": null,
   "metadata": {},
   "outputs": [],
   "source": [
    "value = True\n",
    "\n",
    "value = not not value\n",
    "\n",
    "print(value)"
   ]
  },
  {
   "cell_type": "markdown",
   "metadata": {},
   "source": [
    "Der Wert bleibt True bei einer doppelten Negierung. Bei einer einfachen wird er verändert:"
   ]
  },
  {
   "cell_type": "code",
   "execution_count": null,
   "metadata": {},
   "outputs": [],
   "source": [
    "value = True\n",
    "\n",
    "value = not value\n",
    "\n",
    "print(value)"
   ]
  },
  {
   "cell_type": "markdown",
   "metadata": {},
   "source": [
    "<div class=\"alert alert-block alert-warning\">\n",
    "    <font size=\"3\"><b>Übung zu not:</b></font> Ist die Zahl gerade oder ungerade?  \n",
    "    \n",
    "In dem Kapitel \"3.1.1 Python als Taschenrechner - Rechenarten\" hast du den Modulo-Operator kennengelernt. Mit ihm kannst du feststellen, ob eine Zahl gerade oder ungerade ist. Eine Zahl ist gerade, wenn sie durch 2 teilbar ist, ohne Rest (in dem Kapitel ist das beschrieben).  \n",
    "\n",
    "Generiere eine zufällige Integer zwischen 0 und 100 und teste, unter dem Einsatz von <b>not</b>, ob sie <b>nicht</b> gerade und folglich ungerade sein muss.  Gib das Testergebnis aus.  \n",
    "\n",
    "(Lass dir zur Überprüfung die Zahl ausgeben.)\n",
    "</div>"
   ]
  },
  {
   "cell_type": "code",
   "execution_count": null,
   "metadata": {},
   "outputs": [],
   "source": []
  },
  {
   "cell_type": "markdown",
   "metadata": {},
   "source": [
    "### 3.3.8 c) or\n",
    "\n",
    "Mit ``or`` (= oder) werden auch 2 Werte oder Bedingungen verknüft. Sind beide Werte True bzw. treffen beide Bedingungen zu (sind beide True), ist das Ergebnis True. Ist nur einer der Werte True, ist das Ergebnis True. Sind beide False, ist das Ergebnis False.\n",
    "\n",
    "Beispiele:"
   ]
  },
  {
   "cell_type": "code",
   "execution_count": null,
   "metadata": {},
   "outputs": [],
   "source": [
    "a = True\n",
    "\n",
    "b = True\n",
    "\n",
    "a or b"
   ]
  },
  {
   "cell_type": "code",
   "execution_count": null,
   "metadata": {},
   "outputs": [],
   "source": [
    "a = True\n",
    "\n",
    "b = False\n",
    "\n",
    "a or b"
   ]
  },
  {
   "cell_type": "code",
   "execution_count": null,
   "metadata": {},
   "outputs": [],
   "source": [
    "a = False\n",
    "\n",
    "b = False\n",
    "\n",
    "a or b"
   ]
  },
  {
   "cell_type": "markdown",
   "metadata": {},
   "source": [
    "<div class=\"alert alert-block alert-warning\">\n",
    "    <font size=\"3\"><b>Übung zu or:</b></font> Du hast eine exemplarische Liste des Möbelhauses \"Gute Laune Möbel\" vorliegen.\n",
    "    \n",
    "Das Modul <b>random</b> wurde bereits für dich importiert, damit mit seinem Submodul <b>choice</b> bzw. dessen Funktion <b>choice()</b> ein Möbelstück zufällig aus dieser Liste ausgewählt wird.  \n",
    "\n",
    "Lass dein Programm ausgeben, ob das Möbelstück entweder ein <b>Sitz-/Liegemöbel</b>, ein <b>Schrank</b> oder ein <b>Tisch</b> ist.  \n",
    "\n",
    "Weiter unten findest du 5 Tipps für diese Aufgabe. Sieh sie dir nur an, wenn du nicht weiter kommst.  \n",
    "<br>\n",
    "\n",
    "<b>Gewünschte Ausgabe für z.B. 'Esstisch':</b>  \n",
    "\n",
    "Das Möbelstück Esstisch ist ein: Tisch.\n",
    "</div>"
   ]
  },
  {
   "cell_type": "code",
   "execution_count": null,
   "metadata": {},
   "outputs": [],
   "source": [
    "from random import choice\n",
    "\n",
    "furniture = choice(['Sofa','Sessel','Küchenschrank','Kleiderschrank','Schreibtisch','Esstisch'])\n",
    "\n"
   ]
  },
  {
   "cell_type": "markdown",
   "metadata": {},
   "source": [
    "<div class=\"alert alert-block alert-warning\">\n",
    "    <font size=\"3\"><b>Tipp 1 zur Aufgabe:</b></font>Sieh dir die Liste an. Von jeder Möbelstücksorte gibt es jeweils 2.\n",
    "</div>"
   ]
  },
  {
   "cell_type": "markdown",
   "metadata": {},
   "source": [
    "<div class=\"alert alert-block alert-warning\">\n",
    "    <font size=\"3\"><b>Tipp 2 zur Aufgabe:</b></font>Zeichne dir den Control-Flow des Programms auf, wenn du nicht weißt, wie du die Bedingungen strukturieren sollst.\n",
    "</div>"
   ]
  },
  {
   "cell_type": "markdown",
   "metadata": {},
   "source": [
    "<div class=\"alert alert-block alert-warning\">\n",
    "    <font size=\"3\"><b>Tipp 3 zur Aufgabe:</b></font>Jeweils 2 Möbelstücke gehören zu einer Möbelstücksorte. Das heißt, du vergleichst die Auswahl durch <b>choice</b> mit 2 Strings. Entspricht die Auswahl diesen beiden Strings?\n",
    "</div>"
   ]
  },
  {
   "cell_type": "markdown",
   "metadata": {},
   "source": [
    "<div class=\"alert alert-block alert-warning\">\n",
    "    <font size=\"3\"><b>Tipp 4 zur Aufgabe:</b></font>Da jeder dieser beiden Vergleiche einer Möbelstück-Kategorie zugeordnet werden kann, muss nur einer der Vergleiche/eine Auswahl zutreffen, um die Ausgabe mit der zugeordneten Kategorie auszulösen. Für die Verknüpfung dieser Vergleiche brauchst du also <b>or</b>.\n",
    "</div>"
   ]
  },
  {
   "cell_type": "markdown",
   "metadata": {},
   "source": [
    "<div class=\"alert alert-block alert-warning\">\n",
    "    <font size=\"3\"><b>Tipp 5 zur Aufgabe:</b></font>Verwende F-Strings zur Formatierung der Ausgabe.\n",
    "</div>"
   ]
  },
  {
   "cell_type": "markdown",
   "metadata": {},
   "source": [
    "### 3.3.8 d) and, not & or in Kombination\n",
    "\n",
    "All diese logischen Operatoren können in Kombination in einem If- oder Elif-Satatement miteinander verwendet werden.  \n",
    "\n",
    "#### and und and\n",
    "In diesem Beispiel kommt es zu einem False, weil False und True ein False ergeben. False und True ergeben auch wieder False:"
   ]
  },
  {
   "cell_type": "code",
   "execution_count": null,
   "metadata": {},
   "outputs": [],
   "source": [
    "(False and True) and True"
   ]
  },
  {
   "cell_type": "markdown",
   "metadata": {},
   "source": [
    "Ohne Klammern kommt es zum gleichen Ergebnis, denn die Vergleiche werden ohnehin von links nach rechts abgearbeitet:"
   ]
  },
  {
   "cell_type": "code",
   "execution_count": null,
   "metadata": {},
   "outputs": [],
   "source": [
    "False and True and True"
   ]
  },
  {
   "cell_type": "markdown",
   "metadata": {},
   "source": [
    "#### or und and\n",
    "True oder False ergibt True, denn nur ein Wert muss bei <b>or</b> truthy sein, um zu einem True zu führen. Ein True und ein False ergeben dann False:  "
   ]
  },
  {
   "cell_type": "code",
   "execution_count": null,
   "metadata": {},
   "outputs": [],
   "source": [
    "(True or False) and False "
   ]
  },
  {
   "cell_type": "markdown",
   "metadata": {},
   "source": [
    "Sind die Klammern anders gesetzt, ist das Ergebnis hier ein anderes, denn False and False ergibt False. True or False ergibt dann True:"
   ]
  },
  {
   "cell_type": "code",
   "execution_count": null,
   "metadata": {},
   "outputs": [],
   "source": [
    "True or (False and False) "
   ]
  },
  {
   "cell_type": "markdown",
   "metadata": {},
   "source": [
    "Was wird das Ergebnis dieses Beispiels sein? Überleg erst, bevor du die Code-Zelle ausführst."
   ]
  },
  {
   "cell_type": "code",
   "execution_count": null,
   "metadata": {},
   "outputs": [],
   "source": [
    "True or False and True"
   ]
  },
  {
   "cell_type": "markdown",
   "metadata": {},
   "source": [
    "Was wird wohl hier herauskommen?"
   ]
  },
  {
   "cell_type": "code",
   "execution_count": null,
   "metadata": {},
   "outputs": [],
   "source": [
    "True and False or True"
   ]
  },
  {
   "cell_type": "markdown",
   "metadata": {},
   "source": [
    "Und hier?"
   ]
  },
  {
   "cell_type": "code",
   "execution_count": null,
   "metadata": {},
   "outputs": [],
   "source": [
    "True or False and True or False"
   ]
  },
  {
   "cell_type": "markdown",
   "metadata": {},
   "source": [
    "#### and und not\n",
    "Was wird hier herauskommen?"
   ]
  },
  {
   "cell_type": "raw",
   "metadata": {},
   "source": [
    "True and not False"
   ]
  },
  {
   "cell_type": "markdown",
   "metadata": {},
   "source": [
    "Das Statement vor <b>and</b> muss True sein, um zu einem True zu führen. Und <b>not</b> fordert das Gegenteil von dem nach ihm folgenden Statement. Die Werte vor und nach ``and`` müssen beide truthy sein, um zu einem True zu führen.  \n",
    "\n",
    "Mit ``not`` kann ein zuvor definiertes If-Statement negiert werden.  \n",
    "\n",
    "In dem unteren Beispiel sollen nur die Kunden einen Bonus erhalten, die entweder zwischen 1 und 10 Punkten durch Einkäufe gesammelt haben (als Ansporn) und die Kunden, die 40 und mehr Punkte gesammelt haben (als Belohnung):"
   ]
  },
  {
   "cell_type": "code",
   "execution_count": null,
   "metadata": {},
   "outputs": [],
   "source": [
    "from random import randint\n",
    "\n",
    "points = randint(1,50)\n",
    "\n",
    "print(points)\n",
    "\n",
    "points1 = 1\n",
    "points10 = 10\n",
    "points40 = 40\n",
    "\n",
    "if points >= points1 and points <= points10 or points >= points40:\n",
    "    print('Sie bekommen einen Bonus')\n",
    "else:\n",
    "    print('Sie bekommen keinen Bonus')"
   ]
  },
  {
   "cell_type": "markdown",
   "metadata": {},
   "source": [
    "Dieses Statement lässt sich durch ``not`` auf einen Schlag ins Gegenteil verkehren, sodass nur die Kunden einen Bonus erhalten, die mehr als 10 und weniger als 40 Punkte gesammelt haben:"
   ]
  },
  {
   "cell_type": "code",
   "execution_count": null,
   "metadata": {},
   "outputs": [],
   "source": [
    "points = randint(1,50)\n",
    "\n",
    "print(points)\n",
    "\n",
    "if not (points >= points1 and points <= points10 or points >= points40):\n",
    "    print('Sie bekommen einen Bonus')\n",
    "else:\n",
    "    print('Sie bekommen keinen Bonus')"
   ]
  },
  {
   "cell_type": "markdown",
   "metadata": {},
   "source": [
    "<div class=\"alert alert-block alert-success\">\n",
    "<b>Toll!</b> Du kennst nun falsy Werte und kannst damit Fehler vermeiden und sie für Bedingungen einsetzen. Außerdem kannst du nun die logischen Operatoren and, not und or einsetzen, um mehrere Bedingungen in einem If- und Elif-Satement festzulegen und Bedingungen zu negieren.  \n",
    "    \n",
    "In der nächsten Einheit lernst du, mehrere Ifs und Elifs  einzusetzen, um weitere Bedingungen zu stellen und Bedingungen zu verschachteln. Damit kannst du den Control-Flow deines Programms verfeinern!\n",
    "</div>"
   ]
  },
  {
   "cell_type": "markdown",
   "metadata": {},
   "source": [
    "<div class=\"alert alert-block alert-info\">\n",
    "<h3>Das kannst du dir aus dieser Übung mitnehmen:</h3>\n",
    "\n",
    "* **True und False versus truthy und falsy**\n",
    "    * Bedingungen können True oder False sein\n",
    "    * Werte, die zu einem True führen, sind truthy\n",
    "    * Werte, die zu einem False führen, sind falsy\n",
    "    * falsy Werte:\n",
    "        * die 0 jedes numerischen Datentyps: 0, 0.0, 0j\n",
    "        * ein leerer String: '&nbsp;' und \"&nbsp;\"\n",
    "        * die Konstanten False und None\n",
    "        * leere Collections, wie eine leere Liste: [&nbsp;]\n",
    "        * eine leere Sequenz: range(0)  \n",
    "<br>\n",
    "* **logische Operatoren**\n",
    "    * liefern ein True oder False\n",
    "    * **and:**\n",
    "        * verknüpft 2 Werte/2 Werte zweier Variablen/2 Bedingungen\n",
    "        * prüft ob **beide True** sind, z.B.: ``if x < 2 and x > 4:``\n",
    "\n",
    "    * **not:**\n",
    "        * prüft, ob eine Bedingung nicht zutrifft/ein Wert **nicht True** ist, z.B.: ``x = 0`` => ``x not True`` => Output: True\n",
    "        * kann eine zuvor gesetzte Beding komplett negieren, z.B.: ``if not (x < 2 and x > 4):``\n",
    "        * 2 nots heben sich auf, z.B.: ``not not True`` => Output: True\n",
    "    * **or:**\n",
    "        * verknüpft 2 Werte/2 Werte zweier Variablen/2 Bedingungen\n",
    "        * prüft ob **mindestens einer der Werte True** ist, z.B.: ``True or False`` => Output: True\n",
    "        * sind beide Werte True, ist das Ergebnis True, sind beide False, ist das Ergebnis False   \n",
    "<br>\n",
    "* **Modul random**\n",
    "    * enthält das Submodul <b>randint</b> zum Erzeugen zufälliger Integers\n",
    "        * Import über: ``from random import randint``\n",
    "        * Zuweisung der Zufallszahl zu einer Variable: ``random_int = randint(1,10)``\n",
    "        * der in Klammern angegebene Bereich ist inklusive beider Zahlen, wie im oberen Beispiel **inklusive** 1 bis **inklusive** 10\n",
    "    * enthält das Submodul <b>choice</b> zur zufälligen Auswahl eines Elements aus einer Liste\n",
    "        * Import über: ``from random import choice``\n",
    "        * über die Funktion ``choice()`` wird ein Listenelement ausgewählt\n",
    "        * Anwendung auf eine Liste: ``random_choice = choice(['A','B','C'])``\n",
    "</div>"
   ]
  }
 ],
 "metadata": {
  "kernelspec": {
   "display_name": "Python 3",
   "language": "python",
   "name": "python3"
  },
  "language_info": {
   "codemirror_mode": {
    "name": "ipython",
    "version": 3
   },
   "file_extension": ".py",
   "mimetype": "text/x-python",
   "name": "python",
   "nbconvert_exporter": "python",
   "pygments_lexer": "ipython3",
   "version": "3.7.3"
  }
 },
 "nbformat": 4,
 "nbformat_minor": 2
}
